{
 "cells": [
  {
   "cell_type": "markdown",
   "metadata": {
    "id": "NhmJc9Q7nyv-"
   },
   "source": [
    "This notebook prepared for Digital Drug Twin Study"
   ]
  },
  {
   "cell_type": "code",
   "execution_count": null,
   "metadata": {
    "colab": {
     "base_uri": "https://localhost:8080/"
    },
    "id": "ar3hfrCunpfj",
    "outputId": "41588b02-da9e-4481-fd33-5c3735d43771"
   },
   "outputs": [
    {
     "name": "stdout",
     "output_type": "stream",
     "text": [
      "Mounted at /content/drive\n"
     ]
    }
   ],
   "source": [
    "from google.colab import drive\n",
    "drive.mount('/content/drive')"
   ]
  },
  {
   "cell_type": "markdown",
   "metadata": {
    "id": "NNHXP5Fen7fG"
   },
   "source": [
    "# Modelling"
   ]
  },
  {
   "cell_type": "code",
   "execution_count": null,
   "metadata": {
    "id": "RUnkQvLyoBmH"
   },
   "outputs": [],
   "source": [
    " # Installing the pykeen\n",
    "%%capture\n",
    "pip install pykeen"
   ]
  },
  {
   "cell_type": "markdown",
   "metadata": {
    "id": "UtTdiQDSqLpX"
   },
   "source": [
    "### R-GCN Preparing the dataset"
   ]
  },
  {
   "cell_type": "code",
   "execution_count": null,
   "metadata": {
    "colab": {
     "base_uri": "https://localhost:8080/"
    },
    "id": "hmp8OIuloSnL",
    "outputId": "85cccb3e-8666-44a3-83ba-79ad56d9cb81"
   },
   "outputs": [
    {
     "name": "stderr",
     "output_type": "stream",
     "text": [
      "INFO:pykeen.utils:Using opt_einsum\n",
      "WARNING:pykeen.utils:using automatically assigned random_state=143578197\n",
      "INFO:pykeen.triples.splitting:done splitting triples to groups of sizes [50435, 7220]\n"
     ]
    }
   ],
   "source": [
    "from pykeen.pipeline import pipeline\n",
    "from pykeen.triples import TriplesFactory\n",
    "import pandas as pd\n",
    "from pykeen.triples import TriplesFactory\n",
    "\n",
    "training_df = pd.read_csv('/content/drive/MyDrive/Digital Twin Study/Mehmet Can/Datasets/positive_dataset.csv')\n",
    "test_df = pd.read_csv('/content/drive/MyDrive/Digital Twin Study/Mehmet Can/Datasets/test_dataset.csv')\n",
    "\n",
    "training_df = training_df[['SUBJECT_CUI', 'PREDICATE', 'OBJECT_CUI']]\n",
    "test_df = test_df[['SUBJECT_CUI', 'PREDICATE', 'OBJECT_CUI']]\n",
    "\n",
    "combined_triples = pd.concat([training_df, test_df]).values\n",
    "\n",
    "combined_factory = TriplesFactory.from_labeled_triples(triples=combined_triples)\n",
    "\n",
    "triples_factory = TriplesFactory.from_labeled_triples(\n",
    "    triples=training_df.values,\n",
    "    entity_to_id=combined_factory.entity_to_id,\n",
    "    relation_to_id=combined_factory.relation_to_id\n",
    ")\n",
    "\n",
    "testing = TriplesFactory.from_labeled_triples(\n",
    "    triples=test_df.values,\n",
    "    entity_to_id=combined_factory.entity_to_id,\n",
    "    relation_to_id=combined_factory.relation_to_id\n",
    ")\n",
    "\n",
    "training, validation = triples_factory.split(ratios=(.9, .1))"
   ]
  },
  {
   "cell_type": "markdown",
   "metadata": {
    "id": "tbTrkfx-qUMN"
   },
   "source": [
    "### R-GCN Modelling"
   ]
  },
  {
   "cell_type": "markdown",
   "metadata": {
    "id": "RfhC6iLDrcjC"
   },
   "source": [
    "#### Layer: 01 - Embedding Dim: 100"
   ]
  },
  {
   "cell_type": "code",
   "execution_count": null,
   "metadata": {
    "colab": {
     "base_uri": "https://localhost:8080/",
     "height": 1000,
     "referenced_widgets": [
      "5ff5b216d1f940d3bed3bff7b3497ded",
      "d6962067e30249e8b6a26b0e382ca312",
      "a140baeda83043e38b2574602724596c",
      "d7fc1725b2204c83b28a34350bd67566",
      "1e214cd7507747558129ef3ebb0e405a",
      "9206b7a9bfc54815983b797492746520",
      "c3b419f279a949ddad445ecc1ea6a3a3",
      "1d9302b9b02d4165a2db7639099131b5",
      "511bcc6d54b247398713517ad2ccaf69",
      "9f937297ea5c47e59086a41ab65980fd",
      "94902a8a922f42b88d278df0b7d80175",
      "e4ffcf1e0c6043c19f82745cae547b9a",
      "75a636d6832a47c2aa27ff85a6b3f556",
      "58600fd2c3474416a7ef6bb076d0b0c6",
      "b9bc6ae06eda4ab8ba5735d5017fdf79",
      "bb6a48da95e9422880d30b1e6fb640a7",
      "cfe9c2509b314eedabec05fa049b2bf4",
      "7495acaa945e4ee5b49e712c8d5921c3",
      "e0cba300950a4bb1b9408cde6594cb69",
      "13d6b8f4c1ad4e21a418b6c2eae8b528",
      "715c18a6a7fa4c16a87937c37f7470fb",
      "5a38b508e3104be19b054ee975c8efd3",
      "d0be2e2f9f3d4816bf4758b186e8280d",
      "91d9eb7c9d844831a591c9728a8ca2c1",
      "7a85c7ad4d624a4fa869f382edc68946",
      "c5bafb2cef614fd09d363fa3b4dfdca8",
      "92aab1d0489c4f38bbf20ff683a474c5",
      "f9a5a563037c4255b258e03c19f06333",
      "4767bd9818124e1b91d30fa8da009f08",
      "5c879b21f6c444d69e0f9fb14a055cb9",
      "25e7de90d62348a29f220b0cbc9a0746",
      "dac33aa85ea24d88b1a9f6f440d42a8a",
      "c9c10849acbb4e52a3517314e80c11a0",
      "f4dccfb479034598a1c9060a3d8d9ae5",
      "f3fc5aa673b748f4bde1e6f216c90573",
      "e3ffcabc2e804205915b1f620cc86798",
      "96f1b289305d43fda25f3c0fb6e28d1b",
      "e652410dc2624f998ec138145b5d8657",
      "6133fb327cb341ff88cf222aea579ff1",
      "4b1195705be84fa9bfe930d98c385567",
      "75fc03203a3a4e8b9b6ca8f7e22b2b19",
      "c4c490f1c3cc4f51924ee253badcd89b",
      "622e5ad47aaf4218aac7606dca3624b6",
      "e7ed372c91a748bcbd1659f743c313ac",
      "fcd4ad31e7374ec5b3a9afea65d30505",
      "59af91cd660e49a183cc2fc66b9ed296",
      "76995d48f419400b8b92ef50615d81c6",
      "65f1084aaef3474db58c585cab8077d4",
      "e2b3db4e9a8f4f888e6f39c573547fe9",
      "cf892b08ef774ceb94f0b94023715cdb",
      "ed86cb5c6e984ba1a93be5d1bf2f7b9f",
      "a2f3c47dc6654ea7a3c4e88fdc253540",
      "3d6ec6648dc64e2a892b1a5cb93d571c",
      "1937be051754435fa61a04d4985ca094",
      "ddefac7d6e5e42bdacf54667513b263b",
      "6b7d9f243bac405c8129058eb2e9448b",
      "1a6d88cc3e054648a1d0f65dfec92adc",
      "d20d517fe3bf427fb72b1efbcca9d26f",
      "9fe13f6ce97a4435baf7dd53da15ea14",
      "1f31354dd1974b9a8192768f210fd55d",
      "8e434a3b280d4796811f216b25c64240",
      "eeeef1fd958c4fb09a55fc3738150fd9",
      "86da0ed990d44b6fa12941da53c55eb4",
      "3d1a2027412544d88131a95dbd3c6e2c",
      "eb4b2832f26b418c9887292dd43b9623",
      "a62b7c2b65fe4caf8175181fc1cd8120",
      "31b6ee936d604e068e0b4efddefabd1e",
      "843e84156bef4cf88c086cadc81862ff",
      "bc1e59eabc36447db7706c59049a3c0d",
      "b2e7a461550041aaa9b27d964b31d26f",
      "8d1111dfafcc4080890ba26c80557f73",
      "84d783d0aa944ed0917b4f1ab1b6d88e",
      "e2a9321538ee4f449c0b11959ec00e5c",
      "2d7ef2059be047078fee0d2f87eb52de",
      "ad8fa37575ba44beace724dffc377fda",
      "26ac51acabc940d38d7511c9a24da9df",
      "cbd884f79f99417fb22396531a5bc8dc",
      "be7203ac843541efb590cd6eaa4b0110",
      "b6ba9a4bcacb486bb44991dbc63aeb36",
      "4799216e87d5409b827f4b346e36996e",
      "96ff4cc8ec0d4333b5f2e13a0a10f826",
      "af04f99f8bee48d7bf27d920609d7cc4",
      "bb545b8ea8164c2297d4f4836d0156ef",
      "7debae1342a24a589015feb93d3a93b5",
      "03e612be2ace4ab4b0e751cd6e07cd8d",
      "d69f5d805f944e66afdeacb430ec5e4f",
      "22b0bd46fd894f948b6831e49a4f5b29",
      "69d4e71f0f2c42e686e27b49f989639d",
      "8285c91cd4a34cc3a77808e150bb7323",
      "6ccc61200f354e7a9b08c42e1016e254",
      "3799a0a69ac94ea69ca81d5dd6bd41d6",
      "907e16f56dce4826a02bc2c2c753e1c7",
      "4f3ea1511c5d4f2a9970284216dfeaef",
      "407373aa33a343c78a2c0eebd45f38ce",
      "395bc3437b4d421aa15bc9654fd04fee",
      "30956ad452c94aa99706906e356cd04a",
      "9df2d27428c64400b4d67e8a6c89906f",
      "883518dd2cb54483abe203c049661882",
      "93d266de836a40deb8e7bc4249ceeb3b",
      "65231eee3f064d1889e229f590339bdf",
      "53a62841b6294155a95e927acb401052",
      "f36a001a3ffc4d4abe99c7c8b6a63436",
      "8c56c2af578a4db1b00457142d56e1d9",
      "180f972dbafb45529e11a5bd312e593a",
      "452b77e014454af0b5a4b49b231d90df",
      "08f5b1d9ab8143929632e0b719b8a6b6",
      "f7f4ed0a97fe4320844cbe57944a61de",
      "30d5773540eb433c9d9cf2ebf662ec5b",
      "56016663c56147c684cac42402ef4ccd",
      "9a6d62b3451c4ab694a579761624dd11",
      "ae6f76dc7d4848129ab39c5657c14de9",
      "ce4780b7fd1d49af92aa42a4402d4222",
      "283dad58c8bb4a8cbfda226d9fe58372",
      "c6a2fe160d77446fb918b32dbba60de6",
      "eccc2388052340b6b4181eb30cb1c20d",
      "b35968f54ec440f7a8ca95d85adff404",
      "d16ef80b86d54bf1a975f9c306797666",
      "6f674fac8bb74b979e01eedcbdeb2ece",
      "2bbb4212cd114bc0821199192d168b66",
      "6adbe50b355c480195aba26075c4baa0",
      "7a2927faf44d499994eadce5ccdbda7b",
      "7f6c42dbab824ab3a703d97b5578597b",
      "ed6bbc2ebe004eefaeaee8333a1ce2f6",
      "571bb561344f4d6da59b4740bb35e559",
      "afc15b8a7b5f4993a9b6bba18ab7465e",
      "617aa5da210b4383af3358e365392c5f",
      "ff76cad7de7245d5ab43a6ce0069ce30",
      "bb8a782da30f47f6aa7abe24b439de43",
      "7a71249a1fc04b2183e4dad89ce6f0b8",
      "92122977c5d24b5ca801a7f68d9174b5",
      "3a950f59d03a4e41b60091c37d0a0023",
      "54eb551aa90a41dc89738046e6687014",
      "10775236d8504cd59aa3c33aff2ed3e0",
      "46f3acbcdb5243dfa832319e9017275c",
      "092e437fe3e54f4d88f8756ee6f0b946",
      "3516fdff8fd84ff097e848c1a7a653c5",
      "8698917031fb4a2c89c16f29c7600999",
      "3cfdae9d6fe94771b4b6c0a3c4cabc00",
      "a6a91f6e1abb4ef6a6e0fdbac02f2db4",
      "9b4e1b7baeae4e2fa67b8fedd188bb25",
      "feacd5ba0ffc44b29f7d3a9b543366e5",
      "8f83cf0c36734ebbbff9aa66bddb52c4",
      "291358343a9b4bd5909adddaff3a2272",
      "817d930e326d425da6d39148f65bba7d",
      "cf265990ee204a9088b88f2fd3a97da8",
      "ed2148d653284ba68cdcf733fd0e7cd0",
      "8b894cf5db7e438b99c877406885b1f8",
      "a8e91ac8cba649d0aca122d3b9260dd3",
      "70adfc255a43466a885fa35026cf56e8",
      "7e072905658f495e94d1c23aa39d59b9",
      "2bcdb1bc795a4bd69bbe941c6c71af20",
      "c3d079b158f3437f82d43dbce099bd99",
      "600a1bbb434a4b1f947ac2147123810a",
      "1515a024ff524de395353c34f7c1de33",
      "b559acc087f44e70a099411b071810cf",
      "52150adedd1e402693800b3ffb54b6f5",
      "ff6acbfba2824fc6bb6442e4d7f6292b",
      "dc2c6f916c2a4774880f123d48489e49",
      "526cb4b39ddc41bfad1696509e20abd4",
      "2af120511a88474eb6b1e75c8e0d7fa3",
      "fc6e57f467df4af48b415a99b369613d",
      "486449b5ee47457aaf9cf0c4e38932bf",
      "78723a114dd44ec3bec8618dbab891ca",
      "b03d11d9913441159d29413a9321e65a",
      "1a7ee0675f25487184c79ea357be1993",
      "c5481fd7bc484b8d9507768f2d13330f",
      "d18afc39026945e2b4136b6831348069",
      "a5e3d9f15f6d4e64b1996e47e68d9009",
      "d04b89fee980476ab5b33af99be4913b",
      "681a241c20fb493db7b227a67441826a",
      "42d0f1a35d7d4e5197bfb1940c5ab614",
      "49ca64a021264695a71ab11eb78a28fd",
      "0a9fd058f13e4f24a757ed49a9f0bb62",
      "044b195481fc4f3a857481687cb04220",
      "26302cfa28a945818db85ad6ed79004b",
      "d4cd8e8f7db64a5f83b4b4d5a82f7469",
      "6b1563639bfb4d8c8effda6f4e6c3196",
      "e7918fef3fb84c87ad1f22113365766e",
      "dd0b1e5d34a4498899973fea7659fec4",
      "cb7c29ffb33a44e38b6af1d0978ab931",
      "a29b6828039b43818f2e1fc3e6c33822",
      "8ace44d0d2394d88a8288194ffdd0810",
      "5025e5ae283a4779ab9fe4945423bb9e",
      "6088232801d3414b914a6329d6fd92f2",
      "f7f2fb66816d4241a8407ee9e57aa044",
      "8358313373bb43e2878f933fa0d62cdc",
      "28ca245a36bc4f05a23f2752683998a3",
      "8ff97db499244658ba065a7e17d6cf86",
      "216b0aa2c25647ef8676cd5971cc0916",
      "6f59ff2dfa3d43ad9eed01adb8088db3",
      "8ae4febfed76489a93eaafec39b8c711",
      "4447a6ad84854b368855599716637320",
      "10e25f96127d4cfe93ee0c5335c3fcbd",
      "bb2cc027a8e74d9e8e09b10bb8840ef2",
      "901c1f3992ac4f35a9cd66e8744a43ea",
      "01a2d7a4135948ab96dca43db4048126",
      "63ffc0f0b76a4060bc50601781569833",
      "4a937ff242924337a67ffbb3051898e8",
      "26eaa63ff7ef422b84c8a5a7e9fabbeb",
      "0a5c68c17ec847709507fd8a12791e3f",
      "6eb5c5e0b4374dc1a9a8a48d2f573573",
      "885d0f3a22a94a27998a182f97076665",
      "686eeb263c3448ea87ef9a0b3a5178a4",
      "5e73304c7bbf4171b94df23fb78a4fe3",
      "2f134cb3aeb74579aab683eabf3037b1",
      "4aa650f8df3543698b0ea2dc00ea13bb",
      "4f4c1061c5c3475895580e09ba918442",
      "3fe557df0cac4b08b706bf11a59f9e70",
      "d42fefe9f8e449f2938748d01307a260",
      "e44be3306439410b8f31cddea4f3e550",
      "723e60eb6e664c26bb0f431b1676f6ab",
      "eacc8fbb894f4f3999b2f1dfef54456d",
      "840ae2b0e71a4852a6049c36bcb3bf1f",
      "b1924ef278db4b3c89c7c4dfc23f3e7c",
      "4f848cb437dd480fb8ec9dbd615d6abd",
      "90518bf84a434f8981f485b5b039040f",
      "59b5515239874ba28ca549704e05aa88",
      "3d673fe06eea4c71a0b27595a067f610",
      "1100b0b8e2354fe4b1531a54b762eaba",
      "c9a31a765913463899b3ec156c3bef1c",
      "58d6751037924210a4c2993bbc959460",
      "6d4c66fba0304d06b1a243960af45d8e",
      "41aac5739ec646bc978652b27bc6f622",
      "46b8a530c42843e5b6f89a36a17266c1",
      "f3d6ea74acd84c72b61882b74eac0dfe",
      "65f3ef88f01241d6a3acddf4f72edac2",
      "1d9260f31e4c462dbdd0797c0602c95e",
      "ace7a78d55264ce2ab35cbe3017563db",
      "bbb4d9a8c5be484888849b99a923f615",
      "0f26492fb4944f42bf3cd9a99d6b1cb4",
      "446a40d3599141b2a75b1bdc86049658",
      "cd5d782793d640c0bdd3b03c5712919b",
      "e4e302bf430e49b2ae0e982446b90da2",
      "24c4c3ef4ae2499c9c0d955aeb9ebe51",
      "b59ebadae8b24216ab644db0ad7afab6",
      "05b9e050e45a4c49b25924fb3db3a55a",
      "85c2ec55f1c64f2b9468589932345544",
      "5b44fd2de9574f989f460386e45b5b61",
      "b4657155b249409784d24a9858227163",
      "d1303e8ff9c34718a58b04b7b06de7b0",
      "bd0e37ece520454eb7c2037f621764ba",
      "863386118ea0471bbf580bdb974048e8",
      "5ad8bed68a8d4836b8522608463ab406",
      "4d38f19c415b4af2969f094c19917423",
      "61a40f8f211347db8dccd29d69add3fb",
      "dd12f8437d5d452a8ce1bf09f2e28bed",
      "4938105257524d6ab98b9328840ba797",
      "e4ac8349a2f24fdfafb46c57b3b0cbf7",
      "f2811dc175cf4aeaafd1e5c85f8dcbd7",
      "36db139f631343b998577e8a3811375a",
      "293ae241d31348ada9c4fda5ae6eb6f4",
      "619277157251402ba152da60f4d62c6f",
      "90f025364f0a4237a3596f5fb6b8810c",
      "5c3d631aad1e49e4819bcb628926a1d3",
      "6cef5492e4f649d58ecbddc027f01664",
      "8cda85cab8e748209c745dcae6584f82",
      "b10ada6cb9d948a2b66e035072ba5d52",
      "74ccda9ab7a64bcdb1163121e2f4ff8b",
      "95eb9abf83e64cfaaf9802d9ce9af995",
      "30a36fcf35f946d4ba636d2fba3d972b",
      "451b173cc70b4b609605d14fc9990ea1",
      "f3194ef094da4fa5b768ea323cb1fcf2",
      "b3c9d70be6ac40e59b78a10f45c43c6b",
      "db9b1ffb801940d383aa02931ef95a92",
      "7c8da3cd01434c02927e91e5745ebecb",
      "7187e9954a5c475aa820f9d52c4a5081",
      "dfc1f6ec674f4b55bde9063fa953420a",
      "0fe80534f6434dd1b45f2e9157944bbd",
      "5897ba476e8c4905ab0181c4b4f45f4c",
      "b04c6dcac1734a38845a8a3e79d997bc",
      "43d26efb97d649e3a673a05a9443f871",
      "ece1b212c3c24f76aa90eb795352aea3",
      "fcd7420cfaed496ba70d805acea9ffcb",
      "34eb433f086a49ae85dea2b901fa480e",
      "097d20d855984c369e144482a24ffb38",
      "6b26c9e0e0294ab1a226dad675d32ec1",
      "99d126f921dd443ba238d8ebd3180d74",
      "fd89302d21364076836bd6170a8c8181",
      "2662e3e001834468b2fcbd4fa0de9f71",
      "6789bcad403f452d9962f78264841af6",
      "3a6ab0c3b67a4c9385df2860e1f12b09",
      "0e34d63630994abcbc5a85c0e8f30d35",
      "815db3813c244164a931a5f97f9105c1",
      "a413bb6b46b04755bd4d220137c3130c",
      "53bbda5294864fb98d8bbfc4bf39ff2f",
      "82cbdcec0e194e2a8b3d85d2368af9c9",
      "4c06fa4b4a1d47d6bcfd43120651c904",
      "4d7dc7aad1ea4803ba335f7d3eb7530b",
      "e9088cdd9ffe400aaaaaeda69220cf65",
      "0f44e28e5371491b96e488eef3f641da",
      "f27eb5c035ce4b2b854909db753691a4",
      "122eda1e9f334d7cb68045f6e1097ebf",
      "af64a540799e4a21ad84b9bca697ffc0",
      "68e6749009c24871960ae1c09b76a4d8",
      "4128ee12abf0408aaedaa9fb543f932a",
      "fe6cbebae9504fe39b6858da429d8746",
      "0ba63faf97c74c0b93cae2b7a628a2a2",
      "bfb1aa8fbec341348484912047c7ab37",
      "efd536f3871c4b78857645574ed08a26",
      "0d9418962bb0434ea573f243d4757921",
      "a084650fd8bf43ce833981ae7982ea24",
      "c370f7ba506d431ea8f752fa1b32e37c",
      "94a7c7b0f1354da49b3950d6d99ebc0b",
      "9d024d67e349433d8c51dea4a6d80438",
      "ed23b9825e874bd8abfeb82a697e1405",
      "a17364983b744538a393cc5a5b354ecb",
      "48ce733b1a9b45ad80c23cf2d74981ac",
      "0c7cbe84d8d14358bf6b5fd0cc0cdc31",
      "f393127bbd8b4c7aa4f1bfe6c001f786",
      "c1e14c6ab1fd4d4aa8d51bdc86fd999b",
      "cf45f19841164ba8977f6409308d9bfe",
      "b408478626e64534ba6c309e77cdfce0",
      "7627d9ea243a4b57b79c67c9750d3260",
      "29ec42855e5c43ad8684fd925ba592af",
      "0a7d685fd7514049951ef7f059529174",
      "81b23140f7794cb788f5dbd4074bc8c7",
      "468ea4f2792c4d2699cf22ed1a8ec53f",
      "4de434419a6045dda4e6c72c780330fb",
      "37a4570df99944bc934ee04ddadfe3a2",
      "a873fb893c0e44f1ab145edbbab38a4c",
      "0c015e91a83949d1b3da73dc195f46f9",
      "63283374054d4e7282f3047260f3ac06",
      "0439462f5e94491382ac0d183e1b1819",
      "3bfc3756ba18460aae97a95c3eeb86f6",
      "3230bbfdf97d4d1298dc6c4bdb25f73f",
      "aace5dfaeec34e6786de4e42080a219d",
      "928f562fb5ef4a6ba9e6337b97f128e5",
      "cfc526e831a548d09a98c96ec3838232",
      "ace8e6d857104cffbae4ef6874ead901",
      "a7bfdd1fd1f54f8e945f89453d712c4f",
      "c77c069cf11947a684c2e7ef5811f42b",
      "465cc274d643494fa7feb27c34147fd6",
      "34339cf52b674ceea08fc0a9df94e58b",
      "5762807f4b174901a0eb548c3d2ef4ea",
      "249e681e620541f3b40f1f27c7588c8f",
      "a2d589a1982a49a895f3506e30722846",
      "fafe3477d6a143c5bff5f07a56401caf",
      "1e3cd685bd014df4b0b769d38207310a",
      "dc01684c918544bb914ccafa31b4eca4",
      "9e404901c416423db075daaff80c83f3",
      "5c219b322d2144b7ab657da153a83ff9",
      "b07b89687d134c2a8b698d782023b04e",
      "d6fdd24489cd4ca68a6b834847400f94",
      "1fad7295f2cf4b75afa95c577ba4a9d8",
      "36a4e64fd7554526b1780c2d5e401730",
      "e8dc645bdecf47e081e6e607ab937f28",
      "dc417cc743bf41e799b5117475dd7c8b",
      "5da5dd9f085a47b0821d847849674850",
      "483c4f11b208416cb5961104b8bbad94",
      "f65c10cada6543428e55d39f9efc2b0d",
      "4d3b7ac95ad54e8194c944243b9ffe5d",
      "ef872b552d024ee59aa6a36c610cbd30",
      "336522453ae7487fab80edcc320952e7",
      "71b927d3368c4921b95c3b48c4113d97",
      "5e734c723d7c41e69d6c246d5134042a",
      "a3851e14b16f4addb61a92479f2e8f06",
      "86080e3a6c8143a48bf74e7082853d28",
      "14f35f7bbc8b455eb034ff9455678a8b",
      "05b0cb2cb18a4a34997ce888b0bd5ed7",
      "92cfe08342e04f1aa9523c62c885abcb",
      "2d5dc3feecbc43039f90dcc656151595",
      "a847501438404a9eb4849b35d9a108cc",
      "e02c2afba4754634891fdcb7f805ccc9",
      "3a0267ccf90041d7836914f7f730d9b8",
      "a8bf5fa1a76345bdb7ad6eba0d43bef9",
      "c0943993fff743c2b7f35550dbc271c7",
      "3b85741798af45868e89142615645250",
      "24d86418244c4b1c8f5c97cf2cba8b22",
      "7dcb74713fb64214813b9bb0b6d6918c",
      "673402cd1b224708b46de83d58827faa",
      "d4447a339b7c404eb7733f9df691f615",
      "3525f3c79003456bb1e05ea3c95891bb",
      "c64f4e13a4bf4866b7b13674f84b3d3c",
      "0c1a68bdcce5424d833c62c826c77309",
      "c25dd3096ab848a9b4c43458f78a078f",
      "52d0f07965b345ea98e2554030374b5a",
      "d1136fb4dcd04309b5699ca8961f5fac",
      "f5f450ed3dcf407d88be2db5fd95a0f2",
      "233ce25792764627a4487bc6c3a1cf92",
      "a19ee9a64ede48ad80608de15026ac2b",
      "512ad14fd7b34087ad69fd3b156e8ef5",
      "27529eeb8a824f5e88a85494199d8507",
      "9984530121fd4aa2a905173476b4c41a",
      "19c8f5df0ac247cfa6c0e8a391ffa9c4",
      "290529ff2f794bf2a0e526ef00fcd20e",
      "7fc94829ee614da195ca0f539346145e",
      "b02e0420f82b44c0a46d6aaf6f09324b",
      "4e4806ff782249ae9802ccee76cc7550",
      "df12ff6dd4eb4da9a334ed1908814fa5",
      "901a330814c847608986f957c551beb0",
      "5fc6a4cfdb904209b77fd11ac0459923",
      "86cb163466c44b1288d5c2b683edf863",
      "9707cc5d0e4445339d0e13b800bc6d64",
      "6247798421604278b66cf847f1a2b18f",
      "30a2e0efbee2449f843491f5aa9a2a0a",
      "45aaab514b8c4bbea7dd71f1ed33326e",
      "3fce0689b7e54eb5a050c227c343ef11",
      "f8b25e9986584a8d8853e27d45e0d428",
      "6bee889638854f62830e01af7f893613",
      "57f97f7cf7234a46b21690f1c7481ddc",
      "18a2f8e009f14bf38b5678b2ded3a077",
      "47ead3ef22104303abe60c6a4675e509",
      "be0ae16b3e444537a9c63fed1767d69e",
      "b13aa55b9bd74f67974070f94a53c9eb",
      "f4f19abbdbea4521b0812cfde2f83c04",
      "2c183b92010b4b12ac614f4c46064348",
      "9666dd41d34142dd9537775deb2f6697",
      "5e238d1dd7ef48c6b53475699400071f",
      "1a04497b43084dc09af03f2af905fc47",
      "6ffda6b68c3a44c699ba1c0b71c2931f",
      "f094fc8eecbd41f8baece26a2e2f307b",
      "81a11db322694f88b107b8bdd5296a6f",
      "956c63f028074250a214b4ab07668127",
      "66b1715d74cc447ea07a451eadbdd90b",
      "7c532e9605aa416dbfcdf9f0c8696e46",
      "99d0f75661d84b91b81c1ea2eb640835",
      "3ae4a0fd093e44ed9a911f868e184f80",
      "6a23b6c04f27455fadc991687f8bf04f",
      "bb94bbf1c28a42639dea2529d14eef38",
      "0a5762fc83724c11a8786d3617c45f2b",
      "80007db5a8854c90ac8405a8f3a08659",
      "cb9e9ba53a0a4fa786e59ed7d47bc26a",
      "1d5378f00b6c4a8195ee596bd9c5bc52",
      "1c3a80f1031c40c3938b275244a9a9be",
      "b11959ce77f2483ea1593cf3b329976a",
      "8f89359123b843fc9f4d406f3b7e3dfd",
      "ad4fe4b3a7d54bcdafe5610657a861cc",
      "5bd86624579c490ca9c3a80983aeeb68",
      "ed542da7b39d42078217f8bc81747f5b",
      "2860bd30ff5d4329802e3b0dbffde10c",
      "102834e491d941eca33adf3ef7ad9485",
      "8b9d1926d18548fc81b9c7fa68791683",
      "c42d96ae113e44cbae16f9fb8e243249",
      "bec11bbab6384c14a1ed8294cba70bfa",
      "025bce4780d247c1bfd5b21e04905a9a",
      "00f5cca32ce740929b74822387847bc2",
      "3210f027dcdf4a05864914d52dc3e46e",
      "b6832d31f35243f9b8e1ea8abc54972b",
      "0147dea466634d17bf2320ec4ddef030",
      "cde502148c7143fbb23f4749a7fce37e",
      "c1ce69b510634e5aae2eb51a57394b50",
      "18e9fb9c23ee42bda1aad3d39fc2e465",
      "dfa0fb3efb8544dd8b58abd866cb5b06",
      "e78179a261de43388234f393ca6f250c",
      "5639b8f50d6a4daaa496830380aca7c1",
      "b75ba4118bf345908c4d9f6b53fad50f",
      "bc433d0e26a1438a87a0a953aeea4ce6",
      "09e72af80dff48958c8984329e68db27",
      "1ab3f68a82834641b06a800f7795e858",
      "b4883aeda60247d0871eef827ca3c458",
      "ed2dd5442b084d2ab47b27a722a55f4c",
      "558c658ff0cf41ee9f569b1ac1268b64",
      "21abdb783d994f8a8e084289bae0cac9",
      "cc258409af9b4fd999013b5083186ce0",
      "84177dbcf30747fe8b71f6b9e95c60fb",
      "81b56163660e46c6aef82e7734a9f095",
      "3d56783820684321a608c0627cbae64f",
      "3a15fffa707e49b69f828cd9972884d0",
      "a44c1139b25b419b99d0834bc7a2a8d9",
      "cefd5780b1ec43a8b177c3839a77f84c",
      "47e854c932e046fa8b5ef993bf1df66f",
      "1650509dabf54bfb94ed075093977af7",
      "71fb7ff729e04cdfbabd84a7cba7d543",
      "0bbc32c51d9040c2b0ba85567fcca3c0",
      "0f0f2199951b48b1b71e4e2d153c9874",
      "c9bd9020a7154331bc9ca244310bd2d5",
      "50be0a252048423b9cecf2de332c7869",
      "e886842b67214a9ebba628d79eed20d8",
      "b118f2ebb1bd415d856f858c68548297",
      "572afebe98c64e8c8dcf3ecf5f5f6f19",
      "5a7ef7ed895a496d9ff8080d47fe7dae",
      "70c274be6785485f813be08dd3026feb",
      "5f68c5a77a6c488f94a6a7818f3c0425"
     ]
    },
    "id": "nLkR5Pdvpum_",
    "outputId": "316508a6-5f90-4f46-f58d-605d7832d4b0"
   },
   "outputs": [
    {
     "name": "stderr",
     "output_type": "stream",
     "text": [
      "WARNING:pykeen.pipeline.api:No random seed is specified. Setting to 591484559.\n",
      "INFO:pykeen.pipeline.api:Using device: None\n",
      "INFO:pykeen.nn.message_passing:No num_bases was provided. Using sqrt(num_relations)=4.\n",
      "INFO:pykeen.nn.message_passing:No num_bases was provided. Using sqrt(num_relations)=4.\n",
      "WARNING:pykeen.nn.message_passing:Layers RGCNLayer(\n",
      "  (fwd): BasesDecomposition(\n",
      "    (relation_representations): LowRankRepresentation(\n",
      "      (bases): Embedding(\n",
      "        (_embeddings): Embedding(4, 10000)\n",
      "      )\n",
      "    )\n",
      "  )\n",
      "  (bwd): BasesDecomposition(\n",
      "    (relation_representations): LowRankRepresentation(\n",
      "      (bases): Embedding(\n",
      "        (_embeddings): Embedding(4, 10000)\n",
      "      )\n",
      "    )\n",
      "  )\n",
      "  (self_loop): Linear(in_features=100, out_features=100, bias=True)\n",
      "  (dropout): Dropout(p=0.2, inplace=False)\n",
      ") has parameters, but no reset_parameters.\n",
      "INFO:pykeen.stoppers.early_stopping:Inferred checkpoint path for best model weights: /root/.data/pykeen/checkpoints/best-model-weights-fd326622-bbd2-4554-9241-1529ee8b4f69.pt\n",
      "WARNING:pykeen.training.training_loop:Using RGCN without graph-based sampling! Please select sampler=\"schlichtkrull\" instead of None.\n",
      "WARNING:pykeen.training.training_loop:Using RGCN without graph-based sampling! Please select sampler=\"schlichtkrull\" instead of None.\n",
      "WARNING:pykeen.nn.message_passing:Layers RGCNLayer(\n",
      "  (fwd): BasesDecomposition(\n",
      "    (relation_representations): LowRankRepresentation(\n",
      "      (bases): Embedding(\n",
      "        (_embeddings): Embedding(4, 10000)\n",
      "      )\n",
      "    )\n",
      "  )\n",
      "  (bwd): BasesDecomposition(\n",
      "    (relation_representations): LowRankRepresentation(\n",
      "      (bases): Embedding(\n",
      "        (_embeddings): Embedding(4, 10000)\n",
      "      )\n",
      "    )\n",
      "  )\n",
      "  (self_loop): Linear(in_features=100, out_features=100, bias=True)\n",
      "  (dropout): Dropout(p=0.2, inplace=False)\n",
      ") has parameters, but no reset_parameters.\n",
      "WARNING:pykeen.nn.message_passing:Layers RGCNLayer(\n",
      "  (fwd): BasesDecomposition(\n",
      "    (relation_representations): LowRankRepresentation(\n",
      "      (bases): Embedding(\n",
      "        (_embeddings): Embedding(4, 10000)\n",
      "      )\n",
      "    )\n",
      "  )\n",
      "  (bwd): BasesDecomposition(\n",
      "    (relation_representations): LowRankRepresentation(\n",
      "      (bases): Embedding(\n",
      "        (_embeddings): Embedding(4, 10000)\n",
      "      )\n",
      "    )\n",
      "  )\n",
      "  (self_loop): Linear(in_features=100, out_features=100, bias=True)\n",
      "  (dropout): Dropout(p=0.2, inplace=False)\n",
      ") has parameters, but no reset_parameters.\n"
     ]
    },
    {
     "data": {
      "application/vnd.jupyter.widget-view+json": {
       "model_id": "5ff5b216d1f940d3bed3bff7b3497ded",
       "version_major": 2,
       "version_minor": 0
      },
      "text/plain": [
       "Training epochs on cuda:0:   0%|          | 0/100 [00:00<?, ?epoch/s]"
      ]
     },
     "metadata": {},
     "output_type": "display_data"
    },
    {
     "data": {
      "application/vnd.jupyter.widget-view+json": {
       "model_id": "e4ffcf1e0c6043c19f82745cae547b9a",
       "version_major": 2,
       "version_minor": 0
      },
      "text/plain": [
       "Training batches on cuda:0:   0%|          | 0/254 [00:00<?, ?batch/s]"
      ]
     },
     "metadata": {},
     "output_type": "display_data"
    },
    {
     "data": {
      "application/vnd.jupyter.widget-view+json": {
       "model_id": "d0be2e2f9f3d4816bf4758b186e8280d",
       "version_major": 2,
       "version_minor": 0
      },
      "text/plain": [
       "Training batches on cuda:0:   0%|          | 0/254 [00:00<?, ?batch/s]"
      ]
     },
     "metadata": {},
     "output_type": "display_data"
    },
    {
     "data": {
      "application/vnd.jupyter.widget-view+json": {
       "model_id": "f4dccfb479034598a1c9060a3d8d9ae5",
       "version_major": 2,
       "version_minor": 0
      },
      "text/plain": [
       "Training batches on cuda:0:   0%|          | 0/254 [00:00<?, ?batch/s]"
      ]
     },
     "metadata": {},
     "output_type": "display_data"
    },
    {
     "data": {
      "application/vnd.jupyter.widget-view+json": {
       "model_id": "fcd4ad31e7374ec5b3a9afea65d30505",
       "version_major": 2,
       "version_minor": 0
      },
      "text/plain": [
       "Training batches on cuda:0:   0%|          | 0/254 [00:00<?, ?batch/s]"
      ]
     },
     "metadata": {},
     "output_type": "display_data"
    },
    {
     "data": {
      "application/vnd.jupyter.widget-view+json": {
       "model_id": "6b7d9f243bac405c8129058eb2e9448b",
       "version_major": 2,
       "version_minor": 0
      },
      "text/plain": [
       "Training batches on cuda:0:   0%|          | 0/254 [00:00<?, ?batch/s]"
      ]
     },
     "metadata": {},
     "output_type": "display_data"
    },
    {
     "data": {
      "application/vnd.jupyter.widget-view+json": {
       "model_id": "31b6ee936d604e068e0b4efddefabd1e",
       "version_major": 2,
       "version_minor": 0
      },
      "text/plain": [
       "Training batches on cuda:0:   0%|          | 0/254 [00:00<?, ?batch/s]"
      ]
     },
     "metadata": {},
     "output_type": "display_data"
    },
    {
     "data": {
      "application/vnd.jupyter.widget-view+json": {
       "model_id": "be7203ac843541efb590cd6eaa4b0110",
       "version_major": 2,
       "version_minor": 0
      },
      "text/plain": [
       "Training batches on cuda:0:   0%|          | 0/254 [00:00<?, ?batch/s]"
      ]
     },
     "metadata": {},
     "output_type": "display_data"
    },
    {
     "data": {
      "application/vnd.jupyter.widget-view+json": {
       "model_id": "8285c91cd4a34cc3a77808e150bb7323",
       "version_major": 2,
       "version_minor": 0
      },
      "text/plain": [
       "Training batches on cuda:0:   0%|          | 0/254 [00:00<?, ?batch/s]"
      ]
     },
     "metadata": {},
     "output_type": "display_data"
    },
    {
     "data": {
      "application/vnd.jupyter.widget-view+json": {
       "model_id": "65231eee3f064d1889e229f590339bdf",
       "version_major": 2,
       "version_minor": 0
      },
      "text/plain": [
       "Training batches on cuda:0:   0%|          | 0/254 [00:00<?, ?batch/s]"
      ]
     },
     "metadata": {},
     "output_type": "display_data"
    },
    {
     "data": {
      "application/vnd.jupyter.widget-view+json": {
       "model_id": "ae6f76dc7d4848129ab39c5657c14de9",
       "version_major": 2,
       "version_minor": 0
      },
      "text/plain": [
       "Training batches on cuda:0:   0%|          | 0/254 [00:00<?, ?batch/s]"
      ]
     },
     "metadata": {},
     "output_type": "display_data"
    },
    {
     "name": "stderr",
     "output_type": "stream",
     "text": [
      "INFO:pykeen.evaluation.evaluator:Evaluation took 2.19s seconds\n",
      "INFO:pykeen.stoppers.early_stopping:New best result at epoch 10: 0.1834487534626039. Saved model weights to /root/.data/pykeen/checkpoints/best-model-weights-fd326622-bbd2-4554-9241-1529ee8b4f69.pt\n",
      "INFO:pykeen.training.training_loop:=> Saved checkpoint after having finished epoch 10.\n"
     ]
    },
    {
     "data": {
      "application/vnd.jupyter.widget-view+json": {
       "model_id": "7f6c42dbab824ab3a703d97b5578597b",
       "version_major": 2,
       "version_minor": 0
      },
      "text/plain": [
       "Training batches on cuda:0:   0%|          | 0/254 [00:00<?, ?batch/s]"
      ]
     },
     "metadata": {},
     "output_type": "display_data"
    },
    {
     "data": {
      "application/vnd.jupyter.widget-view+json": {
       "model_id": "10775236d8504cd59aa3c33aff2ed3e0",
       "version_major": 2,
       "version_minor": 0
      },
      "text/plain": [
       "Training batches on cuda:0:   0%|          | 0/254 [00:00<?, ?batch/s]"
      ]
     },
     "metadata": {},
     "output_type": "display_data"
    },
    {
     "data": {
      "application/vnd.jupyter.widget-view+json": {
       "model_id": "817d930e326d425da6d39148f65bba7d",
       "version_major": 2,
       "version_minor": 0
      },
      "text/plain": [
       "Training batches on cuda:0:   0%|          | 0/254 [00:00<?, ?batch/s]"
      ]
     },
     "metadata": {},
     "output_type": "display_data"
    },
    {
     "data": {
      "application/vnd.jupyter.widget-view+json": {
       "model_id": "b559acc087f44e70a099411b071810cf",
       "version_major": 2,
       "version_minor": 0
      },
      "text/plain": [
       "Training batches on cuda:0:   0%|          | 0/254 [00:00<?, ?batch/s]"
      ]
     },
     "metadata": {},
     "output_type": "display_data"
    },
    {
     "data": {
      "application/vnd.jupyter.widget-view+json": {
       "model_id": "c5481fd7bc484b8d9507768f2d13330f",
       "version_major": 2,
       "version_minor": 0
      },
      "text/plain": [
       "Training batches on cuda:0:   0%|          | 0/254 [00:00<?, ?batch/s]"
      ]
     },
     "metadata": {},
     "output_type": "display_data"
    },
    {
     "data": {
      "application/vnd.jupyter.widget-view+json": {
       "model_id": "6b1563639bfb4d8c8effda6f4e6c3196",
       "version_major": 2,
       "version_minor": 0
      },
      "text/plain": [
       "Training batches on cuda:0:   0%|          | 0/254 [00:00<?, ?batch/s]"
      ]
     },
     "metadata": {},
     "output_type": "display_data"
    },
    {
     "data": {
      "application/vnd.jupyter.widget-view+json": {
       "model_id": "8ff97db499244658ba065a7e17d6cf86",
       "version_major": 2,
       "version_minor": 0
      },
      "text/plain": [
       "Training batches on cuda:0:   0%|          | 0/254 [00:00<?, ?batch/s]"
      ]
     },
     "metadata": {},
     "output_type": "display_data"
    },
    {
     "data": {
      "application/vnd.jupyter.widget-view+json": {
       "model_id": "26eaa63ff7ef422b84c8a5a7e9fabbeb",
       "version_major": 2,
       "version_minor": 0
      },
      "text/plain": [
       "Training batches on cuda:0:   0%|          | 0/254 [00:00<?, ?batch/s]"
      ]
     },
     "metadata": {},
     "output_type": "display_data"
    },
    {
     "data": {
      "application/vnd.jupyter.widget-view+json": {
       "model_id": "e44be3306439410b8f31cddea4f3e550",
       "version_major": 2,
       "version_minor": 0
      },
      "text/plain": [
       "Training batches on cuda:0:   0%|          | 0/254 [00:00<?, ?batch/s]"
      ]
     },
     "metadata": {},
     "output_type": "display_data"
    },
    {
     "data": {
      "application/vnd.jupyter.widget-view+json": {
       "model_id": "58d6751037924210a4c2993bbc959460",
       "version_major": 2,
       "version_minor": 0
      },
      "text/plain": [
       "Training batches on cuda:0:   0%|          | 0/254 [00:00<?, ?batch/s]"
      ]
     },
     "metadata": {},
     "output_type": "display_data"
    },
    {
     "name": "stderr",
     "output_type": "stream",
     "text": [
      "INFO:pykeen.evaluation.evaluator:Evaluation took 2.09s seconds\n",
      "INFO:pykeen.stoppers.early_stopping:New best result at epoch 20: 0.22486149584487536. Saved model weights to /root/.data/pykeen/checkpoints/best-model-weights-fd326622-bbd2-4554-9241-1529ee8b4f69.pt\n",
      "INFO:pykeen.training.training_loop:=> Saved checkpoint after having finished epoch 20.\n"
     ]
    },
    {
     "data": {
      "application/vnd.jupyter.widget-view+json": {
       "model_id": "cd5d782793d640c0bdd3b03c5712919b",
       "version_major": 2,
       "version_minor": 0
      },
      "text/plain": [
       "Training batches on cuda:0:   0%|          | 0/254 [00:00<?, ?batch/s]"
      ]
     },
     "metadata": {},
     "output_type": "display_data"
    },
    {
     "data": {
      "application/vnd.jupyter.widget-view+json": {
       "model_id": "5ad8bed68a8d4836b8522608463ab406",
       "version_major": 2,
       "version_minor": 0
      },
      "text/plain": [
       "Training batches on cuda:0:   0%|          | 0/254 [00:00<?, ?batch/s]"
      ]
     },
     "metadata": {},
     "output_type": "display_data"
    },
    {
     "data": {
      "application/vnd.jupyter.widget-view+json": {
       "model_id": "5c3d631aad1e49e4819bcb628926a1d3",
       "version_major": 2,
       "version_minor": 0
      },
      "text/plain": [
       "Training batches on cuda:0:   0%|          | 0/254 [00:00<?, ?batch/s]"
      ]
     },
     "metadata": {},
     "output_type": "display_data"
    },
    {
     "data": {
      "application/vnd.jupyter.widget-view+json": {
       "model_id": "7c8da3cd01434c02927e91e5745ebecb",
       "version_major": 2,
       "version_minor": 0
      },
      "text/plain": [
       "Training batches on cuda:0:   0%|          | 0/254 [00:00<?, ?batch/s]"
      ]
     },
     "metadata": {},
     "output_type": "display_data"
    },
    {
     "data": {
      "application/vnd.jupyter.widget-view+json": {
       "model_id": "6b26c9e0e0294ab1a226dad675d32ec1",
       "version_major": 2,
       "version_minor": 0
      },
      "text/plain": [
       "Training batches on cuda:0:   0%|          | 0/254 [00:00<?, ?batch/s]"
      ]
     },
     "metadata": {},
     "output_type": "display_data"
    },
    {
     "data": {
      "application/vnd.jupyter.widget-view+json": {
       "model_id": "4c06fa4b4a1d47d6bcfd43120651c904",
       "version_major": 2,
       "version_minor": 0
      },
      "text/plain": [
       "Training batches on cuda:0:   0%|          | 0/254 [00:00<?, ?batch/s]"
      ]
     },
     "metadata": {},
     "output_type": "display_data"
    },
    {
     "data": {
      "application/vnd.jupyter.widget-view+json": {
       "model_id": "bfb1aa8fbec341348484912047c7ab37",
       "version_major": 2,
       "version_minor": 0
      },
      "text/plain": [
       "Training batches on cuda:0:   0%|          | 0/254 [00:00<?, ?batch/s]"
      ]
     },
     "metadata": {},
     "output_type": "display_data"
    },
    {
     "data": {
      "application/vnd.jupyter.widget-view+json": {
       "model_id": "f393127bbd8b4c7aa4f1bfe6c001f786",
       "version_major": 2,
       "version_minor": 0
      },
      "text/plain": [
       "Training batches on cuda:0:   0%|          | 0/254 [00:00<?, ?batch/s]"
      ]
     },
     "metadata": {},
     "output_type": "display_data"
    },
    {
     "data": {
      "application/vnd.jupyter.widget-view+json": {
       "model_id": "a873fb893c0e44f1ab145edbbab38a4c",
       "version_major": 2,
       "version_minor": 0
      },
      "text/plain": [
       "Training batches on cuda:0:   0%|          | 0/254 [00:00<?, ?batch/s]"
      ]
     },
     "metadata": {},
     "output_type": "display_data"
    },
    {
     "data": {
      "application/vnd.jupyter.widget-view+json": {
       "model_id": "c77c069cf11947a684c2e7ef5811f42b",
       "version_major": 2,
       "version_minor": 0
      },
      "text/plain": [
       "Training batches on cuda:0:   0%|          | 0/254 [00:00<?, ?batch/s]"
      ]
     },
     "metadata": {},
     "output_type": "display_data"
    },
    {
     "name": "stderr",
     "output_type": "stream",
     "text": [
      "INFO:pykeen.evaluation.evaluator:Evaluation took 2.11s seconds\n",
      "INFO:pykeen.stoppers.early_stopping:New best result at epoch 30: 0.23767313019390582. Saved model weights to /root/.data/pykeen/checkpoints/best-model-weights-fd326622-bbd2-4554-9241-1529ee8b4f69.pt\n",
      "INFO:pykeen.training.training_loop:=> Saved checkpoint after having finished epoch 30.\n"
     ]
    },
    {
     "data": {
      "application/vnd.jupyter.widget-view+json": {
       "model_id": "b07b89687d134c2a8b698d782023b04e",
       "version_major": 2,
       "version_minor": 0
      },
      "text/plain": [
       "Training batches on cuda:0:   0%|          | 0/254 [00:00<?, ?batch/s]"
      ]
     },
     "metadata": {},
     "output_type": "display_data"
    },
    {
     "data": {
      "application/vnd.jupyter.widget-view+json": {
       "model_id": "336522453ae7487fab80edcc320952e7",
       "version_major": 2,
       "version_minor": 0
      },
      "text/plain": [
       "Training batches on cuda:0:   0%|          | 0/254 [00:00<?, ?batch/s]"
      ]
     },
     "metadata": {},
     "output_type": "display_data"
    },
    {
     "data": {
      "application/vnd.jupyter.widget-view+json": {
       "model_id": "3a0267ccf90041d7836914f7f730d9b8",
       "version_major": 2,
       "version_minor": 0
      },
      "text/plain": [
       "Training batches on cuda:0:   0%|          | 0/254 [00:00<?, ?batch/s]"
      ]
     },
     "metadata": {},
     "output_type": "display_data"
    },
    {
     "data": {
      "application/vnd.jupyter.widget-view+json": {
       "model_id": "c25dd3096ab848a9b4c43458f78a078f",
       "version_major": 2,
       "version_minor": 0
      },
      "text/plain": [
       "Training batches on cuda:0:   0%|          | 0/254 [00:00<?, ?batch/s]"
      ]
     },
     "metadata": {},
     "output_type": "display_data"
    },
    {
     "data": {
      "application/vnd.jupyter.widget-view+json": {
       "model_id": "7fc94829ee614da195ca0f539346145e",
       "version_major": 2,
       "version_minor": 0
      },
      "text/plain": [
       "Training batches on cuda:0:   0%|          | 0/254 [00:00<?, ?batch/s]"
      ]
     },
     "metadata": {},
     "output_type": "display_data"
    },
    {
     "data": {
      "application/vnd.jupyter.widget-view+json": {
       "model_id": "3fce0689b7e54eb5a050c227c343ef11",
       "version_major": 2,
       "version_minor": 0
      },
      "text/plain": [
       "Training batches on cuda:0:   0%|          | 0/254 [00:00<?, ?batch/s]"
      ]
     },
     "metadata": {},
     "output_type": "display_data"
    },
    {
     "data": {
      "application/vnd.jupyter.widget-view+json": {
       "model_id": "5e238d1dd7ef48c6b53475699400071f",
       "version_major": 2,
       "version_minor": 0
      },
      "text/plain": [
       "Training batches on cuda:0:   0%|          | 0/254 [00:00<?, ?batch/s]"
      ]
     },
     "metadata": {},
     "output_type": "display_data"
    },
    {
     "data": {
      "application/vnd.jupyter.widget-view+json": {
       "model_id": "bb94bbf1c28a42639dea2529d14eef38",
       "version_major": 2,
       "version_minor": 0
      },
      "text/plain": [
       "Training batches on cuda:0:   0%|          | 0/254 [00:00<?, ?batch/s]"
      ]
     },
     "metadata": {},
     "output_type": "display_data"
    },
    {
     "data": {
      "application/vnd.jupyter.widget-view+json": {
       "model_id": "2860bd30ff5d4329802e3b0dbffde10c",
       "version_major": 2,
       "version_minor": 0
      },
      "text/plain": [
       "Training batches on cuda:0:   0%|          | 0/254 [00:00<?, ?batch/s]"
      ]
     },
     "metadata": {},
     "output_type": "display_data"
    },
    {
     "data": {
      "application/vnd.jupyter.widget-view+json": {
       "model_id": "c1ce69b510634e5aae2eb51a57394b50",
       "version_major": 2,
       "version_minor": 0
      },
      "text/plain": [
       "Training batches on cuda:0:   0%|          | 0/254 [00:00<?, ?batch/s]"
      ]
     },
     "metadata": {},
     "output_type": "display_data"
    },
    {
     "name": "stderr",
     "output_type": "stream",
     "text": [
      "INFO:pykeen.evaluation.evaluator:Evaluation took 2.24s seconds\n"
     ]
    },
    {
     "data": {
      "application/vnd.jupyter.widget-view+json": {
       "model_id": "558c658ff0cf41ee9f569b1ac1268b64",
       "version_major": 2,
       "version_minor": 0
      },
      "text/plain": [
       "Training batches on cuda:0:   0%|          | 0/254 [00:00<?, ?batch/s]"
      ]
     },
     "metadata": {},
     "output_type": "display_data"
    },
    {
     "data": {
      "application/vnd.jupyter.widget-view+json": {
       "model_id": "71fb7ff729e04cdfbabd84a7cba7d543",
       "version_major": 2,
       "version_minor": 0
      },
      "text/plain": [
       "Training batches on cuda:0:   0%|          | 0/254 [00:00<?, ?batch/s]"
      ]
     },
     "metadata": {},
     "output_type": "display_data"
    },
    {
     "ename": "KeyboardInterrupt",
     "evalue": "",
     "output_type": "error",
     "traceback": [
      "\u001b[0;31m---------------------------------------------------------------------------\u001b[0m",
      "\u001b[0;31mKeyboardInterrupt\u001b[0m                         Traceback (most recent call last)",
      "\u001b[0;32m<ipython-input-4-3c23474ed5f8>\u001b[0m in \u001b[0;36m<cell line: 1>\u001b[0;34m()\u001b[0m\n\u001b[0;32m----> 1\u001b[0;31m result = pipeline(\n\u001b[0m\u001b[1;32m      2\u001b[0m     \u001b[0mtraining\u001b[0m\u001b[0;34m=\u001b[0m\u001b[0mtraining\u001b[0m\u001b[0;34m,\u001b[0m\u001b[0;34m\u001b[0m\u001b[0;34m\u001b[0m\u001b[0m\n\u001b[1;32m      3\u001b[0m     \u001b[0mtesting\u001b[0m\u001b[0;34m=\u001b[0m\u001b[0mtesting\u001b[0m\u001b[0;34m,\u001b[0m\u001b[0;34m\u001b[0m\u001b[0;34m\u001b[0m\u001b[0m\n\u001b[1;32m      4\u001b[0m     \u001b[0mvalidation\u001b[0m\u001b[0;34m=\u001b[0m\u001b[0mvalidation\u001b[0m\u001b[0;34m,\u001b[0m\u001b[0;34m\u001b[0m\u001b[0;34m\u001b[0m\u001b[0m\n\u001b[1;32m      5\u001b[0m     \u001b[0mmodel\u001b[0m\u001b[0;34m=\u001b[0m\u001b[0;34m'RGCN'\u001b[0m\u001b[0;34m,\u001b[0m  \u001b[0;31m# Specify RGCN model\u001b[0m\u001b[0;34m\u001b[0m\u001b[0;34m\u001b[0m\u001b[0m\n",
      "\u001b[0;32m/usr/local/lib/python3.10/dist-packages/pykeen/pipeline/api.py\u001b[0m in \u001b[0;36mpipeline\u001b[0;34m(dataset, dataset_kwargs, training, testing, validation, evaluation_entity_whitelist, evaluation_relation_whitelist, model, model_kwargs, interaction, interaction_kwargs, dimensions, loss, loss_kwargs, regularizer, regularizer_kwargs, optimizer, optimizer_kwargs, clear_optimizer, lr_scheduler, lr_scheduler_kwargs, training_loop, training_loop_kwargs, negative_sampler, negative_sampler_kwargs, epochs, training_kwargs, stopper, stopper_kwargs, evaluator, evaluator_kwargs, evaluation_kwargs, result_tracker, result_tracker_kwargs, metadata, device, random_seed, use_testing_data, evaluation_fallback, filter_validation_when_testing, use_tqdm)\u001b[0m\n\u001b[1;32m   1538\u001b[0m     )\n\u001b[1;32m   1539\u001b[0m \u001b[0;34m\u001b[0m\u001b[0m\n\u001b[0;32m-> 1540\u001b[0;31m     stopper_instance, configuration, losses, train_seconds = _handle_training(\n\u001b[0m\u001b[1;32m   1541\u001b[0m         \u001b[0m_result_tracker\u001b[0m\u001b[0;34m=\u001b[0m\u001b[0m_result_tracker\u001b[0m\u001b[0;34m,\u001b[0m\u001b[0;34m\u001b[0m\u001b[0;34m\u001b[0m\u001b[0m\n\u001b[1;32m   1542\u001b[0m         \u001b[0mtraining\u001b[0m\u001b[0;34m=\u001b[0m\u001b[0mtraining\u001b[0m\u001b[0;34m,\u001b[0m\u001b[0;34m\u001b[0m\u001b[0;34m\u001b[0m\u001b[0m\n",
      "\u001b[0;32m/usr/local/lib/python3.10/dist-packages/pykeen/pipeline/api.py\u001b[0m in \u001b[0;36m_handle_training\u001b[0;34m(_result_tracker, training, validation, model_instance, evaluator_instance, training_loop_instance, clear_optimizer, evaluation_kwargs, epochs, training_kwargs, stopper, stopper_kwargs, use_tqdm)\u001b[0m\n\u001b[1;32m   1179\u001b[0m     \u001b[0;31m# Train like Cristiano Ronaldo\u001b[0m\u001b[0;34m\u001b[0m\u001b[0;34m\u001b[0m\u001b[0m\n\u001b[1;32m   1180\u001b[0m     \u001b[0mtraining_start_time\u001b[0m \u001b[0;34m=\u001b[0m \u001b[0mtime\u001b[0m\u001b[0;34m.\u001b[0m\u001b[0mtime\u001b[0m\u001b[0;34m(\u001b[0m\u001b[0;34m)\u001b[0m\u001b[0;34m\u001b[0m\u001b[0;34m\u001b[0m\u001b[0m\n\u001b[0;32m-> 1181\u001b[0;31m     losses = training_loop_instance.train(\n\u001b[0m\u001b[1;32m   1182\u001b[0m         \u001b[0mtriples_factory\u001b[0m\u001b[0;34m=\u001b[0m\u001b[0mtraining\u001b[0m\u001b[0;34m,\u001b[0m\u001b[0;34m\u001b[0m\u001b[0;34m\u001b[0m\u001b[0m\n\u001b[1;32m   1183\u001b[0m         \u001b[0mstopper\u001b[0m\u001b[0;34m=\u001b[0m\u001b[0mstopper_instance\u001b[0m\u001b[0;34m,\u001b[0m\u001b[0;34m\u001b[0m\u001b[0;34m\u001b[0m\u001b[0m\n",
      "\u001b[0;32m/usr/local/lib/python3.10/dist-packages/pykeen/training/training_loop.py\u001b[0m in \u001b[0;36mtrain\u001b[0;34m(self, triples_factory, num_epochs, batch_size, slice_size, label_smoothing, sampler, continue_training, only_size_probing, use_tqdm, use_tqdm_batch, tqdm_kwargs, stopper, sub_batch_size, num_workers, clear_optimizer, checkpoint_directory, checkpoint_name, checkpoint_frequency, checkpoint_on_failure, drop_last, callbacks, callbacks_kwargs, gradient_clipping_max_norm, gradient_clipping_norm_type, gradient_clipping_max_abs_value, pin_memory)\u001b[0m\n\u001b[1;32m    392\u001b[0m                     \u001b[0mbest_epoch_model_file_path\u001b[0m \u001b[0;34m=\u001b[0m \u001b[0mpathlib\u001b[0m\u001b[0;34m.\u001b[0m\u001b[0mPath\u001b[0m\u001b[0;34m(\u001b[0m\u001b[0mtemporary_directory\u001b[0m\u001b[0;34m)\u001b[0m\u001b[0;34m.\u001b[0m\u001b[0mjoinpath\u001b[0m\u001b[0;34m(\u001b[0m\u001b[0;34m\"best_model.pt\"\u001b[0m\u001b[0;34m)\u001b[0m\u001b[0;34m\u001b[0m\u001b[0;34m\u001b[0m\u001b[0m\n\u001b[1;32m    393\u001b[0m \u001b[0;34m\u001b[0m\u001b[0m\n\u001b[0;32m--> 394\u001b[0;31m                 result = self._train(\n\u001b[0m\u001b[1;32m    395\u001b[0m                     \u001b[0mnum_epochs\u001b[0m\u001b[0;34m=\u001b[0m\u001b[0mnum_epochs\u001b[0m\u001b[0;34m,\u001b[0m\u001b[0;34m\u001b[0m\u001b[0;34m\u001b[0m\u001b[0m\n\u001b[1;32m    396\u001b[0m                     \u001b[0mbatch_size\u001b[0m\u001b[0;34m=\u001b[0m\u001b[0mbatch_size\u001b[0m\u001b[0;34m,\u001b[0m\u001b[0;34m\u001b[0m\u001b[0;34m\u001b[0m\u001b[0m\n",
      "\u001b[0;32m/usr/local/lib/python3.10/dist-packages/pykeen/training/training_loop.py\u001b[0m in \u001b[0;36m_train\u001b[0;34m(self, triples_factory, num_epochs, batch_size, slice_size, label_smoothing, sampler, continue_training, only_size_probing, use_tqdm, use_tqdm_batch, tqdm_kwargs, stopper, sub_batch_size, num_workers, save_checkpoints, checkpoint_path, checkpoint_frequency, checkpoint_on_failure_file_path, best_epoch_model_file_path, last_best_epoch, drop_last, callbacks, callbacks_kwargs, gradient_clipping_max_norm, gradient_clipping_norm_type, gradient_clipping_max_abs_value, pin_memory)\u001b[0m\n\u001b[1;32m    725\u001b[0m                     \u001b[0mbatches\u001b[0m \u001b[0;34m=\u001b[0m \u001b[0mtrain_data_loader\u001b[0m\u001b[0;34m\u001b[0m\u001b[0;34m\u001b[0m\u001b[0m\n\u001b[1;32m    726\u001b[0m \u001b[0;34m\u001b[0m\u001b[0m\n\u001b[0;32m--> 727\u001b[0;31m                 epoch_loss = self._train_epoch(\n\u001b[0m\u001b[1;32m    728\u001b[0m                     \u001b[0mbatches\u001b[0m\u001b[0;34m=\u001b[0m\u001b[0mbatches\u001b[0m\u001b[0;34m,\u001b[0m\u001b[0;34m\u001b[0m\u001b[0;34m\u001b[0m\u001b[0m\n\u001b[1;32m    729\u001b[0m                     \u001b[0mcallbacks\u001b[0m\u001b[0;34m=\u001b[0m\u001b[0mcallback\u001b[0m\u001b[0;34m,\u001b[0m\u001b[0;34m\u001b[0m\u001b[0;34m\u001b[0m\u001b[0m\n",
      "\u001b[0;32m/usr/local/lib/python3.10/dist-packages/pykeen/training/training_loop.py\u001b[0m in \u001b[0;36m_train_epoch\u001b[0;34m(self, batches, callbacks, sub_batch_size, label_smoothing, slice_size, epoch, only_size_probing, backward)\u001b[0m\n\u001b[1;32m    485\u001b[0m \u001b[0;34m\u001b[0m\u001b[0m\n\u001b[1;32m    486\u001b[0m                 \u001b[0;31m# forward pass call\u001b[0m\u001b[0;34m\u001b[0m\u001b[0;34m\u001b[0m\u001b[0m\n\u001b[0;32m--> 487\u001b[0;31m                 batch_loss = self._forward_pass(\n\u001b[0m\u001b[1;32m    488\u001b[0m                     \u001b[0mbatch\u001b[0m\u001b[0;34m,\u001b[0m\u001b[0;34m\u001b[0m\u001b[0;34m\u001b[0m\u001b[0m\n\u001b[1;32m    489\u001b[0m                     \u001b[0mstart\u001b[0m\u001b[0;34m,\u001b[0m\u001b[0;34m\u001b[0m\u001b[0;34m\u001b[0m\u001b[0m\n",
      "\u001b[0;32m/usr/local/lib/python3.10/dist-packages/pykeen/training/training_loop.py\u001b[0m in \u001b[0;36m_forward_pass\u001b[0;34m(self, batch, start, stop, current_batch_size, label_smoothing, slice_size, backward)\u001b[0m\n\u001b[1;32m    859\u001b[0m     ) -> float:\n\u001b[1;32m    860\u001b[0m         \u001b[0;31m# forward pass\u001b[0m\u001b[0;34m\u001b[0m\u001b[0;34m\u001b[0m\u001b[0m\n\u001b[0;32m--> 861\u001b[0;31m         loss = self._process_batch(\n\u001b[0m\u001b[1;32m    862\u001b[0m             \u001b[0mbatch\u001b[0m\u001b[0;34m=\u001b[0m\u001b[0mbatch\u001b[0m\u001b[0;34m,\u001b[0m\u001b[0;34m\u001b[0m\u001b[0;34m\u001b[0m\u001b[0m\n\u001b[1;32m    863\u001b[0m             \u001b[0mstart\u001b[0m\u001b[0;34m=\u001b[0m\u001b[0mstart\u001b[0m\u001b[0;34m,\u001b[0m\u001b[0;34m\u001b[0m\u001b[0;34m\u001b[0m\u001b[0m\n",
      "\u001b[0;32m/usr/local/lib/python3.10/dist-packages/pykeen/training/slcwa.py\u001b[0m in \u001b[0;36m_process_batch\u001b[0;34m(self, batch, start, stop, label_smoothing, slice_size)\u001b[0m\n\u001b[1;32m    130\u001b[0m         \u001b[0mslice_size\u001b[0m\u001b[0;34m:\u001b[0m \u001b[0mOptional\u001b[0m\u001b[0;34m[\u001b[0m\u001b[0mint\u001b[0m\u001b[0;34m]\u001b[0m \u001b[0;34m=\u001b[0m \u001b[0;32mNone\u001b[0m\u001b[0;34m,\u001b[0m\u001b[0;34m\u001b[0m\u001b[0;34m\u001b[0m\u001b[0m\n\u001b[1;32m    131\u001b[0m     ) -> FloatTensor:  # noqa: D102\n\u001b[0;32m--> 132\u001b[0;31m         return self._process_batch_static(\n\u001b[0m\u001b[1;32m    133\u001b[0m             \u001b[0mmodel\u001b[0m\u001b[0;34m=\u001b[0m\u001b[0mself\u001b[0m\u001b[0;34m.\u001b[0m\u001b[0mmodel\u001b[0m\u001b[0;34m,\u001b[0m\u001b[0;34m\u001b[0m\u001b[0;34m\u001b[0m\u001b[0m\n\u001b[1;32m    134\u001b[0m             \u001b[0mloss\u001b[0m\u001b[0;34m=\u001b[0m\u001b[0mself\u001b[0m\u001b[0;34m.\u001b[0m\u001b[0mloss\u001b[0m\u001b[0;34m,\u001b[0m\u001b[0;34m\u001b[0m\u001b[0;34m\u001b[0m\u001b[0m\n",
      "\u001b[0;32m/usr/local/lib/python3.10/dist-packages/pykeen/training/slcwa.py\u001b[0m in \u001b[0;36m_process_batch_static\u001b[0;34m(model, loss, mode, batch, start, stop, label_smoothing, slice_size)\u001b[0m\n\u001b[1;32m    107\u001b[0m \u001b[0;34m\u001b[0m\u001b[0m\n\u001b[1;32m    108\u001b[0m         \u001b[0;31m# Compute negative and positive scores\u001b[0m\u001b[0;34m\u001b[0m\u001b[0;34m\u001b[0m\u001b[0m\n\u001b[0;32m--> 109\u001b[0;31m         \u001b[0mpositive_scores\u001b[0m \u001b[0;34m=\u001b[0m \u001b[0mmodel\u001b[0m\u001b[0;34m.\u001b[0m\u001b[0mscore_hrt\u001b[0m\u001b[0;34m(\u001b[0m\u001b[0mpositive_batch\u001b[0m\u001b[0;34m,\u001b[0m \u001b[0mmode\u001b[0m\u001b[0;34m=\u001b[0m\u001b[0mmode\u001b[0m\u001b[0;34m)\u001b[0m\u001b[0;34m\u001b[0m\u001b[0;34m\u001b[0m\u001b[0m\n\u001b[0m\u001b[1;32m    110\u001b[0m         \u001b[0mnegative_scores\u001b[0m \u001b[0;34m=\u001b[0m \u001b[0mmodel\u001b[0m\u001b[0;34m.\u001b[0m\u001b[0mscore_hrt\u001b[0m\u001b[0;34m(\u001b[0m\u001b[0mnegative_batch\u001b[0m\u001b[0;34m,\u001b[0m \u001b[0mmode\u001b[0m\u001b[0;34m=\u001b[0m\u001b[0mmode\u001b[0m\u001b[0;34m)\u001b[0m\u001b[0;34m.\u001b[0m\u001b[0mview\u001b[0m\u001b[0;34m(\u001b[0m\u001b[0;34m*\u001b[0m\u001b[0mnegative_score_shape\u001b[0m\u001b[0;34m)\u001b[0m\u001b[0;34m\u001b[0m\u001b[0;34m\u001b[0m\u001b[0m\n\u001b[1;32m    111\u001b[0m \u001b[0;34m\u001b[0m\u001b[0m\n",
      "\u001b[0;32m/usr/local/lib/python3.10/dist-packages/pykeen/models/nbase.py\u001b[0m in \u001b[0;36mscore_hrt\u001b[0;34m(self, hrt_batch, mode)\u001b[0m\n\u001b[1;32m    468\u001b[0m         \u001b[0;31m# Note: we do not delegate to the general method for performance reasons\u001b[0m\u001b[0;34m\u001b[0m\u001b[0;34m\u001b[0m\u001b[0m\n\u001b[1;32m    469\u001b[0m         \u001b[0;31m# Note: repetition is not necessary here\u001b[0m\u001b[0;34m\u001b[0m\u001b[0;34m\u001b[0m\u001b[0m\n\u001b[0;32m--> 470\u001b[0;31m         \u001b[0mh\u001b[0m\u001b[0;34m,\u001b[0m \u001b[0mr\u001b[0m\u001b[0;34m,\u001b[0m \u001b[0mt\u001b[0m \u001b[0;34m=\u001b[0m \u001b[0mself\u001b[0m\u001b[0;34m.\u001b[0m\u001b[0m_get_representations\u001b[0m\u001b[0;34m(\u001b[0m\u001b[0mh\u001b[0m\u001b[0;34m=\u001b[0m\u001b[0mhrt_batch\u001b[0m\u001b[0;34m[\u001b[0m\u001b[0;34m:\u001b[0m\u001b[0;34m,\u001b[0m \u001b[0;36m0\u001b[0m\u001b[0;34m]\u001b[0m\u001b[0;34m,\u001b[0m \u001b[0mr\u001b[0m\u001b[0;34m=\u001b[0m\u001b[0mhrt_batch\u001b[0m\u001b[0;34m[\u001b[0m\u001b[0;34m:\u001b[0m\u001b[0;34m,\u001b[0m \u001b[0;36m1\u001b[0m\u001b[0;34m]\u001b[0m\u001b[0;34m,\u001b[0m \u001b[0mt\u001b[0m\u001b[0;34m=\u001b[0m\u001b[0mhrt_batch\u001b[0m\u001b[0;34m[\u001b[0m\u001b[0;34m:\u001b[0m\u001b[0;34m,\u001b[0m \u001b[0;36m2\u001b[0m\u001b[0;34m]\u001b[0m\u001b[0;34m,\u001b[0m \u001b[0mmode\u001b[0m\u001b[0;34m=\u001b[0m\u001b[0mmode\u001b[0m\u001b[0;34m)\u001b[0m\u001b[0;34m\u001b[0m\u001b[0;34m\u001b[0m\u001b[0m\n\u001b[0m\u001b[1;32m    471\u001b[0m         \u001b[0;32mreturn\u001b[0m \u001b[0mself\u001b[0m\u001b[0;34m.\u001b[0m\u001b[0minteraction\u001b[0m\u001b[0;34m.\u001b[0m\u001b[0mscore_hrt\u001b[0m\u001b[0;34m(\u001b[0m\u001b[0mh\u001b[0m\u001b[0;34m=\u001b[0m\u001b[0mh\u001b[0m\u001b[0;34m,\u001b[0m \u001b[0mr\u001b[0m\u001b[0;34m=\u001b[0m\u001b[0mr\u001b[0m\u001b[0;34m,\u001b[0m \u001b[0mt\u001b[0m\u001b[0;34m=\u001b[0m\u001b[0mt\u001b[0m\u001b[0;34m)\u001b[0m\u001b[0;34m\u001b[0m\u001b[0;34m\u001b[0m\u001b[0m\n\u001b[1;32m    472\u001b[0m \u001b[0;34m\u001b[0m\u001b[0m\n",
      "\u001b[0;32m/usr/local/lib/python3.10/dist-packages/pykeen/models/nbase.py\u001b[0m in \u001b[0;36m_get_representations\u001b[0;34m(self, h, r, t, mode)\u001b[0m\n\u001b[1;32m    653\u001b[0m         \u001b[0mhead_representations\u001b[0m \u001b[0;34m=\u001b[0m \u001b[0;34m[\u001b[0m\u001b[0mhead_representations\u001b[0m\u001b[0;34m[\u001b[0m\u001b[0mi\u001b[0m\u001b[0;34m]\u001b[0m \u001b[0;32mfor\u001b[0m \u001b[0mi\u001b[0m \u001b[0;32min\u001b[0m \u001b[0mself\u001b[0m\u001b[0;34m.\u001b[0m\u001b[0minteraction\u001b[0m\u001b[0;34m.\u001b[0m\u001b[0mhead_indices\u001b[0m\u001b[0;34m]\u001b[0m\u001b[0;34m\u001b[0m\u001b[0;34m\u001b[0m\u001b[0m\n\u001b[1;32m    654\u001b[0m         \u001b[0mtail_representations\u001b[0m \u001b[0;34m=\u001b[0m \u001b[0;34m[\u001b[0m\u001b[0mtail_representations\u001b[0m\u001b[0;34m[\u001b[0m\u001b[0mi\u001b[0m\u001b[0;34m]\u001b[0m \u001b[0;32mfor\u001b[0m \u001b[0mi\u001b[0m \u001b[0;32min\u001b[0m \u001b[0mself\u001b[0m\u001b[0;34m.\u001b[0m\u001b[0minteraction\u001b[0m\u001b[0;34m.\u001b[0m\u001b[0mtail_indices\u001b[0m\u001b[0;34m]\u001b[0m\u001b[0;34m\u001b[0m\u001b[0;34m\u001b[0m\u001b[0m\n\u001b[0;32m--> 655\u001b[0;31m         hr, rr, tr = (\n\u001b[0m\u001b[1;32m    656\u001b[0m             \u001b[0;34m[\u001b[0m\u001b[0mrepresentation\u001b[0m\u001b[0;34m(\u001b[0m\u001b[0mindices\u001b[0m\u001b[0;34m=\u001b[0m\u001b[0mindices\u001b[0m\u001b[0;34m)\u001b[0m \u001b[0;32mfor\u001b[0m \u001b[0mrepresentation\u001b[0m \u001b[0;32min\u001b[0m \u001b[0mrepresentations\u001b[0m\u001b[0;34m]\u001b[0m\u001b[0;34m\u001b[0m\u001b[0;34m\u001b[0m\u001b[0m\n\u001b[1;32m    657\u001b[0m             for indices, representations in (\n",
      "\u001b[0;32m/usr/local/lib/python3.10/dist-packages/pykeen/models/nbase.py\u001b[0m in \u001b[0;36m<genexpr>\u001b[0;34m(.0)\u001b[0m\n\u001b[1;32m    654\u001b[0m         \u001b[0mtail_representations\u001b[0m \u001b[0;34m=\u001b[0m \u001b[0;34m[\u001b[0m\u001b[0mtail_representations\u001b[0m\u001b[0;34m[\u001b[0m\u001b[0mi\u001b[0m\u001b[0;34m]\u001b[0m \u001b[0;32mfor\u001b[0m \u001b[0mi\u001b[0m \u001b[0;32min\u001b[0m \u001b[0mself\u001b[0m\u001b[0;34m.\u001b[0m\u001b[0minteraction\u001b[0m\u001b[0;34m.\u001b[0m\u001b[0mtail_indices\u001b[0m\u001b[0;34m]\u001b[0m\u001b[0;34m\u001b[0m\u001b[0;34m\u001b[0m\u001b[0m\n\u001b[1;32m    655\u001b[0m         hr, rr, tr = (\n\u001b[0;32m--> 656\u001b[0;31m             \u001b[0;34m[\u001b[0m\u001b[0mrepresentation\u001b[0m\u001b[0;34m(\u001b[0m\u001b[0mindices\u001b[0m\u001b[0;34m=\u001b[0m\u001b[0mindices\u001b[0m\u001b[0;34m)\u001b[0m \u001b[0;32mfor\u001b[0m \u001b[0mrepresentation\u001b[0m \u001b[0;32min\u001b[0m \u001b[0mrepresentations\u001b[0m\u001b[0;34m]\u001b[0m\u001b[0;34m\u001b[0m\u001b[0;34m\u001b[0m\u001b[0m\n\u001b[0m\u001b[1;32m    657\u001b[0m             for indices, representations in (\n\u001b[1;32m    658\u001b[0m                 \u001b[0;34m(\u001b[0m\u001b[0mh\u001b[0m\u001b[0;34m,\u001b[0m \u001b[0mhead_representations\u001b[0m\u001b[0;34m)\u001b[0m\u001b[0;34m,\u001b[0m\u001b[0;34m\u001b[0m\u001b[0;34m\u001b[0m\u001b[0m\n",
      "\u001b[0;32m/usr/local/lib/python3.10/dist-packages/pykeen/models/nbase.py\u001b[0m in \u001b[0;36m<listcomp>\u001b[0;34m(.0)\u001b[0m\n\u001b[1;32m    654\u001b[0m         \u001b[0mtail_representations\u001b[0m \u001b[0;34m=\u001b[0m \u001b[0;34m[\u001b[0m\u001b[0mtail_representations\u001b[0m\u001b[0;34m[\u001b[0m\u001b[0mi\u001b[0m\u001b[0;34m]\u001b[0m \u001b[0;32mfor\u001b[0m \u001b[0mi\u001b[0m \u001b[0;32min\u001b[0m \u001b[0mself\u001b[0m\u001b[0;34m.\u001b[0m\u001b[0minteraction\u001b[0m\u001b[0;34m.\u001b[0m\u001b[0mtail_indices\u001b[0m\u001b[0;34m]\u001b[0m\u001b[0;34m\u001b[0m\u001b[0;34m\u001b[0m\u001b[0m\n\u001b[1;32m    655\u001b[0m         hr, rr, tr = (\n\u001b[0;32m--> 656\u001b[0;31m             \u001b[0;34m[\u001b[0m\u001b[0mrepresentation\u001b[0m\u001b[0;34m(\u001b[0m\u001b[0mindices\u001b[0m\u001b[0;34m=\u001b[0m\u001b[0mindices\u001b[0m\u001b[0;34m)\u001b[0m \u001b[0;32mfor\u001b[0m \u001b[0mrepresentation\u001b[0m \u001b[0;32min\u001b[0m \u001b[0mrepresentations\u001b[0m\u001b[0;34m]\u001b[0m\u001b[0;34m\u001b[0m\u001b[0;34m\u001b[0m\u001b[0m\n\u001b[0m\u001b[1;32m    657\u001b[0m             for indices, representations in (\n\u001b[1;32m    658\u001b[0m                 \u001b[0;34m(\u001b[0m\u001b[0mh\u001b[0m\u001b[0;34m,\u001b[0m \u001b[0mhead_representations\u001b[0m\u001b[0;34m)\u001b[0m\u001b[0;34m,\u001b[0m\u001b[0;34m\u001b[0m\u001b[0;34m\u001b[0m\u001b[0m\n",
      "\u001b[0;32m/usr/local/lib/python3.10/dist-packages/torch/nn/modules/module.py\u001b[0m in \u001b[0;36m_wrapped_call_impl\u001b[0;34m(self, *args, **kwargs)\u001b[0m\n\u001b[1;32m   1734\u001b[0m             \u001b[0;32mreturn\u001b[0m \u001b[0mself\u001b[0m\u001b[0;34m.\u001b[0m\u001b[0m_compiled_call_impl\u001b[0m\u001b[0;34m(\u001b[0m\u001b[0;34m*\u001b[0m\u001b[0margs\u001b[0m\u001b[0;34m,\u001b[0m \u001b[0;34m**\u001b[0m\u001b[0mkwargs\u001b[0m\u001b[0;34m)\u001b[0m  \u001b[0;31m# type: ignore[misc]\u001b[0m\u001b[0;34m\u001b[0m\u001b[0;34m\u001b[0m\u001b[0m\n\u001b[1;32m   1735\u001b[0m         \u001b[0;32melse\u001b[0m\u001b[0;34m:\u001b[0m\u001b[0;34m\u001b[0m\u001b[0;34m\u001b[0m\u001b[0m\n\u001b[0;32m-> 1736\u001b[0;31m             \u001b[0;32mreturn\u001b[0m \u001b[0mself\u001b[0m\u001b[0;34m.\u001b[0m\u001b[0m_call_impl\u001b[0m\u001b[0;34m(\u001b[0m\u001b[0;34m*\u001b[0m\u001b[0margs\u001b[0m\u001b[0;34m,\u001b[0m \u001b[0;34m**\u001b[0m\u001b[0mkwargs\u001b[0m\u001b[0;34m)\u001b[0m\u001b[0;34m\u001b[0m\u001b[0;34m\u001b[0m\u001b[0m\n\u001b[0m\u001b[1;32m   1737\u001b[0m \u001b[0;34m\u001b[0m\u001b[0m\n\u001b[1;32m   1738\u001b[0m     \u001b[0;31m# torchrec tests the code consistency with the following code\u001b[0m\u001b[0;34m\u001b[0m\u001b[0;34m\u001b[0m\u001b[0m\n",
      "\u001b[0;32m/usr/local/lib/python3.10/dist-packages/torch/nn/modules/module.py\u001b[0m in \u001b[0;36m_call_impl\u001b[0;34m(self, *args, **kwargs)\u001b[0m\n\u001b[1;32m   1745\u001b[0m                 \u001b[0;32mor\u001b[0m \u001b[0m_global_backward_pre_hooks\u001b[0m \u001b[0;32mor\u001b[0m \u001b[0m_global_backward_hooks\u001b[0m\u001b[0;34m\u001b[0m\u001b[0;34m\u001b[0m\u001b[0m\n\u001b[1;32m   1746\u001b[0m                 or _global_forward_hooks or _global_forward_pre_hooks):\n\u001b[0;32m-> 1747\u001b[0;31m             \u001b[0;32mreturn\u001b[0m \u001b[0mforward_call\u001b[0m\u001b[0;34m(\u001b[0m\u001b[0;34m*\u001b[0m\u001b[0margs\u001b[0m\u001b[0;34m,\u001b[0m \u001b[0;34m**\u001b[0m\u001b[0mkwargs\u001b[0m\u001b[0;34m)\u001b[0m\u001b[0;34m\u001b[0m\u001b[0;34m\u001b[0m\u001b[0m\n\u001b[0m\u001b[1;32m   1748\u001b[0m \u001b[0;34m\u001b[0m\u001b[0m\n\u001b[1;32m   1749\u001b[0m         \u001b[0mresult\u001b[0m \u001b[0;34m=\u001b[0m \u001b[0;32mNone\u001b[0m\u001b[0;34m\u001b[0m\u001b[0;34m\u001b[0m\u001b[0m\n",
      "\u001b[0;32m/usr/local/lib/python3.10/dist-packages/pykeen/nn/representation.py\u001b[0m in \u001b[0;36mforward\u001b[0;34m(self, indices)\u001b[0m\n\u001b[1;32m    197\u001b[0m         \u001b[0minverse\u001b[0m \u001b[0;34m=\u001b[0m \u001b[0;32mNone\u001b[0m\u001b[0;34m\u001b[0m\u001b[0;34m\u001b[0m\u001b[0m\n\u001b[1;32m    198\u001b[0m         \u001b[0;32mif\u001b[0m \u001b[0mindices\u001b[0m \u001b[0;32mis\u001b[0m \u001b[0;32mnot\u001b[0m \u001b[0;32mNone\u001b[0m \u001b[0;32mand\u001b[0m \u001b[0mself\u001b[0m\u001b[0;34m.\u001b[0m\u001b[0munique\u001b[0m\u001b[0;34m:\u001b[0m\u001b[0;34m\u001b[0m\u001b[0;34m\u001b[0m\u001b[0m\n\u001b[0;32m--> 199\u001b[0;31m             \u001b[0mindices\u001b[0m\u001b[0;34m,\u001b[0m \u001b[0minverse\u001b[0m \u001b[0;34m=\u001b[0m \u001b[0mindices\u001b[0m\u001b[0;34m.\u001b[0m\u001b[0munique\u001b[0m\u001b[0;34m(\u001b[0m\u001b[0mreturn_inverse\u001b[0m\u001b[0;34m=\u001b[0m\u001b[0;32mTrue\u001b[0m\u001b[0;34m)\u001b[0m\u001b[0;34m\u001b[0m\u001b[0;34m\u001b[0m\u001b[0m\n\u001b[0m\u001b[1;32m    200\u001b[0m         \u001b[0mx\u001b[0m \u001b[0;34m=\u001b[0m \u001b[0mself\u001b[0m\u001b[0;34m.\u001b[0m\u001b[0m_plain_forward\u001b[0m\u001b[0;34m(\u001b[0m\u001b[0mindices\u001b[0m\u001b[0;34m=\u001b[0m\u001b[0mindices\u001b[0m\u001b[0;34m)\u001b[0m\u001b[0;34m\u001b[0m\u001b[0;34m\u001b[0m\u001b[0m\n\u001b[1;32m    201\u001b[0m         \u001b[0;31m# normalize *before* repeating\u001b[0m\u001b[0;34m\u001b[0m\u001b[0;34m\u001b[0m\u001b[0m\n",
      "\u001b[0;32m/usr/local/lib/python3.10/dist-packages/torch/_tensor.py\u001b[0m in \u001b[0;36munique\u001b[0;34m(self, sorted, return_inverse, return_counts, dim)\u001b[0m\n\u001b[1;32m    998\u001b[0m                 \u001b[0mdim\u001b[0m\u001b[0;34m=\u001b[0m\u001b[0mdim\u001b[0m\u001b[0;34m,\u001b[0m\u001b[0;34m\u001b[0m\u001b[0;34m\u001b[0m\u001b[0m\n\u001b[1;32m    999\u001b[0m             )\n\u001b[0;32m-> 1000\u001b[0;31m         return torch.unique(\n\u001b[0m\u001b[1;32m   1001\u001b[0m             \u001b[0mself\u001b[0m\u001b[0;34m,\u001b[0m\u001b[0;34m\u001b[0m\u001b[0;34m\u001b[0m\u001b[0m\n\u001b[1;32m   1002\u001b[0m             \u001b[0msorted\u001b[0m\u001b[0;34m=\u001b[0m\u001b[0msorted\u001b[0m\u001b[0;34m,\u001b[0m\u001b[0;34m\u001b[0m\u001b[0;34m\u001b[0m\u001b[0m\n",
      "\u001b[0;32m/usr/local/lib/python3.10/dist-packages/torch/_jit_internal.py\u001b[0m in \u001b[0;36mfn\u001b[0;34m(*args, **kwargs)\u001b[0m\n\u001b[1;32m    620\u001b[0m \u001b[0;34m\u001b[0m\u001b[0m\n\u001b[1;32m    621\u001b[0m         \u001b[0;32mif\u001b[0m \u001b[0mdispatch_flag\u001b[0m\u001b[0;34m:\u001b[0m\u001b[0;34m\u001b[0m\u001b[0;34m\u001b[0m\u001b[0m\n\u001b[0;32m--> 622\u001b[0;31m             \u001b[0;32mreturn\u001b[0m \u001b[0mif_true\u001b[0m\u001b[0;34m(\u001b[0m\u001b[0;34m*\u001b[0m\u001b[0margs\u001b[0m\u001b[0;34m,\u001b[0m \u001b[0;34m**\u001b[0m\u001b[0mkwargs\u001b[0m\u001b[0;34m)\u001b[0m\u001b[0;34m\u001b[0m\u001b[0;34m\u001b[0m\u001b[0m\n\u001b[0m\u001b[1;32m    623\u001b[0m         \u001b[0;32melse\u001b[0m\u001b[0;34m:\u001b[0m\u001b[0;34m\u001b[0m\u001b[0;34m\u001b[0m\u001b[0m\n\u001b[1;32m    624\u001b[0m             \u001b[0;32mreturn\u001b[0m \u001b[0mif_false\u001b[0m\u001b[0;34m(\u001b[0m\u001b[0;34m*\u001b[0m\u001b[0margs\u001b[0m\u001b[0;34m,\u001b[0m \u001b[0;34m**\u001b[0m\u001b[0mkwargs\u001b[0m\u001b[0;34m)\u001b[0m\u001b[0;34m\u001b[0m\u001b[0;34m\u001b[0m\u001b[0m\n",
      "\u001b[0;32m/usr/local/lib/python3.10/dist-packages/torch/_jit_internal.py\u001b[0m in \u001b[0;36mfn\u001b[0;34m(*args, **kwargs)\u001b[0m\n\u001b[1;32m    622\u001b[0m             \u001b[0;32mreturn\u001b[0m \u001b[0mif_true\u001b[0m\u001b[0;34m(\u001b[0m\u001b[0;34m*\u001b[0m\u001b[0margs\u001b[0m\u001b[0;34m,\u001b[0m \u001b[0;34m**\u001b[0m\u001b[0mkwargs\u001b[0m\u001b[0;34m)\u001b[0m\u001b[0;34m\u001b[0m\u001b[0;34m\u001b[0m\u001b[0m\n\u001b[1;32m    623\u001b[0m         \u001b[0;32melse\u001b[0m\u001b[0;34m:\u001b[0m\u001b[0;34m\u001b[0m\u001b[0;34m\u001b[0m\u001b[0m\n\u001b[0;32m--> 624\u001b[0;31m             \u001b[0;32mreturn\u001b[0m \u001b[0mif_false\u001b[0m\u001b[0;34m(\u001b[0m\u001b[0;34m*\u001b[0m\u001b[0margs\u001b[0m\u001b[0;34m,\u001b[0m \u001b[0;34m**\u001b[0m\u001b[0mkwargs\u001b[0m\u001b[0;34m)\u001b[0m\u001b[0;34m\u001b[0m\u001b[0;34m\u001b[0m\u001b[0m\n\u001b[0m\u001b[1;32m    625\u001b[0m \u001b[0;34m\u001b[0m\u001b[0m\n\u001b[1;32m    626\u001b[0m     \u001b[0;32mif\u001b[0m \u001b[0mif_true\u001b[0m\u001b[0;34m.\u001b[0m\u001b[0m__doc__\u001b[0m \u001b[0;32mis\u001b[0m \u001b[0;32mNone\u001b[0m \u001b[0;32mand\u001b[0m \u001b[0mif_false\u001b[0m\u001b[0;34m.\u001b[0m\u001b[0m__doc__\u001b[0m \u001b[0;32mis\u001b[0m \u001b[0;32mnot\u001b[0m \u001b[0;32mNone\u001b[0m\u001b[0;34m:\u001b[0m\u001b[0;34m\u001b[0m\u001b[0;34m\u001b[0m\u001b[0m\n",
      "\u001b[0;32m/usr/local/lib/python3.10/dist-packages/torch/functional.py\u001b[0m in \u001b[0;36m_return_inverse\u001b[0;34m(input, sorted, return_inverse, return_counts, dim)\u001b[0m\n\u001b[1;32m   1089\u001b[0m         \u001b[0;32mreturn\u001b[0m \u001b[0m_unique_impl\u001b[0m\u001b[0;34m(\u001b[0m\u001b[0minput\u001b[0m\u001b[0;34m,\u001b[0m \u001b[0msorted\u001b[0m\u001b[0;34m,\u001b[0m \u001b[0mreturn_inverse\u001b[0m\u001b[0;34m,\u001b[0m \u001b[0mreturn_counts\u001b[0m\u001b[0;34m,\u001b[0m \u001b[0mdim\u001b[0m\u001b[0;34m)\u001b[0m\u001b[0;34m\u001b[0m\u001b[0;34m\u001b[0m\u001b[0m\n\u001b[1;32m   1090\u001b[0m \u001b[0;34m\u001b[0m\u001b[0m\n\u001b[0;32m-> 1091\u001b[0;31m     output, inverse_indices, _ = _unique_impl(\n\u001b[0m\u001b[1;32m   1092\u001b[0m         \u001b[0minput\u001b[0m\u001b[0;34m,\u001b[0m \u001b[0msorted\u001b[0m\u001b[0;34m,\u001b[0m \u001b[0mreturn_inverse\u001b[0m\u001b[0;34m,\u001b[0m \u001b[0mreturn_counts\u001b[0m\u001b[0;34m,\u001b[0m \u001b[0mdim\u001b[0m\u001b[0;34m\u001b[0m\u001b[0;34m\u001b[0m\u001b[0m\n\u001b[1;32m   1093\u001b[0m     )\n",
      "\u001b[0;32m/usr/local/lib/python3.10/dist-packages/torch/functional.py\u001b[0m in \u001b[0;36m_unique_impl\u001b[0;34m(input, sorted, return_inverse, return_counts, dim)\u001b[0m\n\u001b[1;32m    966\u001b[0m         )\n\u001b[1;32m    967\u001b[0m     \u001b[0;32melse\u001b[0m\u001b[0;34m:\u001b[0m\u001b[0;34m\u001b[0m\u001b[0;34m\u001b[0m\u001b[0m\n\u001b[0;32m--> 968\u001b[0;31m         output, inverse_indices, counts = torch._unique2(\n\u001b[0m\u001b[1;32m    969\u001b[0m             \u001b[0minput\u001b[0m\u001b[0;34m,\u001b[0m\u001b[0;34m\u001b[0m\u001b[0;34m\u001b[0m\u001b[0m\n\u001b[1;32m    970\u001b[0m             \u001b[0msorted\u001b[0m\u001b[0;34m=\u001b[0m\u001b[0msorted\u001b[0m\u001b[0;34m,\u001b[0m\u001b[0;34m\u001b[0m\u001b[0;34m\u001b[0m\u001b[0m\n",
      "\u001b[0;31mKeyboardInterrupt\u001b[0m: "
     ]
    }
   ],
   "source": [
    "result = pipeline(\n",
    "    training=training,\n",
    "    testing=testing,\n",
    "    validation=validation,\n",
    "    model='RGCN',  # Specify RGCN model\n",
    "    model_kwargs={\n",
    "        'embedding_dim': 100,    # Set embedding dimensions\n",
    "        'num_layers': 1,         # Number of R-GCN layers\n",
    "    #    'interaction': 'DistMult' # Specify interaction function\n",
    "    },\n",
    "    training_kwargs={\n",
    "        'num_epochs': 100,       # Set the number of epochs\n",
    "    },\n",
    "    stopper='early'              # Use early stopping\n",
    ")"
   ]
  },
  {
   "cell_type": "code",
   "execution_count": null,
   "metadata": {
    "colab": {
     "base_uri": "https://localhost:8080/"
    },
    "id": "OnLxQks4t46m",
    "outputId": "e4d30639-60f3-4287-87f2-822be4c07623"
   },
   "outputs": [
    {
     "name": "stdout",
     "output_type": "stream",
     "text": [
      "Model saved to /content/drive/MyDrive/Digital Twin Study/Mehmet Can/Models/01-100/01_100_trained_rgcn_model.pt\n"
     ]
    }
   ],
   "source": [
    "# Saving the model\n",
    "\n",
    "from pykeen.pipeline import pipeline\n",
    "from pykeen.models import RGCN\n",
    "import torch\n",
    "\n",
    "model = result.model\n",
    "\n",
    "model_path = '/content/drive/MyDrive/Digital Twin Study/Mehmet Can/Models/01-100/01_100_trained_rgcn_model.pt'\n",
    "torch.save(model.state_dict(), model_path)\n",
    "print(f\"Model saved to {model_path}\")"
   ]
  },
  {
   "cell_type": "code",
   "execution_count": null,
   "metadata": {
    "colab": {
     "base_uri": "https://localhost:8080/",
     "height": 856
    },
    "id": "IOdGX3Onuv5s",
    "outputId": "fe305615-6c59-44ad-8f66-dde99b497ccc"
   },
   "outputs": [
    {
     "name": "stderr",
     "output_type": "stream",
     "text": [
      "WARNING:pykeen.models.base:No random seed is specified. This may lead to non-reproducible results.\n",
      "INFO:pykeen.nn.message_passing:No num_bases was provided. Using sqrt(num_relations)=4.\n",
      "INFO:pykeen.nn.message_passing:No num_bases was provided. Using sqrt(num_relations)=4.\n",
      "WARNING:pykeen.nn.message_passing:Layers RGCNLayer(\n",
      "  (fwd): BasesDecomposition(\n",
      "    (relation_representations): LowRankRepresentation(\n",
      "      (bases): Embedding(\n",
      "        (_embeddings): Embedding(4, 10000)\n",
      "      )\n",
      "    )\n",
      "  )\n",
      "  (bwd): BasesDecomposition(\n",
      "    (relation_representations): LowRankRepresentation(\n",
      "      (bases): Embedding(\n",
      "        (_embeddings): Embedding(4, 10000)\n",
      "      )\n",
      "    )\n",
      "  )\n",
      "  (self_loop): Linear(in_features=100, out_features=100, bias=True)\n",
      "  (dropout): Dropout(p=0.2, inplace=False)\n",
      ") has parameters, but no reset_parameters.\n",
      "<ipython-input-9-0c24891cfce0>:16: FutureWarning: You are using `torch.load` with `weights_only=False` (the current default value), which uses the default pickle module implicitly. It is possible to construct malicious pickle data which will execute arbitrary code during unpickling (See https://github.com/pytorch/pytorch/blob/main/SECURITY.md#untrusted-models for more details). In a future release, the default value for `weights_only` will be flipped to `True`. This limits the functions that could be executed during unpickling. Arbitrary objects will no longer be allowed to be loaded via this mode unless they are explicitly allowlisted by the user via `torch.serialization.add_safe_globals`. We recommend you start setting `weights_only=True` for any use case where you don't have full control of the loaded file. Please open an issue on GitHub for any issues related to this experimental feature.\n",
      "  loaded_model.load_state_dict(torch.load(model_path))\n"
     ]
    },
    {
     "ename": "RuntimeError",
     "evalue": "Error(s) in loading state_dict for RGCN:\n\tsize mismatch for entity_representations.0.sources: copying a param with shape torch.Size([64973]) from checkpoint, the shape in current model is torch.Size([73775]).\n\tsize mismatch for entity_representations.0.targets: copying a param with shape torch.Size([64973]) from checkpoint, the shape in current model is torch.Size([73775]).\n\tsize mismatch for entity_representations.0.edge_types: copying a param with shape torch.Size([64973]) from checkpoint, the shape in current model is torch.Size([73775]).",
     "output_type": "error",
     "traceback": [
      "\u001b[0;31m---------------------------------------------------------------------------\u001b[0m",
      "\u001b[0;31mRuntimeError\u001b[0m                              Traceback (most recent call last)",
      "\u001b[0;32m<ipython-input-9-0c24891cfce0>\u001b[0m in \u001b[0;36m<cell line: 16>\u001b[0;34m()\u001b[0m\n\u001b[1;32m     14\u001b[0m    \u001b[0;31m# interaction=\"DistMult\",\u001b[0m\u001b[0;34m\u001b[0m\u001b[0;34m\u001b[0m\u001b[0m\n\u001b[1;32m     15\u001b[0m )\n\u001b[0;32m---> 16\u001b[0;31m \u001b[0mloaded_model\u001b[0m\u001b[0;34m.\u001b[0m\u001b[0mload_state_dict\u001b[0m\u001b[0;34m(\u001b[0m\u001b[0mtorch\u001b[0m\u001b[0;34m.\u001b[0m\u001b[0mload\u001b[0m\u001b[0;34m(\u001b[0m\u001b[0mmodel_path\u001b[0m\u001b[0;34m)\u001b[0m\u001b[0;34m)\u001b[0m\u001b[0;34m\u001b[0m\u001b[0;34m\u001b[0m\u001b[0m\n\u001b[0m\u001b[1;32m     17\u001b[0m \u001b[0mprint\u001b[0m\u001b[0;34m(\u001b[0m\u001b[0;34m\"Model reloaded successfully\"\u001b[0m\u001b[0;34m)\u001b[0m\u001b[0;34m\u001b[0m\u001b[0;34m\u001b[0m\u001b[0m\n",
      "\u001b[0;32m/usr/local/lib/python3.10/dist-packages/torch/nn/modules/module.py\u001b[0m in \u001b[0;36mload_state_dict\u001b[0;34m(self, state_dict, strict, assign)\u001b[0m\n\u001b[1;32m   2582\u001b[0m \u001b[0;34m\u001b[0m\u001b[0m\n\u001b[1;32m   2583\u001b[0m         \u001b[0;32mif\u001b[0m \u001b[0mlen\u001b[0m\u001b[0;34m(\u001b[0m\u001b[0merror_msgs\u001b[0m\u001b[0;34m)\u001b[0m \u001b[0;34m>\u001b[0m \u001b[0;36m0\u001b[0m\u001b[0;34m:\u001b[0m\u001b[0;34m\u001b[0m\u001b[0;34m\u001b[0m\u001b[0m\n\u001b[0;32m-> 2584\u001b[0;31m             raise RuntimeError(\n\u001b[0m\u001b[1;32m   2585\u001b[0m                 \"Error(s) in loading state_dict for {}:\\n\\t{}\".format(\n\u001b[1;32m   2586\u001b[0m                     \u001b[0mself\u001b[0m\u001b[0;34m.\u001b[0m\u001b[0m__class__\u001b[0m\u001b[0;34m.\u001b[0m\u001b[0m__name__\u001b[0m\u001b[0;34m,\u001b[0m \u001b[0;34m\"\\n\\t\"\u001b[0m\u001b[0;34m.\u001b[0m\u001b[0mjoin\u001b[0m\u001b[0;34m(\u001b[0m\u001b[0merror_msgs\u001b[0m\u001b[0;34m)\u001b[0m\u001b[0;34m\u001b[0m\u001b[0;34m\u001b[0m\u001b[0m\n",
      "\u001b[0;31mRuntimeError\u001b[0m: Error(s) in loading state_dict for RGCN:\n\tsize mismatch for entity_representations.0.sources: copying a param with shape torch.Size([64973]) from checkpoint, the shape in current model is torch.Size([73775]).\n\tsize mismatch for entity_representations.0.targets: copying a param with shape torch.Size([64973]) from checkpoint, the shape in current model is torch.Size([73775]).\n\tsize mismatch for entity_representations.0.edge_types: copying a param with shape torch.Size([64973]) from checkpoint, the shape in current model is torch.Size([73775])."
     ]
    }
   ],
   "source": [
    "# Loading the model\n",
    "\n",
    "from pykeen.pipeline import pipeline\n",
    "from pykeen.models import RGCN\n",
    "import torch\n",
    "\n",
    "\n",
    "model_path = '/content/drive/MyDrive/Digital Twin Study/Mehmet Can/Models/01-100/01_100_trained_rgcn_model.pt'\n",
    "\n",
    "loaded_model = RGCN(\n",
    "    triples_factory=combined_factory,\n",
    "    embedding_dim=100,\n",
    "     num_layers=1,\n",
    "   # interaction=\"DistMult\",\n",
    ")\n",
    "loaded_model.load_state_dict(torch.load(model_path))\n",
    "print(\"Model reloaded successfully\")"
   ]
  },
  {
   "cell_type": "code",
   "execution_count": null,
   "metadata": {
    "id": "YQkV_0oZz29p"
   },
   "outputs": [],
   "source": [
    "# Saving the model representations as a NumPy array after training\n",
    "import numpy as np\n",
    "\n",
    "trained_model = result.model\n",
    "# trained_model = model\n",
    "node_embeddings = trained_model.entity_representations[0]\n",
    "node_embeddings_numpy = node_embeddings().cpu().detach().numpy()\n",
    "\n",
    "np.save('/content/drive/MyDrive/Digital Twin Study/Mehmet Can/Node Embeddings/01-100/node_embeddings_100_1.npy', node_embeddings_numpy)"
   ]
  },
  {
   "cell_type": "code",
   "execution_count": null,
   "metadata": {
    "id": "32sDs7Aukq5_"
   },
   "outputs": [],
   "source": []
  },
  {
   "cell_type": "markdown",
   "metadata": {
    "id": "tgJ8LKd1rz7T"
   },
   "source": [
    "#### Layer: 01 - Embedding Dim: 150"
   ]
  },
  {
   "cell_type": "code",
   "execution_count": null,
   "metadata": {
    "colab": {
     "base_uri": "https://localhost:8080/",
     "height": 1000,
     "referenced_widgets": [
      "ad6569e73fc340fda3d0c2d809b224c9",
      "63dc06581b1946dda69f42372a483352",
      "df6bde34cf744ed89c7918e4c353dcfa",
      "94fb6f9e224245f19ac4f5d700fd6a6f",
      "d426f7c3a0af42bc8ce70f9f0c13a5de",
      "d7dc7c7f2422445f981bac2c1237a4dc",
      "b5ba821c7cd5456d93bada958a1f408a",
      "162c720cf58f472a826198b2411fcd5b",
      "1bb390fa541140099349d55e268582ce",
      "3106696f02e04952b003279809b4c175",
      "17da9b8a5bf14940acfbe81f520b6dbf",
      "50368e84a2a240cbbcab06627102029d",
      "86da0bd276d947458f729ff398ce2bda",
      "5a76e925f0c84d4ca9af0ca723aea416",
      "880d3ddcc67c46ee845461bd358a1fb4",
      "5348f021329741f5990eb77fd66bee36",
      "9dbf0eb6b4044315b9bf105a1f917b72",
      "0ecdbb58cd5f41888c3f298030896925",
      "3ee4cf73b6864f14b6baf8c905c73e07",
      "ba0317381d974232af8dfa5825c7e9ce",
      "08f50c3a220e423d994387c14d1c141f",
      "8f4f2b7241174c11b6d1feff63eebae3",
      "7ba9110025ce494ca2269ed9e35621c9",
      "902f13f753254927a19612048d68118a",
      "3964703877784a63a02ec1b92cf0a3f6",
      "2c2f016b646b43e09388e204889da77a",
      "a2cccc2bdba04f95ae8e9a87f73cf296",
      "140e92d784f34319906a85433989e5e1",
      "fe286840d6fe447a87da497f50ff252b",
      "aed7741d99cf448ea8004377f7956de9",
      "56aba397ec6f4c5a88a0309604840238",
      "9ba97bb3a4ce494fa01b03bd38bb394b",
      "4c332dfffe634a54819dfe8307e19f6d",
      "97babd10a9a044648953ec9316d82927",
      "1995c4c3177e4975a2097a29942e0773",
      "ba2867898d9b4e4d90890ba4dabba35c",
      "1a30baa966264041a6d6830145086a0a",
      "15671e703c964e0482e5e06c194cd5f5",
      "9a608f7983244f4988872b37a410172c",
      "8617a2bdcdd3456d83b197210fd05d9a",
      "50ac900301ea4ff3a90c3f895bef1477",
      "7e23f4983a814fce91b8c64b8a134ae6",
      "b1598e0fcb974b7b996b16976eebc608",
      "9b1410b63d554f7388a0e511fad2186c",
      "61cad77306e744da846a97c5680b87d3",
      "f0071d9025d24c45817a7ed99b817f0c",
      "6bff28a209dd4445b001b2fd853d7fb3",
      "dfff72ee9c08408f8b154cef1bb6594b",
      "2ac8226b2fde46069f33fdc619710f2a",
      "b53719c4921144eb99122934a827e4a7",
      "9a5eb953b5064b48a26f4aed6d10b6e5",
      "dfaa982cb3f249138bb3ed31e8d1d0e8",
      "0c8cf7bca2354efb92c0cb2313bbe496",
      "645d49c6919d4de09f3c76538180f756",
      "d29e3ecaa2fc47e289bf0bf6b0b0972f",
      "58dad5230406426e9226b040f8e8aec9",
      "795af3b47c284e80a36cb3ffe73bd3c4",
      "0d509fb82f934c8882c36f984790519a",
      "4b7017af634240889804c0e65eeb7860",
      "eb3ff23673a44705a615a5c54dedb2fd",
      "e6cfdde9f8854e428b7094b1d88e4318",
      "c68226026ec6444ca78dea8b9ec5f12d",
      "773255ceebb04691999069a25bcb40ff",
      "ba3ba37ff2e84509bc581f5f60cc2b2c",
      "9f49daf3dbd24645ae5fd0dac9b1cd6f",
      "84835f2bf31f4c89a5c320b1570e834a",
      "d8265f71f8df495582870d88ff45c36a",
      "8f249d9f99524b48921aafa1892d4790",
      "e73563463b1b4d3ab6020d97f7dce0e3",
      "45ce61433fe740e28de4e1df6ad999d8",
      "d6ead31faf044540b33855a471e3b726",
      "6e1f96e43d3446fda022830e4c5145bb",
      "ec358c5335f54af3850938ff2cfcfa8c",
      "a2833d87228f4ec8a757a0f89678eb02",
      "0c92916670884a328746e962ab0e05e1",
      "60b863df4e454463ad4d180cc4bb972d",
      "75d14881661b4492ad2ee16cbf013ddc",
      "d7c8e7b2693d46fcb977eec3de6e4a2b",
      "3a912b0edc8e4dcb87cd7b41a5c6c43e",
      "17c96359c7084edbbdcc408a41e6954c",
      "0eb768bb22ff4fba84e6de37dbe1a593",
      "cced70fd80a14579aacdb6daa6c85d41",
      "925b6b452f1e4ef3988e6a690400c7d6",
      "e1a67402c71e42f98c960b812a586f12",
      "4cdd837f044f407687dde01cbc5adc42",
      "2e345af7c728410d84384ec4286b69e9",
      "e18d7e41b9e04213b1bd0338aaf3fa97",
      "7774016b942241239f95ee83c0aa838b",
      "abe7533f077f4dc19810aca4bd5b4974",
      "2a16797f795043ddb3f3318cc634c56a",
      "e32d03a94bd34f9eac14c802f73fd5b1",
      "dee54b87d27045c786bd85f7df906a44",
      "ba030499628c473da58c8b13082d990a",
      "b50ad328019944dd8342ad16c0321356",
      "fb93458f80af49c9bbcf39f730820e4a",
      "14c793ae63ac4adcb2dc8b683bb26e25",
      "944d03b535a946e3be3c878fcc5b9259",
      "079dd0a56a58463490e0d4c8ea9930d9",
      "1f2ecf9ec58e4a22ae72f50347c7bab2",
      "4056b60aade5427fba990fb05ad89455",
      "098b9d6656694d488bb976a7cfe49fe8",
      "a0adcbd62fe94dbf9ba1862d2f88e3e6",
      "e79c1e67005449f4ab3019c2745b00b4",
      "60b5b64b845f409bbd1c09840071239e",
      "de904e2c67c546a8ac7cd0f8cca26722",
      "2f211684da4a4a4c8b863aa0a1492106",
      "d49ddac6ad544788b025e4c1783b0922",
      "6673c9620acc4f4bac85d1d634c3e020",
      "5964f024277148e881413a05b767c4e8",
      "f5e5f60a3f604f55b0d034ac533aa089",
      "4b9db0e6a4224bb8a477bf1ea92055a0",
      "02e25931793d4178b51f55f89fd2837a",
      "a3c7546ab0304b77abda59abfcc3b75a",
      "36037d8f49394ff2838dea148f1705bd",
      "efcff70ae8ae4dc0bdfeca169e713fa7",
      "868c0ff161b24c16a599c1016edc461f",
      "26acc57b0fa3430ca4fa8ab040e2fa69",
      "12e029a0a0ef467e88ed68fa2b59c10d",
      "ed6b25a43fdb45e39f08c45e0e63799c",
      "3cfeb87d5312491396730a151badcaf3",
      "5155d3e7c55f478da5fb91f3396720fa",
      "95134015f8104a0fa89f7a5ef9fd8fc7",
      "301c4c4253704edfbe36cbc73939dbb2",
      "a5ae438f525f48deb2335721acd62a27",
      "b24475c2ebb944269e88446a7d759913",
      "8a0939f7c31643cb900eed4f49c2a7de",
      "3e74fc0a836545caabf6bdd1c2227040",
      "f7da81d9efae4cc3b5f9a0681133d753",
      "78c185c3aeb94152b9929fca1e873f81",
      "cd56763fb16d406b8e54d3d967d4ac9d",
      "1fe21406acc540a099c16ec1524792ad",
      "eea5a49185934f659339ef9700b5a1b9",
      "274980899c484531b73c37055481cfac",
      "99327b6a2cd64fcaac09cd1ce1242569",
      "44ecd5f7faba425cbb8601f81dd9c5be",
      "01049d5c8a244179858721bb1c494286",
      "18ebc1002f604832b169456b0bc0752b",
      "573840a42adc4e6db17e6d26644d5476",
      "2ad6c3ac50eb4e7290a198d8746e45a8",
      "791ded08d2714c199540c7cfa7b56240",
      "28246811fc3247b18036926ff66b20d0",
      "91739405710143c3a36ecfb964f55e72",
      "15f0e2feaaac481486070cf1e258f0ef",
      "eb9a00a50e424f6b902122e6aabc8495",
      "f88219d1741643f5bc719f479df69f25",
      "857833351ed043a0bfcf4fd15d5b4ef8",
      "4b91c7be95884c44bc85201b0ff0b380",
      "3f8ca67b9c34466b91f96420c3f7a7f6",
      "db34c661890749db97e397e7cb69d89b",
      "be09d4c3c01a455792061ca2ba24868b",
      "b7a078503f6e4069a6e42f5f1d750ac1",
      "1c7c74b0991f4d2c9f1469f0cbb77445",
      "360176576e1d4dc197c9780c4600cf4d",
      "43fa997be5964d0e8f0e978d4ee2b1b8",
      "35baf50af05d4983a913fdc5fc876864",
      "f221199ffbce4b09b90add7f537a7174",
      "ab672eca70c843ccb9779d6aa249ea63",
      "1bc532ac7546400ba62a6224819bace7",
      "46fe49ba38b54d369833a1bf032e7669",
      "12759a15bf9345998573edbab6cf7e0e",
      "eac91ea1919c4260baaddadcdd38bc13",
      "c8d839280c8245b1bebc5a39e1876662",
      "7f7086b044934b58a02a86f6d87b3e85",
      "7f50e2686e9843a89aec1973e672c891",
      "e655eb0eac7f4a03aa8379f4183ea04a",
      "438af127672c41b3a3ecfd0207bb36f1",
      "31a06570bc21479cbf15c59f3bf89adb",
      "e19a6a7ff2904bf284cd9a544cc5cf7e",
      "f6f3c4f834a040a5bf305e003d8ab1c2",
      "dd63239d1be14875974967f67ffd8b54",
      "1ecf3358a2404582b438070063a3e6d2",
      "13e49c665b1e489c8ff2b358be1c364a",
      "66042fa07dd2413fa395134e1db003ea",
      "344eac49b703419083444bd8fb3aa96c",
      "24de75359f31480e9556381646332ec2",
      "ae501caec17e4e4385652a789669b322",
      "8eba422c70314e939d3ff8d459aeb9d6",
      "c92032fea5774549b924846b2c6425fd",
      "19448845dc41497e9659ce0c405668d0",
      "6338f2af943744da9e3ad2bf2210ba7d",
      "552ae17d0cd24fc7b08f2cd8ed374a10",
      "e71579bc3ebb41ca8e5512955504f823",
      "394dc07b9b5f478ba0bddac25889f256",
      "dc0a6597487047739a5de5e1d8188b8f",
      "8b89eb9fb38f4e4bac17e1cd315f1a1e",
      "694579396eaa420fa9a9f76e6132ad68",
      "74372f7d5a6143f98231343bb9d54169",
      "ba13e952f3a4404ba752c53728ad51ff",
      "444d5b502a1c437da9a67ac80feadf20",
      "78ac1ea066d340b59829f3d6a26a9c1f",
      "980c0a97e65e412f9e3c60f5a0186c21",
      "eeaec1407c20434b9aeea22d90b90178",
      "2318462868ff4daf9f95fba6131d574e",
      "302f4e6d3e994a70b51b34b17726b46d",
      "673ff95be60d4945bc13ea7fefcdc835",
      "2ca54687514f42f5a58ca65dac332b28",
      "46e1d5a40ae2404daf774ddaa4d63a0f",
      "145cba7cabf3451cb08f75c378f5b4e7",
      "005ed3f6373441709b26dc070ac258f2",
      "dd18147be04144d98cd4e3cf7a87d5e7",
      "313d8eebd0f743b18f56302a69af52bb",
      "03fb4316004843afb173dd4de27f2611",
      "65cac499f07a48248f7549a4fbcc2e97",
      "10c38e416027498eb4f5082a734f14a2",
      "fa47d32344ce4adab6ac6f4801a51038",
      "e080d80b6c414bb290397fc38b447c96",
      "b23137c5fd584b53a21eeb3647248571",
      "ccedd0283d0d4bedb8428a3111d63d9e",
      "4172016f81304d099b37182c7d0ee289",
      "5596508c9faf4b319d7988b8298ce118",
      "25d67faba0074bf0b8e953d43b89efef",
      "e952178a4ecd4cbfa6492e143e941d8b",
      "ccf010c546034021a14b7925009d966e",
      "89a8e4b1fc7945e4a3caacc4198e1d5d",
      "8ff75c08d3304edca7cf6db61bd7db82",
      "89692710fd4549698d2e410b43fccf8a",
      "e5c62bc0c7f34423b56852181b842d47",
      "dca741ee1e4141b788659e63bc89a493",
      "3f4f0d6769e14b5ea1ca2c19dadf4bab",
      "89c6f1d9995647578b9d6c049d48d093",
      "6d2258a5d4d64704910c9d1fc6cd813d",
      "e51572e12a6c4a22a055e3201d02c4c4",
      "75e69bfb39524614aeb2fb05c754ac02",
      "d66964f9875448a395fb77d537112ec9",
      "be43d261dd5b4d78bcf7477713eaa009",
      "dc2a3124724c47b79cd37c18e8f61426",
      "2ee3c0efb5cc49588f424d079bdb4389",
      "2d9b6a213c9c4daabfc8b69d0dda6ec6",
      "2275bd0333144e4991809792278507d1",
      "7aacf587af4a4616b2b754616ca627af",
      "e57b70881cd34ac8aebd6790c3fe6fc7",
      "964059b9112f4cb0b435a85cb832aae6",
      "2f6cc7eb27734f76a09249613cd57300",
      "2f23d0403f5742e880e3de0e27b31b35",
      "c96a3b88d1c44ae694e460559a27c75c",
      "0b2fee69f97c498f959189bf2d03769f",
      "a208bc6edbc346dfb202ff47d6f6663a",
      "87008db9d1274c3dbbea39e0b5c51bda",
      "6fc1530d6c864009a92cce220b74a93d",
      "d4cb26d442e54bfe9cbc0e15fb1501a3",
      "2ec2d750660e4718976eae19c3750db1",
      "051fff42a39c4e2284fbf4abb9e9c55c",
      "415512fec08d494ea66626942b8cf3bd",
      "640ebd0e64c24e18b4c9aa2a2d2addc2",
      "890149d9efb74bbbaa479980e4a5fad1",
      "01a10514b6be4ead9de4317b9f78a685",
      "4606d5ec6fcc48dc99672fa94e18b714",
      "de9da92ee135427ab928cc85b8183261",
      "ab4e941bebe54077a438dd197e947a5e",
      "5a8becfc6276404bb7a9f5908af65e9c",
      "95110f1675e74d1c93966f4cc349316b",
      "b571b7329e2342ab8e984f5a626fb52f",
      "0f8b0d4101ef425e982246478b9506e7",
      "3dfeab2b23b4431ab3b584118c487e33",
      "32fd012750a84f5fae5f90cc04fc0119",
      "c720e5ffc60c43f09abe190d107833e2",
      "188a730bf7f04cd2ad8c0296a5d592fd",
      "4b82113167a74c569f550a018b97792c",
      "22a9753f32904a6d8880e7844485518c",
      "ca61535b289140e2b2926b295e97ce5f",
      "d0156b4a0f3a4738939475adaa32f136",
      "2e176315fa674134bcd50b5dd903eded",
      "75544863900d468197fef499e837177e",
      "3a21480b9aa74a79939196cb344020f5",
      "e03e554953c84ce984810c1f6d2eff08",
      "6f8ea8eec90145d2aad478be8897835e",
      "6b620378054f43e0a4ff39b0fec8c63d",
      "0c84d0a4e74541aaa7a49e8ada86f093",
      "741ffb3b4a974fac8936e462ff51d1ab",
      "49ac6ce41c3f449ea10013a49ae1c42f",
      "fa001f16c7c7489f88d7e5a742d338d3",
      "10e3f4c829674b359dc60451cadacadb",
      "e490cb8c212b42dd864f03b759ae8b9d",
      "21b2a199ef704ccdaab0893dc06362a6",
      "a6e5b6bd38fd42e7b4ff05b9a4d3f17d",
      "ddff9b60360947ba845c3d4bd35fa41c",
      "9289247834c44ea0ac42d6b748bc0557",
      "b1a91c8256964015938b3cbc560a993f",
      "f641e101e9f14fc3a8d0dd5ff51193f5",
      "dcb998b174814a7d846c8d789d8d5417",
      "4226074033cb4362886c7c8fb4cde5ed",
      "d69395422b3b4bf8aa88a973efcc3415",
      "4bf1160f5a2940f88a1c2790ba87cba8",
      "cbb07cfcf11e4b129a2ee3d0d70d0ea7",
      "734b162a50eb4bcb8c6a8da8c81d1e81",
      "4f09439f1bad40e8984161110abcf664",
      "fb28adf0fd29434bab975a86f4bc7989",
      "57fa94ff301c4879a9dcc3d8ef38c3c5",
      "13bf65195e854a01b20ae1b96cc70c00",
      "ad0f326544b44d13913f7c7a01c5af7f",
      "81742486379040a78b2fdbb57e56fb7d",
      "f53b989eee0a4f6a887d1d4ef550a244",
      "d33ffa8be4c0499faf8fc3c8c5123c1a",
      "5731a32bdeb84aaaae7a20cb481a374c",
      "c02e866003aa443e9ef6f6b9942ae69d",
      "93d444ce737941f6b56566524813a689",
      "966e1f85c4ec49a0a5e507e17070f1fa",
      "8c0da0fd86b74dc88d3967515041afcc",
      "8a01b81279b74ffeb12930f312181edf",
      "4de3b752c2034c6b99ded9d05cac775c",
      "421d6421db734579a66bd83f7e16bbe1",
      "77190b0a7ecd4c50b351fe4e80bfab52",
      "38f95dc06f274e83a0e3fe6991a255d8",
      "77b387060cac429fb4959de27da016b5",
      "2a97b49bb7394516be271bbe1f40dad3",
      "d9c4329761134a76a1276aefdd06b5a0",
      "3c96c4a3a245469a92fad45db88b366d",
      "c77ca7d447f84ca7b79ec8e9c8bbd60f",
      "c9dd391bcae54d40904adb6799154438",
      "7fe3c1231f0147a18e3fbdd0b497f3a0",
      "b7d1030ead6e4dfe961d267e02ca7ca3",
      "645c2f5a9e614a08a65fa7cc8ed7a9c4",
      "f9fd0d67d9b244668cd53f2e5f08380a",
      "40e280d0ae3248f89ef5d44ed918be8b",
      "6706a1c8004c4f44bc924957078edaf8",
      "1a271ad2ea0f414997ea39a8e81b0821",
      "5e886f2ff6404310b84c73e47dbcab00",
      "77dcb58fff2c49dcac64981b2176641f",
      "9b101a47f70f48be8d70e24a469d46c9",
      "8b79233f85614a22bb59a4ec28cb5893",
      "9360c12460204a04b80d48862af1d06a",
      "d6a63f161d85432d9144ac36163ff074",
      "3afcd20100c64fbb8db4ef88f722da22",
      "19be5cebfca4464fa7f0ae9dbbe34988",
      "57bbfc214cb84363b44d9faa050f07e6",
      "9ddc276f72ca4326860162302ec82b21",
      "7424507748f8412890e8b9bcf8104b54",
      "f7df08855b764139826194eb9996ffb6",
      "1e9fb5b616e04a7b9f1c6d67f75f071a",
      "50f4a7b2e7e74962850b3276666c4394",
      "91282367e4ec4b3f81c921500d176f79",
      "0854103879784ca8885eb338aea9801e",
      "d66ac46f63da4a3196357ce138185986",
      "4518d9fe3a9648c9967d19338791c301",
      "dc9437992fea4c0f9b3a828a8e471a8a",
      "c0a828dc6b08426394636a0b3d218bc1",
      "a5028456481745b3b567a5f8f1fc059a",
      "da0e85a5f8cc4301a48f80e0ba4ada92",
      "2d715e7bbc2248d2a5eab8bd40543404",
      "93f948b7e8624dbd89384e6c087af4de",
      "7069ec41da574a40ab9e8965ea5b5105",
      "0cfc13646dd5451f9d3278eff2c25ca4",
      "208a5ae5e11d4d888ec7a340817ae449",
      "8759cf591b244368aeef00cffe3e20f7",
      "ecae435d59a3454290527fd7c57e9434",
      "3086826524ef42af8b3fb720c5907620",
      "9e0f433e1fd74c2dab6f275314932a0b",
      "9584aa63689d461b9948bad17a8294ec",
      "d8c59d58c56449f1920d82aa5460c90b",
      "633ee0fc9ba940e184cd66af81fc9d96",
      "4f6236f9b0ae4e3393e5de53bb17aded",
      "0bd6a05aa3414b0abd035573edb80e99",
      "039e2fc65ae348d8a80a8b8454a7282f",
      "bfe53b5111604a62883d6d891fd34d7e",
      "9b46efe5ca6241f3a9f657a8c77fabe3",
      "ac00f95d508e436fb2096ca17680b96b",
      "299cd5ccc4e64866af61cfeef3991d39",
      "857002e585344885968f6a94ac2373b5",
      "539a86ad636b4769a37f2e99b9fbfcca",
      "9816a6f998cd47baac72c807ae775752",
      "b99137559a924492be04b13f8c02d088",
      "d5f72ed7e5ca407b8dfb3b289cfd8736",
      "e393b08e723042b4b20f6b9a843c6bb2",
      "47513bd214274d4a85e13e9872f8445b",
      "f2559b15d0424616bdabe406b08510e0",
      "026201cf2dff481d92d67923ea1c9dde",
      "98000f07b0944844a5b802af3c1c99cb",
      "8da96079ef254a15af5d790f0add6a9a",
      "2140e5026b234c37a87e7b3dd5958964",
      "e308cb80a01f4ef7b52a7435f1c6cb44",
      "ef266ca836d24e10b9ffbe138db39c24",
      "195e3a86d6544b6dbc03a2149a0b6f75",
      "c240878d7dc44e6bb5354d6989fd556e",
      "9cef17e6687e425a8240514e614eac5e",
      "8b6726797e3841cf81d5375c802779ae",
      "ab6d3bef0c094bff92c9fcf29fd0f0f1",
      "68c76b2a9ba144b1a991067fa1ad3185",
      "4c032f16676d4104a58474a793697a8a",
      "a2163993a2df476db810c0d9a9127761",
      "984914cddfd443d9b5092804331a63bd",
      "48c84e6fa98e47c6beb5dde6427e41d2",
      "e060ad92e9ff4e17a162c6ae502c9661",
      "dd21c78dcf354eacae46da26f2d1d68f",
      "1764a7fbea2c48038954d046b6fa5e81",
      "f2920c5c0fce4e4fb857a13f09173218",
      "c5c1f4a8646a47599ac775c384381a01",
      "4d9ba77809634b558942ae0708b9aade",
      "bceb5b5f6cd54daa92777506d1509464",
      "00a3410aa4804e7496813f2f2326a635",
      "535f966752d24012b7cf0b867ecf8478",
      "8048c46a7c90463d8c9c5110a083b340",
      "f2da54ebc2c248aaac765233c3982c25",
      "90511927fe2942218f50a44052eb1580",
      "948ad1d81a934fc5a3ea782a4da05d09",
      "48971f4936e9435785ac0ed5a5eb1216",
      "a631e167c9a14d3180446be6727d04ce",
      "4a89888879334626a3d65f0653d67bbf",
      "40389951c69e42d399250f372446041c",
      "29b41638317f45c98aa8b36b3893c519",
      "127b778876884e46b0d6a20e05539099",
      "af9f121ea6bc499a98da3aa6bab11537",
      "8de000211d2e499398cee350b6378f13",
      "f47338bb12fc432196f176ed092b0ff5",
      "9d3a62ced6644435aa1f45101d22d0b4",
      "eb4e4404e8bb4c4dbfcaa0a299083b07",
      "829e6272921e4e5596d479f756fd7284",
      "98ca0bb91e5c48718cd29cd80683ac61",
      "dc0a8ed052b34044b8afe749ad3204a5",
      "0ae8590a83b54573804dffad0a818e78",
      "5d3654ce8bf64467af46d01e48f5da8e",
      "928f8bb997ce438c8de5670ddc62fae9",
      "3c7e6d9646d845d88eb1e3ba4dbe1baa",
      "32f151ab178248a5a46ce1b94af39219",
      "3d7a23da10cc4b5cb451c4b1d5797b95",
      "4ffb6d3576ba4714a0ce2701818012fd",
      "756df7c7a2c8440d93ba0c036d5fd937",
      "c836d952900a43f08387bf912a36a5c4",
      "0d04b9ad9c7b4c6eba8684f8c163397c",
      "22641c4685754ad3b7cebdb0241504cf",
      "6870fec03d7c4d6b872479c8ff40cedb",
      "01b11e94ef95404d800355f9800b8be1",
      "5959afeec5dc4718bba9b93e8d6bb5d6",
      "b8442281ea1642079d94d903cc8321e5",
      "68f1361bbb984e32b2251578010f4ec6",
      "2fd2179aeb88458b8c3c4d196b2754c6",
      "7aa645d1023042b9a6c67a87f94cb046",
      "8cf6c58402fc4bc0b731eac26ea4c1bf",
      "93ad4a95ca3740a3a5de1d1e8fc54dce",
      "4acb3d1422f546f99723fff556582573",
      "0a020f57e11c479a9e37015af79f9aa0",
      "6192b6c99dc048e8b0c3f8a3162b0cf6",
      "936e1f010d584faba6aeea8a57077c40",
      "f005492909ae4007ac910583fb8bf315",
      "0e1a86a1692447dca1152707df8a43f1",
      "4b0d5b7b9dbf48efbc30637d95f55f01",
      "f299f6b426ee4aa988a2fac6e4c82112",
      "91bc81db107e4d0eac40339ebf0c326a",
      "47d35316163a4eee875e4c42fc1cbdd6",
      "66354fe0b60f4724a69dd22e3945107c",
      "f7673eeb630547cc9a59690d4d15aed3",
      "3b3db0ed8ce84794966a7d98684b3bee",
      "369a244082414fac8c77ad5182de3a4e",
      "9be53e98508a43369a6e1ee60c68ac79",
      "5b7d8c0e2f0d4d63878e651ffb054c4a",
      "767c7dcc61f3474d85a329ef9846e1dd",
      "2f61ead8dfce4b5eaa8c56813229ef78",
      "b9c003dd181e457485fd453c74225104",
      "4dd009f661684f6abfa3a3a205ae710d",
      "272310f1923b40b49fa0acf5a90480c7",
      "0d8b31a0d2414bfab943d462a5e4eb80",
      "5cbae135faff4cdfbf0ee289755c3106",
      "e5672a46bd224d328a5f14092089726e",
      "91b6d791804f4122adbb82942f56e660",
      "786e037abcad4dab87a58774bf572c7e",
      "9ae641f717384427be21496a82b955d3",
      "4b5b872dee7a475cb6c11a64162f5fae",
      "8cf51519b32149fb8e16bb266064762e",
      "301356355efe44c6aad1f02ffc118374",
      "8d4a4787438341be860a37875d49f5a5",
      "5ed691eb6bc6403c8e18e45dc975935f",
      "d2e1d88fe50f4c7b9036f069c7a4d7e7",
      "915c222b59cf4b6e8728e775adda3dab",
      "13b6fb8107db40a5a0d97ee000868563",
      "633ce245799d4e21ae1cedc6d9a158b0",
      "7e883ee00c394a67bb1ea4a5f662c6bb",
      "6d715b52d9e04fcd967dade25a5360aa",
      "88dbb95c5f45486b90536de5d4445c80",
      "5af17514c589498ca89d876d57ed7fd2",
      "fc523374d49b46f89a99062895aac628",
      "fa0bb0ce13ce456a92cf826d6f53ee52",
      "e03e2a30fd0a480b9cbf028aeddd9ad8",
      "a8213d3162a74ba9aa467ed5ea9626fd",
      "a4471b597ece4c9797daf8fd781c9433",
      "4269a99ff2af40528247a51f5c195e6a",
      "984f92b240754425b7053f4beaca6c6e",
      "11c785e62f21444098a3ac92b68de5d4",
      "50a37979390c467b95faf2acd04f0366",
      "21d33c8b74a34d91858cd60afa0bbf22",
      "4d196edaf7444158bf717bf903fdad7e",
      "0ad344f90200437890e4c32c94284668",
      "0d8291a6bdf9403980ba8b5229644fcb",
      "607bf0308ac84b9aae8c73fabf35e8f8",
      "181267e89a5f4deb8b42d7587495327d",
      "c795bb48271644beb15dfe0cd509be12",
      "2bf899262ec648ccbf3214c32ab13108",
      "831c63ce67754652a01f6cf83a8e768d",
      "562f060a1cd24eb0aad0fe9f8a641bbc",
      "218a07138ceb4f0baf71a6c11f3cf124",
      "7e42a11039da401999d60eaa88569f44",
      "b92e6fe5c32f491d803cb17b10b935eb",
      "d451333776294979aff23a3180d57105",
      "d592728c31964f02850fc862abe951cf",
      "e7eae22edd0a4b22809eb02bc96f12b2",
      "7615086fc6864561b8c54844c0da5481",
      "f23a5112840e4a3d8b3b4014936ba482",
      "e8f1f413585a41d5a38ed3926efaafae",
      "a8ed0f88102c41228d9f9c5371f1da3d",
      "10fcb25cfed24040b38a9829b7b188ac",
      "15027f08178645de90bfb78e3a4c9ac2",
      "73e02521945043dfa567d47ac249a653",
      "014834b41dc7469ca490dd0d1e118262",
      "362f6f256ee9494284d694fed54f1cda",
      "5032ff52ac97454ab156c4c6f9b36d55",
      "e3d59b50a8044b6098c5f4f435aea211",
      "a700caad638e41999ce1ee6b235bf0ce",
      "24a5e3a449e94d52807796a6fafd50c8",
      "5a650736678c4cedb2c3271fe98634b7",
      "832c02ad28114351bdebadd29e98354d",
      "e1ea8d2f61444db4ba5f5e656efa5565",
      "c4dd71c5a03841dcad6dcdfa58dc4f97",
      "43e129eb9509429e97acf7352aaa4e32",
      "c46dbe52c4ac487a8fe5921008648108",
      "a557cdd40712418d824a1c718045133c",
      "b3c28353575a4aefa40b32915bf0ad80",
      "c0d0987b52064f02a02c706864f92288",
      "2ca69fd090794b0ebc6b12b24fcd43db",
      "4ab9b9f07d6b4ca99820ef77982c9c2f",
      "f56306dbef7849d5a88e15c441e9ac19",
      "15c117cc895241aa81daa14311eb7e55",
      "05f65925d5db41a4852340c47648faab",
      "bf0ede51b50c4ca7b38bbf6f5914e247",
      "1399f85e8a4f4430bca061157f7dce34",
      "442165a149914aa188481001e8a58b12",
      "842225a55b6d4d7c9c4c0d4d887da880",
      "88ff31291b3a47c28c8175bc15b5d5d3",
      "d4f353b729ee4d74b84d75f7d75dfae6",
      "e0d58166b4d94374a7aad2b6de4c5e41",
      "4c920e6c109f415c9d82438051c700a6",
      "bad8aace4e9e4744925cea938270724a",
      "8ece63ffc94d4b7191c553de64e89ac1",
      "d3ce86d4f0e744b197518a85cfa2a4a0",
      "f93376a681db48f1a5d1d89e3605e77d",
      "e543d97fd3f44a7086d29d41566597b7",
      "b7c3e18b8a6a48e5864fa5c10bd4f5f9",
      "94c19e9a058a406cac91636be2a86f91",
      "6ed49e94c9c54d2ea7466a897c137c73",
      "d4a9bcb1a490489cb863b2c61dc5ca15",
      "693de5fe08b3427ba6ef4fc71d9d818d",
      "5d2e24c2b4744faa94b8bbb7a7c37fb2",
      "96d7b61e471d461292fec86b906d2d68",
      "c39d200e148c4eeb964664452a35964a",
      "16dcacaabd06497589b19b87efe2ab09",
      "022675bea85b47de98c57e15d83d78af",
      "659b6c1518eb4af5a0e01eecffda34a0",
      "d8fc536a2ca0455da9a9717f2cf114ea",
      "184e939765d0429e879b5e242ca991dc",
      "0ec6e87f1cc04d9c9331ab1124f17eb4",
      "50168874110d42849c0bc3ef0d487025",
      "2387e63d64ef4939b9bebc50ea4f0142",
      "aa8064faef404f81891e0afacb991751",
      "8cdcc3d3e30541dc8cf572aa740b58ec",
      "ff8f4edaf2fa4d338ebae2fab41d8442",
      "77a0e80adaeb45bf8dde03671d15c2e2",
      "0087d42e04c7451e8b7a6a869e87d678",
      "1b977b21af314664ab1dd9a6f28b1982",
      "5a701df8c8ea4739a7f0eb79a0a7bfaf",
      "893798efa1e04c99b0029fc4e78e85a6",
      "d9c8b902c52b479c97c41a27c2c2f259",
      "118d221454c2483fb85b8f2e89b4d4e8",
      "4df1671663cd49e4bd96c219b49c7f07",
      "74e21fb23a954f07b97a02eb8182073f",
      "15b94f2e8e0d479eaf5e0843dea8bcab",
      "d88cc43532274e76b32dd1f8882f2240",
      "9b3a564f9f544a3c9dad2961bc0b5a53",
      "78b155354baf4c2088d17db4ef16da15",
      "85c40ed70ffa407fae7fdfcd8bea9ee2",
      "27b77f6cf6ae47969cbee5e988fdcc6f",
      "40f8dd22675f4c41ac1eeef2e3bc48ae",
      "15b1f4d6eb1f42b797c9f4171fd3cded",
      "5919256ac29a404b870f056f55d72fc9",
      "cec35494c01149b98ab5f535efa0c6e7",
      "2849299230ea4957af3be53ec103bc4d",
      "c306ad3bc09f4766b47ac10246f1ae07",
      "b5c1bb4a177b491c8804950e125f2a49",
      "a5fac67ca43c43c8a2cf451f2f78ea33",
      "bacd4af24fdc4a1cb377032839c5fdc3",
      "7c5f9f5402f74dbe83f07b843d3316d2",
      "528d588be2754b0e93e9710caefafbdf",
      "28059ba9aa3e48b7b9b6cb03e13c91c8",
      "d159cd3e46af44f1ac3ba633dbd1769f",
      "4db5b9d3721f44e897c60cf791bd62a6",
      "a998a4c93dca47e1b2412172818705e6",
      "ec5fc2f3c3134a73a7411d6f3d1404ea",
      "49568f94f9884ec598797534c90ba0d6",
      "32bc9843d79746c0853fc5bf3c0d044a",
      "cb54648b6e24443492abdf1eef3c3164",
      "96418645365647dbbca8e81986bae01c",
      "e6f6509c8af4425fb64ec67be2743967",
      "86bd690dccbc4140a1d9f01a05a2da04",
      "5df3dc63f09645cabb35062a168abbdf",
      "7a74e3a10e754067a720fd4a574efc88",
      "e6f6528f5e63485ca1310616b74c00bd",
      "866e7a804b8f4294bd430b1158d36a5e",
      "2e24088c8e764f87b7cdad4a624648ad",
      "a884443db0d5401d9adeb8fe5985ef43",
      "d4591f83e8744672a5a4f83873cb82da",
      "752e914cb48c44999f2b90bd973d6107",
      "8b7d7008883447cca75f5dc60ecda36a",
      "a5ef9d1bde5a4a1d965b1dce5bb895ed",
      "6e7b4d3202d74eb59318f0d775789a81",
      "88ec623d72714e69b031e441475d7d2c",
      "e4189a65066b45a183a0b759861b0b98",
      "dea08d593bfe47cebfb96bfea471eaf9",
      "7677dbe761884b16b2b8a762b86d7e94",
      "ef554c05d8bf471394034fa4b640d89a",
      "bd7d692159444b98a4ebc54083dcdd33",
      "2cd1d3dd373c4749a6a5778cac6320a4",
      "8ee27a59ff464e8dbdeb9c2bfd5a2957",
      "de707e8ace8a4e3e8bfad483a89fcc9d",
      "50d2cd27c70e4b299e970f19d15c690a",
      "d1aa13d3f8634d328504bf2c559ec611",
      "3e0f4afdb73446c0a750a50add55c264",
      "50a79e2f8d2a41c7a46a9bbdfcc6ea79",
      "905f0b40fa004cfa8bf806f259ef25f0",
      "982001eaf8bb448caa6162d47f3112d5",
      "1f0ba7e165cf4aacb3237272d6bba3a4",
      "809a552efa264f6fa790f8390a7fd629",
      "7e2720dca4e64c39bc9196f5a7b5561c",
      "0b34188f80be47c88964c490c0100787",
      "e0ac1567ed224058a482ca7d22f33e61",
      "62576564930a4abbac95a02f7c6e1383",
      "2a13b08ddad241ddb703671953a2b33b",
      "97015bb980a64a0eb3360f630e972396",
      "0367368b872f4a15aeba615ce216d49b",
      "dfdaa78984e54b8d89e302e65b8b0e93",
      "0bd5904683c0450ca007b97adb35e4ff",
      "b6b145accef0438dacc42d606601793f",
      "5b71a2a0fd3149bbae70cce191a82018",
      "8009a0c279ff4b9399fbac42c2e61564",
      "ec7bb1da0f5a4783bcb1805719474e00",
      "a52bace206a740fdbd4f5586ccda0ffa",
      "88913b8426e94e50a08abeda2669429c",
      "488e25ed0eb34ddc80c59af579e3eece",
      "3abc45a156824d9cb626a7e5094f389f",
      "ccdbf64fb22a40bc95d95d4cd86298df",
      "5dd2c303ac5c4b909fe7248af4bb6ef7",
      "c10ef5ae8327419a9938f578f582e82d",
      "8208260ca89c450a85afea2c55482991",
      "2089b01f28a942bfa8ca9abac8a68998",
      "f4f7db2ee97d48b896f6ec244e03d8d7",
      "e278594c94714bc99ef687e323461f4d",
      "a4a9bdb34fa84becbfdb7ac252cb5777",
      "3317043a4148493fbe9d35b96f2a0c7b",
      "cc5f7f9648294d6c941296aa31b1e173",
      "4fa09c1de121475095af47afc131bfd7",
      "200615a05ec046dfa5b9cb495936a5e6",
      "9483a622c6c148b68cbcd73e7ddb85c5",
      "cfbe227d8cfc4ed7b0005dcfeedf4e02",
      "ae96151c189c4007b2f9cc30700631f7",
      "d9f9c5c3f4374fa2865bef08dd83bcc0",
      "b7e4e6414261404eba9b0705cd75c400",
      "119f0e96c36f4237a1ffef6ee21dd6b1",
      "85b1ad7af3d7474aa3c9b38aeefd5852",
      "6ba9b88eeb13462a9ed57ebc2fd28f16",
      "f57c5fd10a02477cbd17c5264576d5cd",
      "c8fd284ae89a4677902afc64ae267228",
      "b048eb8c8cd84d1f808c4b49a2112e17",
      "d4f5c3f491e341dda7f471fd718ac90f",
      "cfedc7db17d24a1990969b5a0c555998",
      "2a2a385ae9ba488ba1f78451690b0b4a",
      "5f9fa89259064aa38141bfb8e124c848",
      "88e2775eeda84552a154d114825ac1e6",
      "a7db9751d0434a289b0f7590607a1b6a",
      "494f18a53d8a42cfad2d1e0b52dbe89a",
      "2ec07a73f1764221a622777149fe9683",
      "b41783cc8616428a80e4dd7ceef4387b",
      "37fa305e7bfd4f24815abd7f7e1d78a1",
      "83d36a88cc5a46f4ad2b128bb9da0233",
      "ac42b0fdf16b494cbdb5c9fb8a480dd1",
      "8370b46025a84f2eb0df5212ebcdf6db",
      "f19936b6cb0f41f4920e015f34852730",
      "8e39b6ac1d614d269ce45813730da7b4",
      "a61cdca8aedf421182d4b8cbfd113df1",
      "29436b88584e43febcdc36493ef972a4",
      "2e218d09856648038c09d7e5dcc6378a",
      "e3e9cb9cc47e415ab70ffe55d9225243",
      "f2955ee3b882438c9064586d113ba0b8",
      "02ded9d8609a42b1bfc53ceeb8de7205",
      "a0854f82f1d341108898e5ae64dea12e",
      "c344a12e8c5f4ba79035a02d30b4ec74",
      "0ea37519342c435cb8eae9d9d5994bd2",
      "003b1cdb546b400aab2caac2e9d4570a",
      "d1ea30aabc80467180ecebbb964af7c7",
      "37d0aa767b14435b832d00a3200e4687",
      "ca559119033947e0a179342695143104",
      "13aafe68266949868d30a642d72abb34",
      "65688b1484dd4fdf90863a815aa62c68",
      "fa196db54af24c9a8127f0fff5bdd8ad",
      "558edeedaacc40998247e6f6dc548e76",
      "ca82dde275634c108748063e6b5ff864",
      "338e8d0c46474dc2848edfe89e6f2a56",
      "e2c188d0a0f446fa8861736315a193bc",
      "94fbe931f33544f9add6e3dad6b2b8e3",
      "d1d60da33a6845a89fbdc4c6a4379f55",
      "ca96cfa00c9c46beb2bbf67fcfa88777",
      "6e1618b6db194faf9c02b9d029ca518f",
      "beeb2920a0d14ccea72eb5b81463a8cc",
      "637d685e12ef469596d732771bc9b2f4",
      "7a136204b6114e0e87224d903e6e572d",
      "af5900ad10fa4ab6b8477c8e742da4b9",
      "48e9b3dc50454ccfb9491b0b8e73266a",
      "c472774ff5104a8690a4090cc43dd4c6",
      "56bc7b1401c94946b8842e65d5e005d3",
      "2a72dabfc93e4171b0f276b8f932a151",
      "5f443d83335b4bb298e3cd65578c67f5",
      "b3eaba7edf4f4a118dded7e5b68d0a92",
      "0e17783ed91046d0828f72d486653c0f",
      "28276b107e0e42dd810200db00bccb14",
      "39b3bfadd33e4161bc6398442b4af0e8",
      "ae4f46dc72514d18a414389e6c761627",
      "8a6732b145f747cebb9ec1327be26c7f",
      "af5e92a83294434e88445bbd470a6f52",
      "811523942eea450b914aed10077fdca9",
      "2fc993238b1e491ab8899934a09aef1e",
      "7a2ed684677840e893b29d591c4b96e7",
      "71b020088b2d4a838ca9c819012be0fb",
      "870e0cd374914b4c956b93bc1fd6687b",
      "5d664d92725d4b6b98b01e11f09dfd79",
      "47b89667e4ea4bb782374f8c932c5544",
      "bab1c120d2f2448399f011639769acb4",
      "2d01451f4e12425bb8231389e820abf8",
      "bcc453bc50ef442cbd215b88ed56132b",
      "c5a167b6774542eeb732350a0d866128",
      "5854f0dd43b44cb8a37e2203e3431b9f",
      "58dad398b0ed4541a8a84e216c97fb44",
      "2cbcca2ea6904f75b3e8e30ded8e925f",
      "88948475d8424da89261904f4766f202",
      "95aff965d30b4b039da3acc18e6825c9",
      "4161bbb1bb19421e83b6d4a79de44429",
      "02de9a7d0f6d47b6bdc3416eb6cdaff5",
      "38fa3bf8880a4b9e85b1ce638d07fc8a",
      "03d388ae376142429a740f3bbb0468fb",
      "63681382e4b647259513be895b0ac689",
      "714c95ceea86423abafc9874f13d9146",
      "fee372dfd6934e35aa4797c152e7125f",
      "e0a6924d3c2445daa88e4e29050246c1",
      "e292a4b7fbc9403fb05b869c297211c1",
      "9f86c6aecd1a40fb85bffe554b82be23",
      "2484104cc3d641fa8c856193a2e85cf2",
      "34d1396461bd4c04b8a6d2a0ec3cb7bf",
      "7ddaf15186104306a407427a9ee08279",
      "6424a71c5e1a4782b272e9cf5cc274e1",
      "1601e2581ca14522802d15a28bfd6f1a",
      "56f81ffe6e934990a7c1ae6f06f1cc52",
      "45351fda19ae412cbde66a25f910f906",
      "0cdebdde638b4621b16cf7422f19e054",
      "dce112c8964d47a588e14003e3ab8ffa",
      "96569e624d2a4e7c812436cceff2f5dd",
      "064ae3b0d4464331a0c0cfc69788fae5",
      "d35733e472c9465dbee0b43276b3e539",
      "13167978397c45cb9af5838dfa5c23cd",
      "a5ef3f093a214142b690d8b87dfd2f10",
      "7810878bca334117818a900d106665ec",
      "952ee5af92b74e0bafd0a5a6f127959d",
      "0bfe7f46146e4e4097f5b7c1cafe4012",
      "356392d7d6db4b938158cb71e3912296",
      "32ff0b43df2e40beb80604baafbb06f2",
      "62b5a7a673964f2eb9a10f5375eb2dd2",
      "c463bb92c56e42069b4cab48050074a2",
      "bb991607e95942539493555ce572e27f",
      "a0299935b3f140abb1a6e6d006d2c5ae",
      "fa3566c10a4f4ac4a269f15d839efd0a",
      "1daffb7e0c0440758042636cadfcd15c",
      "e91ffe5777f1498da750d85d75deafaa",
      "ca8ad2f42782456280182faf31369a28",
      "2e701b75fdd54b8b8f5c2b991bdb7022",
      "589f539bb06b4db9942c4d6efd13769a",
      "8a0c152704874256bab734a3e93af754",
      "a9465925f19d4856888c18060e6e02da",
      "18d04d2fbc454327982aed21b07fd2cb",
      "f3ad7bf87b464c4fae14a6597962ccbf",
      "c8f945d15e9c4bd1972a20308c54429f",
      "c8258b58294b4af1acfd6a88bffa5486",
      "0e5da72de462401f97cbf55e08ba925d",
      "884d815b92964e56aaf638b4599f98a6",
      "09febed6796f44dba6d8e3de5959c34d",
      "47fa3f8c4ce64076be97070557bb99ba",
      "c51901152b884c8399b22a1435ef757a",
      "ba14604a73b54f0fa60c15e1eba5706e",
      "f23e6858114946d687a2267d3e1089cc",
      "538445b9e03f419b8888cd422b3beaf8",
      "78e74d545ef446cf89595e469a653aef",
      "c9d1c10af4fd4b7fa9553f7dfe6eeef1",
      "df0b3af355d44ca4b38eb6e95affe9ff",
      "ba2b2df7a7ea468dac8628753b863965",
      "83526f2ac43a4c778fe6be75fbe3b8f5",
      "7c6d0d824abc4df394590e6d4e1efd7e",
      "47c4a64e26334187b44a6ece548ca732",
      "c72e0f153f4044ce9e920bf41e8c1149",
      "0303ed65fc83453b9231d6d9fb68bcd3",
      "bbbb01305d4a4d9e8db33d85ad28de70",
      "bcbf0fd8b1be4a95ac64ec536a5e466a"
     ]
    },
    "id": "AdKruTZIrzMO",
    "outputId": "952144d3-0dc8-4c51-e83a-16475a8b53cd"
   },
   "outputs": [
    {
     "name": "stderr",
     "output_type": "stream",
     "text": [
      "WARNING:pykeen.pipeline.api:No random seed is specified. Setting to 301730781.\n",
      "INFO:pykeen.pipeline.api:Using device: None\n",
      "INFO:pykeen.nn.message_passing:No num_bases was provided. Using sqrt(num_relations)=4.\n",
      "INFO:pykeen.nn.message_passing:No num_bases was provided. Using sqrt(num_relations)=4.\n",
      "WARNING:pykeen.nn.message_passing:Layers RGCNLayer(\n",
      "  (fwd): BasesDecomposition(\n",
      "    (relation_representations): LowRankRepresentation(\n",
      "      (bases): Embedding(\n",
      "        (_embeddings): Embedding(4, 22500)\n",
      "      )\n",
      "    )\n",
      "  )\n",
      "  (bwd): BasesDecomposition(\n",
      "    (relation_representations): LowRankRepresentation(\n",
      "      (bases): Embedding(\n",
      "        (_embeddings): Embedding(4, 22500)\n",
      "      )\n",
      "    )\n",
      "  )\n",
      "  (self_loop): Linear(in_features=150, out_features=150, bias=True)\n",
      "  (dropout): Dropout(p=0.2, inplace=False)\n",
      ") has parameters, but no reset_parameters.\n",
      "INFO:pykeen.stoppers.early_stopping:Inferred checkpoint path for best model weights: /root/.data/pykeen/checkpoints/best-model-weights-a08baf7d-274e-4192-bd58-41a90f634b7e.pt\n",
      "WARNING:pykeen.training.training_loop:Using RGCN without graph-based sampling! Please select sampler=\"schlichtkrull\" instead of None.\n",
      "WARNING:pykeen.training.training_loop:Using RGCN without graph-based sampling! Please select sampler=\"schlichtkrull\" instead of None.\n",
      "WARNING:pykeen.nn.message_passing:Layers RGCNLayer(\n",
      "  (fwd): BasesDecomposition(\n",
      "    (relation_representations): LowRankRepresentation(\n",
      "      (bases): Embedding(\n",
      "        (_embeddings): Embedding(4, 22500)\n",
      "      )\n",
      "    )\n",
      "  )\n",
      "  (bwd): BasesDecomposition(\n",
      "    (relation_representations): LowRankRepresentation(\n",
      "      (bases): Embedding(\n",
      "        (_embeddings): Embedding(4, 22500)\n",
      "      )\n",
      "    )\n",
      "  )\n",
      "  (self_loop): Linear(in_features=150, out_features=150, bias=True)\n",
      "  (dropout): Dropout(p=0.2, inplace=False)\n",
      ") has parameters, but no reset_parameters.\n",
      "WARNING:pykeen.nn.message_passing:Layers RGCNLayer(\n",
      "  (fwd): BasesDecomposition(\n",
      "    (relation_representations): LowRankRepresentation(\n",
      "      (bases): Embedding(\n",
      "        (_embeddings): Embedding(4, 22500)\n",
      "      )\n",
      "    )\n",
      "  )\n",
      "  (bwd): BasesDecomposition(\n",
      "    (relation_representations): LowRankRepresentation(\n",
      "      (bases): Embedding(\n",
      "        (_embeddings): Embedding(4, 22500)\n",
      "      )\n",
      "    )\n",
      "  )\n",
      "  (self_loop): Linear(in_features=150, out_features=150, bias=True)\n",
      "  (dropout): Dropout(p=0.2, inplace=False)\n",
      ") has parameters, but no reset_parameters.\n"
     ]
    },
    {
     "data": {
      "application/vnd.jupyter.widget-view+json": {
       "model_id": "ad6569e73fc340fda3d0c2d809b224c9",
       "version_major": 2,
       "version_minor": 0
      },
      "text/plain": [
       "Training epochs on cuda:0:   0%|          | 0/100 [00:00<?, ?epoch/s]"
      ]
     },
     "metadata": {},
     "output_type": "display_data"
    },
    {
     "data": {
      "application/vnd.jupyter.widget-view+json": {
       "model_id": "50368e84a2a240cbbcab06627102029d",
       "version_major": 2,
       "version_minor": 0
      },
      "text/plain": [
       "Training batches on cuda:0:   0%|          | 0/254 [00:00<?, ?batch/s]"
      ]
     },
     "metadata": {},
     "output_type": "display_data"
    },
    {
     "data": {
      "application/vnd.jupyter.widget-view+json": {
       "model_id": "7ba9110025ce494ca2269ed9e35621c9",
       "version_major": 2,
       "version_minor": 0
      },
      "text/plain": [
       "Training batches on cuda:0:   0%|          | 0/254 [00:00<?, ?batch/s]"
      ]
     },
     "metadata": {},
     "output_type": "display_data"
    },
    {
     "data": {
      "application/vnd.jupyter.widget-view+json": {
       "model_id": "97babd10a9a044648953ec9316d82927",
       "version_major": 2,
       "version_minor": 0
      },
      "text/plain": [
       "Training batches on cuda:0:   0%|          | 0/254 [00:00<?, ?batch/s]"
      ]
     },
     "metadata": {},
     "output_type": "display_data"
    },
    {
     "data": {
      "application/vnd.jupyter.widget-view+json": {
       "model_id": "61cad77306e744da846a97c5680b87d3",
       "version_major": 2,
       "version_minor": 0
      },
      "text/plain": [
       "Training batches on cuda:0:   0%|          | 0/254 [00:00<?, ?batch/s]"
      ]
     },
     "metadata": {},
     "output_type": "display_data"
    },
    {
     "data": {
      "application/vnd.jupyter.widget-view+json": {
       "model_id": "58dad5230406426e9226b040f8e8aec9",
       "version_major": 2,
       "version_minor": 0
      },
      "text/plain": [
       "Training batches on cuda:0:   0%|          | 0/254 [00:00<?, ?batch/s]"
      ]
     },
     "metadata": {},
     "output_type": "display_data"
    },
    {
     "data": {
      "application/vnd.jupyter.widget-view+json": {
       "model_id": "d8265f71f8df495582870d88ff45c36a",
       "version_major": 2,
       "version_minor": 0
      },
      "text/plain": [
       "Training batches on cuda:0:   0%|          | 0/254 [00:00<?, ?batch/s]"
      ]
     },
     "metadata": {},
     "output_type": "display_data"
    },
    {
     "data": {
      "application/vnd.jupyter.widget-view+json": {
       "model_id": "d7c8e7b2693d46fcb977eec3de6e4a2b",
       "version_major": 2,
       "version_minor": 0
      },
      "text/plain": [
       "Training batches on cuda:0:   0%|          | 0/254 [00:00<?, ?batch/s]"
      ]
     },
     "metadata": {},
     "output_type": "display_data"
    },
    {
     "data": {
      "application/vnd.jupyter.widget-view+json": {
       "model_id": "abe7533f077f4dc19810aca4bd5b4974",
       "version_major": 2,
       "version_minor": 0
      },
      "text/plain": [
       "Training batches on cuda:0:   0%|          | 0/254 [00:00<?, ?batch/s]"
      ]
     },
     "metadata": {},
     "output_type": "display_data"
    },
    {
     "data": {
      "application/vnd.jupyter.widget-view+json": {
       "model_id": "4056b60aade5427fba990fb05ad89455",
       "version_major": 2,
       "version_minor": 0
      },
      "text/plain": [
       "Training batches on cuda:0:   0%|          | 0/254 [00:00<?, ?batch/s]"
      ]
     },
     "metadata": {},
     "output_type": "display_data"
    },
    {
     "data": {
      "application/vnd.jupyter.widget-view+json": {
       "model_id": "4b9db0e6a4224bb8a477bf1ea92055a0",
       "version_major": 2,
       "version_minor": 0
      },
      "text/plain": [
       "Training batches on cuda:0:   0%|          | 0/254 [00:00<?, ?batch/s]"
      ]
     },
     "metadata": {},
     "output_type": "display_data"
    },
    {
     "name": "stderr",
     "output_type": "stream",
     "text": [
      "INFO:pykeen.evaluation.evaluator:Evaluation took 2.78s seconds\n",
      "INFO:pykeen.stoppers.early_stopping:New best result at epoch 10: 0.1948060941828255. Saved model weights to /root/.data/pykeen/checkpoints/best-model-weights-a08baf7d-274e-4192-bd58-41a90f634b7e.pt\n",
      "INFO:pykeen.training.training_loop:=> Saved checkpoint after having finished epoch 10.\n"
     ]
    },
    {
     "data": {
      "application/vnd.jupyter.widget-view+json": {
       "model_id": "95134015f8104a0fa89f7a5ef9fd8fc7",
       "version_major": 2,
       "version_minor": 0
      },
      "text/plain": [
       "Training batches on cuda:0:   0%|          | 0/254 [00:00<?, ?batch/s]"
      ]
     },
     "metadata": {},
     "output_type": "display_data"
    },
    {
     "data": {
      "application/vnd.jupyter.widget-view+json": {
       "model_id": "274980899c484531b73c37055481cfac",
       "version_major": 2,
       "version_minor": 0
      },
      "text/plain": [
       "Training batches on cuda:0:   0%|          | 0/254 [00:00<?, ?batch/s]"
      ]
     },
     "metadata": {},
     "output_type": "display_data"
    },
    {
     "data": {
      "application/vnd.jupyter.widget-view+json": {
       "model_id": "eb9a00a50e424f6b902122e6aabc8495",
       "version_major": 2,
       "version_minor": 0
      },
      "text/plain": [
       "Training batches on cuda:0:   0%|          | 0/254 [00:00<?, ?batch/s]"
      ]
     },
     "metadata": {},
     "output_type": "display_data"
    },
    {
     "data": {
      "application/vnd.jupyter.widget-view+json": {
       "model_id": "35baf50af05d4983a913fdc5fc876864",
       "version_major": 2,
       "version_minor": 0
      },
      "text/plain": [
       "Training batches on cuda:0:   0%|          | 0/254 [00:00<?, ?batch/s]"
      ]
     },
     "metadata": {},
     "output_type": "display_data"
    },
    {
     "data": {
      "application/vnd.jupyter.widget-view+json": {
       "model_id": "438af127672c41b3a3ecfd0207bb36f1",
       "version_major": 2,
       "version_minor": 0
      },
      "text/plain": [
       "Training batches on cuda:0:   0%|          | 0/254 [00:00<?, ?batch/s]"
      ]
     },
     "metadata": {},
     "output_type": "display_data"
    },
    {
     "data": {
      "application/vnd.jupyter.widget-view+json": {
       "model_id": "8eba422c70314e939d3ff8d459aeb9d6",
       "version_major": 2,
       "version_minor": 0
      },
      "text/plain": [
       "Training batches on cuda:0:   0%|          | 0/254 [00:00<?, ?batch/s]"
      ]
     },
     "metadata": {},
     "output_type": "display_data"
    },
    {
     "data": {
      "application/vnd.jupyter.widget-view+json": {
       "model_id": "ba13e952f3a4404ba752c53728ad51ff",
       "version_major": 2,
       "version_minor": 0
      },
      "text/plain": [
       "Training batches on cuda:0:   0%|          | 0/254 [00:00<?, ?batch/s]"
      ]
     },
     "metadata": {},
     "output_type": "display_data"
    },
    {
     "data": {
      "application/vnd.jupyter.widget-view+json": {
       "model_id": "005ed3f6373441709b26dc070ac258f2",
       "version_major": 2,
       "version_minor": 0
      },
      "text/plain": [
       "Training batches on cuda:0:   0%|          | 0/254 [00:00<?, ?batch/s]"
      ]
     },
     "metadata": {},
     "output_type": "display_data"
    },
    {
     "data": {
      "application/vnd.jupyter.widget-view+json": {
       "model_id": "5596508c9faf4b319d7988b8298ce118",
       "version_major": 2,
       "version_minor": 0
      },
      "text/plain": [
       "Training batches on cuda:0:   0%|          | 0/254 [00:00<?, ?batch/s]"
      ]
     },
     "metadata": {},
     "output_type": "display_data"
    },
    {
     "data": {
      "application/vnd.jupyter.widget-view+json": {
       "model_id": "6d2258a5d4d64704910c9d1fc6cd813d",
       "version_major": 2,
       "version_minor": 0
      },
      "text/plain": [
       "Training batches on cuda:0:   0%|          | 0/254 [00:00<?, ?batch/s]"
      ]
     },
     "metadata": {},
     "output_type": "display_data"
    },
    {
     "name": "stderr",
     "output_type": "stream",
     "text": [
      "INFO:pykeen.evaluation.evaluator:Evaluation took 2.71s seconds\n",
      "INFO:pykeen.stoppers.early_stopping:New best result at epoch 20: 0.20297783933518004. Saved model weights to /root/.data/pykeen/checkpoints/best-model-weights-a08baf7d-274e-4192-bd58-41a90f634b7e.pt\n",
      "INFO:pykeen.training.training_loop:=> Saved checkpoint after having finished epoch 20.\n"
     ]
    },
    {
     "data": {
      "application/vnd.jupyter.widget-view+json": {
       "model_id": "964059b9112f4cb0b435a85cb832aae6",
       "version_major": 2,
       "version_minor": 0
      },
      "text/plain": [
       "Training batches on cuda:0:   0%|          | 0/254 [00:00<?, ?batch/s]"
      ]
     },
     "metadata": {},
     "output_type": "display_data"
    },
    {
     "data": {
      "application/vnd.jupyter.widget-view+json": {
       "model_id": "415512fec08d494ea66626942b8cf3bd",
       "version_major": 2,
       "version_minor": 0
      },
      "text/plain": [
       "Training batches on cuda:0:   0%|          | 0/254 [00:00<?, ?batch/s]"
      ]
     },
     "metadata": {},
     "output_type": "display_data"
    },
    {
     "data": {
      "application/vnd.jupyter.widget-view+json": {
       "model_id": "3dfeab2b23b4431ab3b584118c487e33",
       "version_major": 2,
       "version_minor": 0
      },
      "text/plain": [
       "Training batches on cuda:0:   0%|          | 0/254 [00:00<?, ?batch/s]"
      ]
     },
     "metadata": {},
     "output_type": "display_data"
    },
    {
     "data": {
      "application/vnd.jupyter.widget-view+json": {
       "model_id": "e03e554953c84ce984810c1f6d2eff08",
       "version_major": 2,
       "version_minor": 0
      },
      "text/plain": [
       "Training batches on cuda:0:   0%|          | 0/254 [00:00<?, ?batch/s]"
      ]
     },
     "metadata": {},
     "output_type": "display_data"
    },
    {
     "data": {
      "application/vnd.jupyter.widget-view+json": {
       "model_id": "ddff9b60360947ba845c3d4bd35fa41c",
       "version_major": 2,
       "version_minor": 0
      },
      "text/plain": [
       "Training batches on cuda:0:   0%|          | 0/254 [00:00<?, ?batch/s]"
      ]
     },
     "metadata": {},
     "output_type": "display_data"
    },
    {
     "data": {
      "application/vnd.jupyter.widget-view+json": {
       "model_id": "fb28adf0fd29434bab975a86f4bc7989",
       "version_major": 2,
       "version_minor": 0
      },
      "text/plain": [
       "Training batches on cuda:0:   0%|          | 0/254 [00:00<?, ?batch/s]"
      ]
     },
     "metadata": {},
     "output_type": "display_data"
    },
    {
     "data": {
      "application/vnd.jupyter.widget-view+json": {
       "model_id": "8c0da0fd86b74dc88d3967515041afcc",
       "version_major": 2,
       "version_minor": 0
      },
      "text/plain": [
       "Training batches on cuda:0:   0%|          | 0/254 [00:00<?, ?batch/s]"
      ]
     },
     "metadata": {},
     "output_type": "display_data"
    },
    {
     "data": {
      "application/vnd.jupyter.widget-view+json": {
       "model_id": "c9dd391bcae54d40904adb6799154438",
       "version_major": 2,
       "version_minor": 0
      },
      "text/plain": [
       "Training batches on cuda:0:   0%|          | 0/254 [00:00<?, ?batch/s]"
      ]
     },
     "metadata": {},
     "output_type": "display_data"
    },
    {
     "data": {
      "application/vnd.jupyter.widget-view+json": {
       "model_id": "8b79233f85614a22bb59a4ec28cb5893",
       "version_major": 2,
       "version_minor": 0
      },
      "text/plain": [
       "Training batches on cuda:0:   0%|          | 0/254 [00:00<?, ?batch/s]"
      ]
     },
     "metadata": {},
     "output_type": "display_data"
    },
    {
     "data": {
      "application/vnd.jupyter.widget-view+json": {
       "model_id": "91282367e4ec4b3f81c921500d176f79",
       "version_major": 2,
       "version_minor": 0
      },
      "text/plain": [
       "Training batches on cuda:0:   0%|          | 0/254 [00:00<?, ?batch/s]"
      ]
     },
     "metadata": {},
     "output_type": "display_data"
    },
    {
     "name": "stderr",
     "output_type": "stream",
     "text": [
      "INFO:pykeen.evaluation.evaluator:Evaluation took 2.78s seconds\n",
      "INFO:pykeen.stoppers.early_stopping:New best result at epoch 30: 0.2350415512465374. Saved model weights to /root/.data/pykeen/checkpoints/best-model-weights-a08baf7d-274e-4192-bd58-41a90f634b7e.pt\n",
      "INFO:pykeen.training.training_loop:=> Saved checkpoint after having finished epoch 30.\n"
     ]
    },
    {
     "data": {
      "application/vnd.jupyter.widget-view+json": {
       "model_id": "0cfc13646dd5451f9d3278eff2c25ca4",
       "version_major": 2,
       "version_minor": 0
      },
      "text/plain": [
       "Training batches on cuda:0:   0%|          | 0/254 [00:00<?, ?batch/s]"
      ]
     },
     "metadata": {},
     "output_type": "display_data"
    },
    {
     "data": {
      "application/vnd.jupyter.widget-view+json": {
       "model_id": "039e2fc65ae348d8a80a8b8454a7282f",
       "version_major": 2,
       "version_minor": 0
      },
      "text/plain": [
       "Training batches on cuda:0:   0%|          | 0/254 [00:00<?, ?batch/s]"
      ]
     },
     "metadata": {},
     "output_type": "display_data"
    },
    {
     "data": {
      "application/vnd.jupyter.widget-view+json": {
       "model_id": "47513bd214274d4a85e13e9872f8445b",
       "version_major": 2,
       "version_minor": 0
      },
      "text/plain": [
       "Training batches on cuda:0:   0%|          | 0/254 [00:00<?, ?batch/s]"
      ]
     },
     "metadata": {},
     "output_type": "display_data"
    },
    {
     "data": {
      "application/vnd.jupyter.widget-view+json": {
       "model_id": "8b6726797e3841cf81d5375c802779ae",
       "version_major": 2,
       "version_minor": 0
      },
      "text/plain": [
       "Training batches on cuda:0:   0%|          | 0/254 [00:00<?, ?batch/s]"
      ]
     },
     "metadata": {},
     "output_type": "display_data"
    },
    {
     "data": {
      "application/vnd.jupyter.widget-view+json": {
       "model_id": "c5c1f4a8646a47599ac775c384381a01",
       "version_major": 2,
       "version_minor": 0
      },
      "text/plain": [
       "Training batches on cuda:0:   0%|          | 0/254 [00:00<?, ?batch/s]"
      ]
     },
     "metadata": {},
     "output_type": "display_data"
    },
    {
     "data": {
      "application/vnd.jupyter.widget-view+json": {
       "model_id": "4a89888879334626a3d65f0653d67bbf",
       "version_major": 2,
       "version_minor": 0
      },
      "text/plain": [
       "Training batches on cuda:0:   0%|          | 0/254 [00:00<?, ?batch/s]"
      ]
     },
     "metadata": {},
     "output_type": "display_data"
    },
    {
     "data": {
      "application/vnd.jupyter.widget-view+json": {
       "model_id": "dc0a8ed052b34044b8afe749ad3204a5",
       "version_major": 2,
       "version_minor": 0
      },
      "text/plain": [
       "Training batches on cuda:0:   0%|          | 0/254 [00:00<?, ?batch/s]"
      ]
     },
     "metadata": {},
     "output_type": "display_data"
    },
    {
     "data": {
      "application/vnd.jupyter.widget-view+json": {
       "model_id": "22641c4685754ad3b7cebdb0241504cf",
       "version_major": 2,
       "version_minor": 0
      },
      "text/plain": [
       "Training batches on cuda:0:   0%|          | 0/254 [00:00<?, ?batch/s]"
      ]
     },
     "metadata": {},
     "output_type": "display_data"
    },
    {
     "data": {
      "application/vnd.jupyter.widget-view+json": {
       "model_id": "0a020f57e11c479a9e37015af79f9aa0",
       "version_major": 2,
       "version_minor": 0
      },
      "text/plain": [
       "Training batches on cuda:0:   0%|          | 0/254 [00:00<?, ?batch/s]"
      ]
     },
     "metadata": {},
     "output_type": "display_data"
    },
    {
     "data": {
      "application/vnd.jupyter.widget-view+json": {
       "model_id": "3b3db0ed8ce84794966a7d98684b3bee",
       "version_major": 2,
       "version_minor": 0
      },
      "text/plain": [
       "Training batches on cuda:0:   0%|          | 0/254 [00:00<?, ?batch/s]"
      ]
     },
     "metadata": {},
     "output_type": "display_data"
    },
    {
     "name": "stderr",
     "output_type": "stream",
     "text": [
      "INFO:pykeen.evaluation.evaluator:Evaluation took 2.93s seconds\n",
      "INFO:pykeen.stoppers.early_stopping:New best result at epoch 40: 0.25761772853185594. Saved model weights to /root/.data/pykeen/checkpoints/best-model-weights-a08baf7d-274e-4192-bd58-41a90f634b7e.pt\n",
      "INFO:pykeen.training.training_loop:=> Saved checkpoint after having finished epoch 40.\n"
     ]
    },
    {
     "data": {
      "application/vnd.jupyter.widget-view+json": {
       "model_id": "e5672a46bd224d328a5f14092089726e",
       "version_major": 2,
       "version_minor": 0
      },
      "text/plain": [
       "Training batches on cuda:0:   0%|          | 0/254 [00:00<?, ?batch/s]"
      ]
     },
     "metadata": {},
     "output_type": "display_data"
    },
    {
     "data": {
      "application/vnd.jupyter.widget-view+json": {
       "model_id": "13b6fb8107db40a5a0d97ee000868563",
       "version_major": 2,
       "version_minor": 0
      },
      "text/plain": [
       "Training batches on cuda:0:   0%|          | 0/254 [00:00<?, ?batch/s]"
      ]
     },
     "metadata": {},
     "output_type": "display_data"
    },
    {
     "data": {
      "application/vnd.jupyter.widget-view+json": {
       "model_id": "4269a99ff2af40528247a51f5c195e6a",
       "version_major": 2,
       "version_minor": 0
      },
      "text/plain": [
       "Training batches on cuda:0:   0%|          | 0/254 [00:00<?, ?batch/s]"
      ]
     },
     "metadata": {},
     "output_type": "display_data"
    },
    {
     "data": {
      "application/vnd.jupyter.widget-view+json": {
       "model_id": "2bf899262ec648ccbf3214c32ab13108",
       "version_major": 2,
       "version_minor": 0
      },
      "text/plain": [
       "Training batches on cuda:0:   0%|          | 0/254 [00:00<?, ?batch/s]"
      ]
     },
     "metadata": {},
     "output_type": "display_data"
    },
    {
     "data": {
      "application/vnd.jupyter.widget-view+json": {
       "model_id": "e8f1f413585a41d5a38ed3926efaafae",
       "version_major": 2,
       "version_minor": 0
      },
      "text/plain": [
       "Training batches on cuda:0:   0%|          | 0/254 [00:00<?, ?batch/s]"
      ]
     },
     "metadata": {},
     "output_type": "display_data"
    },
    {
     "data": {
      "application/vnd.jupyter.widget-view+json": {
       "model_id": "5a650736678c4cedb2c3271fe98634b7",
       "version_major": 2,
       "version_minor": 0
      },
      "text/plain": [
       "Training batches on cuda:0:   0%|          | 0/254 [00:00<?, ?batch/s]"
      ]
     },
     "metadata": {},
     "output_type": "display_data"
    },
    {
     "data": {
      "application/vnd.jupyter.widget-view+json": {
       "model_id": "f56306dbef7849d5a88e15c441e9ac19",
       "version_major": 2,
       "version_minor": 0
      },
      "text/plain": [
       "Training batches on cuda:0:   0%|          | 0/254 [00:00<?, ?batch/s]"
      ]
     },
     "metadata": {},
     "output_type": "display_data"
    },
    {
     "data": {
      "application/vnd.jupyter.widget-view+json": {
       "model_id": "bad8aace4e9e4744925cea938270724a",
       "version_major": 2,
       "version_minor": 0
      },
      "text/plain": [
       "Training batches on cuda:0:   0%|          | 0/254 [00:00<?, ?batch/s]"
      ]
     },
     "metadata": {},
     "output_type": "display_data"
    },
    {
     "data": {
      "application/vnd.jupyter.widget-view+json": {
       "model_id": "96d7b61e471d461292fec86b906d2d68",
       "version_major": 2,
       "version_minor": 0
      },
      "text/plain": [
       "Training batches on cuda:0:   0%|          | 0/254 [00:00<?, ?batch/s]"
      ]
     },
     "metadata": {},
     "output_type": "display_data"
    },
    {
     "data": {
      "application/vnd.jupyter.widget-view+json": {
       "model_id": "8cdcc3d3e30541dc8cf572aa740b58ec",
       "version_major": 2,
       "version_minor": 0
      },
      "text/plain": [
       "Training batches on cuda:0:   0%|          | 0/254 [00:00<?, ?batch/s]"
      ]
     },
     "metadata": {},
     "output_type": "display_data"
    },
    {
     "name": "stderr",
     "output_type": "stream",
     "text": [
      "INFO:pykeen.evaluation.evaluator:Evaluation took 2.55s seconds\n",
      "INFO:pykeen.stoppers.early_stopping:New best result at epoch 50: 0.27479224376731304. Saved model weights to /root/.data/pykeen/checkpoints/best-model-weights-a08baf7d-274e-4192-bd58-41a90f634b7e.pt\n",
      "INFO:pykeen.training.training_loop:=> Saved checkpoint after having finished epoch 50.\n"
     ]
    },
    {
     "data": {
      "application/vnd.jupyter.widget-view+json": {
       "model_id": "15b94f2e8e0d479eaf5e0843dea8bcab",
       "version_major": 2,
       "version_minor": 0
      },
      "text/plain": [
       "Training batches on cuda:0:   0%|          | 0/254 [00:00<?, ?batch/s]"
      ]
     },
     "metadata": {},
     "output_type": "display_data"
    },
    {
     "data": {
      "application/vnd.jupyter.widget-view+json": {
       "model_id": "c306ad3bc09f4766b47ac10246f1ae07",
       "version_major": 2,
       "version_minor": 0
      },
      "text/plain": [
       "Training batches on cuda:0:   0%|          | 0/254 [00:00<?, ?batch/s]"
      ]
     },
     "metadata": {},
     "output_type": "display_data"
    },
    {
     "data": {
      "application/vnd.jupyter.widget-view+json": {
       "model_id": "49568f94f9884ec598797534c90ba0d6",
       "version_major": 2,
       "version_minor": 0
      },
      "text/plain": [
       "Training batches on cuda:0:   0%|          | 0/254 [00:00<?, ?batch/s]"
      ]
     },
     "metadata": {},
     "output_type": "display_data"
    },
    {
     "data": {
      "application/vnd.jupyter.widget-view+json": {
       "model_id": "a884443db0d5401d9adeb8fe5985ef43",
       "version_major": 2,
       "version_minor": 0
      },
      "text/plain": [
       "Training batches on cuda:0:   0%|          | 0/254 [00:00<?, ?batch/s]"
      ]
     },
     "metadata": {},
     "output_type": "display_data"
    },
    {
     "data": {
      "application/vnd.jupyter.widget-view+json": {
       "model_id": "bd7d692159444b98a4ebc54083dcdd33",
       "version_major": 2,
       "version_minor": 0
      },
      "text/plain": [
       "Training batches on cuda:0:   0%|          | 0/254 [00:00<?, ?batch/s]"
      ]
     },
     "metadata": {},
     "output_type": "display_data"
    },
    {
     "data": {
      "application/vnd.jupyter.widget-view+json": {
       "model_id": "809a552efa264f6fa790f8390a7fd629",
       "version_major": 2,
       "version_minor": 0
      },
      "text/plain": [
       "Training batches on cuda:0:   0%|          | 0/254 [00:00<?, ?batch/s]"
      ]
     },
     "metadata": {},
     "output_type": "display_data"
    },
    {
     "data": {
      "application/vnd.jupyter.widget-view+json": {
       "model_id": "5b71a2a0fd3149bbae70cce191a82018",
       "version_major": 2,
       "version_minor": 0
      },
      "text/plain": [
       "Training batches on cuda:0:   0%|          | 0/254 [00:00<?, ?batch/s]"
      ]
     },
     "metadata": {},
     "output_type": "display_data"
    },
    {
     "data": {
      "application/vnd.jupyter.widget-view+json": {
       "model_id": "2089b01f28a942bfa8ca9abac8a68998",
       "version_major": 2,
       "version_minor": 0
      },
      "text/plain": [
       "Training batches on cuda:0:   0%|          | 0/254 [00:00<?, ?batch/s]"
      ]
     },
     "metadata": {},
     "output_type": "display_data"
    },
    {
     "data": {
      "application/vnd.jupyter.widget-view+json": {
       "model_id": "d9f9c5c3f4374fa2865bef08dd83bcc0",
       "version_major": 2,
       "version_minor": 0
      },
      "text/plain": [
       "Training batches on cuda:0:   0%|          | 0/254 [00:00<?, ?batch/s]"
      ]
     },
     "metadata": {},
     "output_type": "display_data"
    },
    {
     "data": {
      "application/vnd.jupyter.widget-view+json": {
       "model_id": "5f9fa89259064aa38141bfb8e124c848",
       "version_major": 2,
       "version_minor": 0
      },
      "text/plain": [
       "Training batches on cuda:0:   0%|          | 0/254 [00:00<?, ?batch/s]"
      ]
     },
     "metadata": {},
     "output_type": "display_data"
    },
    {
     "name": "stderr",
     "output_type": "stream",
     "text": [
      "INFO:pykeen.evaluation.evaluator:Evaluation took 2.78s seconds\n"
     ]
    },
    {
     "data": {
      "application/vnd.jupyter.widget-view+json": {
       "model_id": "8e39b6ac1d614d269ce45813730da7b4",
       "version_major": 2,
       "version_minor": 0
      },
      "text/plain": [
       "Training batches on cuda:0:   0%|          | 0/254 [00:00<?, ?batch/s]"
      ]
     },
     "metadata": {},
     "output_type": "display_data"
    },
    {
     "data": {
      "application/vnd.jupyter.widget-view+json": {
       "model_id": "d1ea30aabc80467180ecebbb964af7c7",
       "version_major": 2,
       "version_minor": 0
      },
      "text/plain": [
       "Training batches on cuda:0:   0%|          | 0/254 [00:00<?, ?batch/s]"
      ]
     },
     "metadata": {},
     "output_type": "display_data"
    },
    {
     "data": {
      "application/vnd.jupyter.widget-view+json": {
       "model_id": "d1d60da33a6845a89fbdc4c6a4379f55",
       "version_major": 2,
       "version_minor": 0
      },
      "text/plain": [
       "Training batches on cuda:0:   0%|          | 0/254 [00:00<?, ?batch/s]"
      ]
     },
     "metadata": {},
     "output_type": "display_data"
    },
    {
     "data": {
      "application/vnd.jupyter.widget-view+json": {
       "model_id": "5f443d83335b4bb298e3cd65578c67f5",
       "version_major": 2,
       "version_minor": 0
      },
      "text/plain": [
       "Training batches on cuda:0:   0%|          | 0/254 [00:00<?, ?batch/s]"
      ]
     },
     "metadata": {},
     "output_type": "display_data"
    },
    {
     "data": {
      "application/vnd.jupyter.widget-view+json": {
       "model_id": "71b020088b2d4a838ca9c819012be0fb",
       "version_major": 2,
       "version_minor": 0
      },
      "text/plain": [
       "Training batches on cuda:0:   0%|          | 0/254 [00:00<?, ?batch/s]"
      ]
     },
     "metadata": {},
     "output_type": "display_data"
    },
    {
     "data": {
      "application/vnd.jupyter.widget-view+json": {
       "model_id": "88948475d8424da89261904f4766f202",
       "version_major": 2,
       "version_minor": 0
      },
      "text/plain": [
       "Training batches on cuda:0:   0%|          | 0/254 [00:00<?, ?batch/s]"
      ]
     },
     "metadata": {},
     "output_type": "display_data"
    },
    {
     "data": {
      "application/vnd.jupyter.widget-view+json": {
       "model_id": "9f86c6aecd1a40fb85bffe554b82be23",
       "version_major": 2,
       "version_minor": 0
      },
      "text/plain": [
       "Training batches on cuda:0:   0%|          | 0/254 [00:00<?, ?batch/s]"
      ]
     },
     "metadata": {},
     "output_type": "display_data"
    },
    {
     "data": {
      "application/vnd.jupyter.widget-view+json": {
       "model_id": "064ae3b0d4464331a0c0cfc69788fae5",
       "version_major": 2,
       "version_minor": 0
      },
      "text/plain": [
       "Training batches on cuda:0:   0%|          | 0/254 [00:00<?, ?batch/s]"
      ]
     },
     "metadata": {},
     "output_type": "display_data"
    },
    {
     "data": {
      "application/vnd.jupyter.widget-view+json": {
       "model_id": "bb991607e95942539493555ce572e27f",
       "version_major": 2,
       "version_minor": 0
      },
      "text/plain": [
       "Training batches on cuda:0:   0%|          | 0/254 [00:00<?, ?batch/s]"
      ]
     },
     "metadata": {},
     "output_type": "display_data"
    },
    {
     "data": {
      "application/vnd.jupyter.widget-view+json": {
       "model_id": "f3ad7bf87b464c4fae14a6597962ccbf",
       "version_major": 2,
       "version_minor": 0
      },
      "text/plain": [
       "Training batches on cuda:0:   0%|          | 0/254 [00:00<?, ?batch/s]"
      ]
     },
     "metadata": {},
     "output_type": "display_data"
    },
    {
     "name": "stderr",
     "output_type": "stream",
     "text": [
      "INFO:pykeen.evaluation.evaluator:Evaluation took 2.75s seconds\n",
      "INFO:pykeen.stoppers.early_stopping:Stopping early at epoch 70. The best result 0.27479224376731304 occurred at epoch 50.\n",
      "INFO:pykeen.stoppers.early_stopping:Re-loading weights from best epoch from /root/.data/pykeen/checkpoints/best-model-weights-a08baf7d-274e-4192-bd58-41a90f634b7e.pt\n",
      "/usr/local/lib/python3.10/dist-packages/pykeen/stoppers/early_stopping.py:268: FutureWarning: You are using `torch.load` with `weights_only=False` (the current default value), which uses the default pickle module implicitly. It is possible to construct malicious pickle data which will execute arbitrary code during unpickling (See https://github.com/pytorch/pytorch/blob/main/SECURITY.md#untrusted-models for more details). In a future release, the default value for `weights_only` will be flipped to `True`. This limits the functions that could be executed during unpickling. Arbitrary objects will no longer be allowed to be loaded via this mode unless they are explicitly allowlisted by the user via `torch.serialization.add_safe_globals`. We recommend you start setting `weights_only=True` for any use case where you don't have full control of the loaded file. Please open an issue on GitHub for any issues related to this experimental feature.\n",
      "  self.model.load_state_dict(torch.load(self.best_model_path))\n"
     ]
    },
    {
     "data": {
      "application/vnd.jupyter.widget-view+json": {
       "model_id": "78e74d545ef446cf89595e469a653aef",
       "version_major": 2,
       "version_minor": 0
      },
      "text/plain": [
       "Evaluating on cuda:0:   0%|          | 0.00/1.58k [00:00<?, ?triple/s]"
      ]
     },
     "metadata": {},
     "output_type": "display_data"
    },
    {
     "name": "stderr",
     "output_type": "stream",
     "text": [
      "INFO:pykeen.evaluation.evaluator:Evaluation took 1.53s seconds\n"
     ]
    }
   ],
   "source": [
    "result = pipeline(\n",
    "    training=training,\n",
    "    testing=testing,\n",
    "    validation=validation,\n",
    "    model='RGCN',  # Specify RGCN model\n",
    "    model_kwargs={\n",
    "        'embedding_dim': 150,    # Set embedding dimensions\n",
    "        'num_layers': 1,         # Number of R-GCN layers\n",
    "    #    'interaction': 'DistMult' # Specify interaction function\n",
    "    },\n",
    "    training_kwargs={\n",
    "        'num_epochs': 100,       # Set the number of epochs\n",
    "    },\n",
    "    stopper='early'              # Use early stopping\n",
    ")"
   ]
  },
  {
   "cell_type": "code",
   "execution_count": null,
   "metadata": {
    "colab": {
     "base_uri": "https://localhost:8080/"
    },
    "id": "QI6YX7v9fmsD",
    "outputId": "c72d4e68-2964-41b8-e6be-58410016f909"
   },
   "outputs": [
    {
     "name": "stdout",
     "output_type": "stream",
     "text": [
      "Model saved to /content/drive/MyDrive/Digital Twin Study/Mehmet Can/Models/01-150/01_150_trained_rgcn_model.pt\n"
     ]
    }
   ],
   "source": [
    "# Saving the model\n",
    "\n",
    "from pykeen.pipeline import pipeline\n",
    "from pykeen.models import RGCN\n",
    "import torch\n",
    "\n",
    "model = result.model\n",
    "\n",
    "model_path = '/content/drive/MyDrive/Digital Twin Study/Mehmet Can/Models/01-150/01_150_trained_rgcn_model.pt'\n",
    "torch.save(model.state_dict(), model_path)\n",
    "print(f\"Model saved to {model_path}\")"
   ]
  },
  {
   "cell_type": "code",
   "execution_count": null,
   "metadata": {
    "id": "eUuNcqjAfrjY"
   },
   "outputs": [],
   "source": [
    "# Loading the model\n",
    "\n",
    "from pykeen.pipeline import pipeline\n",
    "from pykeen.models import RGCN\n",
    "import torch\n",
    "\n",
    "loaded_model = RGCN(\n",
    "    triples_factory=result.training,\n",
    "    embedding_dim=150,\n",
    "     num_layers=1,\n",
    "    interaction=\"DistMult\",\n",
    ")\n",
    "loaded_model.load_state_dict(torch.load(model_path))\n",
    "print(\"Model reloaded successfully\")"
   ]
  },
  {
   "cell_type": "markdown",
   "metadata": {
    "id": "em9djlbqr8q_"
   },
   "source": [
    "#### Layer: 01 - Embedding Dim: 200"
   ]
  },
  {
   "cell_type": "code",
   "execution_count": null,
   "metadata": {
    "colab": {
     "base_uri": "https://localhost:8080/",
     "referenced_widgets": [
      "d203f3780cbf497081d7a5e08e3deb3d",
      "e5325ab907cd438cabd6fa6f8e8e1d85",
      "aebad98ed9544ca7b7596ecdca7cb6d5",
      "ab433b948a174d359b621e2850d8dfea",
      "e068a4ba36e24054a76450077b45a6ff",
      "6e72377330844c259ba88c3eddd88bb7",
      "6c747e6183444171812ceb19bd4ce9cd",
      "27966bd3193645f1813c2a4a74795772",
      "1a77c67cd43e4db595a7095a7aa7f937",
      "b3e8cdb47cae4c368207abb1b3ac5559",
      "ea9f753492c948dcac1cf17ce7a4ac2a",
      "7b95cc68af654ee8b67d20dc7076d1e9",
      "d7a4965ce10d42c2afa34ae120e10bc7",
      "912c091985d542d096783ddaf5b2a021",
      "8d4709e05bba46248444054cc422e270",
      "7abd94de56bf47e195134d7543cedc77",
      "ae1624d03b294bdcadc3b7835e800c05",
      "722b85982ad54fcf8f49d020d4e89969",
      "39fa8201befc48639e1126d26b20877b",
      "a3f3aaf71181493baf13695cc5512b7d",
      "035b641458bd4907ba353dc561e3c13d",
      "2abd270a49aa4c4f9529ca7242d7b98a",
      "d77c99303fa040998729004357c4bfc0",
      "7614561172ad4cd89bba7fdf650b996e",
      "900f5c346a064a008dd0d720c44d9c13",
      "5ee7157087924a719941d49fd5f8886c",
      "6a30619b78724393a3ba578329c533a5",
      "d76a95a4c5be4e8ea980ca3069534ae1",
      "bf5666fef3194b1388c6a3c0696c4886",
      "df4e203cbc0f4094911dcd52ac19a2e9",
      "68b6f8f89b5a4167b79d59c7b15be5d4",
      "ae9d11572637452e87774e551c987815",
      "69fdf660447942a3af832076f6abe7e9",
      "91e2ea41c80746dc972b4b3126e251ae",
      "af35047d97354d2399d7bd0fc54598ad",
      "bacfe94b92814f13accde63c1b1cde52",
      "464828a6f6dc497e8a54cd2ae7e12d4a",
      "e94bf02e196e400182c92f0755c83034",
      "5c9f55f4d98b4ef0ab5836c5fef90e04",
      "b2a00f2eaeca4f4aaa48400aa15bcd07",
      "12047f42c9d1418b887abe2471960cdb",
      "17368e1f0efb43fb809ad084d78622b6",
      "0669b43515154c6f81c3fca4c11aef52",
      "2dd85991d49e4f74a07dd48a50b17390",
      "8893907bc82642a7adb034c43941cc70",
      "d8806cd505034446b3d80ab9a56ab91d",
      "390abf85492a4d58acaeaf3dbeb9588b",
      "7058f320b02a432f8f8a160522d368a8",
      "662a576d5cee469eb47b598a59c429a3",
      "afaa3480398e4909b3a5908caeb57525",
      "6edd4a5f410c425e88ebfae2a8931699",
      "d48ed980985c4d9383b6c8146cb2d52a",
      "e4b75324b7da40fcb6aab45e84a8ae67",
      "17f25e7d127b44d1a77b6249ae54c3bb",
      "81693bd0a94c4077ac6bc3677d5ccc77",
      "ed34dd431c2d4e118f31adf2f53c06e5",
      "862a89c9d7224ab49223587589e3495f",
      "8c935ee9d80445bdb35571ab2c609c86",
      "f3b883bfbec9454ca6128a3fd6134e41",
      "945a33674c2c4b80b0c93ee932634e78",
      "8824e6ab2ae54253b19e3540553385a1",
      "34bbf9909d744b7c9bcaa3f01a2f8a26",
      "6551879f36dc40ec8d445858b3ce6040",
      "08e28b3304fb4e83960fd20d4e759145",
      "93a616b952394b63ac99abbd27f92d54",
      "ab57aea559b14f5bb9b335b0d686ea96",
      "d64cd49af48b4a6ebd629bf7c82ad5d2",
      "dea3d415cc2f4a30a66ecc76767cbacb",
      "8b6f101515de49ae974f44d9c6613b6b",
      "f1edbc9414dc44369e6335901e763534",
      "b6fc50d6a7ca4f01826b559fa581517a",
      "a1f8989d792c43c8927fd7bb1ac4067f",
      "4a3553e636344cdcb915c173ba223412",
      "4baef98e029040bdad771d39bde9131e",
      "1ed88048ef0a49309ba81b6464c5602e",
      "c10a22e7c8114ae7a7581e0f30301686",
      "c1679d2d10774a8c87e848f22a3afb6f",
      "1c2294b97c0e4155adf905fc272e2a2d",
      "27e152b2c66244efb64ef11aaa14f125",
      "968d6a83b9834275bce3d2361185aeab",
      "1d3ee297d3a740d4a1236757229297c0",
      "c0bbc1d4f4af44408157401ebebdfd67",
      "7dc7736bf40f4478b5b5baed8cab6d1a",
      "70d746c3a406467cbad696e9acf20fa4",
      "2db43dfc1e634e0589041b3ed78f3503",
      "e68005bcf35c4b4ebc4d49a8d60593f7",
      "477a870b622248a487da3612346b481a",
      "f634a5b2693e4832b7ca0019583e22aa",
      "f1cd6b3c112743ca92232f028cc97fa1",
      "7b2a850c66cb4e828f33a97aa933e469",
      "73ac0288209f4781bec78b6900c23805",
      "a05d3af535c94e5ebe6e84978cd57cc1",
      "7248f5426896450099bc4cca5840b67a",
      "2126ef9574b44afda28eaac6ef1e0a8b",
      "9a1557c448a84c1faf182fa1db83a911",
      "cb22f70369dd4fc894c8654e3a7d2308",
      "9a40f19bef2342959da93f2b7c719cb3",
      "c1e8236ff0644d18a613b35b4ed2bdf6",
      "d0305e810b054b89b5279f9fbc5bcda5",
      "35d436e80fd24233954d63e0e312bb68",
      "62530a0951834e4dbecf3ac71e2e7829",
      "babfbc84682e4da7b0796e6d2381cfe9",
      "374dd787f96c44b79c15cd5c2b0cc29c",
      "b303e3cfe69f4f359c36ec8eb0c6a296",
      "85fbd3b97d7b4cc2b582411af49fed5e",
      "3adcd001978a43df9c15448814c6d101",
      "1434cd63e3c1437e9e0052cb44d09ff8",
      "33a12923c50045f79529dafbb764aa5a",
      "7673090f59cb472d8053f10000411c8a",
      "e0b94e9bc29b4caf8ea1ee90ad3e301f",
      "4b25eef777b942118a4a247a5528ca18",
      "2638587bcbc14971a77bc35c2b7fcdcc",
      "eb315e8c270f4aec941b8589430b3dd0",
      "f06678429cad468788bc8d30d7fb734d",
      "65dd7e7fd40f4f9abdcc4e381494e252",
      "cfacb32c63ba4ffeb12ef1a85276e83a",
      "13c2a4e5c7214287914c9b639a23d637",
      "91c3ec4a9bd24692bda5390056277533",
      "543e7df711c14ace9ed836596ce2407c",
      "5737269dc40f431fa13acc47585c1b8e",
      "b69a6a33ea27428381a3f0f2ca3a2c34",
      "dba595f40a8e4baba64bd4161dc6673c",
      "5ce5be0e6c1d44c985a602b52477db02",
      "53e54f33a9f84df4a844b7d4a7f136ce",
      "f072ef9abd814e41b5b4bd0fd1d234a6",
      "47cefb6ca1fa47d7b1218e376f5c0c0f",
      "7507ad6281ea4b2cbb4b83a662abf6f8",
      "ede97077a6a44f4d9e786979d949c035",
      "d167126862e248099e7de65b980f0110",
      "7cfa7e3214594f2faa436f2dc0fc0820",
      "3a3931f1843a41958627a6ada67ac3d7",
      "96de1be50537419787c21c66a308bd3b",
      "24f7a1954e594f3ea07e1c7affda372f",
      "093bda2f3c844b51b7e8abf69ba4d5c0",
      "93b84f4ff0ca4771a8b8d2e08369682f",
      "ce5df9a6ff424a1582db21cba5fc5a2b",
      "660ba70b192f433caa4d6dd4ed8c8bde",
      "a9f18f4ac58d4a1b87f32541c65ba085",
      "2ffbc44f726243fe8f7ea00f5099ab24",
      "39517f29ee7d420296d266ab9185e263",
      "a8cfa1d38d3e490dbd491ae0a48a3ce9",
      "85e76c7007fe46aaa40f1bebd989704b",
      "8e61d33e7b8b4804af297d547119bb80",
      "89043bf349d64afe9e204aa278ee1124",
      "e0e3e94fca0c450f848f905698534dc1",
      "1f9a12080e17405abc964f06da2ae006",
      "7a80836556194a818202ab48defa09c2",
      "bc2c9a3856f64411bf3ff55eb715101e",
      "6d8b93f2982b4195b039dd3f7b5e6169",
      "03512bbc14b747658033a366c193f9e1",
      "7be57fb0a7394c51a59d0c1f5d0a1642",
      "af03aae1be1041eaa242c753716b6cf5",
      "d358b1dc1bc84fddb59f8022a718912e",
      "c7c3964da3d6471e87937dba184a19d5",
      "b8a06a059cd84cc191c4d63eb759c6ef",
      "6b7001a83ef748e88b788abca2ce1306",
      "3eb2d8f7b4334fdaa77a9ce83b66c77d",
      "984fcf2a90664637a349b76efdfa1020",
      "114a1ded1c8a4fdb8a7b3fcede91e8b1",
      "7aa2b0287d0149438b52931fee681b02",
      "5187ce358b4141a1a2200a0070b9f52f",
      "d4c6aad5e92740c1bd3f9235a836f9d4",
      "8bee40afe34a452587e08cc8df81196e",
      "38f4e93e2b0f45098cc0cfd9ac71bb54",
      "ef252ebb006f46158f14bb7a3ec5cf75",
      "86471db9f3204d5891a5ba7bed6b08c6",
      "ed1db098784947099c3068ab4d463361",
      "c558efc7a2c047ada7b4d619264673eb",
      "10a8704dfcca4f03a74328573cced34f",
      "cc20b37e1f17467a9e693085389137fe",
      "2bfe4292f9d54a1488c933875108b258",
      "08e63dc735534dceb7574fb3c265f6f0",
      "074d9b3c0db9435cb8df42d6f8885376",
      "eb56098629bc4ab7ab3e86653a137167",
      "9b07da684c624a6ba718e255e2e4cbfe",
      "8e515d1117634a2e9214b5197630048d",
      "bae11a94c54b471eb122f112190bc641",
      "6a84a51937934d7e95ed0bf16438fd64",
      "3ff547268ee642edbf9c99829027e604",
      "b1c8500766fa4fdba0741ce0c5e27552",
      "0a5656cc886a4ab0a71ea6fc20b03c2a",
      "d673a9d4076f4ccf93c4bcb619de5176",
      "a6485f399c0742e78446d2cbf3877229",
      "a573d81ec5754c1b92f5f14e089a3b78",
      "81a623642dd046b5927752511874374e",
      "9b7f7b7f420647d298e40aa3dc923e6a",
      "23ee47fd14ef47178070d74e32f3637a",
      "b05f35117e6d4e979242af8728469915",
      "3632c08009e94edf82c4ff3ac4b2a9be",
      "acb574ed50d84202b49160cd644cd3c1",
      "2843fcebddbf49f991f6d11711aa10ec",
      "378ca6ef78ce4fb586be79fdba74a314",
      "caa2b1d84d234d33b84b960e89ff3828",
      "4f5694c3e892444f8423296c96f36633",
      "1269c51d4dca4b8989e675564e583960",
      "8d91c7288c634c289d9bc215aad00bc5",
      "743f11e10a0d485face40d80208756b0",
      "75caea6862644f4492bcd11e3b52cf17",
      "127d2d90be5a47b5abcb02f1c1c8937b",
      "355d183247404c1a9897bec518faac04",
      "79b43ea132a740a1aaba405ab7353adc",
      "67d382e624194d2783c35cb353f714bb",
      "f352738413754714bcf2f0b7da997d9a",
      "95f7c19fb1e24d958fb0cd23e25e4c65",
      "22946e3ee6a5415daeb761d6737ed2c9",
      "45c0cffe42af4dbfa263fb472d240400",
      "0ad894fca4224da792659fb9cdb00ff4",
      "00725d67676542edad681fa35fd9adb0",
      "0ce0f40776ec4aeebf9db56a43406836",
      "f8beef7fb8604b74b41028b634e7fa8a",
      "3276e3eae2cd4341b4860b0eadf837bb",
      "103b3356d8154651a4526d83906fa298",
      "a5acc596886d4641bb0eb582f4227307",
      "2dfb4efac5f24aa19aa7de9d2f6ac7ca",
      "a1b7e5d80e6d4be496e366f3e939fe0e",
      "0d90079f9cdb4befbd9129cef37f72e7",
      "e3e281465c6e43aa92cde600b9c56cb6",
      "ebcbf1ce36aa4702b674ab68ee3c3bc2",
      "87db2131588b4409be925f94ba1ce8b7",
      "a93ae67696f040f39e6af8e062f61d77",
      "050e1eadc68f42cda35ee8476b66b0f7",
      "0e5968dea90545369333c0cd001758e9",
      "d8d288ae6ed3474ba450bcffbd257236",
      "e42e8095e2db404dbc8d44adf641a66e",
      "95344ba638014e02a49e24ad30f96645",
      "bae90a2188fc4c18a8804b0b83128d8f",
      "d083aca2a5ca43019e97d648ce191cc2",
      "7c344b4dea534941a5609f5e1c15baa7",
      "bc091c11da3b452fb9d22ded2b8e6e4d",
      "cd5aa60da5db430a923ce72a38964b2c",
      "b6db08c8d2554d2abdea707bc91f5b20",
      "f08f287603494e16ae67ed11d213d016",
      "5171608de8fb43b79585ddbb2a2a9a60",
      "1fbfffb39cd442688407050606a5be1a",
      "2a2c4823253c4d0981a2dfe747697fe1",
      "b21be95a04c547a6a60d39ec6534e1be",
      "fde94771fdb14ca9b8e28955a2398e01",
      "a546ab21cccd4004bdfa7a22ff30fa71",
      "514e2b63cb164dd38747856a8f9c825b",
      "d16ef887fb234bf8a0048459dabec822",
      "6119fe0ebd7b4c13b82b9fbe066ec096",
      "127e9aa468ae4141adb5bf7406f51396",
      "7cba4104bdd44a13ab7fb52ddf9e99d5",
      "e703811a0a14402e8b7d2933ee11f810",
      "29829e35214f4c23ad83aee76b21a6e8",
      "2eaf0a2b788a427badc2101963af82ab",
      "3e9e3c31bc194594913379225beb8020",
      "dfd615889b154a7d8ed0b1935ece9dfe",
      "9c504b47a8e945d68844253e3b544f76",
      "ccc23c6acdd3466f9d0207d4f2c96c14",
      "f42501c832f1423fb22a80d7b501d28e",
      "7cd5fb14f0be4cf9830267a6d85d3159",
      "3be1ff2945124d41a6ee3d3d9b5fd6f3",
      "23327af76b97407a89046b9388f09f35",
      "2aca7ef92f5a4e0babc01ad0ef7b293e",
      "062091f6c1504627b3f1b37104109ea8",
      "1924e52fdb224ae69577e837670ea84c",
      "b6ed671a87e4447988bae9fe852ad2de",
      "faa366917a5c49a69fc7808232366e7c",
      "e9b32afefb204cadbefd85420cf7087e",
      "4cce3d25af11451da2c1a9c5921a1a23",
      "5cfea906c7c840ebaf001856455c597e",
      "4e73e43e10424919a8d3f888d9ec018e",
      "213d646504fc4e82b8d7c6d5bd605f48",
      "cfca0fbc71d44273b7e2fa744882c8f0",
      "02c7d3534b9746fc8af4b4b4e51173be",
      "fee117c84bbc4729bf2d0e4263062557",
      "d0b786cae2864e189526dfeab7ba75cd",
      "fc0f5a8eb91d4d57be5a1c2d5b710144",
      "41687f2234af4a54863aa6561cc789f5",
      "1339fbe70f9e4feeb7f80448ab006050",
      "34f54769e51445859acde5bd0ff9de36",
      "78b30a74f6244b86ae258a2639e13ff6",
      "414588e8c16f4e3281d63c38c2bb2460",
      "bee63694ceca459784a007be5616bc6f",
      "487e3e9dc59c4f58973b4e81d1309e84",
      "7b97e483733d49f9bbd1197890c628f3",
      "d326f9d0d46f4c5098d10a582b55332e",
      "79530c1027ba4e23ab9b913376d55052",
      "6168904c340644b0861463a4db72f2ae",
      "146640c37681455dbfbe170bd3e223a1",
      "3f5aaff376df456b82bb3aef02dc6258",
      "4a544f94274c4c158b9d4755738bf29b",
      "4b94a1c0c5dd4dc5b56a76803fef1948",
      "d7853b2c9fcf46f3a560c05806025d9a",
      "d714fd5c5bef4687a18f402a7698f9ee",
      "57dd0e6d896e481bb8381a09b0df9d54",
      "8adeb5dcd430491f8b1ac752d8a110cc",
      "8fbac0ec1ac6435bb152c61362328935",
      "c25cc3963ea44ea698489803df45a51c",
      "078b2475d59b4fdd9adc2a4c4eaf115d",
      "b0986720843b4b498f67523aa74c7d0c",
      "8f9ef5ae0e7d4dc8b7f765cdfb714511",
      "cf42343cc99442b897e186bed737b205",
      "72512dafee45442ea4f82d5fe1e91e42",
      "23d42497f3ea453b9d155b35cf2a0d29",
      "00206fac53904cd7b32e02da377c4cc1",
      "3a60d84e1c054a46adffcd83c633cf5a",
      "0e680f42acd84b0d8af4bc903a1a0a6d",
      "02eb71868a534aa8b8c24407ad0f2321",
      "8eb081b51fc74bc2acb75b7f698ff8e1",
      "b9fb3564b2f94b2fb8d42b8155397105",
      "888024fbb94f40ca8f54e6a82b9b45a7",
      "04827a1ac92c4bc3a6c6521404126d39",
      "9d69403fef0841c9823512be85552661",
      "ea9a89a9e89042178bd6b575a3785b72",
      "495870c40235466fa6f2f16f8254ea4e",
      "a094f502187e4e29b6d04141675eeaf5",
      "b86f5a79b02c4067ac44a26e05fe993d",
      "d78a142206c445bfabc6553d885f42b6",
      "67a26ef0c90049d488d1f6759ca27031",
      "190731d0daf945b581aaa60ac4dd52e9",
      "8662655ed1a14801ac51bbbbf478ee8e",
      "e31fa02805da42ffbe927d0f480839e0",
      "fb2d0d263ef0470b8c3f2c4551022a9d",
      "18c794db0ca84c6d877b0f0e64c89550",
      "f53cf6e3d02e40889021e81f29db7b03",
      "541ba9bfa4474ed796d71663b5086af8",
      "800c3b69c00f4dc590130ee9156b7746",
      "884cde485214440482978dc13b1a4b7a",
      "1796d5a389d14e6e804f1ff19bc04165",
      "edbe019db0704847b8284543300c49a8",
      "db0f9ceda6564ae992a2767eea0a814e",
      "8b9c77b0d0bd4ef2a0157bf46eaf026c",
      "7dd3376a26ce4eef9a1f5769f1ee8788",
      "637d750fdf8a4a03b8551b856762f1ae",
      "582fedfbe421484598ec1b44686e201f",
      "a171c317a96c453bb975ad81c2b11472",
      "f4f2e56c2f314cd3b7cf9d01459bd45a",
      "3102b76e5e2e429e893dfeff894c2ef9",
      "8e01933d25f848ff8fe149790bcd6754",
      "f0bb7271afc94ce3b87dd23103c622ee",
      "c86e7f86269442dd8d32187db89c9002",
      "027fdbb150234085b1756ff6dc7c5ff9",
      "e7e83a318a764901b7a918eaed8df2d9",
      "ba6fdb7e96a0426ab1023e3c02797894",
      "1a9041db57cf49e59bb9bb1da1834e7e",
      "74848f4dc95a47bc9bf1180c61a935ae",
      "1c3c2200ec9246aaba63922bc1811070",
      "a7bd126a1f9d42519a59a6b4e12c950e",
      "70354ce202a84fbbbd94d1e7b2c3b270",
      "2f93a8534ced4c64a8d47dbb617a5424",
      "bbf6ff445f194add994a4cc6cdcce96d",
      "d2d59a1fe8824879b5c0e1a8458842ef",
      "00ba98f5afb74eaa9dddb58ba8719998",
      "e16086ee462348a3be3cc549f8aaf00e",
      "c55c59bb87424f50b3cc487216009104",
      "1a2bb206724246a291e327fc77e468c8",
      "e061f865a972441b8a3a992c372c9afd",
      "0b8704bc863c41309bcedf77cb10c2b1",
      "0c67e5201f084dad9b6157ead8b785f7",
      "a431dce570034c18872b3bc4f48e434d",
      "fa13ec72fd6a4fe1a7b43ded83ac4d24",
      "718e8234ed9f45f787caf2a6f56729b9",
      "fbb7d20e3ce24ce19c7f26f003814f17",
      "b12f3f5e24ce4b0f9ed96b7a8e845415",
      "b26a2213892647a282242df6fa5397d7",
      "78eb6c71f59c44f492c957697a6d263f",
      "7916878f60a342ca8b3fbf1143dc1872",
      "a5a7d85ec7454c0b9da54fc20d8e75b9",
      "3bcdb906a785448cbb345fe852e0cfe2",
      "cd16287eeb8e4876945114e50eb05083",
      "8bd3cb9b443948f498f7738c1641e65b",
      "c8288ab5bd994bd2ad43b6f4a473e6e7",
      "cb5290ab87f44747a5e2c566cc53e54b",
      "87a8d897cd9d4dbe893e1109bce915d5",
      "ef1a8495d9ab473b84a8d4da4e1a9ab5",
      "5a90363217544f0dafe6c436976dc02d",
      "c0f5abc8f94b4720ae48d789ba29ad20",
      "2007c53e568c4eeda5d432719cdc242f",
      "b2828f756d8c43e8a6bbe71f1b86cc39",
      "7b2ac7f5276d47da934ba4f0368961f0",
      "d75dfddb19dc405bb935b93d0c8a0dc5",
      "8acba1370b854e67b8a38ff69053b4f0",
      "6c776840bb874722aaf6dd6ab54da7a1",
      "8f8f05f17ab34101aa648f7f93db454e",
      "057589088de74ffbae310912c577acda",
      "de1ce7e2a2cc4b4fb60ebbda6066461b",
      "aa7fdc7077ca489b95bf076cc04d1b8a",
      "cfe6595fec03458ba214d69a349c2a8c",
      "67c34499d74b431fbb9ef6c65073bc88",
      "fe8ff06b2a6b4d9eae6cf96209607e02",
      "5e234562813d41a8aac5896e371f684f",
      "82c876dcfe384088b4d5c44f7b193c58",
      "e95ffcc13f3d485d8684cf7f2722e7bd",
      "95400aefda26420988e2b0a2a10840e2",
      "9e6a6cb5b6914cad801c1e73b8e2fafe",
      "1f8dd772edb740e084002a6b1433dd26",
      "bced47215e3b4d5cbb6d39c2b8dae50f",
      "a1d8e6ef34ea4edf89cfba57cdbc919e",
      "6591beab78fc418b917135a90973c755",
      "86ca00a428dd435a9f7b110bc3a58723",
      "0d3de09e773645cda6092b479052a5ed",
      "d12bd8e5cbb84c9db5de908297dd71ee",
      "5248ff9e5f9d42c081062916aca4d234",
      "b86fac2c1c5946cf94dc0624de7b8c98",
      "9eb2aa5c420342dc9400a181346efa5e",
      "0fcd1556f54b4f789c79f1d44f47f62f",
      "e1b9c15190574bb7adedf7d2754d8199",
      "32a421ac47fd4b3fb49284edb2db0795",
      "01a514a1525f458e90d3396569943231",
      "7dd679a5479d40d6b8ac8987033bb0c4",
      "a111c335bdf0467287ec321aa1475ddd",
      "a357d7d1a9044910894c0fae82cae7c3",
      "d110df37bf854312ae43906a32d00d16",
      "8d2f013f3ad14c4e96d08f4b9987c39b",
      "1d2622a6e85b42a0a7823163d6f3599f",
      "08a380fab163418d9db984b1cf586856",
      "051bdfd19d19405682ede38ecf4d2116",
      "3d78c682bb2647a899d19620ef2218a4",
      "4aa247242dd84c18b1c7f57492df2461",
      "a39adebe711f486db0f1ac335278423b",
      "40b6ed2572074de698e13206d810ecbc",
      "3770bed9c0f74dbb8689384cd0a641f0",
      "fdb8754b3c30438baa8bdfc59598c21b",
      "9d1fc563bc1e45c78913eb67a380e709",
      "94563d1d565a4bc2ac4d17c44d52c49c",
      "631d0e2a5f4f4ddc97fa048fbcad6663",
      "ac5eabd94b4c4cf99448a31afbc78325",
      "18328bfda57a4d838777255263dbb3f1",
      "36a1672429934aff9818dc3a456a0a83",
      "90896b9267a141a1aaadbdb42335b61a",
      "983c9dcd4f6d47afa78c14a9eb125d99",
      "075980ee6804409cbfe46263fdd0efb6",
      "c826cd709ead4259ae21feaf98e58ae6",
      "3f28cce70ed64a4e8e843db0f34ba68a",
      "464e0f9422b8440cb03684dafb7af2ca",
      "c65e9690e36f4d3388346c1e44aa3ab5",
      "2e7ee68a255143c2843308aefc3d00ac",
      "ca49adb0249a4716842c48de5acc3643",
      "53aeb493adcf403d9246919c1bb588d2",
      "61d9fbfbc5f8471ca5b0c697463c9b95",
      "079c6c750ccc455082903dc3eb60da0a",
      "b1948e07235f4cbc8674039c0e0f8ea9",
      "7e0b16c132bd4f32a66d82746dfeb7ae",
      "3ee5ed77cab04e14a1a9098139ee071c",
      "24e31104408c4f8e8d540b7d6a19b1f2",
      "811edc074bfc4fcdbde2e03e76290f63",
      "680ca71a7efe4ad3829ab6f87a4ca22b",
      "32da502d6a9447139118e59bcf629590",
      "1d4a976133dd482ca80f87be6ab7559d",
      "a1f89e59b6684eb7927696e79a8bab4a",
      "03aa065f0a2b48699b690849bc85fa28",
      "e3366860ebb7466d803b6938ced9e469",
      "aca37e2c06034375805c9b8a0c784ea3",
      "eaae6d28bec744ae9656845deb1c54f9",
      "01b6a948502b45abab750031fa7c271a",
      "81d1e811a608448eb8455bc33507fb19",
      "b5bfa906ef73465fa46f42bdeb1e8846",
      "ff465ac9a8bd4d47b3015265c1c4e42a",
      "81d7f8b76c7b49208f8356abb02e476c",
      "97749e054b644847b9541cba6f4b7afa",
      "6e604da5f59948c1ba0d8df809d70e6c",
      "fa6a4eb2a0d9413ab6509f53f2b9abf9",
      "cb487d7683fa409094e5271b7df8954f",
      "1e6b8779d7264702bdfe3f6d38832984",
      "80ecf6af32554e55b8a392d570590f07",
      "720172df531d4c55aa8107e3055c0d60",
      "6fd7ee83d68744128575c10e0315550c",
      "fd516530d3e2448980c24f1ff4497f28",
      "238a33f034da440e8b29627c37d96def",
      "4bd5938821f14d089f411d0727eebd01",
      "5e38c3244acd4fe8b10f60e15a5326f0",
      "7c247e7731814428a82f1f4f2249eaaf",
      "60e2ae74ac4c4d319953788c7c8e1192",
      "fe71ae6c709d45929a5105e1c6136749",
      "24ae39fddaec43959aec9387efa58867",
      "ab5d3a50fc0a4c4390a0630f0d995b9a",
      "3d1c9430c1c04a009d96d9ab0461b88a",
      "03b51635f734484ca919b01b85e7408f",
      "51c84763246e40068acfa0aba8ae7269",
      "681d56e5bdd542349d20d57209c624bf",
      "140691d745514e99b0f55046bd7d6db0",
      "0c745787effa4117841ba87104792101",
      "457d11f406114b24ba60a7d45194d25f",
      "228708c9bd174240bef8e77f1cbbaac0",
      "9fc19ce80058437bb3782ce7858d7ac1",
      "c297c97294bd42bbbaa4f931798b02bd",
      "1bf3f1cac62c4228befe728aa830ab88",
      "7222e553386d419dbfa5e0c5c8707cb9",
      "a09dcfcea96545acaa77faf87e50a92b",
      "bb10549fdf7d4995a0534c2ea2ac43ef",
      "45b40853801c4a73a50f8ac330c676bb",
      "5835ed2cbada4e239de08caa71ca53d6",
      "127a7bdc0fb146398b7bdaa8107ffcee",
      "7ec2b32c8e1e4af19951fc43584f1106",
      "38dff192055d4147804838cb180ed1c7",
      "fdf724486c7c431aa85444258ba361e0",
      "dba89c0dc5af4a1dadab451a1300cfc8",
      "2d333471ac784115b873a8b43c4548d4",
      "47e7068a181f4c65a8c5e3f080d316dc",
      "4a61e6bf375242c99feeea4b7993bf80",
      "504ce498bd9246808e506c41fb8ef6f9",
      "9c161892bacc40ffad76e56100e532d0",
      "f986d4e4503040999ceab67e0787341a",
      "c3353e5f73694ca198fee11e5f06a3e5",
      "08f2c49bf6e540caa509bbf8188db3e4",
      "56ec2bf390e247ddabc61f7c2f6cd289",
      "08a1b78001af461e8ee7076b07b87d7c",
      "597f6a782eea421ea4693016a397c46c",
      "cc17f72adc3244a0a11aa7dda3ac999e",
      "0d14e7f654d54af2801513d7dea58321",
      "331ac1e7a62243918d290130ebb1d42e",
      "ab574bf442bb404da4ea252a28bda358",
      "9ccc582029bd434ca0f72b38490b307c",
      "2777e32a50d04d7cad0c97fe8f9af969",
      "e0e869784e884f51a10c965b8512da2c",
      "94a64e67f290401aa5c55e288777202a",
      "8dae3a043ced4539bca7cd89d11085bf",
      "4a0fb1fdcc3b4cff80e0c5a657d4a283",
      "3fd89b863c984d16aad5bdd38fb03956",
      "01bdc1d9615d4992b2234b7cd49a36f0",
      "f4dc5f8baa204d44b92cebf1b1b73a2b",
      "7e13b7e1ed4c423cbead5d5131428835",
      "ae0f14aef3ec49d2bc46ab1848afbd78",
      "4776ff1b0a9943e58c26a3047ccb6fc0",
      "01cc407f356f4d3d9a7ec145d9896212",
      "78b5fa34593048a98e3242c9e8a2479c",
      "7105757cbcc44e08895462bf184ae049",
      "103c2bc49188420697af35d86f0c8e61",
      "b827d3579c644b55bf6edc95fd0fe9be",
      "8ac95e55779d43c0b700791ef4cf23e0",
      "ee85850155bf48ecaf0a13eb07e3200d",
      "3eb569aa557b412f8344afd792efbdb0",
      "f97474902129485ba755631e995eb0de",
      "7347b5a31e914cf0b1fb760920db5966",
      "4094802bfbdb48f2a3dde5d59d703f75",
      "15f8a148e88e48998cd4a8c97c25e7cd",
      "e337b5bdd5d9465a92d5c807b40eb54d",
      "c0cb1ddba72947e88de53e95145d30bb",
      "bb925aa5200949b3ad5ce6280067fb0f",
      "e1c5e0cae5a34329a17f72d1752025c2",
      "c74253f8fcd64926a92fbde998bed340",
      "41d01a0fad234158a5285548ecf9364f",
      "9cbba7681fda48d2836b3fdf5944edbd",
      "7cdf717baf53458188d1829df8997f10",
      "66623f1a8f3f4dc3ae5b156ad9716963",
      "5e198acbebac444f96589a132274193e",
      "eadd56d554e64761b820d8105758468d",
      "644de8be16a943ec81ac9509d5bc4b5c",
      "310b460d537e4e5490316d3a4b9fcacc",
      "ea7c4fe646994ad2893843659d2c632c",
      "ed4bcc0e4d3e47589ea18d19f1bc7439",
      "41cb5e24adf84a0bad954b8a95c68c9d",
      "e8ae172a100f410893587a6d90efb666",
      "ad2eac9de96341cca39828ba96a5b9a2",
      "71558796c12a41acbc0ada303d7ce01d",
      "67143d55f5ad4e889447a2b1ad9bf1e2",
      "359db96e6154427f89763ba34a1491d0",
      "7bd5be92536143538870e3425352dc3a",
      "156aec74c8b54bf18a446e1f69586a73",
      "a9274053094e42439e0f977d94a6e826",
      "a9cb26bf264343ad90ebbd72d293f00c",
      "a84d8f64b72d4381bdc17cdf7a6cd002",
      "b6c80c79805948c8b89a1b06e76e44f9",
      "b1b510ac6e934ef98399ddba4efe334c",
      "73759248542b44b2a9885f4a16236fc4",
      "3d18264700ed4f928b36df7177cdf8b6",
      "69a312d0fab543fb87f123a663fae0d2",
      "800610690a324885a4804293f5a97ad7",
      "4a7bb06df0904611ad633efed011fafb",
      "b6a30572c3024394abe3c76e80cf598b",
      "e63263960a6f4fcc99cfdd90b196021e",
      "af867c58b41a4959ad7081c6255c3cb1",
      "2f09a37817964a3b922914bd50d09686",
      "f4dbbc99bc9c43298c2f67c118e854f5",
      "17acbabc251d4cdbb5e8f5dfc8b73f6c",
      "f92636ab8c0c4c11860880556030ab3a",
      "aad5acab1c8f49688f6aa74516dd33d7",
      "b335cd60891f44218e6c591deb1b9519",
      "fb693d5eb2db4d91a5bbd46b6f8eb75b",
      "b505469b59d745d7943171e9aa70fd8b",
      "b1789ec5b2e9474699ab4d3b0a84b6e0",
      "ef2f004c9d9f499fb1457ff92ed31768",
      "5fb9893b3c5b48168a19765be754ed99",
      "95f037bd28dd43308685239112d7bdf0",
      "189f5430714b434491fb991fc24bf97c",
      "b1901a5e9c1345f6b86adadc0430c16f",
      "95493edc71d645278cac4dff39b17cfd",
      "98762bd431da4a6abfd82244350c9c64",
      "6b78454a0bc14fc1a4431a3a63788c8a",
      "bdb7b05e24ef420ca9014e208404525b",
      "334d4c7a3dde4b0ea2cb8297f9fffead",
      "860cdd53c71c45a6bd5db027c8036369",
      "8712fd133cc6461f9a35edbd015744b3",
      "0e7b4ea0ce2a4357a9e76a9c4a1b85f1",
      "034f6a42093c4475a1e46036d5099333",
      "8545c3bde1194c8c9f8c131480a876bb",
      "feebaa6c18e3453e88c25422c2afdcc3",
      "3fda0684fe71445c96d8161c022a7ac5",
      "4bb704eb879d40ceb520369127ecdd9c",
      "258c4cac800a4184844729d9d54c95b7",
      "82f17aa966b448388e6af1840232d454",
      "2c052880c53a4e90a699c7903f89e0a4",
      "0b1b59b5a74f4e64b43b17b5b3f7a8fc",
      "fd54df12860b4d1b96f7b0eada8ca24d",
      "3d262562dbf64824bed47f0325b45d35",
      "a8fd78e7dbb1455388cb9ae9374a9d2b",
      "a95b42abc5474a88a7a0c093d32e8d9f",
      "580f26cb7aa64b9a9f9655e4aea2ecf9",
      "823b4d8ef57340cf86cbec8215172b90",
      "07265e96417c4f8f8bd7020f7811cfe8",
      "abeef42246114d00bebb9a4cb879b0fd",
      "048c9deaa3aa4ce5a1545f0803dcbbfa",
      "f980d9e8886b47039852e757ea73f0a3",
      "a57713ba29ed4b94a4ed2c4a58470b47",
      "45cad5fd9dfe4ca695bdf3819cd7ed13",
      "1b5c29b363f444a88fe594b33394beef",
      "ecb100702dd64d9eb437af2eb66b7079",
      "2d85ea5d98e94137b3b7a649b4cb5a3a",
      "35a034abe86145eea86a752dcd532020",
      "b4d37c7fe63547d6a78a8dc9e4c36597",
      "fe1e3b5d39fa4d0eb2399b53aec7d42d",
      "09aac4111b204c8793036d7bccf59816",
      "a0948b8c1d08422e93a27f040cd34ff4",
      "bfa5d6a5b2a44fef949679d0ce3687a3",
      "2629b35dcd4d4f4a91e740e73fcc1a9a",
      "a5aae7bb285444dfac99916adfc1c978",
      "17b4206816fd4c609110731d56c1adf1",
      "ec7cabc6125a4c3a84163fd4f6554d10",
      "fbaa6b15202745d3bc15f3942719938f",
      "27ebc1c63e9541cc8e053fa138045468",
      "0b4b5e75c2464299b2f23e4ae478ea6c",
      "4782cea0753142b6b8375a34253e171f",
      "d6f522c7896d44249fb1f09840f2058f",
      "1b04260dcd8a4ea291ffb74f5677a245",
      "daf529538eb1437b957c45bafbbf9903",
      "e3af5cd696e44ebf92d8d4c30cc43064",
      "cbffd7ebe2f44ba8b7348052714534ae",
      "fde2db4433a04ec68652fa80074d5817",
      "d8a77b09dd994022a8fb6e770ab47f66",
      "8193dc13bf084b839cd7e122c750daf3",
      "21fc264b5c2949c080a8f437908efacf",
      "9a69b6d1a80b4683b782b6ca22b27575",
      "f8bff00373f5497594925bb2ea38a1b6",
      "b88bc59a971f41f0ae25b23b7896f8b8",
      "b3aa34805a7c4bbdaf7268bae45f4f0b",
      "73462b464eaf4b41ba05e48da1679679",
      "421cfb1ac0cd481c85b3e40441913335",
      "c91752c9b0a247ff88ace9802413cd00",
      "6bd38cb6ae4640e1ab461d2282f12ba4",
      "b0ea5f26827b4f93af05ac5228fa953f",
      "a7b6583c0a2a4a4eb602fab3900fc3c6",
      "8cb438f3515e4e11820a95a57f589a2b",
      "88afc7c060194350801da632d69343a4",
      "76490a4e22454a78a107497d9d615ab9",
      "9142b0d2f35c400a8799149b7cf9ac24",
      "ccd161b6dfb1496f88cc8aa4267fa018",
      "7dea3fc8379542459b0dc20bcd013b98",
      "dfaf428f62164f6c8e1add4ae31fdb41",
      "050b8ca420c4401daf0fd76a3e7ae18e",
      "d00abc8527354c05a6bca08dfbe02e1e",
      "97943e71076449a4892de05b0713901e",
      "3aa6459e0ad0421e97924eb3e8f73f55",
      "9c1e967605304504bbcab01a3e7d860f",
      "c38c158f14514418982d04e8be68bee9",
      "fcb999fef4334cf6a8e6d548cf00ccb3",
      "c7b46365ecee4bc5a5e6350b86dc25e6",
      "43535ed0daec481896a4cfb95429c00d",
      "3ebec708bb4446e8a3035d09830d4e12",
      "190469138a86426fa98f3496c8bb5520",
      "7283fcf0a2d948b79388d89d178d6db0",
      "1c8046f4d270430ab23fdd15af3e7e1b",
      "825b77354e3e4fc7b8a3730018402dc0",
      "489dcb21ba404c2c955bec8345792317",
      "1e81c9a54dc94d4a93481b704ef3e0ce",
      "0413f18bafde418b813dee017925e46f",
      "e72fbba3d23e49c1bbdbda4a3d99322b",
      "b048e95b8870455bbb7541c2b91005a7",
      "f887d3d641d3431a805f90d243d13193",
      "7b6b89e558f94cba9b88ea352377713c",
      "694c8c48761a443490c5c70adbdce7bb",
      "9bc823d864bf42088447287bd71ce3db",
      "d5eb7681c85d46e6aa4450180ace56e9",
      "a9ce4c138ba34f5cb7e058d7ad703096",
      "678b01849b934fd6b14abb9ee776ce60",
      "7a8a2db1515b45ad8508f58ead445e64",
      "fa4347d0ffd749fc8eb7abe286ad05f2",
      "4870c15c7d8a4c448ec4a78f62b4545e",
      "1c77f470d35141bb9e986ae19a220e61",
      "c0c9e9228e384960964902aa30de398c",
      "0ba17a6f11524493b9e3d9a433b587f3"
     ]
    },
    "id": "NcJHdiIrry-H",
    "outputId": "407e1093-7cb7-4b63-f17a-379a022e01db"
   },
   "outputs": [
    {
     "name": "stderr",
     "output_type": "stream",
     "text": [
      "WARNING:pykeen.pipeline.api:No random seed is specified. Setting to 666760465.\n",
      "INFO:pykeen.pipeline.api:Using device: None\n",
      "INFO:pykeen.nn.message_passing:No num_bases was provided. Using sqrt(num_relations)=4.\n",
      "INFO:pykeen.nn.message_passing:No num_bases was provided. Using sqrt(num_relations)=4.\n",
      "WARNING:pykeen.nn.message_passing:Layers RGCNLayer(\n",
      "  (fwd): BasesDecomposition(\n",
      "    (relation_representations): LowRankRepresentation(\n",
      "      (bases): Embedding(\n",
      "        (_embeddings): Embedding(4, 40000)\n",
      "      )\n",
      "    )\n",
      "  )\n",
      "  (bwd): BasesDecomposition(\n",
      "    (relation_representations): LowRankRepresentation(\n",
      "      (bases): Embedding(\n",
      "        (_embeddings): Embedding(4, 40000)\n",
      "      )\n",
      "    )\n",
      "  )\n",
      "  (self_loop): Linear(in_features=200, out_features=200, bias=True)\n",
      "  (dropout): Dropout(p=0.2, inplace=False)\n",
      ") has parameters, but no reset_parameters.\n",
      "INFO:pykeen.stoppers.early_stopping:Inferred checkpoint path for best model weights: /root/.data/pykeen/checkpoints/best-model-weights-d115e93c-28e0-49e0-8443-0491d7d3ed09.pt\n",
      "WARNING:pykeen.training.training_loop:Using RGCN without graph-based sampling! Please select sampler=\"schlichtkrull\" instead of None.\n",
      "WARNING:pykeen.training.training_loop:Using RGCN without graph-based sampling! Please select sampler=\"schlichtkrull\" instead of None.\n",
      "WARNING:pykeen.nn.message_passing:Layers RGCNLayer(\n",
      "  (fwd): BasesDecomposition(\n",
      "    (relation_representations): LowRankRepresentation(\n",
      "      (bases): Embedding(\n",
      "        (_embeddings): Embedding(4, 40000)\n",
      "      )\n",
      "    )\n",
      "  )\n",
      "  (bwd): BasesDecomposition(\n",
      "    (relation_representations): LowRankRepresentation(\n",
      "      (bases): Embedding(\n",
      "        (_embeddings): Embedding(4, 40000)\n",
      "      )\n",
      "    )\n",
      "  )\n",
      "  (self_loop): Linear(in_features=200, out_features=200, bias=True)\n",
      "  (dropout): Dropout(p=0.2, inplace=False)\n",
      ") has parameters, but no reset_parameters.\n",
      "WARNING:pykeen.nn.message_passing:Layers RGCNLayer(\n",
      "  (fwd): BasesDecomposition(\n",
      "    (relation_representations): LowRankRepresentation(\n",
      "      (bases): Embedding(\n",
      "        (_embeddings): Embedding(4, 40000)\n",
      "      )\n",
      "    )\n",
      "  )\n",
      "  (bwd): BasesDecomposition(\n",
      "    (relation_representations): LowRankRepresentation(\n",
      "      (bases): Embedding(\n",
      "        (_embeddings): Embedding(4, 40000)\n",
      "      )\n",
      "    )\n",
      "  )\n",
      "  (self_loop): Linear(in_features=200, out_features=200, bias=True)\n",
      "  (dropout): Dropout(p=0.2, inplace=False)\n",
      ") has parameters, but no reset_parameters.\n"
     ]
    },
    {
     "data": {
      "application/vnd.jupyter.widget-view+json": {
       "model_id": "d203f3780cbf497081d7a5e08e3deb3d",
       "version_major": 2,
       "version_minor": 0
      },
      "text/plain": [
       "Training epochs on cuda:0:   0%|          | 0/100 [00:00<?, ?epoch/s]"
      ]
     },
     "metadata": {},
     "output_type": "display_data"
    },
    {
     "data": {
      "application/vnd.jupyter.widget-view+json": {
       "model_id": "7b95cc68af654ee8b67d20dc7076d1e9",
       "version_major": 2,
       "version_minor": 0
      },
      "text/plain": [
       "Training batches on cuda:0:   0%|          | 0/254 [00:00<?, ?batch/s]"
      ]
     },
     "metadata": {},
     "output_type": "display_data"
    },
    {
     "data": {
      "application/vnd.jupyter.widget-view+json": {
       "model_id": "d77c99303fa040998729004357c4bfc0",
       "version_major": 2,
       "version_minor": 0
      },
      "text/plain": [
       "Training batches on cuda:0:   0%|          | 0/254 [00:00<?, ?batch/s]"
      ]
     },
     "metadata": {},
     "output_type": "display_data"
    },
    {
     "data": {
      "application/vnd.jupyter.widget-view+json": {
       "model_id": "91e2ea41c80746dc972b4b3126e251ae",
       "version_major": 2,
       "version_minor": 0
      },
      "text/plain": [
       "Training batches on cuda:0:   0%|          | 0/254 [00:00<?, ?batch/s]"
      ]
     },
     "metadata": {},
     "output_type": "display_data"
    },
    {
     "data": {
      "application/vnd.jupyter.widget-view+json": {
       "model_id": "8893907bc82642a7adb034c43941cc70",
       "version_major": 2,
       "version_minor": 0
      },
      "text/plain": [
       "Training batches on cuda:0:   0%|          | 0/254 [00:00<?, ?batch/s]"
      ]
     },
     "metadata": {},
     "output_type": "display_data"
    },
    {
     "data": {
      "application/vnd.jupyter.widget-view+json": {
       "model_id": "ed34dd431c2d4e118f31adf2f53c06e5",
       "version_major": 2,
       "version_minor": 0
      },
      "text/plain": [
       "Training batches on cuda:0:   0%|          | 0/254 [00:00<?, ?batch/s]"
      ]
     },
     "metadata": {},
     "output_type": "display_data"
    },
    {
     "data": {
      "application/vnd.jupyter.widget-view+json": {
       "model_id": "d64cd49af48b4a6ebd629bf7c82ad5d2",
       "version_major": 2,
       "version_minor": 0
      },
      "text/plain": [
       "Training batches on cuda:0:   0%|          | 0/254 [00:00<?, ?batch/s]"
      ]
     },
     "metadata": {},
     "output_type": "display_data"
    },
    {
     "data": {
      "application/vnd.jupyter.widget-view+json": {
       "model_id": "1c2294b97c0e4155adf905fc272e2a2d",
       "version_major": 2,
       "version_minor": 0
      },
      "text/plain": [
       "Training batches on cuda:0:   0%|          | 0/254 [00:00<?, ?batch/s]"
      ]
     },
     "metadata": {},
     "output_type": "display_data"
    },
    {
     "data": {
      "application/vnd.jupyter.widget-view+json": {
       "model_id": "f1cd6b3c112743ca92232f028cc97fa1",
       "version_major": 2,
       "version_minor": 0
      },
      "text/plain": [
       "Training batches on cuda:0:   0%|          | 0/254 [00:00<?, ?batch/s]"
      ]
     },
     "metadata": {},
     "output_type": "display_data"
    },
    {
     "data": {
      "application/vnd.jupyter.widget-view+json": {
       "model_id": "35d436e80fd24233954d63e0e312bb68",
       "version_major": 2,
       "version_minor": 0
      },
      "text/plain": [
       "Training batches on cuda:0:   0%|          | 0/254 [00:00<?, ?batch/s]"
      ]
     },
     "metadata": {},
     "output_type": "display_data"
    },
    {
     "data": {
      "application/vnd.jupyter.widget-view+json": {
       "model_id": "4b25eef777b942118a4a247a5528ca18",
       "version_major": 2,
       "version_minor": 0
      },
      "text/plain": [
       "Training batches on cuda:0:   0%|          | 0/254 [00:00<?, ?batch/s]"
      ]
     },
     "metadata": {},
     "output_type": "display_data"
    },
    {
     "name": "stderr",
     "output_type": "stream",
     "text": [
      "INFO:pykeen.evaluation.evaluator:Evaluation took 3.05s seconds\n",
      "INFO:pykeen.stoppers.early_stopping:New best result at epoch 10: 0.2025623268698061. Saved model weights to /root/.data/pykeen/checkpoints/best-model-weights-d115e93c-28e0-49e0-8443-0491d7d3ed09.pt\n",
      "INFO:pykeen.training.training_loop:=> Saved checkpoint after having finished epoch 10.\n"
     ]
    },
    {
     "data": {
      "application/vnd.jupyter.widget-view+json": {
       "model_id": "dba595f40a8e4baba64bd4161dc6673c",
       "version_major": 2,
       "version_minor": 0
      },
      "text/plain": [
       "Training batches on cuda:0:   0%|          | 0/254 [00:00<?, ?batch/s]"
      ]
     },
     "metadata": {},
     "output_type": "display_data"
    },
    {
     "data": {
      "application/vnd.jupyter.widget-view+json": {
       "model_id": "24f7a1954e594f3ea07e1c7affda372f",
       "version_major": 2,
       "version_minor": 0
      },
      "text/plain": [
       "Training batches on cuda:0:   0%|          | 0/254 [00:00<?, ?batch/s]"
      ]
     },
     "metadata": {},
     "output_type": "display_data"
    },
    {
     "data": {
      "application/vnd.jupyter.widget-view+json": {
       "model_id": "89043bf349d64afe9e204aa278ee1124",
       "version_major": 2,
       "version_minor": 0
      },
      "text/plain": [
       "Training batches on cuda:0:   0%|          | 0/254 [00:00<?, ?batch/s]"
      ]
     },
     "metadata": {},
     "output_type": "display_data"
    },
    {
     "data": {
      "application/vnd.jupyter.widget-view+json": {
       "model_id": "b8a06a059cd84cc191c4d63eb759c6ef",
       "version_major": 2,
       "version_minor": 0
      },
      "text/plain": [
       "Training batches on cuda:0:   0%|          | 0/254 [00:00<?, ?batch/s]"
      ]
     },
     "metadata": {},
     "output_type": "display_data"
    },
    {
     "data": {
      "application/vnd.jupyter.widget-view+json": {
       "model_id": "86471db9f3204d5891a5ba7bed6b08c6",
       "version_major": 2,
       "version_minor": 0
      },
      "text/plain": [
       "Training batches on cuda:0:   0%|          | 0/254 [00:00<?, ?batch/s]"
      ]
     },
     "metadata": {},
     "output_type": "display_data"
    },
    {
     "data": {
      "application/vnd.jupyter.widget-view+json": {
       "model_id": "bae11a94c54b471eb122f112190bc641",
       "version_major": 2,
       "version_minor": 0
      },
      "text/plain": [
       "Training batches on cuda:0:   0%|          | 0/254 [00:00<?, ?batch/s]"
      ]
     },
     "metadata": {},
     "output_type": "display_data"
    },
    {
     "data": {
      "application/vnd.jupyter.widget-view+json": {
       "model_id": "b05f35117e6d4e979242af8728469915",
       "version_major": 2,
       "version_minor": 0
      },
      "text/plain": [
       "Training batches on cuda:0:   0%|          | 0/254 [00:00<?, ?batch/s]"
      ]
     },
     "metadata": {},
     "output_type": "display_data"
    },
    {
     "data": {
      "application/vnd.jupyter.widget-view+json": {
       "model_id": "127d2d90be5a47b5abcb02f1c1c8937b",
       "version_major": 2,
       "version_minor": 0
      },
      "text/plain": [
       "Training batches on cuda:0:   0%|          | 0/254 [00:00<?, ?batch/s]"
      ]
     },
     "metadata": {},
     "output_type": "display_data"
    },
    {
     "data": {
      "application/vnd.jupyter.widget-view+json": {
       "model_id": "f8beef7fb8604b74b41028b634e7fa8a",
       "version_major": 2,
       "version_minor": 0
      },
      "text/plain": [
       "Training batches on cuda:0:   0%|          | 0/254 [00:00<?, ?batch/s]"
      ]
     },
     "metadata": {},
     "output_type": "display_data"
    },
    {
     "data": {
      "application/vnd.jupyter.widget-view+json": {
       "model_id": "050e1eadc68f42cda35ee8476b66b0f7",
       "version_major": 2,
       "version_minor": 0
      },
      "text/plain": [
       "Training batches on cuda:0:   0%|          | 0/254 [00:00<?, ?batch/s]"
      ]
     },
     "metadata": {},
     "output_type": "display_data"
    },
    {
     "name": "stderr",
     "output_type": "stream",
     "text": [
      "INFO:pykeen.evaluation.evaluator:Evaluation took 3.28s seconds\n",
      "INFO:pykeen.stoppers.early_stopping:New best result at epoch 20: 0.2299168975069252. Saved model weights to /root/.data/pykeen/checkpoints/best-model-weights-d115e93c-28e0-49e0-8443-0491d7d3ed09.pt\n",
      "INFO:pykeen.training.training_loop:=> Saved checkpoint after having finished epoch 20.\n"
     ]
    },
    {
     "data": {
      "application/vnd.jupyter.widget-view+json": {
       "model_id": "f08f287603494e16ae67ed11d213d016",
       "version_major": 2,
       "version_minor": 0
      },
      "text/plain": [
       "Training batches on cuda:0:   0%|          | 0/254 [00:00<?, ?batch/s]"
      ]
     },
     "metadata": {},
     "output_type": "display_data"
    },
    {
     "data": {
      "application/vnd.jupyter.widget-view+json": {
       "model_id": "7cba4104bdd44a13ab7fb52ddf9e99d5",
       "version_major": 2,
       "version_minor": 0
      },
      "text/plain": [
       "Training batches on cuda:0:   0%|          | 0/254 [00:00<?, ?batch/s]"
      ]
     },
     "metadata": {},
     "output_type": "display_data"
    },
    {
     "data": {
      "application/vnd.jupyter.widget-view+json": {
       "model_id": "23327af76b97407a89046b9388f09f35",
       "version_major": 2,
       "version_minor": 0
      },
      "text/plain": [
       "Training batches on cuda:0:   0%|          | 0/254 [00:00<?, ?batch/s]"
      ]
     },
     "metadata": {},
     "output_type": "display_data"
    },
    {
     "data": {
      "application/vnd.jupyter.widget-view+json": {
       "model_id": "cfca0fbc71d44273b7e2fa744882c8f0",
       "version_major": 2,
       "version_minor": 0
      },
      "text/plain": [
       "Training batches on cuda:0:   0%|          | 0/254 [00:00<?, ?batch/s]"
      ]
     },
     "metadata": {},
     "output_type": "display_data"
    },
    {
     "data": {
      "application/vnd.jupyter.widget-view+json": {
       "model_id": "487e3e9dc59c4f58973b4e81d1309e84",
       "version_major": 2,
       "version_minor": 0
      },
      "text/plain": [
       "Training batches on cuda:0:   0%|          | 0/254 [00:00<?, ?batch/s]"
      ]
     },
     "metadata": {},
     "output_type": "display_data"
    },
    {
     "data": {
      "application/vnd.jupyter.widget-view+json": {
       "model_id": "57dd0e6d896e481bb8381a09b0df9d54",
       "version_major": 2,
       "version_minor": 0
      },
      "text/plain": [
       "Training batches on cuda:0:   0%|          | 0/254 [00:00<?, ?batch/s]"
      ]
     },
     "metadata": {},
     "output_type": "display_data"
    },
    {
     "data": {
      "application/vnd.jupyter.widget-view+json": {
       "model_id": "3a60d84e1c054a46adffcd83c633cf5a",
       "version_major": 2,
       "version_minor": 0
      },
      "text/plain": [
       "Training batches on cuda:0:   0%|          | 0/254 [00:00<?, ?batch/s]"
      ]
     },
     "metadata": {},
     "output_type": "display_data"
    },
    {
     "data": {
      "application/vnd.jupyter.widget-view+json": {
       "model_id": "b86f5a79b02c4067ac44a26e05fe993d",
       "version_major": 2,
       "version_minor": 0
      },
      "text/plain": [
       "Training batches on cuda:0:   0%|          | 0/254 [00:00<?, ?batch/s]"
      ]
     },
     "metadata": {},
     "output_type": "display_data"
    },
    {
     "data": {
      "application/vnd.jupyter.widget-view+json": {
       "model_id": "884cde485214440482978dc13b1a4b7a",
       "version_major": 2,
       "version_minor": 0
      },
      "text/plain": [
       "Training batches on cuda:0:   0%|          | 0/254 [00:00<?, ?batch/s]"
      ]
     },
     "metadata": {},
     "output_type": "display_data"
    },
    {
     "data": {
      "application/vnd.jupyter.widget-view+json": {
       "model_id": "8e01933d25f848ff8fe149790bcd6754",
       "version_major": 2,
       "version_minor": 0
      },
      "text/plain": [
       "Training batches on cuda:0:   0%|          | 0/254 [00:00<?, ?batch/s]"
      ]
     },
     "metadata": {},
     "output_type": "display_data"
    },
    {
     "name": "stderr",
     "output_type": "stream",
     "text": [
      "INFO:pykeen.evaluation.evaluator:Evaluation took 2.99s seconds\n",
      "INFO:pykeen.stoppers.early_stopping:New best result at epoch 30: 0.2443905817174515. Saved model weights to /root/.data/pykeen/checkpoints/best-model-weights-d115e93c-28e0-49e0-8443-0491d7d3ed09.pt\n",
      "INFO:pykeen.training.training_loop:=> Saved checkpoint after having finished epoch 30.\n"
     ]
    },
    {
     "data": {
      "application/vnd.jupyter.widget-view+json": {
       "model_id": "2f93a8534ced4c64a8d47dbb617a5424",
       "version_major": 2,
       "version_minor": 0
      },
      "text/plain": [
       "Training batches on cuda:0:   0%|          | 0/254 [00:00<?, ?batch/s]"
      ]
     },
     "metadata": {},
     "output_type": "display_data"
    },
    {
     "data": {
      "application/vnd.jupyter.widget-view+json": {
       "model_id": "fa13ec72fd6a4fe1a7b43ded83ac4d24",
       "version_major": 2,
       "version_minor": 0
      },
      "text/plain": [
       "Training batches on cuda:0:   0%|          | 0/254 [00:00<?, ?batch/s]"
      ]
     },
     "metadata": {},
     "output_type": "display_data"
    },
    {
     "data": {
      "application/vnd.jupyter.widget-view+json": {
       "model_id": "c8288ab5bd994bd2ad43b6f4a473e6e7",
       "version_major": 2,
       "version_minor": 0
      },
      "text/plain": [
       "Training batches on cuda:0:   0%|          | 0/254 [00:00<?, ?batch/s]"
      ]
     },
     "metadata": {},
     "output_type": "display_data"
    },
    {
     "data": {
      "application/vnd.jupyter.widget-view+json": {
       "model_id": "6c776840bb874722aaf6dd6ab54da7a1",
       "version_major": 2,
       "version_minor": 0
      },
      "text/plain": [
       "Training batches on cuda:0:   0%|          | 0/254 [00:00<?, ?batch/s]"
      ]
     },
     "metadata": {},
     "output_type": "display_data"
    },
    {
     "data": {
      "application/vnd.jupyter.widget-view+json": {
       "model_id": "95400aefda26420988e2b0a2a10840e2",
       "version_major": 2,
       "version_minor": 0
      },
      "text/plain": [
       "Training batches on cuda:0:   0%|          | 0/254 [00:00<?, ?batch/s]"
      ]
     },
     "metadata": {},
     "output_type": "display_data"
    },
    {
     "data": {
      "application/vnd.jupyter.widget-view+json": {
       "model_id": "9eb2aa5c420342dc9400a181346efa5e",
       "version_major": 2,
       "version_minor": 0
      },
      "text/plain": [
       "Training batches on cuda:0:   0%|          | 0/254 [00:00<?, ?batch/s]"
      ]
     },
     "metadata": {},
     "output_type": "display_data"
    },
    {
     "data": {
      "application/vnd.jupyter.widget-view+json": {
       "model_id": "08a380fab163418d9db984b1cf586856",
       "version_major": 2,
       "version_minor": 0
      },
      "text/plain": [
       "Training batches on cuda:0:   0%|          | 0/254 [00:00<?, ?batch/s]"
      ]
     },
     "metadata": {},
     "output_type": "display_data"
    },
    {
     "data": {
      "application/vnd.jupyter.widget-view+json": {
       "model_id": "ac5eabd94b4c4cf99448a31afbc78325",
       "version_major": 2,
       "version_minor": 0
      },
      "text/plain": [
       "Training batches on cuda:0:   0%|          | 0/254 [00:00<?, ?batch/s]"
      ]
     },
     "metadata": {},
     "output_type": "display_data"
    },
    {
     "data": {
      "application/vnd.jupyter.widget-view+json": {
       "model_id": "ca49adb0249a4716842c48de5acc3643",
       "version_major": 2,
       "version_minor": 0
      },
      "text/plain": [
       "Training batches on cuda:0:   0%|          | 0/254 [00:00<?, ?batch/s]"
      ]
     },
     "metadata": {},
     "output_type": "display_data"
    },
    {
     "data": {
      "application/vnd.jupyter.widget-view+json": {
       "model_id": "1d4a976133dd482ca80f87be6ab7559d",
       "version_major": 2,
       "version_minor": 0
      },
      "text/plain": [
       "Training batches on cuda:0:   0%|          | 0/254 [00:00<?, ?batch/s]"
      ]
     },
     "metadata": {},
     "output_type": "display_data"
    },
    {
     "name": "stderr",
     "output_type": "stream",
     "text": [
      "INFO:pykeen.evaluation.evaluator:Evaluation took 3.04s seconds\n",
      "INFO:pykeen.stoppers.early_stopping:New best result at epoch 40: 0.2680747922437673. Saved model weights to /root/.data/pykeen/checkpoints/best-model-weights-d115e93c-28e0-49e0-8443-0491d7d3ed09.pt\n",
      "INFO:pykeen.training.training_loop:=> Saved checkpoint after having finished epoch 40.\n"
     ]
    },
    {
     "data": {
      "application/vnd.jupyter.widget-view+json": {
       "model_id": "97749e054b644847b9541cba6f4b7afa",
       "version_major": 2,
       "version_minor": 0
      },
      "text/plain": [
       "Training batches on cuda:0:   0%|          | 0/254 [00:00<?, ?batch/s]"
      ]
     },
     "metadata": {},
     "output_type": "display_data"
    },
    {
     "data": {
      "application/vnd.jupyter.widget-view+json": {
       "model_id": "5e38c3244acd4fe8b10f60e15a5326f0",
       "version_major": 2,
       "version_minor": 0
      },
      "text/plain": [
       "Training batches on cuda:0:   0%|          | 0/254 [00:00<?, ?batch/s]"
      ]
     },
     "metadata": {},
     "output_type": "display_data"
    },
    {
     "data": {
      "application/vnd.jupyter.widget-view+json": {
       "model_id": "0c745787effa4117841ba87104792101",
       "version_major": 2,
       "version_minor": 0
      },
      "text/plain": [
       "Training batches on cuda:0:   0%|          | 0/254 [00:00<?, ?batch/s]"
      ]
     },
     "metadata": {},
     "output_type": "display_data"
    },
    {
     "data": {
      "application/vnd.jupyter.widget-view+json": {
       "model_id": "127a7bdc0fb146398b7bdaa8107ffcee",
       "version_major": 2,
       "version_minor": 0
      },
      "text/plain": [
       "Training batches on cuda:0:   0%|          | 0/254 [00:00<?, ?batch/s]"
      ]
     },
     "metadata": {},
     "output_type": "display_data"
    },
    {
     "data": {
      "application/vnd.jupyter.widget-view+json": {
       "model_id": "c3353e5f73694ca198fee11e5f06a3e5",
       "version_major": 2,
       "version_minor": 0
      },
      "text/plain": [
       "Training batches on cuda:0:   0%|          | 0/254 [00:00<?, ?batch/s]"
      ]
     },
     "metadata": {},
     "output_type": "display_data"
    },
    {
     "data": {
      "application/vnd.jupyter.widget-view+json": {
       "model_id": "e0e869784e884f51a10c965b8512da2c",
       "version_major": 2,
       "version_minor": 0
      },
      "text/plain": [
       "Training batches on cuda:0:   0%|          | 0/254 [00:00<?, ?batch/s]"
      ]
     },
     "metadata": {},
     "output_type": "display_data"
    },
    {
     "data": {
      "application/vnd.jupyter.widget-view+json": {
       "model_id": "78b5fa34593048a98e3242c9e8a2479c",
       "version_major": 2,
       "version_minor": 0
      },
      "text/plain": [
       "Training batches on cuda:0:   0%|          | 0/254 [00:00<?, ?batch/s]"
      ]
     },
     "metadata": {},
     "output_type": "display_data"
    },
    {
     "data": {
      "application/vnd.jupyter.widget-view+json": {
       "model_id": "e337b5bdd5d9465a92d5c807b40eb54d",
       "version_major": 2,
       "version_minor": 0
      },
      "text/plain": [
       "Training batches on cuda:0:   0%|          | 0/254 [00:00<?, ?batch/s]"
      ]
     },
     "metadata": {},
     "output_type": "display_data"
    },
    {
     "data": {
      "application/vnd.jupyter.widget-view+json": {
       "model_id": "644de8be16a943ec81ac9509d5bc4b5c",
       "version_major": 2,
       "version_minor": 0
      },
      "text/plain": [
       "Training batches on cuda:0:   0%|          | 0/254 [00:00<?, ?batch/s]"
      ]
     },
     "metadata": {},
     "output_type": "display_data"
    },
    {
     "data": {
      "application/vnd.jupyter.widget-view+json": {
       "model_id": "156aec74c8b54bf18a446e1f69586a73",
       "version_major": 2,
       "version_minor": 0
      },
      "text/plain": [
       "Training batches on cuda:0:   0%|          | 0/254 [00:00<?, ?batch/s]"
      ]
     },
     "metadata": {},
     "output_type": "display_data"
    },
    {
     "name": "stderr",
     "output_type": "stream",
     "text": [
      "INFO:pykeen.evaluation.evaluator:Evaluation took 3.00s seconds\n"
     ]
    },
    {
     "data": {
      "application/vnd.jupyter.widget-view+json": {
       "model_id": "b6a30572c3024394abe3c76e80cf598b",
       "version_major": 2,
       "version_minor": 0
      },
      "text/plain": [
       "Training batches on cuda:0:   0%|          | 0/254 [00:00<?, ?batch/s]"
      ]
     },
     "metadata": {},
     "output_type": "display_data"
    },
    {
     "data": {
      "application/vnd.jupyter.widget-view+json": {
       "model_id": "b1789ec5b2e9474699ab4d3b0a84b6e0",
       "version_major": 2,
       "version_minor": 0
      },
      "text/plain": [
       "Training batches on cuda:0:   0%|          | 0/254 [00:00<?, ?batch/s]"
      ]
     },
     "metadata": {},
     "output_type": "display_data"
    },
    {
     "data": {
      "application/vnd.jupyter.widget-view+json": {
       "model_id": "860cdd53c71c45a6bd5db027c8036369",
       "version_major": 2,
       "version_minor": 0
      },
      "text/plain": [
       "Training batches on cuda:0:   0%|          | 0/254 [00:00<?, ?batch/s]"
      ]
     },
     "metadata": {},
     "output_type": "display_data"
    },
    {
     "data": {
      "application/vnd.jupyter.widget-view+json": {
       "model_id": "0b1b59b5a74f4e64b43b17b5b3f7a8fc",
       "version_major": 2,
       "version_minor": 0
      },
      "text/plain": [
       "Training batches on cuda:0:   0%|          | 0/254 [00:00<?, ?batch/s]"
      ]
     },
     "metadata": {},
     "output_type": "display_data"
    },
    {
     "data": {
      "application/vnd.jupyter.widget-view+json": {
       "model_id": "a57713ba29ed4b94a4ed2c4a58470b47",
       "version_major": 2,
       "version_minor": 0
      },
      "text/plain": [
       "Training batches on cuda:0:   0%|          | 0/254 [00:00<?, ?batch/s]"
      ]
     },
     "metadata": {},
     "output_type": "display_data"
    },
    {
     "data": {
      "application/vnd.jupyter.widget-view+json": {
       "model_id": "2629b35dcd4d4f4a91e740e73fcc1a9a",
       "version_major": 2,
       "version_minor": 0
      },
      "text/plain": [
       "Training batches on cuda:0:   0%|          | 0/254 [00:00<?, ?batch/s]"
      ]
     },
     "metadata": {},
     "output_type": "display_data"
    },
    {
     "data": {
      "application/vnd.jupyter.widget-view+json": {
       "model_id": "e3af5cd696e44ebf92d8d4c30cc43064",
       "version_major": 2,
       "version_minor": 0
      },
      "text/plain": [
       "Training batches on cuda:0:   0%|          | 0/254 [00:00<?, ?batch/s]"
      ]
     },
     "metadata": {},
     "output_type": "display_data"
    },
    {
     "data": {
      "application/vnd.jupyter.widget-view+json": {
       "model_id": "421cfb1ac0cd481c85b3e40441913335",
       "version_major": 2,
       "version_minor": 0
      },
      "text/plain": [
       "Training batches on cuda:0:   0%|          | 0/254 [00:00<?, ?batch/s]"
      ]
     },
     "metadata": {},
     "output_type": "display_data"
    },
    {
     "data": {
      "application/vnd.jupyter.widget-view+json": {
       "model_id": "dfaf428f62164f6c8e1add4ae31fdb41",
       "version_major": 2,
       "version_minor": 0
      },
      "text/plain": [
       "Training batches on cuda:0:   0%|          | 0/254 [00:00<?, ?batch/s]"
      ]
     },
     "metadata": {},
     "output_type": "display_data"
    },
    {
     "data": {
      "application/vnd.jupyter.widget-view+json": {
       "model_id": "190469138a86426fa98f3496c8bb5520",
       "version_major": 2,
       "version_minor": 0
      },
      "text/plain": [
       "Training batches on cuda:0:   0%|          | 0/254 [00:00<?, ?batch/s]"
      ]
     },
     "metadata": {},
     "output_type": "display_data"
    },
    {
     "name": "stderr",
     "output_type": "stream",
     "text": [
      "INFO:pykeen.evaluation.evaluator:Evaluation took 3.04s seconds\n",
      "INFO:pykeen.stoppers.early_stopping:Stopping early at epoch 60. The best result 0.2680747922437673 occurred at epoch 40.\n",
      "INFO:pykeen.stoppers.early_stopping:Re-loading weights from best epoch from /root/.data/pykeen/checkpoints/best-model-weights-d115e93c-28e0-49e0-8443-0491d7d3ed09.pt\n",
      "/usr/local/lib/python3.10/dist-packages/pykeen/stoppers/early_stopping.py:268: FutureWarning: You are using `torch.load` with `weights_only=False` (the current default value), which uses the default pickle module implicitly. It is possible to construct malicious pickle data which will execute arbitrary code during unpickling (See https://github.com/pytorch/pytorch/blob/main/SECURITY.md#untrusted-models for more details). In a future release, the default value for `weights_only` will be flipped to `True`. This limits the functions that could be executed during unpickling. Arbitrary objects will no longer be allowed to be loaded via this mode unless they are explicitly allowlisted by the user via `torch.serialization.add_safe_globals`. We recommend you start setting `weights_only=True` for any use case where you don't have full control of the loaded file. Please open an issue on GitHub for any issues related to this experimental feature.\n",
      "  self.model.load_state_dict(torch.load(self.best_model_path))\n"
     ]
    },
    {
     "data": {
      "application/vnd.jupyter.widget-view+json": {
       "model_id": "694c8c48761a443490c5c70adbdce7bb",
       "version_major": 2,
       "version_minor": 0
      },
      "text/plain": [
       "Evaluating on cuda:0:   0%|          | 0.00/1.58k [00:00<?, ?triple/s]"
      ]
     },
     "metadata": {},
     "output_type": "display_data"
    },
    {
     "name": "stderr",
     "output_type": "stream",
     "text": [
      "INFO:pykeen.evaluation.evaluator:Evaluation took 1.53s seconds\n"
     ]
    }
   ],
   "source": [
    "result = pipeline(\n",
    "    training=training,\n",
    "    testing=testing,\n",
    "    validation=validation,\n",
    "    model='RGCN',  # Specify RGCN model\n",
    "    model_kwargs={\n",
    "        'embedding_dim': 200,    # Set embedding dimensions\n",
    "        'num_layers': 1,         # Number of R-GCN layers\n",
    "    #    'interaction': 'DistMult' # Specify interaction function\n",
    "    },\n",
    "    training_kwargs={\n",
    "        'num_epochs': 100,       # Set the number of epochs\n",
    "    },\n",
    "    stopper='early'              # Use early stopping\n",
    ")"
   ]
  },
  {
   "cell_type": "code",
   "execution_count": null,
   "metadata": {
    "colab": {
     "base_uri": "https://localhost:8080/"
    },
    "id": "_TNX0l0jktXb",
    "outputId": "7b2fc9a1-7e45-49c2-9408-bb43d7da1daa"
   },
   "outputs": [
    {
     "name": "stdout",
     "output_type": "stream",
     "text": [
      "Model saved to /content/drive/MyDrive/Digital Twin Study/Mehmet Can/Models/01-200/01_200_trained_rgcn_model.pt\n"
     ]
    }
   ],
   "source": [
    "# Saving the model\n",
    "\n",
    "from pykeen.pipeline import pipeline\n",
    "from pykeen.models import RGCN\n",
    "import torch\n",
    "\n",
    "model = result.model\n",
    "\n",
    "model_path = '/content/drive/MyDrive/Digital Twin Study/Mehmet Can/Models/01-200/01_200_trained_rgcn_model.pt'\n",
    "torch.save(model.state_dict(), model_path)\n",
    "print(f\"Model saved to {model_path}\")"
   ]
  },
  {
   "cell_type": "code",
   "execution_count": null,
   "metadata": {
    "id": "LgJxfh-2kvjV"
   },
   "outputs": [],
   "source": [
    "# Loading the model\n",
    "\n",
    "from pykeen.pipeline import pipeline\n",
    "from pykeen.models import RGCN\n",
    "import torch\n",
    "\n",
    "model_path = '/content/drive/MyDrive/Digital Twin Study/Mehmet Can/Models/01-200/01_200_trained_rgcn_model.pt'\n",
    "\n",
    "\n",
    "loaded_model = RGCN(\n",
    "    triples_factory=result.training,\n",
    "    embedding_dim=200,\n",
    "     num_layers=1,\n",
    "    interaction=\"DistMult\",\n",
    ")\n",
    "loaded_model.load_state_dict(torch.load(model_path))\n",
    "print(\"Model reloaded successfully\")"
   ]
  },
  {
   "cell_type": "markdown",
   "metadata": {
    "id": "THAV0SlGsB0c"
   },
   "source": [
    "#### Layer 02- Embedding Dim: 100"
   ]
  },
  {
   "cell_type": "code",
   "execution_count": null,
   "metadata": {
    "colab": {
     "base_uri": "https://localhost:8080/",
     "height": 1000,
     "referenced_widgets": [
      "c743ddb7740742ec9a7a52a3a91a66b9",
      "58e597de3b28459a82d7fd93042c8e88",
      "f3ff2cf1fd004d8db6e002dc937b4372",
      "a61f734a63074586be789a091349ee43",
      "b84cfe2f9f284505811a9f1039f9146b",
      "f71492a579a24103bf52be5910299443",
      "67d66414a2594a83831c48c3a4314f7b",
      "28c3867eb8c74921b30352817f2e2f5d",
      "5fba19c663be4fe49be84ce03d9f5d38",
      "5d6a4538f68b47c5a6a51da0c4f420d8",
      "08eb57e17b6647ac9663bbaaa2020a0b",
      "5db26fb372fd4dcfb0120c54858b9114",
      "e645b8a706c548b490f8e1521407b9ae",
      "1f596c4da5d544b8904753f54ba3f53d",
      "4985ec59a38c416893a23a4761c781e5",
      "eed647f51c43490b94046021b77ad12b",
      "adecb4d876974d6b91bf76cf3679f531",
      "d5d1982c5ab54a7db227fd422b913eb6",
      "e11fd5d1625f4d309b1373f2dd37a867",
      "52926912386c42cd93e7eeb6ce12ae43",
      "a9331aa51a3740ba9af67a554fe2f14e",
      "2b6249e99e3546a2b9ca8d75a01868bc",
      "07b49aaf796a459082b3880d49169ecb",
      "e3fbe2726bc3493783ff17f48868f424",
      "67a8f902fc85427a977279763922ad8a",
      "c17dd736e83f4a50a4eb430fbc3965df",
      "2b8b667c2ada4115859cbef16d80fb3b",
      "2b6b1283e43b4445aa0717ffcba18586",
      "ac7191d980dd4eb0a811d1986483b438",
      "c565f6a876d34420ba0921f16cf5f988",
      "bdedbf8a8f2d4931a7cca90408961f0b",
      "3e208fc6f268432b97b3e5c332bada7b",
      "a7a96769102a48a8a2a21eb418cbdec8",
      "be5aed1d1a3249bea6c9705684bbdc62",
      "42e1e9c716be4762908ef3f4530949fd",
      "07b1c4eb70254b4ebf227155aee8021b",
      "771e5fa8b85645b0af3d49de0527bf32",
      "6cc3002ef76740b6b7c6550f9016b8d9",
      "e906cf10ee3f4685a538c5d33a163dc7",
      "82a8f342c6e948a2919970887fa5d0c6",
      "a4a34559adba499c8925887557938158",
      "1a90a72333b34281ae30c8f89c02ed27",
      "b7c94f4670bb45d4ba3aa79f92c2cdff",
      "f33bddcd46c04466a99c9da88645e313",
      "485f5ce220334d8bbf9652d53a0346b9",
      "c8b77ec07ef8494faf494e8dfd4bed25",
      "b7837825f63b48dd898ae00317b6e4a1",
      "3ca0e15e55b94961ae0c23b6ffa594f2",
      "5f9b6b6f26f840f68c668f7e5cb663a9",
      "a701a421bfe3428d9aa125077a762c6c",
      "b31bc1415afd43908cf17d870c09e904",
      "e8a055398189466884bfcc691be61f69",
      "fb7377f014954444b83a2c8f5dbf2714",
      "60ddd8c0648e49e39d5a2bf1e8b1b7cf",
      "802676ef326b4c8ca9902d15f4cff6bd",
      "a346897ea2094942b2768a789e8e5f1b",
      "69cfcad0fb1f4e5ea4f7ed6436f2d405",
      "41651ac7fece4f04b698ca5a6f8fc44a",
      "a627ad4536834d2aa137baef5de3d537",
      "d57557a03fd94eb09a1ef6a4ef526530",
      "d6da0778f005492783dd882cf7c4ef3c",
      "4fd093d201dc4bcd8e42d3fec48858bf",
      "7b443fa4391b4a5582f8d33c90c23d5c",
      "bf563ddfe253458f88d3f5afe80f5402",
      "807a6c0cea1f42e68bd0e3b25f8dae5a",
      "3c6db7070007477ab4ea4aad10f6d860",
      "7572d73c798c48c0b69467dad1313791",
      "df73f2b42b074b4aa39fd29f6f3ad2d4",
      "946e1b4d7cc64f3d8bd8a0e4f1a4c520",
      "62e3ed110398494b9fd4d4a64ddc416c",
      "66972dfc04624a49abd360d30f6f6da3",
      "66d57b4a11be4e37bc2d7b03bca75dbe",
      "0c78048c86424d5b98126b6df47804a3",
      "57edd0900f5e4d3682779295cbff5594",
      "432603c0b1fe43e3b6bb2171a466a061",
      "2e26f30efed247569d40c7fd7b3eedd9",
      "cf6ac89ac6a1480394d88b82a5913345",
      "a184765357dc401eac0c65de1d0bc23d",
      "45bfa2df528a43bb8266bf9fc1b4a83c",
      "2265749730a247a3897bdb4a035d17b3",
      "e8b1d0c3670144db8c6f4de071a1d15d",
      "a0b09fe8a7714db080e8feff428e782c",
      "db92d95ba77e4bde9eda6ed5b5ae1ce3",
      "38c727d9214e4577b79d3dd64d488649",
      "38c3e2b5265b4ee3aa9c13ccf239f375",
      "9d5bb8cbfbc84ce69020c67b29ea3163",
      "574be9c26367406aa005808bb473ed6b",
      "afc908e884e44c6e982ccca069af1199",
      "bf05c0b31ac540828bd20e2ed5ee194d",
      "002453258ce84bf8878e805426174329",
      "d6aab12bd48a40fe9b652dd7468106e1",
      "4a75daa529cf4c2eb2e20d120a351d70",
      "dd00c16e84714a7c9da18d2dd6d16e76",
      "8050a7ab66b2439a84f46e92d51c3202",
      "8b44baaa58254620a45126a1d42fc6eb",
      "e01b0c7ec52043319d9930647839641a",
      "5f72162fc5884ba6b1741d7bba6a531b",
      "d37e95bdccba45db84cf4a7fe6be407c",
      "a5d4e6f4ed6d4933be0d623e33e571ca",
      "65912317c8a34ce99d5b2813c11d2382",
      "9d581ea061a246048a90f5e52ec04cc3",
      "7d0608d52ce3434a9d1e6e8a8b89e5b9",
      "2e8a0f7fd1994c69b523d1f576d74984",
      "040b1a29ffe04815bfdb3854b2ced314",
      "b1b7a17eb34e44d9bc90427fd696d10e",
      "3e44aa64b38047f6a012d967b7256ab9",
      "af7f44065fdd4263b0cdd6bc901ebcf8",
      "f3865276558d49de8e7cdf770117c3c7",
      "6004865a454448c78bde67b6b8d85448",
      "079253ee6f954821beffb763aba688ae",
      "44f716d0dcf14264a230f13e11208d01",
      "3328017555e74daba8b61981ed27d2d7",
      "595edeb074ad4df9af532663cac0033d",
      "1f096b48801b443487ac06db80917c3e",
      "2227303485f24298a252b6f3e2de9512",
      "363e9ea5c21c4005bfd0446afa08b82b",
      "6d765a87047b454896cdcc23fbef9f64",
      "5a83c203b0aa4a30a78db9a66155b94d",
      "85c82090ed2045859758cbc0cf23ec9d",
      "92de4262153a4cb1a06e44cd6c54697c",
      "16dd27e463ab4b68bb17cf0307cbc385",
      "c08ccfef20ea42deb2e060b971588551",
      "b8b1932e561d4e61acba319f9b955067",
      "a7782434dff043c08ea1bbe059543c7d",
      "bf8de21ca7f4469485b64103ee1e8ab5",
      "69544431f09843af94f5fbc20470fe3b",
      "9141bea41a5e41ad8c4a324c231ce943",
      "9fbcbc5f71274b9293cbe650b3230449",
      "75424cd9b9794a9db2a34d727e2f5d4f",
      "ca2120ab465f409b8408e57e184afee3",
      "b4799ae05ab64c22b8b9d20216952450",
      "ee01a38976f9462a889e0708c4a3eda7",
      "9eb80a9c778d4df0b01e579323fa98f6",
      "0011473fc7574851af0e8c1c0ab3253e",
      "fe08cedad42e43f8b1d1c1db9885f5ee",
      "e478903c8c3c473eb378fbf100a1d5cd",
      "2521c16a0ec64b26bc3593aadba92501",
      "de9072ac28774c9aa7c02eba5ccb841f",
      "aeebd1ead44441329636a0da78f5fa21",
      "716628893f36422aba5a066c64a2de90",
      "b660faff5e194193bc45ca80faba59b6",
      "75ac07ae63834514810ed3d69d145765",
      "0632c6cb8bc1427da2c6cad12a75c834",
      "550fa13c859d4fc281fcf3949ea2e6fe",
      "1a34c18af38f4b35ba7ddd4fa224422d",
      "e811ce4ca5d9435195acf7d7361df6b9",
      "5e2cd7c932f1449ebcda3b576a9e4c7d",
      "b3a70f21ad9e40ad930a5c8f3bf78b6a",
      "0c158dc9e9dd410b8212e51643fd59fc",
      "943f40e7a0114621bccf1fb8b00c42a0",
      "ab4abc3109e5499ba83144af683dda6f",
      "a0051b16734f4fbf8678acf94c601f9a",
      "29827d4a753f4fdfac9e46fe16c265fe",
      "3df0c72e5b1f4ac98f7bd51991be3c07",
      "6497be787ad24acd9afdd1eff957e3ff",
      "ae7549558d6f4efcb1d05fec3c451697",
      "80a0d4d0b7964fac985cd7086ca1eaca",
      "47f5f9ec98a24cabbaccc2d64f2179a5",
      "543d26ff964d456cb24a23edcd1b5f0f",
      "14df942d26eb4e1bb834aa2f6a800e52",
      "178d8be4bc124eb9b47e413881dd54bc",
      "a08313c8c5f74c0e8e9e8c39f30dc982",
      "d32c0f7f759c4d209528959d1fe648f8",
      "98a90c9592de4823aca0edf9af058d62",
      "141a5d25475a4eb3ba68f886a1701b5b",
      "58df725a4d534974b371c6f3179c7f72",
      "09b68432eaf0451cbaee4ce9615846dd",
      "5cca5d14ffff45ec9a58498948d2604f",
      "b0ae2fe5e2b44533a54d63b4390cb2de",
      "ecd1236290cf4b7bb527bce6855f9290",
      "69e0b6ccae3146eda021764568fa69cf",
      "eb63858bce7a4cdbbac57034aa23b42b",
      "f77bdbf38a544a58beb5efa21ccc309d",
      "3411c314b2bd4f1daaf77615068f4a28",
      "b5ea1e6d82cb4b958deb8237cfcbb3c6",
      "7ec98f70fceb4866a8f1db819584a741",
      "080d8432f3dd43418b0bf389947882d8",
      "bd45f2b151364de2b9f7a7f412b916dd",
      "0fa8ff07d82247bcbddb236b4239c4f1",
      "50b206673bb74e93b59ecf39e4d6ec7f",
      "9a78fd7603a44a7fa6af09945e84219f",
      "2749ded7b6fd4986a2be7ed14ba77933",
      "0d9647c0582448318a4060ac2c4854f7",
      "8ee138b770e7417fb87b2fd26455b9b5",
      "6ff3385bf6394bc7bf63a7c778cb472a",
      "4b3ebb3e357742e483772953a0eadd67",
      "a9f4672753b44d56a6306329285882dd",
      "f04f9b9a05c04f14b3c19772c2b60a2b",
      "8645e942a58443639dfae4a0fc670012",
      "72fc1e13355c46b9859b4d9b372e2781",
      "e2e7448dda0d461d9af5edb85161725f",
      "adce14b1892e4a2389600af01b9ba182",
      "9aa2ddff627448f8938f181f3c556966",
      "a88d9fb4becb4f80b27cad67e730100d",
      "ce97316425854e0e8a63d7287ee608f7",
      "c80390832e4447eab8e20c6fe4892b2c",
      "c0b527435f00453c8cba84c9acafb953",
      "2f868bf5375c438a8237d873115274c4",
      "a2e4e2702843462193f1dff0e6408308",
      "5ce5d4a2ad394786b54f4f9cea8d340e",
      "27dab4eb549146418358569c3aef5831",
      "46e790b3e9f842909120f93451e8a59b",
      "d13ab4920cc044e7b96b1887e3dbdbea",
      "679c97c3ac9f475b834d9a49d74baa76",
      "79806c4cfd01402bac1a467d9c8aa39c",
      "8cab88e2652242349815a56ade741003",
      "830f9f81e27d419fbeeae3d18f2af059",
      "cbde391714074897b150b081f08c3e7b",
      "483bdcbfd785411e91616e27f8720f79",
      "01a415cd1c2147fb80622427cdc67aea",
      "8b921252298f4398bdad7d2de0948262",
      "c7b510fe99434529aaaa3cd37ffe5bc9",
      "bd5c7e5225d046b890daf995184e0a07",
      "84157d7b1e6c405785949e86e609f056",
      "70fcf614ce3845cf8dc776625af04cf9",
      "24297a6f64d2437a945c57c3f88e9bda",
      "22f12c332fd94fef959794041637cc60",
      "2dd2104cc0c04e0f8782435c34630744",
      "805768f71fb6464ba4bdab0344822574",
      "e03710b0b42249fd97c3ec895068d12c",
      "c17b91249b6648978118c673c4a6bb76",
      "febb485a7c354525aabacae41cf1d097",
      "dfd7c85551254af2afaf430477a70b9b",
      "f5c23f33d7614f3e8ce6a0f29022d9ed",
      "4db55e861ea14be08781c94744850fbb",
      "68541a9b08424ba48e7b8341f209732b",
      "f2fbeacf9f114dc2bfaacce603fa04e1",
      "1dd87973fd3b4416bf17411bc4c165e7",
      "85907651c50a487d89a0e4034b76ae56",
      "5a9aafb540704dbf863220f299dbb2d1",
      "8135b3df22754f799be35bec78979ede",
      "8445a2e5b805460496c1b776cb6ba46f",
      "b36e87b88e684edda427f15d4ea05603",
      "bd989274b5b14f2fba434155d4ccb056",
      "4f5c0ffd8e134027a20802a7053f7632",
      "fdc5414b8b9e4a0db458b2b27a0467bf",
      "5047474422fe417a9659c7ac1d0c51b8",
      "2bc1f9151fc144628dd1d8959dcc0db0",
      "2b7256f7a2624cf78732dfbc170c80f0",
      "ee2e3c3c4f7c464bb078d014432fd212",
      "54fd33058cf7497ba9294f6145a77443",
      "2f4f8e2cdd8842b899880c0ff4f91ca1",
      "75a233c008bc41ec94685a70be78a9f4",
      "c340affd5d8a465cab2decce7e5e378a",
      "f63febf215404ffda3470051229550ae",
      "83240d63415248bb9eb0f1c6bf8af605",
      "a3c4d333a52547708035b939e593e136",
      "943eff6eaab449a48721beb4c31d9c62",
      "c411151a46984c62ab6c6f34c2641fbc",
      "d24f8867a2ba4f0a9d5fa3beefee5344",
      "11d7f20175034ace9c6bbce6980d2024",
      "df0ee802cae14b53b87fb73348c9e44d",
      "af636636194f45bf94044c8825407a17",
      "5e87fb39d6c94f07b9bea81c93a480a2",
      "6fee7553ae9d48f2953ff10f7536990e",
      "5bb654c261b5450ebeef657731455d3c",
      "3fa8ebead9904f1884aae9cd2e829a07",
      "3ea3268c49d04997b56c655a15f95cd2",
      "3e854ad157b54609b8d3dc2f98e75f2c",
      "7e37bb181bb74d1586878a56f7237635",
      "4edebd8674044d86bf70bd433e4a54cf",
      "40bf3b190d544f37823e5ff83c5935ed",
      "9f7328662ba0447a8193ce9709a88ed3",
      "cdc6b0c083f944b99cdaca42bef2ecb6",
      "7882bc3845df418c8bfe2d22919c3e1e",
      "f8fe943ba2194d2f8f236780b7fd8228",
      "b88bae52dc414923b9c19cb138ab0289",
      "6e3e5e3908f64ab88a4a140df6658dd1",
      "5feaede3e52a40a8b8ff2c090e01b457",
      "06da9eed012742789012ecb00416d109",
      "8f012f7e69b445429b786b3ef91090c4",
      "9c5ab1d83ae047b3adf7d01c30d7488c",
      "8b71361c29b443ed9d21fb66bec651da",
      "e937c4c691af498e91f82a3e7918e9bd",
      "f179a0cb41e440be8a415ed3b5683c56",
      "10cea4303cf245fabc48aebb2f88623e",
      "e6a698e0103d4f00b492bfd90fde87cc",
      "6e78811c0a0446078aa4b9f0afda99af",
      "dbd82f4121be48a688c0d2d09249c020",
      "cc0e58a8b4b840ec8a1ca501bf90a622",
      "e4a1b557f5964f0998ce7cf7d2d62dff",
      "3736547b5e774d068788adb64599facd",
      "40fd3274af8946d69902794574547cc0",
      "2e84fbdca0d04dc193ff143f5fcf35a7",
      "eed8b43f338c4fb5bc596b9e05543d52",
      "d42442bdffc74a25994b285b0406ecfb",
      "6bd966ba44e646629c44241d26e76e13",
      "66d6853aa14e41939dff20458a6c607f",
      "fbd27345594749cd8d1d3de8a122a649",
      "747c79bbae4646059d4aa0613786ca89",
      "83d6695040c144819578c9b8b98b2e98",
      "8a17adf5db15464d9e85d09d37c3d0f8",
      "3232b7fb5aa74f318d05d7c6cc8c510e",
      "6dced0cf50d64bbc9e469620823dd689",
      "47de6179c7384770b3fc504f8e77c7f0",
      "8894b9a322b34edb957b8d474759affd",
      "651ae5c0e63b46fdaf11cf75351abc47",
      "333044ae79f14408a34333ae40663b2d",
      "980dc16464f74931bfcf377158edfda1",
      "694b529bd0084e9a93901e94b08d927b",
      "e2bf0a2ec65b4530a9e01f21a277798a",
      "f9bfbd1ef30f4c6d9d446755b4649d4a",
      "88ec4d68f3874bce9d5cf47e445598d0",
      "51be939d17924f069b1e4086e657610d",
      "569911af8b6c42e4ac6fba589fcd613a",
      "221b5a8af4094a10b2192b62dc316a1c",
      "9f6170d477d544b79ea56a7b3b8abc9d",
      "67e1d0e533de4d1d9af6d6cd3bdf458a",
      "a2d93737c2a441bf80bf6f1340750b57",
      "73d8f19b159f4b8eac34c6f60fd28865",
      "ebb256b093b7432f96152c3a42cc0800",
      "2ed44357375d49b993edc2b3c17e9a34",
      "e23063441ee847f98e623bf190dcbe08",
      "96396ef1bb85476c9c7ec98e4f506ddf",
      "62f2d3bd4cb24188b82071050b462fec",
      "fe1614be68e94b059fd72c44054f1f70",
      "9aba23e2953248c5b84359418e47b67d",
      "4a0cc2b5f08c47a8a3c9dff63eeea6e9",
      "56e7632504be462285d333d8a51e05a3",
      "7db9e6bb74c84534ac0ce6bd098c87ed",
      "a006c494b1a348808d08883a9ed0d74e",
      "545f072bb1ea4c398947f5f933955ee4",
      "0221c1f4a4f64b77a7e5854320a821bc",
      "d3859c05ac4a41118752cccecb463409",
      "cff2a1edf0854b65a838ee09dee9f718",
      "d20628c3572243119f5ff432e4081bd7",
      "b2f880be1ce44357a32e56af657e0443",
      "362a0aa7df3549c68786cc74678fa5e0",
      "38113a3923ba46e6a2d254a3ce2742f1",
      "91292437e0f946f7aa4897ec6b8f3c53",
      "7a797b2475234f74a14948ef61b8f150",
      "a35ec6097cb0466785877a67741d132f",
      "5ef7fe832f40451f83dc17a312ff4e19",
      "44a48b7b71cd436c9bddc822cade1a69",
      "7f04fbbfb19747c6b4287acb6e4d7e84",
      "2e190294624c4cac9572124738fa319b",
      "edb4c9aef7c34ca7be80422fa73e89c1",
      "bae378c9a2364bc2b092d3e30366082f",
      "4e5c9b162fe54f2aae621c0def7ad063",
      "d90f36cb05524165bee111a6397276c7",
      "32a2e2dc5f624077a770ad50bd3348f4",
      "02447da57a484e5198a235c17ce7592d",
      "73968b20eddf425b95d1117b35eec224",
      "12f4bc09e535406c9168af4ba8b1e018",
      "6218c645e30c45c2bb56147a32999867",
      "a365cbfedd4a4fe898b91e98a9987af1",
      "2a2bfee294de4e829b968167e4cfa3d5",
      "e7b11904b1e941c39b463e8386213fb6",
      "a638471188e94f84bb7e0c9b9a2a5a21",
      "96055f7c127b464c95a0feb5dd1bf13b",
      "1ad1d02cb11d4eb591ad47f190d7da75",
      "af123db634134fbca8d90b7216cb7dde",
      "7dd575d0958543eb90b0f2bb6a55f0c0",
      "6726450fc16d4d2fae9f1c1fb00a0494",
      "9eedf5c2a71e4973979f9412e1300086",
      "a128714e0bf049499b6cb8f9b0bf5ac6",
      "97eaec3ae9be44a997c14fc78c0e93ef",
      "0daf1028eb924d91965291dec530f211",
      "7dc8780e53d04b80a6053db612551e77",
      "dfbf93060080474d930f19d324d9e276",
      "8addfad21ceb4940ab31d7dd677947d4",
      "9846a70a4135400486539d53a564d21c",
      "8aa538639e4a4399aa93c4a4b199bac8",
      "9ba36a9a50ec49b79c15dd9d39ed8c45",
      "c31ee38969c74bbb9269d779131f3c85",
      "441578b955944929947ede9c450a08a2",
      "0bcaa37aae8d42b08726334b942c947c",
      "72f18f040a254c15a4e398eed0c50dbf",
      "a478862f6c644a34bcd547f2050bb67c",
      "f5985f8be98e462da19ee4ab69907df7",
      "6a808e2c49944918aa50effa096b46ed",
      "9fffff1bbadd4c21a922de21f77be48a",
      "74304f9bc9d54475a06c0e57fa0e9599",
      "9a16d856dc9645d69888ee39c1eb1d99",
      "68b5b6f118424238bc5c84eac495f9ec",
      "aab00e9a86c64ca8ae2d2470c7457ac8",
      "4a91f061b1b74373851892cc76c79752",
      "c5d4d9f1f5e749aea18c525a08008865",
      "da6e96d64ccc4d299dc0b0fc076d92d3",
      "f8deade9835e495e84c9f247fc949e53",
      "dbecaf07e92b44d7ac9464a74c1c1102",
      "dd3787b60ce447f084093a709bcd5833",
      "ea499098d8524586b3f96832630aa46b",
      "63d045bae314416996e81e87f0513574",
      "cb38429636f44b76a186073d511745f6",
      "db765bebce364573afb673cef92e53f5",
      "fa3bc3bcf3f6487a805b786d4600983b",
      "43af5b4f1b5a42d88fe42471cffe64db",
      "e621a5d4d6234518a10e70209ec88528",
      "742db824c8c84aecb93c0a3c7a39aeb8",
      "53f33f47402a4527bdaf3a9252b9be4e",
      "d5703af3d88f4ad084a9359914a255e3",
      "e0ded6a686ef406ca7c2c0b73a213549",
      "444b95c2db4043d19a51af6b8ba453b0",
      "8c45b6e3c7c2412f89be466591dfd354",
      "1c8fd4a03e6944e2bffb8cfaec340e36",
      "9de7cfff380d48999bf1824907954760",
      "28409b3b221049438708e4a596f4f71a",
      "8ee340b4f9a544c7a90ae3e412783422",
      "12c60fdb5d7d40e2b7056fd94b9bf2ad",
      "7b6854d62ec540ac81129c282a2add2f",
      "25068a62d1644ccca86456733088f20c",
      "f2cfc1ff45454322ab137524e08663d6",
      "b5839877c05b4a93a3c3133af7ea2a16",
      "afbf669271c74c988a800e511e1fc540",
      "0e525118673b4d07adfe529858cda82c",
      "7099eb543bc74455814d76b837ec3130",
      "ec23128e96924936a193692808347028",
      "99eb4d2be04b4baf9940a06a5f281226",
      "672bda3948f842d886d32b77ba2f066d",
      "931a4a1e73ae4a74a0d079fb06914cd7",
      "49661d47315846c4a4cb75d7c0d45ebc",
      "ccbe5245cd0543cca47355715dad6120",
      "bbab124ccb224b39a7aea66209448054",
      "ad527e0c170d420e8f73a948eae95aef",
      "5b93eea9a7af4ffa84304bdbff7e9f49",
      "c7a6b60acfb04c84a5bfcde8b1a43732",
      "8cc8b389f4d545f4bac267c872d96c87",
      "78070a7bcd244451863b47c6041eac66",
      "92b3802300d64fd689abff6a51f31854",
      "c2f898907bd3451c9744046ae99da69d",
      "596da8cd868e462bb3f46ddf8cba1eff",
      "f77864e679ce41dd825af353ec8289f6",
      "9beddcc6c7864b63820ad9bb4683abac",
      "d47301c5b5b5400cbd36e89190e669b9",
      "76fa9f0642bc4cfbb4d51d0c21b1170d",
      "a1d328ea6a9243c5867e75342f3aeaca",
      "26235fff3ceb482c9364541c35456a2a",
      "2413a4897ba94c92b3706e87434484d4",
      "10aa4374af8b4b51a582fe5ff048c8a6",
      "302b620591734c78b40aa0ebb2a5597a",
      "103e366e1cbb42e5a57d97774285eb3c",
      "8da8e428bb7e46a8a0975a628ca2e658",
      "55693bf070f5486dbf1c36b68e24ce24",
      "3a6c0d8baabd40089791b5f7a428c0d6",
      "e6a095b51e594042a85ead4f07a5eb56",
      "a00c767ab9fc4959ba4dbbe8a2d024c9",
      "c4f4ecf841e74a76877596bc8604f87f",
      "c311ae22db064f31a7f7987d528b408f",
      "8cf7c9949a2d4037b6a4a7e542f99226",
      "d51e383d25314e26b0932f7e337e0a15",
      "c3209a5da7e64e5eb153489a08231c00",
      "f15ba969afd449d595b412e0b5f43bbe",
      "357e850de712428a8b046e3c93b05204",
      "a963108b426a440cb15a04c831bb3f43",
      "5316bc1a521a445dae6b3db6ed296d1c",
      "d76051c0be094a618dc13bc9672eb82e",
      "ad076250577c49b0a06fe810e6aff32c",
      "64cc1836d41f4d269f80a9cc1a1e761f",
      "4edc81da03784ba5a2271b78f960d45a",
      "0df5acd114bf4ddba176aa4985b5db1e",
      "81bebda7c80149bb952d272c74016fbf",
      "a35d2b4c14124b61931e894ff986ce41",
      "c084115746094e98905e4386611ef468",
      "f3993bb4076d412cada7e8ed7b49d6b5",
      "dc50a583cc7342d2afc9c8e0123ae781",
      "44d27316b2e74f4e931698de1c6b4c36",
      "37a73a80c3e74b9ab8d8fc2e146b622e",
      "e27a9067eb614800a9756a21874ab5e9",
      "509711590d5845b18934003d69210d3c",
      "57d4b28d79ca48599b526c27ead3cec1",
      "0b0d11b78c984bc7b1878859c1037348",
      "cd08d138a2be4d88b491abda49425d74",
      "39618123a3dd4f8dbef88bb22dbdc59c",
      "4d188544ff3e4137a5b48e7164dc9b31",
      "0ac21bcc8fc64bf6a41bf45420c6b2c4",
      "acc9a8b2b3d14deea65a5a00b85402cd",
      "9e555eb509f048819dcbd036590b847c",
      "77906a1977e14ee2b98cc424c76c224a",
      "b9b134ba97694ac18576cde5bb698451",
      "956804f913484450bf12c63d32c40b8a",
      "bcffa32bd4b34f0abae641807b1d26f2",
      "e54a8b1043c24fd1b757958f5868390c",
      "b32290bbfe0f4ecc9f29c4f6e64920fa",
      "fea4ceba530149dda8a5ebe2563d3df8",
      "b9469a68975f4331b4b9f71c15944a6e",
      "2b0ebfc8d60348eda74f2896f5ed9387",
      "1c3e619d43bf4065a3c5d559f3d635de",
      "e68f0f7a94454ec6adb84298e0343e31",
      "d53a801675ca46aca0dae7f6939ea68c",
      "7932ae4e357645338e99fcea7e6b4752",
      "f538768aa0b14b5fa19dc1334c132944",
      "4fd5a6c4c7264683ac43a2b572de680b",
      "caab53aa2e4042f7a1cdebe8230f44cc",
      "a95abb0907b042e5acf2e60da96c97a9",
      "de7b359432a94f7a80f72efc1c71d2e4",
      "83825f1e84d04b49a846260e59d06198",
      "2db99965c5f747f8b29d701d549d4623",
      "089f13ba9be1456ba6223ea2e470585e",
      "e95ada8327714692b4e1150ae499a270",
      "c0fd561f2381419181be1510d9377555",
      "01ff1188dd1d4077ae63b158f1660c4a",
      "4db6d2007c8e444b8cfd28683ab0ba7f",
      "9e3c263973d5475dac8bf60bb245cc6b",
      "6ffdf45b4e5d46b0bdf5b723f7f11b66",
      "e22f14b9ea634ffaa0dcc2422b88d059",
      "1e2568338b43431db3c35fbcf428c442",
      "d229dc00b70b444f9c7e6a2388c78a35",
      "8002141550be4793902f3bac2ea119f9",
      "f0978c9cd3e7454c9668b2e34f1d6ea0",
      "2aac6d2b5a7640808e704a2f817fb26a",
      "38d90351c54c4fe28c02314d4015a63d",
      "3a7383c5f7ac434bb89bcdcc50b0a955",
      "4033b5dd82844fd1afad4762b9d947c3",
      "4f343d3355174202b69928ffa27bb8bf",
      "6cb6f68e503d47f1a7fb802b97841b97",
      "b03602c4777a46c1924becff9fa5856a",
      "f0aab08b78f84e4bada4a43f8d019365",
      "88f00254d629403cbaf25e4e15341720",
      "9f936145337942b2aa5bec6e1e3a184f",
      "e8f0752c24b84fd0b6b05a7c7c4cbb5a",
      "46183ba2f7f44c2d91c91ed1b9a51b05",
      "84613491e588426fa045585ae606aa4f",
      "7e859a0ac3074dc799854ebb64f38750",
      "5bced84d472e4fcea55a4c9c91d3663c",
      "c39e1a1dbcf64b118dc82ad404f1ffa7",
      "a7d64cee19aa4b919c34d41b6d0f3011",
      "706f83877f65437f90b399345e39cd89",
      "d3f85ca22466479196f61497abf673fc",
      "d4800f322b544a989e9eadacdab4a80a",
      "a5cf751bdfaf485796c4d208cabf3d04",
      "31279eccf6844102b2fbafd08d96210d",
      "8680a1deae154aa7b7cca7412f57637e",
      "d49b3ca3fde24d03b7e9d74704e4ee26",
      "5ac8d4b8114b448590fd5ae456018daa",
      "cc5271d22b6f46999e731997765faa3d",
      "5c8e20668cfb489696c25b52283cf011",
      "0a7b30cb491e4333b444d307bebc30bb",
      "5844dac1d879411e801b12cba1914568",
      "899df79e7af84886b58e7b3e31dc24c3",
      "511e5c6657504d1ebfc8a601c3b50f96",
      "3c90060efbf24862b0ec8d6900b1ae71",
      "f02e082e33034b969b892b13aa387a59",
      "a5eb7d39a0e84b9e95a1efad6b525496",
      "a434bce31e4640e6a04c599061b3b3b5",
      "dfde85e894d8452db88658599ebaae15",
      "87fa514452be41a09162f53679d73660",
      "9e3875cc8ec04ba0b0ca183a9d38182e",
      "1bf3239255b14b09a6973c0b3d92d57c",
      "91feac01e35f49d7ac73b94c6896989f",
      "a71486a691bd43148c1d39cc5e8da6ee",
      "1be4647f72454cd6b252eb58856cbabc",
      "55e62c003c1a4b60ba7bde85b8accf18",
      "ef47319da8764454815851badd794806",
      "0e2087e61cd047ada4333371b496391f",
      "838141fec46c433b891e7e28fb36a346",
      "9fdd2d4bd3174f7092d3d972b8ec493c",
      "a15d19c67ce94722a5d1930f5b7fe778",
      "9466371e0b4048549e25a7408ba8487d",
      "a8f2cf541df44212ba008660813b9413",
      "f0a98b14f2ca4958973fcb6be4f474d2",
      "40fef65378a349358fe9d7bc45c05ee6",
      "479fd5248a3c4ba69dbfcc75010f1fa0",
      "f24de0d1f5d44f9a8899fcf2dee099ba",
      "7743fdb8f51f4c98867f7fec511bc29e",
      "207bad9963ef487985c24c3db68a14bd",
      "75a7f3d318374e168a662ebe92de180d",
      "339825aef2f7466b9567dd38705f2bed",
      "f3e4a59eb7c844f898426fe1f182fa70",
      "d42ae96c378c42aea6a9e15ded1078c4",
      "f4fa9db3100844db99389cffc21728b2",
      "646435390fd74b24841e6bf6369f7073",
      "0f42d88126b2446a8887d3c1d6af6944",
      "1cfe99b6c0044793bcf5aec9639afce5",
      "4b962ae6b1174eb184e26a487c2fa52a",
      "5f91a3befa4c40d0b01db8f4898029d4",
      "12664be58eb949bab54e4819fa0437c0",
      "38a0a9b06122462896ea773b606fa77f",
      "90dec497fdcc4c5a9621a964fc414264",
      "4333c129d4fc4b2ab60368b494b24084",
      "b9f7ac042c88405ab0fb65e6673fa2d8",
      "993db2debcd84f4a950904befe3bea63",
      "32e15c0d431b44b9ad82803004fbb6d7",
      "69376770eaf94d0ea5e9327f4939ff40",
      "ca972c1fc56a472f866cc7db7c21877a",
      "3763be1a823b45fdb6ca7dc18f342364",
      "6ecafebf5a3e49e599b722e83b167347",
      "85ccb330533d4359abbe6ec8fbdd956f",
      "7116eb737f4f4933b9cfb0b965e3f058",
      "5cbb4c89dab4408884e99a75c314a271",
      "2abcf6fd0e64451fa46a8a296c28ec5f",
      "00e01ccb533c43978aaa7f10211d5388",
      "73f49adf614144de87d2b217f7ace797",
      "ffb5aac937ad4a31b6d73a1505808a20",
      "6a610dc6c52a4bf4b3add4715823bfa4",
      "8013be02ad664c5fb543f1bab7039e15",
      "4acff6e6d21b45a983240d0bc16ee887",
      "3a2f3640426941399528c329d10e7013",
      "ebc8079cdbf64fa2aa49b6983524eb2c",
      "0e791417280d4fe3be3be20664797ecc",
      "452d9ac95d43474e9d5b0550c8591dcd",
      "860bbac5a70f456293847d5758f0a887",
      "b452237778304bfe94b9d31831f05ca2",
      "8ffb11390fc84e7b816db5e17ea66e88",
      "cd55bde9e29e4c74b90299fea8be562f",
      "6320c6fa2cb348a19d2df1ccf6a54bab",
      "870b13dd3e904ec0a4f2279e9ef04d96",
      "ec7709a1f401425cbf2a68feb1001298",
      "691275d5429c4d70b55e557b751b0800",
      "e27d265b1d9e4ae3ba4e223008e387dc",
      "f603f759543b4fd7afd08957a0817537",
      "2c12a79a14da4342818b85bf65c8a0c4",
      "4eaeaa0c41bc4a089cd115307e2467bf",
      "b4e9b7a8f2974b62bc5bcbcab2a9724b",
      "fa96b0c3a178418bb49d810aedb9fc5b",
      "dcca0da1908740b4b782997bae99b234",
      "6153204fece742c7bad45c9ee4bcbf2e",
      "555d50c480504409ac90ebed1d1a5b4c",
      "83b16349e20040b8b858df1d6a2104f7",
      "371d60cb7f1a44a2ba9da1058c63f70d",
      "1c5ab808a82b4265952ecedcd2616439",
      "fec8f0a92d5d4ccb9354f8002854ec30",
      "ae9adaca4d1c461d87ec0b69f0cb9838",
      "b5478a632eb2441d914533735e7442f4",
      "b2d18d90999f4e419095c54c8b71725b",
      "fda9f2188b674e099a500bb003b41239",
      "46d20ed58baa438cb84f6d368414f785",
      "bb640d1e4ec144b0b924c8717ab6285c",
      "57c3315cc37a42f8aa38bbe114000c28",
      "38886b13e6c04151ac41b044be965354",
      "d513e3ef58834159ae7e1d31261506bc",
      "cb3d34b04c7a4393a9c04da1d40688cd",
      "dfb92c6f910045a6836901e0c5744ecb",
      "5faf46f2eb9e41d19e2e3e9e25e00531",
      "cd4542d8cf574a1cb2558dec204f3efe",
      "7b519da5fa54411694ca72f7058b487d",
      "c7a64adb01e64ef2b684d30254895176",
      "55bf092f56a34525a85efde310af5b06",
      "01edddaf0fa24c9aa35082c354cf9ac4",
      "b6ebaad7ad4244b0bd5ac939e9c12fa2",
      "028700b92783433dbfa5daa8fddaf362",
      "4b171d72f3104f77be815d18e34b5225",
      "f3eba90a124049ae8c2a33ecc9a7b8f0",
      "a3a3bde307bc43f495a9ca6c3080f198",
      "40079aeb5a4747f5aa490430aae3ab73",
      "10b10a6f792a442492f0351f87d11337",
      "3b0161dbdb19455ebff1070d3326fee9",
      "6d179db0893b4874a1fba5e59422b175",
      "52370d3b57aa4571841f218751f92515",
      "39df06f2623f4948b64c2846315dc962",
      "d4f0c4608cc94723b16890879d999610",
      "5e2a949dd47a4018ab48294df22b8aee",
      "daa81591c91549838cb4c82907842c24",
      "4d42fed074b547deb491b5343ad68348",
      "894d4cff662b40eebc817c5ef1c34983",
      "ce32e8da2a2848c683a2e7feccf1b84b",
      "9834a0ab8e5940a984ada05d616924bf",
      "bdf7ef856bde461d9158d80bca39f701",
      "e7d8968ad03645b8b82bb4473bbd2235",
      "025f115f9d7c4e35b6311b5528137df6",
      "55fca9b2e55e4356b4ee752fd40b18bf",
      "6439795e97414a54843110c78dcc9838",
      "1703a95aba1c4df9837e2ae9168f037d",
      "2247df8e703d4a6dab6300c876a5565b",
      "82650480f72246fe9c32221ba73f0442",
      "6750fc8c30e147258c9de9b0af3be331",
      "396370df9a4b471fa1f1f20918df921c",
      "ef182451e96b44d1a26d75ee2bfcb711",
      "cca35d7baa3147be8dcc4c9e3a9ced77",
      "cdf5d1e270b34ce2bb122f61b585dfb5",
      "f2b734cd19964a8e8cc320ffcb201827",
      "0707070807d24f61b48cbafca646b353",
      "01d643f2cec44cc6a4f0621ab617a285",
      "e30e2877b20744d0816bd4f32171e176",
      "b2a5330f8433478eb373290c0799b8a9",
      "20a0179b76a84bad8d267d48691383cd",
      "c422becb4a9d470388a372a62ccef951",
      "039ef14dcd3f4efe8bbc76691477a3bd",
      "a75398bfcb094394a6be3f3c630f48f3",
      "792c8dbd5ef94bf9a50176de342be163",
      "620160f6097e4aa3aed245550a45d087",
      "415d617dc3cf4956a8d611116167e35b",
      "638ca6412f4a48b48f4731aaa6356f14",
      "f1ff8bb3411148fe95045f5897036c60",
      "6c14f71754b848cebe9aab8833f13875",
      "136d84f8e76e47c7a2047da92576550e",
      "f550b09b7e2d4901a557eccdec254e0d",
      "ad9da979eef24afba3d640a738db39f5",
      "eb7bde95c3da49f1bc110901c3f01c35",
      "ddd9a55863a64eb7a6483ddf6df34946",
      "84b7c3655c064077abe41c1cc027a2c9",
      "59546d1315bc4a3db2770cae952b4b96"
     ]
    },
    "id": "mN2SzRKkrybN",
    "outputId": "0694592e-3835-4d47-e2d9-10386fba7626"
   },
   "outputs": [
    {
     "name": "stderr",
     "output_type": "stream",
     "text": [
      "WARNING:pykeen.pipeline.api:No random seed is specified. Setting to 2012525451.\n",
      "INFO:pykeen.pipeline.api:Using device: None\n",
      "INFO:pykeen.nn.message_passing:No num_bases was provided. Using sqrt(num_relations)=4.\n",
      "INFO:pykeen.nn.message_passing:No num_bases was provided. Using sqrt(num_relations)=4.\n",
      "INFO:pykeen.nn.message_passing:No num_bases was provided. Using sqrt(num_relations)=4.\n",
      "INFO:pykeen.nn.message_passing:No num_bases was provided. Using sqrt(num_relations)=4.\n",
      "WARNING:pykeen.nn.message_passing:Layers RGCNLayer(\n",
      "  (fwd): BasesDecomposition(\n",
      "    (relation_representations): LowRankRepresentation(\n",
      "      (bases): Embedding(\n",
      "        (_embeddings): Embedding(4, 10000)\n",
      "      )\n",
      "    )\n",
      "  )\n",
      "  (bwd): BasesDecomposition(\n",
      "    (relation_representations): LowRankRepresentation(\n",
      "      (bases): Embedding(\n",
      "        (_embeddings): Embedding(4, 10000)\n",
      "      )\n",
      "    )\n",
      "  )\n",
      "  (self_loop): Linear(in_features=100, out_features=100, bias=True)\n",
      "  (dropout): Dropout(p=0.2, inplace=False)\n",
      ") has parameters, but no reset_parameters.\n",
      "WARNING:pykeen.nn.message_passing:Layers RGCNLayer(\n",
      "  (fwd): BasesDecomposition(\n",
      "    (relation_representations): LowRankRepresentation(\n",
      "      (bases): Embedding(\n",
      "        (_embeddings): Embedding(4, 10000)\n",
      "      )\n",
      "    )\n",
      "  )\n",
      "  (bwd): BasesDecomposition(\n",
      "    (relation_representations): LowRankRepresentation(\n",
      "      (bases): Embedding(\n",
      "        (_embeddings): Embedding(4, 10000)\n",
      "      )\n",
      "    )\n",
      "  )\n",
      "  (self_loop): Linear(in_features=100, out_features=100, bias=True)\n",
      "  (dropout): Dropout(p=0.2, inplace=False)\n",
      ") has parameters, but no reset_parameters.\n",
      "INFO:pykeen.stoppers.early_stopping:Inferred checkpoint path for best model weights: /root/.data/pykeen/checkpoints/best-model-weights-c7d4439c-dbc6-4fd0-94d3-ab333fa5543f.pt\n",
      "WARNING:pykeen.training.training_loop:Using RGCN without graph-based sampling! Please select sampler=\"schlichtkrull\" instead of None.\n",
      "WARNING:pykeen.training.training_loop:Using RGCN without graph-based sampling! Please select sampler=\"schlichtkrull\" instead of None.\n",
      "WARNING:pykeen.nn.message_passing:Layers RGCNLayer(\n",
      "  (fwd): BasesDecomposition(\n",
      "    (relation_representations): LowRankRepresentation(\n",
      "      (bases): Embedding(\n",
      "        (_embeddings): Embedding(4, 10000)\n",
      "      )\n",
      "    )\n",
      "  )\n",
      "  (bwd): BasesDecomposition(\n",
      "    (relation_representations): LowRankRepresentation(\n",
      "      (bases): Embedding(\n",
      "        (_embeddings): Embedding(4, 10000)\n",
      "      )\n",
      "    )\n",
      "  )\n",
      "  (self_loop): Linear(in_features=100, out_features=100, bias=True)\n",
      "  (dropout): Dropout(p=0.2, inplace=False)\n",
      ") has parameters, but no reset_parameters.\n",
      "WARNING:pykeen.nn.message_passing:Layers RGCNLayer(\n",
      "  (fwd): BasesDecomposition(\n",
      "    (relation_representations): LowRankRepresentation(\n",
      "      (bases): Embedding(\n",
      "        (_embeddings): Embedding(4, 10000)\n",
      "      )\n",
      "    )\n",
      "  )\n",
      "  (bwd): BasesDecomposition(\n",
      "    (relation_representations): LowRankRepresentation(\n",
      "      (bases): Embedding(\n",
      "        (_embeddings): Embedding(4, 10000)\n",
      "      )\n",
      "    )\n",
      "  )\n",
      "  (self_loop): Linear(in_features=100, out_features=100, bias=True)\n",
      "  (dropout): Dropout(p=0.2, inplace=False)\n",
      ") has parameters, but no reset_parameters.\n",
      "WARNING:pykeen.nn.message_passing:Layers RGCNLayer(\n",
      "  (fwd): BasesDecomposition(\n",
      "    (relation_representations): LowRankRepresentation(\n",
      "      (bases): Embedding(\n",
      "        (_embeddings): Embedding(4, 10000)\n",
      "      )\n",
      "    )\n",
      "  )\n",
      "  (bwd): BasesDecomposition(\n",
      "    (relation_representations): LowRankRepresentation(\n",
      "      (bases): Embedding(\n",
      "        (_embeddings): Embedding(4, 10000)\n",
      "      )\n",
      "    )\n",
      "  )\n",
      "  (self_loop): Linear(in_features=100, out_features=100, bias=True)\n",
      "  (dropout): Dropout(p=0.2, inplace=False)\n",
      ") has parameters, but no reset_parameters.\n",
      "WARNING:pykeen.nn.message_passing:Layers RGCNLayer(\n",
      "  (fwd): BasesDecomposition(\n",
      "    (relation_representations): LowRankRepresentation(\n",
      "      (bases): Embedding(\n",
      "        (_embeddings): Embedding(4, 10000)\n",
      "      )\n",
      "    )\n",
      "  )\n",
      "  (bwd): BasesDecomposition(\n",
      "    (relation_representations): LowRankRepresentation(\n",
      "      (bases): Embedding(\n",
      "        (_embeddings): Embedding(4, 10000)\n",
      "      )\n",
      "    )\n",
      "  )\n",
      "  (self_loop): Linear(in_features=100, out_features=100, bias=True)\n",
      "  (dropout): Dropout(p=0.2, inplace=False)\n",
      ") has parameters, but no reset_parameters.\n"
     ]
    },
    {
     "data": {
      "application/vnd.jupyter.widget-view+json": {
       "model_id": "c743ddb7740742ec9a7a52a3a91a66b9",
       "version_major": 2,
       "version_minor": 0
      },
      "text/plain": [
       "Training epochs on cuda:0:   0%|          | 0/100 [00:00<?, ?epoch/s]"
      ]
     },
     "metadata": {},
     "output_type": "display_data"
    },
    {
     "data": {
      "application/vnd.jupyter.widget-view+json": {
       "model_id": "5db26fb372fd4dcfb0120c54858b9114",
       "version_major": 2,
       "version_minor": 0
      },
      "text/plain": [
       "Training batches on cuda:0:   0%|          | 0/254 [00:00<?, ?batch/s]"
      ]
     },
     "metadata": {},
     "output_type": "display_data"
    },
    {
     "data": {
      "application/vnd.jupyter.widget-view+json": {
       "model_id": "07b49aaf796a459082b3880d49169ecb",
       "version_major": 2,
       "version_minor": 0
      },
      "text/plain": [
       "Training batches on cuda:0:   0%|          | 0/254 [00:00<?, ?batch/s]"
      ]
     },
     "metadata": {},
     "output_type": "display_data"
    },
    {
     "data": {
      "application/vnd.jupyter.widget-view+json": {
       "model_id": "be5aed1d1a3249bea6c9705684bbdc62",
       "version_major": 2,
       "version_minor": 0
      },
      "text/plain": [
       "Training batches on cuda:0:   0%|          | 0/254 [00:00<?, ?batch/s]"
      ]
     },
     "metadata": {},
     "output_type": "display_data"
    },
    {
     "data": {
      "application/vnd.jupyter.widget-view+json": {
       "model_id": "485f5ce220334d8bbf9652d53a0346b9",
       "version_major": 2,
       "version_minor": 0
      },
      "text/plain": [
       "Training batches on cuda:0:   0%|          | 0/254 [00:00<?, ?batch/s]"
      ]
     },
     "metadata": {},
     "output_type": "display_data"
    },
    {
     "data": {
      "application/vnd.jupyter.widget-view+json": {
       "model_id": "a346897ea2094942b2768a789e8e5f1b",
       "version_major": 2,
       "version_minor": 0
      },
      "text/plain": [
       "Training batches on cuda:0:   0%|          | 0/254 [00:00<?, ?batch/s]"
      ]
     },
     "metadata": {},
     "output_type": "display_data"
    },
    {
     "data": {
      "application/vnd.jupyter.widget-view+json": {
       "model_id": "7572d73c798c48c0b69467dad1313791",
       "version_major": 2,
       "version_minor": 0
      },
      "text/plain": [
       "Training batches on cuda:0:   0%|          | 0/254 [00:00<?, ?batch/s]"
      ]
     },
     "metadata": {},
     "output_type": "display_data"
    },
    {
     "data": {
      "application/vnd.jupyter.widget-view+json": {
       "model_id": "a184765357dc401eac0c65de1d0bc23d",
       "version_major": 2,
       "version_minor": 0
      },
      "text/plain": [
       "Training batches on cuda:0:   0%|          | 0/254 [00:00<?, ?batch/s]"
      ]
     },
     "metadata": {},
     "output_type": "display_data"
    },
    {
     "data": {
      "application/vnd.jupyter.widget-view+json": {
       "model_id": "bf05c0b31ac540828bd20e2ed5ee194d",
       "version_major": 2,
       "version_minor": 0
      },
      "text/plain": [
       "Training batches on cuda:0:   0%|          | 0/254 [00:00<?, ?batch/s]"
      ]
     },
     "metadata": {},
     "output_type": "display_data"
    },
    {
     "data": {
      "application/vnd.jupyter.widget-view+json": {
       "model_id": "65912317c8a34ce99d5b2813c11d2382",
       "version_major": 2,
       "version_minor": 0
      },
      "text/plain": [
       "Training batches on cuda:0:   0%|          | 0/254 [00:00<?, ?batch/s]"
      ]
     },
     "metadata": {},
     "output_type": "display_data"
    },
    {
     "data": {
      "application/vnd.jupyter.widget-view+json": {
       "model_id": "44f716d0dcf14264a230f13e11208d01",
       "version_major": 2,
       "version_minor": 0
      },
      "text/plain": [
       "Training batches on cuda:0:   0%|          | 0/254 [00:00<?, ?batch/s]"
      ]
     },
     "metadata": {},
     "output_type": "display_data"
    },
    {
     "name": "stderr",
     "output_type": "stream",
     "text": [
      "INFO:pykeen.evaluation.evaluator:Evaluation took 2.46s seconds\n",
      "INFO:pykeen.stoppers.early_stopping:New best result at epoch 10: 0.2154432132963989. Saved model weights to /root/.data/pykeen/checkpoints/best-model-weights-c7d4439c-dbc6-4fd0-94d3-ab333fa5543f.pt\n",
      "INFO:pykeen.training.training_loop:=> Saved checkpoint after having finished epoch 10.\n"
     ]
    },
    {
     "data": {
      "application/vnd.jupyter.widget-view+json": {
       "model_id": "c08ccfef20ea42deb2e060b971588551",
       "version_major": 2,
       "version_minor": 0
      },
      "text/plain": [
       "Training batches on cuda:0:   0%|          | 0/254 [00:00<?, ?batch/s]"
      ]
     },
     "metadata": {},
     "output_type": "display_data"
    },
    {
     "data": {
      "application/vnd.jupyter.widget-view+json": {
       "model_id": "9eb80a9c778d4df0b01e579323fa98f6",
       "version_major": 2,
       "version_minor": 0
      },
      "text/plain": [
       "Training batches on cuda:0:   0%|          | 0/254 [00:00<?, ?batch/s]"
      ]
     },
     "metadata": {},
     "output_type": "display_data"
    },
    {
     "data": {
      "application/vnd.jupyter.widget-view+json": {
       "model_id": "550fa13c859d4fc281fcf3949ea2e6fe",
       "version_major": 2,
       "version_minor": 0
      },
      "text/plain": [
       "Training batches on cuda:0:   0%|          | 0/254 [00:00<?, ?batch/s]"
      ]
     },
     "metadata": {},
     "output_type": "display_data"
    },
    {
     "data": {
      "application/vnd.jupyter.widget-view+json": {
       "model_id": "6497be787ad24acd9afdd1eff957e3ff",
       "version_major": 2,
       "version_minor": 0
      },
      "text/plain": [
       "Training batches on cuda:0:   0%|          | 0/254 [00:00<?, ?batch/s]"
      ]
     },
     "metadata": {},
     "output_type": "display_data"
    },
    {
     "data": {
      "application/vnd.jupyter.widget-view+json": {
       "model_id": "58df725a4d534974b371c6f3179c7f72",
       "version_major": 2,
       "version_minor": 0
      },
      "text/plain": [
       "Training batches on cuda:0:   0%|          | 0/254 [00:00<?, ?batch/s]"
      ]
     },
     "metadata": {},
     "output_type": "display_data"
    },
    {
     "data": {
      "application/vnd.jupyter.widget-view+json": {
       "model_id": "080d8432f3dd43418b0bf389947882d8",
       "version_major": 2,
       "version_minor": 0
      },
      "text/plain": [
       "Training batches on cuda:0:   0%|          | 0/254 [00:00<?, ?batch/s]"
      ]
     },
     "metadata": {},
     "output_type": "display_data"
    },
    {
     "data": {
      "application/vnd.jupyter.widget-view+json": {
       "model_id": "f04f9b9a05c04f14b3c19772c2b60a2b",
       "version_major": 2,
       "version_minor": 0
      },
      "text/plain": [
       "Training batches on cuda:0:   0%|          | 0/254 [00:00<?, ?batch/s]"
      ]
     },
     "metadata": {},
     "output_type": "display_data"
    },
    {
     "data": {
      "application/vnd.jupyter.widget-view+json": {
       "model_id": "a2e4e2702843462193f1dff0e6408308",
       "version_major": 2,
       "version_minor": 0
      },
      "text/plain": [
       "Training batches on cuda:0:   0%|          | 0/254 [00:00<?, ?batch/s]"
      ]
     },
     "metadata": {},
     "output_type": "display_data"
    },
    {
     "data": {
      "application/vnd.jupyter.widget-view+json": {
       "model_id": "01a415cd1c2147fb80622427cdc67aea",
       "version_major": 2,
       "version_minor": 0
      },
      "text/plain": [
       "Training batches on cuda:0:   0%|          | 0/254 [00:00<?, ?batch/s]"
      ]
     },
     "metadata": {},
     "output_type": "display_data"
    },
    {
     "data": {
      "application/vnd.jupyter.widget-view+json": {
       "model_id": "c17b91249b6648978118c673c4a6bb76",
       "version_major": 2,
       "version_minor": 0
      },
      "text/plain": [
       "Training batches on cuda:0:   0%|          | 0/254 [00:00<?, ?batch/s]"
      ]
     },
     "metadata": {},
     "output_type": "display_data"
    },
    {
     "name": "stderr",
     "output_type": "stream",
     "text": [
      "INFO:pykeen.evaluation.evaluator:Evaluation took 2.45s seconds\n",
      "INFO:pykeen.stoppers.early_stopping:New best result at epoch 20: 0.24826869806094182. Saved model weights to /root/.data/pykeen/checkpoints/best-model-weights-c7d4439c-dbc6-4fd0-94d3-ab333fa5543f.pt\n",
      "INFO:pykeen.training.training_loop:=> Saved checkpoint after having finished epoch 20.\n"
     ]
    },
    {
     "data": {
      "application/vnd.jupyter.widget-view+json": {
       "model_id": "8445a2e5b805460496c1b776cb6ba46f",
       "version_major": 2,
       "version_minor": 0
      },
      "text/plain": [
       "Training batches on cuda:0:   0%|          | 0/254 [00:00<?, ?batch/s]"
      ]
     },
     "metadata": {},
     "output_type": "display_data"
    },
    {
     "data": {
      "application/vnd.jupyter.widget-view+json": {
       "model_id": "75a233c008bc41ec94685a70be78a9f4",
       "version_major": 2,
       "version_minor": 0
      },
      "text/plain": [
       "Training batches on cuda:0:   0%|          | 0/254 [00:00<?, ?batch/s]"
      ]
     },
     "metadata": {},
     "output_type": "display_data"
    },
    {
     "data": {
      "application/vnd.jupyter.widget-view+json": {
       "model_id": "5e87fb39d6c94f07b9bea81c93a480a2",
       "version_major": 2,
       "version_minor": 0
      },
      "text/plain": [
       "Training batches on cuda:0:   0%|          | 0/254 [00:00<?, ?batch/s]"
      ]
     },
     "metadata": {},
     "output_type": "display_data"
    },
    {
     "data": {
      "application/vnd.jupyter.widget-view+json": {
       "model_id": "7882bc3845df418c8bfe2d22919c3e1e",
       "version_major": 2,
       "version_minor": 0
      },
      "text/plain": [
       "Training batches on cuda:0:   0%|          | 0/254 [00:00<?, ?batch/s]"
      ]
     },
     "metadata": {},
     "output_type": "display_data"
    },
    {
     "data": {
      "application/vnd.jupyter.widget-view+json": {
       "model_id": "10cea4303cf245fabc48aebb2f88623e",
       "version_major": 2,
       "version_minor": 0
      },
      "text/plain": [
       "Training batches on cuda:0:   0%|          | 0/254 [00:00<?, ?batch/s]"
      ]
     },
     "metadata": {},
     "output_type": "display_data"
    },
    {
     "data": {
      "application/vnd.jupyter.widget-view+json": {
       "model_id": "6bd966ba44e646629c44241d26e76e13",
       "version_major": 2,
       "version_minor": 0
      },
      "text/plain": [
       "Training batches on cuda:0:   0%|          | 0/254 [00:00<?, ?batch/s]"
      ]
     },
     "metadata": {},
     "output_type": "display_data"
    },
    {
     "data": {
      "application/vnd.jupyter.widget-view+json": {
       "model_id": "333044ae79f14408a34333ae40663b2d",
       "version_major": 2,
       "version_minor": 0
      },
      "text/plain": [
       "Training batches on cuda:0:   0%|          | 0/254 [00:00<?, ?batch/s]"
      ]
     },
     "metadata": {},
     "output_type": "display_data"
    },
    {
     "data": {
      "application/vnd.jupyter.widget-view+json": {
       "model_id": "a2d93737c2a441bf80bf6f1340750b57",
       "version_major": 2,
       "version_minor": 0
      },
      "text/plain": [
       "Training batches on cuda:0:   0%|          | 0/254 [00:00<?, ?batch/s]"
      ]
     },
     "metadata": {},
     "output_type": "display_data"
    },
    {
     "data": {
      "application/vnd.jupyter.widget-view+json": {
       "model_id": "7db9e6bb74c84534ac0ce6bd098c87ed",
       "version_major": 2,
       "version_minor": 0
      },
      "text/plain": [
       "Training batches on cuda:0:   0%|          | 0/254 [00:00<?, ?batch/s]"
      ]
     },
     "metadata": {},
     "output_type": "display_data"
    },
    {
     "data": {
      "application/vnd.jupyter.widget-view+json": {
       "model_id": "7a797b2475234f74a14948ef61b8f150",
       "version_major": 2,
       "version_minor": 0
      },
      "text/plain": [
       "Training batches on cuda:0:   0%|          | 0/254 [00:00<?, ?batch/s]"
      ]
     },
     "metadata": {},
     "output_type": "display_data"
    },
    {
     "name": "stderr",
     "output_type": "stream",
     "text": [
      "INFO:pykeen.evaluation.evaluator:Evaluation took 2.21s seconds\n",
      "INFO:pykeen.stoppers.early_stopping:New best result at epoch 30: 0.2693213296398892. Saved model weights to /root/.data/pykeen/checkpoints/best-model-weights-c7d4439c-dbc6-4fd0-94d3-ab333fa5543f.pt\n",
      "INFO:pykeen.training.training_loop:=> Saved checkpoint after having finished epoch 30.\n"
     ]
    },
    {
     "data": {
      "application/vnd.jupyter.widget-view+json": {
       "model_id": "02447da57a484e5198a235c17ce7592d",
       "version_major": 2,
       "version_minor": 0
      },
      "text/plain": [
       "Training batches on cuda:0:   0%|          | 0/254 [00:00<?, ?batch/s]"
      ]
     },
     "metadata": {},
     "output_type": "display_data"
    },
    {
     "data": {
      "application/vnd.jupyter.widget-view+json": {
       "model_id": "7dd575d0958543eb90b0f2bb6a55f0c0",
       "version_major": 2,
       "version_minor": 0
      },
      "text/plain": [
       "Training batches on cuda:0:   0%|          | 0/254 [00:00<?, ?batch/s]"
      ]
     },
     "metadata": {},
     "output_type": "display_data"
    },
    {
     "data": {
      "application/vnd.jupyter.widget-view+json": {
       "model_id": "9ba36a9a50ec49b79c15dd9d39ed8c45",
       "version_major": 2,
       "version_minor": 0
      },
      "text/plain": [
       "Training batches on cuda:0:   0%|          | 0/254 [00:00<?, ?batch/s]"
      ]
     },
     "metadata": {},
     "output_type": "display_data"
    },
    {
     "data": {
      "application/vnd.jupyter.widget-view+json": {
       "model_id": "68b5b6f118424238bc5c84eac495f9ec",
       "version_major": 2,
       "version_minor": 0
      },
      "text/plain": [
       "Training batches on cuda:0:   0%|          | 0/254 [00:00<?, ?batch/s]"
      ]
     },
     "metadata": {},
     "output_type": "display_data"
    },
    {
     "data": {
      "application/vnd.jupyter.widget-view+json": {
       "model_id": "db765bebce364573afb673cef92e53f5",
       "version_major": 2,
       "version_minor": 0
      },
      "text/plain": [
       "Training batches on cuda:0:   0%|          | 0/254 [00:00<?, ?batch/s]"
      ]
     },
     "metadata": {},
     "output_type": "display_data"
    },
    {
     "data": {
      "application/vnd.jupyter.widget-view+json": {
       "model_id": "9de7cfff380d48999bf1824907954760",
       "version_major": 2,
       "version_minor": 0
      },
      "text/plain": [
       "Training batches on cuda:0:   0%|          | 0/254 [00:00<?, ?batch/s]"
      ]
     },
     "metadata": {},
     "output_type": "display_data"
    },
    {
     "data": {
      "application/vnd.jupyter.widget-view+json": {
       "model_id": "ec23128e96924936a193692808347028",
       "version_major": 2,
       "version_minor": 0
      },
      "text/plain": [
       "Training batches on cuda:0:   0%|          | 0/254 [00:00<?, ?batch/s]"
      ]
     },
     "metadata": {},
     "output_type": "display_data"
    },
    {
     "data": {
      "application/vnd.jupyter.widget-view+json": {
       "model_id": "78070a7bcd244451863b47c6041eac66",
       "version_major": 2,
       "version_minor": 0
      },
      "text/plain": [
       "Training batches on cuda:0:   0%|          | 0/254 [00:00<?, ?batch/s]"
      ]
     },
     "metadata": {},
     "output_type": "display_data"
    },
    {
     "data": {
      "application/vnd.jupyter.widget-view+json": {
       "model_id": "10aa4374af8b4b51a582fe5ff048c8a6",
       "version_major": 2,
       "version_minor": 0
      },
      "text/plain": [
       "Training batches on cuda:0:   0%|          | 0/254 [00:00<?, ?batch/s]"
      ]
     },
     "metadata": {},
     "output_type": "display_data"
    },
    {
     "data": {
      "application/vnd.jupyter.widget-view+json": {
       "model_id": "d51e383d25314e26b0932f7e337e0a15",
       "version_major": 2,
       "version_minor": 0
      },
      "text/plain": [
       "Training batches on cuda:0:   0%|          | 0/254 [00:00<?, ?batch/s]"
      ]
     },
     "metadata": {},
     "output_type": "display_data"
    },
    {
     "name": "stderr",
     "output_type": "stream",
     "text": [
      "INFO:pykeen.evaluation.evaluator:Evaluation took 2.21s seconds\n",
      "INFO:pykeen.stoppers.early_stopping:New best result at epoch 40: 0.3025623268698061. Saved model weights to /root/.data/pykeen/checkpoints/best-model-weights-c7d4439c-dbc6-4fd0-94d3-ab333fa5543f.pt\n",
      "INFO:pykeen.training.training_loop:=> Saved checkpoint after having finished epoch 40.\n"
     ]
    },
    {
     "data": {
      "application/vnd.jupyter.widget-view+json": {
       "model_id": "81bebda7c80149bb952d272c74016fbf",
       "version_major": 2,
       "version_minor": 0
      },
      "text/plain": [
       "Training batches on cuda:0:   0%|          | 0/254 [00:00<?, ?batch/s]"
      ]
     },
     "metadata": {},
     "output_type": "display_data"
    },
    {
     "data": {
      "application/vnd.jupyter.widget-view+json": {
       "model_id": "cd08d138a2be4d88b491abda49425d74",
       "version_major": 2,
       "version_minor": 0
      },
      "text/plain": [
       "Training batches on cuda:0:   0%|          | 0/254 [00:00<?, ?batch/s]"
      ]
     },
     "metadata": {},
     "output_type": "display_data"
    },
    {
     "data": {
      "application/vnd.jupyter.widget-view+json": {
       "model_id": "b32290bbfe0f4ecc9f29c4f6e64920fa",
       "version_major": 2,
       "version_minor": 0
      },
      "text/plain": [
       "Training batches on cuda:0:   0%|          | 0/254 [00:00<?, ?batch/s]"
      ]
     },
     "metadata": {},
     "output_type": "display_data"
    },
    {
     "data": {
      "application/vnd.jupyter.widget-view+json": {
       "model_id": "a95abb0907b042e5acf2e60da96c97a9",
       "version_major": 2,
       "version_minor": 0
      },
      "text/plain": [
       "Training batches on cuda:0:   0%|          | 0/254 [00:00<?, ?batch/s]"
      ]
     },
     "metadata": {},
     "output_type": "display_data"
    },
    {
     "data": {
      "application/vnd.jupyter.widget-view+json": {
       "model_id": "e22f14b9ea634ffaa0dcc2422b88d059",
       "version_major": 2,
       "version_minor": 0
      },
      "text/plain": [
       "Training batches on cuda:0:   0%|          | 0/254 [00:00<?, ?batch/s]"
      ]
     },
     "metadata": {},
     "output_type": "display_data"
    },
    {
     "data": {
      "application/vnd.jupyter.widget-view+json": {
       "model_id": "b03602c4777a46c1924becff9fa5856a",
       "version_major": 2,
       "version_minor": 0
      },
      "text/plain": [
       "Training batches on cuda:0:   0%|          | 0/254 [00:00<?, ?batch/s]"
      ]
     },
     "metadata": {},
     "output_type": "display_data"
    },
    {
     "data": {
      "application/vnd.jupyter.widget-view+json": {
       "model_id": "706f83877f65437f90b399345e39cd89",
       "version_major": 2,
       "version_minor": 0
      },
      "text/plain": [
       "Training batches on cuda:0:   0%|          | 0/254 [00:00<?, ?batch/s]"
      ]
     },
     "metadata": {},
     "output_type": "display_data"
    },
    {
     "data": {
      "application/vnd.jupyter.widget-view+json": {
       "model_id": "5844dac1d879411e801b12cba1914568",
       "version_major": 2,
       "version_minor": 0
      },
      "text/plain": [
       "Training batches on cuda:0:   0%|          | 0/254 [00:00<?, ?batch/s]"
      ]
     },
     "metadata": {},
     "output_type": "display_data"
    },
    {
     "data": {
      "application/vnd.jupyter.widget-view+json": {
       "model_id": "91feac01e35f49d7ac73b94c6896989f",
       "version_major": 2,
       "version_minor": 0
      },
      "text/plain": [
       "Training batches on cuda:0:   0%|          | 0/254 [00:00<?, ?batch/s]"
      ]
     },
     "metadata": {},
     "output_type": "display_data"
    },
    {
     "data": {
      "application/vnd.jupyter.widget-view+json": {
       "model_id": "f0a98b14f2ca4958973fcb6be4f474d2",
       "version_major": 2,
       "version_minor": 0
      },
      "text/plain": [
       "Training batches on cuda:0:   0%|          | 0/254 [00:00<?, ?batch/s]"
      ]
     },
     "metadata": {},
     "output_type": "display_data"
    },
    {
     "name": "stderr",
     "output_type": "stream",
     "text": [
      "INFO:pykeen.evaluation.evaluator:Evaluation took 2.19s seconds\n"
     ]
    },
    {
     "data": {
      "application/vnd.jupyter.widget-view+json": {
       "model_id": "646435390fd74b24841e6bf6369f7073",
       "version_major": 2,
       "version_minor": 0
      },
      "text/plain": [
       "Training batches on cuda:0:   0%|          | 0/254 [00:00<?, ?batch/s]"
      ]
     },
     "metadata": {},
     "output_type": "display_data"
    },
    {
     "data": {
      "application/vnd.jupyter.widget-view+json": {
       "model_id": "32e15c0d431b44b9ad82803004fbb6d7",
       "version_major": 2,
       "version_minor": 0
      },
      "text/plain": [
       "Training batches on cuda:0:   0%|          | 0/254 [00:00<?, ?batch/s]"
      ]
     },
     "metadata": {},
     "output_type": "display_data"
    },
    {
     "data": {
      "application/vnd.jupyter.widget-view+json": {
       "model_id": "ffb5aac937ad4a31b6d73a1505808a20",
       "version_major": 2,
       "version_minor": 0
      },
      "text/plain": [
       "Training batches on cuda:0:   0%|          | 0/254 [00:00<?, ?batch/s]"
      ]
     },
     "metadata": {},
     "output_type": "display_data"
    },
    {
     "data": {
      "application/vnd.jupyter.widget-view+json": {
       "model_id": "cd55bde9e29e4c74b90299fea8be562f",
       "version_major": 2,
       "version_minor": 0
      },
      "text/plain": [
       "Training batches on cuda:0:   0%|          | 0/254 [00:00<?, ?batch/s]"
      ]
     },
     "metadata": {},
     "output_type": "display_data"
    },
    {
     "data": {
      "application/vnd.jupyter.widget-view+json": {
       "model_id": "dcca0da1908740b4b782997bae99b234",
       "version_major": 2,
       "version_minor": 0
      },
      "text/plain": [
       "Training batches on cuda:0:   0%|          | 0/254 [00:00<?, ?batch/s]"
      ]
     },
     "metadata": {},
     "output_type": "display_data"
    },
    {
     "data": {
      "application/vnd.jupyter.widget-view+json": {
       "model_id": "46d20ed58baa438cb84f6d368414f785",
       "version_major": 2,
       "version_minor": 0
      },
      "text/plain": [
       "Training batches on cuda:0:   0%|          | 0/254 [00:00<?, ?batch/s]"
      ]
     },
     "metadata": {},
     "output_type": "display_data"
    },
    {
     "data": {
      "application/vnd.jupyter.widget-view+json": {
       "model_id": "55bf092f56a34525a85efde310af5b06",
       "version_major": 2,
       "version_minor": 0
      },
      "text/plain": [
       "Training batches on cuda:0:   0%|          | 0/254 [00:00<?, ?batch/s]"
      ]
     },
     "metadata": {},
     "output_type": "display_data"
    },
    {
     "data": {
      "application/vnd.jupyter.widget-view+json": {
       "model_id": "52370d3b57aa4571841f218751f92515",
       "version_major": 2,
       "version_minor": 0
      },
      "text/plain": [
       "Training batches on cuda:0:   0%|          | 0/254 [00:00<?, ?batch/s]"
      ]
     },
     "metadata": {},
     "output_type": "display_data"
    },
    {
     "data": {
      "application/vnd.jupyter.widget-view+json": {
       "model_id": "025f115f9d7c4e35b6311b5528137df6",
       "version_major": 2,
       "version_minor": 0
      },
      "text/plain": [
       "Training batches on cuda:0:   0%|          | 0/254 [00:00<?, ?batch/s]"
      ]
     },
     "metadata": {},
     "output_type": "display_data"
    },
    {
     "data": {
      "application/vnd.jupyter.widget-view+json": {
       "model_id": "f2b734cd19964a8e8cc320ffcb201827",
       "version_major": 2,
       "version_minor": 0
      },
      "text/plain": [
       "Training batches on cuda:0:   0%|          | 0/254 [00:00<?, ?batch/s]"
      ]
     },
     "metadata": {},
     "output_type": "display_data"
    },
    {
     "name": "stderr",
     "output_type": "stream",
     "text": [
      "INFO:pykeen.evaluation.evaluator:Evaluation took 2.20s seconds\n",
      "INFO:pykeen.stoppers.early_stopping:Stopping early at epoch 60. The best result 0.3025623268698061 occurred at epoch 40.\n",
      "INFO:pykeen.stoppers.early_stopping:Re-loading weights from best epoch from /root/.data/pykeen/checkpoints/best-model-weights-c7d4439c-dbc6-4fd0-94d3-ab333fa5543f.pt\n",
      "/usr/local/lib/python3.10/dist-packages/pykeen/stoppers/early_stopping.py:268: FutureWarning: You are using `torch.load` with `weights_only=False` (the current default value), which uses the default pickle module implicitly. It is possible to construct malicious pickle data which will execute arbitrary code during unpickling (See https://github.com/pytorch/pytorch/blob/main/SECURITY.md#untrusted-models for more details). In a future release, the default value for `weights_only` will be flipped to `True`. This limits the functions that could be executed during unpickling. Arbitrary objects will no longer be allowed to be loaded via this mode unless they are explicitly allowlisted by the user via `torch.serialization.add_safe_globals`. We recommend you start setting `weights_only=True` for any use case where you don't have full control of the loaded file. Please open an issue on GitHub for any issues related to this experimental feature.\n",
      "  self.model.load_state_dict(torch.load(self.best_model_path))\n"
     ]
    },
    {
     "data": {
      "application/vnd.jupyter.widget-view+json": {
       "model_id": "415d617dc3cf4956a8d611116167e35b",
       "version_major": 2,
       "version_minor": 0
      },
      "text/plain": [
       "Evaluating on cuda:0:   0%|          | 0.00/1.58k [00:00<?, ?triple/s]"
      ]
     },
     "metadata": {},
     "output_type": "display_data"
    },
    {
     "name": "stderr",
     "output_type": "stream",
     "text": [
      "INFO:pykeen.evaluation.evaluator:Evaluation took 0.71s seconds\n"
     ]
    }
   ],
   "source": [
    "result = pipeline(\n",
    "    training=training,\n",
    "    testing=testing,\n",
    "    validation=validation,\n",
    "    model='RGCN',  # Specify RGCN model\n",
    "    model_kwargs={\n",
    "        'embedding_dim': 100,    # Set embedding dimensions\n",
    "        'num_layers': 2,         # Number of R-GCN layers\n",
    "    #    'interaction': 'DistMult' # Specify interaction function\n",
    "    },\n",
    "    training_kwargs={\n",
    "        'num_epochs': 100,       # Set the number of epochs\n",
    "    },\n",
    "    stopper='early'              # Use early stopping\n",
    ")"
   ]
  },
  {
   "cell_type": "code",
   "execution_count": null,
   "metadata": {
    "colab": {
     "base_uri": "https://localhost:8080/"
    },
    "id": "1_RFVBC0yDiR",
    "outputId": "cab25340-9d11-4069-e13d-c07a55340b56"
   },
   "outputs": [
    {
     "name": "stdout",
     "output_type": "stream",
     "text": [
      "Model saved to /content/drive/MyDrive/Digital Twin Study/Mehmet Can/Models/02-100/02_100_trained_rgcn_model.pt\n"
     ]
    }
   ],
   "source": [
    "# Saving the model\n",
    "\n",
    "from pykeen.pipeline import pipeline\n",
    "from pykeen.models import RGCN\n",
    "import torch\n",
    "\n",
    "model = result.model\n",
    "\n",
    "model_path = '/content/drive/MyDrive/Digital Twin Study/Mehmet Can/Models/02-100/02_100_trained_rgcn_model.pt'\n",
    "torch.save(model.state_dict(), model_path)\n",
    "print(f\"Model saved to {model_path}\")"
   ]
  },
  {
   "cell_type": "code",
   "execution_count": null,
   "metadata": {
    "id": "RSfpgptdyEZK"
   },
   "outputs": [],
   "source": [
    "# Loading the model\n",
    "\n",
    "from pykeen.pipeline import pipeline\n",
    "from pykeen.models import RGCN\n",
    "import torch\n",
    "\n",
    "model_path = '/content/drive/MyDrive/Digital Twin Study/Mehmet Can/Models/02-100/02_100_trained_rgcn_model.pt'\n",
    "\n",
    "\n",
    "loaded_model = RGCN(\n",
    "    triples_factory=result.training,\n",
    "    embedding_dim=200,\n",
    "     num_layers=1,\n",
    "    interaction=\"DistMult\",\n",
    ")\n",
    "loaded_model.load_state_dict(torch.load(model_path))\n",
    "print(\"Model reloaded successfully\")"
   ]
  },
  {
   "cell_type": "markdown",
   "metadata": {
    "id": "FNs026W5sIyh"
   },
   "source": [
    "\n",
    "\n",
    "\n",
    "\n",
    "#### Layer:02 - Embedding Dim: 150"
   ]
  },
  {
   "cell_type": "code",
   "execution_count": null,
   "metadata": {
    "colab": {
     "base_uri": "https://localhost:8080/",
     "height": 1000,
     "referenced_widgets": [
      "a69fb70130e9491dae1f699f95af4ecb",
      "3453c1ebf2eb4758b67799a825e6dc24",
      "c1f1909703cc4aa683841f267e25b48a",
      "2a076c6277ba4dbdb1186740a8468239",
      "da3d6691f6094df6a6ac4ad97f2a5896",
      "5c0da5e9cd134a92a6dc029b625055dc",
      "d2e0b322ce654a74bc04fc2f37ef7b3d",
      "4a5708beaf4f4afaad7c41d335d98923",
      "fa6655ab3d4d4346811a035082e19649",
      "134c039fd7004f5398600a8ed7fd3d85",
      "7b5ac812e9424e258283cc9864eab546",
      "b0a0e45ba15d44d69e6000dd131ec09b",
      "b57c8c3de9634ae6b9abaca0505066a0",
      "33bf1bdf459140d3b4235b64cf0f35ab",
      "1bb38b165e9f4e2cb4ab0552183d7dfb",
      "a86d1dd9f90549eba73f0c460887166d",
      "f42da18ed6b1433faed0279a3203daa0",
      "479ca292bb764787ad96ae09ee5f82de",
      "a2c181b8028747258ba6d21d3ddeb5f2",
      "e1772223d02448dcb5dab48c35f8ef3b",
      "f1694958364f4fee983278919aa3be95",
      "ac85d2685bee4632a32715a9d56a6cf3",
      "4ba6976fb15b440ab6033a582275a77e",
      "647f4c7c7032473dbb83e0d6afe7add6",
      "29e67ff1db014de69c11daa1394acf85",
      "198b91245c7947afab7ffcd86e435778",
      "5ca093cc087f4fd099bfec7f795878e3",
      "0c6b61f8cc1747fe895a644290987dc2",
      "87245a10416b4572bb4c5e7fed25b20b",
      "f080c73af6ee48bb9b1424f89e797a7f",
      "13e2a401db664b80a7ff8ce803828507",
      "4edc742c9fd044db8abea1df13131f82",
      "a8df37033c3246959bb797592a585a42",
      "cccc0dd256914a80a58eb9de8d0dd7b0",
      "9e4de5565a5547debeabe434a8404184",
      "77b35a389f864586b31cb7bb24cc5778",
      "0622e9ee2b9848de95bc03e98ec3bfae",
      "1ea72b59cbd7400ab7840dd2d1305546",
      "a490b5cdc9bd4e869e8e75fcc3874dcb",
      "88797b94b49b4df090bd013bda8b1d67",
      "4865f95205394ab9966cd8e8a7d89b83",
      "4774fbcc81804a1b81db3d225232fbae",
      "7a0f30528816482ebb748b1bde7243bd",
      "9a196ccb2bff4686a9eff1ec516d5922",
      "10ca7bcffbc94183b6059d0cc45f0c45",
      "e911682956164ed2b044b039fc88f696",
      "fee38f9b7cd144d89f523431ba7804de",
      "950698b3bc574032a934df6a9d388a85",
      "638237d986c04c9a805ddb5fc154298a",
      "a8079908042f466db02d1405567a2876",
      "c9f9a059dc02477a8b4cb1918afd3a62",
      "c332ceefcd1e466490bec2cba8a265dc",
      "c7af2680c4a1476084403e5f810b2180",
      "1a9644bcfaed4e6ea20643e93d8ca736",
      "ff330e7333774aa4aeb2952227bab0df",
      "eae55359a0ae4f76823cb6701935a773",
      "ca1fbad70ca34daead70eabe3caa8f1b",
      "be76cd8336a7491094b375f1c2f8c38b",
      "11fdfe04bd43456e9728bb27738b23eb",
      "ca514b8d6aff46f7b632f6e564466cf9",
      "b4bea523ce4442909bcb6874d606e838",
      "b5e0df66b67a4d0ea91883fca0b12b89",
      "04cf7eda0d0a4873aaa045a582a0a506",
      "cab397dcbca441a59534d547e844dbd5",
      "e80fe98a5eb846b3b3de42c45b016a8a",
      "90dd583e238e4b7f956fa13d49ecbcdc",
      "21ed88140ee04984b4f9b553eb4b8f4b",
      "0ec22613bffb45acb927da8e0556b048",
      "851b72ce8180470fb6779e2e3f8ea41c",
      "a13c2be1ebda4a0ba568e3728bf54ed7",
      "7ec47118e5fd4526a2563d911eae76a4",
      "7c678a5af2b0486cb9e5a746c66ea9f6",
      "c61fd0a1f52a438c9bbbc221aa4590b9",
      "5d48d8f97c9d41fe9e6fde70e7efec19",
      "e6e7b3f86443412990182adf325c8b02",
      "32d3eb479b4b44a588b243d3b6f29b26",
      "4d7402d978fe4aca82a6036152d76c4a",
      "ac12c7a6e4844e40be705445616dd3b2",
      "3d05cd81b3a34d48876551ed18b0df98",
      "a73e865ef1714b9a8a33cfa125b9daef",
      "e6cdcfa32d4e469eb8d0e9f2cc438d4e",
      "e595e46f052c4ace9fb3d7fcd3675e0e",
      "7fa7a791c30b40d98f9964b6e4af6049",
      "9f05ddcc55924edcbf89d1baa9338bcd",
      "cda55bed912f490198f1fe2672a3a60e",
      "a3912d2e248b4b81b217700ccb3f8869",
      "eded50680ddd4029934db82fa5b50ed8",
      "aa1204f86e0d4c0498cb4dc421fd179b",
      "74e4d8ffd1a941fbb4a433c7a2771310",
      "24e35915b001418f9f283695943a808b",
      "acf063f4fdbb4f2789d60a42c6e53854",
      "d6dade766f11400183dd5dfe67d4915f",
      "77c8de1def3a40cc8286227110965678",
      "2cf5ae95251448c890d9847382b1386b",
      "c559ab9d6bbf4d0db365aeced1c2fb7c",
      "324597048f9848409c0db42771ddb918",
      "86cf1ba39f5d4cb596757fe3fd121fed",
      "9570c259325d4ff5b353aa911de91348",
      "d595e4c862e1447698046b8fe887a3ee",
      "61a2f2a4f97344159d892af783f97fb3",
      "a99839c627414ae5b21f04aa847a8776",
      "19cef940144243d5b8070453f4345c82",
      "d6f2c47a625940ac906be29b5d23d165",
      "5363d9ac2e324185a6c696ff2b0cd1ad",
      "03d0fd34206f453ba9b75299ee13947e",
      "7f23f7a82f5743c8b61f8a8bd7f8c697",
      "5720d9110a3e4146823e431923066859",
      "191aee12563a43758a31984368f4a61a",
      "f618c0c1298140a2bc7b700aa90c550d",
      "ab5768be3dcd454d9b9cb7c009a69d23",
      "f2c981d8206e4a6a8fe30badf4a58849",
      "010b0075e5cd40019bb1cfc721545f43",
      "23d84703a02e4ea181a115f7db56718f",
      "efd5d4e4b9324e9fba4a70a831b76813",
      "f6d12607a3c648ea818eb9c6aecf8257",
      "a248f8b400574400a747454dcb6fc192",
      "eada32da7987490792f9ebaf756ead64",
      "5de8cd461f614cde8164cd01412e282d",
      "1dd13fbc8ad3471caccd2746d5f2d2a5",
      "cd85cf13f68d4d1da3de03ca4ac7c123",
      "dd9088ebec234c2e8ea366116c58c12d",
      "fe4df9e0ce4840ae8e8327ca49acc3f3",
      "5bd1977218384f288c7c05956903dd7e",
      "fb398ee81cc84c64b717b271523a248d",
      "076c7177940e48a2a446fe47882a8ff8",
      "cdb5de0049844de6904e846f385e3a6f",
      "68eed64bc925498fb4337c8a4f3075a7",
      "8506cfdf6f3f4936be06ea7b7c95411f",
      "6f17650c8b18405aa3eac03ae54c477b",
      "e06c9ce448b44a7ab25f935bd4abf0b8",
      "2185648e12b742d495397faffff6bc8b",
      "39df623f68b143238185772c2c4fe7e7",
      "b2c651a9db9a42c0888b7fd6d26884af",
      "a5c236de1000440b94d1cf47dd5c28a5",
      "57d6d8c27d874fa88bf4109379b498f6",
      "70f0d709334a458fbfb564292c1d31b0",
      "d0e84974fb414e889a33b0317c56f67f",
      "3588bf393ef74a939e9feb58ff2001af",
      "caeb35be34a441a796853c13c27e02ef",
      "dcd6c08cfb3e4e059ab2f85f7aeb3eb0",
      "02dc379894ef40e98537efdaf27bfe06",
      "a5827c36587c466781a3d65c6be3a563",
      "c23c3f4d0d6641909ab762a54cc74db8",
      "cae4d6ea4a894d62af7e06814b9de334",
      "96f8d3aa753c4df6ac736dae60bd00bd",
      "c6ffd452ad5547288e1b18453f2eaf05",
      "eea19ec02b5f4bd192f052ca6160b64e",
      "dcf3ecd483c94021baedc2455db4c669",
      "f322e3387e5e419dbf2f2c79d0a8466a",
      "2ed5973408b84dd8b1f7265566989459",
      "8eab8e2c87e64c72b4f4b79911a80388",
      "b395403937a0441c8a47d2c95dac6d6a",
      "1df21aad31664359971f5152ecce7bea",
      "9b8f0c33e07443a3827b452959d8cd5a",
      "002ee43d5db94c1594b0177952e25064",
      "59f594d7155e417fb65dc854d1c6496f",
      "f94c3d6333734956915a2cbc45e419ba",
      "549ceefb9ea74f6d9dd4bf41517640fa",
      "0b9914606a55436bb6dcc97a8cbb7904",
      "73fd9f471cc644b5bd8f86919c259991",
      "f7b9cca7ebce42afa87034bfb77c3ac5",
      "e42de2c28418408ba068c783dde03516",
      "7ec8cbb6c4944aa48e503347b5e9b349",
      "1a2641cd24654f9d821b419f36e0297d",
      "48cd0fc8a0444af19804b8a24b54a098",
      "31cc790396494607ba685637e76cbe70",
      "094f9ebdc9f14dfd911f951a2be7be3c",
      "5507317bea174b6b9d19a1df467dab9f",
      "327f32d894bf4a048d288c9c03ce3154",
      "a051cce1dfef430d8f2563561932ad0e",
      "6b934d8fad29413a9e2df292aecc8ad3",
      "48889e0d43c0430b848c52f602ac643d",
      "d909a6be31b9441d96dcaa9e6389c2b2",
      "b92b4d0a66614efa8f9724aab8851d8c",
      "de7f2d18dae1464ea8f9f9b0a9d4210c",
      "12022a02533349bbbcb655ee52ba31e9",
      "c569e6eb5efa4e4781f85d89a857c41f",
      "b3625fc9ad5b45fca2a6bb242cb0fa10",
      "edd3d47972724ce49898309a0638e206",
      "3f4f8b2d1b9f4609bb5f38acbd8a8db1",
      "c2164cd5fcd5401591359639a7f605b8",
      "057a9491321e44029fd5d6673cdfdf31",
      "47a731d50e5a45628467a162fb4a74e6",
      "2c5757e4b4824edfb7e1f59d12fb4544",
      "a28fae33ca5446ada6f9ec1c3d572715",
      "8553e600d9a74302b66be4e2443cbaf2",
      "ac27e8dbb11e400fa6b22774f07fc02d",
      "f9ac9a5b301a494ebaa90ebcc4b84a3a",
      "750ed33574f24f61b09c6dda219a0257",
      "651f94609019408898ab589f9042b1a9",
      "14e9ec7f58444e2db28fe7365d5f73f3",
      "b3ff264b656244fe870d1f7cd8c9af41",
      "262dc2c12b69408fa64d05138a2a1b1a",
      "d02f2fc54cb54a6196c64683d4a878f6",
      "87144001b00742e9adb6d3d8ea1fce4b",
      "09d4cdb8ab8441629e325599c31720d9",
      "14df765ee2154f479e7b16939c89911d",
      "9a2b2c1600424ca997b5266554cb4551",
      "dcc6f95f4ed044129d0178a5e3728ad4",
      "e14b1b32f2844f5e9ea0854cc1e4152b",
      "eb087eda2137466bb54242e952f7bce5",
      "d7c0285324c444a080d8e4fb857d4267",
      "5a293c300e2d4f6d8ed91f87c8ca0711",
      "5fed8ec861a842cd871bd05fab225df4",
      "bba4aa31750648cd97cafba6ddfbbcf3",
      "d194738a47f544669d9870b7268b7ad3",
      "6c00e12fa4e54a528b27dcf8a07f738a",
      "d13bc80b45dd4fa89447c389d8a3e928",
      "ad33d6f2304e44faa6e7a03914d0acc1",
      "4483d51741be43c68cfb3cc223ded57c",
      "b2bd4733f3424113b5da92980f7bdf28",
      "2b6354edcd994c6d835986dfaf6afee8",
      "3762c43dabf44bf9a0a2fdbee53a4771",
      "dca9eac962f14de8998a50454adf6c3b",
      "6cfe63f7827a4d0b832e1f5af747e76b",
      "34cfb1e3c01140f6a8fa5b6dcf4be817",
      "5e262241928e4ea1a08598967bd1bd06",
      "41d07572c2f044c3b18b4cc4869aeecd",
      "e4e9596f2c934d65a3962e6ab7e63814",
      "53edb656628f4ae6b829182551d98277",
      "768c93ab1e0b4534b3e1cef822b80f22",
      "1361b94fcd954c8394062fb269192519",
      "9ea65cd7a89d41dd83e5b2708eff879c",
      "235d0905a8754a568fce8b25ee8f58df",
      "b35846c091f942f0810d6202c6eb4b60",
      "ac1c37bdad814aeabd6e8ee93adf7db4",
      "6474568fcecc4b678d44046abbe4609b",
      "e28b075839c6427980f808207983f461",
      "0bcbb8f394de4e6eb340af163fa2e164",
      "c176d4e0ea8244b390f402daf43f1433",
      "f24b1e168a1f499c8f2566c8efd45a58",
      "f1c5189570814b4db80b226673be5038",
      "7ce7e4dab26a4ab6bf3455533733c1e4",
      "fd5a6eeb9b594f5f868b21162c862582",
      "5251205d09b74e528b156e4619675a6e",
      "0b2bfa4c92b041cab77d103b917b2ca9",
      "85ce11643b56406485dee0e9179146f9",
      "6548192c48e842859e7764418a7f7bf6",
      "bbaa724dbb714d60ba1487e5f6a8be01",
      "2f1c3f8448b349fdad23a42446c83616",
      "d0beb82d90cf444aa8a7b3071e0ece0d",
      "6741f252f9fd43db8262ea92960b2604",
      "d78800199b5b4202900229dd6dee21bb",
      "d311366994fc47d6bf8697538e904c56",
      "22cb662fdc5c44fbb84e4a7297a67a10",
      "7abf317028e54dc68431c75bc71d7376",
      "b8b1b00be1674a228261ea1f4f779f11",
      "0726ae0301c24f55a24294ca7440e3a8",
      "f20a19f860114e0d95a8113c7ada2524",
      "cd1ed98c1b7147e29e57f1f203e34f12",
      "27ba8e94cdef4df2a68871ff34a80daf",
      "343957c6e1104905b2a8285d2c2b2706",
      "fa0baca708d443509778a4e01cf4dca7",
      "6b1287c4349e4045b32e1a24613668fb",
      "e1ba61298c024682b110e6dd51e46c21",
      "4f975f910c22442b9ec89046ad1030d5",
      "84f176d69ecf45f797f89eb612277da8",
      "f4509ae871674697b6bc775cd3433e3c",
      "f47ffc0ffa014d14a4c2cb80b8bcc332",
      "35b0f903a09941c9bd68399d02b0028f",
      "a0798a51438a46ec860ce39d86ff6fda",
      "f69ab476cdb041c2927be15c1cc39d7e",
      "849f8bd6e86441d4824a3a3be2a2d87d",
      "0f2d2f5966854c4ea8425b4571372be3",
      "bde8c03499024668be9bcedbff2992ef",
      "ac0049ca90284bcd80682000af215092",
      "89bc56f25b2c426290157334d2dc71f9",
      "5525d6400a2b416d979c8fd5480270aa",
      "978cac6bf0b34d5890b59968ec215ef3",
      "fd720a2a9884416bbe91eddfc141ad0a",
      "ca37cda5a3064e868e916f77d56768ab",
      "595cb4b1dede44989e24f4d21e4f55f5",
      "7f1682ee0865450eb963af4f8f9e4945",
      "7003234514c84811baa2a43de6f21a5d",
      "b1e8692b7002492696b0dc427ef6dcde",
      "84962178bf4a49239c67a1953b08c73b",
      "9854fccc34344e578988a22149fa82c6",
      "34d420df86ed4972a864bb7838a46296",
      "561d54f7cced42ca961044f1fa008043",
      "d14356c2626b4eb48b3bc40b4ca6194c",
      "4af6bf9255e74167ba01efbf66a7d9a6",
      "0a6d065545f0424da9d6fdd751bb6bc6",
      "00e36d479377470a98e3b7de74d4b15f",
      "638bf221c2dd4f0aa8bd5ff966b076f4",
      "b2d55d38625a4d6b9b55e021efb47187",
      "acddf38e241c443da4c5b86de900b305",
      "383fbb0689f542f2b39ee013e79d1a4c",
      "077abe6f143d4713b05bec665dbaaa88",
      "f514453faacf477ea60f67ec44871091",
      "d591dd0b32ba4dbca9c1435db528ebc6",
      "8c65b526dce846088da996327a4e84a7",
      "cf8ed2ca784d4baf821506d8935a20b6",
      "f7700d51776947988a75fa57ab7ce035",
      "be0fd750264b4077bb6d20dfa4eb2841",
      "a127e985584b46d8b3b47986bf52b427",
      "7db517fe1287467f8447e1380ebdad43",
      "c21a182936104774a422a397106b5ca1",
      "0140ec44cc11418ca50f61d49e0374e6",
      "74a8683e8aa842e9a708381147a3a817",
      "7687035007324276b61645e40c040eaf",
      "76cb08cb06014362a91dbb12ac52fc25",
      "4e4bc871dabd44e29a10e5351193a701",
      "cade6ee9afdc4cd2bf9accd111aab2ea",
      "0f28ba246d3d402a9e20781a22077852",
      "de4c92e7ef5f4e96a88374c319ea6f6e",
      "d27520868ebe47e4a3d11dd5a19e55e0",
      "d8063b5e65574dfdade37d6b3dd4afa0",
      "d14f4c69fa7540daba58afec7f061315",
      "7034d6be79ed4a46bdca139bca55c97f",
      "0d5f0a3a340d4eb0b8f44e383aa2c8ea",
      "71fb184411c54871a3f28c4644a59c70",
      "00fa21e503c24012a1dda7cbd111adcb",
      "7d7c9236a3f64e35b1581f0d3347e17b",
      "8ba37037cb72478b96dbedaf16a196f3",
      "c60603ac83a146c5a9a7d24507eb806b",
      "c7ff4aeff08e4d44bb3d1ea65f670bc8",
      "81a8abcefad446f7b89fec0b0571082a",
      "879c98a9a7a344299cdc85fca255bf3a",
      "2820488cbd494517a024caf8dd9df144",
      "a13e30b0c1ce4a3eb4b862ba29a90bf3",
      "a07437353dba4883b8df2a09455d7eff",
      "c3f50274f2c94cc0a8e958c7e54b2a60",
      "22627629951f4d4f831ec161c556a114",
      "6a58a2263a144672babc2041dbf3630a",
      "d80807d9aedb4c509787ec78befe861c",
      "0b57e07d098f43cc944afe6a8721ee75",
      "033713522ed7435f8927d01192131cbe",
      "db1cb886bc5c4c96b55906dbe1ebc6f5",
      "f725d9d4cfbb4c0e8d43a64d436e375c",
      "ce8a5381c54a4f6eafb7000f687831e2",
      "005f22871d3a460bae1e02d5e10d98f2",
      "c7eebaac621a4f158214777c2c9532e3",
      "bb43e5ee77c84c79a2f93938e8310a61",
      "b95cbf1585f24ad88b93d7bb1b2c0407",
      "24870387f9604f38922f509ba021a440",
      "7d0e6367c82b4c3ca2bbb64291e6a994",
      "010cc097d65d452597c71fd2d2005b00",
      "298dc33af5d848d5adf0b429834074d7",
      "f3187ade6a2647c79b1b147cf9fa2b9e",
      "197bb85237ee420aa59faca55a0a8c83",
      "f98281857ef9470ca4e191a762fe46f3",
      "19d72d3596d543baa9e28b26884bb9f3",
      "7deae14a132d4977a6c4e60e5a193bb4",
      "02f3714dde3744859a3904a011495160",
      "6bbeef7fb43240a8a40f02c5099e20ab",
      "7397deb996f74dd7ad809ed314bec501",
      "16551344ac764a76bc9d48b621eff9bd",
      "6fee106ba314438c985628b6cc9fb5be",
      "d0f6b04a313d455ca67438d0cc6f40be",
      "885a1b49a28e4e2c9f8fa645ac40bad4",
      "3b921b51262c42b89429dda6881ea30e",
      "bcef9d33c1d547419146cf9a0bc5c706",
      "bc2e60e5739d42d4ba3748486ff13f98",
      "349cee0fa089499f9c759e13cbfa1020",
      "987ecaf43a494a259fc7e30394d8cfb0",
      "2605443c7e6a4d269598473e4ea7f53e",
      "56c175bbdaed48ab9da04146888ddafd",
      "96f0a90ba56c4a44b9e327ebb7ab3a26",
      "696d60b1962a47b78fd0300c6d47b347",
      "f2542419c4a5446abf3b15f3aadaa30c",
      "0069c26973604657b75d3a1820df9617",
      "574f8d6ff8a847ca8caac327d845c662",
      "edd430bd1585413f9fb5f9e4e8ecfcf2",
      "bb911ab4d84640d1a61c7929bb1566e7",
      "0cf77f7f71934d24b785ae98a147ae61",
      "617513fda6f94df981786a0206106cc8",
      "c0ebbdce506a43198a61e3901f62564a",
      "491678b4fd1f41478db7c56129836bbf",
      "ae8503c31b324bc180c1f6220c0fad71",
      "85cc7a38f92c42339f63e73ced1d4d5b",
      "cf5438fd4f114d258ed7bf1e9878cca3",
      "406955c37c0f49b1b08f53281e1a809a",
      "32fbfb6aff104e70ab1a18d300b3cb9a",
      "1e127f74b3fb4afebb6587ea0dd5385f",
      "0cfd6361095c45b8a159fc2018a224a8",
      "b9de66109b534b6da779d72bb9f94165",
      "80a27345048442d9bef3da35ebe8f0b6",
      "56c0ba4209db42acbdb02332153ee66a",
      "5e33efd422474b9b8648776af9bbe192",
      "0f457f7dbf524afc8e973d147e3f75fb",
      "a4b2b171abba45d98d556266a444880a",
      "2b435d1bf6b7426c8334bab1f2e90a9e",
      "bcef143f4e9749c19808f16ba53bcb51",
      "6d87e8b1bc004ab08b60ba8129c278aa",
      "29adced9c4ae47c09dbd3a7022058305",
      "a2cc369ec0634970ae4fb752b7a4bde7",
      "555424b75ebd47a2b4437b95578ff688",
      "455632a2fb9d4c4a8aaf84e1a27d56a4",
      "2ff9d37c33054dac839cca6e9d7f880b",
      "be12181f394049978397019249b8bcfb",
      "f995193599744a109cd953dc34e87016",
      "fa75f489d195462fbbd5bea60876115c",
      "814560c29cb743e6bba60e5b2a350ad1",
      "38496aab9ec5423d891f43d76ef9eca3",
      "db7d1aab86814a90a68e1f2f6212296f",
      "19da3e58cb884581b4ec1338e9757aa8",
      "d2b6d455a5404a1b9ce8d7a0612b601f",
      "32d7fdcf265a4bb1af4fcf10f76ef13b",
      "458e1ffaef954bfb800a2d55f3e39ba3",
      "2ef454842c334000a5c0474447e46c38",
      "98bc4fe073b44090bb0725662656925b",
      "539f42e3a3024e5f83bfd6ddbadaddca",
      "a34226d350dc41e5bc3b2ff63ed3e81c",
      "20e7582ca71c46bb8a095abe824ddb83",
      "513bcb61bd564a89b5c13b3552d83f24",
      "77892d8be1c24d2f8a03b89ab3eedc0a",
      "0d8af26b0a894b96916c996c10902d94",
      "0558f2ebd5354099ada7231ceacb70ab",
      "260714c2b2c04f049c3660d38f7465c4",
      "435857bdcb5f436a841864498329eba9",
      "5011c0d3377a41eb81d2390877def3a3",
      "e79a880a82ce4059bdb0c0e83c176102",
      "f15ee2000d294f4083c499608e218c4b",
      "e3f0a42f9e734c8d9de12ec3221df1fe",
      "6efb6f5f8a284255a689c2b3dc32f343",
      "a95b1b00b988467aa4e122b14dd47e7a",
      "ea658931c1744c5c88d40ccabeb7a5af",
      "2eba768211e44be289a4e199ee5b051f",
      "c9c9b31e9c6c49eea390a49d7698513d",
      "d9abdaf208b9470b8587e46350bdd669",
      "55c0a621f7324c38b75578596ba04e27",
      "f038b07cece64412acc3766d8a5a144e",
      "0b43b4bd11904b53a0e3614e59d5586d",
      "362aa62b735a415abf94572fb1dc9f33",
      "830d05637b1449d09393c25932e22291",
      "438eb0f9780349bdbe1cd36b8a34a101",
      "0bd61700aded42f6a9e721cf66502465",
      "9c12ba87b6404f14a6dca50c46b4c1f1",
      "f37dddd37a39428381c3ff9ca5360f11",
      "8c834cce8f63419581e4e54d4349e383",
      "2219848566a546f3af610e5429dc7630",
      "418d89356dfd43679a2d18a904a66661",
      "926803afd98e452fb485ca3a4ce034c7",
      "f725c39624824d5e9dbd17f1ce83fcda",
      "a55ecdf6516c460d97b68103569d0c39",
      "32d3e1132c754b70b7a78ba07c85a971",
      "06aa55a80e63416abdb5f6d14775c421",
      "db9863c4f99d4334a5aa989ce0ce9624",
      "e5eab3fb6f5a4ea0811531a4fc81b16c",
      "14b73e8a2f93421bacb4277667d6e7e2",
      "27e1f62dee674b2cbc436be4d94b55cf",
      "2f780edb352b4cf0964c7222ad3d8847",
      "abbe99d6ca2a4f079774efaf407dcfad",
      "1698f6e7400b49df8a093196cbaf14c8",
      "823bf9cb02904b159ac0f79ecf07fd73",
      "4f953933f78540b58ca1fd61167a676f",
      "bbbeceb3d26f4779a8b5e45878c69ca4",
      "bb8b35f3365443ae99eef143ebb14342",
      "cd468c6b3a2e4955a1988693016165f4",
      "f0640317b5164a3089b1375c8910de49",
      "2e0d8cec747945f1a917520c5d49a578",
      "2fab1a83594243c2872f2c5bc9e26538",
      "84e929e13399429f9944b69d6b3ca473",
      "610f7286cde34790982da6752e29d8d3",
      "60e7732db222417fbf451947061effeb",
      "5a1d6d8e0ce94448807e9311be687795",
      "8b44dd969a364915bd6a03156325a0ae",
      "4e88bd65006c4ae49b6581f9a5e0a2f8",
      "76dcd3b126c64618952a940b59010996",
      "d9dcfe3c0d4f4d4383c0d4b4f4287985",
      "9cc5aa9f0ea04e08aa8d8d1f4eae88bd",
      "38827b1521824adda41e8c64f3125dac",
      "b669c7a87cae452cb3baef34bb1da9e8",
      "be8ceb99b84c454ebf5a55d009c3a3fd",
      "7b4e9703aa90472baef672b66ba7644f",
      "67e0450ab0614220a4a1867da3624cc9",
      "1f6b0ca1f31647b1a9c002b8d7006ff5",
      "36bac71b716343749de3f14b95ca2005",
      "c01d270033f74ffdb5dd74bbcc9c500f",
      "2360958b35904fcc845dd6652975e2ee",
      "53b72e0d1f1648e8a1fce82303ba37fc",
      "4485d79e8e6b4a1aba4499803da272c5",
      "118bf331c0cb48b78a933faca1bb4fb2",
      "69a957540e5e47328c27e289687770fe",
      "6367a3a543cc4c7d831319db0b1cdb6d",
      "a067ce417b2744d097b881b29fed3ced",
      "262d35f9510b4c15be5d71b768327674",
      "c4d9f7c6ff5045cda4f4cff25429fee7",
      "fdcf8dbf529649e395a678e548a7983a",
      "9da1042ed10e4da7af8f3bbafa22fffb",
      "81104114ac9d4d68a6144aaff0fd88e2",
      "aa1d20b5ee404f32946a8bc92e728df0",
      "f1f15d403b274515aab27575142d55ce",
      "a7c94db397da4fd3b2f4cd4704d60f0b",
      "2763df4d395442e282a4ef00df12ee37",
      "fdab171da9b745fea4603636f22b09d4",
      "a9d5e00d15974d05b117cd6fa15e3d73",
      "6ed1be8dd2f44a8fb64d3f75838a589d",
      "a5f7d89f0e43403e88a4b035cbd097c8",
      "81faf85e6bec4a5097e9718132e42c32",
      "007b845cc9d345d4a2add98b9ea0ac57",
      "fd3d1c89342c4f1d8c578da0396356ca",
      "a0840991b1684e6daf3f99bcc1bbf524",
      "6a63a89edb484af7a84f79585721e9b9",
      "3d420f5332a0414dacda9a9801b99eb8",
      "93efd44a231a4279bd78923f72fa779f",
      "3f025e021e7741ad847c5c497a60c91a",
      "e7ead8fe16e44ebcbfa263f7c0dae4cf",
      "30186ff0786346cfb33cfebad2a86da3",
      "8f59b872640e4977aae3bfa70d4f950b",
      "22f295cda98249b6823828a9b91cbe49",
      "d4d88cd20539403c91d21d948c27c2ac",
      "8ab5a9eb91884e6b93df904c25453b27",
      "217e29874427493ea2ee3c1c9e4719be",
      "bb7333b43bce4e68903b51f9b1203943",
      "af202cef025b4cb3abc20179e88f2349",
      "e6ad9823c07d49338c3ab996b3008f37",
      "2eb1ea2e9bb14135a9c86beb8dfaa227",
      "0028db18be414e10ad47bbe417c95ecc",
      "8887719a36a949bc94464f01aad322c3",
      "7c4ffeb3fc15416095044505f7d67b02",
      "cd071ec9fba0415a8d78d723b467e8e1",
      "1667339223944d2d8a69ead9b65acc06",
      "452f2389348a48e8999d1a81f2610c22",
      "499761677664481bab210fc4efbc20ba",
      "dcb1e94f63c3482b894edbff034c51db",
      "328c0f9562204d7d9dc1b83252262866",
      "93001c2deff94baaa7407e57edebe80b",
      "19e4f8b58ba74f63b6f2232978b68208",
      "414348e46e764ba380210b24727c2bf5",
      "af37b8cbe266405886176b1380621ede",
      "e7c2c9c06bf14954963a1b3d95c0b3ce",
      "eb49b1474ff4499aa54db4d27eff9203",
      "3718d0d49abf4b429e7f22e0f8e4999c",
      "6eddb83a6e7f46b3abd534371c74828e",
      "c06d91a19bc24b40ab8258e30f4c986b",
      "cdbb8aeaf2c4438e95b17b92af60344b",
      "09fd19220c6d44cf8f03249a7756a686",
      "edc28bd386d44ef6b0e1e6dad2183703",
      "607895176e674307966d5438b59b13b8",
      "918842168eba44ee8070d21cd505ed81",
      "d53f9f9109914ae3af0d6e5540d4ae83",
      "75eeaaa14e40454294b339868d7b94aa",
      "c3897f39afa64f309a3f055a577d6b79",
      "5bf1b24d62004854bdad6805d5018ca7",
      "07e1208e855447a3929042f9191dab41",
      "731f7599738941f5a876af4804adad74",
      "3a304a5806104dce8d0c345716a9c6b0",
      "9812de86a5d649b09016f53d052bc25b",
      "4f014ba69e8b4170aadab9ba6d97792f",
      "75774eec40d0488f879d3009e35a4f61",
      "5ae969bbaeaa4cb0842292328812d159",
      "7744c0e1cb374ed1b503119a8547f858",
      "07eaaeec2f28462a8b60bcc556505b39",
      "1928efa7ecba4034af6bdedebe5d8109",
      "a7d175be573c48eeb3bbcbd97920895c",
      "26e1b9796b5b4097b86090af983d37bc",
      "4760b4c9cd4a40469d88ef81ff690e55",
      "71a94762f2b64b29830e40c982ce90f9",
      "f53a17d03bc44a0984c62633a98f49cd",
      "a18a85ac59614c51b29d63b0f6998868",
      "c3fbf98b3c0441e8b718a1d284da82e0",
      "f7ca60ae200c47f0a8665d6ed191eedf",
      "bbfbf216dd4b44fba007562beffd02a4",
      "9607c2d7eb474525b37faf38d28c4435",
      "edc1597342b84f5b90594afa1f0ca639",
      "6dd3cee7d87b4d6d9459eb111c701211",
      "36f84b654d5e4965851ec6213900cdeb",
      "e0b3f07d167949b9a0b49f688127eee9",
      "9e71ddf3b6e84009be1f9f10e19d85ac",
      "69a259fd2b0d4293beb49bb7dc8dde8f",
      "2127149b52cb4dbe8a82d680939be6d0",
      "1ebe0ef0b1b04bc39b5fb396e5957756",
      "72a1190e57bb41eebe925cc71fd32b94",
      "c8e794c80144437896c9a50e8fd4cc56",
      "2cbdf7bac056447596b6c2b3cab3b2cf",
      "7dd0765b1b3d4b239056bac6e42a9968",
      "079dc8f1edd74de3b50a708ae1b87031",
      "1e5f150bf4f34bac86637db3dead9b43",
      "ee30cf970cd34bea8f165fc034dc8646",
      "1b3302223da34917aa812322a58ae04e",
      "e0bab8a17ac84235bd06b54c2a5b1428",
      "6ca85bfd3305479ca094cbe098e4168f",
      "54a072e20b9c46c69cb7bd16b5283b02",
      "8c461875c62f41b6b8750ae8819a67b5",
      "f8db382988cc49fe8d34e762002530e7",
      "f6847e3543a64f87bc97e799d53655fc",
      "32b77f9db6ca4b5091c0c1ca6a9d3bfd",
      "4493629e1e614128b0899a0c08dee0a9",
      "595004b6e38f496d9169d7e45a9734b2",
      "52506a21a69c4c638d520c29edade72d",
      "64d51acc69fc42249f5e1300986b9f0d",
      "2952e3b358654349a97fa9d9d3ff2536",
      "7b0fac7f698941df9b15c515e570934f",
      "69023fc5ac7b4f708051a0de806c9f55",
      "cd1268d2b5d843d686d373dfc65a10dc",
      "240af657d2094826bd527c256bea7fca",
      "28e9f03d89034ace873e85804eb3499a",
      "e32d2e50d24446ae93137c1825342a6a",
      "2046de1a34e2440f87c318b8f1f6c671",
      "fcd10c2138be45c3938a5041d2220ca0",
      "6711c4d0347845539c5b645d653a3e50",
      "6dec1cad93114d51999b52487e3f181f",
      "01f731b73037487e9614749e14c03bd1",
      "38312bb44e4f4ec690d46eeab4a572f9",
      "3dc42b963eda48f88c38f04de03d9249",
      "bf3965dc25d64ff88d22fdc6cc56b723",
      "94e71c8a33cf4c71a5ee0b226f246f6b",
      "bc1206ff0ce5400aaf568714a72584aa",
      "f2323e30f73d41e485f30c0330909ffe",
      "d3af6144be9f40cf8a9374d270de805c",
      "5afea24e3bd34293aec39459bc689042",
      "fa5f0071bf9842018cd792453e9e3442",
      "bc6830500d104585a2f5273a9510b9cc",
      "973395b0a33f45639ef81b910fa8b4cc",
      "548292598de340d88ee52df3d903b4a6",
      "702eb344f5f242b2962d36e4e3941aaa",
      "fba7c82a1233452c9968908cbe1d2aa9",
      "5134559c811d41c9abae892af15328e0",
      "f7c6fde3e43449528da3aa51871e8704",
      "1d490ebaaca443d095315a152d37658c",
      "c9340f724fd84ac28493ca8e7c23f8b5",
      "7c4f7399e11f46b895836789379a7d37",
      "4d7d8c4a1c23474cbfe740b0d3dcdd2b",
      "535f12d51879466d9f63e51f46d0d420",
      "d017d43fd0694c8ea97feecef71056e3",
      "d4acb19d98024155897ae45f84076a28",
      "4ebcd71822614151b3f9e467739c31ea",
      "bfcf6773c5ad4a9f9d2df6847c2291e0",
      "cf75268d548043d2be140593d9bc7ba4",
      "0ad91716f9844765bcf8bc00024db85d",
      "72659e90286c450e992eed2633c6ade2",
      "72158ace9cc848e7a1310020070e06f7",
      "fa52fffc5ba2488da0fbc1f64ae6c217",
      "e4e706d2efb745ed91b7542690d35ae4",
      "38f3ce56bc4b488bbe385c4e73885478",
      "481abef4e85a40cda99a388180646975",
      "62a1434f56e240b185c6894970f927c4",
      "f54ace2c025644728a3490457829fb78",
      "10594eca9f694583936bb3190c40c467",
      "c0e055a8e7c74852b24ec4be846541ec",
      "6f9c76f6415a455b8ee97166fee0c1d9",
      "c37a85cd5989432a8383407e52ca0100",
      "55ec68edd6194c069c86fc69d09bf232",
      "fa3b801d9a9a43ff9838c7efc28b2e1c",
      "e7a08f38904d410a85a9eabd2e07049d",
      "4af46eb953c246d29c513727c3b74bfb",
      "439211e5db49483cba2fc768af5735b4",
      "c47f07ef6e1b4d099eb840e97fb56504",
      "29ad892a4cf24f61815677a018131e59",
      "d8e446a64fe240eb84185a25efe3a23b",
      "65b2d9e97c64479a9cd08a50c1708d9b",
      "967c75142c6a4a0d996cef94c8eda809",
      "50ba95c2570c4a6d91aa0176bc726f9e",
      "0a3b1903915c4f939290d5e6e6ab9349",
      "ebea5badbf95427fa277ad83c511bc14",
      "08bbce3a727a4b5e8fe74b67cf3de6b2",
      "a270238a29ea4f94b94f8a30de193f77",
      "9b9fb95bc5434533800c32d10a4a64c2",
      "73e8900f5a724a72aec8221cd2ce7643",
      "ca77d2d95e9245998fdd913569c858bd",
      "776e01374e464935ace2bfc0058f8a36",
      "bbcfaa62d7c045f9a81188ec64b865df",
      "efd22778038c424ea66d086950ee1bb0",
      "97f55dd4c5bb4d488e573e1bbaed11d9",
      "0a198f209b324455a038544903e7c778",
      "a32d9924e1eb4ad3a8d777aa467d7ace",
      "e8312ac0ac2240b7a5cbd8d97d426bbc",
      "6cf7f0c7bb334d1db2389f62b4149ded",
      "d65f8972c22b419b97e308921de7fb61",
      "3ccf2b5a9da14141a76c3674b7702a97",
      "760f57f892484e1499424faa2f7cea13",
      "a0f94d1a5bf642ef86a0c7a0261e78ec",
      "fa9489a17c6b470493265d797d0c259d",
      "74241cf827e347f28a88f0ea437b382d",
      "ecc5c6fbef6d44f19a434967ff08ca02",
      "e79240eb695645e8998fe851eed67226",
      "b72601324655441cb8810b4088214f1f",
      "1833d23b16284e1b96f603f75f8d7849",
      "e610b9118e2c4a75af317550c376b0e8",
      "9362320cf41f4cf4979f4194b9a091e3",
      "eabb9f4180e64ac0b44fe82e6cbabed7",
      "99716de34ace4232b4d0ac04073e9a51",
      "53adf0a332434498b38f5771669556ca",
      "6c8b91ab5c3044ebaad1f5a590c51fbc",
      "e90bdda3a6bc41f288456d9ef4b6b99c",
      "de2fca689ad3443f8cdccd3405803ef6",
      "50a04f4dfa144a129d9fe48ca7caf6b9",
      "b07ca6e739fd4ac88b849503c663baba",
      "711554b8503f4779827bc0c6472fe2cc",
      "09e14dbbb80a401ea10ff9f2f2b3782a",
      "0e6f34aef7e34cc8aaf9fdfa4740ee99",
      "b774635e3c3346f994f6b47d1d6e9120",
      "5f5bd8abaa6c43e5ac012b89b20e1134",
      "78c7d544c98c41a5a0b914466cfaeebc",
      "b7dac702300144c4b9bce7c9b724fa2f",
      "589fde95d33b4ee3a991a3a64092c01a",
      "e20e06b696c24eb5a0f978cb47f5740b",
      "c602f4777913432e91797c252951f058",
      "ec65c180104849bd9ae4aa4b708bf42c",
      "a9d9b1a5ede54e02960e7f667711ff05",
      "66e124e26e62429687b92a70a76b5380",
      "8c48bdf94d5d4c9bac4ab0e39501b6d3",
      "3958be163d6c424ea43063864f0b4e9e",
      "28c7e1612c384086b91c411b9ce2dd09",
      "505a01e3fe484e9f8258931c7dfc9a93",
      "a55a776be81441a38f15f53707e4301c",
      "ebedfffc03de4c64990e79205b8be730",
      "0bd5dc4a026b47dba8f144ca51105c81",
      "84a46e93e308423d845da72b104dd46d",
      "236b128decfe4ffb91e0be693286de8c",
      "8db097bc90954542968272f7b8e6aa24",
      "4a40412b2ce64570a489258c7ea5ef07",
      "c3256be50f6249328ab5f01a1e9719ff",
      "9e927cdb44634eb88e42b22a69451660",
      "2640ed290498454b9f0fef2224ad4377",
      "44d7358fe441400687d91d99e88c1208",
      "ed58e7d1ebeb49578faa7b4647877027",
      "bb0c7aa5cb6c45f3925384bc5f705c27",
      "1804ac3351f24a3ea2fc08ce3fcd3312",
      "3320dfeebb0643a7b50d774353556247",
      "7fac2cdaaa674f729f5519ff8263f9ad",
      "f761e955a27143658e3ed2a12e1c2433",
      "5a8fea5a0c2347f584a743e53a0782fb",
      "3c98ed604e52451d9b2ed540f8702700",
      "4c37fd0dbf6f434f875948c5a436670a",
      "99cb567a73b64a39b6e9c3c57593fb46",
      "4ec2732914cc4254a148d409c1829563",
      "46a87f9bfbd647fa91ebe702a4905046",
      "1a7f8688166c404491cd604110a5f58a",
      "e37d74e89bb4483ba645bd6d8a243c8f",
      "6df8cbb52d51489fab65b0149eba18ea",
      "c6a7a9d97a964962af9d4fc75c88e9de",
      "4876c25323ab4f2c8cffee8ffabdf469",
      "3ada7c3312944610b7a591c88b54170c",
      "87454556d04745f9aebd53712adb51a8",
      "327169200934421587e2feccab1d6943",
      "630b1c9595d24e339036ccab075aee3b",
      "160d534d447b4f1cb4f1895c3f8d5826",
      "f89fbf7839a14c37ad86cd174dacde47",
      "f8cde2dea346442db02838f70f042d2a",
      "3328b8ca0fd241a7982a03ecb7933028",
      "fa89b40504d0491990893fcefc0e2b85",
      "2ef79e151e324384a32d19beb3fe027a",
      "4fa93535212b4defafca4fda6b5aa232",
      "3dade7002e2246aab515f9ea3cf86061",
      "24d882906e184280b8bbd3909a0ea7cd",
      "e62ec2d983f240ab97a9eafc5567210d",
      "021bf20c46f144f2b5928419ce42cad2",
      "5a6dcbdf00954832a42e869f12c99ae5",
      "d1fba8fc64bc4b44b1027116428be472",
      "9ceddcafb9c444aaa688847b46831e66",
      "1f4e81a21c0b4761be6c3177bfac9f0d",
      "ed34e153a27e47089e479defb818c986",
      "e79e82240f8741e2a454b206dedca530",
      "55ab848e05f943ea9afd57c3aff79601",
      "c88d662c4d7843988470b1008bead3fc",
      "cea4ace580e84486bc2861f4a61077a8",
      "44b84953680249fdb345ab4a0acbc238",
      "6ea5976e47174d87aa8f748f0588b551",
      "791094c325a34bd8826b6b52e111290d",
      "2c4e8e3c40554f6687de746245daaba1",
      "8a0c2f9b17a443e39157e223084b6fa8",
      "c51d8dfef2e74d11993d49044c3bc3f6",
      "37b7789a5ec445c39e272e1dc20eba5d",
      "c73215e6c0af45f5baffb2927c2a1a57",
      "05060911cf704b15b5b8426f81583651",
      "bc3b0c9a7c07417983d2c10a741849b9",
      "5bd0ac22c5904cf39efc0d1bc344486b",
      "36f28d6a6523400a84dce120924c5781",
      "1d5651f891894d94aee00511aa6e5d9c",
      "8a4ef19e7ed7473cbee029ead77f4221",
      "39dd9ec777e34435a388d2b910dd854f",
      "c4e51d86d06e41538643cd59e5947d45",
      "cf2c43f5851a45beb94ea3047d569c60",
      "12953482fed8414faf47384b61425e89",
      "22394bc10da64d1c9563ca0206696d97",
      "8d9fb8e7ea5f4f3988cbfca8c5c83af0",
      "7b7c7fceb7d64d279f6c4aba23d15909",
      "addf85e441a14a2087bea39a8ddb42aa",
      "a1af1718940a4ed1847fe1e5d9d8a781",
      "164b9ef3e7a64d4a9975982c8a05ad3d",
      "d570e899c993470db03a15e7a4cbbb57",
      "1189047de5684f00a02ed58eedf05d92",
      "e412f3e6fa6b4ac4830761d461908646",
      "93d8ef533110491e8b9a4dc46962269f",
      "01e9052f96154b8c9b6947b3a72cbe89",
      "d66cae1477db424389bc62c7e9859401",
      "b11b6b1244f947eda0eb04ca234eec4b",
      "582a741af8b3418ea7f6a5882b3cc032",
      "d296c414869e48c5ba1fefcaf1e9c64c",
      "11dd3de08555454ea8da362b7a1dd32f",
      "12162209400847babfc37d2fe949df5b",
      "878625455bb84619b776baff8e287891",
      "ca4c6c95f0844b779dd11b75d3ec9aeb",
      "71330fc990284510884a228fbd2d5aa8",
      "b6987c6e4e9a425085f041c4d05f28cb",
      "15dc1fabac714e99900a2ba471ad8924",
      "c0271c791083463383c7f7a02c4d1b06",
      "e78202b55d304db387a67cd057bde606",
      "c2d3cd76a4504c9dacfe0b02b09b631f",
      "049685bc18b546139331390246543618"
     ]
    },
    "id": "E9Srh2E6sSrc",
    "outputId": "a5bfa0f1-bfd3-4d38-95f4-cb3a56993259"
   },
   "outputs": [
    {
     "name": "stderr",
     "output_type": "stream",
     "text": [
      "WARNING:pykeen.pipeline.api:No random seed is specified. Setting to 279836511.\n",
      "INFO:pykeen.pipeline.api:Using device: None\n",
      "INFO:pykeen.nn.message_passing:No num_bases was provided. Using sqrt(num_relations)=4.\n",
      "INFO:pykeen.nn.message_passing:No num_bases was provided. Using sqrt(num_relations)=4.\n",
      "INFO:pykeen.nn.message_passing:No num_bases was provided. Using sqrt(num_relations)=4.\n",
      "INFO:pykeen.nn.message_passing:No num_bases was provided. Using sqrt(num_relations)=4.\n",
      "WARNING:pykeen.nn.message_passing:Layers RGCNLayer(\n",
      "  (fwd): BasesDecomposition(\n",
      "    (relation_representations): LowRankRepresentation(\n",
      "      (bases): Embedding(\n",
      "        (_embeddings): Embedding(4, 22500)\n",
      "      )\n",
      "    )\n",
      "  )\n",
      "  (bwd): BasesDecomposition(\n",
      "    (relation_representations): LowRankRepresentation(\n",
      "      (bases): Embedding(\n",
      "        (_embeddings): Embedding(4, 22500)\n",
      "      )\n",
      "    )\n",
      "  )\n",
      "  (self_loop): Linear(in_features=150, out_features=150, bias=True)\n",
      "  (dropout): Dropout(p=0.2, inplace=False)\n",
      ") has parameters, but no reset_parameters.\n",
      "WARNING:pykeen.nn.message_passing:Layers RGCNLayer(\n",
      "  (fwd): BasesDecomposition(\n",
      "    (relation_representations): LowRankRepresentation(\n",
      "      (bases): Embedding(\n",
      "        (_embeddings): Embedding(4, 22500)\n",
      "      )\n",
      "    )\n",
      "  )\n",
      "  (bwd): BasesDecomposition(\n",
      "    (relation_representations): LowRankRepresentation(\n",
      "      (bases): Embedding(\n",
      "        (_embeddings): Embedding(4, 22500)\n",
      "      )\n",
      "    )\n",
      "  )\n",
      "  (self_loop): Linear(in_features=150, out_features=150, bias=True)\n",
      "  (dropout): Dropout(p=0.2, inplace=False)\n",
      ") has parameters, but no reset_parameters.\n",
      "INFO:pykeen.stoppers.early_stopping:Inferred checkpoint path for best model weights: /root/.data/pykeen/checkpoints/best-model-weights-5f5ca07c-8a0e-4e2f-bb50-1b1cb3959f9f.pt\n",
      "WARNING:pykeen.training.training_loop:Using RGCN without graph-based sampling! Please select sampler=\"schlichtkrull\" instead of None.\n",
      "WARNING:pykeen.training.training_loop:Using RGCN without graph-based sampling! Please select sampler=\"schlichtkrull\" instead of None.\n",
      "WARNING:pykeen.nn.message_passing:Layers RGCNLayer(\n",
      "  (fwd): BasesDecomposition(\n",
      "    (relation_representations): LowRankRepresentation(\n",
      "      (bases): Embedding(\n",
      "        (_embeddings): Embedding(4, 22500)\n",
      "      )\n",
      "    )\n",
      "  )\n",
      "  (bwd): BasesDecomposition(\n",
      "    (relation_representations): LowRankRepresentation(\n",
      "      (bases): Embedding(\n",
      "        (_embeddings): Embedding(4, 22500)\n",
      "      )\n",
      "    )\n",
      "  )\n",
      "  (self_loop): Linear(in_features=150, out_features=150, bias=True)\n",
      "  (dropout): Dropout(p=0.2, inplace=False)\n",
      ") has parameters, but no reset_parameters.\n",
      "WARNING:pykeen.nn.message_passing:Layers RGCNLayer(\n",
      "  (fwd): BasesDecomposition(\n",
      "    (relation_representations): LowRankRepresentation(\n",
      "      (bases): Embedding(\n",
      "        (_embeddings): Embedding(4, 22500)\n",
      "      )\n",
      "    )\n",
      "  )\n",
      "  (bwd): BasesDecomposition(\n",
      "    (relation_representations): LowRankRepresentation(\n",
      "      (bases): Embedding(\n",
      "        (_embeddings): Embedding(4, 22500)\n",
      "      )\n",
      "    )\n",
      "  )\n",
      "  (self_loop): Linear(in_features=150, out_features=150, bias=True)\n",
      "  (dropout): Dropout(p=0.2, inplace=False)\n",
      ") has parameters, but no reset_parameters.\n",
      "WARNING:pykeen.nn.message_passing:Layers RGCNLayer(\n",
      "  (fwd): BasesDecomposition(\n",
      "    (relation_representations): LowRankRepresentation(\n",
      "      (bases): Embedding(\n",
      "        (_embeddings): Embedding(4, 22500)\n",
      "      )\n",
      "    )\n",
      "  )\n",
      "  (bwd): BasesDecomposition(\n",
      "    (relation_representations): LowRankRepresentation(\n",
      "      (bases): Embedding(\n",
      "        (_embeddings): Embedding(4, 22500)\n",
      "      )\n",
      "    )\n",
      "  )\n",
      "  (self_loop): Linear(in_features=150, out_features=150, bias=True)\n",
      "  (dropout): Dropout(p=0.2, inplace=False)\n",
      ") has parameters, but no reset_parameters.\n",
      "WARNING:pykeen.nn.message_passing:Layers RGCNLayer(\n",
      "  (fwd): BasesDecomposition(\n",
      "    (relation_representations): LowRankRepresentation(\n",
      "      (bases): Embedding(\n",
      "        (_embeddings): Embedding(4, 22500)\n",
      "      )\n",
      "    )\n",
      "  )\n",
      "  (bwd): BasesDecomposition(\n",
      "    (relation_representations): LowRankRepresentation(\n",
      "      (bases): Embedding(\n",
      "        (_embeddings): Embedding(4, 22500)\n",
      "      )\n",
      "    )\n",
      "  )\n",
      "  (self_loop): Linear(in_features=150, out_features=150, bias=True)\n",
      "  (dropout): Dropout(p=0.2, inplace=False)\n",
      ") has parameters, but no reset_parameters.\n"
     ]
    },
    {
     "data": {
      "application/vnd.jupyter.widget-view+json": {
       "model_id": "a69fb70130e9491dae1f699f95af4ecb",
       "version_major": 2,
       "version_minor": 0
      },
      "text/plain": [
       "Training epochs on cuda:0:   0%|          | 0/100 [00:00<?, ?epoch/s]"
      ]
     },
     "metadata": {},
     "output_type": "display_data"
    },
    {
     "data": {
      "application/vnd.jupyter.widget-view+json": {
       "model_id": "b0a0e45ba15d44d69e6000dd131ec09b",
       "version_major": 2,
       "version_minor": 0
      },
      "text/plain": [
       "Training batches on cuda:0:   0%|          | 0/254 [00:00<?, ?batch/s]"
      ]
     },
     "metadata": {},
     "output_type": "display_data"
    },
    {
     "data": {
      "application/vnd.jupyter.widget-view+json": {
       "model_id": "4ba6976fb15b440ab6033a582275a77e",
       "version_major": 2,
       "version_minor": 0
      },
      "text/plain": [
       "Training batches on cuda:0:   0%|          | 0/254 [00:00<?, ?batch/s]"
      ]
     },
     "metadata": {},
     "output_type": "display_data"
    },
    {
     "data": {
      "application/vnd.jupyter.widget-view+json": {
       "model_id": "cccc0dd256914a80a58eb9de8d0dd7b0",
       "version_major": 2,
       "version_minor": 0
      },
      "text/plain": [
       "Training batches on cuda:0:   0%|          | 0/254 [00:00<?, ?batch/s]"
      ]
     },
     "metadata": {},
     "output_type": "display_data"
    },
    {
     "data": {
      "application/vnd.jupyter.widget-view+json": {
       "model_id": "10ca7bcffbc94183b6059d0cc45f0c45",
       "version_major": 2,
       "version_minor": 0
      },
      "text/plain": [
       "Training batches on cuda:0:   0%|          | 0/254 [00:00<?, ?batch/s]"
      ]
     },
     "metadata": {},
     "output_type": "display_data"
    },
    {
     "data": {
      "application/vnd.jupyter.widget-view+json": {
       "model_id": "eae55359a0ae4f76823cb6701935a773",
       "version_major": 2,
       "version_minor": 0
      },
      "text/plain": [
       "Training batches on cuda:0:   0%|          | 0/254 [00:00<?, ?batch/s]"
      ]
     },
     "metadata": {},
     "output_type": "display_data"
    },
    {
     "data": {
      "application/vnd.jupyter.widget-view+json": {
       "model_id": "21ed88140ee04984b4f9b553eb4b8f4b",
       "version_major": 2,
       "version_minor": 0
      },
      "text/plain": [
       "Training batches on cuda:0:   0%|          | 0/254 [00:00<?, ?batch/s]"
      ]
     },
     "metadata": {},
     "output_type": "display_data"
    },
    {
     "data": {
      "application/vnd.jupyter.widget-view+json": {
       "model_id": "ac12c7a6e4844e40be705445616dd3b2",
       "version_major": 2,
       "version_minor": 0
      },
      "text/plain": [
       "Training batches on cuda:0:   0%|          | 0/254 [00:00<?, ?batch/s]"
      ]
     },
     "metadata": {},
     "output_type": "display_data"
    },
    {
     "data": {
      "application/vnd.jupyter.widget-view+json": {
       "model_id": "74e4d8ffd1a941fbb4a433c7a2771310",
       "version_major": 2,
       "version_minor": 0
      },
      "text/plain": [
       "Training batches on cuda:0:   0%|          | 0/254 [00:00<?, ?batch/s]"
      ]
     },
     "metadata": {},
     "output_type": "display_data"
    },
    {
     "data": {
      "application/vnd.jupyter.widget-view+json": {
       "model_id": "61a2f2a4f97344159d892af783f97fb3",
       "version_major": 2,
       "version_minor": 0
      },
      "text/plain": [
       "Training batches on cuda:0:   0%|          | 0/254 [00:00<?, ?batch/s]"
      ]
     },
     "metadata": {},
     "output_type": "display_data"
    },
    {
     "data": {
      "application/vnd.jupyter.widget-view+json": {
       "model_id": "f2c981d8206e4a6a8fe30badf4a58849",
       "version_major": 2,
       "version_minor": 0
      },
      "text/plain": [
       "Training batches on cuda:0:   0%|          | 0/254 [00:00<?, ?batch/s]"
      ]
     },
     "metadata": {},
     "output_type": "display_data"
    },
    {
     "name": "stderr",
     "output_type": "stream",
     "text": [
      "INFO:pykeen.evaluation.evaluator:Evaluation took 2.69s seconds\n",
      "INFO:pykeen.stoppers.early_stopping:New best result at epoch 10: 0.24889196675900277. Saved model weights to /root/.data/pykeen/checkpoints/best-model-weights-5f5ca07c-8a0e-4e2f-bb50-1b1cb3959f9f.pt\n",
      "INFO:pykeen.training.training_loop:=> Saved checkpoint after having finished epoch 10.\n"
     ]
    },
    {
     "data": {
      "application/vnd.jupyter.widget-view+json": {
       "model_id": "fe4df9e0ce4840ae8e8327ca49acc3f3",
       "version_major": 2,
       "version_minor": 0
      },
      "text/plain": [
       "Training batches on cuda:0:   0%|          | 0/254 [00:00<?, ?batch/s]"
      ]
     },
     "metadata": {},
     "output_type": "display_data"
    },
    {
     "data": {
      "application/vnd.jupyter.widget-view+json": {
       "model_id": "b2c651a9db9a42c0888b7fd6d26884af",
       "version_major": 2,
       "version_minor": 0
      },
      "text/plain": [
       "Training batches on cuda:0:   0%|          | 0/254 [00:00<?, ?batch/s]"
      ]
     },
     "metadata": {},
     "output_type": "display_data"
    },
    {
     "data": {
      "application/vnd.jupyter.widget-view+json": {
       "model_id": "cae4d6ea4a894d62af7e06814b9de334",
       "version_major": 2,
       "version_minor": 0
      },
      "text/plain": [
       "Training batches on cuda:0:   0%|          | 0/254 [00:00<?, ?batch/s]"
      ]
     },
     "metadata": {},
     "output_type": "display_data"
    },
    {
     "data": {
      "application/vnd.jupyter.widget-view+json": {
       "model_id": "002ee43d5db94c1594b0177952e25064",
       "version_major": 2,
       "version_minor": 0
      },
      "text/plain": [
       "Training batches on cuda:0:   0%|          | 0/254 [00:00<?, ?batch/s]"
      ]
     },
     "metadata": {},
     "output_type": "display_data"
    },
    {
     "data": {
      "application/vnd.jupyter.widget-view+json": {
       "model_id": "31cc790396494607ba685637e76cbe70",
       "version_major": 2,
       "version_minor": 0
      },
      "text/plain": [
       "Training batches on cuda:0:   0%|          | 0/254 [00:00<?, ?batch/s]"
      ]
     },
     "metadata": {},
     "output_type": "display_data"
    },
    {
     "data": {
      "application/vnd.jupyter.widget-view+json": {
       "model_id": "c569e6eb5efa4e4781f85d89a857c41f",
       "version_major": 2,
       "version_minor": 0
      },
      "text/plain": [
       "Training batches on cuda:0:   0%|          | 0/254 [00:00<?, ?batch/s]"
      ]
     },
     "metadata": {},
     "output_type": "display_data"
    },
    {
     "data": {
      "application/vnd.jupyter.widget-view+json": {
       "model_id": "f9ac9a5b301a494ebaa90ebcc4b84a3a",
       "version_major": 2,
       "version_minor": 0
      },
      "text/plain": [
       "Training batches on cuda:0:   0%|          | 0/254 [00:00<?, ?batch/s]"
      ]
     },
     "metadata": {},
     "output_type": "display_data"
    },
    {
     "data": {
      "application/vnd.jupyter.widget-view+json": {
       "model_id": "dcc6f95f4ed044129d0178a5e3728ad4",
       "version_major": 2,
       "version_minor": 0
      },
      "text/plain": [
       "Training batches on cuda:0:   0%|          | 0/254 [00:00<?, ?batch/s]"
      ]
     },
     "metadata": {},
     "output_type": "display_data"
    },
    {
     "data": {
      "application/vnd.jupyter.widget-view+json": {
       "model_id": "4483d51741be43c68cfb3cc223ded57c",
       "version_major": 2,
       "version_minor": 0
      },
      "text/plain": [
       "Training batches on cuda:0:   0%|          | 0/254 [00:00<?, ?batch/s]"
      ]
     },
     "metadata": {},
     "output_type": "display_data"
    },
    {
     "data": {
      "application/vnd.jupyter.widget-view+json": {
       "model_id": "768c93ab1e0b4534b3e1cef822b80f22",
       "version_major": 2,
       "version_minor": 0
      },
      "text/plain": [
       "Training batches on cuda:0:   0%|          | 0/254 [00:00<?, ?batch/s]"
      ]
     },
     "metadata": {},
     "output_type": "display_data"
    },
    {
     "name": "stderr",
     "output_type": "stream",
     "text": [
      "INFO:pykeen.evaluation.evaluator:Evaluation took 2.65s seconds\n",
      "INFO:pykeen.stoppers.early_stopping:New best result at epoch 20: 0.2551246537396122. Saved model weights to /root/.data/pykeen/checkpoints/best-model-weights-5f5ca07c-8a0e-4e2f-bb50-1b1cb3959f9f.pt\n",
      "INFO:pykeen.training.training_loop:=> Saved checkpoint after having finished epoch 20.\n"
     ]
    },
    {
     "data": {
      "application/vnd.jupyter.widget-view+json": {
       "model_id": "f1c5189570814b4db80b226673be5038",
       "version_major": 2,
       "version_minor": 0
      },
      "text/plain": [
       "Training batches on cuda:0:   0%|          | 0/254 [00:00<?, ?batch/s]"
      ]
     },
     "metadata": {},
     "output_type": "display_data"
    },
    {
     "data": {
      "application/vnd.jupyter.widget-view+json": {
       "model_id": "d78800199b5b4202900229dd6dee21bb",
       "version_major": 2,
       "version_minor": 0
      },
      "text/plain": [
       "Training batches on cuda:0:   0%|          | 0/254 [00:00<?, ?batch/s]"
      ]
     },
     "metadata": {},
     "output_type": "display_data"
    },
    {
     "data": {
      "application/vnd.jupyter.widget-view+json": {
       "model_id": "6b1287c4349e4045b32e1a24613668fb",
       "version_major": 2,
       "version_minor": 0
      },
      "text/plain": [
       "Training batches on cuda:0:   0%|          | 0/254 [00:00<?, ?batch/s]"
      ]
     },
     "metadata": {},
     "output_type": "display_data"
    },
    {
     "data": {
      "application/vnd.jupyter.widget-view+json": {
       "model_id": "bde8c03499024668be9bcedbff2992ef",
       "version_major": 2,
       "version_minor": 0
      },
      "text/plain": [
       "Training batches on cuda:0:   0%|          | 0/254 [00:00<?, ?batch/s]"
      ]
     },
     "metadata": {},
     "output_type": "display_data"
    },
    {
     "data": {
      "application/vnd.jupyter.widget-view+json": {
       "model_id": "84962178bf4a49239c67a1953b08c73b",
       "version_major": 2,
       "version_minor": 0
      },
      "text/plain": [
       "Training batches on cuda:0:   0%|          | 0/254 [00:00<?, ?batch/s]"
      ]
     },
     "metadata": {},
     "output_type": "display_data"
    },
    {
     "data": {
      "application/vnd.jupyter.widget-view+json": {
       "model_id": "383fbb0689f542f2b39ee013e79d1a4c",
       "version_major": 2,
       "version_minor": 0
      },
      "text/plain": [
       "Training batches on cuda:0:   0%|          | 0/254 [00:00<?, ?batch/s]"
      ]
     },
     "metadata": {},
     "output_type": "display_data"
    },
    {
     "data": {
      "application/vnd.jupyter.widget-view+json": {
       "model_id": "0140ec44cc11418ca50f61d49e0374e6",
       "version_major": 2,
       "version_minor": 0
      },
      "text/plain": [
       "Training batches on cuda:0:   0%|          | 0/254 [00:00<?, ?batch/s]"
      ]
     },
     "metadata": {},
     "output_type": "display_data"
    },
    {
     "data": {
      "application/vnd.jupyter.widget-view+json": {
       "model_id": "7034d6be79ed4a46bdca139bca55c97f",
       "version_major": 2,
       "version_minor": 0
      },
      "text/plain": [
       "Training batches on cuda:0:   0%|          | 0/254 [00:00<?, ?batch/s]"
      ]
     },
     "metadata": {},
     "output_type": "display_data"
    },
    {
     "data": {
      "application/vnd.jupyter.widget-view+json": {
       "model_id": "a13e30b0c1ce4a3eb4b862ba29a90bf3",
       "version_major": 2,
       "version_minor": 0
      },
      "text/plain": [
       "Training batches on cuda:0:   0%|          | 0/254 [00:00<?, ?batch/s]"
      ]
     },
     "metadata": {},
     "output_type": "display_data"
    },
    {
     "data": {
      "application/vnd.jupyter.widget-view+json": {
       "model_id": "005f22871d3a460bae1e02d5e10d98f2",
       "version_major": 2,
       "version_minor": 0
      },
      "text/plain": [
       "Training batches on cuda:0:   0%|          | 0/254 [00:00<?, ?batch/s]"
      ]
     },
     "metadata": {},
     "output_type": "display_data"
    },
    {
     "name": "stderr",
     "output_type": "stream",
     "text": [
      "INFO:pykeen.evaluation.evaluator:Evaluation took 2.67s seconds\n",
      "INFO:pykeen.stoppers.early_stopping:New best result at epoch 30: 0.2835872576177285. Saved model weights to /root/.data/pykeen/checkpoints/best-model-weights-5f5ca07c-8a0e-4e2f-bb50-1b1cb3959f9f.pt\n",
      "INFO:pykeen.training.training_loop:=> Saved checkpoint after having finished epoch 30.\n"
     ]
    },
    {
     "data": {
      "application/vnd.jupyter.widget-view+json": {
       "model_id": "19d72d3596d543baa9e28b26884bb9f3",
       "version_major": 2,
       "version_minor": 0
      },
      "text/plain": [
       "Training batches on cuda:0:   0%|          | 0/254 [00:00<?, ?batch/s]"
      ]
     },
     "metadata": {},
     "output_type": "display_data"
    },
    {
     "data": {
      "application/vnd.jupyter.widget-view+json": {
       "model_id": "bc2e60e5739d42d4ba3748486ff13f98",
       "version_major": 2,
       "version_minor": 0
      },
      "text/plain": [
       "Training batches on cuda:0:   0%|          | 0/254 [00:00<?, ?batch/s]"
      ]
     },
     "metadata": {},
     "output_type": "display_data"
    },
    {
     "data": {
      "application/vnd.jupyter.widget-view+json": {
       "model_id": "bb911ab4d84640d1a61c7929bb1566e7",
       "version_major": 2,
       "version_minor": 0
      },
      "text/plain": [
       "Training batches on cuda:0:   0%|          | 0/254 [00:00<?, ?batch/s]"
      ]
     },
     "metadata": {},
     "output_type": "display_data"
    },
    {
     "data": {
      "application/vnd.jupyter.widget-view+json": {
       "model_id": "0cfd6361095c45b8a159fc2018a224a8",
       "version_major": 2,
       "version_minor": 0
      },
      "text/plain": [
       "Training batches on cuda:0:   0%|          | 0/254 [00:00<?, ?batch/s]"
      ]
     },
     "metadata": {},
     "output_type": "display_data"
    },
    {
     "data": {
      "application/vnd.jupyter.widget-view+json": {
       "model_id": "a2cc369ec0634970ae4fb752b7a4bde7",
       "version_major": 2,
       "version_minor": 0
      },
      "text/plain": [
       "Training batches on cuda:0:   0%|          | 0/254 [00:00<?, ?batch/s]"
      ]
     },
     "metadata": {},
     "output_type": "display_data"
    },
    {
     "data": {
      "application/vnd.jupyter.widget-view+json": {
       "model_id": "d2b6d455a5404a1b9ce8d7a0612b601f",
       "version_major": 2,
       "version_minor": 0
      },
      "text/plain": [
       "Training batches on cuda:0:   0%|          | 0/254 [00:00<?, ?batch/s]"
      ]
     },
     "metadata": {},
     "output_type": "display_data"
    },
    {
     "data": {
      "application/vnd.jupyter.widget-view+json": {
       "model_id": "0558f2ebd5354099ada7231ceacb70ab",
       "version_major": 2,
       "version_minor": 0
      },
      "text/plain": [
       "Training batches on cuda:0:   0%|          | 0/254 [00:00<?, ?batch/s]"
      ]
     },
     "metadata": {},
     "output_type": "display_data"
    },
    {
     "data": {
      "application/vnd.jupyter.widget-view+json": {
       "model_id": "c9c9b31e9c6c49eea390a49d7698513d",
       "version_major": 2,
       "version_minor": 0
      },
      "text/plain": [
       "Training batches on cuda:0:   0%|          | 0/254 [00:00<?, ?batch/s]"
      ]
     },
     "metadata": {},
     "output_type": "display_data"
    },
    {
     "data": {
      "application/vnd.jupyter.widget-view+json": {
       "model_id": "8c834cce8f63419581e4e54d4349e383",
       "version_major": 2,
       "version_minor": 0
      },
      "text/plain": [
       "Training batches on cuda:0:   0%|          | 0/254 [00:00<?, ?batch/s]"
      ]
     },
     "metadata": {},
     "output_type": "display_data"
    },
    {
     "data": {
      "application/vnd.jupyter.widget-view+json": {
       "model_id": "27e1f62dee674b2cbc436be4d94b55cf",
       "version_major": 2,
       "version_minor": 0
      },
      "text/plain": [
       "Training batches on cuda:0:   0%|          | 0/254 [00:00<?, ?batch/s]"
      ]
     },
     "metadata": {},
     "output_type": "display_data"
    },
    {
     "name": "stderr",
     "output_type": "stream",
     "text": [
      "INFO:pykeen.evaluation.evaluator:Evaluation took 2.64s seconds\n"
     ]
    },
    {
     "data": {
      "application/vnd.jupyter.widget-view+json": {
       "model_id": "2fab1a83594243c2872f2c5bc9e26538",
       "version_major": 2,
       "version_minor": 0
      },
      "text/plain": [
       "Training batches on cuda:0:   0%|          | 0/254 [00:00<?, ?batch/s]"
      ]
     },
     "metadata": {},
     "output_type": "display_data"
    },
    {
     "data": {
      "application/vnd.jupyter.widget-view+json": {
       "model_id": "b669c7a87cae452cb3baef34bb1da9e8",
       "version_major": 2,
       "version_minor": 0
      },
      "text/plain": [
       "Training batches on cuda:0:   0%|          | 0/254 [00:00<?, ?batch/s]"
      ]
     },
     "metadata": {},
     "output_type": "display_data"
    },
    {
     "data": {
      "application/vnd.jupyter.widget-view+json": {
       "model_id": "69a957540e5e47328c27e289687770fe",
       "version_major": 2,
       "version_minor": 0
      },
      "text/plain": [
       "Training batches on cuda:0:   0%|          | 0/254 [00:00<?, ?batch/s]"
      ]
     },
     "metadata": {},
     "output_type": "display_data"
    },
    {
     "data": {
      "application/vnd.jupyter.widget-view+json": {
       "model_id": "2763df4d395442e282a4ef00df12ee37",
       "version_major": 2,
       "version_minor": 0
      },
      "text/plain": [
       "Training batches on cuda:0:   0%|          | 0/254 [00:00<?, ?batch/s]"
      ]
     },
     "metadata": {},
     "output_type": "display_data"
    },
    {
     "data": {
      "application/vnd.jupyter.widget-view+json": {
       "model_id": "93efd44a231a4279bd78923f72fa779f",
       "version_major": 2,
       "version_minor": 0
      },
      "text/plain": [
       "Training batches on cuda:0:   0%|          | 0/254 [00:00<?, ?batch/s]"
      ]
     },
     "metadata": {},
     "output_type": "display_data"
    },
    {
     "data": {
      "application/vnd.jupyter.widget-view+json": {
       "model_id": "e6ad9823c07d49338c3ab996b3008f37",
       "version_major": 2,
       "version_minor": 0
      },
      "text/plain": [
       "Training batches on cuda:0:   0%|          | 0/254 [00:00<?, ?batch/s]"
      ]
     },
     "metadata": {},
     "output_type": "display_data"
    },
    {
     "data": {
      "application/vnd.jupyter.widget-view+json": {
       "model_id": "93001c2deff94baaa7407e57edebe80b",
       "version_major": 2,
       "version_minor": 0
      },
      "text/plain": [
       "Training batches on cuda:0:   0%|          | 0/254 [00:00<?, ?batch/s]"
      ]
     },
     "metadata": {},
     "output_type": "display_data"
    },
    {
     "data": {
      "application/vnd.jupyter.widget-view+json": {
       "model_id": "edc28bd386d44ef6b0e1e6dad2183703",
       "version_major": 2,
       "version_minor": 0
      },
      "text/plain": [
       "Training batches on cuda:0:   0%|          | 0/254 [00:00<?, ?batch/s]"
      ]
     },
     "metadata": {},
     "output_type": "display_data"
    },
    {
     "data": {
      "application/vnd.jupyter.widget-view+json": {
       "model_id": "4f014ba69e8b4170aadab9ba6d97792f",
       "version_major": 2,
       "version_minor": 0
      },
      "text/plain": [
       "Training batches on cuda:0:   0%|          | 0/254 [00:00<?, ?batch/s]"
      ]
     },
     "metadata": {},
     "output_type": "display_data"
    },
    {
     "data": {
      "application/vnd.jupyter.widget-view+json": {
       "model_id": "a18a85ac59614c51b29d63b0f6998868",
       "version_major": 2,
       "version_minor": 0
      },
      "text/plain": [
       "Training batches on cuda:0:   0%|          | 0/254 [00:00<?, ?batch/s]"
      ]
     },
     "metadata": {},
     "output_type": "display_data"
    },
    {
     "name": "stderr",
     "output_type": "stream",
     "text": [
      "INFO:pykeen.evaluation.evaluator:Evaluation took 2.67s seconds\n",
      "INFO:pykeen.stoppers.early_stopping:New best result at epoch 50: 0.30692520775623267. Saved model weights to /root/.data/pykeen/checkpoints/best-model-weights-5f5ca07c-8a0e-4e2f-bb50-1b1cb3959f9f.pt\n",
      "INFO:pykeen.training.training_loop:=> Saved checkpoint after having finished epoch 50.\n"
     ]
    },
    {
     "data": {
      "application/vnd.jupyter.widget-view+json": {
       "model_id": "2127149b52cb4dbe8a82d680939be6d0",
       "version_major": 2,
       "version_minor": 0
      },
      "text/plain": [
       "Training batches on cuda:0:   0%|          | 0/254 [00:00<?, ?batch/s]"
      ]
     },
     "metadata": {},
     "output_type": "display_data"
    },
    {
     "data": {
      "application/vnd.jupyter.widget-view+json": {
       "model_id": "6ca85bfd3305479ca094cbe098e4168f",
       "version_major": 2,
       "version_minor": 0
      },
      "text/plain": [
       "Training batches on cuda:0:   0%|          | 0/254 [00:00<?, ?batch/s]"
      ]
     },
     "metadata": {},
     "output_type": "display_data"
    },
    {
     "data": {
      "application/vnd.jupyter.widget-view+json": {
       "model_id": "7b0fac7f698941df9b15c515e570934f",
       "version_major": 2,
       "version_minor": 0
      },
      "text/plain": [
       "Training batches on cuda:0:   0%|          | 0/254 [00:00<?, ?batch/s]"
      ]
     },
     "metadata": {},
     "output_type": "display_data"
    },
    {
     "data": {
      "application/vnd.jupyter.widget-view+json": {
       "model_id": "38312bb44e4f4ec690d46eeab4a572f9",
       "version_major": 2,
       "version_minor": 0
      },
      "text/plain": [
       "Training batches on cuda:0:   0%|          | 0/254 [00:00<?, ?batch/s]"
      ]
     },
     "metadata": {},
     "output_type": "display_data"
    },
    {
     "data": {
      "application/vnd.jupyter.widget-view+json": {
       "model_id": "548292598de340d88ee52df3d903b4a6",
       "version_major": 2,
       "version_minor": 0
      },
      "text/plain": [
       "Training batches on cuda:0:   0%|          | 0/254 [00:00<?, ?batch/s]"
      ]
     },
     "metadata": {},
     "output_type": "display_data"
    },
    {
     "data": {
      "application/vnd.jupyter.widget-view+json": {
       "model_id": "d4acb19d98024155897ae45f84076a28",
       "version_major": 2,
       "version_minor": 0
      },
      "text/plain": [
       "Training batches on cuda:0:   0%|          | 0/254 [00:00<?, ?batch/s]"
      ]
     },
     "metadata": {},
     "output_type": "display_data"
    },
    {
     "data": {
      "application/vnd.jupyter.widget-view+json": {
       "model_id": "62a1434f56e240b185c6894970f927c4",
       "version_major": 2,
       "version_minor": 0
      },
      "text/plain": [
       "Training batches on cuda:0:   0%|          | 0/254 [00:00<?, ?batch/s]"
      ]
     },
     "metadata": {},
     "output_type": "display_data"
    },
    {
     "data": {
      "application/vnd.jupyter.widget-view+json": {
       "model_id": "c47f07ef6e1b4d099eb840e97fb56504",
       "version_major": 2,
       "version_minor": 0
      },
      "text/plain": [
       "Training batches on cuda:0:   0%|          | 0/254 [00:00<?, ?batch/s]"
      ]
     },
     "metadata": {},
     "output_type": "display_data"
    },
    {
     "data": {
      "application/vnd.jupyter.widget-view+json": {
       "model_id": "73e8900f5a724a72aec8221cd2ce7643",
       "version_major": 2,
       "version_minor": 0
      },
      "text/plain": [
       "Training batches on cuda:0:   0%|          | 0/254 [00:00<?, ?batch/s]"
      ]
     },
     "metadata": {},
     "output_type": "display_data"
    },
    {
     "data": {
      "application/vnd.jupyter.widget-view+json": {
       "model_id": "3ccf2b5a9da14141a76c3674b7702a97",
       "version_major": 2,
       "version_minor": 0
      },
      "text/plain": [
       "Training batches on cuda:0:   0%|          | 0/254 [00:00<?, ?batch/s]"
      ]
     },
     "metadata": {},
     "output_type": "display_data"
    },
    {
     "name": "stderr",
     "output_type": "stream",
     "text": [
      "INFO:pykeen.evaluation.evaluator:Evaluation took 2.67s seconds\n"
     ]
    },
    {
     "data": {
      "application/vnd.jupyter.widget-view+json": {
       "model_id": "eabb9f4180e64ac0b44fe82e6cbabed7",
       "version_major": 2,
       "version_minor": 0
      },
      "text/plain": [
       "Training batches on cuda:0:   0%|          | 0/254 [00:00<?, ?batch/s]"
      ]
     },
     "metadata": {},
     "output_type": "display_data"
    },
    {
     "data": {
      "application/vnd.jupyter.widget-view+json": {
       "model_id": "b774635e3c3346f994f6b47d1d6e9120",
       "version_major": 2,
       "version_minor": 0
      },
      "text/plain": [
       "Training batches on cuda:0:   0%|          | 0/254 [00:00<?, ?batch/s]"
      ]
     },
     "metadata": {},
     "output_type": "display_data"
    },
    {
     "data": {
      "application/vnd.jupyter.widget-view+json": {
       "model_id": "3958be163d6c424ea43063864f0b4e9e",
       "version_major": 2,
       "version_minor": 0
      },
      "text/plain": [
       "Training batches on cuda:0:   0%|          | 0/254 [00:00<?, ?batch/s]"
      ]
     },
     "metadata": {},
     "output_type": "display_data"
    },
    {
     "data": {
      "application/vnd.jupyter.widget-view+json": {
       "model_id": "9e927cdb44634eb88e42b22a69451660",
       "version_major": 2,
       "version_minor": 0
      },
      "text/plain": [
       "Training batches on cuda:0:   0%|          | 0/254 [00:00<?, ?batch/s]"
      ]
     },
     "metadata": {},
     "output_type": "display_data"
    },
    {
     "data": {
      "application/vnd.jupyter.widget-view+json": {
       "model_id": "4c37fd0dbf6f434f875948c5a436670a",
       "version_major": 2,
       "version_minor": 0
      },
      "text/plain": [
       "Training batches on cuda:0:   0%|          | 0/254 [00:00<?, ?batch/s]"
      ]
     },
     "metadata": {},
     "output_type": "display_data"
    },
    {
     "data": {
      "application/vnd.jupyter.widget-view+json": {
       "model_id": "327169200934421587e2feccab1d6943",
       "version_major": 2,
       "version_minor": 0
      },
      "text/plain": [
       "Training batches on cuda:0:   0%|          | 0/254 [00:00<?, ?batch/s]"
      ]
     },
     "metadata": {},
     "output_type": "display_data"
    },
    {
     "data": {
      "application/vnd.jupyter.widget-view+json": {
       "model_id": "e62ec2d983f240ab97a9eafc5567210d",
       "version_major": 2,
       "version_minor": 0
      },
      "text/plain": [
       "Training batches on cuda:0:   0%|          | 0/254 [00:00<?, ?batch/s]"
      ]
     },
     "metadata": {},
     "output_type": "display_data"
    },
    {
     "data": {
      "application/vnd.jupyter.widget-view+json": {
       "model_id": "44b84953680249fdb345ab4a0acbc238",
       "version_major": 2,
       "version_minor": 0
      },
      "text/plain": [
       "Training batches on cuda:0:   0%|          | 0/254 [00:00<?, ?batch/s]"
      ]
     },
     "metadata": {},
     "output_type": "display_data"
    },
    {
     "data": {
      "application/vnd.jupyter.widget-view+json": {
       "model_id": "36f28d6a6523400a84dce120924c5781",
       "version_major": 2,
       "version_minor": 0
      },
      "text/plain": [
       "Training batches on cuda:0:   0%|          | 0/254 [00:00<?, ?batch/s]"
      ]
     },
     "metadata": {},
     "output_type": "display_data"
    },
    {
     "data": {
      "application/vnd.jupyter.widget-view+json": {
       "model_id": "a1af1718940a4ed1847fe1e5d9d8a781",
       "version_major": 2,
       "version_minor": 0
      },
      "text/plain": [
       "Training batches on cuda:0:   0%|          | 0/254 [00:00<?, ?batch/s]"
      ]
     },
     "metadata": {},
     "output_type": "display_data"
    },
    {
     "name": "stderr",
     "output_type": "stream",
     "text": [
      "INFO:pykeen.evaluation.evaluator:Evaluation took 2.66s seconds\n",
      "INFO:pykeen.stoppers.early_stopping:Stopping early at epoch 70. The best result 0.30692520775623267 occurred at epoch 50.\n",
      "INFO:pykeen.stoppers.early_stopping:Re-loading weights from best epoch from /root/.data/pykeen/checkpoints/best-model-weights-5f5ca07c-8a0e-4e2f-bb50-1b1cb3959f9f.pt\n",
      "/usr/local/lib/python3.10/dist-packages/pykeen/stoppers/early_stopping.py:268: FutureWarning: You are using `torch.load` with `weights_only=False` (the current default value), which uses the default pickle module implicitly. It is possible to construct malicious pickle data which will execute arbitrary code during unpickling (See https://github.com/pytorch/pytorch/blob/main/SECURITY.md#untrusted-models for more details). In a future release, the default value for `weights_only` will be flipped to `True`. This limits the functions that could be executed during unpickling. Arbitrary objects will no longer be allowed to be loaded via this mode unless they are explicitly allowlisted by the user via `torch.serialization.add_safe_globals`. We recommend you start setting `weights_only=True` for any use case where you don't have full control of the loaded file. Please open an issue on GitHub for any issues related to this experimental feature.\n",
      "  self.model.load_state_dict(torch.load(self.best_model_path))\n"
     ]
    },
    {
     "data": {
      "application/vnd.jupyter.widget-view+json": {
       "model_id": "11dd3de08555454ea8da362b7a1dd32f",
       "version_major": 2,
       "version_minor": 0
      },
      "text/plain": [
       "Evaluating on cuda:0:   0%|          | 0.00/1.58k [00:00<?, ?triple/s]"
      ]
     },
     "metadata": {},
     "output_type": "display_data"
    },
    {
     "name": "stderr",
     "output_type": "stream",
     "text": [
      "INFO:pykeen.evaluation.evaluator:Evaluation took 1.12s seconds\n"
     ]
    }
   ],
   "source": [
    "result = pipeline(\n",
    "    training=training,\n",
    "    testing=testing,\n",
    "    validation=validation,\n",
    "    model='RGCN',  # Specify RGCN model\n",
    "    model_kwargs={\n",
    "        'embedding_dim': 150,    # Set embedding dimensions\n",
    "        'num_layers': 2,         # Number of R-GCN layers\n",
    "    #    'interaction': 'DistMult' # Specify interaction function\n",
    "    },\n",
    "    training_kwargs={\n",
    "        'num_epochs': 100,       # Set the number of epochs\n",
    "    },\n",
    "    stopper='early'              # Use early stopping\n",
    ")"
   ]
  },
  {
   "cell_type": "code",
   "execution_count": null,
   "metadata": {
    "colab": {
     "base_uri": "https://localhost:8080/"
    },
    "id": "Qjpxf8m8zvle",
    "outputId": "0d35bfc6-cff7-4f95-958a-c30dc31fdfc5"
   },
   "outputs": [
    {
     "name": "stdout",
     "output_type": "stream",
     "text": [
      "Model saved to /content/drive/MyDrive/Digital Twin Study/Mehmet Can/Models/02-150/02_150_trained_rgcn_model.pt\n"
     ]
    }
   ],
   "source": [
    "# Saving the model\n",
    "\n",
    "from pykeen.pipeline import pipeline\n",
    "from pykeen.models import RGCN\n",
    "import torch\n",
    "\n",
    "model = result.model\n",
    "\n",
    "model_path = '/content/drive/MyDrive/Digital Twin Study/Mehmet Can/Models/02-150/02_150_trained_rgcn_model.pt'\n",
    "torch.save(model.state_dict(), model_path)\n",
    "print(f\"Model saved to {model_path}\")"
   ]
  },
  {
   "cell_type": "code",
   "execution_count": null,
   "metadata": {
    "id": "15C72ZCFz4HQ"
   },
   "outputs": [],
   "source": [
    "# Loading the model\n",
    "\n",
    "from pykeen.pipeline import pipeline\n",
    "from pykeen.models import RGCN\n",
    "import torch\n",
    "\n",
    "model_path = '/content/drive/MyDrive/Digital Twin Study/Mehmet Can/Models/02-150/02_150_trained_rgcn_model.pt'\n",
    "\n",
    "\n",
    "loaded_model = RGCN(\n",
    "    triples_factory=result.training,\n",
    "    embedding_dim=150,\n",
    "     num_layers=1,\n",
    "    interaction=\"DistMult\",\n",
    ")\n",
    "loaded_model.load_state_dict(torch.load(model_path))\n",
    "print(\"Model reloaded successfully\")"
   ]
  },
  {
   "cell_type": "markdown",
   "metadata": {
    "id": "3aM8kcy9sOTN"
   },
   "source": [
    "#### Layer:02 - Embedding Dim: 200"
   ]
  },
  {
   "cell_type": "code",
   "execution_count": null,
   "metadata": {
    "colab": {
     "base_uri": "https://localhost:8080/",
     "height": 1000,
     "referenced_widgets": [
      "212bbee6abb547a4871551add5ed7386",
      "11f97c1319a14a4d846bfa3c729faf31",
      "0acd977f6406471e8dea83012d2215bf",
      "dd445bfd08424baba574e3a87e7f4821",
      "388790d7e0264ed6befc7ddc44bc5d9a",
      "6814bcf90347435faa3e3665e9731e01",
      "91e75ac881634867b5dcd1be9811b894",
      "f1f8dfdfe77a4f12b4b8cfddc3412e14",
      "0f588df8faa04c11bc93e11002fe5842",
      "351e5a4ba917424daed74042fabb5ff0",
      "207476e3ecde4334b4318f7888f21cec",
      "0528e9c5a39340fcabb7a8b40150f46b",
      "5ccbd8173dfb4349a3d8271f09bfbcc9",
      "db75a6ae303c408cb4b006a0697ac61b",
      "4a6cdf303fe44dd4bd606f58f80d2c13",
      "7d4046481ea1495d81180a562c2fcf98",
      "26340b6483ec44a3bfe82e33426beed6",
      "7b7964e761ea4705b4dda3ad968fc669",
      "939b8ce29bcc453f909d145f0ba844e7",
      "cd76a691bebc4f48af8b6b73a6341769",
      "f29d7f41af37447592092d46fba297a0",
      "639ab958a3ea43c3bcc55a572d6a6c02",
      "c62db6a967da4f1aa7fea072aca929db",
      "33d48805927e4ee2bf8f25b22a20c831",
      "97901bb3c8d048db80ec843333b78674",
      "56d12ea271214655b6b44f53f9b5bd2d",
      "8b4ed99e19714d33a014d8e34db07d02",
      "c01702b4be194ea4b427be08ce77260a",
      "984c8504e7ac439fbf97ac35cfa1ec35",
      "3a5ebc897a5c4407af2bc7436b8815c9",
      "82ea892c66dd479c9d18d6fdf5b716f0",
      "6d98b2f282914302882d033ceec3f7ce",
      "a04c30414c3749ab86e2f9af2eed5223",
      "9abe509b78684b9ba7c00de0088a43bf",
      "33ba5a1d633e48cca9266136ee96ae02",
      "8846d9ff9dbe40a3877c339b3bf6f730",
      "bf48a02cca2347aabc0ca99f47303c55",
      "a56d795159fe4068b69e9fddd226ce1e",
      "952be7875ac0480c9f0035d06b08b07d",
      "40ad45bad3e343b89ec73c8d43e32241",
      "394ea8ca484a4409ba578164fdb420e2",
      "4d920198ad9640a380dd2145541f4fca",
      "d1a0da9e71714ad78441829680fca50c",
      "d5b26c4fed6b494d939dd42dcdbcf89c",
      "2288bc0c47fb49ad951cfecae5e29305",
      "ce09146eec4040658ef2a0a9d9d83b3d",
      "3346bb18721f43deab117c705ba4aaae",
      "c4bfb3f0ded443f792a6f8a4dece01d5",
      "7d7dc12f634f413da7596bdc7ef57e9c",
      "4c108d90350d4963983d91de16239799",
      "53677aee0cf94fb3a3f3f3b00bb98c1b",
      "e81bbacd64244f519aa948c0c8383622",
      "4de85b701973457b9cae2d95dd531d1b",
      "2812d792d11445a0be53def7d6fb8d4b",
      "f3a1afcf80c94fd69ed767b6b8367aa1",
      "f780b4e429a64b62b0d66c153bf1fbb3",
      "78a44495d75b4ebebcf84078a80da351",
      "89022ef0402a491eacd39a798ed4465f",
      "77c1d6a60f5745b295c5356a5b11b289",
      "bbd0cb7e14e2487bb39c5791fabf73e1",
      "5bc629da3abd462ba694ec8b71fb7100",
      "9b74cc07c02a4791bc39c5d7d0319405",
      "c2156b5acf90489796b7764b0a736cfb",
      "dd5c11f2aef1420586faa0fda3ca49b9",
      "815b0e40ba2b405c8ff352926101c229",
      "29e3de383514414faee06596150888ef",
      "d20db98461ca4aad920c9839420578ed",
      "db1be3d7dbbe445f9e4912e6ae00d04f",
      "0f6d03dfd741417aa5e3804b2b63f564",
      "2b455019f6484397bc8f8d533f295992",
      "ba22d184a8074e08a90ccbb656dbf29f",
      "6098e6a73499430aa34faa768ae3309b",
      "c304ef0764194375ac3ebe851056a373",
      "717a20f2cb8b45f5ac3dd57ec98ba74d",
      "72ba87c60fe7471d9336544106ed7e9a",
      "faf0f2e0b59345e4947a797ed474eb14",
      "ce02690f7e95490282cb6b36850d40c6",
      "d2d72f0220b74889a76a4be2ef491066",
      "ee86a04ccf824484be202685a0e8ea91",
      "3908b9aed7ce4271a352453614e348f5",
      "e3f9bec342304935bc856efcc14690a8",
      "bbeaafd5cf98417c8a2af261ae48f25e",
      "126527d79338446fb5755fa9f0508aae",
      "3620d0613ab24873ae8015111ac23eeb",
      "b7eaf3195261488bbc1e2be716c43cab",
      "0f08e604f6704553b5c70a0766b7e859",
      "4cb3e19eb8d44dde95bea758fcbda95b",
      "b3d6171fd57944b8ad95115b89be2ff4",
      "3bf34c3eb86941c5bda8a60f194206c3",
      "e5b8ab94a987481e9264917ed524d93e",
      "b68cf87dd9df4f8c87a585335ea06fcb",
      "11d782fd17fc40dbbbaaba9c0f971af5",
      "4924747c1339433b8e3b8ff03e71b7a2",
      "f521a4889d1c40ed9563e797c7a351cb",
      "0b3ce1ca79f14a99a53de1da6f6e419a",
      "3a6609158e2d4789a2007e628ab118c8",
      "8c92303984da425c8d16c241b54a16a4",
      "939af4abf37349ffbd0f449dfd316c67",
      "2fda08aeaadb4a99bd77b3006a714bf2",
      "5289b727c8a849069e3317076079285a",
      "f143a6e0c63a4428942f87348cd4ec5e",
      "1485b51a276e4d938567ea9ea7d46af1",
      "1530e7ae1dec404eb167dd5dbd4f7d77",
      "e1d5d9ef883241328c450afe8969fe93",
      "87db66f0168441a4ab92989f4d0c8653",
      "f59101c2415c4b7595fe695200eb4218",
      "e1c1ad6c4e5a4e4abdb4dff78ecdd3ee",
      "7e406ed4c8b14a5890ff1002b7c97042",
      "b20a3eac1adf498491d6be721d2478d9",
      "c3e1196662804cf9b186b020429ef714",
      "050d12893d5049dbaec80a1dc773c4c0",
      "cc6d0e13210d405e8118362fc9f65bca",
      "416fe7603f8247269a5ca36421ce7d9b",
      "adb4ce694f3b48d4a2d88c9c844179cc",
      "34ce19d0efae46dd9cd5faa1c1e05f28",
      "7737e1602fde4b9fa4c34fad184d7dd3",
      "e36763987a644720800d4e35c77d68bf",
      "083e93dc902c40a6b254aeb858b79aa9",
      "af49a0e48cdc48f3a48ce3b93355b33a",
      "f53b9b25a5a84f6585a6004bedb28306",
      "f30c8c361e6c470590baeaec28a72d06",
      "112329f416f442b2abe147b83b3c333f",
      "81340c0cc4bf4794ae1613db5c1ad73d",
      "f43b6808157240cba5553da4f078be87",
      "f1cdc47bd12a43c38927d0552e896d32",
      "1c01ac6367254125ad8e3ff292fcd5d2",
      "cfb2898807024562b256d30c321e6b8a",
      "5a3bddd0f1f0481987bcb361650e7f49",
      "901bf5ba016841d6ade07485fa77013f",
      "265c581768584f3a81875f52996621a9",
      "da9167daa5dd4c2b82c4be82f8b638e7",
      "a8aa29b5e1ad41709fba4bc952953a6d",
      "2f0c18e1e9784d1792702f589ccc804c",
      "cd25d217d5214a7e83ebb0b756ce1d88",
      "a34243d642f447e4a98783d05f66b5a1",
      "67c5241ccc06466680a63e1af81a73e6",
      "bd70c709d45b484e8644d7eed0042705",
      "75fa5256533b41068a3ce175dae0eab9",
      "0db4939e03b44968b01dc260f34e8f2e",
      "62011d4bdcf24d9599eb3c8e617cf0f9",
      "69f10f81b9b2446ea71708fb61cf022a",
      "d7706570318a401181dc9c9bc7f588a5",
      "65c3365b4d1446bd8c6133adac217177",
      "2f7a4dfad4154727bf57e54912438d6e",
      "76de896d307248a1a757746bfbb545a4",
      "dd82b4d1fbff4579bd0cea16a0e97a0e",
      "ba53a7721fde49d2acb7e2cc78bde40b",
      "40acfb4890ca4be89b8a3c041d3f8397",
      "cff6cbe605254298950febd4d02d214f",
      "23b820e9f7bc4e579faf70ab4ae9e82e",
      "09597adae460420f9a1a633550b87dcc",
      "1933260b4a54413cb94094fec8d2b2de",
      "831633093ba94149b0e5ab7027d29eaa",
      "e730172c2f534adb94531f82a7ecb47e",
      "23e7993ee5364330960b4f50a7eb54ec",
      "c92645df9cab47ea96992b304bbe7397",
      "bae027a8d074468b8fc9b5c06d908a8a",
      "4d706874a44346a48615819465ead33d",
      "1295ca2970cc4e66bcf4baf9ba7f0cc4",
      "a4f3205237384ea997698c45919eec60",
      "7ded4af46a7a4e3eac8e9a45d0dca02b",
      "8a5077fc0ad148c5a22b322fa829aa00",
      "311a292042fc41cfb32ba75261d59058",
      "fb8600d85f794d52acf8eeb50904cb4f",
      "d42a9ce723184ec293711f152bda54d9",
      "57eefe3291fe420e9d31781c822f36e5",
      "6d2bbb4abebe49e890add2f6147abe12",
      "5f8825fc51234cbd89ffcd293a7ec1fb",
      "45f5f93025054c40949e16e0a0d5180a",
      "5d65015fe577440fad20ce340b19fa0f",
      "9c9ce38774554befbeeb064ecece2721",
      "be894a30b1c241bc93d0b3731c60ded1",
      "13a8c2b2f81d4883b2354c34ec1c4e2d",
      "25dbc853129840cf8393fe10e932643d",
      "e7b2a5271f4745ffba66534cd3d59520",
      "ef4381bf8afc44edacef4dac75cb6c68",
      "99edf28eaae04b7c96b1169acd4030db",
      "f3eab78a0ee64426928accfbb124b6a2",
      "d70b57076f42499482c86ea3207ed4ab",
      "65034104f5a544f4918facabf2e34d4f",
      "7044bd91dce04657881db5a67b5efe3f",
      "6aae33abe4434b47b1235b5d9b02b99c",
      "9b674153a4d54ab5a2728607a6b1ac73",
      "2b5041ab225b431ca07bef740ce979ce",
      "0bbf7510f00d4225b327ffc77cefa31e",
      "4a0de94998ec4f7c86685b4738019b52",
      "affd1708b219416281cc39366c6a1b20",
      "25a49718a286461ebdda509048460370",
      "38102c48fb5341558e83c2836f5d4c29",
      "e4a62a9b53304ddd9006bf0746ece6fe",
      "5d002ad8a0414e7791443b099762a7e7",
      "9207ffc68c2e47e3b189aead82604ca7",
      "775435f03fef446385f5c655bbe74560",
      "e29e922bc9224387b2a90bcfbb6c077a",
      "dbcc27b9bae641a4909ba87dd77bc835",
      "eb1a14d47bfb48a6969fd3ec0961fc46",
      "570cd4b885ca481caed1afae1c8fb551",
      "5b679888f7114585861341f17644f136"
     ]
    },
    "id": "cIkuPajNsWLp",
    "outputId": "7634bc75-3f6f-4b04-f55c-ebb31a4309ce"
   },
   "outputs": [
    {
     "name": "stderr",
     "output_type": "stream",
     "text": [
      "WARNING:pykeen.pipeline.api:No random seed is specified. Setting to 1415410123.\n",
      "INFO:pykeen.pipeline.api:Using device: None\n",
      "INFO:pykeen.nn.message_passing:No num_bases was provided. Using sqrt(num_relations)=4.\n",
      "INFO:pykeen.nn.message_passing:No num_bases was provided. Using sqrt(num_relations)=4.\n",
      "INFO:pykeen.nn.message_passing:No num_bases was provided. Using sqrt(num_relations)=4.\n",
      "INFO:pykeen.nn.message_passing:No num_bases was provided. Using sqrt(num_relations)=4.\n",
      "WARNING:pykeen.nn.message_passing:Layers RGCNLayer(\n",
      "  (fwd): BasesDecomposition(\n",
      "    (relation_representations): LowRankRepresentation(\n",
      "      (bases): Embedding(\n",
      "        (_embeddings): Embedding(4, 40000)\n",
      "      )\n",
      "    )\n",
      "  )\n",
      "  (bwd): BasesDecomposition(\n",
      "    (relation_representations): LowRankRepresentation(\n",
      "      (bases): Embedding(\n",
      "        (_embeddings): Embedding(4, 40000)\n",
      "      )\n",
      "    )\n",
      "  )\n",
      "  (self_loop): Linear(in_features=200, out_features=200, bias=True)\n",
      "  (dropout): Dropout(p=0.2, inplace=False)\n",
      ") has parameters, but no reset_parameters.\n",
      "WARNING:pykeen.nn.message_passing:Layers RGCNLayer(\n",
      "  (fwd): BasesDecomposition(\n",
      "    (relation_representations): LowRankRepresentation(\n",
      "      (bases): Embedding(\n",
      "        (_embeddings): Embedding(4, 40000)\n",
      "      )\n",
      "    )\n",
      "  )\n",
      "  (bwd): BasesDecomposition(\n",
      "    (relation_representations): LowRankRepresentation(\n",
      "      (bases): Embedding(\n",
      "        (_embeddings): Embedding(4, 40000)\n",
      "      )\n",
      "    )\n",
      "  )\n",
      "  (self_loop): Linear(in_features=200, out_features=200, bias=True)\n",
      "  (dropout): Dropout(p=0.2, inplace=False)\n",
      ") has parameters, but no reset_parameters.\n",
      "INFO:pykeen.stoppers.early_stopping:Inferred checkpoint path for best model weights: /root/.data/pykeen/checkpoints/best-model-weights-e6f197ef-988a-4898-a722-0154d1758c57.pt\n",
      "WARNING:pykeen.training.training_loop:Using RGCN without graph-based sampling! Please select sampler=\"schlichtkrull\" instead of None.\n",
      "WARNING:pykeen.training.training_loop:Using RGCN without graph-based sampling! Please select sampler=\"schlichtkrull\" instead of None.\n",
      "WARNING:pykeen.nn.message_passing:Layers RGCNLayer(\n",
      "  (fwd): BasesDecomposition(\n",
      "    (relation_representations): LowRankRepresentation(\n",
      "      (bases): Embedding(\n",
      "        (_embeddings): Embedding(4, 40000)\n",
      "      )\n",
      "    )\n",
      "  )\n",
      "  (bwd): BasesDecomposition(\n",
      "    (relation_representations): LowRankRepresentation(\n",
      "      (bases): Embedding(\n",
      "        (_embeddings): Embedding(4, 40000)\n",
      "      )\n",
      "    )\n",
      "  )\n",
      "  (self_loop): Linear(in_features=200, out_features=200, bias=True)\n",
      "  (dropout): Dropout(p=0.2, inplace=False)\n",
      ") has parameters, but no reset_parameters.\n",
      "WARNING:pykeen.nn.message_passing:Layers RGCNLayer(\n",
      "  (fwd): BasesDecomposition(\n",
      "    (relation_representations): LowRankRepresentation(\n",
      "      (bases): Embedding(\n",
      "        (_embeddings): Embedding(4, 40000)\n",
      "      )\n",
      "    )\n",
      "  )\n",
      "  (bwd): BasesDecomposition(\n",
      "    (relation_representations): LowRankRepresentation(\n",
      "      (bases): Embedding(\n",
      "        (_embeddings): Embedding(4, 40000)\n",
      "      )\n",
      "    )\n",
      "  )\n",
      "  (self_loop): Linear(in_features=200, out_features=200, bias=True)\n",
      "  (dropout): Dropout(p=0.2, inplace=False)\n",
      ") has parameters, but no reset_parameters.\n",
      "WARNING:pykeen.nn.message_passing:Layers RGCNLayer(\n",
      "  (fwd): BasesDecomposition(\n",
      "    (relation_representations): LowRankRepresentation(\n",
      "      (bases): Embedding(\n",
      "        (_embeddings): Embedding(4, 40000)\n",
      "      )\n",
      "    )\n",
      "  )\n",
      "  (bwd): BasesDecomposition(\n",
      "    (relation_representations): LowRankRepresentation(\n",
      "      (bases): Embedding(\n",
      "        (_embeddings): Embedding(4, 40000)\n",
      "      )\n",
      "    )\n",
      "  )\n",
      "  (self_loop): Linear(in_features=200, out_features=200, bias=True)\n",
      "  (dropout): Dropout(p=0.2, inplace=False)\n",
      ") has parameters, but no reset_parameters.\n",
      "WARNING:pykeen.nn.message_passing:Layers RGCNLayer(\n",
      "  (fwd): BasesDecomposition(\n",
      "    (relation_representations): LowRankRepresentation(\n",
      "      (bases): Embedding(\n",
      "        (_embeddings): Embedding(4, 40000)\n",
      "      )\n",
      "    )\n",
      "  )\n",
      "  (bwd): BasesDecomposition(\n",
      "    (relation_representations): LowRankRepresentation(\n",
      "      (bases): Embedding(\n",
      "        (_embeddings): Embedding(4, 40000)\n",
      "      )\n",
      "    )\n",
      "  )\n",
      "  (self_loop): Linear(in_features=200, out_features=200, bias=True)\n",
      "  (dropout): Dropout(p=0.2, inplace=False)\n",
      ") has parameters, but no reset_parameters.\n"
     ]
    },
    {
     "data": {
      "application/vnd.jupyter.widget-view+json": {
       "model_id": "212bbee6abb547a4871551add5ed7386",
       "version_major": 2,
       "version_minor": 0
      },
      "text/plain": [
       "Training epochs on cuda:0:   0%|          | 0/100 [00:00<?, ?epoch/s]"
      ]
     },
     "metadata": {},
     "output_type": "display_data"
    },
    {
     "data": {
      "application/vnd.jupyter.widget-view+json": {
       "model_id": "0528e9c5a39340fcabb7a8b40150f46b",
       "version_major": 2,
       "version_minor": 0
      },
      "text/plain": [
       "Training batches on cuda:0:   0%|          | 0/254 [00:00<?, ?batch/s]"
      ]
     },
     "metadata": {},
     "output_type": "display_data"
    },
    {
     "data": {
      "application/vnd.jupyter.widget-view+json": {
       "model_id": "c62db6a967da4f1aa7fea072aca929db",
       "version_major": 2,
       "version_minor": 0
      },
      "text/plain": [
       "Training batches on cuda:0:   0%|          | 0/254 [00:00<?, ?batch/s]"
      ]
     },
     "metadata": {},
     "output_type": "display_data"
    },
    {
     "data": {
      "application/vnd.jupyter.widget-view+json": {
       "model_id": "9abe509b78684b9ba7c00de0088a43bf",
       "version_major": 2,
       "version_minor": 0
      },
      "text/plain": [
       "Training batches on cuda:0:   0%|          | 0/254 [00:00<?, ?batch/s]"
      ]
     },
     "metadata": {},
     "output_type": "display_data"
    },
    {
     "data": {
      "application/vnd.jupyter.widget-view+json": {
       "model_id": "2288bc0c47fb49ad951cfecae5e29305",
       "version_major": 2,
       "version_minor": 0
      },
      "text/plain": [
       "Training batches on cuda:0:   0%|          | 0/254 [00:00<?, ?batch/s]"
      ]
     },
     "metadata": {},
     "output_type": "display_data"
    },
    {
     "data": {
      "application/vnd.jupyter.widget-view+json": {
       "model_id": "f780b4e429a64b62b0d66c153bf1fbb3",
       "version_major": 2,
       "version_minor": 0
      },
      "text/plain": [
       "Training batches on cuda:0:   0%|          | 0/254 [00:00<?, ?batch/s]"
      ]
     },
     "metadata": {},
     "output_type": "display_data"
    },
    {
     "data": {
      "application/vnd.jupyter.widget-view+json": {
       "model_id": "d20db98461ca4aad920c9839420578ed",
       "version_major": 2,
       "version_minor": 0
      },
      "text/plain": [
       "Training batches on cuda:0:   0%|          | 0/254 [00:00<?, ?batch/s]"
      ]
     },
     "metadata": {},
     "output_type": "display_data"
    },
    {
     "data": {
      "application/vnd.jupyter.widget-view+json": {
       "model_id": "d2d72f0220b74889a76a4be2ef491066",
       "version_major": 2,
       "version_minor": 0
      },
      "text/plain": [
       "Training batches on cuda:0:   0%|          | 0/254 [00:00<?, ?batch/s]"
      ]
     },
     "metadata": {},
     "output_type": "display_data"
    },
    {
     "data": {
      "application/vnd.jupyter.widget-view+json": {
       "model_id": "3bf34c3eb86941c5bda8a60f194206c3",
       "version_major": 2,
       "version_minor": 0
      },
      "text/plain": [
       "Training batches on cuda:0:   0%|          | 0/254 [00:00<?, ?batch/s]"
      ]
     },
     "metadata": {},
     "output_type": "display_data"
    },
    {
     "data": {
      "application/vnd.jupyter.widget-view+json": {
       "model_id": "5289b727c8a849069e3317076079285a",
       "version_major": 2,
       "version_minor": 0
      },
      "text/plain": [
       "Training batches on cuda:0:   0%|          | 0/254 [00:00<?, ?batch/s]"
      ]
     },
     "metadata": {},
     "output_type": "display_data"
    },
    {
     "data": {
      "application/vnd.jupyter.widget-view+json": {
       "model_id": "050d12893d5049dbaec80a1dc773c4c0",
       "version_major": 2,
       "version_minor": 0
      },
      "text/plain": [
       "Training batches on cuda:0:   0%|          | 0/254 [00:00<?, ?batch/s]"
      ]
     },
     "metadata": {},
     "output_type": "display_data"
    },
    {
     "name": "stderr",
     "output_type": "stream",
     "text": [
      "INFO:pykeen.evaluation.evaluator:Evaluation took 3.13s seconds\n",
      "INFO:pykeen.stoppers.early_stopping:New best result at epoch 10: 0.22894736842105262. Saved model weights to /root/.data/pykeen/checkpoints/best-model-weights-e6f197ef-988a-4898-a722-0154d1758c57.pt\n",
      "INFO:pykeen.training.training_loop:=> Saved checkpoint after having finished epoch 10.\n"
     ]
    },
    {
     "data": {
      "application/vnd.jupyter.widget-view+json": {
       "model_id": "112329f416f442b2abe147b83b3c333f",
       "version_major": 2,
       "version_minor": 0
      },
      "text/plain": [
       "Training batches on cuda:0:   0%|          | 0/254 [00:00<?, ?batch/s]"
      ]
     },
     "metadata": {},
     "output_type": "display_data"
    },
    {
     "data": {
      "application/vnd.jupyter.widget-view+json": {
       "model_id": "2f0c18e1e9784d1792702f589ccc804c",
       "version_major": 2,
       "version_minor": 0
      },
      "text/plain": [
       "Training batches on cuda:0:   0%|          | 0/254 [00:00<?, ?batch/s]"
      ]
     },
     "metadata": {},
     "output_type": "display_data"
    },
    {
     "data": {
      "application/vnd.jupyter.widget-view+json": {
       "model_id": "2f7a4dfad4154727bf57e54912438d6e",
       "version_major": 2,
       "version_minor": 0
      },
      "text/plain": [
       "Training batches on cuda:0:   0%|          | 0/254 [00:00<?, ?batch/s]"
      ]
     },
     "metadata": {},
     "output_type": "display_data"
    },
    {
     "data": {
      "application/vnd.jupyter.widget-view+json": {
       "model_id": "23e7993ee5364330960b4f50a7eb54ec",
       "version_major": 2,
       "version_minor": 0
      },
      "text/plain": [
       "Training batches on cuda:0:   0%|          | 0/254 [00:00<?, ?batch/s]"
      ]
     },
     "metadata": {},
     "output_type": "display_data"
    },
    {
     "data": {
      "application/vnd.jupyter.widget-view+json": {
       "model_id": "57eefe3291fe420e9d31781c822f36e5",
       "version_major": 2,
       "version_minor": 0
      },
      "text/plain": [
       "Training batches on cuda:0:   0%|          | 0/254 [00:00<?, ?batch/s]"
      ]
     },
     "metadata": {},
     "output_type": "display_data"
    },
    {
     "data": {
      "application/vnd.jupyter.widget-view+json": {
       "model_id": "99edf28eaae04b7c96b1169acd4030db",
       "version_major": 2,
       "version_minor": 0
      },
      "text/plain": [
       "Training batches on cuda:0:   0%|          | 0/254 [00:00<?, ?batch/s]"
      ]
     },
     "metadata": {},
     "output_type": "display_data"
    },
    {
     "data": {
      "application/vnd.jupyter.widget-view+json": {
       "model_id": "25a49718a286461ebdda509048460370",
       "version_major": 2,
       "version_minor": 0
      },
      "text/plain": [
       "Training batches on cuda:0:   0%|          | 0/254 [00:00<?, ?batch/s]"
      ]
     },
     "metadata": {},
     "output_type": "display_data"
    }
   ],
   "source": [
    "result = pipeline(\n",
    "    training=training,\n",
    "    testing=testing,\n",
    "    validation=validation,\n",
    "    model='RGCN',  # Specify RGCN model\n",
    "    model_kwargs={\n",
    "        'embedding_dim': 200,    # Set embedding dimensions\n",
    "        'num_layers': 2,         # Number of R-GCN layers\n",
    "    #    'interaction': 'DistMult' # Specify interaction function\n",
    "    },\n",
    "    training_kwargs={\n",
    "        'num_epochs': 100,       # Set the number of epochs\n",
    "    },\n",
    "    stopper='early'              # Use early stopping\n",
    ")"
   ]
  },
  {
   "cell_type": "code",
   "execution_count": null,
   "metadata": {
    "colab": {
     "base_uri": "https://localhost:8080/"
    },
    "id": "nfvGW3HJzYd3",
    "outputId": "5844187b-a819-4714-bb76-aaabde132caf"
   },
   "outputs": [
    {
     "name": "stdout",
     "output_type": "stream",
     "text": [
      "Model saved to /content/drive/MyDrive/Digital Twin Study/Mehmet Can/Models/02-150/02_150_trained_rgcn_model.pt\n"
     ]
    }
   ],
   "source": [
    "# Saving the model\n",
    "\n",
    "from pykeen.pipeline import pipeline\n",
    "from pykeen.models import RGCN\n",
    "import torch\n",
    "\n",
    "model = result.model\n",
    "\n",
    "model_path = '/content/drive/MyDrive/Digital Twin Study/Mehmet Can/Models/02-200/02_200_trained_rgcn_model.pt'\n",
    "torch.save(model.state_dict(), model_path)\n",
    "print(f\"Model saved to {model_path}\")"
   ]
  },
  {
   "cell_type": "code",
   "execution_count": null,
   "metadata": {
    "id": "gA1tObo45znr"
   },
   "outputs": [],
   "source": [
    "# Loading the model\n",
    "\n",
    "from pykeen.pipeline import pipeline\n",
    "from pykeen.models import RGCN\n",
    "import torch\n",
    "\n",
    "model_path = '/content/drive/MyDrive/Digital Twin Study/Mehmet Can/Models/02-200/02_200_trained_rgcn_model.pt'\n",
    "\n",
    "\n",
    "loaded_model = RGCN(\n",
    "    triples_factory=result.training,\n",
    "    embedding_dim=200,\n",
    "     num_layers=1,\n",
    "    interaction=\"DistMult\",\n",
    ")\n",
    "loaded_model.load_state_dict(torch.load(model_path))\n",
    "print(\"Model reloaded successfully\")"
   ]
  },
  {
   "cell_type": "markdown",
   "metadata": {
    "id": "45x72ruQxaYO"
   },
   "source": [
    "### Getting the Node Representations"
   ]
  },
  {
   "cell_type": "markdown",
   "metadata": {
    "id": "vsuOb28O0fH1"
   },
   "source": [
    "#### 01-100\n"
   ]
  },
  {
   "cell_type": "code",
   "execution_count": null,
   "metadata": {
    "id": "G3weew4F0j41"
   },
   "outputs": [],
   "source": [
    "# Saving the model representations as a NumPy array after training\n",
    "import numpy as np\n",
    "\n",
    "# trained_model = result.model\n",
    "trained_model = result.model\n",
    "node_embeddings = trained_model.entity_representations[0]\n",
    "node_embeddings_numpy = node_embeddings().cpu().detach().numpy()\n",
    "\n",
    "np.save('/content/drive/MyDrive/Digital Twin Study/Mehmet Can/Node Embeddings/01-100/node_embeddings_100_1.npy', node_embeddings_numpy)"
   ]
  },
  {
   "cell_type": "code",
   "execution_count": null,
   "metadata": {
    "colab": {
     "base_uri": "https://localhost:8080/"
    },
    "id": "8rRcObtL0r09",
    "outputId": "664ef9cf-98f8-4ff5-ffc7-0de1bff165bf"
   },
   "outputs": [
    {
     "name": "stdout",
     "output_type": "stream",
     "text": [
      "Node Embeddings Shape: (15518, 100)\n",
      "Embedding Dimension (from shape): 100\n",
      "Embedding for node \"C0000096\" (ID: 0): [-0.11289769  0.00999163 -0.39415392  0.19607046 -0.03759082 -0.20682581\n",
      " -0.08060362 -0.00707026  0.02205646  0.40811375 -0.365069    0.71018845\n",
      "  0.09294644  0.00217488 -0.1133211   0.4646202   0.3484602   0.51715726\n",
      "  0.17154676  0.39260274  0.837311    0.0165761   0.01905302 -0.6333302\n",
      " -0.01312902 -0.4055386   0.02670068 -0.35558492  0.4614056   0.43922892\n",
      "  0.03548956  0.08128919 -0.13223088 -0.3134276   0.19797435  0.00767466\n",
      " -0.11503783 -0.08591489 -0.21942385  0.40063524  0.2113705   0.24561095\n",
      " -0.3038859   0.34154826 -0.0185794   0.22447497  0.19757234  0.09893186\n",
      " -0.01112168  0.45918602  0.06952477 -0.4362905  -0.31074387  0.2011947\n",
      "  0.04621235  0.02038645 -0.18426879  0.2824593  -0.1117462   0.00733418\n",
      "  0.06038496 -0.22983168 -0.3435099   0.14704192 -0.2952311   0.8874371\n",
      "  0.07755027 -0.08342972  0.0484646   0.28922927 -0.00533857 -0.46373722\n",
      " -0.3478379   1.3388824   0.02153635  0.6712086   0.46212363 -0.40194708\n",
      "  0.41488826 -0.04068426  0.11291747 -0.08319984 -0.1285695   0.44850475\n",
      "  0.49618387  0.27070856  0.08107843  0.5249792   0.16547163 -0.4163248\n",
      " -0.45705095 -0.28704873  0.61507124  0.0214569  -0.5224638  -0.15093249\n",
      " -0.08224685 -0.97772676  0.885592    0.8722552 ]\n",
      "Embedding for node \"C0000097\" (ID: 1): [-1.1000749  -0.8659031  -0.6608771   0.41236064 -0.3796959  -0.00326498\n",
      "  0.32250783  0.8544708   0.21572545  0.64090246 -1.2463818   1.473733\n",
      " -0.40658572 -0.35382825 -0.12175652  0.37939352  0.31692386 -0.46089324\n",
      "  0.68852645  0.64731663  0.4069211  -0.08929911 -0.01550501 -1.0863484\n",
      " -0.26832762 -0.5462647  -0.4017653  -0.4113241  -0.19216117 -0.39595258\n",
      " -0.05357916  0.5336144  -0.65546966 -0.6838485   0.61768365  0.6377479\n",
      "  0.17763619  0.11508717 -0.78898704  0.482665   -0.5429092   0.40780854\n",
      "  0.29340476  0.8736542   0.09948687  0.5362484   0.553867    0.20039904\n",
      "  0.27216005 -0.2200594   0.12260626 -0.50346255 -0.83853644 -0.02321814\n",
      " -0.36179152 -0.35890248 -0.2555466   0.40999418 -0.37519833  0.14395706\n",
      "  0.7060253   0.04949583 -0.3466123  -0.5853642  -0.40937033  1.508074\n",
      "  0.6921474  -0.3488865   0.7234726  -0.47286168  0.00771224 -0.83541876\n",
      "  0.71628225  0.6031683   0.27806097  0.3440029   0.47874796 -0.6465432\n",
      "  0.62991214 -0.1955638   0.15546295  0.2736797  -0.4925141   0.17778543\n",
      "  0.94760716  0.61631507 -0.22949661  0.34877276  1.1330968  -0.68163526\n",
      " -0.6022275   0.44109267  0.03404793  0.21537206 -0.8532263   0.13818207\n",
      " -0.17479959 -0.90724474  0.80492383 -0.02915071]\n",
      "Embedding for node \"C0000167\" (ID: 2): [-4.73880231e-01  4.18811828e-01  7.62659609e-01 -1.69234335e-01\n",
      " -2.44055033e-01 -6.92267001e-01 -3.06427300e-01  9.42091749e-04\n",
      " -8.64183437e-03 -7.87407011e-02 -9.60617781e-01  2.52563715e-01\n",
      "  3.00582975e-01  2.73963392e-01 -5.10381937e-01  4.01439071e-01\n",
      "  3.25661391e-01 -6.27189636e-01  2.20164672e-01  1.79514259e-01\n",
      " -5.04151821e-01  8.17081928e-02 -1.34576276e-01 -1.89618632e-01\n",
      " -7.94622898e-02  9.57763866e-02  1.67879879e-01 -6.60077512e-01\n",
      " -7.71823645e-01  3.04876387e-01  4.17715788e-01  3.52312535e-01\n",
      " -5.52040339e-01 -1.13605487e+00  1.96801722e-01  6.60676181e-01\n",
      " -2.54533559e-01 -1.06056839e-01  2.64186710e-01  5.70057034e-01\n",
      "  1.03077002e-01 -1.63257495e-01  1.90654054e-01 -2.28747241e-02\n",
      "  1.59663364e-01  6.27814829e-02  4.96066242e-01  4.13480878e-01\n",
      " -5.82205236e-01 -4.42852050e-01  7.16652036e-01  5.68180904e-02\n",
      " -8.20304096e-01 -4.47475582e-01 -4.18329239e-01  6.50205836e-02\n",
      " -6.03542745e-01 -2.54657507e-01 -3.08122039e-01  8.28447580e-01\n",
      "  9.61136281e-01  5.29117644e-01  5.88410318e-01 -1.63540900e-01\n",
      "  1.51410744e-01  5.34360230e-01 -1.62937209e-01  3.19958746e-01\n",
      " -5.84879756e-01  4.67450321e-01 -5.09847879e-01 -8.09245825e-01\n",
      "  6.70131564e-01 -2.69737244e-01 -5.75204730e-01 -2.29867399e-01\n",
      "  7.81969309e-01 -1.75877735e-01 -1.36991451e-03  2.81016767e-01\n",
      "  5.65425098e-01  2.39356533e-02 -4.88355845e-01 -2.37470776e-01\n",
      "  1.13293044e-01  6.97499454e-01 -1.86101213e-01 -4.18509096e-02\n",
      "  8.39402199e-01 -2.34195739e-01  2.01632798e-01  2.47507423e-01\n",
      " -5.35982139e-02 -4.42287594e-01 -4.55932796e-01 -7.01358914e-02\n",
      " -5.87504506e-01  3.40352237e-01 -1.65648405e-02 -4.03822839e-01]\n",
      "Embedding for node \"C0000294\" (ID: 3): [-0.07193881  0.06230148  0.71721506  0.10547174 -0.4809086  -0.8445889\n",
      " -0.08381047 -0.1993528  -0.76361775 -0.8077493  -1.0187347  -0.95670795\n",
      "  0.44221136 -0.23744933 -0.87454945 -0.010902   -0.13042696 -0.96058035\n",
      "  0.17842437  0.01095861 -0.6581517   0.5079084  -0.8573065  -0.45619372\n",
      " -0.42914718  0.6703672  -0.02184629  0.11581567 -0.9227911   0.5201007\n",
      " -0.13192734  0.46002802 -0.54635954 -0.9797048   0.16029786  0.7374231\n",
      "  0.00558988 -0.36721507  0.43123975  0.13850464 -0.11413801 -0.3138929\n",
      "  0.20463681 -0.2420335   0.60772914 -0.46395427  0.7409449   0.23869257\n",
      "  0.17398103 -0.9166932  -0.07915057  0.21254633 -0.04974794 -0.00593816\n",
      " -0.55807334 -0.36114222 -0.25424105 -0.18135187  0.18108158  0.30133387\n",
      "  0.9727381   0.37670723  0.98533344 -0.44271952 -0.1490643   0.03448014\n",
      " -0.381311   -0.1820048  -0.75949275 -0.34119174  0.04290711 -0.13298278\n",
      "  0.43116143 -0.38192758 -0.1682233   0.2152544  -0.05553952 -0.11565945\n",
      "  0.15888695  0.02495172  0.40196255  0.5408484   0.04043293  0.28299442\n",
      " -1.0513469   0.5926869   0.9899152  -0.28652418 -0.5777081  -0.32558423\n",
      "  0.0055836  -0.5278204   0.3103713  -0.1324655  -0.8352268  -0.8672768\n",
      " -0.25275308  0.8091142   0.09108117 -1.0198181 ]\n",
      "Embedding for node \"C0000359\" (ID: 4): [-0.46983784  0.08877154 -0.04012423  0.12719676 -0.08958744 -0.46443936\n",
      " -0.07022756 -0.33048663  0.01935726  0.19069073 -0.3002481  -0.11992046\n",
      "  0.09130917  0.0178243  -0.23518434  0.21747285 -0.13643     0.19549696\n",
      " -0.05042843  0.4733016  -0.02391906  0.02262634  0.02143737 -0.311228\n",
      " -0.01369115 -0.47159636 -0.16447449 -0.37950242  0.13327812  0.43329868\n",
      "  0.21364748  0.52797985 -0.4302169  -0.4859207   0.2542127   0.11177184\n",
      " -0.42375344  0.02871216  0.3240647   0.37947023 -0.5666011  -0.05934206\n",
      "  0.11065271  0.17719717  0.00519638  0.31467465  0.6136303  -0.05629928\n",
      " -0.18634772 -0.04472453  0.29794413  0.15808979  0.07134923 -0.20497352\n",
      " -0.08501911 -0.08050172 -0.46645042  0.15297599 -0.27607065  0.2608501\n",
      "  0.526906    0.11550061  0.02968705  0.21112987 -0.04620135  0.03246132\n",
      "  0.4208357   0.36166742 -0.16933924  0.29656136 -0.01876866 -0.08062522\n",
      "  0.00539316  0.2465273  -0.33916497  0.408844    0.38841307 -0.06640801\n",
      "  0.04707366  0.08820388  0.24046811 -0.12875262 -0.05313838  0.24364531\n",
      "  0.52950245 -0.16382754 -0.07012599 -0.01899167 -0.08397998 -0.35322663\n",
      " -0.11900286  0.06048916  0.3418232  -0.07313918 -0.2258617   0.20279926\n",
      "  0.02567397 -0.3303501   0.33965996  0.11957432]\n"
     ]
    }
   ],
   "source": [
    "print(f'Node Embeddings Shape: {node_embeddings_numpy.shape}')\n",
    "\n",
    "print(f'Embedding Dimension (from shape): {node_embeddings().shape[1]}')  # This gives the embedding dimension\n",
    "\n",
    "\n",
    "node_names = list(result.training.entity_to_id.keys())  # Get node names\n",
    "for name in node_names[:5]:  # Print the first 5 node names and their embeddings\n",
    "    entity_id = result.training.entity_to_id[name]\n",
    "    print(f'Embedding for node \"{name}\" (ID: {entity_id}): {node_embeddings_numpy[entity_id]}')\n"
   ]
  },
  {
   "cell_type": "code",
   "execution_count": null,
   "metadata": {
    "colab": {
     "base_uri": "https://localhost:8080/"
    },
    "id": "TEHSeA5N3xUv",
    "outputId": "f3abf404-2a5e-454f-8c38-02b972552446"
   },
   "outputs": [
    {
     "name": "stdout",
     "output_type": "stream",
     "text": [
      "Node embeddings with names have been saved successfully.\n"
     ]
    }
   ],
   "source": [
    "# For saving the nodes as a csv file\n",
    "# Claude 3.5 Sonnet Part: 14.10.2024\n",
    "\n",
    "import numpy as np\n",
    "import csv\n",
    "import json\n",
    "\n",
    "node_names = list(result.training.entity_to_id.keys())\n",
    "\n",
    "trained_model = result.model\n",
    "node_embeddings = trained_model.entity_representations[0]\n",
    "node_embeddings_numpy = node_embeddings().cpu().detach().numpy()\n",
    "\n",
    "with open('/content/drive/MyDrive/Digital Twin Study/Mehmet Can/Node Embeddings/01-100/node_embeddings_100_1_with_names_array.csv', mode='w', newline='') as file:\n",
    "    writer = csv.writer(file)\n",
    "\n",
    "    # Write the header\n",
    "    writer.writerow(['Node Name', 'Embedding'])\n",
    "\n",
    "    # Write each node name and its corresponding embedding\n",
    "    for name in node_names:\n",
    "        entity_id = result.training.entity_to_id[name]\n",
    "        embedding = node_embeddings_numpy[entity_id]\n",
    "\n",
    "        # Convert the numpy array to a list and then to a JSON string\n",
    "        embedding_json = json.dumps(embedding.tolist())\n",
    "\n",
    "        # Write the node name and its embedding to the CSV\n",
    "        writer.writerow([name, embedding_json])\n",
    "\n",
    "print(\"Node embeddings with names have been saved successfully.\")"
   ]
  },
  {
   "cell_type": "markdown",
   "metadata": {
    "id": "9KsKXIelJMXX"
   },
   "source": [
    "#### 01-150"
   ]
  },
  {
   "cell_type": "code",
   "execution_count": null,
   "metadata": {
    "id": "qo3IpiMzJQAq"
   },
   "outputs": [],
   "source": [
    "# Saving the model representations as a NumPy array after training\n",
    "import numpy as np\n",
    "\n",
    "# trained_model = result.model\n",
    "trained_model = result.model\n",
    "node_embeddings = trained_model.entity_representations[0]\n",
    "node_embeddings_numpy = node_embeddings().cpu().detach().numpy()\n",
    "\n",
    "np.save('/content/drive/MyDrive/Digital Twin Study/Mehmet Can/Node Embeddings/01-150/node_embeddings_150_1.npy', node_embeddings_numpy)"
   ]
  },
  {
   "cell_type": "code",
   "execution_count": null,
   "metadata": {
    "colab": {
     "base_uri": "https://localhost:8080/"
    },
    "id": "7o8VtVseJiYY",
    "outputId": "55dd0cbf-cd74-4f00-e17f-1e4c87af0c1c"
   },
   "outputs": [
    {
     "name": "stdout",
     "output_type": "stream",
     "text": [
      "Node Embeddings Shape: (15518, 150)\n",
      "Embedding Dimension (from shape): 150\n",
      "Embedding for node \"C0000096\" (ID: 0): [-0.65645707 -0.35677192  0.04226214 -0.5761852  -0.04424713 -0.3136382\n",
      " -0.18982059  0.42088905  0.2067413   0.34918132 -0.15542683  0.09093646\n",
      " -0.04941174 -0.6316112   0.16140373  0.5102934  -0.40652403  0.3959045\n",
      "  0.2731803   0.1353044  -0.19180359 -0.02093718 -0.35321528  0.37403935\n",
      "  0.40576613 -0.14315224  0.23171075 -0.33504188 -0.23487385 -0.15755114\n",
      " -0.19873437 -0.2863714   0.2192438  -0.01706611 -0.18424726  0.06720024\n",
      " -0.09231669 -0.78592026 -0.26768875 -0.40341887  0.44765636  0.23036312\n",
      "  0.10213154 -0.22573395  0.24552006  0.4974863  -0.21962781  0.09780585\n",
      "  0.16321018 -0.2170775   0.36787277  0.4343975   0.2179236   0.04961491\n",
      " -0.09486363 -0.2507771   0.03253027  0.28903842 -0.55439746 -0.04602926\n",
      "  0.24576502  0.05057489 -0.01700646 -0.02531819 -0.541708    0.33237547\n",
      " -0.75003755 -0.08031674 -0.52622545  0.10108993  0.5384226  -0.4496648\n",
      " -0.06424493  0.4515588  -0.6180089   0.07892604 -0.11888836 -0.1811899\n",
      " -0.12028348 -0.32443216 -0.21519813  0.7810375  -0.3407969  -0.38494888\n",
      "  0.48162985  0.34315675 -0.28502864  0.10086067 -0.41505808 -0.03675507\n",
      " -0.6903735   0.23066136  0.15883103 -0.07430354 -0.0622166  -0.08030497\n",
      " -0.6381528   0.42418823 -0.16350776 -0.01584363 -0.6951709  -0.67516\n",
      " -0.10477986 -0.45829564 -0.2905658  -0.12153287 -0.11307907  0.17492713\n",
      " -0.17538421  0.55105454  0.06901063 -0.45026803  0.01343884 -0.23249009\n",
      " -0.14175987  0.10250947 -0.31759748 -0.48664126  0.25754517 -0.27853304\n",
      " -0.1962093  -0.03833051  0.21454464  0.00517179  0.18753868 -0.17576909\n",
      " -0.5530132   0.02138452  0.15375294 -0.32118475 -0.01104541 -0.1252158\n",
      " -0.38300484 -0.04759262 -0.3719177   0.12045902  0.43282342  0.02982555\n",
      "  0.6017343   0.47245747  0.11755995  0.3341378   0.09248798  0.19444709\n",
      " -0.1625381  -0.43285584 -0.71195316  0.3899929   0.03486188 -0.11692441]\n",
      "Embedding for node \"C0000097\" (ID: 1): [-0.08688307 -0.5127095  -0.35013267 -0.32338881 -0.3152078   0.07994954\n",
      " -0.30564457  0.1357547   0.24247111  0.32920137 -0.26956776 -0.09055889\n",
      "  0.30864567 -0.9549634   0.24857977  0.4713556  -0.29484844  0.07334356\n",
      "  0.28311846 -0.1800583  -0.41413698  0.12562275 -0.21976607  0.07693867\n",
      "  0.2717013  -0.15646726  0.17605929 -0.09295804 -0.1356973   0.3915789\n",
      "  0.11265303  0.2906374  -0.34562942  0.2543878   0.5212186   0.04385751\n",
      "  0.15190108 -0.16648889  0.7535104  -0.46905592 -0.79549646 -0.08616847\n",
      "  0.2053874   0.04097028 -0.14748068  0.15683785  0.00743732 -0.31082204\n",
      "  0.35745203  0.3393631   0.27374914  0.43311867 -0.6553826  -0.3819068\n",
      "  0.04462695  0.74221027 -0.2740513  -0.09952219 -0.352838   -0.11896769\n",
      "  0.53317434  0.5423114  -0.10343504  0.13535276 -0.08410408 -0.19822167\n",
      " -0.38938522  0.0408944  -0.3046752  -0.27027518  0.45179486 -0.22354065\n",
      "  0.07814288 -0.23190495  0.13079925  0.10923661  0.02058357  0.27757004\n",
      "  0.11217367 -0.43944913  0.0831283   0.2701363   0.17012167 -0.5951715\n",
      " -0.02659133  0.11617889 -0.31548873  0.17979667 -0.30854195 -0.04265726\n",
      " -0.58966875 -0.03313564  0.5300591   0.08639978  0.30137792 -0.14723825\n",
      "  0.19308741  0.26693934  0.43168575 -0.67848665 -0.5930653  -0.2821777\n",
      "  0.06611218 -0.1740205  -0.48140928  0.00902243 -0.3339707   0.26606727\n",
      "  0.03945093  0.25781897  0.00356202 -0.8564168   0.39829403 -0.17476761\n",
      "  0.22941703  0.14003235  0.16031659 -0.56283987 -0.03320579 -0.29391497\n",
      " -0.33446512  0.7688128   0.25549692  0.05072081  0.1772183  -0.33942923\n",
      "  0.40686426  0.5929516   0.2860012  -0.38125217  0.05332841  0.5025356\n",
      "  0.12261721  0.22154407  0.00462817  0.25539693  0.02629292 -0.27328438\n",
      "  0.55201644  0.12402739  0.492547   -0.4233823   0.44864944 -0.06877738\n",
      " -0.7865442  -0.28060767 -0.306842   -0.49850664  0.5594744   0.04826373]\n",
      "Embedding for node \"C0000167\" (ID: 2): [-0.15520023 -0.10307808  0.03229507 -0.4334001  -0.35263732  0.2314866\n",
      " -0.39106905 -0.08317626  0.6424675   0.4993125  -0.2078875  -0.15984517\n",
      " -0.5296206  -0.4375759   0.2694219   0.46861476 -0.3786875   0.10399756\n",
      "  0.23521991 -0.43842328  0.58445185 -0.29437068 -0.1402683   0.77260584\n",
      "  0.514654   -1.0536426   0.33386177 -0.31159076 -0.21312249  0.17113689\n",
      "  0.04111597  0.47155362  0.37962246  0.05463216 -0.1584503  -0.0474326\n",
      " -0.09195951 -0.29249606  0.28911605  0.12207713  0.5639527  -0.14092429\n",
      "  0.29480416 -0.5885568  -0.1485947  -0.39234373  0.12800278  0.01237357\n",
      "  0.67821306  0.14315167  0.08579649  0.916074    0.15316027 -0.49087256\n",
      " -0.12780406 -0.33254826  0.26949272  0.06623414 -0.8002272   0.12615615\n",
      "  0.1396944   0.18702787  0.10152761 -0.04941311 -0.49805638  0.6893669\n",
      "  0.40229002  0.2246816  -0.13973616 -0.22034575  0.33846     0.2990513\n",
      "  0.15723783  0.08719257  0.16772148 -0.49336308  0.68332696  0.16941923\n",
      "  0.30520463  0.05033436 -0.12848127  0.1391604  -0.42763668 -0.5196019\n",
      "  0.6306127   0.6664058  -0.52050006  0.32492676  0.42993098  0.6889084\n",
      " -0.29429117 -0.6342483  -0.26602903 -0.05759879 -0.28212973  0.46989837\n",
      " -0.58452326  0.02894424 -0.07118984  0.3148175  -0.341193   -0.6110203\n",
      " -0.31261402 -0.7885561   0.1696411   0.2920552   0.09449232 -0.12447513\n",
      " -0.12578817  0.3175168   0.03961964 -0.2594392   0.02975835 -0.27696168\n",
      "  0.45535344  0.12175524 -0.40704355 -0.07632319  0.05904741 -0.2942876\n",
      " -0.40928745 -0.24745747 -0.01930695 -0.00654189  0.02878155  0.21355322\n",
      " -0.04355505  0.55777097  0.52155006 -0.39102343 -0.290725    0.2022565\n",
      " -0.20231642  0.44395566 -0.18829674  0.15590414 -0.04427802  0.0125148\n",
      " -0.5279545   0.6057625  -0.06688353  0.57277316  0.5820568   0.08695104\n",
      " -0.20347494 -0.00303671 -0.41992092  0.10342339  0.01136905  0.10558859]\n",
      "Embedding for node \"C0000294\" (ID: 3): [-0.1623691  -0.12672107 -0.3269147  -0.26073167 -0.3016752  -0.17280987\n",
      " -0.3617856  -0.13679907  0.32461542  0.02801305  0.42957857 -0.21402027\n",
      "  0.15711008  0.14200103  0.02804467  0.65417564 -0.74552053  0.11145417\n",
      " -0.10371014  0.14079128  0.34162012 -0.18649417  0.09926537  0.706837\n",
      "  0.8483918  -0.13584821  0.45870286 -0.32489368  0.14306954  0.12258507\n",
      " -0.4426537  -0.5173234  -0.24622501  0.44848478  0.190076    0.07808682\n",
      "  0.2182637  -0.06102424  0.0340044  -0.20511913  0.18709786  0.07880837\n",
      "  0.11707631 -0.07064967 -0.33134076  0.0198875  -0.28640816  0.1848123\n",
      "  0.5578403   0.0668885   0.29175556  0.01886804  0.11325201  0.0908995\n",
      " -0.5735066  -0.2637609   0.11194972 -0.17924625 -0.8815787   0.5590407\n",
      "  0.29803333 -0.15438183  0.37568045  0.27892867 -0.82408535  0.77659434\n",
      "  0.02622027  0.46965635  0.06245029 -0.05151543  0.9346228  -0.17221025\n",
      "  0.19980708  0.04530405 -0.39845958 -0.36713627 -0.0649794  -0.075978\n",
      "  0.21316546 -0.3779497   0.29422876 -0.32487994 -0.13528666 -0.33332017\n",
      "  0.81355137  0.6645169   0.2846341   0.52842057 -0.3931794   0.15080436\n",
      "  0.17311868 -0.02505621 -0.09355353 -0.45895076 -0.19605725  0.00689516\n",
      " -0.24889782 -0.32419363  0.09699779 -0.27021468 -0.30367213 -0.57993484\n",
      " -0.0805157  -0.17253497  0.1994254   0.05261175 -0.13270389  0.25112012\n",
      "  0.06465829  0.42493492  0.41922256  0.1732405  -0.19427195 -0.26544437\n",
      " -0.29448524 -0.15573078 -0.35320893  0.03164873 -0.18839934  0.18090403\n",
      "  0.01910138 -0.16563615  0.05990935 -0.00687276 -0.23638222  0.14575927\n",
      " -0.06263187  0.06850171 -0.32906744 -0.26754507 -0.6099902   0.17641976\n",
      "  0.12814209 -0.13760762 -0.28822955  0.20911464  0.08551492 -0.07336915\n",
      " -0.360403    0.21632828 -0.05412998  0.29044753  0.41528198  0.12141626\n",
      "  0.08846397  0.17284393 -0.39356452  0.43457767 -0.09343441 -0.12704024]\n",
      "Embedding for node \"C0000359\" (ID: 4): [-0.77354187 -0.5805295   0.19000751 -0.6392813  -0.18741119  0.18948057\n",
      " -0.27678418  0.56548166  0.24585798  0.81493455 -0.3548497  -0.01076734\n",
      "  0.43197203 -1.3519735   0.41648436  0.6362918  -0.40656003  0.17528863\n",
      "  0.03693407  0.47241768 -0.18037096  0.08982396 -0.3706554   0.18270898\n",
      "  0.21006107 -0.18933699  0.11383891  0.08992462 -0.20183834  0.14493969\n",
      " -0.27951452  0.37465394  0.05247901  0.17654614  0.53548694 -0.21088092\n",
      "  0.61512214 -1.0253175   0.13413934 -0.17012988 -0.08149359  0.5560571\n",
      " -0.05696557 -0.03434678 -0.16340952 -0.00883215 -0.2217874  -0.46728376\n",
      "  0.28518075  0.1223222   0.9054163   0.49144843 -0.00591231  0.08166547\n",
      "  0.2637544  -0.32132292 -0.08775821  0.19607073 -0.5193056  -0.01914353\n",
      "  0.3057312   0.10832565  0.4077479   0.3352647  -0.28646222 -0.03896795\n",
      " -0.46169794  0.31252864 -0.6666423   0.03893805  0.40604478  0.15052879\n",
      " -0.04330519 -0.05111283 -0.8015577   0.09509522  0.09200733 -0.01186348\n",
      " -0.16193037 -0.37752366  0.10635592  0.8908572  -0.24842475 -0.04460165\n",
      "  0.14365885  0.09291906 -0.3887004  -0.05440003 -0.5915734   0.2861468\n",
      " -0.9705444   0.11779861  0.32374942 -0.1338365  -0.5309538  -0.35282204\n",
      " -0.25293425  0.9209982  -0.06335106 -0.20916513 -0.8035791  -0.7944895\n",
      " -0.07019249 -0.2587863  -0.60879564 -0.15658084 -0.3133686   0.0645367\n",
      " -0.27660108  0.60532707  0.06856205 -0.8739853  -0.04775727 -0.41165543\n",
      " -0.20800696 -0.04282194 -0.02319542 -0.5840025   0.31666657 -0.19441068\n",
      " -0.31142536  0.2614119   0.6322821  -0.02884979  0.20261498 -0.21152923\n",
      " -0.5809762   0.3915943  -0.15801279 -0.30866915 -0.1232008  -0.0257119\n",
      "  0.12750205  0.06254236 -0.05524034  0.45387128  0.32445714 -0.07697733\n",
      "  0.81936914  0.32573152  0.6823686   0.55217046  0.4140766   0.12479618\n",
      " -0.75476754 -0.63421214 -0.6320119  -0.34402323  0.41788277 -0.05623024]\n"
     ]
    }
   ],
   "source": [
    "print(f'Node Embeddings Shape: {node_embeddings_numpy.shape}')\n",
    "print(f'Embedding Dimension (from shape): {node_embeddings().shape[1]}')  # This gives the embedding dimension\n",
    "\n",
    "\n",
    "node_names = list(result.training.entity_to_id.keys())  # Get node names\n",
    "for name in node_names[:5]:  # Print the first 5 node names and their embeddings\n",
    "    entity_id = result.training.entity_to_id[name]\n",
    "    print(f'Embedding for node \"{name}\" (ID: {entity_id}): {node_embeddings_numpy[entity_id]}')\n"
   ]
  },
  {
   "cell_type": "code",
   "execution_count": null,
   "metadata": {
    "colab": {
     "base_uri": "https://localhost:8080/"
    },
    "id": "mQUYSJD4JmcV",
    "outputId": "8477a693-3240-42ac-f581-2a742d24feac"
   },
   "outputs": [
    {
     "name": "stdout",
     "output_type": "stream",
     "text": [
      "Node embeddings with names have been saved successfully.\n"
     ]
    }
   ],
   "source": [
    "# For saving the nodes as a csv file\n",
    "# Claude 3.5 Sonnet Part: 14.10.2024\n",
    "\n",
    "import numpy as np\n",
    "import csv\n",
    "import json\n",
    "\n",
    "node_names = list(result.training.entity_to_id.keys())\n",
    "\n",
    "trained_model = result.model\n",
    "node_embeddings = trained_model.entity_representations[0]\n",
    "node_embeddings_numpy = node_embeddings().cpu().detach().numpy()\n",
    "\n",
    "with open('/content/drive/MyDrive/Digital Twin Study/Mehmet Can/Node Embeddings/01-150/node_embeddings_150_1_with_names_array.csv', mode='w', newline='') as file:\n",
    "    writer = csv.writer(file)\n",
    "\n",
    "    # Write the header\n",
    "    writer.writerow(['Node Name', 'Embedding'])\n",
    "\n",
    "    # Write each node name and its corresponding embedding\n",
    "    for name in node_names:\n",
    "        entity_id = result.training.entity_to_id[name]\n",
    "        embedding = node_embeddings_numpy[entity_id]\n",
    "\n",
    "        # Convert the numpy array to a list and then to a JSON string\n",
    "        embedding_json = json.dumps(embedding.tolist())\n",
    "\n",
    "        # Write the node name and its embedding to the CSV\n",
    "        writer.writerow([name, embedding_json])\n",
    "\n",
    "print(\"Node embeddings with names have been saved successfully.\")"
   ]
  },
  {
   "cell_type": "markdown",
   "metadata": {
    "id": "FLlLlr5TdUQF"
   },
   "source": [
    "#### 01-200"
   ]
  },
  {
   "cell_type": "code",
   "execution_count": null,
   "metadata": {
    "id": "HN0PEm5MdYq5"
   },
   "outputs": [],
   "source": [
    "# Saving the model representations as a NumPy array after training\n",
    "import numpy as np\n",
    "\n",
    "# trained_model = result.model\n",
    "trained_model = result.model\n",
    "node_embeddings = trained_model.entity_representations[0]\n",
    "node_embeddings_numpy = node_embeddings().cpu().detach().numpy()\n",
    "\n",
    "np.save('/content/drive/MyDrive/Digital Twin Study/Mehmet Can/Node Embeddings/01-200/node_embeddings_200_1.npy', node_embeddings_numpy)"
   ]
  },
  {
   "cell_type": "code",
   "execution_count": null,
   "metadata": {
    "colab": {
     "base_uri": "https://localhost:8080/"
    },
    "id": "atQuQBtEdl3a",
    "outputId": "06a8bb64-61b5-49f1-dcab-0e625280ee48"
   },
   "outputs": [
    {
     "name": "stdout",
     "output_type": "stream",
     "text": [
      "Node Embeddings Shape: (15518, 200)\n",
      "Embedding Dimension (from shape): 200\n",
      "Embedding for node \"C0000096\" (ID: 0): [ 4.81862664e-01  1.15577251e-01 -3.89112830e-01 -1.16667032e-01\n",
      "  3.30075800e-01  3.41593295e-01  1.07627623e-01 -1.60101682e-01\n",
      "  1.73498198e-01 -4.65439856e-01 -2.24998221e-02 -2.09287062e-01\n",
      " -4.87710759e-02 -8.70119259e-02  9.54701364e-01 -1.53305739e-01\n",
      " -2.09575087e-01 -1.00276709e+00 -3.67170662e-01 -2.81005412e-01\n",
      " -4.34104234e-01 -2.92191118e-01 -2.55441070e-01  1.41325817e-01\n",
      "  1.14594489e-01  2.64843971e-01 -2.31377229e-01 -2.61286676e-01\n",
      " -3.68940830e-01  1.85181960e-01 -2.28712007e-01 -2.58183867e-01\n",
      "  4.79366392e-01  6.62248671e-01  6.65932298e-01  4.15172428e-04\n",
      " -7.38146603e-02 -2.45148629e-01 -1.24390692e-01 -2.07830563e-01\n",
      "  1.18526079e-01 -2.60365993e-01  1.84749827e-01  2.87288249e-01\n",
      "  6.48682639e-02 -2.48235270e-01 -3.55777666e-02  9.17391106e-02\n",
      " -1.69480443e-01  1.05122373e-01  5.45383990e-03  5.36244988e-01\n",
      "  5.51152825e-02 -1.00760065e-01  4.90192026e-01 -1.94802210e-01\n",
      " -4.06430066e-01 -1.46200314e-01  1.32371075e-02  5.21893978e-01\n",
      " -2.00003222e-01  2.96649009e-01  3.42485905e-01  1.73083633e-01\n",
      "  1.14193447e-01  1.83651343e-01  1.98718861e-01  3.59192938e-02\n",
      "  5.45713454e-02 -2.54723608e-01  1.36615306e-01 -3.57222050e-01\n",
      " -2.35712573e-01 -4.26118433e-01  6.86261505e-02  4.55841273e-02\n",
      "  4.41689849e-01 -1.09208971e-02  2.50008702e-01 -3.45544398e-01\n",
      " -4.86795485e-01 -2.41310105e-01 -1.90395728e-01 -2.30012849e-01\n",
      " -2.77802169e-01 -2.54846931e-01  3.45112801e-01 -1.05644000e+00\n",
      " -6.40897527e-02 -3.65343273e-01 -4.14707482e-01 -3.66867512e-01\n",
      "  2.23518331e-02 -3.01805109e-01  1.37092844e-01  7.19373450e-02\n",
      "  2.08244592e-01  1.18111044e-01  4.36910659e-01 -5.09665668e-01\n",
      "  6.25449181e-01  1.76942751e-01  5.64069092e-01  3.23461220e-02\n",
      "  4.14170399e-02 -3.85687321e-01 -2.37091467e-01  9.52443480e-02\n",
      "  4.71651644e-01 -1.74696490e-01  2.42404476e-01 -5.56060016e-01\n",
      "  1.10491574e-01  1.19449988e-01  4.99904573e-01 -4.43239033e-01\n",
      "  4.04626340e-01 -1.51695490e-01  3.03959846e-01 -1.40249804e-01\n",
      " -5.13998449e-01  3.13036323e-01 -1.88814715e-01  3.06249261e-01\n",
      "  3.10001314e-01  2.02679858e-01 -2.47379601e-01  9.45421979e-02\n",
      "  5.18471420e-01  9.04289782e-02 -2.40210444e-01  1.01309694e-01\n",
      "  6.04855344e-02 -4.07159507e-01  5.71160540e-02 -2.89245769e-02\n",
      " -5.28548837e-01 -1.68272227e-01  2.07836241e-01 -4.11487490e-01\n",
      "  2.14712679e-01  4.89723943e-02 -1.07190561e+00 -5.25897443e-02\n",
      "  1.60057381e-01  1.62310243e-01  4.65770960e-01 -5.98658025e-01\n",
      "  5.61712906e-02  2.40930080e-01 -1.65831506e-01  4.28284556e-01\n",
      " -1.32949218e-01 -1.36764571e-01  2.02005655e-01 -2.44021714e-01\n",
      " -3.17902565e-02 -1.48371607e-01  5.11959791e-01 -2.76645981e-02\n",
      "  1.73686072e-01  1.84492201e-01 -3.82420450e-01 -5.35283573e-02\n",
      "  2.12776050e-01 -3.13980907e-01 -5.92494011e-01  2.99311411e-02\n",
      " -4.94108588e-01  4.55256999e-01 -3.07901502e-01 -1.38559595e-01\n",
      " -2.69064903e-01  5.53648956e-02 -9.54556316e-02 -1.52497843e-01\n",
      " -5.63173413e-01  3.29537541e-01 -2.22807094e-01  3.14975679e-01\n",
      "  2.33243480e-01  1.55045718e-01 -4.88431215e-01  4.39484566e-01\n",
      " -7.23943889e-01 -5.72113693e-01 -2.03322873e-01  3.69005650e-03\n",
      "  1.20415747e-01  4.21414673e-01 -2.38092199e-01 -2.36557424e-01\n",
      " -5.96539140e-01  3.14550310e-01 -3.12887758e-01  1.27247006e-01\n",
      "  3.20773751e-01  2.08469853e-01  2.58754849e-01  7.85312831e-01]\n",
      "Embedding for node \"C0000097\" (ID: 1): [ 4.50521946e-01  9.74948168e-01 -1.16066389e-01 -4.51494232e-02\n",
      "  3.47919881e-01  2.77185738e-01  6.04574323e-01  9.72973853e-02\n",
      "  5.04884049e-02  5.74246883e-01  1.74848378e-01 -3.96519333e-01\n",
      "  9.87086222e-02  3.42494518e-01  1.59876537e+00  8.25354159e-02\n",
      "  5.48629165e-01 -8.94868612e-01 -6.56886518e-01 -4.45290431e-02\n",
      "  1.31008103e-01 -3.30007412e-02 -1.64247394e-01 -2.54035950e-01\n",
      "  7.99462125e-02 -4.68277156e-01 -6.11667573e-01  7.66730249e-01\n",
      "  2.07374632e-01 -1.98230088e-01 -8.30179155e-02 -3.93510669e-01\n",
      "  3.13102335e-01  7.59781063e-01  4.77311164e-01  1.19902819e-01\n",
      "  3.14297110e-01 -2.43279904e-01 -6.73067331e-01 -1.29422083e-01\n",
      "  2.89580464e-01  1.83077842e-01  1.74975514e-01  3.70446354e-01\n",
      " -1.94967300e-01  1.87373906e-03 -2.28245318e-01 -4.04534310e-01\n",
      " -2.76244462e-01  4.51404065e-01 -6.80048704e-01 -3.81317258e-01\n",
      " -4.54996049e-01 -5.00630200e-01  3.63493621e-01  2.60820717e-01\n",
      " -3.53208780e-01  2.88615853e-01 -8.26441646e-01  2.26301342e-01\n",
      " -2.11988389e-01  2.05909908e-01  5.77770025e-02  3.02871227e-01\n",
      " -1.19399279e-01 -1.04927629e-01 -5.46436459e-02 -5.84000945e-01\n",
      " -1.59976646e-01 -6.05137885e-01  7.57002831e-03  4.49450403e-01\n",
      " -8.25306952e-01  1.25980660e-01 -1.04992449e-01 -9.87426117e-02\n",
      "  2.34724909e-01 -8.36211443e-03  4.51624170e-02  4.16135073e-01\n",
      " -2.11905822e-01 -3.63133937e-01 -6.80497766e-01 -4.27912444e-01\n",
      "  6.61361217e-02 -1.98846534e-01  7.28995129e-02 -4.57045197e-01\n",
      "  1.68738902e-01 -9.56212915e-03 -1.87084511e-01 -8.72008801e-02\n",
      "  5.80501966e-02  3.19614261e-03 -2.46769443e-01 -4.49588150e-01\n",
      "  4.61958423e-02 -2.41082162e-01 -2.63638586e-01 -1.27671406e-01\n",
      "  8.88822258e-01  1.67905539e-01  2.01401711e-01  1.60173863e-01\n",
      " -5.56167126e-01 -1.99009255e-01  1.19572356e-02  6.18072867e-01\n",
      "  4.11657393e-01 -1.99804246e-01  2.54052132e-02 -3.70221287e-01\n",
      "  1.10906646e-01  1.21015668e+00  1.14422068e-02 -4.41763222e-01\n",
      "  7.68702924e-01 -1.45356342e-01 -3.16433787e-01  2.76210964e-01\n",
      "  6.97209656e-01 -6.00022525e-02 -1.91310018e-01  2.23915309e-01\n",
      "  1.87701181e-01  1.59616709e-01 -7.21365586e-03 -2.81478763e-01\n",
      "  4.18795228e-01 -3.42967629e-01  6.83066621e-02  5.14332175e-01\n",
      " -9.45544094e-02 -1.28602266e-01  1.74620390e-01 -1.34000435e-01\n",
      " -2.85520162e-02  1.38363302e-01  7.64755905e-01  3.06486413e-02\n",
      " -2.65041769e-01 -3.46559659e-03 -1.32332993e+00  3.36895406e-01\n",
      " -3.43766510e-01  6.46237552e-01  3.02302659e-01  9.84208100e-03\n",
      " -9.21976566e-03  2.98974693e-01  4.18328755e-02 -4.83445525e-01\n",
      " -6.08194768e-02 -5.95703602e-01 -5.18511415e-01 -1.86117291e-01\n",
      "  1.09373093e-01  1.52976319e-01  6.49684370e-01  2.80153185e-01\n",
      " -3.85954529e-01  5.80815315e-01 -1.21090844e-01  4.62317884e-01\n",
      " -2.26233929e-01  4.76648360e-01 -4.62974489e-01  2.42817342e-01\n",
      " -1.17737246e+00 -1.63203359e-01 -3.74760360e-01  4.87961382e-01\n",
      " -5.49535513e-01 -9.20655131e-02  2.13791445e-01  3.19334447e-01\n",
      " -3.11485559e-01  1.21058039e-01  5.75829625e-01  1.89671759e-02\n",
      " -1.27455747e+00 -4.22160506e-01 -3.24897528e-01  2.51300931e-01\n",
      " -1.12421036e+00 -2.21790448e-01  1.30454707e+00 -4.55303431e-01\n",
      "  5.41074388e-02  3.81263018e-01 -2.49119505e-01  2.01898694e-01\n",
      " -4.21590149e-01  3.67671907e-01 -3.18054348e-01 -9.57906246e-04\n",
      "  6.50467813e-01  2.39755407e-01  1.02234602e+00  7.80794561e-01]\n",
      "Embedding for node \"C0000167\" (ID: 2): [-0.11802469  0.5033663   0.2409811   0.12226698  0.675447   -0.9516406\n",
      "  0.4263044   0.2713562   0.77811074  0.13858469 -0.48357788  0.03948833\n",
      "  0.06182345  0.4080827  -0.3788884  -0.28088456 -0.36588824  0.3458051\n",
      "  0.00326471 -0.02358481  0.31289434 -0.04569514  0.22445555  0.13844758\n",
      "  0.5782764  -0.80958515 -0.21802893  0.16888885  0.10277992  0.8714858\n",
      "  0.36326772 -0.41799587  1.2356719  -0.11303987  0.7474133   0.07540315\n",
      "  0.40719032  0.60167384 -0.15798318 -0.47023594 -0.16528052 -0.21619189\n",
      " -0.30150324 -0.34720963 -0.14384261 -0.1240363  -0.17805769  0.8204729\n",
      " -0.06077995 -0.5929733   0.08987194 -0.62065476 -0.17653681 -0.14926429\n",
      " -0.08331513  0.3159033   0.13537541  1.0801104   0.21995804  0.94632983\n",
      " -0.29666692  0.16078003 -0.5085564   0.8482866   0.1193739  -0.07967679\n",
      " -0.30266094  0.0629512  -1.0323434  -0.7078181  -0.41715327  0.91395795\n",
      " -0.37799263  0.43514788 -0.3001695   0.8158134   0.65660673  0.0563484\n",
      "  0.07570811 -0.29544005 -0.24334839 -0.43370837 -0.15685074 -0.19040751\n",
      " -0.1733526   0.06638549  0.15599537  0.10003205  0.01118872  0.26993242\n",
      " -0.16636612 -0.13140643 -0.01333785  0.36476266 -0.5652268   0.29324585\n",
      "  0.2655394   0.09068452 -0.4709465  -0.13081193 -0.09288216  0.50407946\n",
      " -0.16177097 -0.25806493 -0.42768776  0.17310838  0.24387352  0.7039107\n",
      "  0.8226401   0.74421537  1.051042   -0.42688453 -0.01626039  0.45234582\n",
      " -0.54460514 -0.8014345  -0.1404131  -0.07913293 -0.6533975   0.25332665\n",
      "  0.32914746 -0.38347268  0.22040029  0.6650727  -0.49038616  0.2772955\n",
      "  0.15891644  0.26102424  0.43748656  0.16429132  0.09882013  0.12364049\n",
      " -0.12387481 -0.0025326   0.19688839  0.52814543  0.11250865  0.5536941\n",
      " -0.40275592  0.10022717 -0.2686428   0.15165442 -0.09097431  0.45488942\n",
      " -0.03748216  0.55353177 -0.16363093  0.469932    0.23513287  0.7602842\n",
      " -0.42256513 -0.08638885  0.14115843 -0.06877475  0.08694278  0.2633733\n",
      " -0.07096869 -0.42988214 -0.41974995  0.07231314 -0.13495208  0.44612658\n",
      "  0.9409234   0.87637764  0.23729047  0.5557774  -0.4618486   0.00382607\n",
      " -0.09987757 -0.47310612  0.07587884  0.10624001 -0.5928246   0.34145692\n",
      " -1.0171877  -0.05288209  0.72021335 -0.29896903  0.19207712  0.3506021\n",
      "  0.10613045 -0.80454504 -0.4013351   0.027302   -0.12853797 -0.78779596\n",
      "  0.29333276  0.4302714   0.4755638   0.7673868  -0.15655912  0.23138589\n",
      " -0.95791614  0.01850641  0.43527228 -0.42762882 -0.4250821   0.21173939\n",
      "  0.36201328  0.34986472]\n",
      "Embedding for node \"C0000294\" (ID: 3): [ 0.29776213 -0.17121269 -0.18805821 -0.4187995   0.74636674 -0.58986175\n",
      "  0.04670591 -0.27859825  0.42602453 -0.17373377 -0.3981074   0.28901625\n",
      "  0.05901427  0.21695963 -0.13418591 -0.12626837  0.09516752  0.14741436\n",
      "  0.11687739 -0.1497062  -0.10598586 -0.77020293  0.12996142  0.00421418\n",
      "  0.30609354 -0.35517022 -0.35380808 -0.17271782 -0.05973274  0.97613823\n",
      " -0.06741614  0.02963934  0.8500063  -0.06692944  0.71142465 -0.11248379\n",
      "  0.23298863  0.68004364 -0.0454531  -0.4467076   0.41576916 -0.4398396\n",
      "  0.19176267 -0.05922098  0.04549469 -0.02680957 -0.00524071  0.59342426\n",
      " -0.29748663 -0.11700675 -0.08703657 -0.09758434  0.26138002 -0.35508126\n",
      " -0.01057396  0.41897893 -0.15605485  0.5416886  -0.05512942  0.6966473\n",
      " -0.02892704  0.31912842 -0.28310868  0.6157212  -0.09046756  0.0231421\n",
      " -0.12966545  0.24293458 -1.0950054  -0.6640609  -0.33381766  0.7858064\n",
      " -0.11465208  0.2208312  -0.38117176  0.5434028   0.44507605 -0.02510193\n",
      "  0.1818404  -0.49198782 -0.00774463 -0.6992875   0.1781388   0.12042036\n",
      " -0.16479808  0.08517788  0.32584023  0.4215574   0.03450836  0.28552365\n",
      "  0.02436376 -0.30848426 -0.12387018 -0.11655172 -0.47960383 -0.22983104\n",
      "  0.43309253  0.28001276  0.4603936  -0.29821435  0.24105012  0.08385089\n",
      " -0.34010246 -0.13148752 -0.31334338 -0.20093688  0.05626394  0.5949993\n",
      "  0.5181116   0.53737724  0.63014334 -0.343183   -0.4979616   0.66102403\n",
      " -0.39423764 -0.49559653 -0.00755184 -0.45246857 -0.11055548  0.1621576\n",
      " -0.0901878  -0.4840328  -0.22083719  0.60211813 -0.27067012  0.05327908\n",
      "  0.14446604  0.21411861  0.42510703  0.3292888  -0.11553606 -0.05273648\n",
      " -0.33287758  0.15859856  0.02183931  0.14364174 -0.29616395  0.7121673\n",
      "  0.18304443 -0.1730415  -0.08782186  0.10712785 -0.13678844 -0.05231722\n",
      " -0.07430303  0.6652808   0.08882605  0.16473447  0.16126677  0.99032736\n",
      "  0.18181807  0.13019405 -0.29919043 -0.29899374 -0.04597274 -0.28821954\n",
      " -0.424294   -0.29032978 -0.09384079 -0.42108488 -0.00482471  0.36787462\n",
      "  0.6215689   0.7346564   0.31788668  0.20297518 -0.27289322 -0.11494045\n",
      "  0.06730039 -0.49639755  0.00328931  0.02809609 -0.20701778 -0.28399897\n",
      " -0.7259953  -0.00553438  0.03673342 -0.05045041 -0.19343254  0.43735504\n",
      "  0.05413485 -0.81824535 -0.31896207 -0.38229212 -0.19983211 -0.75210595\n",
      " -0.4633185   0.49939835  0.5232882   0.26306176 -0.01328168  0.27038065\n",
      " -0.9723127  -0.14263904  0.3489978  -0.0029302  -0.30477557  0.02288523\n",
      "  0.17770359  0.6111666 ]\n",
      "Embedding for node \"C0000359\" (ID: 4): [ 0.80091894  0.3366463  -0.32733762 -0.15330839  0.22063449 -0.16766319\n",
      " -0.00097496  0.09780194  0.50962013 -0.70382416 -0.31967938  0.25225294\n",
      " -0.04718295  0.35365444  0.5527694  -0.3409938   0.25076818 -0.5311318\n",
      " -0.31321427  0.01409699 -0.5005571  -0.4243006   0.00932383  0.04100174\n",
      "  0.24459362 -0.00823584 -0.19575498  0.04998085 -0.13957606  0.53758436\n",
      "  0.11466303 -0.42754441  0.48128042  0.19779791  0.74182343  0.48721138\n",
      "  0.04363909  0.28502285  0.17125882 -0.00897666 -0.15976432 -0.05021656\n",
      "  0.00985459 -0.12693422  0.09299669  0.13658185  0.06008331  0.46874848\n",
      " -0.10985161 -0.47926578  0.18854181  0.51643693 -0.0701703  -0.0896069\n",
      " -0.11150625 -0.00493436 -0.42869285  0.21614784  0.74243367  0.3725252\n",
      " -0.16742189  0.18765496  0.02200613  0.767456    0.1944088   0.09370008\n",
      "  0.34427428 -0.00295106 -0.34412494 -0.31709242 -0.23622936  0.15121293\n",
      " -0.39577618 -0.22019556  0.04684527  0.24978991  0.5515545  -0.29052582\n",
      "  0.38433906 -0.7024265  -0.0494829  -0.26721412  0.1754314  -0.14813116\n",
      " -0.3658494  -0.44582555  0.38044453 -0.64617735  0.35172874  0.08059076\n",
      " -0.4309157  -0.4577245   0.08761743  0.13744809 -0.03738702 -0.39479095\n",
      "  0.39156264  0.3163849   0.51340586 -0.32781345  0.05854955 -0.09104269\n",
      "  0.21319175 -0.22823016 -0.10964502  0.00357785 -0.05690531  0.1965677\n",
      "  0.5733011   0.39709458  0.3790637  -0.74025214  0.23923764 -0.05751622\n",
      "  0.3468135  -0.7829965   0.2684192   0.3760727   0.11153666  0.4236424\n",
      "  0.15821329 -0.39028904 -0.32439718  0.849406    0.14221194  0.05726385\n",
      "  0.02228968  0.28625512  0.3752898   0.1420865   0.06350394  0.10712931\n",
      " -0.2547328  -0.25614205  0.00406587  0.37903875 -0.27584237  0.3359101\n",
      " -0.11709014  0.06629791  0.12909622 -0.3249069  -0.69662696 -0.06804503\n",
      "  0.2491999   0.35625926  0.41194847 -0.00333233  0.08723696  0.5317536\n",
      " -0.7754655   0.10077857 -0.14132817 -0.49670175  0.09550756 -0.23605397\n",
      " -0.11752801 -0.1769627   0.69782734 -0.16178714 -0.11709912 -0.02779245\n",
      " -0.25274566  0.24928969  0.16535884 -0.08984163 -0.6823684  -0.32553935\n",
      " -0.7091563  -0.031377   -0.20803715 -0.30558187 -0.1873054  -0.04383613\n",
      " -0.5833219  -0.10653575 -0.06834912  0.36381513 -0.08464079  0.24387391\n",
      "  0.17518933 -0.04673565 -0.45825973  0.20636727 -0.48750553 -0.52273357\n",
      "  0.22545294 -0.11204515  0.52018964  0.8079403  -0.03857006 -0.17140946\n",
      " -0.51895964  0.14457536  0.35796326 -0.2990122  -0.05629856  0.17052925\n",
      "  0.04830603  0.5594688 ]\n"
     ]
    }
   ],
   "source": [
    "print(f'Node Embeddings Shape: {node_embeddings_numpy.shape}')\n",
    "print(f'Embedding Dimension (from shape): {node_embeddings().shape[1]}')  # This gives the embedding dimension\n",
    "\n",
    "\n",
    "node_names = list(result.training.entity_to_id.keys())  # Get node names\n",
    "for name in node_names[:5]:  # Print the first 5 node names and their embeddings\n",
    "    entity_id = result.training.entity_to_id[name]\n",
    "    print(f'Embedding for node \"{name}\" (ID: {entity_id}): {node_embeddings_numpy[entity_id]}')\n"
   ]
  },
  {
   "cell_type": "code",
   "execution_count": null,
   "metadata": {
    "colab": {
     "base_uri": "https://localhost:8080/"
    },
    "id": "vBHZx6VCdobP",
    "outputId": "e1af4a88-05f5-4a97-afb0-b9634ef8293c"
   },
   "outputs": [
    {
     "name": "stdout",
     "output_type": "stream",
     "text": [
      "Node embeddings with names have been saved successfully.\n"
     ]
    }
   ],
   "source": [
    "# For saving the nodes as a csv file\n",
    "# Claude 3.5 Sonnet Part: 14.10.2024\n",
    "\n",
    "import numpy as np\n",
    "import csv\n",
    "import json\n",
    "\n",
    "node_names = list(result.training.entity_to_id.keys())\n",
    "\n",
    "trained_model = result.model\n",
    "node_embeddings = trained_model.entity_representations[0]\n",
    "node_embeddings_numpy = node_embeddings().cpu().detach().numpy()\n",
    "\n",
    "with open('/content/drive/MyDrive/Digital Twin Study/Mehmet Can/Node Embeddings/01-200/node_embeddings_200_1_with_names_array.csv', mode='w', newline='') as file:\n",
    "    writer = csv.writer(file)\n",
    "\n",
    "    # Write the header\n",
    "    writer.writerow(['Node Name', 'Embedding'])\n",
    "\n",
    "    # Write each node name and its corresponding embedding\n",
    "    for name in node_names:\n",
    "        entity_id = result.training.entity_to_id[name]\n",
    "        embedding = node_embeddings_numpy[entity_id]\n",
    "\n",
    "        # Convert the numpy array to a list and then to a JSON string\n",
    "        embedding_json = json.dumps(embedding.tolist())\n",
    "\n",
    "        # Write the node name and its embedding to the CSV\n",
    "        writer.writerow([name, embedding_json])\n",
    "\n",
    "print(\"Node embeddings with names have been saved successfully.\")"
   ]
  },
  {
   "cell_type": "markdown",
   "metadata": {
    "id": "mfl4n-PA1pjO"
   },
   "source": [
    "### Getting the Drug Treatments"
   ]
  },
  {
   "cell_type": "code",
   "execution_count": null,
   "metadata": {
    "colab": {
     "base_uri": "https://localhost:8080/"
    },
    "id": "RaVHgmCF1tdY",
    "outputId": "3fddab32-bc7c-44fa-dacc-a53241a8861f"
   },
   "outputs": [
    {
     "name": "stdout",
     "output_type": "stream",
     "text": [
      "Total number of elements in SUBJECT_CUI: 7231\n",
      "Total number of elements in SUBJECT_CUI: 1244\n"
     ]
    }
   ],
   "source": [
    "import pandas as pd\n",
    "\n",
    "df = pd.read_csv('/content/drive/MyDrive/Digital Twin Study/Mehmet Can/Datasets/positive_dataset_repoDB.csv')\n",
    "\n",
    "total_elements_original = df.shape[0]\n",
    "\n",
    "df_unique = df.drop_duplicates(subset='OBJECT_CUI')\n",
    "df_unique = df_unique.rename(columns={'OBJECT_CUI': 'UNIQUE_DRUG'})\n",
    "\n",
    "# Collect drugs (SUBJECT_CUI) that treat each disease (OBJECT_CUI)\n",
    "# Group by 'OBJECT_CUI' and aggregate 'SUBJECT_CUI' into a list\n",
    "drug_treatments = df.groupby('OBJECT_CUI')['SUBJECT_CUI'].apply(list).reset_index()\n",
    "\n",
    "drug_treatments.to_csv('/content/drive/MyDrive/Digital Twin Study/Mehmet Can/Datasets/drug_treatments_dataset.csv', index=False)\n",
    "\n",
    "\n",
    "drug_treatments.head()\n",
    "\n",
    "total_subject_cui_count = drug_treatments['SUBJECT_CUI'].apply(len).sum()\n",
    "\n",
    "\n",
    "print(f\"Total number of elements in SUBJECT_CUI: {total_subject_cui_count}\")\n",
    "print(f\"Total number of elements in SUBJECT_CUI: {drug_treatments.shape[0]}\")"
   ]
  },
  {
   "cell_type": "markdown",
   "metadata": {
    "id": "rbVNpVuT15vl"
   },
   "source": [
    "### Statistics\n"
   ]
  },
  {
   "cell_type": "markdown",
   "metadata": {
    "id": "bMjVANH02UbP"
   },
   "source": [
    "#### 01. 100-01"
   ]
  },
  {
   "cell_type": "code",
   "execution_count": null,
   "metadata": {
    "colab": {
     "base_uri": "https://localhost:8080/"
    },
    "id": "9jcvAQhE2kmU",
    "outputId": "873bacf0-7098-4261-f61d-d3f166163ad3"
   },
   "outputs": [
    {
     "name": "stdout",
     "output_type": "stream",
     "text": [
      "Updated dataset saved to /content/drive/MyDrive/Digital Twin Study/Mehmet Can/Datasets/01-100/drugs_with_distances_and_similarities_100_01.csv\n",
      "  OBJECT_CUI                                        SUBJECT_CUI  \\\n",
      "0   C0000810                     [C0012471, C0012472, C0030095]   \n",
      "1   C0000880                                         [C0062648]   \n",
      "2   C0001126                                         [C0137996]   \n",
      "3   C0001144  [C0002607, C0002679, C0052761, C0008947, C0055...   \n",
      "4   C0001206                                         [C0023863]   \n",
      "\n",
      "                                 Euclidean_Distances  \\\n",
      "0  {('C0012471', 'C0012472'): 5.412913485405073, ...   \n",
      "1                                                 {}   \n",
      "2                                                 {}   \n",
      "3  {('C0002607', 'C0002679'): 10.712140264558668,...   \n",
      "4                                                 {}   \n",
      "\n",
      "                                 Manhattan_Distances  \\\n",
      "0  {('C0012471', 'C0012472'): 42.26382644288242, ...   \n",
      "1                                                 {}   \n",
      "2                                                 {}   \n",
      "3  {('C0002607', 'C0002679'): 84.1998733356595, (...   \n",
      "4                                                 {}   \n",
      "\n",
      "                                 Cosine_Similarities  \n",
      "0  {('C0012471', 'C0012472'): 0.8194393248685893,...  \n",
      "1                                                 {}  \n",
      "2                                                 {}  \n",
      "3  {('C0002607', 'C0002679'): 0.38723113401230125...  \n",
      "4                                                 {}  \n"
     ]
    }
   ],
   "source": [
    "# Calculate and add drug distances and add to the dataset 14.10.2024\n",
    "# Euclidian Distance - Manhattan Distance - Cosine Sim\n",
    "import pandas as pd\n",
    "import numpy as np\n",
    "import json\n",
    "import csv\n",
    "from scipy.spatial.distance import pdist, squareform\n",
    "from sklearn.metrics.pairwise import cosine_similarity\n",
    "\n",
    "def read_embeddings_from_csv(file_path):\n",
    "    embeddings_dict = {}\n",
    "    with open(file_path, mode='r') as file:\n",
    "        reader = csv.reader(file)\n",
    "        next(reader)  # Skip the header row\n",
    "        for row in reader:\n",
    "            if len(row) == 2:\n",
    "                name, embedding_json = row\n",
    "                embedding = np.array(json.loads(embedding_json))\n",
    "                embeddings_dict[name] = embedding\n",
    "    return embeddings_dict\n",
    "\n",
    "embeddings_file = '/content/drive/MyDrive/Digital Twin Study/Mehmet Can/Node Embeddings/01-100/node_embeddings_100_1_with_names_array.csv'\n",
    "embeddings = read_embeddings_from_csv(embeddings_file)\n",
    "\n",
    "drug_dataset_file = \"/content/drive/MyDrive/Digital Twin Study/Mehmet Can/Datasets/drug_treatments_dataset.csv\"\n",
    "drug_df = pd.read_csv(drug_dataset_file)\n",
    "\n",
    "def calculate_drug_metrics(drug_list):\n",
    "    if len(drug_list) < 2:\n",
    "        return {}, {}, {}  # Return empty dicts if there's only one or no drugs\n",
    "\n",
    "    drug_embeddings = [embeddings.get(drug, []) for drug in drug_list]\n",
    "\n",
    "    valid_drugs = [drug for drug, emb in zip(drug_list, drug_embeddings) if len(emb) > 0]\n",
    "    valid_embeddings = [emb for emb in drug_embeddings if len(emb) > 0]\n",
    "\n",
    "    if len(valid_drugs) < 2:\n",
    "        return {}, {}, {}  # Return empty dicts if there aren't at least 2 valid drugs\n",
    "\n",
    "    euclidean_distances = pdist(valid_embeddings, metric='euclidean')\n",
    "    manhattan_distances = pdist(valid_embeddings, metric='cityblock')  # 'cityblock' is Manhattan distance\n",
    "\n",
    "    cosine_similarities = cosine_similarity(valid_embeddings)\n",
    "\n",
    "    euclidean_matrix = squareform(euclidean_distances)\n",
    "    manhattan_matrix = squareform(manhattan_distances)\n",
    "\n",
    "    euclidean_dict = {}\n",
    "    manhattan_dict = {}\n",
    "    cosine_dict = {}\n",
    "    for i in range(len(valid_drugs)):\n",
    "        for j in range(i+1, len(valid_drugs)):\n",
    "            pair = tuple(sorted([valid_drugs[i], valid_drugs[j]]))\n",
    "            euclidean_dict[pair] = euclidean_matrix[i, j]\n",
    "            manhattan_dict[pair] = manhattan_matrix[i, j]\n",
    "            cosine_dict[pair] = cosine_similarities[i, j]\n",
    "\n",
    "    return euclidean_dict, manhattan_dict, cosine_dict\n",
    "\n",
    "# Apply the function to each row and add the results as new columns\n",
    "drug_df['SUBJECT_CUI'] = drug_df['SUBJECT_CUI'].apply(eval)  # Convert string representation of list to actual list\n",
    "drug_df['Euclidean_Distances'], drug_df['Manhattan_Distances'], drug_df['Cosine_Similarities'] = zip(*drug_df['SUBJECT_CUI'].apply(calculate_drug_metrics))\n",
    "\n",
    "# Save the updated DataFrame\n",
    "output_file = \"/content/drive/MyDrive/Digital Twin Study/Mehmet Can/Datasets/01-100/drugs_with_distances_and_similarities_100_01.csv\"\n",
    "drug_df.to_csv(output_file, index=False)\n",
    "\n",
    "print(f\"Updated dataset saved to {output_file}\")\n",
    "\n",
    "# Display a sample of the results\n",
    "print(drug_df[['OBJECT_CUI', 'SUBJECT_CUI', 'Euclidean_Distances', 'Manhattan_Distances', 'Cosine_Similarities']].head())"
   ]
  },
  {
   "cell_type": "markdown",
   "metadata": {
    "id": "xPOkAhKF5ELi"
   },
   "source": [
    "##### Euclidean\n"
   ]
  },
  {
   "cell_type": "code",
   "execution_count": null,
   "metadata": {
    "id": "HiQwoWLW5DnW"
   },
   "outputs": [],
   "source": [
    "# 21.10.2024 - Statistical Metrics - Embedding Dim: 100 - One layer Implementation\n",
    "\n",
    "import pandas as pd\n",
    "import matplotlib.pyplot as plt\n",
    "import seaborn as sns\n",
    "import ast\n",
    "import numpy as np\n",
    "\n",
    "file_path = \"/content/drive/MyDrive/Digital Twin Study/Mehmet Can/Datasets/01-100/drugs_with_distances_and_similarities_100_01.csv\"\n",
    "df = pd.read_csv(file_path)\n",
    "\n",
    "# Function to extract distance values from the dictionary string\n",
    "def extract_distances(distance_dict):\n",
    "    # Convert string representation of dict to actual dict\n",
    "    distance_dict = ast.literal_eval(distance_dict)\n",
    "    return list(distance_dict.values())\n",
    "\n",
    "# Extract all distance values\n",
    "all_distances = df['Euclidean_Distances'].apply(extract_distances).explode().dropna().tolist()\n",
    "\n",
    "# Calculate statistics\n",
    "max_dist = np.max(all_distances)\n",
    "min_dist = np.min(all_distances)\n",
    "median_dist = np.median(all_distances)\n",
    "mean_dist = np.mean(all_distances)\n",
    "\n",
    "# Set up the matplotlib figure\n",
    "plt.figure(figsize=(15, 15))\n",
    "\n",
    "# 1. Bar Chart\n",
    "plt.subplot(2, 2, 1)\n",
    "plt.bar(['Max', 'Min', 'Median', 'Mean'], [max_dist, min_dist, median_dist, mean_dist])\n",
    "plt.title('Statistics of Euclidean Distances')\n",
    "plt.ylabel('Distance')\n",
    "\n",
    "# 2. Distribution Graph (Histogram)\n",
    "plt.subplot(2, 2, 2)\n",
    "sns.histplot(all_distances, kde=True)\n",
    "plt.title('Distribution of Euclidean Distances')\n",
    "plt.xlabel('Distance')\n",
    "plt.ylabel('Frequency')\n",
    "\n",
    "# 3. Box Plot\n",
    "plt.subplot(2, 2, 3)\n",
    "sns.boxplot(y=all_distances)\n",
    "plt.title('Box Plot of Euclidean Distances')\n",
    "plt.ylabel('Distance')\n",
    "\n",
    "\n",
    "total_values = len(all_distances)\n",
    "values_above_mean = sum(1 for x in all_distances if x > mean_dist)\n",
    "values_above_median = sum(1 for x in all_distances if x > median_dist)\n",
    "\n",
    "percentage_above_mean = (values_above_mean / total_values) * 100\n",
    "percentage_above_median = (values_above_median / total_values) * 100\n",
    "\n",
    "plt.subplot(2, 2, 4)\n",
    "plt.text(0.1, 0.9, f'Max: {max_dist:.4f}', fontsize=12, transform=plt.gca().transAxes)\n",
    "plt.text(0.1, 0.8, f'Min: {min_dist:.4f}', fontsize=12, transform=plt.gca().transAxes)\n",
    "plt.text(0.1, 0.7, f'Median: {median_dist:.4f}', fontsize=12, transform=plt.gca().transAxes)\n",
    "plt.text(0.1, 0.6, f'Mean: {mean_dist:.4f}', fontsize=12, transform=plt.gca().transAxes)\n",
    "plt.text(0.1, 0.5, f'Total Values: {total_values:,}', fontsize=12, transform=plt.gca().transAxes)\n",
    "plt.text(0.1, 0.4, f'Above Mean: {values_above_mean:,} ({percentage_above_mean:.2f}%)',\n",
    "         fontsize=12, transform=plt.gca().transAxes)\n",
    "plt.text(0.1, 0.3, f'Above Median: {values_above_median:,} ({percentage_above_median:.2f}%)',\n",
    "         fontsize=12, transform=plt.gca().transAxes)\n",
    "plt.axis('off')\n",
    "plt.title('Statistical Metrics')\n",
    "\n",
    "\n",
    "\n",
    "# Adjust layout and save the figure\n",
    "plt.tight_layout()\n",
    "plt.savefig('/content/drive/MyDrive/Digital Twin Study/Mehmet Can/Visualizations/Euclidean_Distances_01-100.png')\n",
    "plt.close()\n",
    "\n",
    "# Print statistics\n"
   ]
  },
  {
   "cell_type": "markdown",
   "metadata": {
    "id": "sx4N7Gxb5HW7"
   },
   "source": [
    "##### Manhattan"
   ]
  },
  {
   "cell_type": "code",
   "execution_count": null,
   "metadata": {
    "id": "JFo55zog6zij"
   },
   "outputs": [],
   "source": [
    "# 21.10.2024 - Statistical Metrics - Embedding Dim: 100 - One layer Implementation\n",
    "\n",
    "import pandas as pd\n",
    "import matplotlib.pyplot as plt\n",
    "import seaborn as sns\n",
    "import ast\n",
    "import numpy as np\n",
    "\n",
    "file_path = \"/content/drive/MyDrive/Digital Twin Study/Mehmet Can/Datasets/01-100/drugs_with_distances_and_similarities_100_01.csv\"\n",
    "df = pd.read_csv(file_path)\n",
    "\n",
    "# Function to extract distance values from the dictionary string\n",
    "def extract_distances(distance_dict):\n",
    "    # Convert string representation of dict to actual dict\n",
    "    distance_dict = ast.literal_eval(distance_dict)\n",
    "    return list(distance_dict.values())\n",
    "\n",
    "# Extract all distance values\n",
    "all_distances = df['Manhattan_Distances'].apply(extract_distances).explode().dropna().tolist()\n",
    "\n",
    "# Calculate statistics\n",
    "max_dist = np.max(all_distances)\n",
    "min_dist = np.min(all_distances)\n",
    "median_dist = np.median(all_distances)\n",
    "mean_dist = np.mean(all_distances)\n",
    "\n",
    "# Set up the matplotlib figure\n",
    "plt.figure(figsize=(15, 15))\n",
    "\n",
    "# 1. Bar Chart\n",
    "plt.subplot(2, 2, 1)\n",
    "plt.bar(['Max', 'Min', 'Median', 'Mean'], [max_dist, min_dist, median_dist, mean_dist])\n",
    "plt.title('Statistics of Manhattan Distances')\n",
    "plt.ylabel('Distance')\n",
    "\n",
    "# 2. Distribution Graph (Histogram)\n",
    "plt.subplot(2, 2, 2)\n",
    "sns.histplot(all_distances, kde=True)\n",
    "plt.title('Distribution of Manhattan Distances')\n",
    "plt.xlabel('Distance')\n",
    "plt.ylabel('Frequency')\n",
    "\n",
    "# 3. Box Plot\n",
    "plt.subplot(2, 2, 3)\n",
    "sns.boxplot(y=all_distances)\n",
    "plt.title('Box Plot of Manhattan Distances')\n",
    "plt.ylabel('Distance')\n",
    "\n",
    "\n",
    "total_values = len(all_distances)\n",
    "values_above_mean = sum(1 for x in all_distances if x > mean_dist)\n",
    "values_above_median = sum(1 for x in all_distances if x > median_dist)\n",
    "\n",
    "percentage_above_mean = (values_above_mean / total_values) * 100\n",
    "percentage_above_median = (values_above_median / total_values) * 100\n",
    "\n",
    "plt.subplot(2, 2, 4)\n",
    "plt.text(0.1, 0.9, f'Max: {max_dist:.4f}', fontsize=12, transform=plt.gca().transAxes)\n",
    "plt.text(0.1, 0.8, f'Min: {min_dist:.4f}', fontsize=12, transform=plt.gca().transAxes)\n",
    "plt.text(0.1, 0.7, f'Median: {median_dist:.4f}', fontsize=12, transform=plt.gca().transAxes)\n",
    "plt.text(0.1, 0.6, f'Mean: {mean_dist:.4f}', fontsize=12, transform=plt.gca().transAxes)\n",
    "plt.text(0.1, 0.5, f'Total Values: {total_values:,}', fontsize=12, transform=plt.gca().transAxes)\n",
    "plt.text(0.1, 0.4, f'Above Mean: {values_above_mean:,} ({percentage_above_mean:.2f}%)',\n",
    "         fontsize=12, transform=plt.gca().transAxes)\n",
    "plt.text(0.1, 0.3, f'Above Median: {values_above_median:,} ({percentage_above_median:.2f}%)',\n",
    "         fontsize=12, transform=plt.gca().transAxes)\n",
    "plt.axis('off')\n",
    "plt.title('Statistical Metrics')\n",
    "\n",
    "\n",
    "\n",
    "# Adjust layout and save the figure\n",
    "plt.tight_layout()\n",
    "plt.savefig('/content/drive/MyDrive/Digital Twin Study/Mehmet Can/Visualizations/Manhattan_Distances_01-100.png')\n",
    "plt.close()\n",
    "\n",
    "# Print statistics\n"
   ]
  },
  {
   "cell_type": "markdown",
   "metadata": {
    "id": "8pBjjhUq5JBc"
   },
   "source": [
    "##### Cosine"
   ]
  },
  {
   "cell_type": "code",
   "execution_count": null,
   "metadata": {
    "id": "2tPD6wdT7Koa"
   },
   "outputs": [],
   "source": [
    "# 21.10.2024 - Statistical Metrics - Embedding Dim: 100 - One layer Implementation\n",
    "\n",
    "import pandas as pd\n",
    "import matplotlib.pyplot as plt\n",
    "import seaborn as sns\n",
    "import ast\n",
    "import numpy as np\n",
    "\n",
    "file_path = \"/content/drive/MyDrive/Digital Twin Study/Mehmet Can/Datasets/01-100/drugs_with_distances_and_similarities_100_01.csv\"\n",
    "df = pd.read_csv(file_path)\n",
    "\n",
    "# Function to extract distance values from the dictionary string\n",
    "def extract_distances(distance_dict):\n",
    "    # Convert string representation of dict to actual dict\n",
    "    distance_dict = ast.literal_eval(distance_dict)\n",
    "    return list(distance_dict.values())\n",
    "\n",
    "# Extract all distance values\n",
    "all_distances = df['Cosine_Similarities'].apply(extract_distances).explode().dropna().tolist()\n",
    "\n",
    "# Calculate statistics\n",
    "max_dist = np.max(all_distances)\n",
    "min_dist = np.min(all_distances)\n",
    "median_dist = np.median(all_distances)\n",
    "mean_dist = np.mean(all_distances)\n",
    "\n",
    "# Set up the matplotlib figure\n",
    "plt.figure(figsize=(15, 15))\n",
    "\n",
    "# 1. Bar Chart\n",
    "plt.subplot(2, 2, 1)\n",
    "plt.bar(['Max', 'Min', 'Median', 'Mean'], [max_dist, min_dist, median_dist, mean_dist])\n",
    "plt.title('Statistics of Cosine Similarities')\n",
    "plt.ylabel('Distance')\n",
    "\n",
    "# 2. Distribution Graph (Histogram)\n",
    "plt.subplot(2, 2, 2)\n",
    "sns.histplot(all_distances, kde=True)\n",
    "plt.title('Distribution of Cosine Similarities')\n",
    "plt.xlabel('Distance')\n",
    "plt.ylabel('Frequency')\n",
    "\n",
    "# 3. Box Plot\n",
    "plt.subplot(2, 2, 3)\n",
    "sns.boxplot(y=all_distances)\n",
    "plt.title('Box Plot of Cosine Similarities')\n",
    "plt.ylabel('Distance')\n",
    "\n",
    "\n",
    "total_values = len(all_distances)\n",
    "values_above_mean = sum(1 for x in all_distances if x > mean_dist)\n",
    "values_above_median = sum(1 for x in all_distances if x > median_dist)\n",
    "\n",
    "percentage_above_mean = (values_above_mean / total_values) * 100\n",
    "percentage_above_median = (values_above_median / total_values) * 100\n",
    "\n",
    "plt.subplot(2, 2, 4)\n",
    "plt.text(0.1, 0.9, f'Max: {max_dist:.4f}', fontsize=12, transform=plt.gca().transAxes)\n",
    "plt.text(0.1, 0.8, f'Min: {min_dist:.4f}', fontsize=12, transform=plt.gca().transAxes)\n",
    "plt.text(0.1, 0.7, f'Median: {median_dist:.4f}', fontsize=12, transform=plt.gca().transAxes)\n",
    "plt.text(0.1, 0.6, f'Mean: {mean_dist:.4f}', fontsize=12, transform=plt.gca().transAxes)\n",
    "plt.text(0.1, 0.5, f'Total Values: {total_values:,}', fontsize=12, transform=plt.gca().transAxes)\n",
    "plt.text(0.1, 0.4, f'Above Mean: {values_above_mean:,} ({percentage_above_mean:.2f}%)',\n",
    "         fontsize=12, transform=plt.gca().transAxes)\n",
    "plt.text(0.1, 0.3, f'Above Median: {values_above_median:,} ({percentage_above_median:.2f}%)',\n",
    "         fontsize=12, transform=plt.gca().transAxes)\n",
    "plt.axis('off')\n",
    "plt.title('Statistical Metrics')\n",
    "\n",
    "\n",
    "\n",
    "# Adjust layout and save the figure\n",
    "plt.tight_layout()\n",
    "plt.savefig('/content/drive/MyDrive/Digital Twin Study/Mehmet Can/Visualizations/Cosine_Similarities_01-100.png')\n",
    "plt.close()\n",
    "\n",
    "# Print statistics\n"
   ]
  },
  {
   "cell_type": "markdown",
   "metadata": {
    "id": "CJm5ItKSJ5wZ"
   },
   "source": [
    "#### 02. 150-01"
   ]
  },
  {
   "cell_type": "code",
   "execution_count": null,
   "metadata": {
    "colab": {
     "base_uri": "https://localhost:8080/"
    },
    "id": "likXtZnLKQEf",
    "outputId": "2b838913-2cee-41b2-eeef-9290cab72d7b"
   },
   "outputs": [
    {
     "name": "stdout",
     "output_type": "stream",
     "text": [
      "Updated dataset saved to /content/drive/MyDrive/Digital Twin Study/Mehmet Can/Datasets/01-150/drugs_with_distances_and_similarities_150_01.csv\n",
      "  OBJECT_CUI                                        SUBJECT_CUI  \\\n",
      "0   C0000810                     [C0012471, C0012472, C0030095]   \n",
      "1   C0000880                                         [C0062648]   \n",
      "2   C0001126                                         [C0137996]   \n",
      "3   C0001144  [C0002607, C0002679, C0052761, C0008947, C0055...   \n",
      "4   C0001206                                         [C0023863]   \n",
      "\n",
      "                                 Euclidean_Distances  \\\n",
      "0  {('C0012471', 'C0012472'): 5.628151803946335, ...   \n",
      "1                                                 {}   \n",
      "2                                                 {}   \n",
      "3  {('C0002607', 'C0002679'): 10.516206011606151,...   \n",
      "4                                                 {}   \n",
      "\n",
      "                                 Manhattan_Distances  \\\n",
      "0  {('C0012471', 'C0012472'): 55.38754403684288, ...   \n",
      "1                                                 {}   \n",
      "2                                                 {}   \n",
      "3  {('C0002607', 'C0002679'): 100.65476095862687,...   \n",
      "4                                                 {}   \n",
      "\n",
      "                                 Cosine_Similarities  \n",
      "0  {('C0012471', 'C0012472'): 0.8054202121641572,...  \n",
      "1                                                 {}  \n",
      "2                                                 {}  \n",
      "3  {('C0002607', 'C0002679'): 0.4309315180374622,...  \n",
      "4                                                 {}  \n"
     ]
    }
   ],
   "source": [
    "# Calculate and add drug distances and add to the dataset 14.10.2024\n",
    "# Euclidian Distance - Manhattan Distance - Cosine Sim\n",
    "import pandas as pd\n",
    "import numpy as np\n",
    "import json\n",
    "import csv\n",
    "from scipy.spatial.distance import pdist, squareform\n",
    "from sklearn.metrics.pairwise import cosine_similarity\n",
    "\n",
    "def read_embeddings_from_csv(file_path):\n",
    "    embeddings_dict = {}\n",
    "    with open(file_path, mode='r') as file:\n",
    "        reader = csv.reader(file)\n",
    "        next(reader)  # Skip the header row\n",
    "        for row in reader:\n",
    "            if len(row) == 2:\n",
    "                name, embedding_json = row\n",
    "                embedding = np.array(json.loads(embedding_json))\n",
    "                embeddings_dict[name] = embedding\n",
    "    return embeddings_dict\n",
    "\n",
    "embeddings_file = '/content/drive/MyDrive/Digital Twin Study/Mehmet Can/Node Embeddings/01-150/node_embeddings_150_1_with_names_array.csv'\n",
    "embeddings = read_embeddings_from_csv(embeddings_file)\n",
    "\n",
    "drug_dataset_file = \"/content/drive/MyDrive/Digital Twin Study/Mehmet Can/Datasets/drug_treatments_dataset.csv\"\n",
    "drug_df = pd.read_csv(drug_dataset_file)\n",
    "\n",
    "def calculate_drug_metrics(drug_list):\n",
    "    if len(drug_list) < 2:\n",
    "        return {}, {}, {}  # Return empty dicts if there's only one or no drugs\n",
    "\n",
    "    drug_embeddings = [embeddings.get(drug, []) for drug in drug_list]\n",
    "\n",
    "    valid_drugs = [drug for drug, emb in zip(drug_list, drug_embeddings) if len(emb) > 0]\n",
    "    valid_embeddings = [emb for emb in drug_embeddings if len(emb) > 0]\n",
    "\n",
    "    if len(valid_drugs) < 2:\n",
    "        return {}, {}, {}  # Return empty dicts if there aren't at least 2 valid drugs\n",
    "\n",
    "    euclidean_distances = pdist(valid_embeddings, metric='euclidean')\n",
    "    manhattan_distances = pdist(valid_embeddings, metric='cityblock')  # 'cityblock' is Manhattan distance\n",
    "\n",
    "    cosine_similarities = cosine_similarity(valid_embeddings)\n",
    "\n",
    "    euclidean_matrix = squareform(euclidean_distances)\n",
    "    manhattan_matrix = squareform(manhattan_distances)\n",
    "\n",
    "    euclidean_dict = {}\n",
    "    manhattan_dict = {}\n",
    "    cosine_dict = {}\n",
    "    for i in range(len(valid_drugs)):\n",
    "        for j in range(i+1, len(valid_drugs)):\n",
    "            pair = tuple(sorted([valid_drugs[i], valid_drugs[j]]))\n",
    "            euclidean_dict[pair] = euclidean_matrix[i, j]\n",
    "            manhattan_dict[pair] = manhattan_matrix[i, j]\n",
    "            cosine_dict[pair] = cosine_similarities[i, j]\n",
    "\n",
    "    return euclidean_dict, manhattan_dict, cosine_dict\n",
    "\n",
    "# Apply the function to each row and add the results as new columns\n",
    "drug_df['SUBJECT_CUI'] = drug_df['SUBJECT_CUI'].apply(eval)  # Convert string representation of list to actual list\n",
    "drug_df['Euclidean_Distances'], drug_df['Manhattan_Distances'], drug_df['Cosine_Similarities'] = zip(*drug_df['SUBJECT_CUI'].apply(calculate_drug_metrics))\n",
    "\n",
    "# Save the updated DataFrame\n",
    "output_file = \"/content/drive/MyDrive/Digital Twin Study/Mehmet Can/Datasets/01-150/drugs_with_distances_and_similarities_150_01.csv\"\n",
    "drug_df.to_csv(output_file, index=False)\n",
    "\n",
    "print(f\"Updated dataset saved to {output_file}\")\n",
    "\n",
    "# Display a sample of the results\n",
    "print(drug_df[['OBJECT_CUI', 'SUBJECT_CUI', 'Euclidean_Distances', 'Manhattan_Distances', 'Cosine_Similarities']].head())"
   ]
  },
  {
   "cell_type": "markdown",
   "metadata": {
    "id": "cEs4B3UPKrfl"
   },
   "source": [
    "##### Euclidean\n"
   ]
  },
  {
   "cell_type": "code",
   "execution_count": null,
   "metadata": {
    "id": "Q62eLbKcKuFl"
   },
   "outputs": [],
   "source": [
    "# 21.10.2024 - Statistical Metrics - Embedding Dim: 150 - One layer Implementation\n",
    "\n",
    "import pandas as pd\n",
    "import matplotlib.pyplot as plt\n",
    "import seaborn as sns\n",
    "import ast\n",
    "import numpy as np\n",
    "\n",
    "file_path = \"/content/drive/MyDrive/Digital Twin Study/Mehmet Can/Datasets/01-150/drugs_with_distances_and_similarities_150_01.csv\"\n",
    "df = pd.read_csv(file_path)\n",
    "\n",
    "# Function to extract distance values from the dictionary string\n",
    "def extract_distances(distance_dict):\n",
    "    # Convert string representation of dict to actual dict\n",
    "    distance_dict = ast.literal_eval(distance_dict)\n",
    "    return list(distance_dict.values())\n",
    "\n",
    "# Extract all distance values\n",
    "all_distances = df['Euclidean_Distances'].apply(extract_distances).explode().dropna().tolist()\n",
    "\n",
    "# Calculate statistics\n",
    "max_dist = np.max(all_distances)\n",
    "min_dist = np.min(all_distances)\n",
    "median_dist = np.median(all_distances)\n",
    "mean_dist = np.mean(all_distances)\n",
    "\n",
    "# Set up the matplotlib figure\n",
    "plt.figure(figsize=(15, 15))\n",
    "\n",
    "# 1. Bar Chart\n",
    "plt.subplot(2, 2, 1)\n",
    "plt.bar(['Max', 'Min', 'Median', 'Mean'], [max_dist, min_dist, median_dist, mean_dist])\n",
    "plt.title('Statistics of Euclidean Distances')\n",
    "plt.ylabel('Distance')\n",
    "\n",
    "# 2. Distribution Graph (Histogram)\n",
    "plt.subplot(2, 2, 2)\n",
    "sns.histplot(all_distances, kde=True)\n",
    "plt.title('Distribution of Euclidean Distances')\n",
    "plt.xlabel('Distance')\n",
    "plt.ylabel('Frequency')\n",
    "\n",
    "# 3. Box Plot\n",
    "plt.subplot(2, 2, 3)\n",
    "sns.boxplot(y=all_distances)\n",
    "plt.title('Box Plot of Euclidean Distances')\n",
    "plt.ylabel('Distance')\n",
    "\n",
    "\n",
    "total_values = len(all_distances)\n",
    "values_above_mean = sum(1 for x in all_distances if x > mean_dist)\n",
    "values_above_median = sum(1 for x in all_distances if x > median_dist)\n",
    "\n",
    "percentage_above_mean = (values_above_mean / total_values) * 100\n",
    "percentage_above_median = (values_above_median / total_values) * 100\n",
    "\n",
    "plt.subplot(2, 2, 4)\n",
    "plt.text(0.1, 0.9, f'Max: {max_dist:.4f}', fontsize=12, transform=plt.gca().transAxes)\n",
    "plt.text(0.1, 0.8, f'Min: {min_dist:.4f}', fontsize=12, transform=plt.gca().transAxes)\n",
    "plt.text(0.1, 0.7, f'Median: {median_dist:.4f}', fontsize=12, transform=plt.gca().transAxes)\n",
    "plt.text(0.1, 0.6, f'Mean: {mean_dist:.4f}', fontsize=12, transform=plt.gca().transAxes)\n",
    "plt.text(0.1, 0.5, f'Total Values: {total_values:,}', fontsize=12, transform=plt.gca().transAxes)\n",
    "plt.text(0.1, 0.4, f'Above Mean: {values_above_mean:,} ({percentage_above_mean:.2f}%)',\n",
    "         fontsize=12, transform=plt.gca().transAxes)\n",
    "plt.text(0.1, 0.3, f'Above Median: {values_above_median:,} ({percentage_above_median:.2f}%)',\n",
    "         fontsize=12, transform=plt.gca().transAxes)\n",
    "plt.axis('off')\n",
    "plt.title('Statistical Metrics')\n",
    "\n",
    "\n",
    "\n",
    "# Adjust layout and save the figure\n",
    "plt.tight_layout()\n",
    "plt.savefig('/content/drive/MyDrive/Digital Twin Study/Mehmet Can/Visualizations/Euclidean_Distances_01-150.png')\n",
    "plt.close()\n",
    "\n",
    "# Print statistics\n"
   ]
  },
  {
   "cell_type": "markdown",
   "metadata": {
    "id": "K4HwCXdfK7ep"
   },
   "source": [
    "##### Manhattan"
   ]
  },
  {
   "cell_type": "code",
   "execution_count": null,
   "metadata": {
    "id": "Cg0Cl4sEK9hH"
   },
   "outputs": [],
   "source": [
    "# 21.10.2024 - Statistical Metrics - Embedding Dim: 150 - One layer Implementation\n",
    "\n",
    "import pandas as pd\n",
    "import matplotlib.pyplot as plt\n",
    "import seaborn as sns\n",
    "import ast\n",
    "import numpy as np\n",
    "\n",
    "file_path = \"/content/drive/MyDrive/Digital Twin Study/Mehmet Can/Datasets/01-150/drugs_with_distances_and_similarities_150_01.csv\"\n",
    "df = pd.read_csv(file_path)\n",
    "\n",
    "# Function to extract distance values from the dictionary string\n",
    "def extract_distances(distance_dict):\n",
    "    # Convert string representation of dict to actual dict\n",
    "    distance_dict = ast.literal_eval(distance_dict)\n",
    "    return list(distance_dict.values())\n",
    "\n",
    "# Extract all distance values\n",
    "all_distances = df['Manhattan_Distances'].apply(extract_distances).explode().dropna().tolist()\n",
    "\n",
    "# Calculate statistics\n",
    "max_dist = np.max(all_distances)\n",
    "min_dist = np.min(all_distances)\n",
    "median_dist = np.median(all_distances)\n",
    "mean_dist = np.mean(all_distances)\n",
    "\n",
    "# Set up the matplotlib figure\n",
    "plt.figure(figsize=(15, 15))\n",
    "\n",
    "# 1. Bar Chart\n",
    "plt.subplot(2, 2, 1)\n",
    "plt.bar(['Max', 'Min', 'Median', 'Mean'], [max_dist, min_dist, median_dist, mean_dist])\n",
    "plt.title('Statistics of Manhattan Distances')\n",
    "plt.ylabel('Distance')\n",
    "\n",
    "# 2. Distribution Graph (Histogram)\n",
    "plt.subplot(2, 2, 2)\n",
    "sns.histplot(all_distances, kde=True)\n",
    "plt.title('Distribution of Manhattan Distances')\n",
    "plt.xlabel('Distance')\n",
    "plt.ylabel('Frequency')\n",
    "\n",
    "# 3. Box Plot\n",
    "plt.subplot(2, 2, 3)\n",
    "sns.boxplot(y=all_distances)\n",
    "plt.title('Box Plot of Manhattan Distances')\n",
    "plt.ylabel('Distance')\n",
    "\n",
    "\n",
    "total_values = len(all_distances)\n",
    "values_above_mean = sum(1 for x in all_distances if x > mean_dist)\n",
    "values_above_median = sum(1 for x in all_distances if x > median_dist)\n",
    "\n",
    "percentage_above_mean = (values_above_mean / total_values) * 100\n",
    "percentage_above_median = (values_above_median / total_values) * 100\n",
    "\n",
    "plt.subplot(2, 2, 4)\n",
    "plt.text(0.1, 0.9, f'Max: {max_dist:.4f}', fontsize=12, transform=plt.gca().transAxes)\n",
    "plt.text(0.1, 0.8, f'Min: {min_dist:.4f}', fontsize=12, transform=plt.gca().transAxes)\n",
    "plt.text(0.1, 0.7, f'Median: {median_dist:.4f}', fontsize=12, transform=plt.gca().transAxes)\n",
    "plt.text(0.1, 0.6, f'Mean: {mean_dist:.4f}', fontsize=12, transform=plt.gca().transAxes)\n",
    "plt.text(0.1, 0.5, f'Total Values: {total_values:,}', fontsize=12, transform=plt.gca().transAxes)\n",
    "plt.text(0.1, 0.4, f'Above Mean: {values_above_mean:,} ({percentage_above_mean:.2f}%)',\n",
    "         fontsize=12, transform=plt.gca().transAxes)\n",
    "plt.text(0.1, 0.3, f'Above Median: {values_above_median:,} ({percentage_above_median:.2f}%)',\n",
    "         fontsize=12, transform=plt.gca().transAxes)\n",
    "plt.axis('off')\n",
    "plt.title('Statistical Metrics')\n",
    "\n",
    "\n",
    "\n",
    "# Adjust layout and save the figure\n",
    "plt.tight_layout()\n",
    "plt.savefig('/content/drive/MyDrive/Digital Twin Study/Mehmet Can/Visualizations/Manhattan_Distances_01-150.png')\n",
    "plt.close()\n",
    "\n",
    "# Print statistics\n"
   ]
  },
  {
   "cell_type": "markdown",
   "metadata": {
    "id": "AT7y9JCxLPOu"
   },
   "source": [
    "##### Cosine"
   ]
  },
  {
   "cell_type": "code",
   "execution_count": null,
   "metadata": {
    "id": "IWLYf2ZYLb2R"
   },
   "outputs": [],
   "source": [
    "# 21.10.2024 - Statistical Metrics - Embedding Dim: 150 - One layer Implementation\n",
    "\n",
    "import pandas as pd\n",
    "import matplotlib.pyplot as plt\n",
    "import seaborn as sns\n",
    "import ast\n",
    "import numpy as np\n",
    "\n",
    "file_path = \"/content/drive/MyDrive/Digital Twin Study/Mehmet Can/Datasets/01-150/drugs_with_distances_and_similarities_150_01.csv\"\n",
    "df = pd.read_csv(file_path)\n",
    "\n",
    "# Function to extract distance values from the dictionary string\n",
    "def extract_distances(distance_dict):\n",
    "    # Convert string representation of dict to actual dict\n",
    "    distance_dict = ast.literal_eval(distance_dict)\n",
    "    return list(distance_dict.values())\n",
    "\n",
    "# Extract all distance values\n",
    "all_distances = df['Cosine_Similarities'].apply(extract_distances).explode().dropna().tolist()\n",
    "\n",
    "# Calculate statistics\n",
    "max_dist = np.max(all_distances)\n",
    "min_dist = np.min(all_distances)\n",
    "median_dist = np.median(all_distances)\n",
    "mean_dist = np.mean(all_distances)\n",
    "\n",
    "# Set up the matplotlib figure\n",
    "plt.figure(figsize=(15, 15))\n",
    "\n",
    "# 1. Bar Chart\n",
    "plt.subplot(2, 2, 1)\n",
    "plt.bar(['Max', 'Min', 'Median', 'Mean'], [max_dist, min_dist, median_dist, mean_dist])\n",
    "plt.title('Statistics of Cosine Similarities')\n",
    "plt.ylabel('Distance')\n",
    "\n",
    "# 2. Distribution Graph (Histogram)\n",
    "plt.subplot(2, 2, 2)\n",
    "sns.histplot(all_distances, kde=True)\n",
    "plt.title('Distribution of Cosine Similarities')\n",
    "plt.xlabel('Distance')\n",
    "plt.ylabel('Frequency')\n",
    "\n",
    "# 3. Box Plot\n",
    "plt.subplot(2, 2, 3)\n",
    "sns.boxplot(y=all_distances)\n",
    "plt.title('Box Plot of Cosine Similarities')\n",
    "plt.ylabel('Distance')\n",
    "\n",
    "\n",
    "total_values = len(all_distances)\n",
    "values_above_mean = sum(1 for x in all_distances if x > mean_dist)\n",
    "values_above_median = sum(1 for x in all_distances if x > median_dist)\n",
    "\n",
    "percentage_above_mean = (values_above_mean / total_values) * 100\n",
    "percentage_above_median = (values_above_median / total_values) * 100\n",
    "\n",
    "plt.subplot(2, 2, 4)\n",
    "plt.text(0.1, 0.9, f'Max: {max_dist:.4f}', fontsize=12, transform=plt.gca().transAxes)\n",
    "plt.text(0.1, 0.8, f'Min: {min_dist:.4f}', fontsize=12, transform=plt.gca().transAxes)\n",
    "plt.text(0.1, 0.7, f'Median: {median_dist:.4f}', fontsize=12, transform=plt.gca().transAxes)\n",
    "plt.text(0.1, 0.6, f'Mean: {mean_dist:.4f}', fontsize=12, transform=plt.gca().transAxes)\n",
    "plt.text(0.1, 0.5, f'Total Values: {total_values:,}', fontsize=12, transform=plt.gca().transAxes)\n",
    "plt.text(0.1, 0.4, f'Above Mean: {values_above_mean:,} ({percentage_above_mean:.2f}%)',\n",
    "         fontsize=12, transform=plt.gca().transAxes)\n",
    "plt.text(0.1, 0.3, f'Above Median: {values_above_median:,} ({percentage_above_median:.2f}%)',\n",
    "         fontsize=12, transform=plt.gca().transAxes)\n",
    "plt.axis('off')\n",
    "plt.title('Statistical Metrics')\n",
    "\n",
    "\n",
    "\n",
    "# Adjust layout and save the figure\n",
    "plt.tight_layout()\n",
    "plt.savefig('/content/drive/MyDrive/Digital Twin Study/Mehmet Can/Visualizations/Cosine_Similarities_01-150.png')\n",
    "plt.close()\n",
    "\n",
    "# Print statistics\n"
   ]
  },
  {
   "cell_type": "markdown",
   "metadata": {
    "id": "swap38zSeDgz"
   },
   "source": [
    "#### 03. 200-01"
   ]
  },
  {
   "cell_type": "code",
   "execution_count": null,
   "metadata": {
    "colab": {
     "base_uri": "https://localhost:8080/"
    },
    "id": "qy2Cd7F9jtcD",
    "outputId": "6ba28824-8c3d-4020-8646-30c5c230e1f5"
   },
   "outputs": [
    {
     "name": "stdout",
     "output_type": "stream",
     "text": [
      "Updated dataset saved to /content/drive/MyDrive/Digital Twin Study/Mehmet Can/Datasets/01-200/drugs_with_distances_and_similarities_200_01.csv\n",
      "  OBJECT_CUI                                        SUBJECT_CUI  \\\n",
      "0   C0000810                     [C0012471, C0012472, C0030095]   \n",
      "1   C0000880                                         [C0062648]   \n",
      "2   C0001126                                         [C0137996]   \n",
      "3   C0001144  [C0002607, C0002679, C0052761, C0008947, C0055...   \n",
      "4   C0001206                                         [C0023863]   \n",
      "\n",
      "                                 Euclidean_Distances  \\\n",
      "0  {('C0012471', 'C0012472'): 7.218873740645879, ...   \n",
      "1                                                 {}   \n",
      "2                                                 {}   \n",
      "3  {('C0002607', 'C0002679'): 12.91133515471207, ...   \n",
      "4                                                 {}   \n",
      "\n",
      "                                 Manhattan_Distances  \\\n",
      "0  {('C0012471', 'C0012472'): 79.93982968479395, ...   \n",
      "1                                                 {}   \n",
      "2                                                 {}   \n",
      "3  {('C0002607', 'C0002679'): 149.08272630348802,...   \n",
      "4                                                 {}   \n",
      "\n",
      "                                 Cosine_Similarities  \n",
      "0  {('C0012471', 'C0012472'): 0.7277256323926625,...  \n",
      "1                                                 {}  \n",
      "2                                                 {}  \n",
      "3  {('C0002607', 'C0002679'): 0.3093485329736106,...  \n",
      "4                                                 {}  \n"
     ]
    }
   ],
   "source": [
    "# Calculate and add drug distances and add to the dataset 14.10.2024\n",
    "# Euclidian Distance - Manhattan Distance - Cosine Sim\n",
    "import pandas as pd\n",
    "import numpy as np\n",
    "import json\n",
    "import csv\n",
    "from scipy.spatial.distance import pdist, squareform\n",
    "from sklearn.metrics.pairwise import cosine_similarity\n",
    "\n",
    "def read_embeddings_from_csv(file_path):\n",
    "    embeddings_dict = {}\n",
    "    with open(file_path, mode='r') as file:\n",
    "        reader = csv.reader(file)\n",
    "        next(reader)  # Skip the header row\n",
    "        for row in reader:\n",
    "            if len(row) == 2:\n",
    "                name, embedding_json = row\n",
    "                embedding = np.array(json.loads(embedding_json))\n",
    "                embeddings_dict[name] = embedding\n",
    "    return embeddings_dict\n",
    "\n",
    "embeddings_file = '/content/drive/MyDrive/Digital Twin Study/Mehmet Can/Node Embeddings/01-200/node_embeddings_200_1_with_names_array.csv'\n",
    "embeddings = read_embeddings_from_csv(embeddings_file)\n",
    "\n",
    "drug_dataset_file = \"/content/drive/MyDrive/Digital Twin Study/Mehmet Can/Datasets/drug_treatments_dataset.csv\"\n",
    "drug_df = pd.read_csv(drug_dataset_file)\n",
    "\n",
    "def calculate_drug_metrics(drug_list):\n",
    "    if len(drug_list) < 2:\n",
    "        return {}, {}, {}  # Return empty dicts if there's only one or no drugs\n",
    "\n",
    "    drug_embeddings = [embeddings.get(drug, []) for drug in drug_list]\n",
    "\n",
    "    valid_drugs = [drug for drug, emb in zip(drug_list, drug_embeddings) if len(emb) > 0]\n",
    "    valid_embeddings = [emb for emb in drug_embeddings if len(emb) > 0]\n",
    "\n",
    "    if len(valid_drugs) < 2:\n",
    "        return {}, {}, {}  # Return empty dicts if there aren't at least 2 valid drugs\n",
    "\n",
    "    euclidean_distances = pdist(valid_embeddings, metric='euclidean')\n",
    "    manhattan_distances = pdist(valid_embeddings, metric='cityblock')  # 'cityblock' is Manhattan distance\n",
    "\n",
    "    cosine_similarities = cosine_similarity(valid_embeddings)\n",
    "\n",
    "    euclidean_matrix = squareform(euclidean_distances)\n",
    "    manhattan_matrix = squareform(manhattan_distances)\n",
    "\n",
    "    euclidean_dict = {}\n",
    "    manhattan_dict = {}\n",
    "    cosine_dict = {}\n",
    "    for i in range(len(valid_drugs)):\n",
    "        for j in range(i+1, len(valid_drugs)):\n",
    "            pair = tuple(sorted([valid_drugs[i], valid_drugs[j]]))\n",
    "            euclidean_dict[pair] = euclidean_matrix[i, j]\n",
    "            manhattan_dict[pair] = manhattan_matrix[i, j]\n",
    "            cosine_dict[pair] = cosine_similarities[i, j]\n",
    "\n",
    "    return euclidean_dict, manhattan_dict, cosine_dict\n",
    "\n",
    "# Apply the function to each row and add the results as new columns\n",
    "drug_df['SUBJECT_CUI'] = drug_df['SUBJECT_CUI'].apply(eval)  # Convert string representation of list to actual list\n",
    "drug_df['Euclidean_Distances'], drug_df['Manhattan_Distances'], drug_df['Cosine_Similarities'] = zip(*drug_df['SUBJECT_CUI'].apply(calculate_drug_metrics))\n",
    "\n",
    "# Save the updated DataFrame\n",
    "output_file = \"/content/drive/MyDrive/Digital Twin Study/Mehmet Can/Datasets/01-200/drugs_with_distances_and_similarities_200_01.csv\"\n",
    "drug_df.to_csv(output_file, index=False)\n",
    "\n",
    "print(f\"Updated dataset saved to {output_file}\")\n",
    "\n",
    "# Display a sample of the results\n",
    "print(drug_df[['OBJECT_CUI', 'SUBJECT_CUI', 'Euclidean_Distances', 'Manhattan_Distances', 'Cosine_Similarities']].head())"
   ]
  },
  {
   "cell_type": "markdown",
   "metadata": {
    "id": "ExFX-k8jlEXf"
   },
   "source": [
    "##### Euclidean"
   ]
  },
  {
   "cell_type": "code",
   "execution_count": null,
   "metadata": {
    "id": "tvsj92rul0QH"
   },
   "outputs": [],
   "source": [
    "# 21.10.2024 - Statistical Metrics - Embedding Dim: 200 - One layer Implementation\n",
    "\n",
    "import pandas as pd\n",
    "import matplotlib.pyplot as plt\n",
    "import seaborn as sns\n",
    "import ast\n",
    "import numpy as np\n",
    "\n",
    "file_path = \"/content/drive/MyDrive/Digital Twin Study/Mehmet Can/Datasets/01-200/drugs_with_distances_and_similarities_200_01.csv\"\n",
    "df = pd.read_csv(file_path)\n",
    "\n",
    "# Function to extract distance values from the dictionary string\n",
    "def extract_distances(distance_dict):\n",
    "    # Convert string representation of dict to actual dict\n",
    "    distance_dict = ast.literal_eval(distance_dict)\n",
    "    return list(distance_dict.values())\n",
    "\n",
    "# Extract all distance values\n",
    "all_distances = df['Euclidean_Distances'].apply(extract_distances).explode().dropna().tolist()\n",
    "\n",
    "# Calculate statistics\n",
    "max_dist = np.max(all_distances)\n",
    "min_dist = np.min(all_distances)\n",
    "median_dist = np.median(all_distances)\n",
    "mean_dist = np.mean(all_distances)\n",
    "\n",
    "# Set up the matplotlib figure\n",
    "plt.figure(figsize=(15, 15))\n",
    "\n",
    "# 1. Bar Chart\n",
    "plt.subplot(2, 2, 1)\n",
    "plt.bar(['Max', 'Min', 'Median', 'Mean'], [max_dist, min_dist, median_dist, mean_dist])\n",
    "plt.title('Statistics of Euclidean Distances')\n",
    "plt.ylabel('Distance')\n",
    "\n",
    "# 2. Distribution Graph (Histogram)\n",
    "plt.subplot(2, 2, 2)\n",
    "sns.histplot(all_distances, kde=True)\n",
    "plt.title('Distribution of Euclidean Distances')\n",
    "plt.xlabel('Distance')\n",
    "plt.ylabel('Frequency')\n",
    "\n",
    "# 3. Box Plot\n",
    "plt.subplot(2, 2, 3)\n",
    "sns.boxplot(y=all_distances)\n",
    "plt.title('Box Plot of Euclidean Distances')\n",
    "plt.ylabel('Distance')\n",
    "\n",
    "\n",
    "total_values = len(all_distances)\n",
    "values_above_mean = sum(1 for x in all_distances if x > mean_dist)\n",
    "values_above_median = sum(1 for x in all_distances if x > median_dist)\n",
    "\n",
    "percentage_above_mean = (values_above_mean / total_values) * 100\n",
    "percentage_above_median = (values_above_median / total_values) * 100\n",
    "\n",
    "plt.subplot(2, 2, 4)\n",
    "plt.text(0.1, 0.9, f'Max: {max_dist:.4f}', fontsize=12, transform=plt.gca().transAxes)\n",
    "plt.text(0.1, 0.8, f'Min: {min_dist:.4f}', fontsize=12, transform=plt.gca().transAxes)\n",
    "plt.text(0.1, 0.7, f'Median: {median_dist:.4f}', fontsize=12, transform=plt.gca().transAxes)\n",
    "plt.text(0.1, 0.6, f'Mean: {mean_dist:.4f}', fontsize=12, transform=plt.gca().transAxes)\n",
    "plt.text(0.1, 0.5, f'Total Values: {total_values:,}', fontsize=12, transform=plt.gca().transAxes)\n",
    "plt.text(0.1, 0.4, f'Above Mean: {values_above_mean:,} ({percentage_above_mean:.2f}%)',\n",
    "         fontsize=12, transform=plt.gca().transAxes)\n",
    "plt.text(0.1, 0.3, f'Above Median: {values_above_median:,} ({percentage_above_median:.2f}%)',\n",
    "         fontsize=12, transform=plt.gca().transAxes)\n",
    "plt.axis('off')\n",
    "plt.title('Statistical Metrics')\n",
    "\n",
    "\n",
    "\n",
    "# Adjust layout and save the figure\n",
    "plt.tight_layout()\n",
    "plt.savefig('/content/drive/MyDrive/Digital Twin Study/Mehmet Can/Visualizations/Euclidean_Distances_01-200.png')\n",
    "plt.close()\n",
    "\n",
    "# Print statistics\n"
   ]
  },
  {
   "cell_type": "markdown",
   "metadata": {
    "id": "On9-pG2LlG1R"
   },
   "source": [
    "##### Manhattan"
   ]
  },
  {
   "cell_type": "code",
   "execution_count": null,
   "metadata": {
    "id": "9mp9TbPmmQXU"
   },
   "outputs": [],
   "source": [
    "# 21.10.2024 - Statistical Metrics - Embedding Dim: 200 - One layer Implementation\n",
    "\n",
    "import pandas as pd\n",
    "import matplotlib.pyplot as plt\n",
    "import seaborn as sns\n",
    "import ast\n",
    "import numpy as np\n",
    "\n",
    "file_path = \"/content/drive/MyDrive/Digital Twin Study/Mehmet Can/Datasets/01-200/drugs_with_distances_and_similarities_200_01.csv\"\n",
    "df = pd.read_csv(file_path)\n",
    "\n",
    "# Function to extract distance values from the dictionary string\n",
    "def extract_distances(distance_dict):\n",
    "    # Convert string representation of dict to actual dict\n",
    "    distance_dict = ast.literal_eval(distance_dict)\n",
    "    return list(distance_dict.values())\n",
    "\n",
    "# Extract all distance values\n",
    "all_distances = df['Manhattan_Distances'].apply(extract_distances).explode().dropna().tolist()\n",
    "\n",
    "# Calculate statistics\n",
    "max_dist = np.max(all_distances)\n",
    "min_dist = np.min(all_distances)\n",
    "median_dist = np.median(all_distances)\n",
    "mean_dist = np.mean(all_distances)\n",
    "\n",
    "# Set up the matplotlib figure\n",
    "plt.figure(figsize=(15, 15))\n",
    "\n",
    "# 1. Bar Chart\n",
    "plt.subplot(2, 2, 1)\n",
    "plt.bar(['Max', 'Min', 'Median', 'Mean'], [max_dist, min_dist, median_dist, mean_dist])\n",
    "plt.title('Statistics of Manhattan Distances')\n",
    "plt.ylabel('Distance')\n",
    "\n",
    "# 2. Distribution Graph (Histogram)\n",
    "plt.subplot(2, 2, 2)\n",
    "sns.histplot(all_distances, kde=True)\n",
    "plt.title('Distribution of Manhattan Distances')\n",
    "plt.xlabel('Distance')\n",
    "plt.ylabel('Frequency')\n",
    "\n",
    "# 3. Box Plot\n",
    "plt.subplot(2, 2, 3)\n",
    "sns.boxplot(y=all_distances)\n",
    "plt.title('Box Plot of Manhattan Distances')\n",
    "plt.ylabel('Distance')\n",
    "\n",
    "\n",
    "total_values = len(all_distances)\n",
    "values_above_mean = sum(1 for x in all_distances if x > mean_dist)\n",
    "values_above_median = sum(1 for x in all_distances if x > median_dist)\n",
    "\n",
    "percentage_above_mean = (values_above_mean / total_values) * 100\n",
    "percentage_above_median = (values_above_median / total_values) * 100\n",
    "\n",
    "plt.subplot(2, 2, 4)\n",
    "plt.text(0.1, 0.9, f'Max: {max_dist:.4f}', fontsize=12, transform=plt.gca().transAxes)\n",
    "plt.text(0.1, 0.8, f'Min: {min_dist:.4f}', fontsize=12, transform=plt.gca().transAxes)\n",
    "plt.text(0.1, 0.7, f'Median: {median_dist:.4f}', fontsize=12, transform=plt.gca().transAxes)\n",
    "plt.text(0.1, 0.6, f'Mean: {mean_dist:.4f}', fontsize=12, transform=plt.gca().transAxes)\n",
    "plt.text(0.1, 0.5, f'Total Values: {total_values:,}', fontsize=12, transform=plt.gca().transAxes)\n",
    "plt.text(0.1, 0.4, f'Above Mean: {values_above_mean:,} ({percentage_above_mean:.2f}%)',\n",
    "         fontsize=12, transform=plt.gca().transAxes)\n",
    "plt.text(0.1, 0.3, f'Above Median: {values_above_median:,} ({percentage_above_median:.2f}%)',\n",
    "         fontsize=12, transform=plt.gca().transAxes)\n",
    "plt.axis('off')\n",
    "plt.title('Statistical Metrics')\n",
    "\n",
    "\n",
    "\n",
    "# Adjust layout and save the figure\n",
    "plt.tight_layout()\n",
    "plt.savefig('/content/drive/MyDrive/Digital Twin Study/Mehmet Can/Visualizations/Manhattan_Distances_01-200.png')\n",
    "plt.close()\n",
    "\n",
    "# Print statistics\n"
   ]
  },
  {
   "cell_type": "markdown",
   "metadata": {
    "id": "oqK2q6SRlIp4"
   },
   "source": [
    "##### Cosine"
   ]
  },
  {
   "cell_type": "code",
   "execution_count": null,
   "metadata": {
    "id": "AIVcLdI-mgLU"
   },
   "outputs": [],
   "source": [
    "# 21.10.2024 - Statistical Metrics - Embedding Dim: 200 - One layer Implementation\n",
    "\n",
    "import pandas as pd\n",
    "import matplotlib.pyplot as plt\n",
    "import seaborn as sns\n",
    "import ast\n",
    "import numpy as np\n",
    "\n",
    "file_path = \"/content/drive/MyDrive/Digital Twin Study/Mehmet Can/Datasets/01-200/drugs_with_distances_and_similarities_200_01.csv\"\n",
    "df = pd.read_csv(file_path)\n",
    "\n",
    "# Function to extract distance values from the dictionary string\n",
    "def extract_distances(distance_dict):\n",
    "    # Convert string representation of dict to actual dict\n",
    "    distance_dict = ast.literal_eval(distance_dict)\n",
    "    return list(distance_dict.values())\n",
    "\n",
    "# Extract all distance values\n",
    "all_distances = df['Cosine_Similarities'].apply(extract_distances).explode().dropna().tolist()\n",
    "\n",
    "# Calculate statistics\n",
    "max_dist = np.max(all_distances)\n",
    "min_dist = np.min(all_distances)\n",
    "median_dist = np.median(all_distances)\n",
    "mean_dist = np.mean(all_distances)\n",
    "\n",
    "# Set up the matplotlib figure\n",
    "plt.figure(figsize=(15, 15))\n",
    "\n",
    "# 1. Bar Chart\n",
    "plt.subplot(2, 2, 1)\n",
    "plt.bar(['Max', 'Min', 'Median', 'Mean'], [max_dist, min_dist, median_dist, mean_dist])\n",
    "plt.title('Statistics of Cosine Similarities')\n",
    "plt.ylabel('Distance')\n",
    "\n",
    "# 2. Distribution Graph (Histogram)\n",
    "plt.subplot(2, 2, 2)\n",
    "sns.histplot(all_distances, kde=True)\n",
    "plt.title('Distribution of Cosine Similarities')\n",
    "plt.xlabel('Distance')\n",
    "plt.ylabel('Frequency')\n",
    "\n",
    "# 3. Box Plot\n",
    "plt.subplot(2, 2, 3)\n",
    "sns.boxplot(y=all_distances)\n",
    "plt.title('Box Plot of Cosine Similarities')\n",
    "plt.ylabel('Distance')\n",
    "\n",
    "\n",
    "total_values = len(all_distances)\n",
    "values_above_mean = sum(1 for x in all_distances if x > mean_dist)\n",
    "values_above_median = sum(1 for x in all_distances if x > median_dist)\n",
    "\n",
    "percentage_above_mean = (values_above_mean / total_values) * 100\n",
    "percentage_above_median = (values_above_median / total_values) * 100\n",
    "\n",
    "plt.subplot(2, 2, 4)\n",
    "plt.text(0.1, 0.9, f'Max: {max_dist:.4f}', fontsize=12, transform=plt.gca().transAxes)\n",
    "plt.text(0.1, 0.8, f'Min: {min_dist:.4f}', fontsize=12, transform=plt.gca().transAxes)\n",
    "plt.text(0.1, 0.7, f'Median: {median_dist:.4f}', fontsize=12, transform=plt.gca().transAxes)\n",
    "plt.text(0.1, 0.6, f'Mean: {mean_dist:.4f}', fontsize=12, transform=plt.gca().transAxes)\n",
    "plt.text(0.1, 0.5, f'Total Values: {total_values:,}', fontsize=12, transform=plt.gca().transAxes)\n",
    "plt.text(0.1, 0.4, f'Above Mean: {values_above_mean:,} ({percentage_above_mean:.2f}%)',\n",
    "         fontsize=12, transform=plt.gca().transAxes)\n",
    "plt.text(0.1, 0.3, f'Above Median: {values_above_median:,} ({percentage_above_median:.2f}%)',\n",
    "         fontsize=12, transform=plt.gca().transAxes)\n",
    "plt.axis('off')\n",
    "plt.title('Statistical Metrics')\n",
    "\n",
    "\n",
    "\n",
    "# Adjust layout and save the figure\n",
    "plt.tight_layout()\n",
    "plt.savefig('/content/drive/MyDrive/Digital Twin Study/Mehmet Can/Visualizations/Cosine_Similarities_01-200.png')\n",
    "plt.close()\n",
    "\n",
    "# Print statistics\n"
   ]
  },
  {
   "cell_type": "markdown",
   "metadata": {
    "id": "KS_dtqo77zD8"
   },
   "source": [
    "### Dataset Filtering"
   ]
  },
  {
   "cell_type": "markdown",
   "metadata": {
    "id": "JhqwKqHf730L"
   },
   "source": [
    "#### 01. 100-01"
   ]
  },
  {
   "cell_type": "markdown",
   "metadata": {
    "id": "05aOqyzD8loI"
   },
   "source": [
    "##### Euclidean"
   ]
  },
  {
   "cell_type": "code",
   "execution_count": null,
   "metadata": {
    "colab": {
     "base_uri": "https://localhost:8080/"
    },
    "id": "Up8aLByg7_p5",
    "outputId": "ec9603c6-fbb9-4867-df0b-71939e9b9abc"
   },
   "outputs": [
    {
     "name": "stdout",
     "output_type": "stream",
     "text": [
      "Original number of rows: 1244\n",
      "Number of rows in filtered dataset: 595\n",
      "Mean distance threshold: 5.4778\n"
     ]
    }
   ],
   "source": [
    "import pandas as pd\n",
    "import ast\n",
    "\n",
    "file_path = \"/content/drive/MyDrive/Digital Twin Study/Mehmet Can/Datasets/01-100/drugs_with_distances_and_similarities_100_01.csv\"\n",
    "df = pd.read_csv(file_path)\n",
    "\n",
    "def extract_distances(distance_dict):\n",
    "    distance_dict = ast.literal_eval(distance_dict)\n",
    "    return list(distance_dict.values())\n",
    "\n",
    "all_distances = df['Euclidean_Distances'].apply(extract_distances).explode().dropna().tolist()\n",
    "mean_dist = np.mean(all_distances)\n",
    "\n",
    "def filter_distances_above_mean(distance_dict):\n",
    "    distance_dict = ast.literal_eval(distance_dict)\n",
    "    filtered_dict = {k: v for k, v in distance_dict.items() if v > mean_dist}\n",
    "    return filtered_dict if filtered_dict else None\n",
    "\n",
    "df['Filtered_Euclidean_Distances'] = df['Euclidean_Distances'].apply(filter_distances_above_mean)\n",
    "\n",
    "df_filtered = df[df['Filtered_Euclidean_Distances'].notna()]\n",
    "df_filtered = df_filtered[['OBJECT_CUI', 'SUBJECT_CUI', 'Filtered_Euclidean_Distances']]\n",
    "\n",
    "output_path = \"/content/drive/MyDrive/Digital Twin Study/Mehmet Can/Datasets/01-100/Euclidean_Distances_above_mean_100_01.csv\"\n",
    "df_filtered.to_csv(output_path, index=False)\n",
    "\n",
    "print(f\"Original number of rows: {len(df)}\")\n",
    "print(f\"Number of rows in filtered dataset: {len(df_filtered)}\")\n",
    "print(f\"Mean distance threshold: {mean_dist:.4f}\")"
   ]
  },
  {
   "cell_type": "markdown",
   "metadata": {
    "id": "Nz5jOljb9EPZ"
   },
   "source": [
    "##### Manhattan"
   ]
  },
  {
   "cell_type": "code",
   "execution_count": null,
   "metadata": {
    "colab": {
     "base_uri": "https://localhost:8080/"
    },
    "id": "mRrfxodC9G0F",
    "outputId": "53e49165-03c0-41cd-9264-52d351efb092"
   },
   "outputs": [
    {
     "name": "stdout",
     "output_type": "stream",
     "text": [
      "Original number of rows: 1244\n",
      "Number of rows in filtered dataset: 597\n",
      "Mean distance threshold: 43.7232\n"
     ]
    }
   ],
   "source": [
    "import pandas as pd\n",
    "import ast\n",
    "\n",
    "file_path = \"/content/drive/MyDrive/Digital Twin Study/Mehmet Can/Datasets/01-100/drugs_with_distances_and_similarities_100_01.csv\"\n",
    "df = pd.read_csv(file_path)\n",
    "\n",
    "def extract_distances(distance_dict):\n",
    "    distance_dict = ast.literal_eval(distance_dict)\n",
    "    return list(distance_dict.values())\n",
    "\n",
    "all_distances = df['Manhattan_Distances'].apply(extract_distances).explode().dropna().tolist()\n",
    "mean_dist = np.mean(all_distances)\n",
    "\n",
    "def filter_distances_above_mean(distance_dict):\n",
    "    distance_dict = ast.literal_eval(distance_dict)\n",
    "    filtered_dict = {k: v for k, v in distance_dict.items() if v > mean_dist}\n",
    "    return filtered_dict if filtered_dict else None\n",
    "\n",
    "df['Filtered_Manhattan_Distances'] = df['Manhattan_Distances'].apply(filter_distances_above_mean)\n",
    "\n",
    "df_filtered = df[df['Filtered_Manhattan_Distances'].notna()]\n",
    "df_filtered = df_filtered[['OBJECT_CUI', 'SUBJECT_CUI', 'Filtered_Manhattan_Distances']]\n",
    "\n",
    "output_path = \"/content/drive/MyDrive/Digital Twin Study/Mehmet Can/Datasets/01-100/Manhattan_Distances_above_mean_100_01.csv\"\n",
    "df_filtered.to_csv(output_path, index=False)\n",
    "\n",
    "print(f\"Original number of rows: {len(df)}\")\n",
    "print(f\"Number of rows in filtered dataset: {len(df_filtered)}\")\n",
    "print(f\"Mean distance threshold: {mean_dist:.4f}\")"
   ]
  },
  {
   "cell_type": "markdown",
   "metadata": {
    "id": "WhhujvV__tf0"
   },
   "source": [
    "##### Cosine"
   ]
  },
  {
   "cell_type": "code",
   "execution_count": null,
   "metadata": {
    "colab": {
     "base_uri": "https://localhost:8080/"
    },
    "id": "kgQ125lk_0K9",
    "outputId": "9254eb6f-e64d-4eef-c475-1330f76844cd"
   },
   "outputs": [
    {
     "name": "stdout",
     "output_type": "stream",
     "text": [
      "Original number of rows: 1244\n",
      "Number of rows in filtered dataset: 680\n",
      "Mean distance threshold: 0.6550\n"
     ]
    }
   ],
   "source": [
    "import pandas as pd\n",
    "import ast\n",
    "\n",
    "file_path = \"/content/drive/MyDrive/Digital Twin Study/Mehmet Can/Datasets/01-100/drugs_with_distances_and_similarities_100_01.csv\"\n",
    "df = pd.read_csv(file_path)\n",
    "\n",
    "def extract_distances(distance_dict):\n",
    "    distance_dict = ast.literal_eval(distance_dict)\n",
    "    return list(distance_dict.values())\n",
    "\n",
    "all_distances = df['Cosine_Similarities'].apply(extract_distances).explode().dropna().tolist()\n",
    "mean_dist = np.mean(all_distances)\n",
    "\n",
    "def filter_distances_above_mean(distance_dict):\n",
    "    distance_dict = ast.literal_eval(distance_dict)\n",
    "    filtered_dict = {k: v for k, v in distance_dict.items() if v > mean_dist}\n",
    "    return filtered_dict if filtered_dict else None\n",
    "\n",
    "df['Filtered_Cosine_Similarities'] = df['Cosine_Similarities'].apply(filter_distances_above_mean)\n",
    "\n",
    "df_filtered = df[df['Filtered_Cosine_Similarities'].notna()]\n",
    "df_filtered = df_filtered[['OBJECT_CUI', 'SUBJECT_CUI', 'Filtered_Cosine_Similarities']]\n",
    "\n",
    "output_path = \"/content/drive/MyDrive/Digital Twin Study/Mehmet Can/Datasets/01-100/Cosine_Similarities_above_mean_100_01.csv\"\n",
    "df_filtered.to_csv(output_path, index=False)\n",
    "\n",
    "print(f\"Original number of rows: {len(df)}\")\n",
    "print(f\"Number of rows in filtered dataset: {len(df_filtered)}\")\n",
    "print(f\"Mean distance threshold: {mean_dist:.4f}\")"
   ]
  },
  {
   "cell_type": "markdown",
   "metadata": {
    "id": "ufYqlOYqL70X"
   },
   "source": [
    "#### 02. 150-01"
   ]
  },
  {
   "cell_type": "markdown",
   "metadata": {
    "id": "5R3jc0qOMMDN"
   },
   "source": [
    "##### Euclidean"
   ]
  },
  {
   "cell_type": "code",
   "execution_count": null,
   "metadata": {
    "colab": {
     "base_uri": "https://localhost:8080/"
    },
    "id": "As5vQpLzMsad",
    "outputId": "ba0d079b-b715-4230-e948-04ef3ea64ca4"
   },
   "outputs": [
    {
     "name": "stdout",
     "output_type": "stream",
     "text": [
      "Original number of rows: 1244\n",
      "Number of rows in filtered dataset: 597\n",
      "Mean distance threshold: 6.1952\n"
     ]
    }
   ],
   "source": [
    "import pandas as pd\n",
    "import ast\n",
    "\n",
    "file_path = \"/content/drive/MyDrive/Digital Twin Study/Mehmet Can/Datasets/01-150/drugs_with_distances_and_similarities_150_01.csv\"\n",
    "df = pd.read_csv(file_path)\n",
    "\n",
    "def extract_distances(distance_dict):\n",
    "    distance_dict = ast.literal_eval(distance_dict)\n",
    "    return list(distance_dict.values())\n",
    "\n",
    "all_distances = df['Euclidean_Distances'].apply(extract_distances).explode().dropna().tolist()\n",
    "mean_dist = np.mean(all_distances)\n",
    "\n",
    "def filter_distances_above_mean(distance_dict):\n",
    "    distance_dict = ast.literal_eval(distance_dict)\n",
    "    filtered_dict = {k: v for k, v in distance_dict.items() if v > mean_dist}\n",
    "    return filtered_dict if filtered_dict else None\n",
    "\n",
    "df['Filtered_Euclidean_Distances'] = df['Euclidean_Distances'].apply(filter_distances_above_mean)\n",
    "\n",
    "df_filtered = df[df['Filtered_Euclidean_Distances'].notna()]\n",
    "df_filtered = df_filtered[['OBJECT_CUI', 'SUBJECT_CUI', 'Filtered_Euclidean_Distances']]\n",
    "\n",
    "output_path = \"/content/drive/MyDrive/Digital Twin Study/Mehmet Can/Datasets/01-150/Euclidean_Distances_above_mean_150_01.csv\"\n",
    "df_filtered.to_csv(output_path, index=False)\n",
    "\n",
    "print(f\"Original number of rows: {len(df)}\")\n",
    "print(f\"Number of rows in filtered dataset: {len(df_filtered)}\")\n",
    "print(f\"Mean distance threshold: {mean_dist:.4f}\")"
   ]
  },
  {
   "cell_type": "markdown",
   "metadata": {
    "id": "1kIh9ihzMOMA"
   },
   "source": [
    "##### Manhattan"
   ]
  },
  {
   "cell_type": "code",
   "execution_count": null,
   "metadata": {
    "colab": {
     "base_uri": "https://localhost:8080/"
    },
    "id": "hR3PEdkaMyr5",
    "outputId": "a175785e-cd5e-425a-936d-5c23550f890a"
   },
   "outputs": [
    {
     "name": "stdout",
     "output_type": "stream",
     "text": [
      "Original number of rows: 1244\n",
      "Number of rows in filtered dataset: 599\n",
      "Mean distance threshold: 60.5927\n"
     ]
    }
   ],
   "source": [
    "import pandas as pd\n",
    "import ast\n",
    "\n",
    "file_path = \"/content/drive/MyDrive/Digital Twin Study/Mehmet Can/Datasets/01-150/drugs_with_distances_and_similarities_150_01.csv\"\n",
    "df = pd.read_csv(file_path)\n",
    "\n",
    "def extract_distances(distance_dict):\n",
    "    distance_dict = ast.literal_eval(distance_dict)\n",
    "    return list(distance_dict.values())\n",
    "\n",
    "all_distances = df['Manhattan_Distances'].apply(extract_distances).explode().dropna().tolist()\n",
    "mean_dist = np.mean(all_distances)\n",
    "\n",
    "def filter_distances_above_mean(distance_dict):\n",
    "    distance_dict = ast.literal_eval(distance_dict)\n",
    "    filtered_dict = {k: v for k, v in distance_dict.items() if v > mean_dist}\n",
    "    return filtered_dict if filtered_dict else None\n",
    "\n",
    "df['Filtered_Manhattan_Distances'] = df['Manhattan_Distances'].apply(filter_distances_above_mean)\n",
    "\n",
    "df_filtered = df[df['Filtered_Manhattan_Distances'].notna()]\n",
    "df_filtered = df_filtered[['OBJECT_CUI', 'SUBJECT_CUI', 'Filtered_Manhattan_Distances']]\n",
    "\n",
    "output_path = \"/content/drive/MyDrive/Digital Twin Study/Mehmet Can/Datasets/01-150/Manhattan_Distances_above_mean_150_01.csv\"\n",
    "df_filtered.to_csv(output_path, index=False)\n",
    "\n",
    "print(f\"Original number of rows: {len(df)}\")\n",
    "print(f\"Number of rows in filtered dataset: {len(df_filtered)}\")\n",
    "print(f\"Mean distance threshold: {mean_dist:.4f}\")"
   ]
  },
  {
   "cell_type": "markdown",
   "metadata": {
    "id": "maetsi9qMQoS"
   },
   "source": [
    "##### Cosine"
   ]
  },
  {
   "cell_type": "code",
   "execution_count": null,
   "metadata": {
    "colab": {
     "base_uri": "https://localhost:8080/"
    },
    "id": "mSaIWQUONAaK",
    "outputId": "19df3245-8607-4cd8-b8db-6b4e1f5b084a"
   },
   "outputs": [
    {
     "name": "stdout",
     "output_type": "stream",
     "text": [
      "Original number of rows: 1244\n",
      "Number of rows in filtered dataset: 680\n",
      "Mean distance threshold: 0.6362\n"
     ]
    }
   ],
   "source": [
    "import pandas as pd\n",
    "import ast\n",
    "\n",
    "file_path = \"/content/drive/MyDrive/Digital Twin Study/Mehmet Can/Datasets/01-150/drugs_with_distances_and_similarities_150_01.csv\"\n",
    "df = pd.read_csv(file_path)\n",
    "\n",
    "def extract_distances(distance_dict):\n",
    "    distance_dict = ast.literal_eval(distance_dict)\n",
    "    return list(distance_dict.values())\n",
    "\n",
    "all_distances = df['Cosine_Similarities'].apply(extract_distances).explode().dropna().tolist()\n",
    "mean_dist = np.mean(all_distances)\n",
    "\n",
    "def filter_distances_above_mean(distance_dict):\n",
    "    distance_dict = ast.literal_eval(distance_dict)\n",
    "    filtered_dict = {k: v for k, v in distance_dict.items() if v > mean_dist}\n",
    "    return filtered_dict if filtered_dict else None\n",
    "\n",
    "df['Filtered_Cosine_Similarities'] = df['Cosine_Similarities'].apply(filter_distances_above_mean)\n",
    "\n",
    "df_filtered = df[df['Filtered_Cosine_Similarities'].notna()]\n",
    "df_filtered = df_filtered[['OBJECT_CUI', 'SUBJECT_CUI', 'Filtered_Cosine_Similarities']]\n",
    "\n",
    "output_path = \"/content/drive/MyDrive/Digital Twin Study/Mehmet Can/Datasets/01-150/Cosine_Similarities_above_mean_150_01.csv\"\n",
    "df_filtered.to_csv(output_path, index=False)\n",
    "\n",
    "print(f\"Original number of rows: {len(df)}\")\n",
    "print(f\"Number of rows in filtered dataset: {len(df_filtered)}\")\n",
    "print(f\"Mean distance threshold: {mean_dist:.4f}\")"
   ]
  },
  {
   "cell_type": "markdown",
   "metadata": {
    "id": "y0EgX1Qlmqdu"
   },
   "source": [
    "#### 03. 200-01"
   ]
  },
  {
   "cell_type": "markdown",
   "metadata": {
    "id": "AftH-DTjmuZQ"
   },
   "source": [
    "##### Euclidean"
   ]
  },
  {
   "cell_type": "code",
   "execution_count": null,
   "metadata": {
    "colab": {
     "base_uri": "https://localhost:8080/"
    },
    "id": "AwgwtG2tnIc4",
    "outputId": "4c871aac-581b-4cfa-e6a0-b852165b4e32"
   },
   "outputs": [
    {
     "name": "stdout",
     "output_type": "stream",
     "text": [
      "Original number of rows: 1244\n",
      "Number of rows in filtered dataset: 617\n",
      "Mean distance threshold: 7.0065\n"
     ]
    }
   ],
   "source": [
    "import pandas as pd\n",
    "import ast\n",
    "\n",
    "file_path = \"/content/drive/MyDrive/Digital Twin Study/Mehmet Can/Datasets/01-200/drugs_with_distances_and_similarities_200_01.csv\"\n",
    "df = pd.read_csv(file_path)\n",
    "\n",
    "def extract_distances(distance_dict):\n",
    "    distance_dict = ast.literal_eval(distance_dict)\n",
    "    return list(distance_dict.values())\n",
    "\n",
    "all_distances = df['Euclidean_Distances'].apply(extract_distances).explode().dropna().tolist()\n",
    "mean_dist = np.mean(all_distances)\n",
    "\n",
    "def filter_distances_above_mean(distance_dict):\n",
    "    distance_dict = ast.literal_eval(distance_dict)\n",
    "    filtered_dict = {k: v for k, v in distance_dict.items() if v > mean_dist}\n",
    "    return filtered_dict if filtered_dict else None\n",
    "\n",
    "df['Filtered_Euclidean_Distances'] = df['Euclidean_Distances'].apply(filter_distances_above_mean)\n",
    "\n",
    "df_filtered = df[df['Filtered_Euclidean_Distances'].notna()]\n",
    "df_filtered = df_filtered[['OBJECT_CUI', 'SUBJECT_CUI', 'Filtered_Euclidean_Distances']]\n",
    "\n",
    "output_path = \"/content/drive/MyDrive/Digital Twin Study/Mehmet Can/Datasets/01-200/Euclidean_Distances_above_mean_200_01.csv\"\n",
    "df_filtered.to_csv(output_path, index=False)\n",
    "\n",
    "print(f\"Original number of rows: {len(df)}\")\n",
    "print(f\"Number of rows in filtered dataset: {len(df_filtered)}\")\n",
    "print(f\"Mean distance threshold: {mean_dist:.4f}\")"
   ]
  },
  {
   "cell_type": "markdown",
   "metadata": {
    "id": "XM2rreAumxz_"
   },
   "source": [
    "##### Manhattan"
   ]
  },
  {
   "cell_type": "code",
   "execution_count": null,
   "metadata": {
    "colab": {
     "base_uri": "https://localhost:8080/"
    },
    "id": "_belZmXwnjuf",
    "outputId": "ebcb28c7-1573-404a-f400-43e2a5a1f6b6"
   },
   "outputs": [
    {
     "name": "stdout",
     "output_type": "stream",
     "text": [
      "Original number of rows: 1244\n",
      "Number of rows in filtered dataset: 620\n",
      "Mean distance threshold: 78.7988\n"
     ]
    }
   ],
   "source": [
    "import pandas as pd\n",
    "import ast\n",
    "\n",
    "file_path = \"/content/drive/MyDrive/Digital Twin Study/Mehmet Can/Datasets/01-200/drugs_with_distances_and_similarities_200_01.csv\"\n",
    "df = pd.read_csv(file_path)\n",
    "\n",
    "def extract_distances(distance_dict):\n",
    "    distance_dict = ast.literal_eval(distance_dict)\n",
    "    return list(distance_dict.values())\n",
    "\n",
    "all_distances = df['Manhattan_Distances'].apply(extract_distances).explode().dropna().tolist()\n",
    "mean_dist = np.mean(all_distances)\n",
    "\n",
    "def filter_distances_above_mean(distance_dict):\n",
    "    distance_dict = ast.literal_eval(distance_dict)\n",
    "    filtered_dict = {k: v for k, v in distance_dict.items() if v > mean_dist}\n",
    "    return filtered_dict if filtered_dict else None\n",
    "\n",
    "df['Filtered_Manhattan_Distances'] = df['Manhattan_Distances'].apply(filter_distances_above_mean)\n",
    "\n",
    "df_filtered = df[df['Filtered_Manhattan_Distances'].notna()]\n",
    "df_filtered = df_filtered[['OBJECT_CUI', 'SUBJECT_CUI', 'Filtered_Manhattan_Distances']]\n",
    "\n",
    "output_path = \"/content/drive/MyDrive/Digital Twin Study/Mehmet Can/Datasets/01-200/Manhattan_Distances_above_mean_200_01.csv\"\n",
    "df_filtered.to_csv(output_path, index=False)\n",
    "\n",
    "print(f\"Original number of rows: {len(df)}\")\n",
    "print(f\"Number of rows in filtered dataset: {len(df_filtered)}\")\n",
    "print(f\"Mean distance threshold: {mean_dist:.4f}\")"
   ]
  },
  {
   "cell_type": "markdown",
   "metadata": {
    "id": "DvtqXUK1mz2B"
   },
   "source": [
    "##### Cosine"
   ]
  },
  {
   "cell_type": "code",
   "execution_count": null,
   "metadata": {
    "colab": {
     "base_uri": "https://localhost:8080/"
    },
    "id": "Y8iAohN6mt28",
    "outputId": "bee39eea-fcf4-4c97-8b98-efeeb851a51b"
   },
   "outputs": [
    {
     "name": "stdout",
     "output_type": "stream",
     "text": [
      "Original number of rows: 1244\n",
      "Number of rows in filtered dataset: 682\n",
      "Mean distance threshold: 0.6388\n"
     ]
    }
   ],
   "source": [
    "import pandas as pd\n",
    "import ast\n",
    "\n",
    "file_path = \"/content/drive/MyDrive/Digital Twin Study/Mehmet Can/Datasets/01-200/drugs_with_distances_and_similarities_200_01.csv\"\n",
    "df = pd.read_csv(file_path)\n",
    "\n",
    "def extract_distances(distance_dict):\n",
    "    distance_dict = ast.literal_eval(distance_dict)\n",
    "    return list(distance_dict.values())\n",
    "\n",
    "all_distances = df['Cosine_Similarities'].apply(extract_distances).explode().dropna().tolist()\n",
    "mean_dist = np.mean(all_distances)\n",
    "\n",
    "def filter_distances_above_mean(distance_dict):\n",
    "    distance_dict = ast.literal_eval(distance_dict)\n",
    "    filtered_dict = {k: v for k, v in distance_dict.items() if v > mean_dist}\n",
    "    return filtered_dict if filtered_dict else None\n",
    "\n",
    "df['Filtered_Cosine_Similarities'] = df['Cosine_Similarities'].apply(filter_distances_above_mean)\n",
    "\n",
    "df_filtered = df[df['Filtered_Cosine_Similarities'].notna()]\n",
    "df_filtered = df_filtered[['OBJECT_CUI', 'SUBJECT_CUI', 'Filtered_Cosine_Similarities']]\n",
    "\n",
    "output_path = \"/content/drive/MyDrive/Digital Twin Study/Mehmet Can/Datasets/01-200/Cosine_Similarities_above_mean_200_01.csv\"\n",
    "df_filtered.to_csv(output_path, index=False)\n",
    "\n",
    "print(f\"Original number of rows: {len(df)}\")\n",
    "print(f\"Number of rows in filtered dataset: {len(df_filtered)}\")\n",
    "print(f\"Mean distance threshold: {mean_dist:.4f}\")"
   ]
  },
  {
   "cell_type": "markdown",
   "metadata": {
    "id": "uo_YFFCixyYo"
   },
   "source": [
    "### Testing\n"
   ]
  },
  {
   "cell_type": "markdown",
   "metadata": {
    "id": "c3ldXKjEx0y6"
   },
   "source": [
    "#### Controlling"
   ]
  },
  {
   "cell_type": "code",
   "execution_count": null,
   "metadata": {
    "colab": {
     "base_uri": "https://localhost:8080/"
    },
    "id": "uKc3CLorx3FW",
    "outputId": "484f32df-599f-4ec4-f991-3b05e07fecf0"
   },
   "outputs": [
    {
     "name": "stdout",
     "output_type": "stream",
     "text": [
      "Number of OBJECT_CUI values in output file: 1064\n",
      "Number of OBJECT_CUI values in test dataset: 553\n",
      "Number of common OBJECT_CUI values: 0\n",
      "Unique OBJECT_CUI values in output file: {\"['C0010582', 'C0062922', 'C0036442', 'C0041190']\", \"['C0003143', 'C0728803', 'C0032483', 'C0027373', 'C0030071', 'C0031408', 'C0031469', 'C0032623', 'C3652618', 'C0078794']\", \"['C0019134']\", \"['C0010961']\", \"['C0041031', 'C0002083', 'C0718495', 'C0003143', 'C0052759', 'C0005025', 'C0005041', 'C0005059', 'C0005100', 'C0006246', 'C0006400', 'C0054235', 'C0054672', 'C0008281', 'C0012050', 'C0008929', 'C0056519', 'C0010620', 'C0057605', 'C0057606', 'C0058389', 'C0013085', 'C0013092', 'C0058831', 'C0064263', 'C0060240', 'C0020404', 'C0064582', 'C0771655', 'C0023660', 'C4542172', 'C0025625', 'C0066101', 'C0070563', 'C0031408', 'C0070570', 'C0070709', 'C0071810', 'C0033399', 'C0073085', 'C0039542', 'C0039629', 'C0041090', 'C0041098', 'C0149368', 'C0043491']\", \"['C3713906', 'C4519114']\", \"['C0007257']\", \"['C0540776', 'C0002679', 'C0002680', 'C0108938', 'C0007560', 'C0007561', 'C0007562', 'C0055015', 'C0011276', 'C0013090', 'C0014310', 'C0014806', 'C0016875', 'C0753645', 'C0065841', 'C0026187', 'C0028365', 'C0028902', 'C0030092', 'C0001268', 'C0039644', 'C0379881']\", \"['C2607886', 'C4329353', 'C3651264']\", \"['C0002680', 'C0014806']\", \"['C0005025', 'C0056391', 'C0020268', 'C0071810', 'C0149368']\", \"['C0052432', 'C0120726', 'C0020336', 'C0025153', 'C0072768']\", \"['C0044401', 'C0995188', 'C4056441', 'C0040987']\", \"['C0075504', 'C0038670', 'C0038702', 'C0038722']\", \"['C0649350']\", \"['C0055568']\", \"['C0050403', 'C0001937', 'C0018033', 'C0003524', 'C0053111', 'C0005308', 'C0005310', 'C1872109', 'C0719064', 'C0056391', 'C0011777', 'C2714681', 'C0012228', 'C0059865', 'C0015837', 'C0060504', 'C0016377', 'C0020268', 'C0063077', 'C0770560', 'C1872427', 'C0085217', 'C0065199', 'C0126789', 'C0025042', 'C0083381', 'C0068334', 'C0069739', 'C0072315', 'C0762662', 'C0036079', 'C0073983', 'C3885145', 'C0038792', 'C0076092', 'C0076653', 'C0040377', 'C0040864', 'C0040866', 'C0040867']\", \"['C2931926']\", \"['C0164674']\", \"['C0002645']\", \"['C0286651', 'C2586675', 'C0055775', 'C0058978', 'C0021547', 'C0024027', 'C3536880', 'C3832882', 'C0085542', 'C0965129', 'C0074554']\", \"['C0016225', 'C0025624', 'C0076126']\", \"['C0010654']\", \"['C0123931', 'C0144576']\", \"['C0013090', 'C0014806', 'C0016875', 'C0026187']\", \"['C0002679', 'C0016277', 'C1120386']\", \"['C0001911']\", \"['C0007554', 'C0008293', 'C0014806', 'C0039644']\", \"['C0064987']\", \"['C0001040', 'C3714499', 'C0071809']\", \"['C0935989']\", \"['C0007557', 'C0008777', 'C0008809', 'C0389169', 'C1120106', 'C0020933', 'C0066005', 'C0025872', 'C0536495', 'C0028365', 'C0028902', 'C0031955', 'C0075870', 'C1260298']\", \"['C1705480', 'C4291409']\", \"['C0006466', 'C0069805']\", \"['C0002640', 'C0030883', 'C0036516']\", \"['C0051113', 'C0002083', 'C0051556', 'C0002607', 'C0718495', 'C0005088', 'C0005308', 'C0005311', 'C0053523', 'C0750848', 'C0041942', 'C0055461', 'C0055711', 'C0666079', 'C0055895', 'C0055900', 'C0056391', 'C0011705', 'C0011707', 'C0011777', 'C0057992', 'C0016374', 'C0016294', 'C0016298', 'C0016299', 'C0117996', 'C0018513', 'C0020268', 'C0022625', 'C0771655', 'C0025815', 'C0066700', 'C0071836', 'C0032950', 'C0072735', 'C0036079', 'C0074281', 'C0038670', 'C0040864', 'C0040866']\", \"['C0002645', 'C0004521', 'C0007537', 'C0007735', 'C0007541', 'C0007737', 'C0007546', 'C0007550', 'C0007551', 'C0007554', 'C0007555', 'C0007738', 'C0007559', 'C0007560', 'C0007561', 'C0007562', 'C0055015', 'C0008777', 'C0008809', 'C0009077', 'C0020933', 'C0065162', 'C0065295', 'C0025872', 'C0028365', 'C0028902', 'C0029983', 'C0031955']\", \"['C4482908']\", \"['C0011479']\", \"['C0245194']\", \"['C0031955', 'C0075870']\", \"['C2699758', 'C0002164', 'C0969589', 'C4082411', 'C0027235', 'C2934193', 'C0069776', 'C4519232', 'C3661274', 'C2935023']\", \"['C4541383']\", \"['C0051696', 'C0286651', 'C0012373', 'C0028066', 'C0042523']\", \"['C3885614', 'C1880288', 'C0013065', 'C0066624', 'C0022154', 'C3541367', 'C0025912', 'C0068485', 'C0171023', 'C0036579', 'C0040778', 'C0040805', 'C3661282']\", \"['C0048808', 'C0016343']\", \"['C0008783', 'C3653122', 'C0935989', 'C0378482']\", \"['C0002555', 'C0728747']\", \"['C0012383', 'C0013618', 'C0059506', 'C0012384']\", \"['C2348248', 'C3661450', 'C0937846', 'C0015620', 'C0050940', 'C0085154', 'C0028978', 'C0081876', 'C0034665']\", \"['C0052796', 'C0007561', 'C0008809', 'C0011276', 'C0013090', 'C0016875', 'C0065841', 'C0026187', 'C0028365', 'C0028902', 'C0038425', 'C0038745']\", \"['C0002499', 'C0004499', 'C0007716', 'C0007735', 'C0007541', 'C0007737', 'C0007546', 'C0007551', 'C0007557', 'C0007738', 'C0007559', 'C0007560', 'C0007561', 'C0007562', 'C0008777', 'C0008809', 'C0008947', 'C0055881', 'C0014810', 'C0016875', 'C3854019', 'C0020933', 'C0022487', 'C0025872', 'C0028365', 'C0028902', 'C0031955', 'C0042313']\", \"['C0025033', 'C4542175', 'C0041920']\", \"['C0012471', 'C0012472', 'C0030095']\", \"['C0002499', 'C0004521', 'C0007541', 'C0007554', 'C0007555', 'C0007559', 'C0007560', 'C0007561', 'C0008809', 'C0016875', 'C3854019', 'C0028365', 'C0028902', 'C0040193']\", \"['C0025607', 'C0772241', 'C3536876', 'C0027358']\", \"['C0014563']\", \"['C2743630', 'C0013090', 'C0016875', 'C4224790', 'C2717174']\", \"['C0006949']\", \"['C0281351']\", \"['C0039840']\", \"['C0005308', 'C0056391', 'C0011777', 'C0616274', 'C0020268', 'C0770560', 'C0025815', 'C0032950', 'C0032952', 'C0040864', 'C0040867']\", \"['C4277781']\", \"['C0103049', 'C0056391', 'C0020268', 'C0040864', 'C0040866']\", \"['C0012288', 'C0014708', 'C0059752']\", \"['C0108938', 'C0007562', 'C0055015', 'C0008809', 'C0055856', 'C0282386', 'C0065295', 'C0028365', 'C0028902']\", \"['C0008783']\", \"['C0005308', 'C0005310', 'C1872109', 'C0056391', 'C0011705', 'C0011777', 'C0020268', 'C0063077', 'C0770560', 'C0025815', 'C0032950', 'C0032952', 'C0040864', 'C0040866', 'C0040867']\", \"['C2348593']\", \"['C0006710']\", \"['C0037098']\", \"['C0002499', 'C2743630', 'C0007554', 'C0016875', 'C3854019', 'C0040341', 'C0042313']\", \"['C0051696', 'C0004147', 'C0286651', 'C0005116', 'C0055021', 'C0012373', 'C0573951', 'C0063433', 'C0022252', 'C0064079', 'C0257190', 'C0025859', 'C0286185', 'C0026400', 'C0027302', 'C0028005', 'C0068700', 'C0030040', 'C0073633', 'C0603972', 'C0041037']\", \"['C0012963']\", \"['C3272698', 'C0291140', 'C1321596', 'C0532578']\", \"['C3489748', 'C4548369', 'C0389169', 'C0282386', 'C0028365', 'C0028902', 'C4317244']\", \"['C0002371', 'C4522682', 'C0725101', 'C0053792', 'C0006681', 'C0008783', 'C0055819', 'C0015620', 'C0543448', 'C0065517', 'C0126777', 'C0024476', 'C0717900', 'C0024477', 'C0851342', 'C0085154', 'C3652561', 'C0034665', 'C0037098', 'C0142825']\", \"['C0039601', 'C0076195']\", \"['C0008318', 'C0014695']\", \"['C3853822']\", \"['C0008809', 'C0056391', 'C0020268', 'C0028365', 'C0028902']\", \"['C0010592']\", \"['C0002333', 'C0008188', 'C0008223', 'C0008174', 'C0012010', 'C0013085', 'C0059772', 'C0059862', 'C0062092', 'C0024002', 'C0065835', 'C0025386', 'C0025382', 'C0026056', 'C0069709', 'C0029997', 'C0030040', 'C0030969', 'C0032910', 'C0040979']\", \"['C0004015', 'C0006686', 'C0543448', 'C0137984', 'C0032825', 'C0137996', 'C0301527', 'C3652561']\", \"['C0016366', 'C0025826', 'C0039601', 'C0076181', 'C0076189', 'C0039607']\", \"['C0020402', 'C1831828', 'C0042682']\", \"['C0011145']\", \"['C0013090', 'C0016875', 'C0026187']\", \"['C2346970', 'C0014938', 'C0043822', 'C0014912', 'C0059610', 'C0059623', 'C0015011', 'C0023566', 'C0025147', 'C0025826', 'C0028356', 'C0068992', 'C0070122', 'C0033308', 'C0034410', 'C0039601', 'C0076181', 'C0076189']\", \"['C0770343']\", \"['C0291772', 'C3712232', 'C0526950', 'C0073374']\", \"['C0006405', 'C0538927', 'C0015846', 'C0012306', 'C0020740', 'C0073631', 'C0026549', 'C0030049', 'C0915142', 'C0246631', 'C0913246']\", \"['C0002658', 'C1701455', 'C0011812', 'C0025810', 'C3529928', 'C4726765']\", \"['C0536495']\", \"['C0005308', 'C0056391', 'C0025815', 'C0600901', 'C0032950', 'C0040864', 'C0040867']\", \"['C0000981', 'C0002502', 'C0006376', 'C0008273', 'C0008294', 'C0014963', 'C0020261', 'C0020273', 'C0021186', 'C0024730', 'C0071132', 'C0037982', 'C0076840', 'C0040869', 'C0043355']\", \"['C0025147', 'C0065879', 'C0033308']\", \"['C0005308', 'C0005310', 'C0056391', 'C0020268', 'C0063077', 'C0770560', 'C0025815', 'C0032950', 'C0032952', 'C0040864', 'C0040866', 'C0040867']\", \"['C0002679', 'C0007537', 'C0007735', 'C0007541', 'C0007737', 'C0007550', 'C0007551', 'C0007738', 'C0007560', 'C0011276', 'C0058445', 'C0016875', 'C0065295', 'C0065841', 'C0026187', 'C0028365', 'C0028902', 'C0030092', 'C0052585', 'C0039644']\", \"['C0023660', 'C0033124']\", \"['C0060180', 'C0028193']\", \"['C0054670']\", \"['C0002499', 'C0002680', 'C0007554', 'C0007561']\", \"['C0677829']\", \"['C0540776', 'C0002680', 'C0004521', 'C0007735', 'C0007554', 'C0007555', 'C0007557', 'C0007561', 'C0008777', 'C1120106', 'C0020933', 'C0025872', 'C0028365', 'C0028902', 'C0031955', 'C0038665', 'C0379881']\", \"['C0005308', 'C0005310', 'C0056391', 'C0011777', 'C0020268', 'C0063077', 'C0770560', 'C0025815', 'C0032952', 'C0039832', 'C0040866', 'C0040867']\", \"['C1122087']\", \"['C3653122']\", \"['C0011015']\", \"['C0002680', 'C0004521', 'C0006976', 'C0007538', 'C0007716', 'C0007541', 'C0007737', 'C0055003', 'C4548369', 'C0060400', 'C0007551', 'C0007554', 'C0007555', 'C0007557', 'C0108938', 'C0007738', 'C0007559', 'C0007560', 'C0007561', 'C0008809', 'C0753645', 'C0282386', 'C0028365', 'C0028902', 'C0031955', 'C0038425', 'C0038687', 'C0038689', 'C0041041']\", \"['C0102139', 'C3273401', 'C2919267']\", \"['C0005098', 'C0005578', 'C0056835', 'C0000378', 'C2933912', 'C1722267', 'C0033254', 'C1700683', 'C0041009']\", \"['C0000948', 'C0000981', 'C0048038', 'C0053071', 'C0005320', 'C0937917', 'C0525227', 'C0673966', 'C0007299', 'C0009014', 'C0012082', 'C0012086', 'C0058415', 'C0165590', 'C0301366', 'C0014563', 'C4279599', 'C1171274', 'C0006388', 'C0025631', 'C0041030', 'C4535718', 'C0144576', 'C0031849', 'C0031923', 'C0036720', 'C1451502', 'C0937916', 'C0527038']\", \"['C0002680', 'C2743630', 'C0007554', 'C0007559', 'C0007561', 'C0008168', 'C0066005', 'C0038745']\", \"['C0000981', 'C0012082', 'C0012086', 'C0025631']\", \"['C0718495', 'C0071810']\", \"['C1142985']\", \"['C0085149']\", \"['C0010934', 'C0013089', 'C0042679']\", \"['C0002371', 'C2699179', 'C3661450', 'C0015620', 'C0050940', 'C0360172', 'C0025624', 'C0085154', 'C0051923', 'C0073601', 'C0142971', 'C0077081', 'C0147037', 'C4080009']\", \"['C0002679', 'C2743630', 'C0011276', 'C0013090', 'C0016875', 'C0065841', 'C0026187', 'C0030092', 'C0039644']\", \"['C0002679', 'C0030895']\", \"['C0002679', 'C0011276', 'C0013090', 'C0016875', 'C0065841', 'C0026187', 'C0030092', 'C0038425', 'C0039644']\", \"['C4056439', 'C2000088', 'C0287983', 'C3885614', 'C0008290', 'C0016367', 'C0016368', 'C0060580', 'C0066682', 'C0016383', 'C0024056', 'C4305843', 'C0025497', 'C0026388', 'C0208216', 'C0030077', 'C0753678', 'C0030969', 'C0084572', 'C0031184', 'C0770895', 'C0033229', 'C0033399', 'C0038803', 'C0039955', 'C0040979', 'C0376160']\", \"['C0020934', 'C1705480']\", \"['C0005575']\", \"['C0796392', 'C0879427']\", \"['C0527129']\", \"['C3491162', 'C3529352']\", \"['C0000473', 'C0053225', 'C0162745']\", \"['C0040263']\", \"['C0040976', 'C0149368']\", \"['C0004599', 'C0056391', 'C0011777', 'C0016351', 'C0724587', 'C0016875', 'C0020268', 'C0063077', 'C0126177', 'C0065865', 'C0027603', 'C0032535', 'C0032950', 'C0040341']\", \"['C1172636', 'C1144403', 'C2983945', 'C2930762']\", \"['C0052761', 'C0525227', 'C0056391', 'C0011777', 'C0016351', 'C0724587', 'C0016875', 'C0020268', 'C0126177', 'C0065865', 'C0025872', 'C0032950', 'C0040341']\", \"['C0300205']\", \"['C2713595']\", \"['C0299792']\", \"['C0002502', 'C0165312', 'C0753287', 'C2698291', 'C0053091', 'C0004975', 'C0005320', 'C0006403', 'C0527379', 'C0007299', 'C0055021', 'C0008273', 'C0055723', 'C0766108', 'C0057301', 'C0286819', 'C0014027', 'C0116074', 'C3652978', 'C0287041', 'C2825622', 'C0118168', 'C0018312', 'C0061938', 'C0079466', 'C0020273', 'C0165703', 'C0022265', 'C0526399', 'C0025029', 'C0873165', 'C0025854', 'C0286185', 'C0066685', 'C0027302', 'C0028116', 'C0028193', 'C0144576', 'C0030557', 'C0030812', 'C0071074', 'C0071132', 'C0032613', 'C0072857', 'C0140591', 'C0075007', 'C0075783', 'C0662811', 'C0753183', 'C0076107', 'C0040209', 'C0040233', 'C0076840', 'C0076891', 'C0040869', 'C0040899', 'C0077147', 'C0043355', 'C0078836']\", \"['C0054222', 'C0066837']\", \"['C2986924']\", \"['C0005308', 'C0005310', 'C0092777', 'C0056391', 'C3255208', 'C0011015', 'C0013089', 'C0020268', 'C0063077', 'C0770560', 'C0025815', 'C0032950', 'C0032952', 'C0039512', 'C0040864', 'C0040866', 'C0040867', 'C0042682']\", \"['C0025147', 'C0033308']\", \"['C1876200']\", \"['C0002499', 'C0002680', 'C0004521', 'C0007541', 'C0007559', 'C0007560', 'C0007561', 'C0007562', 'C0008809', 'C0016875', 'C3854019', 'C0536495', 'C0028365', 'C0028902', 'C0031955', 'C0038665', 'C0040193', 'C0040341']\", \"['C0002371', 'C4522682', 'C0725101', 'C0008783', 'C2348248', 'C3661450', 'C0015620', 'C1881129', 'C0050940', 'C0065517', 'C0024476', 'C0851342', 'C0085154', 'C3652561', 'C0073601', 'C0037098', 'C0142825']\", \"['C0051113', 'C0051556', 'C0718495', 'C0005088', 'C0005308', 'C0005311', 'C0053523', 'C0750848', 'C0055900', 'C0056391', 'C0011705', 'C0011707', 'C0011777', 'C0057992', 'C0016374', 'C0016294', 'C0016298', 'C0016299', 'C0117996', 'C0018513', 'C0020268', 'C0063077', 'C0023660', 'C0025815', 'C0066700', 'C0031469', 'C0301304', 'C0071810', 'C0071836', 'C0032950', 'C0040864', 'C0040866', 'C0043491']\", \"['C0006403', 'C0301366', 'C5139819', 'C4045501']\", \"['C0006863', 'C0075262']\", \"['C4078806']\", \"['C0004969', 'C0106291', 'C0022267', 'C0027329', 'C0040373']\", \"['C0012757']\", \"['C0041014']\", \"['C0012381', 'C0030969', 'C0033399', 'C0039865', 'C0040989', 'C0077163']\", \"['C0010934', 'C0015133', 'C0059874', 'C0026234', 'C0042670']\", \"['C0301375', 'C2183766']\", \"['C4079854', 'C2698692']\", \"['C3273754', 'C3642427']\", \"['C0065023', 'C0042313']\", \"['C0002679', 'C2743630', 'C0011276', 'C0013090', 'C0014806', 'C0016875', 'C0065841', 'C0026187', 'C0030092', 'C0030830', 'C0039644']\", \"['C0256103', 'C0872913']\", \"['C0040864', 'C0077004']\", \"['C0129975', 'C0172827', 'C4080009']\", \"['C0040379']\", \"['C0052796', 'C0014806', 'C0287721', 'C0028365', 'C0028902', 'C0038745']\", \"['C0218986', 'C0013089', 'C4519428', 'C3896940', 'C4519273', 'C0019588', 'C4682397', 'C2980091', 'C0039902']\", \"['C0026187']\", \"['C0002499', 'C0007561', 'C0007562', 'C0009077', 'C0027324', 'C0029983']\", \"['C0005059', 'C0005308', 'C0053523', 'C0107497', 'C0055711', 'C0021978', 'C0009074', 'C0056391', 'C0013547', 'C0018242', 'C0062106', 'C0020268', 'C0022625', 'C1956280', 'C0025942', 'C0068367', 'C0069765', 'C0071810', 'C0036079', 'C0074391', 'C0075503', 'C0076110', 'C0040379', 'C0041660', 'C0043491']\", \"['C0753678']\", \"['C0008947', 'C0055881', 'C0040193']\", \"['C0103045', 'C0053284']\", \"['C1456821', 'C0249458']\", \"['C0009011', 'C0024002', 'C0028126', 'C0075262']\", \"['C0005308', 'C0005310', 'C0056391', 'C0011777', 'C0020268', 'C0063077', 'C0770560', 'C0025815', 'C0700546', 'C0040864', 'C0040866', 'C0040867']\", \"['C0050403', 'C0004057', 'C0006644', 'C0006809', 'C0006931', 'C0007248', 'C0771655', 'C0126789', 'C0066282', 'C0000970', 'C0036071']\", \"['C0005308', 'C0005310', 'C0056391', 'C0011777', 'C0020268', 'C0063077', 'C0770560', 'C0025815', 'C0600901', 'C0032950', 'C0032952', 'C0038710', 'C0040864', 'C0040866', 'C0040867']\", \"['C0123043']\", \"['C1541483']\", \"['C0002499']\", \"['C1135135', 'C0016360', 'C0123931', 'C0002475']\", \"['C1122087', 'C0051113', 'C0962603', 'C0051556', 'C1678805', 'C0005308', 'C0005311', 'C0053523', 'C0750848', 'C3491331', 'C0065767', 'C0006674', 'C0055895', 'C0055900', 'C0056391', 'C0011705', 'C0011707', 'C0011777', 'C0057992', 'C0058218', 'C1174995', 'C0717758', 'C0016374', 'C0016294', 'C0016298', 'C0016299', 'C0117996', 'C3852217', 'C0018513', 'C0020268', 'C0666743', 'C3489764', 'C0025815', 'C0066700', 'C0071836', 'C0032950', 'C3179547', 'C0953467', 'C4043954', 'C0040864', 'C0040866', 'C0040867', 'C0040976']\", \"['C0013090', 'C0014806', 'C0016875', 'C0028365', 'C0028902']\", \"['C0001047', 'C0053817', 'C0010654', 'C0014563', 'C0028351', 'C0071129']\", \"['C0050409']\", \"['C0071809']\", \"['C0048504']\", \"['C0127615', 'C0069454']\", \"['C1831731', 'C1455147']\", \"['C0051113', 'C0051556', 'C0005308', 'C0005311', 'C0053523', 'C0750848', 'C0055900', 'C0056391', 'C0717670', 'C0011705', 'C0011707', 'C0011777', 'C0057992', 'C0016374', 'C0016294', 'C0016298', 'C0016299', 'C0117996', 'C0018513', 'C0020268', 'C0025033', 'C0025684', 'C0025815', 'C0066700', 'C1998098', 'C0071836', 'C0032950', 'C0032952', 'C1527027', 'C0040864', 'C0040866', 'C0672708']\", \"['C0383429', 'C0092801', 'C0663182', 'C0254119', 'C0244713', 'C1260208', 'C0026259', 'C3848580', 'C3657824']\", \"['C0052416']\", \"['C3653189']\", \"['C0002335']\", \"['C0016343']\", \"['C0766326', 'C0016229', 'C0033429']\", \"['C0969589', 'C3653146', 'C0382131', 'C0074714', 'C1306772', 'C2935023']\", \"['C2698706']\", \"['C0011777', 'C0016875', 'C0126177', 'C0040341']\", \"['C2743630', 'C0007537', 'C0060400', 'C0053882', 'C0007738', 'C0065295', 'C0530801']\", \"['C0886584', 'C0031441', 'C0031448']\", \"['C0005330', 'C0008402', 'C2586675', 'C0009002', 'C4550351', 'C0009279', 'C0011824', 'C1142985', 'C0033228', 'C0040165', 'C0024027', 'C3536880', 'C0028053', 'C0033215', 'C0041479']\", \"['C0036079', 'C0040845']\", \"['C0006657', 'C0006674', 'C0012319', 'C0377349', 'C0770578']\", \"['C0596004']\", \"['C0023556', 'C0025023', 'C0030969', 'C0031957', 'C0034235', 'C0039832']\", \"['C0021246']\", \"['C0031862']\", \"['C0005308', 'C0005310', 'C0056391', 'C0011777', 'C0020268', 'C0063077', 'C0770560', 'C4278675', 'C0032950', 'C0032952', 'C1718383', 'C0040864', 'C0040866', 'C0040867']\", \"['C2743630', 'C0007561']\", \"['C0044410', 'C0006674', 'C0008318', 'C0012319', 'C0014695', 'C0030520']\", \"['C3273754', 'C0064113', 'C3642427', 'C0076110']\", \"['C0030125', 'C1664205', 'C0262964', 'C0014405', 'C0015021', 'C0073372', 'C0036720', 'C0039834', 'C3652604']\", \"['C0540776', 'C0052796', 'C0055856', 'C0014806', 'C0753645', 'C0533545', 'C0282386', 'C0536495', 'C0028365', 'C0028902', 'C0052585', 'C0907410', 'C0379881']\", \"['C0520442', 'C0052820', 'C0014027', 'C0246904', 'C0041536']\", \"['C1143018']\", \"['C0040193']\", \"['C0001655']\", \"['C0016860']\", \"['C2980074']\", \"['C0065295']\", \"['C0064113', 'C0393080']\", \"['C0002499', 'C0004499', 'C0004521', 'C0007554', 'C0007560', 'C0007561', 'C0016875', 'C3854019', 'C0025893', 'C0031955', 'C0040193', 'C0040341']\", \"['C0006949', 'C0060135', 'C0064636', 'C0377265', 'C0069751', 'C0031412', 'C0031507', 'C0033148', 'C0068897', 'C0076829']\", \"['C1615657']\", \"['C0004057', 'C0006246', 'C0006644', 'C0008281', 'C0009214', 'C0057605', 'C0011816', 'C0013092', 'C0014479', 'C0018305', 'C0020740', 'C4542172', 'C0000970', 'C0031408', 'C0031469', 'C0031495', 'C0070709', 'C0033798']\", \"['C0002499', 'C0007554', 'C0007561']\", \"['C4055433', 'C4055109', 'C0672663']\", \"['C0040864', 'C0040866', 'C0040867', 'C0077004']\", \"['C0006466', 'C0529351', 'C2343853', 'C0069805', 'C1099677', 'C0388753', 'C0772089']\", \"['C0045212', 'C0021735', 'C1453933', 'C0963398']\", \"['C0010583', 'C0281581', 'C0013089', 'C0042679']\", \"['C0058344', 'C0016298', 'C0663351', 'C0046100', 'C0040845']\", \"['C0071330', 'C0037556']\", \"['C0006931', 'C2700226', 'C0023660']\", \"['C0796392', 'C2744440', 'C3530172']\", \"['C1566537']\", \"['C0004609', 'C0010976', 'C0146011']\", \"['C3657270']\", \"['C0002499', 'C0004521', 'C0055003', 'C0008809', 'C0016875', 'C3854019', 'C0066005', 'C0028365', 'C0028902', 'C0031955', 'C0379881']\", \"['C0011816', 'C0034414']\", \"['C0105750', 'C0763530', 'C0055152', 'C0216971', 'C1609686', 'C0771648', 'C0077539']\", \"['C3653122', 'C0126120']\", \"['C0961965']\", \"['C0762737', 'C4287815', 'C3818721', 'C2604307', 'C2352806', 'C2930789', 'C4301624', 'C1130428', 'C2742502']\", \"['C3709760']\", \"['C0014806']\", \"['C0041040']\", \"['C0005632', 'C0055568', 'C0011182', 'C0062922', 'C0032483', 'C0543448', 'C0065517', 'C0126774', 'C0126777', 'C0024476', 'C0717900', 'C0024477', 'C0024480', 'C0032825', 'C0770578', 'C0074769']\", \"['C0037982']\", \"['C3490795']\", \"['C0002499', 'C0004499', 'C0007716', 'C0007735', 'C0007541', 'C0007737', 'C0007546', 'C0007551', 'C0007554', 'C0007557', 'C0007738', 'C0007559', 'C0007560', 'C0007561', 'C0007562', 'C0008777', 'C0008809', 'C0008947', 'C0055881', 'C0014810', 'C0016875', 'C3854019', 'C0020933', 'C0022487', 'C0025872', 'C0027324', 'C0028365', 'C0028902', 'C0029983', 'C0031955', 'C0040341', 'C0042313']\", \"['C0028833']\", \"['C0002371', 'C4522682', 'C0725101', 'C0006979', 'C0008188', 'C2348248', 'C3661450', 'C0209315', 'C0937846', 'C4082411', 'C0062922', 'C0596004', 'C1881129', 'C0301373', 'C0050940', 'C0065517', 'C0024476', 'C0851342', 'C0360172', 'C0025624', 'C3848532', 'C0085154', 'C0051923', 'C0069833', 'C0081876', 'C0301375', 'C0031978', 'C0286382', 'C0071324', 'C3652561', 'C0033447', 'C0378482', 'C0069562', 'C0036442', 'C0037098', 'C0142825', 'C0077081']\", \"['C0062648']\", \"['C0038675', 'C0038689']\", \"['C0540776', 'C0002645', 'C0002680', 'C0052796', 'C0004499', 'C0004521', 'C0052865', 'C0007537', 'C0007735', 'C0007541', 'C0007737', 'C0060405', 'C0245519', 'C0007550', 'C0007551', 'C0007554', 'C0007555', 'C0007557', 'C0108938', 'C0007738', 'C2001525', 'C0007559', 'C0007560', 'C0007561', 'C0007562', 'C0055015', 'C0008777', 'C0008809', 'C0055856', 'C0055860', 'C1120106', 'C0753645', 'C0533545', 'C0287721', 'C0020933', 'C4482908', 'C0282386', 'C0065295', 'C0025893', 'C0536495', 'C0028365', 'C0028902', 'C0031955', 'C0052585', 'C0038425', 'C0075870', 'C0907410', 'C0040193', 'C1260298', 'C0379881']\", \"['C0056519', 'C0023660', 'C0005038', 'C0070585']\", \"['C0037537', 'C0042665']\", \"['C0004057', 'C0006644', 'C4694272', 'C4549503', 'C4694273', 'C0023863', 'C0027396', 'C0540623', 'C0069760', 'C0031412', 'C4519126', 'C0762662']\", \"['C0050458', 'C0009026', 'C0016368', 'C0060580', 'C0066682', 'C0753678', 'C0033399', 'C0035179', 'C0040989']\", \"['C0050405', 'C0005308', 'C0005310', 'C0053817', 'C0056391', 'C3653122', 'C0011705', 'C3653146', 'C0060501', 'C1948374', 'C0063077', 'C0770560', 'C0123047', 'C0025815', 'C0066700', 'C0068483', 'C0028351', 'C0029193', 'C0069392', 'C0053881', 'C0071129', 'C0526058', 'C0073076', 'C1306772', 'C0146337', 'C0040864', 'C0040866', 'C0040867', 'C0077497', 'C2935023']\", \"['C0018033', 'C0005308', 'C0538927', 'C0056391', 'C2714681', 'C0059865', 'C0020740', 'C0085217', 'C0083381', 'C0025677', 'C0025815', 'C0027396', 'C0069739', 'C0032950', 'C0032952', 'C0762662', 'C0018034', 'C0036078', 'C1609165', 'C0040377', 'C0040864', 'C0040867']\", \"['C0002403', 'C0005098', 'C0005578', 'C0006230', 'C0006982', 'C0023570', 'C0033254', 'C0041009']\", \"['C1664205', 'C3489682']\", \"['C0051113', 'C0051556', 'C0718495', 'C0005088', 'C0005308', 'C0005310', 'C0005311', 'C0053523', 'C0750848', 'C0041942', 'C0055895', 'C0055900', 'C0056391', 'C0011705', 'C0011707', 'C0011777', 'C0057992', 'C0016374', 'C0016294', 'C0016298', 'C0016299', 'C0117996', 'C0018513', 'C0020268', 'C0063077', 'C0770560', 'C0025815', 'C0600901', 'C0066700', 'C0071836', 'C0032950', 'C0032952', 'C0040864', 'C0040866', 'C0040867']\", \"['C0023972']\", \"['C2743630', 'C0030830']\", \"['C0006938', 'C0054836', 'C0573951', 'C0072973', 'C0076891', 'C0216784']\", \"['C0056391', 'C0011777', 'C0016351', 'C0724587', 'C0020268', 'C0065865', 'C0032950']\", \"['C1098510', 'C0019134', 'C0043031']\", \"['C0005640', 'C0031444']\", \"['C0003968', 'C0006711', 'C2348308', 'C0243237', 'C0000545', 'C0060276', 'C0016410', 'C0034272']\", \"['C0009262', 'C0033209', 'C0038742']\", \"['C0005308', 'C0005310', 'C0005740', 'C0007257', 'C0056391', 'C0011777', 'C0020268', 'C0063077', 'C0770560', 'C0025033', 'C0025815', 'C0253355', 'C0032950', 'C0039871', 'C0040864', 'C0040866', 'C0040867', 'C0041920', 'C0042670']\", \"['C0600203', 'C0165032']\", \"['C0389169']\", \"['C0600901', 'C0171302']\", \"['C0540776', 'C0002499', 'C0004499', 'C0004521', 'C0007541', 'C0007550', 'C0007551', 'C0007554', 'C0007555', 'C0007557', 'C2001525', 'C0007559', 'C0007560', 'C0007561', 'C0007562', 'C0008777', 'C0008809', 'C0016875', 'C3854019', 'C0020933', 'C0025893', 'C0028365', 'C0028902', 'C0031955', 'C0040193', 'C0040341', 'C0379881']\", \"['C0016360']\", \"['C0028735', 'C0022267', 'C0040373']\", \"['C0011777', 'C0146337', 'C0040867', 'C0077004']\", \"['C2316164']\", \"['C2743630', 'C0026187', 'C0530801', 'C0030830']\", \"['C5140028']\", \"['C0357126']\", \"['C0162745']\", \"['C0054670', 'C0169964']\", \"['C0002680', 'C2743630', 'C0031955']\", \"['C0000981', 'C0009011', 'C0059690', 'C0024002', 'C0109002', 'C0070072', 'C0070592', 'C0041038', 'C0042291']\", \"['C0005308', 'C0005310', 'C0056391', 'C0011777', 'C0020268', 'C0063077', 'C0770560', 'C0021246', 'C0025815', 'C0032950', 'C0040864', 'C0040866', 'C0040867']\", \"['C0028053']\", \"['C4079904']\", \"['C0016366', 'C0039601', 'C0076181', 'C0076189', 'C0039607']\", \"['C0095278']\", \"['C0286651', 'C0528023', 'C2586675', 'C0055775', 'C1142985', 'C0033228', 'C0082608', 'C0021547', 'C0024027', 'C3536880', 'C1101838', 'C0085542', 'C0965129', 'C0074554']\", \"['C0357126', 'C1328071', 'C0068395', 'C3179929', 'C4310578']\", \"['C0002645', 'C0004521', 'C0005304', 'C0007538', 'C0007716', 'C0007541', 'C0007737', 'C0055003', 'C0007551', 'C0007554', 'C0007555', 'C0007557', 'C0108938', 'C0007738', 'C0007559', 'C0007560', 'C0007561', 'C0007562', 'C0055015', 'C0008809', 'C0055860', 'C0011276', 'C0753645', 'C0282386', 'C0065162', 'C0065841', 'C0028156', 'C0028157', 'C0028365', 'C0028902', 'C0031955', 'C0038425', 'C0038687', 'C0038689', 'C0040193', 'C0041041']\", \"['C0771259']\", \"['C0002499', 'C2743630', 'C0007554', 'C0007559', 'C0016875', 'C3854019', 'C0040341']\", \"['C0008318', 'C3714801', 'C0014695', 'C0016410', 'C3536880', 'C0087161', 'C0035527', 'C0037508', 'C0039840']\", \"['C4726765']\", \"['C0002679', 'C0064113', 'C0393080']\", \"['C0070455', 'C0031962', 'C0034245']\", \"['C0007560', 'C0014810', 'C0022487']\", \"['C0036442']\", \"['C0030817', 'C0025405']\", \"['C0055877']\", \"['C0053792', 'C0057981', 'C0012525', 'C0026549', 'C4317559']\", \"['C0005308', 'C0005310', 'C0056391', 'C0011777', 'C0020268', 'C0063077', 'C0770560', 'C0025815', 'C0032950', 'C0032952', 'C0085149', 'C0040864', 'C0040866', 'C0040867']\", \"['C1508750']\", \"['C0026256']\", \"['C0245561', 'C0657912', 'C0023791']\", \"['C0002679', 'C0007561', 'C0007562', 'C0011276', 'C0013090', 'C0014310', 'C0016875', 'C0065841', 'C0026187', 'C0030092', 'C0039644']\", \"['C0016245']\", \"['C0002499', 'C0004521', 'C0016875', 'C3854019', 'C0031955', 'C0040193']\", \"['C0006949', 'C0015046', 'C0025629', 'C0025382', 'C0031412', 'C0031507', 'C0033148', 'C0076829']\", \"['C0016875', 'C0023726']\", \"['C0540776', 'C0002499', 'C0004499', 'C0004521', 'C0055003', 'C0007554', 'C0007559', 'C0008809', 'C0016875', 'C3854019', 'C0025893', 'C0028365', 'C0028902', 'C0031955', 'C0040193', 'C0040341', 'C0379881']\", \"['C0085170', 'C0055147', 'C0908935', 'C0058895', 'C0296800', 'C1174893', 'C0065180', 'C0085173']\", \"['C0017797', 'C1530889']\", \"['C2987648', 'C2987430', 'C1122962']\", \"['C0002679', 'C0009074', 'C0022625', 'C0028741']\", \"['C4086264']\", \"['C4724806', 'C0379149']\", \"['C0121902', 'C0085272', 'C0064906']\", \"['C2828299', 'C0034283', 'C0034414', 'C0903411']\", \"['C0016298']\", \"['C0175022']\", \"['C0671970', 'C0535459', 'C0030032', 'C0016778']\", \"['C0013090', 'C0016875', 'C0026187', 'C0038425']\", \"['C0028365', 'C0379881']\", \"['C0540776', 'C0002679', 'C0002680', 'C0052796', 'C0060400', 'C0108938', 'C0007560', 'C0007561', 'C0007562', 'C0055015', 'C0008809', 'C0011276', 'C0013090', 'C0014310', 'C0014806', 'C0016875', 'C0753645', 'C0065841', 'C0025893', 'C0026187', 'C0028365', 'C0028902', 'C0030092', 'C0031955', 'C0001268', 'C0039644', 'C0379881']\", \"['C0301366']\", \"['C0006491', 'C0027348', 'C0030073', 'C0030873', 'C0025376']\", \"['C0027603']\", \"['C0025859', 'C0042523']\", \"['C1956497', 'C4547051']\", \"['C4082411', 'C0596004']\", \"['C0010648']\", \"['C0211011']\", \"['C0005308', 'C0056391', 'C0011777', 'C0020268', 'C0770560', 'C0025815', 'C0030072', 'C0032950', 'C0032952', 'C0040864', 'C0040867']\", \"['C0012403', 'C0600296']\", \"['C0031448']\", \"['C0210630', 'C0218640', 'C3640212', 'C1136535', 'C0216231']\", \"['C0050405', 'C0001047', 'C0002679', 'C0053817', 'C0060400', 'C0053882', 'C0010523', 'C0010654', 'C0011276', 'C0058445', 'C0013090', 'C0014479', 'C0014563', 'C0016875', 'C0027235', 'C0065162', 'C0065295', 'C0065841', 'C0026187', 'C0028351', 'C0028365', 'C0028902', 'C0029193', 'C0030092', 'C0071129', 'C0039542', 'C0039644', 'C0039771']\", \"['C0054340', 'C0041031', 'C0002615', 'C0003143', 'C0052759', 'C0054120', 'C0006644', 'C0055147', 'C0008183', 'C0008281', 'C0008929', 'C0055904', 'C0009214', 'C0010547', 'C0010620', 'C0908935', 'C0011816', 'C0058056', 'C0058389', 'C0013092', 'C0014479', 'C0033567', 'C0017890', 'C0018304', 'C0018305', 'C0020264', 'C0063449', 'C0724614', 'C0065180', 'C4542172', 'C0025625', 'C0066101', 'C0301374', 'C0604284', 'C0795712', 'C0030071', 'C0054668', 'C0070563', 'C0031408', 'C0031469', 'C0031495', 'C0032831', 'C0033399', 'C0033798', 'C0072735', 'C0036442', 'C0142825', 'C3888064', 'C0085173', 'C3652618', 'C0076890', 'C0041090', 'C0078643']\", \"['C0008809', 'C0028365', 'C0028902']\", \"['C0060926', 'C2700226', 'C1700683']\", \"['C0004599', 'C0056391', 'C0011777', 'C0016875', 'C3854019', 'C0018165', 'C0020268', 'C0063077', 'C0027603', 'C0030092', 'C0032535', 'C0032950', 'C0039644']\", \"['C0006949', 'C0064636', 'C0031412', 'C0031507', 'C0033148']\", \"['C0003641', 'C4720053']\", \"['C2743630', 'C0014806', 'C0030830']\", \"['C0520442', 'C0012582', 'C0116569', 'C0033497', 'C2001572']\", \"['C0032950']\", \"['C0023992', 'C0073371']\", \"['C4055417']\", \"['C0039832']\", \"['C0051696', 'C0286651', 'C0085542', 'C0072973', 'C0965129', 'C0074554', 'C0248719', 'C2974521']\", \"['C0002679', 'C2743630', 'C0008809', 'C0011276', 'C0013090', 'C0016875', 'C0282386', 'C0065841', 'C0026187', 'C0028365', 'C0028902', 'C0030092', 'C0030830', 'C0039644']\", \"['C0025853']\", \"['C0034403', 'C0068788', 'C0074246', 'C0040263']\", \"['C2586675', 'C0033228', 'C0021547', 'C0024027', 'C0074554']\", \"['C0540776', 'C0052796', 'C0028365', 'C0028902', 'C0379881']\", \"['C0012383']\", \"['C0050405']\", \"['C0034283', 'C0038675']\", \"['C0030071']\", \"['C0016365']\", \"['C0056391', 'C0011777', 'C0016351', 'C0724587', 'C0016875', 'C0020268', 'C0126177', 'C0065865', 'C0032950', 'C0040341']\", \"['C0771311', 'C2346970', 'C0073994', 'C0108101', 'C0108121', 'C0006711', 'C0008318', 'C1690432', 'C0014695', 'C0014912', 'C0015011', 'C0379200', 'C0123903', 'C0963839', 'C0023566', 'C0126774', 'C0024477', 'C0025147', 'C0028356', 'C0068992', 'C0031862', 'C0033308', 'C0140610', 'C3661283', 'C0936139', 'C0076660']\", \"['C0016410', 'C0023413', 'C2721771']\", \"['C1609931', 'C1609165']\", \"['C0014938', 'C0012145', 'C1313616', 'C0011185']\", \"['C0717537', 'C0006686', 'C0108111', 'C3652644', 'C0108121', 'C0108139', 'C4301626']\", \"['C0043872']\", \"['C0024480']\", \"['C0046948', 'C0120446']\", \"['C0055339', 'C0028365', 'C0028902']\", \"['C0022625']\", \"['C3653146', 'C0039771']\", \"['C0718043']\", \"['C2346836', 'C0728747']\", \"['C0005308', 'C0005310', 'C0056391', 'C0011777', 'C0020268', 'C0063077', 'C0770560', 'C0025815', 'C0600901', 'C0032950', 'C0032952', 'C0040864', 'C0040866', 'C0040867']\", \"['C0771957']\", \"['C0034272']\", \"['C2743630', 'C0008947', 'C0055881']\", \"['C2699709']\", \"['C0006405', 'C0009014', 'C0011817', 'C0011892', 'C0012306', 'C0020740', 'C0073631', 'C0025605', 'C0027360', 'C0030049', 'C0030073', 'C0025376', 'C0211011']\", \"['C0044410']\", \"['C0004057', 'C0006644', 'C0014479', 'C0018305', 'C0020740', 'C4542172', 'C0027396', 'C0000970', 'C0031408', 'C0031469', 'C0031495', 'C0033798']\", \"['C0006466', 'C0529351', 'C2343853', 'C1876226', 'C2983812', 'C0069805', 'C1099677', 'C0388753', 'C0772089', 'C4279743']\", \"['C0052796', 'C2351042', 'C0008809', 'C0016875', 'C0753645', 'C3854019', 'C0018165', 'C0282386', 'C0536495', 'C0028365', 'C0028902', 'C0030092', 'C0032535', 'C0032950', 'C0071839', 'C0138273', 'C0039644', 'C0040341', 'C0041041']\", \"['C3885063']\", \"['C1302054']\", \"['C0027396']\", \"['C0008996']\", \"['C0028128', 'C0028158', 'C0040373']\", \"['C4524703']\", \"['C0719064', 'C0009214', 'C2714681', 'C0011816', 'C0018305', 'C0085217', 'C0126789', 'C0027396', 'C0031408', 'C0031469', 'C0036071', 'C0036079']\", \"['C0023413', 'C2721771']\", \"['C0005308', 'C0005310', 'C0008269', 'C0056391', 'C0011777', 'C0020268', 'C0063077', 'C0770560', 'C0025815', 'C0011185', 'C0040864', 'C0040866', 'C0040867']\", \"['C0033497']\", \"['C0016229', 'C0033429']\", \"['C0540776', 'C0002680', 'C0007555', 'C0007557', 'C0007560', 'C0007561', 'C0007562', 'C0055015', 'C0011276', 'C0013090', 'C0014806', 'C0016875', 'C0065841', 'C0025893', 'C0026187', 'C0028365', 'C0028902', 'C0030092', 'C0031955', 'C0039644', 'C0379881']\", \"['C1321596']\", \"['C0057144']\", \"['C0008947', 'C0074246', 'C0040263']\", \"['C0003639', 'C0054040', 'C0012702', 'C0059688', 'C0079856', 'C0030040', 'C0032901', 'C0085237']\", \"['C4550351', 'C0060231', 'C3696416']\", \"['C0043606']\", \"['C0013089', 'C0040165', 'C0041014']\", \"['C0054340', 'C0003143', 'C0052759', 'C0052762', 'C0004906', 'C0006246', 'C0054672', 'C0055147', 'C0008183', 'C0008281', 'C0008929', 'C0055904', 'C0010547', 'C0908935', 'C0057605', 'C0057606', 'C0011816', 'C0012522', 'C0058389', 'C0013092', 'C0014479', 'C0065180', 'C4542172', 'C0025625', 'C0301374', 'C0054668', 'C0070563', 'C0031408', 'C0031469', 'C0031495', 'C0070709', 'C0033405', 'C0033798', 'C0072735', 'C0036442', 'C0085173', 'C0076890', 'C0041090', 'C0041098']\", \"['C0796392']\", \"['C0002679', 'C0022625', 'C0936148']\", \"['C0022625', 'C1872203']\", \"['C0008803', 'C0012381', 'C0058371', 'C3652852']\", \"['C0073085']\", \"['C0005308', 'C0005310', 'C0056391', 'C0011777', 'C0616274', 'C0020268', 'C0063077', 'C0770560', 'C0025815', 'C0032950', 'C0032952', 'C0040864', 'C0040866', 'C0040867']\", \"['C0004147', 'C0005640', 'C0065374', 'C0025859', 'C0031444']\", \"['C3886623']\", \"['C0002645', 'C0055856']\", \"['C0020402']\", \"['C0107497', 'C0041942', 'C0055711', 'C0009074', 'C0013547', 'C0022625', 'C0771655', 'C0025942', 'C0069488', 'C0069765', 'C0072735', 'C0074281', 'C0075503', 'C0076110', 'C0040379', 'C0043491']\", \"['C3714801', 'C0243237', 'C0060237', 'C0060240', 'C0060276', 'C0060277', 'C0060274', 'C0016410', 'C0018927', 'C0075429']\", \"['C0065760']\", \"['C0013089', 'C0065175', 'C0025033', 'C0025677', 'C0245194', 'C0042682']\", \"['C0002499', 'C0002680', 'C0004521', 'C0016875', 'C3854019', 'C0031955', 'C0040193']\", \"['C4050579']\", \"['C0016277', 'C0028741']\", \"['C0286651', 'C3529352', 'C1142985', 'C2827241', 'C2604635', 'C0965129', 'C0074554']\", \"['C0005740', 'C0146224']\", \"['C0051113', 'C0051556', 'C0005308', 'C0005311', 'C0053523', 'C0750848', 'C0065767', 'C0055895', 'C0055900', 'C0056391', 'C0011705', 'C0011707', 'C0011777', 'C0057992', 'C0016374', 'C0016294', 'C0016298', 'C0016299', 'C0117996', 'C0018513', 'C0020268', 'C0025815', 'C0066700', 'C0071836', 'C0032950', 'C0040864', 'C0040866', 'C0040976']\", \"['C0047625', 'C0070694']\", \"['C0023660', 'C0005038', 'C0024547', 'C0070455', 'C0031962', 'C0034245', 'C0961781', 'C0076295']\", \"['C0006657', 'C0008318', 'C0012319', 'C0014695']\", \"['C0060240', 'C0060276', 'C0060277', 'C0302583']\", \"['C0042670']\", \"['C0003639', 'C0059688']\", \"['C0006657', 'C0006674', 'C0717537', 'C0006681', 'C0006686', 'C0108101', 'C0108111', 'C0006699', 'C3652644', 'C0108121', 'C0771535', 'C0108124', 'C0006711', 'C0008318', 'C0012319', 'C0014695', 'C0126774', 'C0024477', 'C0031862']\", \"['C0010583']\", \"['C4018471']\", \"['C1456821', 'C0209227', 'C0249458']\", \"['C3852841', 'C0290883', 'C0541315', 'C0851344', 'C0016366', 'C0120107', 'C0246421', 'C0065879', 'C0025826', 'C3853822', 'C4045494', 'C0039601', 'C0076181', 'C0076189', 'C0039607']\", \"['C0004057', 'C0054340', 'C0002615', 'C0052759', 'C0054120', 'C0006644', 'C0054672', 'C0055147', 'C0008183', 'C0008281', 'C0055904', 'C0009214', 'C0010547', 'C0908935', 'C0011816', 'C0058056', 'C0013092', 'C0014479', 'C0033567', 'C0017890', 'C0018304', 'C0018305', 'C0020264', 'C0012306', 'C0022245', 'C0065180', 'C4542172', 'C0301374', 'C0000970', 'C0054668', 'C0031408', 'C0031469', 'C0031495', 'C0032831', 'C0033798', 'C0072735', 'C0036079', 'C0036442', 'C0142825', 'C3888064', 'C0085173', 'C0076890', 'C0041098']\", \"['C2607750']\", \"['C0717537', 'C0006686', 'C0108111', 'C3652644', 'C0108121', 'C0022245']\", \"['C0002680']\", \"['C4731850', 'C3896714']\", \"['C1176316']\", \"['C0016225', 'C0596004', 'C0031379', 'C0006464']\", \"['C2975435']\", \"['C0052752', 'C0030350', 'C0030899', 'C0031448', 'C1999375']\", \"['C0002711', 'C0042845', 'C0020316']\", \"['C1722685', 'C0246269', 'C4505508', 'C0038149']\", \"['C0969589', 'C0053817', 'C3653146', 'C0014563', 'C0117996', 'C0060657', 'C0027235', 'C0028351', 'C0029193', 'C0071129', 'C0073992', 'C0039542', 'C0039771', 'C1306772', 'C0077497', 'C2935023']\", \"['C2742502']\", \"['C1134659', 'C0671970', 'C0016360', 'C0123931', 'C0069717', 'C2980094']\", \"['C0030072']\", \"['C0040987']\", \"['C0072315', 'C0076096']\", \"['C0123163']\", \"['C0262965', 'C0023566', 'C0025042', 'C0025506', 'C0028356', 'C0028360', 'C0040613']\", \"['C5139717', 'C0024730', 'C0207683']\", \"['C3502471']\", \"['C0002083', 'C0002607', 'C0005308', 'C0005310', 'C0056391', 'C0011777', 'C0060825', 'C0020268', 'C0063077', 'C0770560', 'C0025815', 'C0032950', 'C0032952', 'C0040864', 'C0040866', 'C0040867']\", \"['C0060240', 'C0031469', 'C0301304', 'C0071810', 'C0149368', 'C0043491']\", \"['C0023863']\", \"['C0130137']\", \"['C0057610']\", \"['C0142046', 'C0143083', 'C0169964']\", \"['C2744960']\", \"['C0086728', 'C0071808']\", \"['C0076195']\", \"['C0054340', 'C0041031', 'C0003143', 'C0085170', 'C0052759', 'C0052762', 'C0004906', 'C0005308', 'C0005310', 'C1101148', 'C0006246', 'C0054201', 'C0006644', 'C0054672', 'C0055147', 'C0008183', 'C0008281', 'C0907850', 'C0008929', 'C0055904', 'C0009214', 'C0056391', 'C3653122', 'C0010547', 'C0010620', 'C0908935', 'C0011705', 'C0011777', 'C0057605', 'C0057606', 'C0011816', 'C0058056', 'C0058389', 'C0013092', 'C0058895', 'C0014479', 'C0033567', 'C0296800', 'C0060501', 'C1948374', 'C0117996', 'C0017890', 'C0018305', 'C0020264', 'C0020268', 'C0063077', 'C0770560', 'C0020404', 'C0027235', 'C0081787', 'C1174893', 'C0065180', 'C0065834', 'C4542172', 'C0025625', 'C0066101', 'C0301374', 'C0025815', 'C0171302', 'C0066700', 'C0298130', 'C0527189', 'C0000970', 'C0053881', 'C0054668', 'C0070563', 'C0031408', 'C0031469', 'C0031495', 'C0070709', 'C0032831', 'C0526058', 'C0032950', 'C0032952', 'C0033399', 'C0033798', 'C0072735', 'C0243449', 'C0753318', 'C0534301', 'C0036079', 'C0036442', 'C0085173', 'C0076890', 'C0146337', 'C0040864', 'C0040866', 'C0040867', 'C0041090', 'C0041098']\", \"['C0062076', 'C0936148']\", \"['C0002615', 'C0772056', 'C0005059', 'C0053229', 'C0054120', 'C0008183', 'C0055904', 'C0009214', 'C0010547', 'C0011816', 'C0058056', 'C0033567', 'C0017890', 'C0018304', 'C0018305', 'C0062922', 'C0020264', 'C0012306', 'C0301374', 'C3848532', 'C0054668', 'C0031408', 'C0031469', 'C0031495', 'C0624744', 'C0032831', 'C0072735', 'C0036442', 'C0142825', 'C3888064', 'C0304571', 'C0078811']\", \"['C1313052']\", \"['C4291320', 'C0065023']\", \"['C0013084']\", \"['C0003968', 'C0006710', 'C0035976', 'C0149381']\", \"['C0041031', 'C0005308', 'C0005310', 'C0056391', 'C0011777', 'C0020268', 'C0063077', 'C0770560', 'C0066101', 'C0025815', 'C0032950', 'C0032952', 'C0033399', 'C0040864', 'C0040866', 'C0040867']\", \"['C0023610', 'C0023863']\", \"['C0008809', 'C0056391', 'C0011777', 'C0020268', 'C0028365', 'C0028902']\", \"['C0041942', 'C0108342', 'C0077089']\", \"['C0103045', 'C0771221', 'C0062103']\", \"['C1873633']\", \"['C0795575']\", \"['C0069488']\", \"['C0006644', 'C0538927', 'C2714681', 'C0012091', 'C0020740', 'C0022635', 'C0085217', 'C0126789', 'C0025042', 'C0025152', 'C4542172', 'C0027396', 'C0762662']\", \"['C0025219', 'C0251504']\", \"['C0007047', 'C0014704', 'C0025760']\", \"['C0050436', 'C0012341', 'C0058181', 'C0072865', 'C0038670']\", \"['C0007557', 'C0007560', 'C0025872', 'C0031955']\", \"['C0292819']\", \"['C0005308', 'C0005310', 'C0056391', 'C0011777', 'C0020268', 'C0063077', 'C0770560', 'C0025815', 'C0032950', 'C0032952', 'C0040864', 'C0040866', 'C0040867']\", \"['C0002679', 'C0064113', 'C0022625']\", \"['C0002645', 'C0052796', 'C0030829', 'C2743630', 'C0007537', 'C0007538', 'C0007716', 'C0007541', 'C0007737', 'C0060405', 'C0245519', 'C0055003', 'C0060400', 'C0007551', 'C0007555', 'C0007557', 'C0108938', 'C0053882', 'C0007738', 'C2001525', 'C0007559', 'C0055014', 'C0007560', 'C0007561', 'C0007562', 'C0055015', 'C0008809', 'C0055856', 'C0008947', 'C0055881', 'C0756085', 'C0058445', 'C0014806', 'C0282386', 'C0663241', 'C0065295', 'C0536495', 'C0028365', 'C0028902', 'C0530801', 'C0030830', 'C0756081', 'C0907410']\", \"['C0017066', 'C0042646']\", \"['C0937917']\", \"['C0531483']\", \"['C0014912', 'C0059610', 'C0059623', 'C0059668', 'C0025506', 'C0028356', 'C0028360', 'C0034410', 'C0040613']\", \"['C0540776', 'C0007537', 'C0060405', 'C0108938', 'C0053882', 'C0008809', 'C0055856', 'C0058445', 'C0287721', 'C0282386', 'C0028365', 'C0028902', 'C0052585', 'C0379881']\", \"['C0907349']\", \"['C0007555', 'C0007557', 'C0007560', 'C0007561', 'C1120106', 'C0025872']\", \"['C0143083', 'C0169964']\", \"['C0600296']\", \"['C0007559']\", \"['C1456821', 'C0056391', 'C0209227', 'C0020268']\", \"['C0001040', 'C3714499', 'C0051691']\", \"['C0002499', 'C0004521', 'C0007559', 'C0055860', 'C0016875', 'C3854019', 'C0031955', 'C0040193', 'C0040341']\", \"['C0245109']\", \"['C4519229', 'C0048897']\", \"['C0002679', 'C0009074', 'C0057610', 'C1113707', 'C0771655', 'C0025942', 'C0149368', 'C0043491']\", \"['C4317244']\", \"['C0040165', 'C0041014']\", \"['C0116569', 'C0033497']\", \"['C0036079']\", \"['C0005740', 'C0007257', 'C0011777']\", \"['C2743630', 'C0007554', 'C0007560', 'C0007561', 'C0007562', 'C0008168', 'C0066005']\", \"['C1506770', 'C2713008', 'C2935436']\", \"['C2980091']\", \"['C0023660']\", \"['C0085208']\", \"['C0025147', 'C0068980', 'C0028356', 'C0033308']\", \"['C0165603', 'C0120726', 'C0020336', 'C0531104', 'C0008241', 'C0072768', 'C0038745']\", \"['C0041031', 'C0003143', 'C0052759', 'C0052946', 'C1101148', 'C0006246', 'C0054672', 'C0008281', 'C0008929', 'C0010620', 'C0057605', 'C0057606', 'C0058389', 'C0013092', 'C0064263', 'C0020404', 'C4542172', 'C0025625', 'C0066101', 'C0070563', 'C0031408', 'C0070709', 'C0033399', 'C0033405', 'C0534301', 'C0041090', 'C0041098']\", \"['C3490329']\", \"['C0672596']\", \"['C0005013']\", \"['C1138226']\", \"['C0055895']\", \"['C0717537', 'C0006686', 'C0108111', 'C0006699', 'C3652644', 'C0108121']\", \"['C0000956', 'C0916062', 'C2975435', 'C0042071']\", \"['C0025872']\", \"['C0000473', 'C0053225', 'C0252643']\", \"['C0060240', 'C0071810', 'C0149368', 'C0043491']\", \"['C0020811', 'C0040987', 'C0042646']\", \"['C0050521', 'C0069562']\", \"['C0210630']\", \"['C2742587']\", \"['C0676831', 'C1619962', 'C0663182', 'C0085379', 'C0085149']\", \"['C0002645', 'C0002680', 'C0052796', 'C0245519', 'C0060400', 'C0108938', 'C0053882', 'C0007562', 'C0055015', 'C0008777', 'C0055856', 'C0753645', 'C0533545', 'C0020933', 'C0282386', 'C0065162', 'C0536495', 'C0028365', 'C0028902', 'C0527129', 'C0038689', 'C0041041']\", \"['C0002499', 'C2743630', 'C0007554', 'C0014806', 'C0016875', 'C3854019', 'C0042313']\", \"['C0010934', 'C0042670']\", \"['C0126177']\", \"['C0002144', 'C0137996']\", \"['C0301409']\", \"['C0033511']\", \"['C0026187', 'C0038425']\", \"['C0055568', 'C0011182', 'C0062922']\", \"['C0011701']\", \"['C1960121']\", \"['C0005070']\", \"['C0055897', 'C0058425', 'C2698448', 'C0069753']\", \"['C0022267', 'C0040108']\", \"['C0001047', 'C0001465', 'C0010654', 'C3264621', 'C3852684', 'C4519194']\", \"['C0014921', 'C0016384']\", \"['C0034235']\", \"['C0006938', 'C0288171', 'C0126174']\", \"['C3853839', 'C1567130']\", \"['C0007561']\", \"['C0007557', 'C0028365', 'C0379881']\", \"['C0540776', 'C0052796', 'C0007537', 'C0060400', 'C0108938', 'C0053882', 'C0055014', 'C0008809', 'C0055856', 'C0058445', 'C0533545', 'C0287721', 'C0282386', 'C0065162', 'C0065295', 'C0028365', 'C0028902', 'C0052585', 'C0379881']\", \"['C0008803', 'C0012381', 'C0030969', 'C0033399', 'C0039865', 'C0040989', 'C0077163']\", \"['C0019453', 'C0762737', 'C0079083', 'C0008838', 'C0013089', 'C0045093', 'C0020402', 'C0025241', 'C2316164', 'C0144576', 'C3661315', 'C0039871', 'C0146224', 'C1311070', 'C0040975']\", \"['C0056391', 'C0060240', 'C0020268', 'C0031469', 'C0301304', 'C0071810', 'C0149368', 'C0043491']\", \"['C0055339']\", \"['C4519728']\", \"['C0052796']\", \"['C2045867', 'C0055568', 'C0042105']\", \"['C0085208', 'C0028040']\", \"['C3491162', 'C0005330', 'C0528023', 'C0008402', 'C2586675', 'C0541155', 'C0009279', 'C3529352', 'C0033228', 'C0082608', 'C0021547', 'C3536880', 'C1101838', 'C0033215', 'C0041479']\", \"['C0016875', 'C3854019', 'C0032950', 'C0040341']\", \"['C4550350']\", \"['C3659310']\", \"['C0001047', 'C0010654', 'C2745274']\", \"['C0005308', 'C0005310', 'C1872109', 'C0056391', 'C0011777', 'C2353893', 'C0020268', 'C0063077', 'C0770560', 'C0063041', 'C0025815', 'C0032950', 'C0032952', 'C0040864', 'C0040866', 'C0040867', 'C1608841']\", \"['C0002679', 'C0011276', 'C0016875', 'C0065841', 'C0026187', 'C0030092', 'C0038425', 'C0039644']\", \"['C0032911']\", \"['C4317155']\", \"['C0005304']\", \"['C0002403', 'C0005098', 'C0005578', 'C0006982', 'C0064871', 'C0066139', 'C0029309', 'C0031007', 'C0031979', 'C0033254', 'C0041009']\", \"['C0033602']\", \"['C3714801', 'C0020316', 'C0039840']\", \"['C0002403', 'C0005098', 'C0005578', 'C0033254', 'C0041009']\", \"['C0002680', 'C2743630', 'C0007561', 'C0066005']\", \"['C4055478', 'C4055433', 'C4726799']\", \"['C0052796', 'C0055856', 'C0015021', 'C0140575']\", \"['C0070166']\", \"['C0002499', 'C0002680', 'C0007554', 'C0007559', 'C0007562', 'C0016875', 'C3854019', 'C0066005', 'C0040341']\", \"['C3714801', 'C0243237', 'C0060276', 'C0016410', 'C0018927', 'C0302583']\", \"['C1690432']\", \"['C0028741']\", \"['C0054340', 'C0041031', 'C0002615', 'C0003143', 'C0052759', 'C0054120', 'C0006246', 'C0006644', 'C0054672', 'C0055147', 'C0008183', 'C0008281', 'C0008929', 'C0055904', 'C0009214', 'C0010547', 'C0010620', 'C0908935', 'C0011816', 'C0058056', 'C0058389', 'C0013092', 'C0014479', 'C0033567', 'C0017890', 'C0018304', 'C0018305', 'C0020264', 'C0020404', 'C0027235', 'C0065180', 'C4542172', 'C0025625', 'C0066101', 'C0301374', 'C0027396', 'C0795712', 'C0030071', 'C0054668', 'C0070563', 'C0031408', 'C0031469', 'C0031495', 'C0070709', 'C0032831', 'C0033399', 'C0033798', 'C0072735', 'C0036442', 'C0142825', 'C3888064', 'C0085173', 'C3652618', 'C0076890', 'C0041090', 'C0041098', 'C0078643']\", \"['C1507354']\", \"['C0064113', 'C0076110']\", \"['C4746084']\", \"['C0010592', 'C0728803', 'C3713860', 'C0043328', 'C0032483', 'C0032601', 'C0032623', 'C0072225', 'C0039542']\", \"['C0606070']\", \"['C0004521', 'C0007541', 'C0007554', 'C0007557', 'C0007559', 'C0008777', 'C0016875', 'C3854019', 'C0020933', 'C0066005', 'C0025872', 'C0536495', 'C0028365', 'C0031955', 'C0075870']\", \"['C0006976', 'C0007716', 'C0007738', 'C0008809', 'C0028365', 'C0028902']\", \"['C0663655', 'C0754188', 'C1145759', 'C4507568', 'C3177235', 'C1435444', 'C0288165', 'C3253985', 'C4045491', 'C2606637', 'C0537439', 'C1456409', 'C1176315', 'C1434792', 'C0376637', 'C0674432', 'C0525005', 'C0132326', 'C1871526', 'C1566826', 'C0286738', 'C0164662', 'C3713958', 'C0963398', 'C0663733', 'C0012132']\", \"['C0054234', 'C0006644', 'C0009214', 'C0000970']\", \"['C0005308', 'C0056391', 'C0011777', 'C0025815', 'C0032950', 'C0040864', 'C0040867']\", \"['C0127615']\", \"['C0002645', 'C0055860', 'C0533545', 'C0536495', 'C0028365']\", \"['C0011015', 'C0013089', 'C0144576', 'C0042670']\", \"['C2983945', 'C1703334']\", \"['C0057610', 'C0060240', 'C0071810', 'C0149368', 'C0043491']\", \"['C0108101', 'C0006699', 'C0108121', 'C0006711', 'C2828245', 'C0014695', 'C1881172', 'C0126774', 'C0024477', 'C2825721', 'C1882065', 'C0031862', 'C0140610']\", \"['C0005308', 'C0005310', 'C0056391', 'C0011777', 'C0020268', 'C0063077', 'C0770560', 'C0025815', 'C0032950', 'C0040864', 'C0040866', 'C0040867']\", \"['C3886460', 'C4309207', 'C0537670']\", \"['C0006931', 'C0023660']\", \"['C0002607', 'C0005070', 'C0036079']\", \"['C1948068', 'C2932486', 'C1997549', 'C2987603', 'C1721300', 'C1527027']\", \"['C0014806', 'C0038670', 'C0038745', 'C0038689']\", \"['C0002679', 'C0008293', 'C0011276', 'C0013090', 'C0016875', 'C0065841', 'C0026187', 'C0030092', 'C0038670', 'C0038745', 'C0039644']\", \"['C0002679', 'C2743630', 'C0011276', 'C0016875', 'C0065841', 'C0026187', 'C0030092', 'C0530801', 'C0030830', 'C0039644']\", \"['C0007554', 'C0007561']\", \"['C0526371']\", \"['C0025382']\", \"['C1516119', 'C1121849']\", \"['C0058344', 'C0020306', 'C0663351', 'C0046100']\", \"['C0002679', 'C1142738', 'C0537894', 'C0064113', 'C1120386', 'C0393080']\", \"['C0008269', 'C0020336']\", \"['C0066411', 'C4325235', 'C3700399', 'C0027360']\", \"['C0062076', 'C0074246', 'C0771436', 'C0040263']\", \"['C0005308', 'C0005310', 'C0056391', 'C0020268', 'C0063077', 'C0770560', 'C0021246', 'C0025815', 'C0027396', 'C0032950', 'C0038792', 'C0040864', 'C0040866', 'C0040867']\", \"['C1700874', 'C3181682', 'C2986924', 'C1831796', 'C1707080', 'C2827667', 'C0040976']\", \"['C0006466', 'C0529351', 'C2343853', 'C0016225', 'C0069805', 'C1099677', 'C0388753', 'C0772089']\", \"['C2745274']\", \"['C0013089', 'C0021735']\", \"['C0008286', 'C0033399']\", \"['C0075432']\", \"['C0379135']\", \"['C0007047', 'C0012471', 'C0012472', 'C0026088', 'C0030095']\", \"['C0002499', 'C0008809', 'C0016875', 'C0028365', 'C0028902', 'C0031955', 'C0075870', 'C0040341']\", \"['C0126177', 'C0032950']\", \"['C0002697', 'C0012963', 'C0013030', 'C0016860', 'C0128513', 'C0054015', 'C0028193', 'C0076840']\", \"['C0025381', 'C0031507']\", \"['C4726900', 'C4519167']\", \"['C0034239']\", \"['C0717537', 'C0006686', 'C0108111', 'C3652644', 'C0108121']\", \"['C0137996']\", \"['C0003001', 'C0025380', 'C0025575', 'C0025681', 'C0031447']\", \"['C0169964']\", \"['C0016366', 'C0076181', 'C0076189', 'C0039607']\", \"['C0011777', 'C0014563', 'C0025815', 'C0032950', 'C0032952']\", \"['C0002499', 'C0002645', 'C0004521', 'C0005304', 'C0006976', 'C0007538', 'C0007716', 'C0007541', 'C0007737', 'C0055003', 'C4548369', 'C0060400', 'C0007551', 'C0007554', 'C0007555', 'C0007557', 'C0108938', 'C0007738', 'C0007559', 'C0007560', 'C0007561', 'C0007562', 'C0055015', 'C0008809', 'C0055860', 'C0010590', 'C1120106', 'C0016610', 'C0016875', 'C0753645', 'C0282386', 'C0065162', 'C0028156', 'C0028157', 'C0028365', 'C0028902', 'C0031955', 'C4317244', 'C0036720', 'C0038425', 'C0038687', 'C0038689', 'C0040193', 'C0040341', 'C0041041', 'C4519317']\", \"['C1739462']\", \"['C0163557']\", \"['C0042313']\", \"['C0032950', 'C0040864', 'C0040866']\", \"['C0540776', 'C0002645', 'C0002680', 'C0052796', 'C0060405', 'C0108938', 'C0053882', 'C0007562', 'C0055015', 'C0008809', 'C0055856', 'C0055860', 'C0009077', 'C0011276', 'C0012093', 'C0013090', 'C0014806', 'C0016875', 'C0753645', 'C0282386', 'C0065841', 'C0536495', 'C0027324', 'C0028365', 'C0028902', 'C0029983', 'C0379881']\", \"['C0005308', 'C0005310', 'C2973446', 'C0007257', 'C0008163', 'C0056391', 'C0011777', 'C0020268', 'C0063077', 'C0770560', 'C0023972', 'C0025815', 'C0032950', 'C0039871', 'C0040864', 'C0040866', 'C0040867']\", \"['C0016875', 'C0040341']\", \"['C0905464', 'C0164155']\", \"['C0002499', 'C0002680', 'C0004521', 'C0007541', 'C0007737', 'C0007551', 'C0007554', 'C0007557', 'C0007559', 'C0007560', 'C0007561', 'C0007562', 'C0008809', 'C0055860', 'C0016875', 'C3854019', 'C0028365', 'C0028902', 'C0031955', 'C0040193', 'C0040341']\", \"['C1144403', 'C2930762']\", \"['C0004057', 'C0006644', 'C0126789', 'C0066412', 'C0027396', 'C0000970', 'C0036071']\", \"['C1456821', 'C0075770', 'C0164815', 'C0249458']\", \"['C1176308']\", \"['C0008286', 'C0012381', 'C0013015', 'C0030969', 'C0031184', 'C0033229', 'C0033399', 'C0033405', 'C0039865', 'C0040989', 'C0077163']\", \"['C1831905', 'C2364481']\", \"['C0540776', 'C0007557', 'C0028365', 'C0028902', 'C0031955', 'C0379881']\", \"['C1721339']\", \"['C0771311', 'C0073994', 'C0015121', 'C3714572', 'C0140610', 'C0043611', 'C0257685']\", \"['C0606070', 'C0042874']\", \"['C0008947', 'C0055881', 'C0025872']\", \"['C0054015']\", \"['C0055895', 'C0056391', 'C0016299', 'C0020268', 'C0063077', 'C0071810']\", \"['C0070166', 'C0005640', 'C0043031']\", \"['C0058446']\", \"['C0053071', 'C0005320', 'C0525227', 'C0673966', 'C0007299', 'C0165590', 'C0022251', 'C4279599', 'C1171274', 'C0006388', 'C0024730', 'C0041030', 'C4535718', 'C5139819', 'C0144576', 'C0031923', 'C4045501', 'C1451502', 'C0937916', 'C0527038']\", \"['C0050403', 'C0004057', 'C0003524', 'C0719064', 'C2714681', 'C0012228', 'C0059865', 'C0059868', 'C0877860', 'C0015837', 'C0016377', 'C0019588', 'C1505698', 'C0022635', 'C0085217', 'C1176415', 'C0126789', 'C0025042', 'C0083381', 'C0068334', 'C0064164', 'C0069739', 'C4519118', 'C0072315', 'C0036079', 'C0073983', 'C0304347', 'C0038792', 'C0076653', 'C0040377', 'C0040610']\", \"['C0051113', 'C0051556', 'C0005308', 'C0005311', 'C0053523', 'C0750848', 'C0055900', 'C0056391', 'C0011705', 'C0011707', 'C0011777', 'C0057992', 'C0013085', 'C0016374', 'C0016294', 'C0016298', 'C0016299', 'C0117996', 'C0018513', 'C0020268', 'C0025815', 'C0066700', 'C0071836', 'C0032950', 'C0040864', 'C0040866', 'C0040867', 'C0077004']\", \"['C0002371', 'C3661450', 'C0085154', 'C0378482', 'C4080009']\", \"['C0030829', 'C2743630', 'C0530801', 'C0030830']\", \"['C0025872', 'C0030576', 'C0040263']\", \"['C0002421', 'C0005059', 'C0009214', 'C0011816', 'C0031408']\", \"['C0002333', 'C0002600', 'C0008188', 'C0024778', 'C0031184']\", \"['C0246415', 'C0013089', 'C0014582', 'C0541315', 'C1135132', 'C0144576']\", \"['C0571665']\", \"['C0051150', 'C0114873', 'C0754659', 'C0060389', 'C0083701', 'C1870115', 'C1176316', 'C0257343', 'C0076107']\", \"['C0025387']\", \"['C0054040']\", \"['C0008736']\", \"['C0116569', 'C0573951']\", \"['C0007562', 'C0055015', 'C0085259', 'C1703334']\", \"['C0916062', 'C0724579', 'C1098510', 'C5848169']\", \"['C2698152', 'C1831796', 'C0937851']\", \"['C0005304', 'C0008809', 'C0028365', 'C0028476', 'C0028902']\", \"['C0002679', 'C0011276', 'C0013090', 'C0016875', 'C0065841', 'C0026187', 'C0030092', 'C0039644']\", \"['C0007716', 'C0007541', 'C0007737', 'C0007551', 'C0007555', 'C0007557', 'C0007559', 'C0007560', 'C0007562', 'C0055860', 'C0008947', 'C0055881', 'C0016875', 'C0027324', 'C0029983', 'C0040193', 'C0040341', 'C0042313']\", \"['C0018242', 'C0040379']\", \"['C0002144', 'C0005308', 'C0005310', 'C2718773', 'C0056391', 'C0011777', 'C0020268', 'C0063077', 'C0770560', 'C0025815', 'C0032950', 'C0032952', 'C0033209', 'C0038792', 'C0040864', 'C0040866', 'C0040867']\", \"['C0008168', 'C0013090', 'C0016875']\", \"['C0004521', 'C0007555', 'C0007557', 'C0007559', 'C0007561', 'C0008777', 'C0020933', 'C0025872']\", \"['C0006644', 'C0012291', 'C0014710', 'C0031412']\", \"['C0038148', 'C0027368']\", \"['C0002403', 'C0035629']\", \"['C0146337']\", \"['C4310578']\", \"['C2743630', 'C0012010']\", \"['C2825286']\", \"['C0023556']\", \"['C0002679', 'C0002680', 'C0052865', 'C0009077', 'C0011276', 'C0013090', 'C0016875', 'C1507354', 'C0065841', 'C0025643', 'C0026187', 'C0029983', 'C0030092', 'C0039644']\", \"['C0008273', 'C0012022', 'C0060180', 'C0020261', 'C0126174', 'C0028193']\", \"['C1678805']\", \"['C0004057', 'C0006644', 'C0055819', 'C0009214', 'C2714681', 'C0011816', 'C0014479', 'C0018305', 'C0020740', 'C0085217', 'C0126789', 'C0027396', 'C0000970', 'C0031408', 'C0031469', 'C0033798', 'C0036071']\", \"['C0008947', 'C0055881']\", \"['C0056391', 'C0020268', 'C0127615']\", \"['C3501358']\", \"['C0051113', 'C0051556', 'C0005308', 'C0005311', 'C0053523', 'C0750848', 'C0008269', 'C0055900', 'C0056391', 'C0011705', 'C0011707', 'C0011777', 'C0057992', 'C0016374', 'C0016294', 'C0016298', 'C0016299', 'C0117996', 'C0018513', 'C0020268', 'C0020336', 'C0025815', 'C0066700', 'C0071836', 'C0032950', 'C0040864', 'C0040866', 'C0040867', 'C0077004']\", \"['C0056391', 'C0011777', 'C0016351', 'C0724587', 'C0020268', 'C0126177', 'C0065865', 'C0032950']\", \"['C0005308', 'C0056391', 'C0011777', 'C0057610', 'C0025815', 'C0032950', 'C0032952', 'C0040864', 'C0040867']\", \"['C3642427']\", \"['C0000473', 'C0053225']\", \"['C0030125', 'C0262964', 'C0010590', 'C0014964', 'C0015021', 'C0022209', 'C0034239', 'C0035608', 'C0036720', 'C0038425']\", \"['C0143993']\", \"['C0002260', 'C0025217', 'C0030863', 'C0038880']\", \"['C0540776', 'C0002499', 'C0004499', 'C0004521', 'C0007735', 'C0007541', 'C0007737', 'C0055003', 'C0007551', 'C0007554', 'C0007555', 'C0007557', 'C0007738', 'C2001525', 'C0007559', 'C0007560', 'C0007561', 'C0007562', 'C0008777', 'C0008809', 'C0055860', 'C0016875', 'C3854019', 'C0020933', 'C0282386', 'C0025893', 'C0536495', 'C0028365', 'C0028902', 'C0031955', 'C0052585', 'C0040193', 'C0040341', 'C0379881']\", \"['C3652632', 'C0002640', 'C0012010', 'C0059690', 'C0060135', 'C0244656', 'C0025381', 'C0025629', 'C0109002', 'C0025382', 'C0070072', 'C0030883', 'C0070525', 'C0070592', 'C0033148', 'C0036516', 'C0039925', 'C0041038']\", \"['C0002563', 'C0012091', 'C2825682', 'C0733397']\", \"['C0007562', 'C0055015']\", \"['C0038675', 'C0037134']\", \"['C0002607', 'C0002679', 'C0052761', 'C0008947', 'C0055881', 'C0056391', 'C0010980', 'C0013090', 'C0043822', 'C0014806', 'C0014912', 'C0014942', 'C0015011', 'C0060276', 'C0016875', 'C0020268', 'C2825462', 'C0065841', 'C0129022', 'C0286402', 'C0028027', 'C0068980', 'C0028356', 'C0068992', 'C2983945', 'C0073085', 'C0036079', 'C4519292', 'C0038670', 'C0288792', 'C0039644', 'C4519213']\", \"['C0051113', 'C0051556', 'C0718495', 'C0005088', 'C0005308', 'C0005311', 'C0053523', 'C0750848', 'C0055900', 'C0056391', 'C0011705', 'C0011707', 'C0011777', 'C0057992', 'C0016374', 'C0016294', 'C0016298', 'C0016299', 'C0117996', 'C0018513', 'C0020268', 'C0025815', 'C0066700', 'C0071836', 'C0032950', 'C0040864', 'C0040866', 'C0040867']\", \"['C2973446']\", \"['C4086895']\", \"['C0218986', 'C3899947', 'C4049146', 'C3467876', 'C0010927', 'C4079208', 'C1367202', 'C3657270', 'C3658706', 'C2697961']\", \"['C0000956']\", \"['C0262965', 'C2714632', 'C0120107', 'C0085272', 'C0025147', 'C0025506', 'C0068980', 'C0028356', 'C0028360', 'C0033308', 'C0040613']\", \"['C0002679', 'C0002680', 'C0052865', 'C0060400', 'C0007557', 'C0108938', 'C0007560', 'C0007562', 'C0055015', 'C0011276', 'C0013090', 'C0014310', 'C0014806', 'C0016875', 'C0287721', 'C0065841', 'C0025893', 'C0026187', 'C0028365', 'C0028902', 'C0031955', 'C0039644']\", \"['C0966107', 'C1176308']\", \"['C0004906', 'C0055904', 'C0009214', 'C0011816', 'C0058056', 'C0014479', 'C0033567', 'C0017890', 'C0018304', 'C0018305', 'C0020264', 'C0054668', 'C0031469', 'C0031495', 'C0033798', 'C0142825', 'C3888064']\", \"['C4055433']\", \"['C0000981']\", \"['C0001937', 'C0005099', 'C0054094', 'C0006491', 'C0006644', 'C0719064', 'C0055819', 'C2714681', 'C0033493', 'C0057626', 'C0012228', 'C0058056', 'C0059865', 'C0877860', 'C0015837', 'C0060201', 'C0016282', 'C0020264', 'C0012306', 'C0023586', 'C0085217', 'C0055477', 'C0126789', 'C0025042', 'C0025152', 'C0027348', 'C0027358', 'C0027396', 'C0030073', 'C0030873', 'C0762662', 'C0036071', 'C0036079', 'C2001271', 'C0076653', 'C0040219', 'C0076703']\", \"['C0995188']\", \"['C0054340', 'C2348241', 'C0041031', 'C0003143', 'C0085170', 'C0052759', 'C0052762', 'C2698371', 'C0006246', 'C0054672', 'C0055147', 'C0008183', 'C0008281', 'C0008929', 'C0056391', 'C3653122', 'C0010547', 'C0010620', 'C0908935', 'C0011777', 'C0057605', 'C0057606', 'C0012522', 'C0058389', 'C0013092', 'C0064263', 'C0014479', 'C0078442', 'C0296800', 'C0016351', 'C0724587', 'C0016875', 'C0020268', 'C0020404', 'C0073631', 'C0022642', 'C0064870', 'C0065180', 'C0126177', 'C0065865', 'C4542172', 'C0025625', 'C0066101', 'C0068483', 'C0527189', 'C0053881', 'C0070563', 'C0031408', 'C0031469', 'C0031495', 'C0070709', 'C0032950', 'C0033399', 'C0033405', 'C0033798', 'C0243449', 'C0085173', 'C0040341', 'C0076890', 'C0041090', 'C0041098', 'C0765538']\", \"['C0002640', 'C0051241', 'C0054249', 'C0008188', 'C0030883', 'C0006464', 'C0036516']\", \"['C0008188', 'C0055877', 'C0012125', 'C0062922', 'C2000261', 'C0065832', 'C0301374', 'C3848532', 'C0036442']\", \"['C0055711', 'C3273754', 'C0025942', 'C3642427']\", \"['C1695579']\", \"['C0000992', 'C2607479', 'C1958126', 'C3272640', 'C0006359', 'C0007080', 'C0008287', 'C4279601', 'C3501981', 'C0350998', 'C0061328', 'C0061330', 'C0351000', 'C0293359', 'C3492889', 'C2973895', 'C2744790', 'C2933904', 'C0066535', 'C0906166', 'C4279587', 'C1611934', 'C2981308', 'C3501434', 'C0040372', 'C0040374', 'C4045234']\", \"['C0053526', 'C0027679']\", \"['C4724807']\", \"['C3491162']\", \"['C0002658', 'C0005096', 'C1957370', 'C0008283', 'C0012201', 'C0060194', 'C2350948', 'C0024977', 'C0065870', 'C0025611', 'C0027360', 'C0070549', 'C0031411']\", \"['C0064585', 'C2000261', 'C1684405', 'C3711911', 'C0537147']\", \"['C0245109', 'C2718773', 'C2343589']\", \"['C0016875']\", \"['C0008188', 'C0012010', 'C0029997']\", \"['C2718773']\", \"['C0087163']\", \"['C0286651', 'C0082608', 'C0024027', 'C0085542', 'C0965129', 'C0074554']\", \"['C0540776', 'C0002645', 'C0002680', 'C0030829', 'C2743630', 'C0007537', 'C0007716', 'C0007735', 'C0007541', 'C0007737', 'C0007546', 'C0060405', 'C0055003', 'C0007550', 'C0007551', 'C0007554', 'C0007555', 'C0007557', 'C0108938', 'C0007738', 'C0007559', 'C0007560', 'C0007561', 'C0007562', 'C0055015', 'C0008777', 'C0008809', 'C0008947', 'C0055881', 'C0058445', 'C0753645', 'C0287721', 'C0020933', 'C4482908', 'C0282386', 'C0663241', 'C0065295', 'C0536495', 'C0028365', 'C0028902', 'C0030830', 'C0052585', 'C1260298', 'C0379881']\", \"['C0016365', 'C0024002', 'C0074393', 'C0078569']\", \"['C0209211']\", \"['C0050558']\", \"['C0039601']\", \"['C0004499', 'C2743630', 'C0008947', 'C0055881', 'C0025893', 'C0040193']\", \"['C0022245']\", \"['C0008286', 'C0018988', 'C0033399']\", \"['C1456821', 'C2983876', 'C0209227']\", \"['C0004599', 'C0056391', 'C0011777', 'C0020268', 'C0063077', 'C0027603', 'C0032535', 'C0032950']\", \"['C0540776', 'C0002679', 'C0002680', 'C0052796', 'C0060400', 'C0007557', 'C0108938', 'C0007560', 'C0007561', 'C0007562', 'C0055015', 'C0008809', 'C0011276', 'C0013090', 'C0014310', 'C0014806', 'C0016875', 'C0753645', 'C0287721', 'C0065841', 'C0025893', 'C0026187', 'C0028365', 'C0028902', 'C0030092', 'C0031955', 'C0001268', 'C0039644', 'C0379881']\", \"['C0013090', 'C0016875', 'C0030092', 'C0039644']\", \"['C0028365', 'C0028902']\", \"['C0002680', 'C2743630', 'C0007716', 'C0060400', 'C0108938', 'C0053882', 'C0007738', 'C0055014', 'C0007562', 'C0055015', 'C0055856', 'C0014806', 'C0530801', 'C0030830', 'C0038745', 'C0038687', 'C0038689', 'C0041041']\", \"['C0006644']\", \"['C4277781', 'C4078701']\", \"['C0125997', 'C0024056']\", \"['C0094813']\", \"['C0041086']\", \"['C2743630', 'C0013090', 'C0016875']\", \"['C0002680', 'C0004521', 'C0007541', 'C0055003', 'C0007560', 'C0016875', 'C0038665', 'C0040341']\", \"['C0002499', 'C0002645', 'C0002680', 'C3489748', 'C0004521', 'C0005304', 'C0006976', 'C0054667', 'C0007716', 'C0007541', 'C0007546', 'C0055003', 'C4548369', 'C0007554', 'C0007555', 'C0007557', 'C0108938', 'C0007559', 'C0007560', 'C0007561', 'C0007562', 'C0055015', 'C0008777', 'C0008809', 'C0055860', 'C0010590', 'C0013090', 'C0016875', 'C0753645', 'C0020933', 'C0282386', 'C0027353', 'C0028365', 'C0028902', 'C0036720', 'C0038425', 'C0262960', 'C0038687', 'C0038689', 'C0040193', 'C0040341', 'C0041041']\", \"['C4079854', 'C0060483', 'C2698692', 'C0025033', 'C2742503', 'C1832027', 'C0032952', 'C0041920']\", \"['C2982078', 'C0012191', 'C0969324', 'C0032950', 'C1869620']\", \"['C0012145', 'C0043822', 'C0014912', 'C0015011', 'C0028356', 'C0068992']\", \"['C4475875']\", \"['C0016875', 'C0023726', 'C0027324', 'C0029983', 'C0145106']\", \"['C0025023', 'C0039832']\", \"['C0064113', 'C0936148', 'C0393080']\", \"['C0002680', 'C2743630', 'C0007737', 'C0007546', 'C0008777', 'C0020933', 'C0025872', 'C0030830', 'C0042313']\", \"['C0015824']\", \"['C3659266']\", \"['C0005025', 'C0011777', 'C0071810']\", \"['C0009011', 'C0024002']\", \"['C4740904']\", \"['C0006644', 'C0007248', 'C0055467', 'C0008296', 'C0056732', 'C0010976', 'C0012010', 'C0163055', 'C0025659', 'C0029309', 'C0076456', 'C0146011', 'C0040382']\", \"['C0007257', 'C0076080']\", \"['C2987429']\", \"['C0060234']\", \"['C3852920']\", \"['C0005308', 'C0750848', 'C0055895']\", \"['C0022625', 'C0936148']\", \"['C0016225']\", \"['C3652699', 'C3652612']\", \"['C0050461']\", \"['C1831808']\", \"['C2826065']\", \"['C0218986']\", \"['C3195420']\", \"['C0002645', 'C0052796', 'C2001525', 'C0055860', 'C4482908', 'C1453642']\", \"['C0002144', 'C0137996', 'C0770578']\", \"['C0011777', 'C0013089', 'C0025677', 'C0042679']\", \"['C0005632', 'C0055568', 'C0524095', 'C0011182', 'C0243237', 'C0017861', 'C0062922', 'C0543448', 'C0065517', 'C0126774', 'C0126777', 'C0024476', 'C0717900', 'C0024477', 'C0024480', 'C0031422', 'C0030080', 'C0032825', 'C0913506', 'C3489575', 'C0074757', 'C0770578']\", \"['C0015121']\", \"['C3817397']\", \"['C0010582', 'C0030140', 'C0031469', 'C0036442', 'C0041190']\", \"['C0002333', 'C0008845']\", \"['C0006979']\", \"['C2001856', 'C1832049', 'C3852671']\", \"['C0004057', 'C0027396', 'C0000970']\", \"['C0051607', 'C0002644', 'C0054270', 'C0054820', 'C0615823', 'C0013085', 'C0059772', 'C0063841', 'C0022059', 'C0023961', 'C0024778', 'C0065831', 'C0029105', 'C0031392', 'C0071143', 'C0033743', 'C0069628', 'C0076804', 'C0041056']\", \"['C0027444']\", \"['C0029994', 'C0038326']\", \"['C0066522']\", \"['C1176329', 'C0053336', 'C0252643', 'C0033567', 'C0079594', 'C2717561', 'C2000145', 'C0529793', 'C1704271', 'C0058446']\", \"['C0016277', 'C0064113', 'C0022625', 'C1120386', 'C0393080']\", \"['C2743630']\", \"['C0299792', 'C2000088', 'C0006949', 'C2936870', 'C0008286', 'C0085217', 'C0125997', 'C0171023', 'C0033399', 'C0123091', 'C0073393', 'C0042291', 'C0380393']\", \"['C0076808']\", \"['C0018546', 'C0031935']\", \"['C0002499', 'C0002680', 'C0004499', 'C0007735', 'C0007541', 'C0007737', 'C0007546', 'C0007551', 'C0007554', 'C0007555', 'C0007557', 'C0007559', 'C0007560', 'C0007561', 'C0007562', 'C0008777', 'C0055860', 'C0008947', 'C0055881', 'C0014810', 'C0016875', 'C3854019', 'C0020933', 'C0022487', 'C0025643', 'C0025872', 'C0025893', 'C0031955', 'C0032535', 'C0040193', 'C0040341', 'C0042313']\", \"['C2350866', 'C1311070']\", \"['C0013085', 'C0016365', 'C2003424', 'C0171023']\", \"['C0054340', 'C0041031', 'C0003143', 'C0085170', 'C0052759', 'C0055147', 'C0008183', 'C0008281', 'C0008929', 'C0009214', 'C0010547', 'C0010620', 'C0908935', 'C0011816', 'C0058389', 'C0013092', 'C0014479', 'C0296800', 'C0065180', 'C4542172', 'C0025625', 'C0066101', 'C0070563', 'C0031408', 'C0031469', 'C0031495', 'C0033399', 'C0243449', 'C0085173', 'C0076890', 'C0041090']\", \"['C0005308', 'C0056391', 'C0011777', 'C0025815', 'C0032950', 'C0032952', 'C0040864', 'C0040866', 'C0040867']\", \"['C0965618']\", \"['C0005070', 'C0007404', 'C0021735', 'C1960121']\", \"['C0002499', 'C0002645', 'C0002680', 'C0004521', 'C0007541', 'C0007737', 'C0007555', 'C0007557', 'C2001525', 'C0007559', 'C0007560', 'C0007561', 'C0007562', 'C0008809', 'C0055860', 'C0110462', 'C0009316', 'C0016875', 'C3854019', 'C0028365', 'C0028902', 'C0031955', 'C0038665', 'C0040193', 'C0040341']\", \"['C0013089', 'C0048306', 'C0025677', 'C0039286', 'C0039600', 'C0039871', 'C0042670']\", \"['C0013090', 'C0016875']\", \"['C0002499', 'C0004521', 'C0007554', 'C0007559', 'C0007560', 'C0016875', 'C3854019', 'C0031955']\", \"['C0005308', 'C0005310', 'C0056391', 'C0020268', 'C0063077', 'C0770560', 'C0025815', 'C0032950', 'C0040864', 'C0040866', 'C0040867']\", \"['C0164386', 'C0008803', 'C0010547', 'C0012381', 'C3652852', 'C0036442']\", \"['C0002499', 'C0002645', 'C0002680', 'C0052796', 'C0007546', 'C0245519', 'C0055003', 'C0007554', 'C0007555', 'C0007557', 'C0108938', 'C0007559', 'C0007561', 'C0007562', 'C0055015', 'C0008777', 'C0008809', 'C0055856', 'C0055860', 'C0013090', 'C1120106', 'C0014806', 'C0014810', 'C0016875', 'C1507354', 'C0753645', 'C0533545', 'C3854019', 'C0020933', 'C0022487', 'C4482908', 'C0282386', 'C0536495', 'C0028365', 'C0028902', 'C2983838', 'C0031955', 'C0075870', 'C1453642', 'C0040193']\", \"['C0068006']\", \"['C0004599', 'C0056391', 'C0011777', 'C0016875', 'C3854019', 'C0018165', 'C0020268', 'C0063077', 'C0027603', 'C0032535', 'C0032950', 'C0071839', 'C0138273', 'C0038670', 'C0040341', 'C0041041']\", \"['C0021735', 'C2717021']\", \"['C3713057']\", \"['C0005308', 'C0005310', 'C0056391', 'C0020268', 'C0063077', 'C0770560', 'C0021246', 'C0126789', 'C0025815', 'C0032950', 'C0036079', 'C0040864', 'C0040866', 'C0040867']\", \"['C3273430']\", \"['C0052940', 'C0056391', 'C0020268', 'C0038675']\", \"['C0056391', 'C0011777', 'C0016351', 'C0724587', 'C0020268', 'C0126177', 'C0065865', 'C0032950', 'C0071839', 'C0138273', 'C0036442', 'C0038670']\", \"['C0000946', 'C0085251']\", \"['C0053105']\", \"['C1120106', 'C0028365', 'C0379881']\", \"['C0054201', 'C0011705']\", \"['C0085228', 'C0074393', 'C0078569']\", \"['C0007559', 'C0007561']\", \"['C0908935']\", \"['C0540776', 'C0055856', 'C0058445', 'C0013090', 'C0014806', 'C0016875', 'C0753645', 'C0533545', 'C0287721', 'C4482908', 'C0282386', 'C0536495', 'C0028365', 'C0028902', 'C0052585', 'C0907410', 'C0379881']\", \"['C0070166', 'C0019134', 'C0247025']\", \"['C0025684', 'C0041086']\", \"['C0008168', 'C1172636', 'C2828290', 'C1880735', 'C0016875', 'C3854019', 'C2983838', 'C1144403', 'C2930762']\", \"['C2930789']\", \"['C4720053']\", \"['C0021547', 'C0063584', 'C0028027', 'C0028040', 'C0028053']\", \"['C3491162', 'C0286651', 'C3659310', 'C2586675', 'C3529352', 'C1142985', 'C0033228', 'C0082608', 'C0024027', 'C3536880', 'C0085542', 'C0965129', 'C0074554']\", \"['C2698385']\", \"['C0010711', 'C0011015', 'C0020789', 'C0000618', 'C1567753']\", \"['C0039871', 'C0068314']\", \"['C0043328']\", \"['C4731737']\", \"['C0012373', 'C0017066', 'C0025681', 'C0033429']\", \"['C0026056']\", \"['C0024730', 'C0039925']\", \"['C0540776', 'C0002499', 'C0002680', 'C0007541', 'C0007737', 'C0007546', 'C0007550', 'C0007554', 'C0007555', 'C0007557', 'C0007738', 'C0007559', 'C0007560', 'C0007561', 'C0007562', 'C0055860', 'C0008947', 'C0055881', 'C0009077', 'C0012093', 'C0016875', 'C0753645', 'C0282386', 'C0663241', 'C0025643', 'C0536495', 'C0027324', 'C0028365', 'C0028902', 'C0029983', 'C0040193', 'C0040341', 'C0379881', 'C0042313']\", \"['C0025603']\", \"['C0540776', 'C0002499', 'C0002679', 'C0002680', 'C3489748', 'C0004521', 'C0007541', 'C0055003', 'C0007550', 'C0007554', 'C0007555', 'C0007557', 'C0007559', 'C0007560', 'C3852726', 'C0007561', 'C0008777', 'C0008809', 'C0008947', 'C0055881', 'C0389169', 'C1120106', 'C0014810', 'C0016875', 'C3854019', 'C0020933', 'C0022487', 'C0025893', 'C0536495', 'C0028365', 'C0028902', 'C0031955', 'C4317244', 'C0038665', 'C0040193', 'C1260298', 'C0379881']\", \"['C0541315']\", \"['C0042845', 'C3714801', 'C0020316', 'C0039840']\", \"['C0245561']\", \"['C4524315']\", \"['C0041031', 'C0003143', 'C0052759', 'C0006246', 'C0054672', 'C0008281', 'C0008929', 'C0010620', 'C0057605', 'C0057606', 'C0058389', 'C0013092', 'C0020404', 'C4542172', 'C0025625', 'C0066101', 'C0070563', 'C0031408', 'C0070709', 'C0033399', 'C0041090', 'C0041098']\", \"['C0013089', 'C0025677', 'C4307886']\", \"['C0005304', 'C0008809', 'C0028365', 'C0028902']\", \"['C0025381', 'C0069751', 'C0031507', 'C0033148']\", \"['C0016410', 'C0087161', 'C0035527', 'C0039840']\", \"['C0123677', 'C3491971', 'C0537270', 'C1313386']\", \"['C0030829', 'C2743630', 'C0016875', 'C0023726', 'C0030830']\", \"['C0006834']\", \"['C0008783', 'C3661450', 'C0937846', 'C0015620', 'C0050940', 'C0028978', 'C0081876', 'C0378482', 'C0034665', 'C0073601']\", \"['C3859426']\", \"['C0012022']\", \"['C4743552', 'C2980094', 'C1176020']\", \"['C0050403', 'C0050409', 'C0003524', 'C0005308', 'C0005310', 'C0538927', 'C1872109', 'C0056391', 'C0011777', 'C0012091', 'C2353893', 'C0020268', 'C0063077', 'C0770560', 'C0021246', 'C3489764', 'C0025815', 'C0027396', 'C0032950', 'C0032952', 'C0038792', 'C0040864', 'C0040866', 'C0040867']\", \"['C0011785']\", \"['C0299792', 'C0006949', 'C0064636', 'C0085217', 'C0125997', 'C0171023', 'C0031412', 'C0031507', 'C0033148', 'C0123091', 'C0073393', 'C0380393']\", \"['C0068788']\", \"['C0000473', 'C0053225', 'C0005308', 'C0005310', 'C0056391', 'C0011777', 'C0020268', 'C0063077', 'C0770560', 'C0025815', 'C0600901', 'C0032950', 'C0032952', 'C0040864', 'C0040866', 'C0040867']\", \"['C0002645', 'C0002680', 'C0052796', 'C2743630', 'C0007537', 'C0007538', 'C0007716', 'C0007541', 'C0007737', 'C0060405', 'C0245519', 'C0055003', 'C0007551', 'C0007555', 'C0007557', 'C0108938', 'C0053882', 'C0007738', 'C2001525', 'C0007559', 'C0007560', 'C0007562', 'C0055015', 'C0008809', 'C0055856', 'C0055860', 'C0008947', 'C0055881', 'C0009077', 'C0011276', 'C0012093', 'C0058445', 'C0014806', 'C0016875', 'C0753645', 'C0282386', 'C0663241', 'C0065841', 'C0536495', 'C0027324', 'C0028365', 'C0028902', 'C0029983', 'C0530801', 'C0031955', 'C0030830', 'C0038665', 'C0075870', 'C0040193', 'C0040341', 'C0042313']\", \"['C0117996', 'C0060657', 'C0066700', 'C0298130', 'C0073992', 'C0081408']\", \"['C3272344']\", \"['C0006863', 'C0006949', 'C0055891', 'C0009011', 'C0060135', 'C0064636', 'C0024002', 'C0031412', 'C0031507', 'C0033148', 'C0076829']\", \"['C0002083', 'C0002607', 'C0041942', 'C0055461', 'C0055711', 'C0016298', 'C0022625', 'C0771655', 'C0072735', 'C0036079', 'C0074281', 'C0038670']\", \"['C0013030', 'C0022245']\", \"['C0054259', 'C0009074', 'C0060203', 'C0025942', 'C0028741', 'C0069488', 'C0038702', 'C0076115', 'C0076705']\", \"['C4726970']\", \"['C4330903']\", \"['C0039286']\", \"['C0026187', 'C0035608']\", \"['C0008809', 'C1120106', 'C0028365', 'C0028902', 'C0379881']\", \"['C0065879']\", \"['C0050451', 'C0540776', 'C0002679', 'C0004499', 'C0004521', 'C0052865', 'C0006976', 'C0007537', 'C0007538', 'C0007735', 'C0007541', 'C0007737', 'C4548369', 'C0060400', 'C0007550', 'C0007551', 'C0007738', 'C0007560', 'C3852726', 'C0008806', 'C0055860', 'C0010523', 'C0011276', 'C0014310', 'C0014810', 'C0878309', 'C0016875', 'C0022487', 'C0065162', 'C0065295', 'C0065636', 'C0065841', 'C0025638', 'C0025893', 'C0026187', 'C0027603', 'C3266849', 'C0030092', 'C0031955', 'C3502652', 'C0032535', 'C4317244', 'C0171447', 'C0770578', 'C0038745', 'C0039644', 'C0040193', 'C0379881']\", \"['C0002679']\", \"['C0012228', 'C0027360', 'C0030073', 'C0040610', 'C0211011']\", \"['C0005740']\", \"['C0011701', 'C3834170', 'C0795575', 'C4257011', 'C0966500', 'C1691209', 'C4064080', 'C3529563', 'C4727763', 'C1705480']\", \"['C0014025', 'C0014027']\", \"['C0012191']\", \"['C0059874']\", \"['C0286651', 'C0085542', 'C0965129', 'C0074554']\", \"['C0002680', 'C0007541', 'C0007737', 'C0007551', 'C0007554', 'C0007557', 'C0007559', 'C0007560', 'C0007561', 'C0007562', 'C0008947', 'C0055881', 'C0031955']\", \"['C0005035', 'C3886073', 'C0033209', 'C0038742', 'C4049065']\", \"['C0936148']\", \"['C0005308', 'C0005310', 'C0056391', 'C0011777', 'C0020268', 'C0063077', 'C0770560', 'C0025815', 'C0600901', 'C0032950', 'C0032952', 'C0010192', 'C0040864', 'C0040866', 'C0040867']\", \"['C3886731', 'C2987716']\", \"['C3491974', 'C4045497', 'C1738934', 'C3252090', 'C3852512', 'C4080052', 'C4519536', 'C4080053', 'C3851350', 'C3852670', 'C3864824', 'C4519537', 'C0292818', 'C2605855', 'C1876229', 'C2931927', 'C4079582', 'C4507236']\", \"['C0002645', 'C0002679', 'C0002680', 'C0052796', 'C0052865', 'C2743630', 'C0007537', 'C0007716', 'C0060405', 'C0060400', 'C0108938', 'C0053882', 'C0007738', 'C0055014', 'C0007561', 'C0007562', 'C0055015', 'C0008809', 'C0055856', 'C0055860', 'C0010523', 'C0011276', 'C0011777', 'C0014806', 'C0016875', 'C1507354', 'C0065295', 'C0065841', 'C0026187', 'C0028365', 'C0028902', 'C0030092', 'C1161346', 'C0530801', 'C0038745', 'C0038687', 'C0038689', 'C0039644', 'C0041041']\", \"['C4310440']\", \"['C1882138']\", \"['C1137427', 'C2698220']\", \"['C0022949']\", \"['C0052772', 'C1880735', 'C0171447']\", \"['C0012265']\", \"['C0002412', 'C0012757', 'C0027679']\", \"['C3661450', 'C0937846', 'C0015620', 'C0085154']\", \"['C0144576']\", \"['C0002679', 'C0013090', 'C0016875', 'C0026187', 'C0030092', 'C0039644']\", \"['C0065936']\", \"['C0002679', 'C0055711', 'C0009074', 'C0013547', 'C0022625', 'C0025942', 'C0028741', 'C0069488', 'C0040864', 'C0040866', 'C0043491']\", \"['C4084478', 'C3818700', 'C0795575', 'C2826076']\", \"['C0016875', 'C3854019']\", \"['C0051113', 'C0051556', 'C0718495', 'C0005088', 'C0005308', 'C0005311', 'C0053523', 'C0750848', 'C0055900', 'C0056391', 'C0011705', 'C0011707', 'C0011777', 'C0057992', 'C0016374', 'C0016294', 'C0016298', 'C0016299', 'C0117996', 'C0018513', 'C0020268', 'C0025815', 'C0066700', 'C0071836', 'C0032950', 'C0040864', 'C0040866']\", \"['C0062068', 'C0069392']\", \"['C4688584']\", \"['C0173083']\", \"['C0007537', 'C0007538', 'C0060400', 'C0108938', 'C0053882', 'C0007738', 'C0055014', 'C0058445', 'C0065295']\", \"['C0053225', 'C0022957', 'C0070620']\", \"['C0005308', 'C0005310', 'C0056391', 'C0011777', 'C0015121', 'C0020268', 'C0063077', 'C0770560', 'C1881172', 'C0025815', 'C0600901', 'C1882065', 'C3714572', 'C0032950', 'C0032952', 'C0040864', 'C0040866', 'C0040867', 'C0257685']\", \"['C1445625']\", \"['C3181682']\", \"['C0050403']\", \"['C0016366']\", \"['C0002371', 'C4522682', 'C0725101', 'C0008783', 'C0015620', 'C0065517', 'C0024476', 'C0851342', 'C0085154', 'C3652561', 'C0034665', 'C0037098', 'C0142825']\", \"['C4688747', 'C1138226', 'C0016564', 'C4706204', 'C0066805', 'C1675326', 'C0254211']\", \"['C0005308', 'C0056391', 'C0011777', 'C0020268', 'C0770560', 'C0025815', 'C0032950', 'C0032952', 'C0040864', 'C0040867']\", \"['C0012319']\", \"['C0006644', 'C0012291', 'C0014710', 'C0031412', 'C0075632']\", \"['C0071129', 'C0039771']\", \"['C1311070']\", \"['C0004599', 'C0056391', 'C0011777', 'C0016875', 'C3854019', 'C0018165', 'C0020268', 'C0063077', 'C0027603', 'C0032535', 'C0032950', 'C0071839', 'C0138273', 'C0038670', 'C0040341']\", \"['C0044410', 'C0006657', 'C0006674']\", \"['C1445578']\", \"['C0056391', 'C0060240', 'C0020268', 'C0063077', 'C0023660', 'C0031469', 'C0301304', 'C0071810', 'C0149368', 'C0043491']\", \"['C4301607', 'C0014695']\", \"['C0040864', 'C0040866', 'C0040867']\", \"['C4519740', 'C4519323']\", \"['C0014912']\", \"['C0000983', 'C0005025', 'C0008168', 'C0008809', 'C0009316', 'C0056391', 'C0011705', 'C0011777', 'C0020268', 'C0027603', 'C0028365', 'C0028902', 'C0032535', 'C0071810', 'C0772395', 'C0149368']\", \"['C0025023', 'C0030969', 'C0031957', 'C0034235', 'C0039832']\", \"['C2744440']\", \"['C0062068', 'C0030350', 'C0030883', 'C0031448']\", \"['C0002083', 'C0051510', 'C0005025', 'C0005041', 'C0005059', 'C0005100', 'C0006400', 'C0054235', 'C0012050', 'C0058831', 'C0771655', 'C0023660', 'C0070570', 'C0071810', 'C0073085', 'C0039542', 'C0039629', 'C0149368', 'C0043491']\", \"['C0002645', 'C0002679', 'C0002680', 'C0052865', 'C2743630', 'C0007537', 'C0060400', 'C0108938', 'C0007738', 'C0009077', 'C0010523', 'C0011276', 'C0058445', 'C0013090', 'C0016875', 'C0065841', 'C0026187', 'C0029983', 'C0030092', 'C0530801', 'C0030830', 'C0039644']\", \"['C2743630', 'C0007557', 'C0040193']\", \"['C0009008']\", \"['C0002499', 'C0002645', 'C0002680', 'C0004521', 'C0007737', 'C0007557', 'C2001525', 'C0007559', 'C0007560', 'C0007561', 'C0007562', 'C0008809', 'C0055860', 'C0016875', 'C3854019', 'C0536495', 'C0028365', 'C0028902', 'C0031955', 'C0038665', 'C0040193', 'C0040341']\", \"['C1693912', 'C1531015', 'C0387288']\", \"['C0010934']\", \"['C1455147', 'C1721377']\", \"['C0102840', 'C0051511']\", \"['C0014810', 'C0027603', 'C0030576']\", \"['C0030072', 'C2364481']\", \"['C0038745', 'C0038689']\", \"['C4547776']\", \"['C2698280', 'C2353244', 'C0040108', 'C1742789']\", \"['C0005308', 'C0053523', 'C0107497', 'C0055711', 'C0021978', 'C0009074', 'C0056391', 'C0013547', 'C0018242', 'C0062106', 'C0020268', 'C0022625', 'C1956280', 'C0025942', 'C0068367', 'C0069765', 'C0071810', 'C0075503', 'C0076110', 'C0040379', 'C0043491']\", \"['C0074676']\", \"['C0005308', 'C0005310', 'C0056391', 'C0010583', 'C0011777', 'C0020268', 'C0063077', 'C0770560', 'C0025677', 'C0025815', 'C0600901', 'C2987603', 'C0032950', 'C0032952', 'C0040864', 'C0040866', 'C0040867', 'C0042670']\", \"['C0068377', 'C0027358']\", \"['C0013085']\", \"['C4042342']\", \"['C0010934', 'C0042679']\", \"['C0002499', 'C0007541', 'C0007737', 'C0007561', 'C0007562', 'C0008947', 'C0055881', 'C0009077', 'C0029983', 'C0042313']\", \"['C1134659', 'C0011777', 'C1566537']\", \"['C0525079', 'C0005308', 'C0005740', 'C0008163', 'C0056391', 'C0011777', 'C0013089', 'C4079854', 'C0877880', 'C2698692', 'C0025815', 'C0032950', 'C0032952', 'C0040864', 'C0040867', 'C0042679']\", \"['C0008196']\", \"['C0304347']\", \"['C0904505', 'C1696547']\", \"['C1456821']\", \"['C0013618', 'C0379200']\", \"['C0002680', 'C0008168']\", \"['C0053817', 'C0014563', 'C0772501', 'C0028351', 'C0029193', 'C0071129', 'C0001927', 'C0039542', 'C0039771']\", \"['C0055896', 'C0057610']\", \"['C0757422']\", \"['C0009014', 'C1169997', 'C1873633', 'C0065835', 'C0025611', 'C0030800']\", \"['C0054340', 'C0052759', 'C0052762', 'C0006246', 'C0054672', 'C0008183', 'C0008281', 'C0907850', 'C0010547', 'C0908935', 'C0057605', 'C0057606', 'C0012522', 'C0013092', 'C0014479', 'C0296800', 'C1174893', 'C4542172', 'C0600901', 'C0527189', 'C0031408', 'C0031469', 'C0031495', 'C0070709', 'C0033405', 'C0033798', 'C0243449', 'C0076890', 'C0040866', 'C0041098']\", \"['C0001655', 'C0032950']\", \"['C0527379', 'C0006938', 'C0008273', 'C0012582', 'C0118168', 'C0020223', 'C0020261', 'C0022252', 'C0065374', 'C0025859', 'C0072857', 'C0072973', 'C4033447', 'C0037982', 'C0076891']\", \"['C0002645', 'C0002680', 'C0052796', 'C2743630', 'C0007537', 'C0007538', 'C0007716', 'C0060405', 'C0245519', 'C0060400', 'C0108938', 'C0053882', 'C0007738', 'C0055014', 'C0007562', 'C0055015', 'C0055856', 'C0058445', 'C0530801', 'C0030830']\", \"['C1176306', 'C0039663', 'C0014942', 'C2349941', 'C4691680', 'C0061863', 'C1096768', 'C0025853', 'C0068333', 'C1700730', 'C0061851', 'C0220578', 'C0030969', 'C3273719', 'C0063322']\", \"['C0005740', 'C0246415', 'C0020402', 'C0025677']\", \"['C0025033', 'C0062941', 'C3273827', 'C0041920', 'C0042682']\", \"['C0012471', 'C0012472']\", \"['C0002680', 'C0007737', 'C0027324', 'C0029983', 'C0042313']\", \"['C0038675']\", \"['C0065152', 'C0025605']\", \"['C0937950']\", \"['C0387288']\", \"['C0003524', 'C0005035', 'C0008793', 'C0021246', 'C0027396', 'C2350656', 'C4049065']\", \"['C0002680', 'C0008809', 'C0028365', 'C0028902', 'C0038687', 'C0038689', 'C0041041']\", \"['C0002680', 'C0007554', 'C0007557', 'C0007559', 'C0007560', 'C0055860', 'C0057144', 'C0027324', 'C0029983', 'C0040193']\", \"['C0051113', 'C0051556', 'C0718495', 'C0005088', 'C0005308', 'C0005310', 'C0005311', 'C0053523', 'C0750848', 'C0041942', 'C0055900', 'C0056391', 'C0011705', 'C0011707', 'C0011777', 'C0057992', 'C0060240', 'C0016374', 'C0016294', 'C0016298', 'C0016299', 'C0117996', 'C0018513', 'C0020268', 'C0063077', 'C0770560', 'C0025815', 'C0066700', 'C0071810', 'C0071836', 'C0032950', 'C0040864', 'C0040866', 'C0040867', 'C0149368', 'C0043491']\", \"['C3852938']\", \"['C0008783', 'C0081876', 'C0378482']\", \"['C1130428']\", \"['C0796392', 'C2744440', 'C2316164', 'C0144576']\", \"['C3653146', 'C0014479', 'C0027235', 'C0772501', 'C0001927', 'C0039771']\", \"['C2000261', 'C1684405', 'C0537147', 'C4043480']\", \"['C0061387']\", \"['C0043822', 'C0014912', 'C0015011', 'C0016365', 'C2825462', 'C0070122', 'C0074393']\", \"['C0078774', 'C0149381', 'C0078794']\", \"['C0389169', 'C0066005', 'C1260298']\", \"['C0050066', 'C0005640', 'C0031444']\", \"['C0608826', 'C0002640', 'C0051241', 'C0004743', 'C0054249', 'C0007077', 'C0008161', 'C0008405', 'C0008221', 'C0012522', 'C0114875', 'C0013085', 'C0014987', 'C0059714', 'C0016375', 'C0017845', 'C4519269', 'C0771040', 'C0025629', 'C0066418', 'C0025840', 'C0028126', 'C0030883', 'C0032910', 'C0072828', 'C0006464', 'C0036516', 'C3179535', 'C0301407', 'C0039468', 'C0040879']\", \"['C0023660', 'C0005038', 'C0070455', 'C0031962', 'C0034245', 'C0076295']\", \"['C0072980']\", \"['C0007257', 'C0057598', 'C0013089', 'C1832049', 'C4330502', 'C3273711', 'C1998098', 'C1955474', 'C2347624']\", \"['C0005025', 'C0056391', 'C0011777', 'C0016351', 'C0724587', 'C0016875', 'C0062922', 'C0020268', 'C0126177', 'C0065865', 'C0027603', 'C0032535', 'C0032950', 'C0071839', 'C0138273', 'C0140594', 'C0036442', 'C0038670', 'C0040341', 'C0040864', 'C0040866']\", \"['C0004906']\", \"['C0543448', 'C0065517', 'C0024472', 'C0126777', 'C0717900', 'C0024477', 'C0024480']\", \"['C0077857']\", \"['C0006949', 'C0015046', 'C0244656', 'C0064636', 'C0377265', 'C0025381', 'C0069751', 'C0070525', 'C0031412', 'C0031507', 'C0033148', 'C0068897', 'C0076829', 'C0042291', 'C0048044']\", \"['C1619629', 'C0043832', 'C4086553']\", \"['C0087161']\", \"['C0002499', 'C0005304', 'C0055003', 'C4548369', 'C0007559', 'C0008809', 'C1120106', 'C0016875', 'C0753645', 'C0065162', 'C0028365', 'C0028902', 'C0031955', 'C4317244', 'C0040341', 'C4519317']\", \"['C4287804']\", \"['C0051113', 'C0051556', 'C0718495', 'C0005088', 'C0005308', 'C0005310', 'C0005311', 'C0053523', 'C0750848', 'C0041942', 'C0055895', 'C0055896', 'C0055900', 'C0056391', 'C4301781', 'C0011705', 'C0011707', 'C0011777', 'C0057992', 'C0013085', 'C0016374', 'C0016294', 'C0016298', 'C0016299', 'C0117996', 'C0018513', 'C0020268', 'C0063077', 'C0770560', 'C0020404', 'C0025815', 'C0600901', 'C0066700', 'C0071836', 'C0032950', 'C0032952', 'C0146337', 'C0040864', 'C0040866', 'C0040867']\", \"['C0002680', 'C0007561']\", \"['C0008188', 'C0008221', 'C0008174', 'C0012010']\", \"['C0010711']\", \"['C0965390']\", \"['C4078312', 'C3501358', 'C1144149', 'C1707080', 'C4683810']\", \"['C2930764', 'C0057258', 'C4283710', 'C5222004']\", \"['C4018471', 'C0064113', 'C0936148']\", \"['C0005059', 'C0005308', 'C0053523', 'C0107497', 'C0055711', 'C0021978', 'C0009074', 'C0056391', 'C0013547', 'C0018242', 'C0062106', 'C0020268', 'C0022625', 'C1956280', 'C0025942', 'C0068367', 'C0069765', 'C0071810', 'C0036079', 'C0075503', 'C0076110', 'C0040379', 'C0041660', 'C0043491']\", \"['C4548848']\", \"['C1565316', 'C0251504', 'C0078839']\", \"['C0005308', 'C0005310', 'C0056391', 'C0011777', 'C0020268', 'C0063077', 'C0770560', 'C0024730', 'C0025815', 'C0032950', 'C0040864', 'C0040866', 'C0040867']\", \"['C0012145', 'C0043822', 'C0014912', 'C1330622', 'C0059668', 'C0015011', 'C0025147', 'C0028356', 'C0068992', 'C0033308', 'C0034410']\", \"['C0379149']\", \"['C0002679', 'C2743630', 'C0011276', 'C0013090', 'C0016875', 'C0065841', 'C0026187', 'C0030092', 'C0030830', 'C0039644']\", \"['C0005308', 'C0005310', 'C0056391', 'C0011777', 'C0020268', 'C0063077', 'C0770560', 'C0021246', 'C0126789', 'C0025815', 'C0027396', 'C0032950', 'C0038792', 'C0040864', 'C0040866', 'C0040867']\", \"['C0299792', 'C2000088', 'C0006949', 'C2936870', 'C0171023', 'C0073393', 'C0380393']\", \"['C2713632']\", \"['C0002499', 'C0002680', 'C0007546', 'C0014810', 'C0016875', 'C3854019', 'C0022487', 'C0038665']\"}\n",
      "Unique OBJECT_CUI values in test dataset: {'C0076840', 'C0015137', 'C0013085', 'C0006674', 'C1565750', 'C0216278', 'C4740830', 'C0040879', 'C0700189', 'C0027996', 'C1883309', 'C0873118', 'C0010980', 'C0282386', 'C0042313', 'C3192263', 'C0205758', 'C0620902', 'C1144149', 'C0065879', 'C0537270', 'C0937950', 'C0247025', 'C0245561', 'C0054201', 'C0728747', 'C0144576', 'C0962603', 'C5834323', 'C0024480', 'C0063657', 'C0052416', 'C0168388', 'C0028902', 'C1098510', 'C0676831', 'C0027368', 'C0717758', 'C0066673', 'C1569608', 'C0218640', 'C0037659', 'C0003968', 'C0004521', 'C0016298', 'C0034665', 'C0042291', 'C0028215', 'C1529660', 'C0796392', 'C0060507', 'C0070122', 'C0795597', 'C0015011', 'C0012022', 'C0246415', 'C0037138', 'C0032912', 'C3653122', 'C0386393', 'C1684405', 'C0066005', 'C1690432', 'C0034263', 'C0541155', 'C0002371', 'C2746078', 'C0025611', 'C0036079', 'C0024071', 'C0025605', 'C0005575', 'C0019134', 'C0127615', 'C0025242', 'C0009010', 'C4292380', 'C0014806', 'C0025746', 'C0006213', 'C0028420', 'C0073393', 'C0304441', 'C0357126', 'C1515388', 'C0040805', 'C0008405', 'C2721771', 'C0025147', 'C1337242', 'C0123091', 'C0529793', 'C0025598', 'C1608841', 'C0537894', 'C0040778', 'C0008783', 'C0085228', 'C0030817', 'C0074710', 'C0026088', 'C4255853', 'C1506770', 'C0002600', 'C1873633', 'C0025872', 'C4048232', 'C0006982', 'C0766326', 'C0055003', 'C0023660', 'C0772364', 'C0078844', 'C0935916', 'C0006376', 'C0052796', 'C0136123', 'C0030350', 'C0023992', 'C0023566', 'C0031013', 'C1135135', 'C0076080', 'C0073379', 'C0033487', 'C0008809', 'C0041041', 'C0388753', 'C0244656', 'C0146224', 'C0033798', 'C0048044', 'C0057144', 'C0081876', 'C0009170', 'C0389169', 'C0606070', 'C1166065', 'C0178882', 'C0057277', 'C0004609', 'C0008838', 'C0025859', 'C0007561', 'C0006246', 'C0035608', 'C0753678', 'C1176306', 'C0016277', 'C0028128', 'C0023570', 'C0673892', 'C1269691', 'C0254119', 'C0171023', 'C0017890', 'C0061851', 'C0020789', 'C0024027', 'C0770343', 'C0020823', 'C0299792', 'C0006644', 'C0935989', 'C0030095', 'C0031716', 'C0080356', 'C0006230', 'C1142738', 'C0049506', 'C0016278', 'C0392938', 'C3256601', 'C0700930', 'C2987648', 'C1515405', 'C0110038', 'C0066700', 'C0126177', 'C0028368', 'C0085208', 'C0050559', 'C0027396', 'C0076829', 'C0002502', 'C0034417', 'C0017628', 'C0054836', 'C0010961', 'C0025219', 'C0064113', 'C0002499', 'C0005578', 'C0006931', 'C0666743', 'C0025826', 'C0070093', 'C0026259', 'C0051696', 'C0070108', 'C0025368', 'C0025912', 'C0042874', 'C0005301', 'C0969677', 'C1619629', 'C0025033', 'C0379135', 'C0248719', 'C0059865', 'C2003424', 'C0387288', 'C0028126', 'C0038880', 'C0010592', 'C0025819', 'C1456408', 'C0770565', 'C4741328', 'C0007562', 'C0014027', 'C0038689', 'C0020934', 'C0008932', 'C0028978', 'C0016375', 'C1533126', 'C1718383', 'C0010583', 'C0030576', 'C0060926', 'C0055147', 'C0012582', 'C0033124', 'C0066677', 'C0031935', 'C1699926', 'C0016377', 'C0937917', 'C0024778', 'C0536495', 'C0033497', 'C0085272', 'C1516119', 'C0288171', 'C0008161', 'C0039629', 'C0001047', 'C0031955', 'C0076823', 'C0025384', 'C0672708', 'C0020740', 'C0040864', 'C0013089', 'C0015020', 'C0795635', 'C0031184', 'C0701928', 'C0292818', 'C0541315', 'C0028027', 'C0011892', 'C1176309', 'C0034272', 'C0009014', 'C0383429', 'C0079594', 'C0544368', 'C0377265', 'C0030896', 'C0011785', 'C0699278', 'C0010192', 'C0031507', 'C3872000', 'C1455147', 'C0012403', 'C0049065', 'C0002563', 'C1516302', 'C0039663', 'C0039925', 'C0055856', 'C0024002', 'C0022614', 'C1881785', 'C0042646', 'C0246330', 'C0971579', 'C1122087', 'C0142825', 'C0001041', 'C0126174', 'C0018305', 'C0167117', 'C0016367', 'C0178487', 'C0014025', 'C0393080', 'C4529301', 'C0005013', 'C0025677', 'C0039871', 'C0025815', 'C0286651', 'C0210657', 'C0030049', 'C0017687', 'C0220578', 'C0029105', 'C0065180', 'C0209368', 'C0020404', 'C0085217', 'C1257689', 'C0043474', 'C0086444', 'C0020402', 'C0717668', 'C0085259', 'C0071304', 'C0025241', 'C0085174', 'C0026187', 'C0028193', 'C0961485', 'C0039771', 'C0649350', 'C0078569', 'C1176316', 'C0246421', 'C0040233', 'C3657270', 'C0073374', 'C0013030', 'C0075870', 'C0060179', 'C1619966', 'C0937846', 'C0019588', 'C1311233', 'C1367202', 'C0020316', 'C0872913', 'C0022635', 'C0006462', 'C0014563', 'C0573951', 'C0069751', 'C0000946', 'C0025810', 'C0033405', 'C0038679', 'C0010590', 'C0030830', 'C0043031', 'C0014912', 'C1142985', 'C0073633', 'C0012306', 'C1176020', 'C0003993', 'C0073571', 'C0055573', 'C0009079', 'C0018546', 'C0032857', 'C0059364', 'C0016610', 'C0076612', 'C0016365', 'C0113293', 'C0042523', 'C0288672', 'C0018312', 'C0006400', 'C0030125', 'C0040845', 'C0013015', 'C0009011', 'C0290883', 'C0016410', 'C0143993', 'C0016967', 'C0006949', 'C0039736', 'C0123677', 'C0879427', 'C0028426', 'C0085149', 'C1512536', 'C0069717', 'C0031412', 'C0030071', 'C0009262', 'C0771311', 'C0531104', 'C0907402', 'C0027324', 'C0289313', 'C0072980', 'C0663241', 'C0039468', 'C0032950', 'C0020336', 'C0060657', 'C0937916', 'C0103045', 'C0008845', 'C0030969', 'C0027360', 'C0011479', 'C0041056', 'C0012091', 'C0034403', 'C0032856', 'C3541367', 'C1700874', 'C0525227', 'C1880288', 'C0023413', 'C2348248', 'C0002335', 'C0257685', 'C0032952', 'C0252643', 'C0028833', 'C0050940', 'C1258986', 'C0025678', 'C1165560', 'C0015846', 'C0001443', 'C0042679', 'C0284941', 'C0026933', 'C0087162', 'C0027358', 'C0004475', 'C0026549', 'C5834393', 'C0017861', 'C1513105', 'C0023972', 'C0302583', 'C0038803', 'C0000981', 'C0965129', 'C1134452', 'C0055891', 'C0725616', 'C0657912', 'C0074393', 'C0028008', 'C0055014', 'C0070166', 'C1566537', 'C0002475', 'C0663182', 'C0071097', 'C0073631', 'C0028040', 'C5709333', 'C1120106', 'C0257343', 'C0001962', 'C0030073', 'C0538927', 'C0015133', 'C0060389', 'C0008269', 'C0206460', 'C0016368', 'C0393022', 'C0887557', 'C0008241', 'C0008290', 'C0078839', 'C0244714', 'C0022265', 'C0025942', 'C0009008', 'C0165032', 'C0029997', 'C0010725', 'C0072973', 'C0538727', 'C0079083', 'C0525005', 'C2699562', 'C3536880', 'C0001927', 'C0027235', 'C0002645', 'C0005632', 'C0008947', 'C0016360', 'C0022322', 'C0002583', 'C0007559', 'C1172734', 'C0030520', 'C0016383', 'C0293359', 'C0209738', 'C0035527', 'C0253563', 'C0006405', 'C0972314', 'C1120386', 'C0092777', 'C1142933', 'C0671970', 'C0011777', 'C0028351', 'C0893761', 'C0025853', 'C0040341', 'C0021547', 'C0011185', 'C0039943', 'C0002333', 'C0249458', 'C0008318', 'C0064636', 'C1999375', 'C0014479', 'C0379200', 'C0070217', 'C0028156', 'C0063041', 'C0012522', 'C0527316', 'C0123931', 'C2001271', 'C0039601', 'C0525079', 'C0012963', 'C0074554', 'C0145106', 'C0029983', 'C0771204', 'C0765273', 'C2983887', 'C0006463', 'C0004057', 'C0033228', 'C0040610', 'C0026056', 'C1145701', 'C1998098', 'C0008196'}\n"
     ]
    }
   ],
   "source": [
    "import pandas as pd\n",
    "# Load the output file\n",
    "output_df = pd.read_csv(\"/content/drive/MyDrive/Digital Twin Study/Mehmet Can/Datasets/01-200/drugs_with_distances_and_similarities_200_01.csv\")\n",
    "\n",
    "# Load test dataset\n",
    "test_df = pd.read_csv('/content/drive/MyDrive/Digital Twin Study/Mehmet Can/Datasets/test_dataset.csv')\n",
    "\n",
    "# Convert OBJECT_CUI columns to sets to easily find unique and common values\n",
    "output_object_cuis = set(output_df['SUBJECT_CUI'].unique())\n",
    "test_object_cuis = set(test_df['SUBJECT_CUI'].unique())\n",
    "\n",
    "# Find common OBJECT_CUI values\n",
    "common_cuis = output_object_cuis.intersection(test_object_cuis)\n",
    "\n",
    "# Find OBJECT_CUI values unique to each dataset\n",
    "unique_to_output = output_object_cuis - test_object_cuis\n",
    "unique_to_test_df = test_object_cuis - output_object_cuis\n",
    "\n",
    "# Display results\n",
    "print(f\"Number of OBJECT_CUI values in output file: {len(output_object_cuis)}\")\n",
    "print(f\"Number of OBJECT_CUI values in test dataset: {len(test_object_cuis)}\")\n",
    "print(f\"Number of common OBJECT_CUI values: {len(common_cuis)}\")\n",
    "print(f\"Unique OBJECT_CUI values in output file: {unique_to_output}\")\n",
    "print(f\"Unique OBJECT_CUI values in test dataset: {unique_to_test_df}\")\n"
   ]
  },
  {
   "cell_type": "code",
   "execution_count": null,
   "metadata": {
    "colab": {
     "base_uri": "https://localhost:8080/"
    },
    "id": "h4t6cFFGPgsb",
    "outputId": "8548e98e-23b5-40f2-f1f2-f9181e14a131"
   },
   "outputs": [
    {
     "name": "stdout",
     "output_type": "stream",
     "text": [
      "Number of SUBJECT_CUI values in output: 1937\n",
      "Number of SUBJECT_CUI values in test dataset: 553\n",
      "Number of common SUBJECT_CUI values: 383\n",
      "Unique SUBJECT_CUI values in output file: {'C0033447', 'C3714801', 'C0018033', 'C2000261', 'C0052585', 'C0031392', 'C0108101', 'C3851350', 'C0030040', 'C0130137', 'C0028158', 'C0020264', 'C0287721', 'C0031441', 'C0674432', 'C2697961', 'C0002421', 'C0068992', 'C0070455', 'C0039840', 'C0137996', 'C0012093', 'C0025387', 'C0006466', 'C3854019', 'C0055461', 'C2980094', 'C0004599', 'C4519232', 'C3467876', 'C4542175', 'C0056391', 'C4043480', 'C4547051', 'C0085379', 'C0123047', 'C0004969', 'C0078643', 'C3652978', 'C0537670', 'C2717174', 'C0045093', 'C1609686', 'C0053526', 'C0073601', 'C0012384', 'C4086264', 'C0013065', 'C0025631', 'C0030077', 'C0038665', 'C0054120', 'C0076189', 'C1456409', 'C2827241', 'C0016225', 'C0005099', 'C0007080', 'C2933904', 'C1435444', 'C0014921', 'C0052761', 'C0048038', 'C2346836', 'C0292819', 'C0065760', 'C1101838', 'C4291409', 'C4548848', 'C0039512', 'C0076107', 'C0031862', 'C0663733', 'C0002697', 'C0075429', 'C0123163', 'C0076092', 'C0058446', 'C0005740', 'C0008287', 'C0663655', 'C0006863', 'C0069833', 'C0028476', 'C1831828', 'C0073371', 'C4519167', 'C3696416', 'C0009077', 'C3652561', 'C0036516', 'C0002615', 'C0032831', 'C1882065', 'C0000983', 'C0873165', 'C0031962', 'C4519213', 'C0020811', 'C0064079', 'C0961781', 'C0286402', 'C0165703', 'C0020306', 'C0036579', 'C0027444', 'C0905464', 'C0042845', 'C0011182', 'C0068980', 'C0072857', 'C0010927', 'C0044410', 'C0039286', 'C0129975', 'C3642427', 'C2698706', 'C0770895', 'C3501434', 'C4277781', 'C2714632', 'C0087163', 'C0076890', 'C2713008', 'C0024547', 'C0014810', 'C0014310', 'C1330622', 'C4727763', 'C0054234', 'C0254211', 'C4045501', 'C0298130', 'C2930762', 'C0072735', 'C0066682', 'C0012757', 'C0028157', 'C4542172', 'C0057626', 'C0063433', 'C0060501', 'C3489748', 'C0034283', 'C0023961', 'C0054667', 'C1122962', 'C4688747', 'C0064164', 'C3530172', 'C1260208', 'C3272698', 'C0059690', 'C1615657', 'C0060504', 'C1161346', 'C0116569', 'C0069765', 'C0053882', 'C0052820', 'C0770560', 'C2742587', 'C0034414', 'C0002164', 'C0753183', 'C0114873', 'C2605855', 'C0245519', 'C0055897', 'C0011817', 'C1696547', 'C0175022', 'C0063584', 'C0146337', 'C0008777', 'C3885145', 'C0092801', 'C2699179', 'C3885614', 'C0029309', 'C0050436', 'C0062068', 'C4325235', 'C0286382', 'C0604284', 'C0055339', 'C4519323', 'C2700226', 'C0043491', 'C0009316', 'C0132326', 'C3652612', 'C0055819', 'C0023586', 'C0000956', 'C1260298', 'C3852671', 'C0015837', 'C2604307', 'C0246631', 'C0024472', 'C0083381', 'C0772056', 'C2714681', 'C3888064', 'C0008294', 'C0137984', 'C1701455', 'C0963839', 'C4307886', 'C0071808', 'C1445625', 'C0008163', 'C0035179', 'C3848580', 'C4317559', 'C2931926', 'C0149368', 'C0024476', 'C0877880', 'C0006809', 'C1675326', 'C0078442', 'C0005320', 'C2713595', 'C0017797', 'C4310440', 'C0041098', 'C0054235', 'C0012472', 'C0007047', 'C1882138', 'C0060276', 'C2828299', 'C0016229', 'C0011707', 'C1171274', 'C0053091', 'C0005088', 'C0051510', 'C0070585', 'C5848169', 'C2713632', 'C2718773', 'C0064871', 'C0128513', 'C2936870', 'C4317155', 'C4086553', 'C0060194', 'C0032910', 'C0065636', 'C1313052', 'C0916062', 'C0040193', 'C0253355', 'C2744790', 'C0571665', 'C1721377', 'C0526399', 'C0728803', 'C0025382', 'C0033567', 'C2987603', 'C0007716', 'C0030812', 'C0069753', 'C3848532', 'C3886731', 'C0116074', 'C0055900', 'C0023610', 'C0025607', 'C0528023', 'C0953467', 'C0025376', 'C2986924', 'C0075783', 'C4519273', 'C1172636', 'C0003639', 'C0085154', 'C0007550', 'C4080009', 'C0039600', 'C0059862', 'C1832027', 'C0771957', 'C0026400', 'C0028116', 'C0008221', 'C0018242', 'C0059506', 'C2183766', 'C0772089', 'C0020261', 'C0060135', 'C0077857', 'C0077539', 'C4688584', 'C0025840', 'C4287804', 'C0018034', 'C0002711', 'C0717900', 'C0061863', 'C3273430', 'C0012125', 'C0068788', 'C0011015', 'C0031978', 'C0056835', 'C0600203', 'C1138226', 'C0058181', 'C0066282', 'C0065152', 'C4018471', 'C4524703', 'C4310578', 'C0031411', 'C0011701', 'C3709760', 'C0051113', 'C0301407', 'C0378482', 'C0006834', 'C2825286', 'C0072828', 'C0524095', 'C0102139', 'C0055904', 'C0055860', 'C2933912', 'C0700546', 'C0216971', 'C0380393', 'C0014942', 'C0016366', 'C0040373', 'C0014695', 'C3489682', 'C0724614', 'C0058425', 'C0033209', 'C0006686', 'C4078806', 'C0062103', 'C0672596', 'C3714572', 'C3899947', 'C3657824', 'C2349941', 'C0061328', 'C0008168', 'C1664205', 'C0053105', 'C0051556', 'C0288165', 'C0010934', 'C0061330', 'C0052940', 'C0771655', 'C3896714', 'C1870115', 'C0077089', 'C0076295', 'C0065295', 'C0047625', 'C2744960', 'C0014582', 'C3536876', 'C0012010', 'C0766108', 'C2983945', 'C0165312', 'C2698371', 'C0062941', 'C0086728', 'C0008188', 'C0078811', 'C1678805', 'C0041040', 'C0053792', 'C0050521', 'C3853822', 'C0008281', 'C0037134', 'C0851342', 'C0083701', 'C0058056', 'C0057605', 'C0164662', 'C0057606', 'C0043611', 'C0011276', 'C0053225', 'C1739462', 'C0140575', 'C2698291', 'C0014708', 'C0005070', 'C1880735', 'C0717670', 'C4547776', 'C0066522', 'C0527129', 'C0068483', 'C0286738', 'C3659310', 'C4550351', 'C0013547', 'C0013092', 'C0966107', 'C0961965', 'C1130428', 'C1693912', 'C1527027', 'C4079854', 'C0076660', 'C3253985', 'C0009279', 'C0058978', 'C0662811', 'C0026234', 'C1565316', 'C1306772', 'C3264621', 'C4522682', 'C0025681', 'C0050558', 'C0016778', 'C0095278', 'C0069562', 'C0534301', 'C4731737', 'C0060274', 'C1722685', 'C2973895', 'C0164674', 'C0770578', 'C3711911', 'C0262960', 'C1541483', 'C1707080', 'C0064263', 'C0028365', 'C3181682', 'C0074391', 'C0615823', 'C3491331', 'C0094813', 'C0058895', 'C0030092', 'C0010523', 'C0005096', 'C0039644', 'C1313386', 'C0246904', 'C0039607', 'C0040382', 'C0915142', 'C2826076', 'C0000948', 'C0011705', 'C0060240', 'C0028356', 'C0054040', 'C1881172', 'C0007555', 'C0069760', 'C4301607', 'C1445578', 'C2935023', 'C0066535', 'C0907850', 'C1871526', 'C0724587', 'C0076653', 'C0037537', 'C0027373', 'C0041014', 'C4317244', 'C0008183', 'C0024730', 'C0073085', 'C1302054', 'C0065175', 'C3658706', 'C0208216', 'C3661282', 'C0038675', 'C0057301', 'C0053523', 'C0054668', 'C1101148', 'C0038742', 'C0017066', 'C0771040', 'C0032613', 'C0068395', 'C0123043', 'C0053229', 'C0036720', 'C0262964', 'C1176329', 'C4257011', 'C0073983', 'C0071809', 'C0063449', 'C0040899', 'C0060180', 'C0717537', 'C0064906', 'C0059874', 'C0010582', 'C0296800', 'C0075007', 'C0108342', 'C1703334', 'C1144403', 'C0054340', 'C2348593', 'C0076181', 'C0520442', 'C0526058', 'C0014710', 'C0002679', 'C0040979', 'C0851344', 'C0065517', 'C0106291', 'C0008286', 'C0163557', 'C0009002', 'C0526371', 'C3885063', 'C0600296', 'C0003641', 'C0030829', 'C1881129', 'C4726765', 'C0073992', 'C3529352', 'C0142046', 'C0013084', 'C0066412', 'C0074676', 'C0004499', 'C0022252', 'C1619962', 'C0033254', 'C0041086', 'C0005640', 'C0051150', 'C0600901', 'C0012471', 'C0756085', 'C0034410', 'C0071324', 'C0038425', 'C1096768', 'C0075432', 'C0969324', 'C0120726', 'C0011824', 'C4283710', 'C2742503', 'C0005304', 'C0054672', 'C0052432', 'C0771436', 'C0060277', 'C0060237', 'C0022957', 'C0070525', 'C2346970', 'C0042071', 'C0001911', 'C1609165', 'C0075770', 'C0043872', 'C0020268', 'C0126789', 'C0038702', 'C0032535', 'C0070563', 'C2825721', 'C0762662', 'C3529928', 'C0040372', 'C4049146', 'C0001655', 'C0053817', 'C3652604', 'C0076195', 'C0907349', 'C0001268', 'C2825462', 'C0055467', 'C0004975', 'C0054094', 'C0025659', 'C0025625', 'C0038149', 'C4079582', 'C0025029', 'C0014938', 'C0068334', 'C0937851', 'C0052772', 'C0022949', 'C0016860', 'C3661315', 'C0012383', 'C0002144', 'C0032601', 'C0877860', 'C0286185', 'C3852512', 'C3492889', 'C4064080', 'C0066418', 'C0005041', 'C0108121', 'C2973446', 'C0886584', 'C4535718', 'C0169964', 'C0062922', 'C0963398', 'C0073372', 'C3713958', 'C0010547', 'C2343589', 'C0040377', 'C0002644', 'C3489575', 'C0725101', 'C0015046', 'C1311070', 'C0763530', 'C0068700', 'C0006710', 'C0379881', 'C3853839', 'C0043606', 'C0040987', 'C0765538', 'C0013090', 'C0055881', 'C0012050', 'C0007257', 'C0071129', 'C0040374', 'C0033493', 'C4086895', 'C0040219', 'C0006464', 'C3652618', 'C4519126', 'C3491162', 'C0053111', 'C0006938', 'C0030080', 'C0966500', 'C0006388', 'C2001856', 'C1831731', 'C1831796', 'C0001040', 'C0041920', 'C4080053', 'C0216231', 'C1451502', 'C2987429', 'C3491974', 'C0071839', 'C1956497', 'C4305843', 'C4291320', 'C0007248', 'C4045491', 'C0020933', 'C0076804', 'C4279743', 'C0030883', 'C0042670', 'C0041030', 'C2827667', 'C1872109', 'C0039832', 'C0304347', 'C0140591', 'C0055021', 'C1453933', 'C4519537', 'C1174893', 'C0033743', 'C0022154', 'C0027302', 'C0030863', 'C4329353', 'C4045494', 'C0733397', 'C5139819', 'C0995188', 'C0082608', 'C0048808', 'C2353244', 'C0903411', 'C0057992', 'C4078312', 'C0006403', 'C0007537', 'C3502471', 'C2744440', 'C0021186', 'C0045212', 'C0076126', 'C0075504', 'C1143018', 'C0537147', 'C0064582', 'C0055568', 'C0012265', 'C0596004', 'C0005330', 'C0301374', 'C0011145', 'C4082411', 'C0027348', 'C0009074', 'C0018927', 'C2930789', 'C0076096', 'C0004906', 'C2981308', 'C3501358', 'C2364481', 'C3834170', 'C0102840', 'C1145759', 'C0036442', 'C3712232', 'C0078774', 'C4519740', 'C0907410', 'C3713860', 'C2699709', 'C4726799', 'C3179535', 'C0041660', 'C0527379', 'C1176315', 'C4055478', 'C0719064', 'C0030140', 'C3852670', 'C0771648', 'C0147037', 'C0038710', 'C2350656', 'C4055109', 'C2932486', 'C0035629', 'C2825682', 'C0753645', 'C1434792', 'C0771259', 'C0209227', 'C3700399', 'C0065936', 'C0058445', 'C0603972', 'C0038687', 'C0065832', 'C0008283', 'C0007404', 'C0123903', 'C3273719', 'C0059868', 'C0216784', 'C0118168', 'C2975435', 'C5222004', 'C0050409', 'C0060201', 'C0016282', 'C0069709', 'C0000378', 'C0754659', 'C4279601', 'C4549503', 'C0969589', 'C0039955', 'C0077004', 'C3818721', 'C2826065', 'C0057598', 'C0028066', 'C3489764', 'C0050405', 'C0058831', 'C0377349', 'C4726900', 'C1695579', 'C0291140', 'C0301366', 'C0031007', 'C0036078', 'C0246269', 'C0060231', 'C0070694', 'C0164815', 'C0672663', 'C0041009', 'C0060400', 'C0025386', 'C0066805', 'C0006699', 'C0301375', 'C0149381', 'C0040976', 'C3272640', 'C0543448', 'C0050451', 'C0030072', 'C0031469', 'C4330502', 'C4724806', 'C0527038', 'C2974521', 'C1876226', 'C3273711', 'C0030032', 'C0007538', 'C0051691', 'C4055417', 'C0795712', 'C3491971', 'C0033602', 'C0301409', 'C0021735', 'C2001572', 'C3255208', 'C0057610', 'C0535459', 'C0291772', 'C0906166', 'C0023556', 'C0032483', 'C0540776', 'C0531483', 'C0073994', 'C0032623', 'C0025042', 'C0287041', 'C0007557', 'C0007560', 'C0965390', 'C0075503', 'C4224790', 'C0068377', 'C0015121', 'C0037098', 'C0042105', 'C0022625', 'C0007735', 'C0164155', 'C0085170', 'C2717021', 'C0012341', 'C2343853', 'C4507236', 'C0209315', 'C1453642', 'C0065023', 'C0033399', 'C0012288', 'C0016564', 'C0034245', 'C0031448', 'C0070709', 'C0043355', 'C0126774', 'C0073076', 'C0038792', 'C1505698', 'C2607479', 'C0009214', 'C0023863', 'C0056519', 'C4519194', 'C1531015', 'C1507354', 'C0041942', 'C4043954', 'C0054670', 'C2982078', 'C0012082', 'C0085542', 'C0756081', 'C0108111', 'C0965618', 'C0529351', 'C3179929', 'C0025023', 'C1566826', 'C0360172', 'C1700730', 'C0120446', 'C3652644', 'C0040263', 'C0018304', 'C0244713', 'C2698280', 'C2717561', 'C0068333', 'C0006681', 'C0376160', 'C0245109', 'C5140028', 'C4330903', 'C2699758', 'C0033511', 'C0041038', 'C0018988', 'C0008806', 'C4049065', 'C0795575', 'C3817397', 'C4056441', 'C0018513', 'C4706204', 'C0031422', 'C1960121', 'C4519428', 'C0063841', 'C0062092', 'C0040989', 'C0055015', 'C2316164', 'C0055723', 'C2353893', 'C0025760', 'C0072865', 'C0008174', 'C0125997', 'C0004015', 'C0031444', 'C1738934', 'C0043832', 'C4519114', 'C0165603', 'C0063077', 'C0018165', 'C3713906', 'C0065199', 'C4694272', 'C0010976', 'C0043822', 'C0038148', 'C0087161', 'C4519728', 'C0616274', 'C0046100', 'C0028741', 'C2825622', 'C0913506', 'C0059752', 'C1997549', 'C3652852', 'C0065767', 'C0028360', 'C4541383', 'C0005059', 'C0754188', 'C2919267', 'C4519229', 'C0081787', 'C0052752', 'C1958126', 'C0055477', 'C0008803', 'C0000618', 'C0288792', 'C0129022', 'C0016245', 'C0210630', 'C4078701', 'C0040209', 'C0005116', 'C0054222', 'C0030895', 'C2351042', 'C0012228', 'C0030899', 'C0016384', 'C0033148', 'C2698448', 'C0069739', 'C0017845', 'C2698220', 'C3529563', 'C0527189', 'C0025506', 'C0012145', 'C0012702', 'C0024056', 'C0031447', 'C0038745', 'C0031379', 'C0608826', 'C1567753', 'C0064585', 'C0008736', 'C4279599', 'C0055711', 'C0913246', 'C0041090', 'C3652699', 'C0079856', 'C0020273', 'C0034239', 'C0051923', 'C0037556', 'C3886460', 'C0075632', 'C0028735', 'C0028053', 'C0052762', 'C0032911', 'C0072315', 'C2931927', 'C0003524', 'C0012291', 'C0076891', 'C4084478', 'C0025624', 'C0677829', 'C0286819', 'C0070570', 'C0164386', 'C0063322', 'C0025380', 'C0037508', 'C1508750', 'C0007077', 'C0724579', 'C4278675', 'C0058371', 'C4507568', 'C0013618', 'C0051241', 'C0002640', 'C1704271', 'C0052759', 'C1876200', 'C0066101', 'C1176415', 'C0071074', 'C0071836', 'C1872427', 'C4475875', 'C1611934', 'C0074246', 'C0068314', 'C2000145', 'C0032901', 'C1530889', 'C2828245', 'C0014405', 'C0036071', 'C0117996', 'C0011816', 'C0075262', 'C0287983', 'C0008293', 'C0046948', 'C0107497', 'C0007541', 'C0379149', 'C4682397', 'C0025152', 'C0105750', 'C0051607', 'C4301781', 'C0718043', 'C0537439', 'C0173083', 'C0002403', 'C0022267', 'C0004743', 'C0025643', 'C2352806', 'C1831808', 'C1956280', 'C0878309', 'C0035976', 'C0171302', 'C0058415', 'C0022251', 'C0057258', 'C2983876', 'C3886073', 'C0025575', 'C0066685', 'C0002555', 'C0058218', 'C0012132', 'C0033215', 'C0016875', 'C2980091', 'C4720053', 'C0351000', 'C0065865', 'C1099677', 'C0054249', 'C0673966', 'C0146011', 'C0025497', 'C1742789', 'C0753318', 'C3864824', 'C0015021', 'C0008996', 'C1831905', 'C0074769', 'C0666079', 'C0025381', 'C4524315', 'C4505508', 'C0262965', 'C0526950', 'C3859426', 'C0016299', 'C3273401', 'C0014987', 'C0069454', 'C0038326', 'C0029994', 'C3195420', 'C0026388', 'C0009026', 'C0025603', 'C3886623', 'C2743630', 'C0007299', 'C0002680', 'C0053284', 'C0048306', 'C0005100', 'C2935436', 'C0041536', 'C0001937', 'C1135132', 'C0033429', 'C1456821', 'C2045867', 'C0015824', 'C2987430', 'C1869620', 'C0011812', 'C0076703', 'C0050066', 'C2347624', 'C0050458', 'C2348308', 'C0078794', 'C3490329', 'C0059772', 'C0108938', 'C0006657', 'C4694273', 'C0025217', 'C4056439', 'C3896940', 'C0076110', 'C0007554', 'C1313616', 'C0027603', 'C1113707', 'C0163055', 'C0065834', 'C0057981', 'C3272344', 'C4055433', 'C3818700', 'C3502652', 'C0064987', 'C0054820', 'C0077081', 'C0033229', 'C0002083', 'C1832049', 'C0025629', 'C2606637', 'C3266849', 'C2745274', 'C0006359', 'C0031979', 'C0085251', 'C0039542', 'C0022487', 'C1174995', 'C0016343', 'C0624744', 'C1134659', 'C3661450', 'C0109002', 'C0027329', 'C0069392', 'C0012525', 'C0010648', 'C4080052', 'C0533545', 'C0010620', 'C0032825', 'C1137427', 'C0008402', 'C0025854', 'C0048897', 'C0162745', 'C0068897', 'C0071132', 'C0061387', 'C0006979', 'C4740904', 'C0171447', 'C0772395', 'C4519118', 'C2001525', 'C0074757', 'C0771221', 'C0014704', 'C0076115', 'C0382131', 'C0066139', 'C4743552', 'C0024477', 'C0022642', 'C2350866', 'C0016294', 'C0055775', 'C1691209', 'C0065841', 'C4519269', 'C0041190', 'C4279587', 'C2983812', 'C0059623', 'C4050579', 'C3653146', 'C0038722', 'C3659266', 'C0007546', 'C3653189', 'C0041037', 'C0000992', 'C0165590', 'C0059714', 'C0251504', 'C0304571', 'C0121902', 'C0026256', 'C1321596', 'C0066624', 'C2348241', 'C0025153', 'C0007737', 'C0663351', 'C0074281', 'C5139717', 'C0002607', 'C0042682', 'C0108124', 'C4726970', 'C0103049', 'C1722267', 'C0050403', 'C0062648', 'C1957370', 'C0054270', 'C0031408', 'C0003143', 'C0016351', 'C0070072', 'C1876229', 'C0021978', 'C0257190', 'C0002658', 'C0027353', 'C0070620', 'C0000473', 'C0070549', 'C0044401', 'C0281581', 'C0007738', 'C0040165', 'C3252090', 'C0085237', 'C0055896', 'C0061938', 'C0076705', 'C0055152', 'C0762737', 'C0025405', 'C0021246', 'C4724807', 'C0126777', 'C3652632', 'C1955474', 'C0068485', 'C0074714', 'C0006491', 'C2350948', 'C1700683', 'C4548369', 'C0030557', 'C3714499', 'C0040869', 'C0005310', 'C0024977', 'C0376637', 'C3661274', 'C0138273', 'C4079904', 'C0033308', 'C0028005', 'C1609931', 'C4550350', 'C0005025', 'C0071143', 'C1948068', 'C0000545', 'C0750848', 'C0256103', 'C0058389', 'C1721300', 'C0172827', 'C3273827', 'C0048504', 'C2604635', 'C4519292', 'C0070592', 'C0015620', 'C0040108', 'C0530801', 'C0008929', 'C2983838', 'C1721339', 'C0068367', 'C0001465', 'C0027679', 'C0059668', 'C0076456', 'C0053881', 'C3852938', 'C2828290', 'C0012319', 'C3832882', 'C0065831', 'C0040867', 'C0004147', 'C0000970', 'C0055877', 'C4309207', 'C0006976', 'C4691680', 'C0281351', 'C2698385', 'C4683810', 'C0008793', 'C1169997', 'C0003001', 'C4301624', 'C0300205', 'C0772501', 'C0059610', 'C4482908', 'C0078836', 'C0142971', 'C0052946', 'C0041031', 'C0038670', 'C0006711', 'C0066411', 'C0936139', 'C2980074', 'C0040379', 'C0110462', 'C0053336', 'C0052865', 'C3490795', 'C0040866', 'C0301304', 'C0010711', 'C0030800', 'C0025893', 'C0084572', 'C0012086', 'C4746084', 'C2607750', 'C1176308', 'C0301527', 'C4042342', 'C2742502', 'C0772241', 'C0243449', 'C0207683', 'C0072225', 'C0757422', 'C0060580', 'C4731850', 'C0050461', 'C0718495', 'C0060234', 'C0062076', 'C0069628', 'C0054015', 'C0120107', 'C0243237', 'C0140610', 'C0069488', 'C2586675', 'C0072768', 'C0209211', 'C0008223', 'C0077147', 'C0034235', 'C0020223', 'C0059688', 'C0022209', 'C0012201', 'C0753287', 'C0025638', 'C0007551', 'C0058344', 'C2000088', 'C0016374', 'C0056732', 'C0031495', 'C0002412', 'C0245194', 'C0540623', 'C0005035', 'C0218986', 'C1567130', 'C4519536', 'C0005308', 'C1872203', 'C3651264', 'C0023726', 'C0039902', 'C0060825', 'C0040613', 'C4287815', 'C0062106', 'C0079466', 'C0064870', 'C0051511', 'C3661283', 'C0068006', 'C3501981', 'C1705480', 'C0065835', 'C0065162', 'C0014964', 'C0060203', 'C0071810', 'C0008296', 'C3640212', 'C0022059', 'C0005038', 'C0019453', 'C1328071', 'C0140594', 'C0771535', 'C3852217', 'C0904505', 'C2698692', 'C0002260', 'C0065374', 'C0126120', 'C4045497', 'C4301626', 'C0069805', 'C3177235', 'C0012191', 'C1121849', 'C1948374', 'C2934193', 'C0040975', 'C0936148', 'C0042665', 'C0037982', 'C0014963', 'C1136535', 'C0012381', 'C0010654', 'C0025684', 'C0029193', 'C0039865', 'C0031957', 'C0908935', 'C0008273', 'C4519317', 'C0022245', 'C0041479', 'C4033447', 'C0005311', 'C0005098', 'C3852920', 'C0081408', 'C0211011', 'C0143083', 'C0077497', 'C3852841', 'C0532578', 'C0031923', 'C0054259', 'C0069776', 'C0030873', 'C0043328', 'C2987716', 'C0085173', 'C0301373', 'C0039834', 'C0350998', 'C0077163', 'C0114875', 'C2698152', 'C0023791', 'C2930764', 'C0060483', 'C3713057', 'C0066837', 'C4079208', 'C0076808', 'C3852684', 'C4045234', 'C0060405', 'C0065870', 'C0053071', 'C0055895', 'C0071330', 'C3852726', 'C0031849', 'C2607886', 'C3273754', 'C3179547', 'C0012373', 'C0108139'}\n",
      "Unique SUBJECT_CUI values in test dataset: {'C0066677', 'C1565750', 'C1881785', 'C0216278', 'C1145701', 'C0244714', 'C0032856', 'C1883309', 'C1142933', 'C0699278', 'C0771204', 'C0037659', 'C0028008', 'C0907402', 'C0006463', 'C0066673', 'C1311233', 'C5834393', 'C1337242', 'C0031013', 'C0765273', 'C4529301', 'C0972314', 'C0016967', 'C0178882', 'C0673892', 'C0078844', 'C1699926', 'C0701928', 'C0025819', 'C2699562', 'C0055573', 'C0015137', 'C0080356', 'C0025368', 'C0209368', 'C1533126', 'C0028215', 'C0025598', 'C4255853', 'C0205758', 'C1569608', 'C0028420', 'C0043474', 'C0971579', 'C1513105', 'C0167117', 'C0284941', 'C5709333', 'C0076612', 'C0022614', 'C0620902', 'C1258986', 'C0028426', 'C0049506', 'C0795597', 'C0037138', 'C0024071', 'C0016278', 'C0017687', 'C0700189', 'C0935916', 'C0070108', 'C0002583', 'C1257689', 'C0034263', 'C0026933', 'C0969677', 'C0527316', 'C1619966', 'C1134452', 'C0020823', 'C0027996', 'C0039943', 'C0005301', 'C0031716', 'C0544368', 'C0059364', 'C0038679', 'C0050559', 'C0110038', 'C0009079', 'C0009010', 'C0086444', 'C0288672', 'C0253563', 'C0070217', 'C0304441', 'C0034417', 'C0032857', 'C1165560', 'C4741328', 'C0206460', 'C1516302', 'C3256601', 'C1166065', 'C0386393', 'C3192263', 'C3872000', 'C0070093', 'C0717668', 'C0017628', 'C0178487', 'C1515388', 'C1512536', 'C0073379', 'C0025678', 'C4048232', 'C0393022', 'C0087162', 'C0538727', 'C0022322', 'C0136123', 'C0772364', 'C1269691', 'C0010725', 'C0700930', 'C0246330', 'C2746078', 'C0209738', 'C0873118', 'C0006213', 'C0060507', 'C2983887', 'C0076823', 'C0006462', 'C0893761', 'C0028368', 'C0770565', 'C0392938', 'C0071304', 'C0074710', 'C0032912', 'C0001041', 'C0001962', 'C0049065', 'C0113293', 'C0025384', 'C0009170', 'C1515405', 'C0210657', 'C0025242', 'C0060179', 'C0887557', 'C1456408', 'C0063657', 'C0030896', 'C0795635', 'C0725616', 'C0168388', 'C0085174', 'C0033487', 'C0008932', 'C0057277', 'C5834323', 'C0025746', 'C1172734', 'C0015020', 'C0071097', 'C4292380', 'C1176309', 'C0073571', 'C1529660', 'C0003993', 'C4740830', 'C0004475', 'C0039736', 'C0961485', 'C0289313', 'C0001443'}\n"
     ]
    }
   ],
   "source": [
    "import pandas as pd\n",
    "# Load the output file\n",
    "output_df = pd.read_csv(\"/content/drive/MyDrive/Digital Twin Study/Mehmet Can/Datasets/01-200/drugs_with_distances_and_similarities_200_01.csv\")\n",
    "\n",
    "# Function to convert SUBJECT_CUI strings to sets\n",
    "def format_subject_cui(subject_cui_str):\n",
    "    # Remove extra quotes around the list string and evaluate it as a list\n",
    "    subject_cui_list = eval(subject_cui_str.strip(\"\\\"\"))\n",
    "    # Convert list to set\n",
    "    subject_cui_set = set(subject_cui_list)\n",
    "    return subject_cui_set\n",
    "\n",
    "# Temporarily format the SUBJECT_CUI column for comparison\n",
    "temp_subject_cuis = output_df['SUBJECT_CUI'].apply(format_subject_cui)\n",
    "\n",
    "# Load the test dataset\n",
    "test_df = pd.read_csv('/content/drive/MyDrive/Digital Twin Study/Mehmet Can/Datasets/test_dataset.csv')\n",
    "\n",
    "# Now you can compare the formatted SUBJECT_CUI sets with those in test_df\n",
    "# Example: check if a specific SUBJECT_CUI in test_df matches those in temp_subject_cuis\n",
    "# Assuming test_df also has a 'SUBJECT_CUI' column to compare against\n",
    "\n",
    "# Example comparison for unique values\n",
    "output_subject_cuis = set(temp_subject_cuis.explode())  # Flatten list of sets\n",
    "test_subject_cuis = set(test_df['SUBJECT_CUI'].explode())  # Flatten if in similar list format\n",
    "\n",
    "# Find common and unique SUBJECT_CUIs\n",
    "common_subject_cuis = output_subject_cuis.intersection(test_subject_cuis)\n",
    "unique_to_output = output_subject_cuis - test_subject_cuis\n",
    "unique_to_test = test_subject_cuis - output_subject_cuis\n",
    "\n",
    "# Display the results\n",
    "print(f\"Number of SUBJECT_CUI values in output: {len(output_subject_cuis)}\")\n",
    "print(f\"Number of SUBJECT_CUI values in test dataset: {len(test_subject_cuis)}\")\n",
    "print(f\"Number of common SUBJECT_CUI values: {len(common_subject_cuis)}\")\n",
    "print(f\"Unique SUBJECT_CUI values in output file: {unique_to_output}\")\n",
    "print(f\"Unique SUBJECT_CUI values in test dataset: {unique_to_test}\")\n"
   ]
  },
  {
   "cell_type": "markdown",
   "metadata": {
    "id": "nRgKvQyohe2U"
   },
   "source": [
    "#### Test Dataset Analysis"
   ]
  },
  {
   "cell_type": "code",
   "execution_count": null,
   "metadata": {
    "colab": {
     "base_uri": "https://localhost:8080/"
    },
    "id": "ZTcuJ4osv8h3",
    "outputId": "d089c461-c07c-42cd-be94-069d8f767b5e"
   },
   "outputs": [
    {
     "name": "stderr",
     "output_type": "stream",
     "text": [
      "Calculating distances: 100%|██████████| 1244/1244 [00:01<00:00, 1019.96it/s]\n"
     ]
    },
    {
     "name": "stdout",
     "output_type": "stream",
     "text": [
      "\n",
      "Detailed example for row 0:\n",
      "\n",
      "Test Drugs: []\n",
      "Subject Drugs: ['C0012471', 'C0012472', 'C0030095']\n",
      "\n",
      "Distance measurements:\n",
      "\n",
      "Manhattan distances:\n",
      "\n",
      "Cosine similarities:\n",
      "\n",
      "Euclidean distances:\n",
      "\n",
      "Processed 1244 rows\n"
     ]
    }
   ],
   "source": [
    "# 24.11.2024\n",
    "\n",
    "import pandas as pd\n",
    "import numpy as np\n",
    "from scipy.spatial.distance import euclidean, cityblock\n",
    "from scipy.spatial.distance import cosine\n",
    "import ast\n",
    "from tqdm import tqdm\n",
    "\n",
    "def load_embeddings(embeddings_path):\n",
    "    \"\"\"\n",
    "    Load and process embeddings from CSV file.\n",
    "    Returns a dictionary mapping CUI to embedding vector.\n",
    "    \"\"\"\n",
    "    embeddings_df = pd.read_csv(embeddings_path)\n",
    "    embeddings_dict = {}\n",
    "\n",
    "    for _, row in embeddings_df.iterrows():\n",
    "        # Extract base CUI (remove anything after |)\n",
    "        cui = row['Node Name'].split('|')[0]\n",
    "        # Convert string representation of embedding to numpy array\n",
    "        embedding = np.array(ast.literal_eval(row['Embedding']))\n",
    "        embeddings_dict[cui] = embedding\n",
    "\n",
    "    return embeddings_dict\n",
    "\n",
    "def calculate_distances(vec1, vec2):\n",
    "    \"\"\"\n",
    "    Calculate Manhattan distance, Euclidean distance, and Cosine similarity between two vectors.\n",
    "    \"\"\"\n",
    "    manhattan = cityblock(vec1, vec2)\n",
    "    euclidean_dist = euclidean(vec1, vec2)\n",
    "    cosine_sim = 1 - cosine(vec1, vec2)  # Convert cosine distance to similarity\n",
    "\n",
    "    return manhattan, cosine_sim, euclidean_dist\n",
    "\n",
    "def create_pair_key(test_drug, subject_drug):\n",
    "    \"\"\"\n",
    "    Create a standardized key for a drug pair.\n",
    "    \"\"\"\n",
    "    return f\"({test_drug},{subject_drug})\"\n",
    "\n",
    "def process_drug_distances(treatments_path, embeddings_path, output_path):\n",
    "    \"\"\"\n",
    "    Process drug treatments dataset and calculate distances between all combinations of drug embeddings.\n",
    "    Store results using pair names as keys.\n",
    "    \"\"\"\n",
    "    treatments_df = pd.read_csv(treatments_path)\n",
    "    embeddings_dict = load_embeddings(embeddings_path)\n",
    "\n",
    "    treatments_df['SUBJECT_CUI'] = treatments_df['SUBJECT_CUI'].apply(ast.literal_eval)\n",
    "    treatments_df['TEST_DRUGS'] = treatments_df['TEST_DRUGS'].apply(ast.literal_eval)\n",
    "\n",
    "    manhattan_distances = []\n",
    "    cosine_similarities = []\n",
    "    euclidean_distances = []\n",
    "\n",
    "    for _, row in tqdm(treatments_df.iterrows(), total=len(treatments_df), desc=\"Calculating distances\"):\n",
    "        subject_drugs = row['SUBJECT_CUI']\n",
    "        test_drugs = row['TEST_DRUGS']\n",
    "\n",
    "        row_manhattan = {}\n",
    "        row_cosine = {}\n",
    "        row_euclidean = {}\n",
    "\n",
    "        for test_drug in test_drugs:\n",
    "            if test_drug not in embeddings_dict:\n",
    "                continue\n",
    "\n",
    "            test_embedding = embeddings_dict[test_drug]\n",
    "\n",
    "            for subject_drug in subject_drugs:\n",
    "                if subject_drug not in embeddings_dict:\n",
    "                    continue\n",
    "\n",
    "                subject_embedding = embeddings_dict[subject_drug]\n",
    "\n",
    "                manhattan, cosine_sim, eucl = calculate_distances(test_embedding, subject_embedding)\n",
    "\n",
    "                pair_key = create_pair_key(test_drug, subject_drug)\n",
    "\n",
    "                row_manhattan[pair_key] = round(manhattan, 6)\n",
    "                row_cosine[pair_key] = round(cosine_sim, 6)\n",
    "                row_euclidean[pair_key] = round(eucl, 6)\n",
    "\n",
    "        manhattan_distances.append(str(row_manhattan))\n",
    "        cosine_similarities.append(str(row_cosine))\n",
    "        euclidean_distances.append(str(row_euclidean))\n",
    "\n",
    "    treatments_df['MANHATTAN_DIST'] = manhattan_distances\n",
    "    treatments_df['COSINE_SIM'] = cosine_similarities\n",
    "    treatments_df['EUCLIDEAN_DIST'] = euclidean_distances\n",
    "\n",
    "    treatments_df.to_csv(output_path, index=False)\n",
    "\n",
    "    return treatments_df\n",
    "\n",
    "def print_example_distances(df, row_index=0):\n",
    "    \"\"\"\n",
    "    Print detailed example of distance calculations for a specific row\n",
    "    \"\"\"\n",
    "    print(f\"\\nDetailed example for row {row_index}:\")\n",
    "\n",
    "    # Convert string representations back to dictionaries\n",
    "    manhattan_dict = ast.literal_eval(df['MANHATTAN_DIST'].iloc[row_index])\n",
    "    cosine_dict = ast.literal_eval(df['COSINE_SIM'].iloc[row_index])\n",
    "    euclidean_dict = ast.literal_eval(df['EUCLIDEAN_DIST'].iloc[row_index])\n",
    "\n",
    "    print(\"\\nTest Drugs:\", df['TEST_DRUGS'].iloc[row_index])\n",
    "    print(\"Subject Drugs:\", df['SUBJECT_CUI'].iloc[row_index])\n",
    "\n",
    "    print(\"\\nDistance measurements:\")\n",
    "    print(\"\\nManhattan distances:\")\n",
    "    for pair, distance in manhattan_dict.items():\n",
    "        print(f\"{pair}: {distance}\")\n",
    "\n",
    "    print(\"\\nCosine similarities:\")\n",
    "    for pair, similarity in cosine_dict.items():\n",
    "        print(f\"{pair}: {similarity}\")\n",
    "\n",
    "    print(\"\\nEuclidean distances:\")\n",
    "    for pair, distance in euclidean_dict.items():\n",
    "        print(f\"{pair}: {distance}\")\n",
    "\n",
    "if __name__ == \"__main__\":\n",
    "# Define file paths\n",
    "    treatments_path = \"/content/drive/MyDrive/Digital Twin Study/Mehmet Can/Datasets/Test/drug_treatments_dataset_all.csv\"\n",
    "    embeddings_path = \"/content/drive/MyDrive/Digital Twin Study/Mehmet Can/Node Embeddings/01-200/node_embeddings_200_1_with_names_array.csv\"\n",
    "    output_path = \"/content/drive/MyDrive/Digital Twin Study/Mehmet Can/Datasets/Test/all_distances_emb_dim_200.csv\"\n",
    "\n",
    "    # Process the datasets and calculate distances\n",
    "    result_df = process_drug_distances(treatments_path, embeddings_path, output_path)\n",
    "\n",
    "    # Print detailed example for the first row\n",
    "    print_example_distances(result_df, 0)\n",
    "\n",
    "    print(f\"\\nProcessed {len(result_df)} rows\")"
   ]
  },
  {
   "cell_type": "code",
   "execution_count": null,
   "metadata": {
    "colab": {
     "base_uri": "https://localhost:8080/"
    },
    "id": "kv8X2ct1pTRE",
    "outputId": "ce8db82d-c529-4aab-b1b2-72fc90205cd7"
   },
   "outputs": [
    {
     "name": "stdout",
     "output_type": "stream",
     "text": [
      "Total rows: 1244\n",
      "Empty arrays: 987\n",
      "Non-empty arrays: 257\n"
     ]
    }
   ],
   "source": [
    "import pandas as pd\n",
    "import ast\n",
    "\n",
    "treatments_path = \"/content/drive/MyDrive/Digital Twin Study/Mehmet Can/Datasets/Test/drug_treatments_dataset_all.csv\"\n",
    "df = pd.read_csv(treatments_path)\n",
    "\n",
    "df['TEST_DRUGS'] = df['TEST_DRUGS'].apply(lambda x: ast.literal_eval(x) if isinstance(x, str) else x)\n",
    "total_rows = len(df['TEST_DRUGS'])\n",
    "empty_arrays = df['TEST_DRUGS'].apply(lambda x: len(x) == 0).sum()\n",
    "non_empty_arrays = total_rows - empty_arrays\n",
    "\n",
    "print(f\"Total rows: {total_rows}\")\n",
    "print(f\"Empty arrays: {empty_arrays}\")\n",
    "print(f\"Non-empty arrays: {non_empty_arrays}\")"
   ]
  },
  {
   "cell_type": "code",
   "execution_count": null,
   "metadata": {
    "colab": {
     "base_uri": "https://localhost:8080/"
    },
    "id": "ZN2fa9TQikIh",
    "outputId": "3d3f73a1-f86b-41bc-8364-be0c6a7bffb7"
   },
   "outputs": [
    {
     "name": "stdout",
     "output_type": "stream",
     "text": [
      "Number of rows after filtering: 257\n"
     ]
    }
   ],
   "source": [
    "# Clear the columns\n",
    "import pandas as pd\n",
    "\n",
    "file_path = '/content/drive/MyDrive/Digital Twin Study/Mehmet Can/Datasets/Test/all_distances_emb_dim_200.csv'  # Replace with your file path\n",
    "df = pd.read_csv(file_path)\n",
    "\n",
    "filtered_df = df[df['TEST_DRUGS'] != '[]']\n",
    "\n",
    "filtered_file_path = '/content/drive/MyDrive/Digital Twin Study/Mehmet Can/Datasets/Test/all_distances_emb_dim_200_clear.csv'  # Replace with your desired output path\n",
    "filtered_df.to_csv(filtered_file_path, index=False)\n",
    "\n",
    "row_count = filtered_df.shape[0]\n",
    "\n",
    "print(f\"Number of rows after filtering: {row_count}\")\n"
   ]
  },
  {
   "cell_type": "markdown",
   "metadata": {
    "id": "X3qzB11sHtPO"
   },
   "source": [
    "### 100"
   ]
  },
  {
   "cell_type": "code",
   "execution_count": null,
   "metadata": {
    "id": "ovCCB3mlim-e"
   },
   "outputs": [],
   "source": [
    "import pandas as pd\n",
    "\n",
    "df = pd.read_csv('/content/drive/MyDrive/Digital Twin Study/Mehmet Can/Datasets/Test/all_distances_emb_dim_100_clear_meaned_new.csv')\n",
    "\n",
    "def determine_pass_fail(row):\n",
    "    pass_fail_results = []\n",
    "\n",
    "    test_drugs = eval(row['TEST_DRUGS'])\n",
    "    subject_drugs = eval(row['SUBJECT_CUI'])\n",
    "    manhattan_distances = eval(row['MANHATTAN_DIST'])\n",
    "    cosine_similarities = eval(row['COSINE_SIM'])\n",
    "    euclidean_distances = eval(row['EUCLIDEAN_DIST'])\n",
    "\n",
    "    manhattan_mean = row['MANHATTAN_MEAN']\n",
    "    cosine_mean = row['COSINE_MEAN']\n",
    "    euclidean_mean = row['EUCLIDEAN_MEAN']\n",
    "\n",
    "    for test_drug in test_drugs:\n",
    "        pass_found = False\n",
    "        fail_conditions = 3  # Start with all conditions failing\n",
    "\n",
    "        for subject_drug in subject_drugs:\n",
    "            pair = f'({test_drug},{subject_drug})'\n",
    "\n",
    "            manhattan_pass = manhattan_distances.get(pair, 0) < manhattan_mean\n",
    "            cosine_pass = cosine_similarities.get(pair, 0) > cosine_mean\n",
    "            euclidean_pass = euclidean_distances.get(pair, 0) < euclidean_mean\n",
    "\n",
    "            conditions_met = sum([manhattan_pass, cosine_pass, euclidean_pass])\n",
    "            fail_conditions = 3 - conditions_met  # Calculate fail conditions\n",
    "\n",
    "            if conditions_met >= 2:\n",
    "                pass_found = True\n",
    "                break\n",
    "\n",
    "        if pass_found:\n",
    "            pass_fail_results.append(f'PASS_{conditions_met}_{test_drug}')\n",
    "        else:\n",
    "            pass_fail_results.append(f'FAIL_{fail_conditions}_{test_drug}')\n",
    "\n",
    "    return pass_fail_results\n",
    "\n",
    "df['PASS_FAIL'] = df.apply(determine_pass_fail, axis=1)\n",
    "\n",
    "df.to_csv('/content/drive/MyDrive/Digital Twin Study/Mehmet Can/Datasets/Test/all_distances_emb_100_last.csv', index=False)\n"
   ]
  },
  {
   "cell_type": "code",
   "execution_count": null,
   "metadata": {
    "colab": {
     "base_uri": "https://localhost:8080/"
    },
    "id": "P3PFrspyIFgX",
    "outputId": "9c7c6484-7ab5-42ef-c87d-05698629846b"
   },
   "outputs": [
    {
     "name": "stdout",
     "output_type": "stream",
     "text": [
      "Total PASS: 549\n",
      "Total FAIL: 630\n"
     ]
    }
   ],
   "source": [
    "import pandas as pd\n",
    "df = pd.read_csv('/content/drive/MyDrive/Digital Twin Study/Mehmet Can/Datasets/Test/all_distances_emb_100_last.csv')\n",
    "\n",
    "# Function to count total PASS and FAIL\n",
    "\n",
    "def count_pass_fail(pass_fail_column):\n",
    "    pass_count = 0\n",
    "    fail_count = 0\n",
    "    for entry in pass_fail_column:\n",
    "        for result in entry.split(', '):\n",
    "            if 'PASS' in result:\n",
    "                pass_count += 1\n",
    "            elif 'FAIL' in result:\n",
    "                fail_count += 1\n",
    "    return pass_count, fail_count\n",
    "\n",
    "pass_count, fail_count = count_pass_fail(df['PASS_FAIL'])\n",
    "\n",
    "print(f\"Total PASS: {pass_count}\")\n",
    "print(f\"Total FAIL: {fail_count}\")\n"
   ]
  },
  {
   "cell_type": "markdown",
   "metadata": {
    "id": "gS8Zl98NHxNJ"
   },
   "source": [
    "###150"
   ]
  },
  {
   "cell_type": "code",
   "execution_count": null,
   "metadata": {
    "id": "mJXuLz2SL8AT"
   },
   "outputs": [],
   "source": [
    "import pandas as pd\n",
    "\n",
    "df = pd.read_csv('/content/drive/MyDrive/Digital Twin Study/Mehmet Can/Datasets/Test/all_distances_emb_dim_150_clear_updated.csv')\n",
    "\n",
    "def determine_pass_fail(row):\n",
    "    pass_fail_results = []\n",
    "\n",
    "    test_drugs = eval(row['TEST_DRUGS'])\n",
    "    subject_drugs = eval(row['SUBJECT_CUI'])\n",
    "    manhattan_distances = eval(row['MANHATTAN_DIST'])\n",
    "    cosine_similarities = eval(row['COSINE_SIM'])\n",
    "    euclidean_distances = eval(row['EUCLIDEAN_DIST'])\n",
    "\n",
    "    manhattan_mean = row['MANHATTAN_MEAN']\n",
    "    cosine_mean = row['COSINE_MEAN']\n",
    "    euclidean_mean = row['EUCLIDEAN_MEAN']\n",
    "\n",
    "    for test_drug in test_drugs:\n",
    "        pass_found = False\n",
    "        fail_conditions = 3  # Start with all conditions failing\n",
    "\n",
    "        for subject_drug in subject_drugs:\n",
    "            pair = f'({test_drug},{subject_drug})'\n",
    "\n",
    "            manhattan_pass = manhattan_distances.get(pair, 0) < manhattan_mean\n",
    "            cosine_pass = cosine_similarities.get(pair, 0) > cosine_mean\n",
    "            euclidean_pass = euclidean_distances.get(pair, 0) < euclidean_mean\n",
    "\n",
    "            conditions_met = sum([manhattan_pass, cosine_pass, euclidean_pass])\n",
    "            fail_conditions = 3 - conditions_met  # Calculate fail conditions\n",
    "\n",
    "            if conditions_met >= 2:\n",
    "                pass_found = True\n",
    "                break\n",
    "\n",
    "        if pass_found:\n",
    "            pass_fail_results.append(f'PASS_{conditions_met}_{test_drug}')\n",
    "        else:\n",
    "            pass_fail_results.append(f'FAIL_{fail_conditions}_{test_drug}')\n",
    "\n",
    "    return pass_fail_results\n",
    "\n",
    "df['PASS_FAIL'] = df.apply(determine_pass_fail, axis=1)\n",
    "\n",
    "df.to_csv('/content/drive/MyDrive/Digital Twin Study/Mehmet Can/Datasets/Test/all_distances_emb_150_new.csv', index=False)\n"
   ]
  },
  {
   "cell_type": "code",
   "execution_count": null,
   "metadata": {
    "colab": {
     "base_uri": "https://localhost:8080/"
    },
    "id": "lwPmzNx7JgTt",
    "outputId": "3e4fa483-b4ea-4ed6-dc49-e02e95ed4cb2"
   },
   "outputs": [
    {
     "name": "stdout",
     "output_type": "stream",
     "text": [
      "Total PASS: 1141\n",
      "Total FAIL: 358\n"
     ]
    }
   ],
   "source": [
    "import pandas as pd\n",
    "df = pd.read_csv('/content/drive/MyDrive/Digital Twin Study/Mehmet Can/Datasets/Test/all_distances_emb_200_new.csv')\n",
    "\n",
    "# Function to count total PASS and FAIL\n",
    "\n",
    "def count_pass_fail(pass_fail_column):\n",
    "    pass_count = 0\n",
    "    fail_count = 0\n",
    "    for entry in pass_fail_column:\n",
    "        for result in entry.split(', '):\n",
    "            if 'PASS' in result:\n",
    "                pass_count += 1\n",
    "            elif 'FAIL' in result:\n",
    "                fail_count += 1\n",
    "    return pass_count, fail_count\n",
    "\n",
    "pass_count, fail_count = count_pass_fail(df['PASS_FAIL'])\n",
    "\n",
    "print(f\"Total PASS: {pass_count}\")\n",
    "print(f\"Total FAIL: {fail_count}\")\n"
   ]
  },
  {
   "cell_type": "markdown",
   "metadata": {
    "id": "a-rrBXz3Hy0Y"
   },
   "source": [
    "### 200"
   ]
  },
  {
   "cell_type": "code",
   "execution_count": null,
   "metadata": {
    "id": "a1ebr3G7J0GD"
   },
   "outputs": [],
   "source": [
    "import pandas as pd\n",
    "\n",
    "df = pd.read_csv('/content/drive/MyDrive/Digital Twin Study/Mehmet Can/Datasets/Test/all_distances_emb_dim_200_clear_updated.csv')\n",
    "\n",
    "def determine_pass_fail(row):\n",
    "    pass_fail_results = []\n",
    "\n",
    "    test_drugs = eval(row['TEST_DRUGS'])\n",
    "    subject_drugs = eval(row['SUBJECT_CUI'])\n",
    "    manhattan_distances = eval(row['MANHATTAN_DIST'])\n",
    "    cosine_similarities = eval(row['COSINE_SIM'])\n",
    "    euclidean_distances = eval(row['EUCLIDEAN_DIST'])\n",
    "\n",
    "    manhattan_mean = row['MANHATTAN_MEAN']\n",
    "    cosine_mean = row['COSINE_MEAN']\n",
    "    euclidean_mean = row['EUCLIDEAN_MEAN']\n",
    "\n",
    "    for test_drug in test_drugs:\n",
    "        pass_found = False\n",
    "        fail_conditions = 3  # Start with all conditions failing\n",
    "\n",
    "        for subject_drug in subject_drugs:\n",
    "            pair = f'({test_drug},{subject_drug})'\n",
    "\n",
    "            manhattan_pass = manhattan_distances.get(pair, 0) < manhattan_mean\n",
    "            cosine_pass = cosine_similarities.get(pair, 0) > cosine_mean\n",
    "            euclidean_pass = euclidean_distances.get(pair, 0) < euclidean_mean\n",
    "\n",
    "            conditions_met = sum([manhattan_pass, cosine_pass, euclidean_pass])\n",
    "            fail_conditions = 3 - conditions_met  # Calculate fail conditions\n",
    "\n",
    "            if conditions_met >= 2:\n",
    "                pass_found = True\n",
    "                break\n",
    "\n",
    "        if pass_found:\n",
    "            pass_fail_results.append(f'PASS_{conditions_met}_{test_drug}')\n",
    "        else:\n",
    "            pass_fail_results.append(f'FAIL_{fail_conditions}_{test_drug}')\n",
    "\n",
    "    return pass_fail_results\n",
    "\n",
    "df['PASS_FAIL'] = df.apply(determine_pass_fail, axis=1)\n",
    "\n",
    "df.to_csv('/content/drive/MyDrive/Digital Twin Study/Mehmet Can/Datasets/Test/all_distances_emb_200_new.csv', index=False)\n"
   ]
  },
  {
   "cell_type": "code",
   "execution_count": null,
   "metadata": {
    "colab": {
     "base_uri": "https://localhost:8080/"
    },
    "id": "NrKpGx6zJ5RV",
    "outputId": "efcc1eec-fd0a-4233-fc41-2682a8300134"
   },
   "outputs": [
    {
     "name": "stdout",
     "output_type": "stream",
     "text": [
      "Total PASS: 707\n",
      "Total FAIL: 792\n"
     ]
    }
   ],
   "source": [
    "import pandas as pd\n",
    "df = pd.read_csv('/content/drive/MyDrive/Digital Twin Study/Mehmet Can/Datasets/Test/all_distances_emb_200_clear_with_pass_fail.csv')\n",
    "\n",
    "# Function to count total PASS and FAIL\n",
    "\n",
    "def count_pass_fail(pass_fail_column):\n",
    "    pass_count = 0\n",
    "    fail_count = 0\n",
    "    for entry in pass_fail_column:\n",
    "        for result in entry.split(', '):\n",
    "            if 'PASS' in result:\n",
    "                pass_count += 1\n",
    "            elif 'FAIL' in result:\n",
    "                fail_count += 1\n",
    "    return pass_count, fail_count\n",
    "\n",
    "pass_count, fail_count = count_pass_fail(df['PASS_FAIL'])\n",
    "\n",
    "print(f\"Total PASS: {pass_count}\")\n",
    "print(f\"Total FAIL: {fail_count}\")\n"
   ]
  },
  {
   "cell_type": "markdown",
   "metadata": {
    "id": "86ZPCUTCLknB"
   },
   "source": [
    "### Clean the Dataset's Brackets"
   ]
  },
  {
   "cell_type": "code",
   "execution_count": null,
   "metadata": {
    "colab": {
     "base_uri": "https://localhost:8080/"
    },
    "id": "QT8JnDXwLn95",
    "outputId": "88caa0f6-89fb-4d06-8588-2382bd748ab2"
   },
   "outputs": [
    {
     "name": "stdout",
     "output_type": "stream",
     "text": [
      "Cleaned file saved to /content/drive/MyDrive/Digital Twin Study/Mehmet Can/Datasets/Test/Final/all_distances_emb_200_clean.csv\n"
     ]
    }
   ],
   "source": [
    "import pandas as pd\n",
    "\n",
    "data = pd.read_csv('/content/drive/MyDrive/Digital Twin Study/Mehmet Can/Datasets/Test/Final/all_distances_emb_200.csv')\n",
    "\n",
    "data['OBJECT_CUI'] = data['OBJECT_CUI'].str.strip(\"[]\")\n",
    "data['SUBJECT_CUI'] = data['SUBJECT_CUI'].str.strip(\"[]\")\n",
    "data['TEST_DRUGS'] = data['TEST_DRUGS'].str.strip(\"[]\")\n",
    "data['PASS_FAIL'] = data['PASS_FAIL'].str.strip(\"[]\")\n",
    "\n",
    "data['MANHATTAN_DIST'] = data['MANHATTAN_DIST'].str.strip(\"{}\")\n",
    "data['EUCLIDEAN_DIST'] = data['EUCLIDEAN_DIST'].str.strip(\"{}\")\n",
    "data['COSINE_SIM'] = data['COSINE_SIM'].str.strip(\"{}\")\n",
    "\n",
    "\n",
    "cleaned_file_path = '/content/drive/MyDrive/Digital Twin Study/Mehmet Can/Datasets/Test/Final/all_distances_emb_200_clean.csv'  # Replace with your desired output path\n",
    "data.to_csv(cleaned_file_path, index=False)\n",
    "\n",
    "print(f\"Cleaned file saved to {cleaned_file_path}\")\n"
   ]
  },
  {
   "cell_type": "code",
   "execution_count": null,
   "metadata": {
    "colab": {
     "base_uri": "https://localhost:8080/"
    },
    "id": "NTkh3_-YDfBZ",
    "outputId": "1f56206c-5966-448f-ed63-b9cb7cc8008c"
   },
   "outputs": [
    {
     "name": "stdout",
     "output_type": "stream",
     "text": [
      "THRESHOLD sütunları doğru formatta eklendi ve kaydedildi.\n"
     ]
    }
   ],
   "source": [
    "import pandas as pd\n",
    "\n",
    "df = pd.read_csv('/content/drive/MyDrive/Digital Twin Study/Mehmet Can/Datasets/Test/Temp/all_distances_emb_150_clear_with_pass_fail_cleaned.csv')\n",
    "\n",
    "df['THRESHOLD_MANHATTAN'] = 60.5927\n",
    "df['THRESHOLD_COSINE_SIM'] = 0.6362\n",
    "df['THRESHOLD_EUCLIDEAN'] = 6.1952\n",
    "\n",
    "df['THRESHOLD_MANHATTAN'] = df['THRESHOLD_MANHATTAN'].map('{:.4f}'.format)\n",
    "df['THRESHOLD_COSINE_SIM'] = df['THRESHOLD_COSINE_SIM'].map('{:.4f}'.format)\n",
    "df['THRESHOLD_EUCLIDEAN'] = df['THRESHOLD_EUCLIDEAN'].map('{:.4f}'.format)\n",
    "\n",
    "df.to_csv(\n",
    "    '/content/drive/MyDrive/Digital Twin Study/Mehmet Can/Datasets/Test/Temp/all_distances_emb_150_clear_with_pass_fail_cleaned.csv',\n",
    "    index=False\n",
    ")\n",
    "\n",
    "\n"
   ]
  },
  {
   "cell_type": "code",
   "execution_count": null,
   "metadata": {
    "colab": {
     "base_uri": "https://localhost:8080/"
    },
    "id": "kfaOKzqcGWi6",
    "outputId": "9e2450fe-2287-4a05-e598-50c5b95bf036"
   },
   "outputs": [
    {
     "name": "stdout",
     "output_type": "stream",
     "text": [
      "Updated dataset saved to /content/drive/MyDrive/Digital Twin Study/Mehmet Can/Datasets/01-150/drugs_with_distances_and_similarities_150_01_cleaned_updated.csv\n"
     ]
    }
   ],
   "source": [
    "import pandas as pd\n",
    "import ast  # To safely parse string representations of dictionaries\n",
    "\n",
    "input_file = \"/content/drive/MyDrive/Digital Twin Study/Mehmet Can/Datasets/01-150/drugs_with_distances_and_similarities_150_01_cleaned.csv\"\n",
    "output_file = \"/content/drive/MyDrive/Digital Twin Study/Mehmet Can/Datasets/01-150/drugs_with_distances_and_similarities_150_01_cleaned_updated.csv\"\n",
    "\n",
    "df = pd.read_csv(input_file)\n",
    "\n",
    "def calculate_means(row):\n",
    "    manhattan_dist = ast.literal_eval(row[\"Manhattan_Distances\"])\n",
    "    cosine_sim = ast.literal_eval(row[\"Cosine_Similarities\"])\n",
    "    euclidean_dist = ast.literal_eval(row[\"Euclidean_Distances\"])\n",
    "\n",
    "    manhattan_mean = sum(manhattan_dist.values()) / len(manhattan_dist)\n",
    "    cosine_mean = sum(cosine_sim.values()) / len(cosine_sim)\n",
    "    euclidean_mean = sum(euclidean_dist.values()) / len(euclidean_dist)\n",
    "\n",
    "    return pd.Series([manhattan_mean, cosine_mean, euclidean_mean])\n",
    "\n",
    "df[[\"MANHATTAN_MEAN\", \"COSINE_MEAN\", \"EUCLIDEAN_MEAN\"]] = df.apply(calculate_means, axis=1)\n",
    "df.to_csv(output_file, index=False)\n",
    "\n",
    "print(f\"Updated dataset saved to {output_file}\")\n"
   ]
  },
  {
   "cell_type": "code",
   "execution_count": null,
   "metadata": {
    "colab": {
     "base_uri": "https://localhost:8080/"
    },
    "id": "zch08F_Y3p_W",
    "outputId": "25d0ae36-3d8f-4cf5-c9dc-c73aca6571a8"
   },
   "outputs": [
    {
     "name": "stdout",
     "output_type": "stream",
     "text": [
      "    OBJECT_CUI                                        SUBJECT_CUI  \\\n",
      "0     C0001206                                       ['C0023863']   \n",
      "1     C0001627  ['C0005308', 'C0056391', 'C0025815', 'C0600901...   \n",
      "2     C0002171   ['C0040864', 'C0040866', 'C0040867', 'C0077004']   \n",
      "3     C0002395               ['C0001040', 'C3714499', 'C0051691']   \n",
      "4     C0002726               ['C0001047', 'C0010654', 'C2745274']   \n",
      "..         ...                                                ...   \n",
      "252   C2267227                                       ['C0016365']   \n",
      "253   C2316304                                       ['C3853822']   \n",
      "254   C2585890                                       ['C0796392']   \n",
      "255   C2973725  ['C1176329', 'C0053336', 'C0252643', 'C0033567...   \n",
      "256   C3495559  ['C0018033', 'C0005308', 'C0538927', 'C0056391...   \n",
      "\n",
      "                                            TEST_DRUGS  \\\n",
      "0                 ['C0013030', 'C0023570', 'C0037659']   \n",
      "1    ['C0014563', 'C0544368', 'C0025819', 'C0032952...   \n",
      "2                                         ['C1619966']   \n",
      "3    ['C0167117', 'C0016377', 'C0060657', 'C0021547...   \n",
      "4                             ['C1176309', 'C0011777']   \n",
      "..                                                 ...   \n",
      "252                                       ['C0001047']   \n",
      "253                           ['C0290883', 'C0008838']   \n",
      "254   ['C0079083', 'C5834323', 'C0025598', 'C0210657']   \n",
      "255  ['C0054836', 'C0935989', 'C0027235', 'C0025598...   \n",
      "256               ['C1690432', 'C0717758', 'C0666743']   \n",
      "\n",
      "                                        MANHATTAN_DIST  \\\n",
      "0    {'(C0013030,C0023863)': 127.510286, '(C0023570...   \n",
      "1    {'(C0014563,C0005308)': 105.184814, '(C0014563...   \n",
      "2    {'(C1619966,C0040864)': 75.400151, '(C1619966,...   \n",
      "3    {'(C0167117,C0001040)': 86.738683, '(C0167117,...   \n",
      "4    {'(C1176309,C0001047)': 71.504763, '(C1176309,...   \n",
      "..                                                 ...   \n",
      "252                 {'(C0001047,C0016365)': 79.049584}   \n",
      "253  {'(C0290883,C3853822)': 58.1232, '(C0008838,C3...   \n",
      "254  {'(C0079083,C0796392)': 58.243064, '(C5834323,...   \n",
      "255  {'(C0054836,C1176329)': 60.230087, '(C0054836,...   \n",
      "256  {'(C1690432,C0018033)': 79.443547, '(C1690432,...   \n",
      "\n",
      "                                            COSINE_SIM  \\\n",
      "0    {'(C0013030,C0023863)': 0.214092, '(C0023570,C...   \n",
      "1    {'(C0014563,C0005308)': 0.4239, '(C0014563,C00...   \n",
      "2    {'(C1619966,C0040864)': 0.494434, '(C1619966,C...   \n",
      "3    {'(C0167117,C0001040)': 0.142221, '(C0167117,C...   \n",
      "4    {'(C1176309,C0001047)': 0.495121, '(C1176309,C...   \n",
      "..                                                 ...   \n",
      "252                  {'(C0001047,C0016365)': 0.456825}   \n",
      "253  {'(C0290883,C3853822)': 0.400214, '(C0008838,C...   \n",
      "254  {'(C0079083,C0796392)': 0.631935, '(C5834323,C...   \n",
      "255  {'(C0054836,C1176329)': 0.512709, '(C0054836,C...   \n",
      "256  {'(C1690432,C0018033)': 0.15169, '(C1690432,C0...   \n",
      "\n",
      "                                        EUCLIDEAN_DIST  MANHATTAN_MEAN  \\\n",
      "0    {'(C0013030,C0023863)': 13.371434, '(C0023570,...             NaN   \n",
      "1    {'(C0014563,C0005308)': 11.218868, '(C0014563,...       65.387822   \n",
      "2    {'(C1619966,C0040864)': 7.822054, '(C1619966,C...       64.919988   \n",
      "3    {'(C0167117,C0001040)': 9.146001, '(C0167117,C...       48.196792   \n",
      "4    {'(C1176309,C0001047)': 7.216502, '(C1176309,C...       84.514460   \n",
      "..                                                 ...             ...   \n",
      "252                  {'(C0001047,C0016365)': 8.178647}             NaN   \n",
      "253  {'(C0290883,C3853822)': 5.975795, '(C0008838,C...             NaN   \n",
      "254  {'(C0079083,C0796392)': 5.968715, '(C5834323,C...             NaN   \n",
      "255  {'(C0054836,C1176329)': 6.079945, '(C0054836,C...       63.806353   \n",
      "256  {'(C1690432,C0018033)': 7.771383, '(C1690432,C...       70.073990   \n",
      "\n",
      "     COSINE_MEAN  EUCLIDEAN_MEAN  \n",
      "0            NaN             NaN  \n",
      "1       0.733382        6.576892  \n",
      "2       0.695811        6.555724  \n",
      "3       0.608787        4.830326  \n",
      "4       0.238397        8.775192  \n",
      "..           ...             ...  \n",
      "252          NaN             NaN  \n",
      "253          NaN             NaN  \n",
      "254          NaN             NaN  \n",
      "255     0.521366        6.539766  \n",
      "256     0.555785        7.168078  \n",
      "\n",
      "[257 rows x 9 columns]\n"
     ]
    }
   ],
   "source": [
    "import pandas as pd\n",
    "\n",
    "file_path_1 =  \"/content/drive/MyDrive/Digital Twin Study/Mehmet Can/Datasets/01-150/drugs_with_distances_and_similarities_150_01_cleaned_updated.csv\"\n",
    "file_path_2 = \"/content/drive/MyDrive/Digital Twin Study/Mehmet Can/Datasets/Test/all_distances_emb_dim_150_clear.csv\"\n",
    "\n",
    "df1 = pd.read_csv(file_path_1)\n",
    "df2 = pd.read_csv(file_path_2)\n",
    "\n",
    "merged_df = df2.merge(\n",
    "    df1[['OBJECT_CUI', 'MANHATTAN_MEAN', 'COSINE_MEAN', 'EUCLIDEAN_MEAN']],\n",
    "    on='OBJECT_CUI',\n",
    "    how='left'\n",
    ")\n",
    "\n",
    "merged_df.to_csv(\"/content/drive/MyDrive/Digital Twin Study/Mehmet Can/Datasets/Test/all_distances_emb_dim_150_clear_meaned.csv\", index=False)\n",
    "print(merged_df)\n"
   ]
  },
  {
   "cell_type": "code",
   "execution_count": null,
   "metadata": {
    "colab": {
     "base_uri": "https://localhost:8080/"
    },
    "id": "ELjZ792h4tf2",
    "outputId": "db6bd2af-a569-4264-81aa-858623183c43"
   },
   "outputs": [
    {
     "name": "stdout",
     "output_type": "stream",
     "text": [
      "    OBJECT_CUI                                        SUBJECT_CUI  \\\n",
      "1     C0001627  ['C0005308', 'C0056391', 'C0025815', 'C0600901...   \n",
      "2     C0002171   ['C0040864', 'C0040866', 'C0040867', 'C0077004']   \n",
      "3     C0002395               ['C0001040', 'C3714499', 'C0051691']   \n",
      "4     C0002726               ['C0001047', 'C0010654', 'C2745274']   \n",
      "5     C0002874                           ['C0030072', 'C2364481']   \n",
      "..         ...                                                ...   \n",
      "243   C1269683  ['C3885614', 'C1880288', 'C0013065', 'C0066624...   \n",
      "247   C1384606   ['C0014938', 'C0012145', 'C1313616', 'C0011185']   \n",
      "249   C1527383                           ['C0000473', 'C0053225']   \n",
      "255   C2973725  ['C1176329', 'C0053336', 'C0252643', 'C0033567...   \n",
      "256   C3495559  ['C0018033', 'C0005308', 'C0538927', 'C0056391...   \n",
      "\n",
      "                                            TEST_DRUGS  \\\n",
      "1    ['C0014563', 'C0544368', 'C0025819', 'C0032952...   \n",
      "2                                         ['C1619966']   \n",
      "3    ['C0167117', 'C0016377', 'C0060657', 'C0021547...   \n",
      "4                             ['C1176309', 'C0011777']   \n",
      "5    ['C0962603', 'C0383429', 'C0771204', 'C0006463...   \n",
      "..                                                 ...   \n",
      "243  ['C0011785', 'C1873633', 'C0700189', 'C2003424...   \n",
      "247                           ['C0025826', 'C0039601']   \n",
      "249                           ['C0006674', 'C0165032']   \n",
      "255  ['C0054836', 'C0935989', 'C0027235', 'C0025598...   \n",
      "256               ['C1690432', 'C0717758', 'C0666743']   \n",
      "\n",
      "                                        MANHATTAN_DIST  \\\n",
      "1    {'(C0014563,C0005308)': 105.184814, '(C0014563...   \n",
      "2    {'(C1619966,C0040864)': 75.400151, '(C1619966,...   \n",
      "3    {'(C0167117,C0001040)': 86.738683, '(C0167117,...   \n",
      "4    {'(C1176309,C0001047)': 71.504763, '(C1176309,...   \n",
      "5    {'(C0962603,C0030072)': 83.460529, '(C0962603,...   \n",
      "..                                                 ...   \n",
      "243  {'(C0011785,C3885614)': 70.345689, '(C0011785,...   \n",
      "247  {'(C0025826,C0014938)': 38.559778, '(C0025826,...   \n",
      "249  {'(C0006674,C0000473)': 91.650007, '(C0006674,...   \n",
      "255  {'(C0054836,C1176329)': 60.230087, '(C0054836,...   \n",
      "256  {'(C1690432,C0018033)': 79.443547, '(C1690432,...   \n",
      "\n",
      "                                            COSINE_SIM  \\\n",
      "1    {'(C0014563,C0005308)': 0.4239, '(C0014563,C00...   \n",
      "2    {'(C1619966,C0040864)': 0.494434, '(C1619966,C...   \n",
      "3    {'(C0167117,C0001040)': 0.142221, '(C0167117,C...   \n",
      "4    {'(C1176309,C0001047)': 0.495121, '(C1176309,C...   \n",
      "5    {'(C0962603,C0030072)': 0.139601, '(C0962603,C...   \n",
      "..                                                 ...   \n",
      "243  {'(C0011785,C3885614)': 0.108292, '(C0011785,C...   \n",
      "247  {'(C0025826,C0014938)': 0.717961, '(C0025826,C...   \n",
      "249  {'(C0006674,C0000473)': -0.144171, '(C0006674,...   \n",
      "255  {'(C0054836,C1176329)': 0.512709, '(C0054836,C...   \n",
      "256  {'(C1690432,C0018033)': 0.15169, '(C1690432,C0...   \n",
      "\n",
      "                                        EUCLIDEAN_DIST  MANHATTAN_MEAN  \\\n",
      "1    {'(C0014563,C0005308)': 11.218868, '(C0014563,...       65.387822   \n",
      "2    {'(C1619966,C0040864)': 7.822054, '(C1619966,C...       64.919988   \n",
      "3    {'(C0167117,C0001040)': 9.146001, '(C0167117,C...       48.196792   \n",
      "4    {'(C1176309,C0001047)': 7.216502, '(C1176309,C...       84.514460   \n",
      "5    {'(C0962603,C0030072)': 8.651391, '(C0962603,C...       48.553616   \n",
      "..                                                 ...             ...   \n",
      "243  {'(C0011785,C3885614)': 7.516503, '(C0011785,C...       45.412839   \n",
      "247  {'(C0025826,C0014938)': 4.078336, '(C0025826,C...       57.293286   \n",
      "249  {'(C0006674,C0000473)': 9.433517, '(C0006674,C...       35.456562   \n",
      "255  {'(C0054836,C1176329)': 6.079945, '(C0054836,C...       63.806353   \n",
      "256  {'(C1690432,C0018033)': 7.771383, '(C1690432,C...       70.073990   \n",
      "\n",
      "     COSINE_MEAN  EUCLIDEAN_MEAN  \n",
      "1       0.733382        6.576892  \n",
      "2       0.695811        6.555724  \n",
      "3       0.608787        4.830326  \n",
      "4       0.238397        8.775192  \n",
      "5       0.682369        4.945298  \n",
      "..           ...             ...  \n",
      "243     0.672417        4.577205  \n",
      "247     0.476027        5.875829  \n",
      "249     0.828245        3.636008  \n",
      "255     0.521366        6.539766  \n",
      "256     0.555785        7.168078  \n",
      "\n",
      "[186 rows x 9 columns]\n"
     ]
    }
   ],
   "source": [
    "import pandas as pd\n",
    "\n",
    "file_path = \"/content/drive/MyDrive/Digital Twin Study/Mehmet Can/Datasets/Test/all_distances_emb_dim_150_clear_meaned.csv\"\n",
    "\n",
    "df = pd.read_csv(file_path)\n",
    "\n",
    "df_cleaned = df.dropna(subset=['MANHATTAN_MEAN'])\n",
    "cleaned_file_path = \"/content/drive/MyDrive/Digital Twin Study/Mehmet Can/Datasets/Test/all_distances_emb_dim_150_clear_meaned_new.csv\"\n",
    "df_cleaned.to_csv(cleaned_file_path, index=False)\n",
    "\n",
    "print(df_cleaned)\n"
   ]
  },
  {
   "cell_type": "code",
   "execution_count": null,
   "metadata": {
    "id": "TaYo7L_WeVR0"
   },
   "outputs": [],
   "source": [
    "import pandas as pd\n",
    "\n",
    "# Load the dataset\n",
    "df = pd.read_csv('/content/drive/MyDrive/Digital Twin Study/Mehmet Can/Datasets/Test/all_distances_emb_dim_200_clear_updated.csv')\n",
    "\n",
    "# Define the function to determine pass/fail\n",
    "def determine_pass_fail(row):\n",
    "    pass_fail_results = []\n",
    "\n",
    "    test_drugs = eval(row['TEST_DRUGS'])\n",
    "    subject_drugs = eval(row['SUBJECT_CUI'])\n",
    "    manhattan_distances = eval(row['MANHATTAN_DIST'])\n",
    "    cosine_similarities = eval(row['COSINE_SIM'])\n",
    "    euclidean_distances = eval(row['EUCLIDEAN_DIST'])\n",
    "\n",
    "    # Use dynamic thresholds from the row\n",
    "    manhattan_mean = row['MANHATTAN_MEAN']\n",
    "    cosine_mean = row['COSINE_MEAN']\n",
    "    euclidean_mean = row['EUCLIDEAN_MEAN']\n",
    "\n",
    "    for test_drug in test_drugs:\n",
    "        pass_found = False\n",
    "        fail_conditions = 3  # Start with all conditions failing\n",
    "\n",
    "        for subject_drug in subject_drugs:\n",
    "            pair = f'({test_drug},{subject_drug})'\n",
    "\n",
    "            # Apply the dynamic thresholds\n",
    "            manhattan_pass = manhattan_distances.get(pair, 0) < manhattan_mean\n",
    "            cosine_pass = cosine_similarities.get(pair, 0) > cosine_mean\n",
    "            euclidean_pass = euclidean_distances.get(pair, 0) < euclidean_mean\n",
    "\n",
    "            # Count conditions met\n",
    "            conditions_met = sum([manhattan_pass, cosine_pass, euclidean_pass])\n",
    "            fail_conditions = 3 - conditions_met  # Calculate fail conditions\n",
    "\n",
    "            if conditions_met >= 2:\n",
    "                pass_found = True\n",
    "                break\n",
    "\n",
    "        # Append result for the test drug\n",
    "        if pass_found:\n",
    "            pass_fail_results.append(f'PASS_{conditions_met}_{test_drug}')\n",
    "        else:\n",
    "            pass_fail_results.append(f'FAIL_{fail_conditions}_{test_drug}')\n",
    "\n",
    "    return pass_fail_results\n",
    "\n",
    "# Apply the function to the DataFrame\n",
    "df['PASS_FAIL'] = df.apply(determine_pass_fail, axis=1)\n",
    "\n",
    "# Save the updated DataFrame to a new CSV file\n",
    "df.to_csv('/content/drive/MyDrive/Digital Twin Study/Mehmet Can/Datasets/Test/all_distances_emb_200_new.csv', index=False)\n"
   ]
  }
 ],
 "metadata": {
  "colab": {
   "collapsed_sections": [
    "RfhC6iLDrcjC",
    "tgJ8LKd1rz7T",
    "em9djlbqr8q_",
    "THAV0SlGsB0c",
    "FNs026W5sIyh",
    "3aM8kcy9sOTN",
    "vsuOb28O0fH1",
    "mfl4n-PA1pjO",
    "bMjVANH02UbP",
    "xPOkAhKF5ELi",
    "sx4N7Gxb5HW7",
    "8pBjjhUq5JBc",
    "JhqwKqHf730L",
    "05aOqyzD8loI",
    "Nz5jOljb9EPZ",
    "WhhujvV__tf0"
   ],
   "provenance": []
  },
  "kernelspec": {
   "display_name": "Python 3",
   "name": "python3"
  },
  "language_info": {
   "name": "python"
  }
 },
 "nbformat": 4,
 "nbformat_minor": 0
}
